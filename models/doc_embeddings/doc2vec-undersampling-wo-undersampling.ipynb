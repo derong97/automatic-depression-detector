{
 "cells": [
  {
   "cell_type": "markdown",
   "metadata": {},
   "source": [
    "# Import necessary modules"
   ]
  },
  {
   "cell_type": "code",
   "execution_count": 1,
   "metadata": {},
   "outputs": [
    {
     "name": "stdout",
     "output_type": "stream",
     "text": [
      "Requirement already satisfied: gensim in /opt/conda/lib/python3.6/site-packages (3.8.3)\n",
      "Requirement already satisfied: smart-open>=1.8.1 in /opt/conda/lib/python3.6/site-packages (from gensim) (4.0.1)\n",
      "Requirement already satisfied: numpy>=1.11.3 in /opt/conda/lib/python3.6/site-packages (from gensim) (1.18.5)\n",
      "Requirement already satisfied: scipy>=0.18.1 in /opt/conda/lib/python3.6/site-packages (from gensim) (1.4.1)\n",
      "Requirement already satisfied: six>=1.5.0 in /opt/conda/lib/python3.6/site-packages (from gensim) (1.15.0)\n"
     ]
    }
   ],
   "source": [
    "!pip install gensim\n",
    "\n",
    "# Standard libraries\n",
    "import pandas as pd\n",
    "import numpy as np\n",
    "import matplotlib.pyplot as plt\n",
    "from pathlib import Path\n",
    "\n",
    "# Processing\n",
    "from sklearn.base import clone\n",
    "from sklearn.utils import shuffle\n",
    "from sklearn.model_selection import RepeatedKFold\n",
    "from tqdm import tqdm\n",
    "import random\n",
    "\n",
    "# gensim\n",
    "import gensim\n",
    "from gensim.models import doc2vec\n",
    "from gensim.models.doc2vec import TaggedDocument\n",
    "\n",
    "# Metrics\n",
    "from sklearn import utils\n",
    "from sklearn.metrics import f1_score, recall_score\n",
    "\n",
    "# Classifiers\n",
    "from sklearn.linear_model import LogisticRegression\n",
    "from sklearn.tree import DecisionTreeClassifier\n",
    "from sklearn.ensemble import RandomForestClassifier\n",
    "from sklearn.svm import SVC\n",
    "from sklearn.model_selection import GridSearchCV"
   ]
  },
  {
   "cell_type": "markdown",
   "metadata": {},
   "source": [
    "# Prepare data"
   ]
  },
  {
   "cell_type": "code",
   "execution_count": 2,
   "metadata": {},
   "outputs": [
    {
     "data": {
      "text/html": [
       "<div>\n",
       "<style scoped>\n",
       "    .dataframe tbody tr th:only-of-type {\n",
       "        vertical-align: middle;\n",
       "    }\n",
       "\n",
       "    .dataframe tbody tr th {\n",
       "        vertical-align: top;\n",
       "    }\n",
       "\n",
       "    .dataframe thead th {\n",
       "        text-align: right;\n",
       "    }\n",
       "</style>\n",
       "<table border=\"1\" class=\"dataframe\">\n",
       "  <thead>\n",
       "    <tr style=\"text-align: right;\">\n",
       "      <th></th>\n",
       "      <th>Transcript</th>\n",
       "      <th>PHQ_Score</th>\n",
       "      <th>PHQ_Binary</th>\n",
       "    </tr>\n",
       "    <tr>\n",
       "      <th>Participant_ID</th>\n",
       "      <th></th>\n",
       "      <th></th>\n",
       "      <th></th>\n",
       "    </tr>\n",
       "  </thead>\n",
       "  <tbody>\n",
       "    <tr>\n",
       "      <th>300</th>\n",
       "      <td>good atlanta georgia um my parents um i love i...</td>\n",
       "      <td>2</td>\n",
       "      <td>0</td>\n",
       "    </tr>\n",
       "    <tr>\n",
       "      <th>301</th>\n",
       "      <td>thank you mmm k i good thank you i los angeles...</td>\n",
       "      <td>3</td>\n",
       "      <td>0</td>\n",
       "    </tr>\n",
       "    <tr>\n",
       "      <th>302</th>\n",
       "      <td>i fine yourself i los angeles california part ...</td>\n",
       "      <td>4</td>\n",
       "      <td>0</td>\n",
       "    </tr>\n",
       "    <tr>\n",
       "      <th>303</th>\n",
       "      <td>okay bout yourself california yeah oh well it ...</td>\n",
       "      <td>0</td>\n",
       "      <td>0</td>\n",
       "    </tr>\n",
       "    <tr>\n",
       "      <th>304</th>\n",
       "      <td>i good um los angeles california um cool weath...</td>\n",
       "      <td>6</td>\n",
       "      <td>0</td>\n",
       "    </tr>\n",
       "  </tbody>\n",
       "</table>\n",
       "</div>"
      ],
      "text/plain": [
       "                                                       Transcript  PHQ_Score  \\\n",
       "Participant_ID                                                                 \n",
       "300             good atlanta georgia um my parents um i love i...          2   \n",
       "301             thank you mmm k i good thank you i los angeles...          3   \n",
       "302             i fine yourself i los angeles california part ...          4   \n",
       "303             okay bout yourself california yeah oh well it ...          0   \n",
       "304             i good um los angeles california um cool weath...          6   \n",
       "\n",
       "                PHQ_Binary  \n",
       "Participant_ID              \n",
       "300                      0  \n",
       "301                      0  \n",
       "302                      0  \n",
       "303                      0  \n",
       "304                      0  "
      ]
     },
     "execution_count": 2,
     "metadata": {},
     "output_type": "execute_result"
    }
   ],
   "source": [
    "df = pd.read_csv(\"clean_compiled_transcripts.csv\", index_col = \"Participant_ID\")\n",
    "df.head()"
   ]
  },
  {
   "cell_type": "markdown",
   "metadata": {},
   "source": [
    "## Split the dataset (skip if you have the numpy data) "
   ]
  },
  {
   "cell_type": "code",
   "execution_count": 3,
   "metadata": {},
   "outputs": [],
   "source": [
    "X = df.Transcript\n",
    "y = df.PHQ_Binary"
   ]
  },
  {
   "cell_type": "code",
   "execution_count": 4,
   "metadata": {},
   "outputs": [],
   "source": [
    "def train_test(X, y, testfile='test_split_Depression_AVEC2017.csv'):\n",
    "    test_participants = pd.read_csv(testfile)['participant_ID'].values\n",
    "    X_train = []\n",
    "    X_test = []\n",
    "    y_train = []\n",
    "    y_test = []\n",
    "    \n",
    "    for i in range(y.shape[0]):\n",
    "        participant_no = y.index[i]\n",
    "        \n",
    "        if participant_no in test_participants:\n",
    "            X_test.append(X[participant_no])\n",
    "            y_test.append(y[participant_no])\n",
    "        else:\n",
    "            X_train.append(X[participant_no])\n",
    "            y_train.append(y[participant_no])\n",
    "    \n",
    "    return np.array(X_train), np.array(X_test), np.array(y_train), np.array(y_test)\n",
    "\n",
    "X_train, X_test, y_train, y_test = train_test(X, y)"
   ]
  },
  {
   "cell_type": "code",
   "execution_count": 5,
   "metadata": {},
   "outputs": [
    {
     "data": {
      "text/plain": [
       "((136,), (45,), (136,), (45,))"
      ]
     },
     "execution_count": 5,
     "metadata": {},
     "output_type": "execute_result"
    }
   ],
   "source": [
    "# shuffle the train data in unison because data is in order\n",
    "# reduces poor performance during k-cross validation when sampling data\n",
    "\n",
    "RANDOM_STATE = 42\n",
    "\n",
    "X_train, y_train = shuffle(X_train, y_train, random_state=RANDOM_STATE)\n",
    "\n",
    "X_train.shape, X_test.shape, y_train.shape, y_test.shape"
   ]
  },
  {
   "cell_type": "markdown",
   "metadata": {},
   "source": [
    "## Label sentences (skip if you have the numpy data)"
   ]
  },
  {
   "cell_type": "code",
   "execution_count": 6,
   "metadata": {},
   "outputs": [],
   "source": [
    "def label_sentences(corpus, label_type):\n",
    "    \"\"\"\n",
    "    Gensim's Doc2Vec implementation requires each document/paragraph to have a label associated with it.\n",
    "    We do this by using the TaggedDocument method. The format will be \"TRAIN_i\" or \"TEST_i\" where \"i\" is\n",
    "    a dummy index of the post.\n",
    "    \"\"\"\n",
    "    labeled = []\n",
    "    for i, v in enumerate(corpus):\n",
    "        label = label_type + '_' + str(i)\n",
    "        labeled.append(doc2vec.TaggedDocument(v.split(), [label]))\n",
    "    return labeled"
   ]
  },
  {
   "cell_type": "code",
   "execution_count": 7,
   "metadata": {},
   "outputs": [
    {
     "data": {
      "text/plain": [
       "[TaggedDocument(words=['sure', 'i', 'good', 'i', 'caught', 'cold', 'morning', 'la', 'born', 'raised', 'born', 'raised', 'it', 'home', 'food', 'people', 'culture', 'traffic', 'uh', 'lot', 'us', 'many', 'us', 'probably', 'oh', 'i', 'past', 'i', 'traveled', 'lately', 'uh', 'destination', 'i', 'enjoy', 'traveling', 'anymore', 'i', 'i', 'young', 'longer', 'it', 'destination', 'point', 'mm', 'okay', 'uh', 'ninety', 'two', 'i', 'went', 'spain', 'my', 'grandma', 'my', 'fathers', 'mother', 'born', 'spain', 'i', 'went', 'back', 'trace', 'her', 'roots', 'i', 'spent', 'week', 'madrid', 'week', 'barcelona', 'week', 'majorca', 'great', 'time', 'i', 'enjoyed', 'it', 'ooh', 'it', 'everyday', 'thing', 'people', 'friendly', 'uh', 'finding', 'things', 'my', 'grandmother', 'her', 'family', 'interesting', 'uh', 'i', 'studied', 'uh', 'poly', 'sci', 'uh', 'sociology', 'uh', 'well', 'time', 'it', 'seemed', 'like', 'easiest', 'thing', 'uh', 'well', 'i', 'my', 'dream', 'job', 'i', 'sports', 'research', 'uh', 'native', 'american', 'tribes', 'uh', 'yeah', 'i', 'enjoyed', 'it', 'uh', 'it', 'uh', 'often', 'it', 'mainly', 'uh', 'sports', 'bureaus', 'exist', 'exist', 'i', 'started', 'i', 'still', 'i', 'i', 'still', 'enjoy', 'it', 'uh', 'i', 'i', 'suits', 'me', 'given', 'situation', 'uh', 'listen', 'music', 'uh', 'i', 'like', 'oldies', 'jazz', 'mm', 'soft', 'music', 'uh', 'i', 'learned', 'it', 'well', 'i', 'always', 'way', 'i', 'learned', 'it', 'well', 'arguing', 'i', 'assume', 'you', 'mean', 'words', 'uh', 'my', 'youngest', 'daughter', 'it', 'uh', 'year', 'half', 'ago', 'uh', 'well', 'it', 'it', 'stemmed', 'incident', 'i', 'like', 'way', 'her', 'husband', 'said', 'something', 'her', 'it', 'bothered', 'me', 'i', 'told', 'her', 'she', 'got', 'extremely', 'defensive', 'rather', 'deal', 'it', 'she', 'became', 'she', 'became', 'angry', 'me', 'i', 'mad', 'uh', 'three', 'girls', 'thirty', 'eight', 'thirty', 'seven', 'thirty', 'one', 'uh', 'three', 'granddaughters', 'eleven', 'fourteen', 'eighteen', 'i', 'argument', 'long', 'time', 'i', 'adore', 'six', 'them', 'uh', 'well', 'i', 'really', 'consider', 'myself', 'parent', 'since', 'mine', 'grown', 'my', 'baby', 'thirty', 'one', 'you', 'never', 'lose', 'i', 'mean', 'i', 'parenting', 'point', 'my', 'life', 'i', 'enjoying', 'my', 'grandchildren', 'i', 'parent', 'yeah', 'it', 'difficult', 'challenge', 'uh', 'getting', 'getting', 'their', 'level', 'understanding', 'they', 'understand', 'understand', 'putting', 'your', 'your', 'stuff', 'front', 'theirs', 'hugs', 'well', 'my', 'dad', 'physical', 'uh', 'days', 'you', 'know', 'uh', 'nobody', 'called', 'child', 'services', 'you', 'got', 'hit', 'uh', 'uh', 'my', 'mother', 'loving', 'my', 'dad', 'well', 'you', 'know', 'he', 'he', 'would', 'raise', 'his', 'hand', 'you', 'he', 'thought', 'it', 'would', 'it', 'would', 'uh', 'disappoint', 'you', 'i', 'never', 'adored', 'my', 'mother', 'my', 'dad', 'uh', 'hard', 'guy', 'i', 'loved', 'him', 'uh', 'i', 'never', 'felt', 'abused', 'him', 'i', 'mean', 'i', 'one', 'thing', 'i', 'remember', 'he', 'said', 'you', 'you', 'capable', 'kicking', 'my', 'ass', 'you', 'leave', 'house', 'my', 'kinda', 'basis', 'our', 'relationship', 'my', 'mother', 'my', 'kids', 'my', 'grandkids', 'well', 'i', 'i', 'one', 'i', 'one', 'three', 'three', 'sons', 'i', 'really', 'experience', 'females', 'uh', 'my', 'mother', 'terms', 'you', 'know', 'related', 'my', 'grandma', 'my', 'first', 'daughter', 'born', 'it', 'like', 'wow', 'it', 'i', 'fell', 'madly', 'love', 'her', 'changed', 'my', 'life', 'yeah', 'well', 'way', 'it', 'happened', 'uh', 'my', 'mother', 'got', 'sick', 'i', 'i', 'i', 'her', 'way', 'i', 'i', 'feel', 'good', 'oh', 'yeah', 'you', 'always', 'fix', 'you', 'end', 'i', 'real', 'bad', 'situation', 'excuse', 'fact', 'i', 'way', 'i', 'sholdve', 'least', 'my', 'mind', 'uh', 'uh', 'my', 'second', 'marriage', 'probably', 'she', 'uh', 'she', 'wanted', 'uh', 'children', 'i', 'already', 'my', 'children', 'my', 'first', 'wife', 'uh', 'i', 'i', 'i', 'told', 'her', 'initially', 'i', 'want', 'children', 'you', 'know', 'i', 'three', 'uh', 'i', 'good', 'she', 'indicated', 'she', 'want', 'children', 'we', 'got', 'married', 'her', 'best', 'friend', 'got', 'pregnant', 'our', 'relationship', 'changed', 'i', 'basically', 'would', 'relent', 'we', 'ended', 'getting', 'divorved', 'uh', 'i', 'i', 'i', 'know', 'i', 'would', 'children', 'would', 'would', 'children', 'her', 'i', 'i', 'flexible', 'process', 'flexible', 'i', 'know', 'sometimes', 'i', 'sometimes', 'i', 'uh', 'would', 'pulling', 'my', 'uh', 'pulling', 'my', 'father', 'uh', 'uh', 'life', 'support', 'i', 'kept', 'going', 'back', 'something', 'he', 'said', 'me', 'i', 'uh', 'younger', 'he', 'would', 'come', 'back', 'haunt', 'me', 'i', 'you', 'know', 'i', 'let', 'him', 'lay', 'lay', 'suffer', 'it', 'took', 'me', 'convince', 'my', 'two', 'brothers', 'we', 'something', 'i', 'could', 'erase', 'my', 'memory', 'uh', 'locked', 'i', 'would', 'like', 'erase', 'my', 'memory', 'it', 'it', 'everyday', 'hell', 'little', 'humanity', 'uh', 'you', 'even', 'things', 'you', 'proud', 'i', 'never', 'slept', 'i', 'never', 'slept', 'lot', 'i', 'one', 'people', 'i', 'wake', 'i', 'hard', 'time', 'going', 'back', 'sleep', 'it', 'it', 'difficult', 'it', 'uh', 'unless', 'i', 'really', 'tired', 'you', 'know', 'i', 'pretty', 'much', 'still', 'i', 'change', 'i', 'friend', 'uh', 'things', 'good', 'kids', 'grandkids', 'except', 'little', 'incident', 'my', 'granddaughter', 'uh', 'my', 'youngest', 'daughter', 'i', 'friend', 'recently', 'uh', 'runned', 'crosswalk', 'uh', 'he', 'he', 'life', 'support', 'i', 'feeling', 'good', 'it', 'it', 'affected', 'me', 'it', 'like', 'he', 'jaywalking', 'anything', 'he', 'literally', 'walking', 'crosswalk', 'guy', 'never', 'even', 'hit', 'break', 'he', 'uh', 'life', 'support', 'point', 'mm', 'really', 'consistent', 'thing', 'me', 'i', 'inconsistent', 'uh', 'i', 'moments', 'i', 'felt', 'i', 'i', 'depressed', 'okay', 'i', 'talking', 'you', 'talking', 'i', 'hear', 'question', 'uh', 'uh', 'yesterday', 'conversation', 'my', 'fourteen', 'yearold', 'granddaughter', 'i', 'happy', 'i', 'moments', 'happiness', 'every', 'day', 'i', 'i', 'either', 'speak', 'text', 'uh', 'my', 'daughters', 'granddaughters', 'every', 'day', 'even', 'we', 'upset', 'one', 'another', 'oh', 'i', 'lot', 'regrets', 'uh', 'i', 'went', 'law', 'school', 'kinda', 'something', 'i', 'thought', 'yeah', 'began', 'think', 'my', 'lifetime', 'i', 'accepted', 'i', 'i', 'things', 'i', 'thought', 'i', 'wanted', 'uh', 'uh', 'i', 'i', 'played', 'uh', 'wanting', 'uh', 'uh', 'kicker', 'football', 'football', 'team', 'tryouts', 'things', 'like', 'they', 'pan', 'pan', 'i', 'sort', 'lost', 'my', 'zest', 'wanting', 'lawyer', 'i', 'things', 'i', 'think', 'it', 'would', 'make', 'much', 'difference', 'i', 'probably', 'would', 'listen', 'myself', 'um', 'myself', 'uh', 'uh', 'i', 'could', 'uh', 'i', 'like', 'you', 'i', 'could', 'uh', 'difficult', 'i', 'like', 'you', 'i', 'would', 'much', 'like', 'change', 'it', 'past', 'yeah', 'well', 'i', 'theory', 'you', 'could', 'make', 'me', 'feel', 'bad', 'myself', 'i', 'let', 'you', 'i', 'real', 'big', 'letting', 'letting', 'people', 'me', 'uh', 'although', 'my', 'first', 'wife', 'she', 'left', 'me', 'children', 'she', 'you', 'know', 'it', 'my', 'fault', 'i', 'sure', 'i', 'believed', 'i', 'knew', 'i', 'ass', 'uh', 'i', 'probably', 'believed', 'it', 'its', 'totality', 'part', 'uh', 'i', 'uh', 'i', 'judgemental', 'uh', 'uh', 'i', 'would', 'listen', 'anybody', 'uh', 'whether', 'i', 'agree', 'you', 'disagree', 'you', 'uh', 'uh', 'i', 'taught', 'myself', 'uh', 'control', 'anger', 'i', 'i', 'uh', 'uh', 'i', 'called', 'you', 'my', 'friend', 'i', 'tell', 'you', 'i', 'love', 'you', 'uh', 'i', 'mean', 'it', 'it', 'something', 'i', 'uh', 'casually', 'uh', 'oh', 'okay', 'well', 'i', 'i', 'played', 'eighteen', 'holes', 'golf', 'old', 'dear', 'friend', 'we', 'got', 'caught', 'uh', 'we', 'four', 'hours', 'golf', 'course', 'two', 'hours', 'dinner', 'met', 'his', 'new', 'wife', 'uh', 'good', 'time', 'lot', 'lot', 'memories', 'came', 'back', 'mm', 'uh', 'well', 'i', 'like', 'i', 'like', 'my', 'my', 'kids', 'uh', 'my', 'grandkids', 'i', 'like', 'you', 'know', 'i', 'like', 'hell', 'them', 'i', 'know', 'kids', 'like', 'i', 'i', 'think', 'they', 'rely', 'much', 'uh', 'rely', 'much', 'technology', 'me', 'mainly', 'i', 'my', 'grandkids', 'uh', 'sampling', 'it', 'i', 'think', 'they', 'good', 'i', 'think', 'they', 'pretty', 'good', 'uh', 'raising', 'my', 'girls', 'basically', 'myself', 'help', 'my', 'mother', 'i', 'think', 'uh', 'proud', 'okay', 'nice', 'chatting', 'you', 'bye'], tags=['train_0']),\n",
       " TaggedDocument(words=['yes', 'good', 'california', 'i', 'like', 'eh', 'arts', 'entertainments', 'i', 'like', 'uh', 'you', 'lot', 'freedom', 'work', 'lot', 'different', 'fields', 'um', 'i', 'like', 'fact', 'weather', 'great', 'um', 'i', 'like', 'fact', 'my', 'roots', 'my', 'family', 'i', 'like', 'hard', 'it', 'get', 'places', 'anymore', 'it', 'hard', 'much', 'traffic', 'it', 'takes', 'long', 'time', 'get', 'you', 'going', 'um', 'it', 'expensive', 'it', 'lot', 'expensive', 'it', 'used', 'anymore', 'i', 'studied', 'journalism', 'english', 'music', 'special', 'effects', 'makeup', 'i', 'i', 'managing', 'doggy', 'day', 'care', 'facility', 'my', 'dream', 'job', 'my', 'company', 'um', 'probably', 'working', 'animals', 'i', 'i', 'artist', 'i', 'draw', 'i', 'paint', 'i', 'tattoos', 'i', 'work', 'lot', 'animals', 'i', 'like', 'outdoor', 'activities', 'biking', 'hiking', 'um', 'people', 'fair', 'people', 'angry', 'um', 'people', 'dishonest', 'usually', 'i', 'give', 'myself', 'like', 'ten', 'second', 'timeout', 'think', 'it', 'i', 'speak', 'react', 'i', 'good', 'controlling', 'my', 'temper', 'probably', 'my', 'spouse', 'um', 'something', 'our', 'financial', 'matters', 'i', 'close', 'my', 'children', 'my', 'father', 'scrubbedentry', 'it', 'never', 'easy', 'it', 'hardest', 'job', 'world', 'it', 'best', 'um', 'wanting', 'prevent', 'your', 'children', 'making', 'mistakes', 'you', 'you', 'realize', 'they', 'learn', 'live', 'life', 'um', 'one', 'hardest', 'things', 'letting', 'them', 'make', 'their', 'mistakes', 'uh', 'unconditional', 'love', 'my', 'boys', 'me', 'everything', 'parent', 'made', 'me', 'better', 'person', 'it', 'made', 'me', 'better', 'everything', 'better', 'employee', 'um', 'i', 'i', 'think', 'my', 'children', 'made', 'me', 'um', 'much', 'better', 'person', 'every', 'day', 'probably', 'i', 'lot', 'i', 'full', 'life', 'i', 'would', 'really', 'hard', 'say', 'narrow', 'i', 'many', 'i', 'good', 'friend', 'i', 'true', 'friend', 'i', 'honest', 'i', 'real', 'i', 'dependable', 'i', 'play', 'games', 'i', 'i', 'i', 'drama', 'yes', 'i', 'um', 'february', 'two', 'thousand', 'eleven', 'i', 'attacked', 'stalker', 'almost', 'killed', 'november', 'two', 'thousand', 'nine', 'he', 'broke', 'my', 'apartment', 'laid', 'wait', 'me', 'attacked', 'me', 'i', 'came', 'door', 'tried', 'kill', 'me', 'i', 'i', 'think', 'therapy', 'helped', 'me', 'tremendously', 'i', 'think', 'i', 'would', 'able', 'hold', 'job', 'responsible', 'productive', 'member', 'society', 'society', 'without', 'therapy', 'i', 'able', 'handle', 'things', 'better', 'i', 'get', 'um', 'emotionally', 'upset', 'um', 'lot', 'rational', 'i', 'try', 'stay', 'rational', 'emotional', 'rational', 'logical', 'soso', 'i', 'sick', 'i', 'uh', 'run', 'little', 'stressed', 'i', 'yes', 'i', 'i', 'use', 'resources', 'draw', 'resources', 'i', 'learned', 'i', 'reach', 'people', 'i', 'try', 'isolate', 'i', 'try', 'um', 'use', 'tools', 'given', 'me', 'therapy', 'um', 'i', 'use', 'medication', 'anymore', 'it', 'mainly', 'proactive', 'treatment', 'i', 'uh', 'something', 'it', 'it', 'it', 'never', 'easy', 'it', 'always', 'bad', 'tired', 'lethargic', 'um', 'it', 'hard', 'keep', 'my', 'thoughts', 'order', 'it', 'hard', 'basics', 'day', 'mm', 'i', 'remember', 'oh', 'i', 'went', 'beach', 'my', 'oldest', 'son', 'his', 'best', 'friend', 'we', 'rode', 'three', 'real', 'threewheel', 'bikes', 'lot', 'fun', 'it', 'hard', 'say', 'right', 'i', 'decided', 'i', 'proud', 'my', 'children', 'i', 'would', 'say', 'probably', 'it', 'they', 'really', 'good', 'boys', 'i', 'many', 'regrets', 'right', 'finish', 'school', 'um', 'stay', 'focused', 'let', 'myself', 'get', 'distracted', 'um', 'focus', 'longterm', 'goals', 'shortterm', 'goals', 'my', 'father', 'i', 'honest', 'i', 'calm', 'i', 'get', 'angry', 'easily', 'it', 'takes', 'lot', 'provoke', 'me', 'i', 'uh', 'reliable', 'i', 'say', 'i', 'going', 'something', 'i', 'it', 'i', 'uh', 'i', 'i', 'basically', 'you', 'see', 'you', 'get', 'i', 'i', 'pull', 'punches', 'people', 'um', 'anything', 'animals', 'i', 'love', 'animals', 'i', 'always', 'smile', 'around', 'animals', 'kind', 'big', 'small', 'um', 'i', 'like', 'older', 'people', 'elderly', 'people', 'i', 'like', 'help', 'them', 'around', 'them', 'i', 'like', 'children', 'um'], tags=['train_1']),\n",
       " TaggedDocument(words=['sure', 'i', 'fine', 'i', 'alright', 'um', 'yeah', 'i', 'maryland', 'yeah', 'maryland', 'washington', 'dc', 'area', 'uh', 'like', 'five', 'weeks', 'ago', 'maryland', 'um', 'it', 'lot', 'it', 'lot', 'less', 'um', 'uh', 'xxx', 'it', 'uh', 'it', 'nice', 'time', 'year', 'it', 'um', 'uh', 'it', 'it', 'good', 'it', 'nice', 'it', 'um', 'las', 'lot', 'better', 'though', 'it', 'lot', 'it', 'lot', 'people', 'lot', 'going', 'um', 'i', 'still', 'i', 'guess', 'i', 'still', 'getting', 'used', 'it', 'um', 'it', 'it', 'like', 'um', 'yeah', 'i', 'still', 'getiing', 'used', 'it', 'it', 'it', 'coming', 'slowly', 'surely', 'i', 'live', 'culver', 'city', 'i', 'i', 'one', 'uh', 'it', 'okay', 'it', 'i', 'live', 'really', 'nasty', 'house', 'it', 'uh', 'it', 'cheap', 'it', 'cheap', 'i', 'living', 'friends', 'place', 'um', 'uh', 'he', 'letting', 'me', 'stay', 'half', 'price', 'actual', 'like', 'place', 'itself', 'pretty', 'horrible', 'horrible', 'living', 'conditions', 'i', 'moving', 'soon', 'i', 'see', 'your', 'shoes', 'actually', 'uh', 'i', 'i', 'travel', 'xxx', 'i', 'would', 'say', 'i', 'xxx', 'i', 'probably', 'traveled', 'people', 'us', 'like', 'considering', 'people', 'travel', 'us', 'i', 'would', 'i', 'would', 'call', 'myself', 'world', 'traveler', 'anything', 'i', 'enjoy', 'chance', 'get', 'like', 'see', 'um', 'walks', 'life', 'kind', 'like', 'meditate', 'specificity', 'my', 'you', 'know', 'given', 'parameters', 'i', 'grew', 'like', 'different', 'everyone', 'else', 'like', 'every', 'life', 'totally', 'um', 'i', 'mean', 'even', 'within', 'us', 'like', 'seeing', 'someone', 'california', 'grows', 'different', 'someone', 'maryland', 'grows', 'think', 'someone', 'like', 'thailand', 'something', 'growing', 'it', 'pretty', 'it', 'pretty', 'amazing', 'mhm', 'uh', 'okay', 'um', 'hmm', 'putting', 'me', 'spot', 'ellie', 'um', 'let', 'us', 'see', 'uh', 'well', 'um', 'i', 'it', 'awhile', 'since', 'i', 'trip', 'i', 'guess', 'one', 'last', 'trips', 'i', 'um', 'i', 'mean', 'it', 'xxx', 'like', 'two', 'years', 'ago', 'i', 'went', 'road', 'trip', 'across', 'us', 'pretty', 'amazing', 'saw', 'i', 'guess', 'best', 'place', 'best', 'two', 'places', 'road', 'i', 'drove', 'maryland', 'la', 'i', 'actually', 'moved', 'um', 'i', 'i', 'visited', 'new', 'orleans', 'new', 'orleans', 'whole', 'like', 'even', 'though', 'it', 'part', 'us', 'it', 'like', 'totally', 'it', 'totally', 'different', 'anywhere', 'else', 'it', 'um', 'unique', 'culture', 'unique', 'blend', 'like', 'caribbean', 'french', 'influences', 'like', 'american', 'south', 'um', 'uh', 'incredible', 'eh', 'yeah', 'it', 'it', 'it', 'unreal', 'yeah', 'it', 'unreal', 'hmm', 'it', 'tough', 'question', 'um', 'one', 'um', 'i', 'uh', 'hmm', 'you', 'know', 'i', 'i', 'i', 'you', 'you', 'come', 'back', 'question', 'you', 'capable', 'yeah', 'come', 'back', 'it', 'yeah', 'i', 'said', 'film', 'you', 'know', 'actually', 'question', 'i', 'asking', 'myself', 'i', 'knew', 'i', 'know', 'i', 'my', 'entire', 'life', 'i', 'like', 'phases', 'interest', 'i', 'like', 'young', 'i', 'really', 'like', 'first', 'phase', 'i', 'remember', 'keys', 'tools', 'like', 'i', 'would', 'go', 'around', 'collecting', 'keys', 'i', 'would', 'go', 'around', 'collecting', 'tool', 'like', 'every', 'sort', 'tool', 'i', 'toolbox', 'my', 'parents', 'told', 'me', 'i', 'phase', 'balls', 'like', 'various', 'balls', 'um', 'i', 'really', 'like', 'insects', 'collecting', 'insects', 'reptiles', 'stuff', 'like', 'animals', 'it', 'dinosaur', 'phase', 'certain', 'eh', 'certain', 'point', 'i', 'got', 'really', 'um', 'like', 'rap', 'like', 'music', 'like', 'first', 'first', 'rap', 'uh', 'guitar', 'acting', 'point', 'i', 'i', 'told', 'i', 'rememeber', 'telling', 'someone', 'right', 'i', 'interested', 'playwriting', 'poetry', 'eventually', 'i', 'going', 'interested', 'uh', 'film', 'like', 'i', 'i', 'could', 'kinda', 'see', 'trajectory', 'coming', 'i', 'remember', 'led', 'me', 'conclusion', 'i', 'think', 'i', 'always', 'i', 'led', 'sheltered', 'life', 'uh', 'far', 'movies', 'concerned', 'i', 'my', 'parents', 'let', 'me', 'see', 'rrated', 'movie', 'i', 'like', 'high', 'school', 'almost', 'like', 'um', 'uh', 'i', 'never', 'uh', 'i', 'never', 'saw', 'rrated', 'movie', 'i', 'also', 'squeamish', 'like', 'i', 'remember', 'i', 'fairly', 'young', 'maybe', 'like', 'six', 'i', 'saw', 'star', 'wars', 'first', 'scene', 'darth', 'star', 'wars', 'darth', 'vader', 'crack', 'like', 'breaks', 'guys', 'neck', 'little', 'scene', 'beginning', 'like', 'freaked', 'me', 'i', 'leave', 'room', 'i', 'really', 'sure', 'uh', 'yeah', 'it', 'it', 'it', 'um', 'i', 'i', 'exactly', 'sure', 'i', 'got', 'film', 'uh', 'i', 'always', 'fascinated', 'like', 'people', 'interact', 'like', 'you', 'know', 'acting', 'stuff', 'movies', 'general', 'i', 'yes', 'um', 'filmmaker', 'able', 'direct', 'uh', 'put', 'put', 'together', 'make', 'like', 'i', 'guess', 'direct', 'i', 'mm', 'use', 'word', 'much', 'it', 'i', 'think', 'i', 'think', 'it', 'like', 'i', 'i', 'want', 'opportunity', 'put', 'together', 'make', 'movies', 'uh', 'make', 'movies', 'probably', 'best', 'way', 'it', 'uh', 'say', 'it', 'i', 'want', 'you', 'know', 'i', 'want', 'involvement', 'processes', 'i', 'guess', 'best', 'parabole', 'would', 'director', 'directing', 'well', 'it', 'lot', 'better', 'i', 'living', 'them', 'um', 'my', 'i', 'guess', 'um', 'it', 'funny', 'you', 'ask', 'ellie', 'um', 'i', 'thinking', 'it', 'lot', 'lately', 'i', 'i', 'think', 'i', 'close', 'my', 'entire', 'family', 'i', 'closest', 'my', 'dad', 'um', 'i', 'get', 'along', 'my', 'brother', 'sister', 'you', 'know', 'like', 'i', 'away', 'like', 'my', 'brothers', 'foreign', 'country', 'right', 'i', 'opportunity', 'talk', 'him', 'like', 'i', 'spend', 'time', 'talking', 'my', 'dad', 'anyone', 'else', 'i', 'feel', 'like', 'he', 'like', 'my', 'family', 'he', 'one', 'accepts', 'me', 'like', 'um', 'thinks', 'positively', 'me', 'um', 'it', 'i', 'like', 'complicated', 'relationship', 'my', 'parents', 'i', 'mean', 'my', 'family', 'general', 'well', 'myers', 'uh', 'briggs', 'personality', 'test', 'i', 'uh', 'i', 'extrovert', 'lately', 'like', 'since', 'moving', 'i', 'like', 'um', 'i', 'i', 'probably', 'would', 'consider', 'myself', 'scheme', 'extroversion', 'uh', 'scale', 'extroversion', 'sorry', 'um', 'i', 'would', 'consider', 'myself', 'extremely', 'introverted', 'um', 'i', 'i', 'see', 'extroverts', 'matter', 'they', 'around', 'they', 'able', 'like', 'strike', 'conversations', 'i', 'i', 'fairly', 'shy', 'person', 'i', 'sort', 'like', 'uh', 'inhibited', 'person', 'maybe', 'um', 'i', 'like', 'like', 'yeah', 'i', 'i', 'working', 'it', 'i', 'working', 'it', 'um', 'well', 'past', 'i', 'would', 'smoke', 'weed', 'i', 'quit', 'smoking', 'weed', 'i', 'you', 'know', 'i', 'glass', 'wine', 'maybe', 'watch', 'movie', 'um', 'i', 'maybe', 'go', 'like', 'depending', 'it', 'like', 'xxx', 'it', 'um', 'it', 'worn', 'sort', 'stress', 'like', 'i', 'like', 'i', 'i', 'it', 'like', 'anxious', 'type', 'stress', 'i', 'might', 'go', 'uh', 'intense', 'walk', 'really', 'exercise', 'much', 'i', 'like', 'you', 'know', 'competitive', 'sports', 'hiking', 'pretty', 'good', 'well', 'i', 'always', 'like', 'arguing', 'um', 'i', 'would', 'call', 'arguing', 'necessarily', 'losing', 'my', 'temper', 'um', 'i', 'i', 'enjoy', 'uh', 'vicious', 'debate', 'um', 'i', 'long', 'my', 'like', 'i', 'like', 'revert', 'personal', 'you', 'know', 'attacks', 'uh', 'my', 'my', 'arguments', 'i', 'try', 'keep', 'it', 'subject', 'um', 'try', 'explain', 'myself', 'best', 'i', 'get', 'frustrating', 'i', 'like', 'best', 'articulator', 'i', 'think', 'um', 'one', 'my', 'weaker', 'points', 'i', 'would', 'say', 'um', 'last', 'time', 'i', 'heated', 'debate', 'i', 'think', 'question', 'um', 'happened', 'i', 'forget', 'i', 'forget', 'question', 'i', 'heated', 'debate', 'hmm', 'last', 'time', 'i', 'heated', 'debate', 'um', 'i', 'heated', 'debate', 'uh', 'movie', 'boogie', 'nights', 'um', 'i', 'i', 'i', 'lose', 'my', 'temper', 'exactly', 'i', 'get', 'like', 'extremely', 'passionate', 'i', 'i', 'think', 'it', 'like', 'good', 'movie', 'two', 'people', 'i', 'i', 'arguing', 'saying', 'it', 'like', 'one', 'like', 'best', 'um', 'best', 'movies', 'they', 'think', 'it', 'best', 'movie', 'um', 'they', 'think', 'like', 'sort', 'they', 'i', 'understand', 'it', 'they', 'um', 'they', 'certain', 'uh', 'they', 'think', 'like', 'stories', 'within', 'boogie', 'nights', 'they', 'their', 'um', 'like', 'them', 'could', 'their', 'separate', 'stories', 'they', 'think', 'whole', 'like', 'complexity', 'character', 'within', 'movie', 'um', 'somehow', 'like', 'um', 'they', 'saying', 'they', 'saying', 'like', 'movie', 'it', 'like', 'xxx', 'it', 'like', 'end', 'era', 'makes', 'it', 'like', 'kinda', 'like', 'casino', 'attention', 'detail', 'different', 'character', 'like', 'they', 'they', 'interact', 'plot', 'um', 'kind', 'like', 'uh', 'yeah', 'i', 'guess', 'i', 'think', 'heated', 'debate', 'became', 'like', 'uh', 'like', 'personally', 'i', 'it', 'like', 'bad', 'movie', 'anything', 'it', 'um', 'i', 'think', 'dirk', 'diggler', 'like', 'like', 'meaningful', 'meaningful', 'character', 'like', 'i', 'i', 'guess', 'way', 'i', 'come', 'i', 'came', 'movie', 'i', 'seen', 'it', 'many', 'years', 'ago', 'eh', 'i', 'my', 'opinion', 'it', 'basically', 'even', 'though', 'like', 'i', 'remember', 'like', 'watching', 'it', 'i', 'able', 'reevaluate', 'it', 'um', 'nothing', 'bad', 'movie', 'nothing', 'articulable', 'like', 'articulable', 'it', 'like', 'solid', 'good', 'solid', 'acting', 'you', 'know', 'directing', 'good', 'camera', 'moves', 'cool', 'um', 'eh', 'it', 'really', 'you', 'know', 'it', 'cool', 'it', 'it', 'meaningless', 'me', 'it', 'like', 'meaningless', 'led', 'us', 'discuss', 'movie', 'i', 'saw', 'recently', 'i', 'really', 'like', 'django', 'unchained', 'they', 'saw', 'movie', 'they', 'hated', 'movie', 'extreme', 'i', 'guess', 'heated', 'part', 'conversation', 'came', 'like', 'movie', 'django', 'unchained', 'um', 'you', 'django', 'django', 'like', 'kinda', 'he', 'two', 'dimensional', 'character', 'i', 'think', 'necessarily', 'takes', 'away', 'big', 'big', 'purpose', 'movie', 'um', 'you', 'doctor', 'king', 'schultz', 'uh', 'like', 'his', 'mentor', 'character', 'person', 'i', 'arguing', 'saying', 'he', 'intelligent', 'uh', 'he', 'intelligent', 'way', 'he', 'would', 'risked', 'his', 'life', 'save', 'django', 'like', 'would', 'gone', 'like', 'second', 'act', 'they', 'go', 'they', 'go', 'uh', 'uh', 'plantation', 'save', 'djangos', 'wife', 'etcetera', 'um', 'reason', 'reason', 'her', 'giving', 'argument', 'like', 'either', 'you', 'buy', 'he', 'would', 'he', 'would', 'reason', 'her', 'argument', 'intelligent', 'person', 'would', 'sacrifice', 'themself', 'someone', 'else', 'um', 'strikes', 'strikes', 'me', 'like', 'um', 'like', 'uh', 'like', 'she', 'she', 'her', 'basic', 'her', 'basic', 'argument', 'altruism', 'like', 'altruism', 'exist', 'it', 'ayn', 'rand', 'type', 'argument', 'altruism', 'exist', 'um', 'thing', 'you', 'serve', 'like', 'thing', 'people', 'serve', 'themself', 'um', 'it', 'quite', 'ayn', 'rand', 'it', 'like', 'people', 'thing', 'people', 'like', 'people', 'serve', 'themself', 'i', 'arguing', 'like', 'every', 'decision', 'like', 'mix', 'altruism', 'like', 'even', 'altruistic', 'type', 'decision', 'maybe', 'like', 'kernels', 'self', 'selfinterest', 'she', 'made', 'it', 'sound', 'like', 'selfinterest', 'motivating', 'factor', 'like', 'horrible', 'your', 'life', 'like', 'your', 'ultimate', 'um', 'purpose', 'like', 'you', 'you', 'like', 'love', 'sacrifice', 'people', 'it', 'led', 'extremely', 'uh', 'passionate', 'debate', 'um', 'uh', 'somewhat', 'like', 'yeah', 'it', 'it', 'uh', 'um', 'yeah', 'i', 'guess', 'i', 'think', 'i', 'necessarily', 'like', 'lost', 'my', 'temper', 'um', 'i', 'think', 'losing', 'my', 'temper', 'um', 'like', 'i', 'i', 'i', 'would', 'revert', 'um', 'ad', 'hominem', 'like', 'attacks', 'uh', 'i', 'i', 'like', 'um', 'maybe', 'i', 'like', 'maybe', 'i', 'criticizing', 'like', 'criticizing', 'her', 'world', 'view', 'it', 'i', 'like', 'well', 'you', 'idiot', 'you', 'know', 'like', 'it', 'it', 'it', 'turn', 'abuse', 'sort', 'yeah', 'i', 'glad', 'you', 'understand', 'event', 'i', 'know', 'i', 'necessarily', 'would', 'want', 'erase', 'anything', 'my', 'memory', 'i', 'would', 'say', 'issue', 'i', 'able', 'remember', 'much', 'detail', 'i', 'would', 'like', 'i', 'remember', 'feelings', 'moments', 'stories', 'um', 'like', 'my', 'life', 'sync', 'always', 'sync', 'together', 'like', 'coherent', 'story', 'it', 'like', 'moment', 'moment', 'moment', 'moment', 'yeah', 'hardest', 'decision', 'i', 'ever', 'make', 'oh', 'geez', 'could', 'it', 'one', 'hardest', 'decisions', 'hmm', 'um', 'like', 'choosing', 'two', 'things', 'it', 'like', 'i', 'guess', 'i', 'i', 'hard', 'time', 'recalling', 'moment', 'i', 'like', 'choose', 'two', 'options', 'like', 'like', 'sophies', 'choice', 'type', 'moment', 'my', 'life', 'i', 'i', 'think', 'decision', 'i', 'lived', 'new', 'york', 'i', 'went', 'school', 'new', 'york', 'uh', 'decision', 'leave', 'new', 'york', 'lived', 'five', 'years', 'difficult', 'um', 'uh', 'i', 'it', 'money', 'reasons', 'my', 'my', 'core', 'group', 'friends', 'either', 'like', 'leaving', 'them', 'leaving', 'going', 'places', 'world', 'uh', 'one', 'person', 'i', 'close', 'living', 'someone', 'i', 'get', 'along', 'it', 'like', 'situation', 'i', 'i', 'either', 'going', 'live', 'people', 'i', 'close', 'craigslist', 'move', 'home', 'i', 'i', 'think', 'it', 'tough', 'decision', 'leave', 'i', 'i', 'fact', 'it', 'tough', 'way', 'i', 'could', 'it', 'i', 'justify', 'it', 'saying', 'i', 'would', 'moving', 'back', 'new', 'york', 'within', 'like', 'month', 'two', 'uh', 'end', 'happening', 'way', 'i', 'could', 'leave', 'new', 'york', 'it', 'hard', 'hard', 'hard', 'um', 'it', 'hard', 'um', 'it', 'it', 'yeah', 'it', 'it', 'like', 'isolating', 'isolating', 'also', 'like', 'i', 'would', 'fallen', 'like', 'previously', 'time', 'i', 'fallen', 'love', 'one', 'my', 'like', 'closest', 'another', 'one', 'my', 'close', 'close', 'friends', 'uh', 'kind', 'gone', 'extremely', 'badly', 'i', 'speaking', 'terms', 'her', 'i', 'could', 'like', 'whole', 'everyone', 'my', 'list', 'friends', 'like', 'closer', 'xxx', 'her', 'it', 'quite', 'like', 'her', 'me', 'type', 'thing', 'way', 'i', 'kind', 'saw', 'it', 'time', 'i', 'like', 'you', 'know', 'socially', 'isolated', 'etcetera', 'yeah', 'well', 'recently', 'it', 'awful', 'um', 'i', 'uh', 'i', 'like', 'two', 'last', 'last', 'night', 'i', 'slept', 'like', 'ten', 'half', 'hours', 'um', 'seems', 'length', 'time', 'i', 'sleep', 'order', 'really', 'vivid', 'dreams', 'previous', 'night', 'last', 'last', 'night', 'night', 'last', 'night', 'i', 'got', 'four', 'hours', 'two', 'hours', 'sleep', 'um', 'i', 'working', 'set', 'i', 'would', 'get', 'back', 'either', 'i', 'like', 'could', 'fall', 'asleep', 'whatever', 'reason', 'it', 'um', 'much', 'riled', 'energy', 'something', 'i', 'i', 'know', 'tired', 'uh', 'immediately', 'i', 'guess', 'initially', 'upon', 'waking', 'like', 'i', 'really', 'enjoy', 'early', 'morning', 'um', 'i', 'also', 'stopped', 'drinking', 'caffeine', 'like', 'i', 'i', 'like', 'little', 'bit', 'coffee', 'last', 'two', 'days', 'last', 'two', 'days', 'i', 'coffee', 'like', 'three', 'half', 'weeks', 'um', 'i', 'guess', 'caffeine', 'my', 'system', 'i', 'ready', 'i', 'ready', 'go', 'um', 'without', 'caffeine', 'it', 'i', 'i', 'quieter', 'i', 'guess', 'introverted', 'since', 'like', 'lately', 'um', 'change', 'my', 'thoughts', 'yeah', 'i', 'mean', 'i', 'guess', 'moved', 'period', 'time', 'like', 'eh', 'beginning', 'sheer', 'difficulty', 'finding', 'job', 'finding', 'people', 'xxx', 'i', 'moved', 'i', 'group', 'friends', 'couple', 'friends', 'i', 'like', 'large', 'number', 'friends', 'push', 'get', 'meet', 'people', 'find', 'job', 'sort', 'pressure', 'pretty', 'um', 'overwhelming', 'first', 'i', 'think', 'i', 'slowly', 'like', 'coming', 'terms', 'um', 'moving', 'you', 'know', 'moving', 'past', 'it', 'i', 'i', 'necessarily', 'you', 'know', 'like', 'it', 'still', 'it', 'still', 'pressures', 'i', 'you', 'know', 'you', 'you', 'know', 'you', 'know', 'i', 'nope', 'last', 'time', 'i', 'felt', 'really', 'happy', 'might', 'reach', 'back', 'um', 'i', 'think', 'last', 'time', 'i', 'felt', 'really', 'happy', 'uh', 'writing', 'process', 'last', 'year', 'i', 'shot', 'movie', 'um', 'cowrote', 'codirected', 'coproduced', 'um', 'kinda', 'like', 'it', 'still', 'consumes', 'my', 'life', 'um', 'i', 'i', 'i', 'think', 'writing', 'stages', 'movie', 'we', 'would', 'bunker', 'like', 'get', 'eat', 'breakfast', 'bunker', 'work', 'really', 'hard', 'put', 'stuff', 'thing', 'like', 'pure', 'creative', 'full', 'energy', 'um', 'me', 'person', 'writing', 'it', 'like', 'probably', 'like', 'xxx', 'day', 'i', 'remember', 'it', 'i', 'remember', 'going', 'bed', 'i', 'thrilled', 'working', 'i', 'working', 'working', 'person', 'i', 'working', 'like', 'like', 'i', 'felt', 'like', 'it', 'yeah', 'i', 'guess', 'last', 'time', 'like', 'eh', 'year', 'ago', 'though', 'i', 'guess', 'it', 'hard', 'hard', 'think', 'i', 'really', 'truly', 'happy', 'since', 'you', 'making', 'movie', 'like', 'you', 'you', 'allow', 'yourself', 'happy', 'really', 'especially', 'you', 'it', 'you', 'know', 'basically', 'yourself', 'like', 'xxx', 'like', 'it', 'much', 'else', 'i', 'would', 'say', 'i', 'accepting', 'like', 'accepting', 'people', 'always', 'eh', 'i', 'empathic', 'empathic', 'empathic', 'um', 'open', 'open', 'like', 'excited', 'new', 'ideas', 'open', 'new', 'ideas', 'yeah', 'um', 'hmm', 'um', 'i', 'guess', 'i', 'wish', 'i', 'less', 'uh', 'uh', 'less', 'ruled', 'fear', 'fearless', 'fearless', 'my', 'you', 'know', 'everyday', 'interactions', 'my', 'like', 'um', 'you', 'know', 'zest', 'living', 'um', 'yeah', 'i', 'xxx', 'i', 'things', 'i', 'would', 'change', 'myself', 'i', 'would', 'i', 'would', 'i', 'know', 'hmm', 'really', 'badly', 'myself', 'um', 'i', 'think', 'numerous', 'numerous', 'instances', 'my', 'childhood', 'my', 'like', 'uh', 'like', 'every', 'single', 'time', 'issue', 'school', 'sort', 'um', 'sort', 'uh', 'conflict', 'teacher', 'anything', 'my', 'parents', 'always', 'always', 'side', 'court', 'you', 'know', 'like', 'never', 'it', 'i', 'i', 'noticed', 'noticed', 'i', 'got', 'older', 'people', 'parents', 'like', 'their', 'kid', 'trouble', 'like', 'something', 'wrong', 'like', 'their', 'kid', 'perfect', 'something', 'wrong', 'people', 'my', 'parents', 'it', 'always', 'opposite', 'um', 'particular', 'my', 'mom', 'i', 'would', 'say', 'couple', 'instances', 'um', 'i', 'like', 'blamed', 'like', 'you', 'know', 'it', 'my', 'it', 'my', 'fault', 'um', 'i', 'like', 'yeah', 'it', 'thing', 'things', 'things', 'i', 'could', 'like', 'yeah', 'i', 'know', 'yeah', 'ten', 'years', 'ago', 'um', 'stay', 'stake', 'you', 'know', 'like', 'i', 'i', 'think', 'um', 'i', 'tendency', 'like', 'i', 'love', 'love', 'fact', 'i', 'tendency', 'get', 'really', 'caught', 'ideas', 'idea', 'like', 'devote', 'myself', 'entirely', 'it', 'sometimes', 'um', 'ideas', 'easily', 'xxx', 'i', 'would', 'say', 'like', 'much', 'possible', 'like', 'decide', 'you', 'um', 'going', 'one', 'thing', 'um', 'try', 'like', 'i', 'guess', 'i', 'would', 'taken', 'like', 'done', 'taken', 'piano', 'learn', 'learn', 'read', 'music', 'would', 'big', 'thing', 'me', 'learn', 'play', 'drums', 'would', 'drums', 'reading', 'music', 'i', 'would', 'say', 'i', 'would', 'love', 'learn', 'play', 'drums', 'maybe', 'done', 'like', 'acting', 'classes', 'um', 'far', 'like', 'i', 'always', 'really', 'directing', 'i', 'always', 'directing', 'actors', 'stuff', 'i', 'it', 'i', 'um', 'i', 'know', 'i', 'guess', 'stay', 'uh', 'stay', 'stay', 'stay', 'focused', 'yeah', 'i', 'know', 'tough', 'tough', 'question', 'tough', 'question', 'ellie', 'it', 'sure', 'goodbye', 'bye'], tags=['train_2']),\n",
       " TaggedDocument(words=['hi', 'sure', 'i', 'fine', 'tired', 'i', 'bike', 'it', 'my', 'back', 'sweaty', 'i', 'la', 'um', 'places', 'go', 'always', 'things', 'um', 'drivers', 'i', 'trying', 'audio', 'engineering', 'working', 'music', 'yeah', 'i', 'graduating', 'two', 'years', 'uh', 'working', 'recording', 'studio', 'probably', 'soundtracks', 'music', 'i', 'idea', 'i', 'idea', 'i', 'always', 'either', 'la', 'home', 'ride', 'my', 'bike', 'make', 'music', 'sit', 'home', 'watch', 'movies', 'drivers', 'people', 'gangsters', 'i', 'know', 'go', 'ride', 'my', 'bike', 'take', 'walk', 'pretty', 'good', 'i', 'get', 'angry', 'often', 'uh', 'let', 'us', 'see', 'hmm', 'my', 'girlfriend', 'she', 'want', 'go', 'my', 'friends', 'house', 'happened', 'happened', 'yeah', 'it', 'um', 'thing', 'make', 'music', 'ride', 'my', 'bike', 'um', 'hang', 'friends', 'normal', 'kid', 'stuff', 'um', 'my', 'live', 'my', 'mom', 'right', 'i', 'live', 'my', 'dad', 'we', 'pretty', 'close', 'i', 'okay', 'uh', 'let', 'us', 'see', 'i', 'really', 'know', 'bunch', 'people', 'i', 'guess', 'i', 'really', 'pick', 'one', 'right', 'nope', 'i', 'want', 'nope', 'um', 'i', 'mean', 'i', 'usually', 'stay', 'pretty', 'late', 'i', 'usually', 'my', 'fault', 'i', 'go', 'sleep', 'early', 'i', 'wake', 'really', 'late', 'afternoon', 'kind', 'hard', 'um', 'little', 'drowsy', 'tend', 'go', 'sleep', 'earlier', 'um', 'nothing', 'i', 'still', 'active', 'i', 'really', 'change', 'um', 'fine', 'happy', 'normal', 'mm', 'my', 'birthday', 'two', 'days', 'ago', 'two', 'three', 'days', 'ago', 'um', 'i', 'got', 'i', 'got', 'gift', 'my', 'girlfriend', 'it', 'pretty', 'cool', 'um', 'cool', 'funny', 'energetic', 'smart', 'um', 'active', 'music', 'i', 'make', 'mm', 'couple', 'things', 'i', 'name', 'them', 'right', 'probably', 'things', 'i', 'high', 'school', 'um', 'let', 'us', 'see', 'would', 'i', 'say', 'myself', 'um', 'uh', 'get', 'arrested', 'stay', 'school', 'um', 'i', 'would', 'even', 'know', 'i', 'know', 'skip', 'um', 'i', 'watched', 'movies', 'my', 'dad', 'yeah', 'yesterday', 'stayed', 'home', 'watched', 'movies', 'made', 'food', 'hung', 'thing', 'cool', 'bye'], tags=['train_3']),\n",
       " TaggedDocument(words=['yes', 'i', 'bad', 'i', 'little', 'tired', 'okay', 'uh', 'saint', 'louis', 'missouri', 'yep', 'uh', 'two', 'months', 'ago', 'uh', 'often', 'i', 'think', 'i', 'good', 'uh', 'smaller', 'town', 'less', 'people', 'everyone', 'kinda', 'acts', 'different', 'pace', 'life', 'slower', 'uh', 'looking', 'work', 'game', 'designer', 'game', 'developer', 'try', 'something', 'new', 'new', 'place', 'new', 'people', 'uh', 'i', 'guess', 'i', 'still', 'getting', 'used', 'it', 'um', 'i', 'guess', 'people', 'different', 'you', 'know', 'little', 'shops', 'everywhere', 'everythings', 'different', 'uh', 'man', 'weathers', 'great', 'people', 'really', 'nice', 'like', 'look', 'mountains', 'beach', 'nice', 'better', 'geography', 'um', 'traffic', 'i', 'guess', 'commute', 'sometimes', 'maybe', 'many', 'people', 'really', 'never', 'outside', 'us', 'uh', 'never', 'opportunity', 'i', 'would', 'love', 'go', 'though', 'uh', 'game', 'design', 'graphic', 'design', 'sort', 'oh', 'i', 'love', 'it', 'uh', 'mm', 'playing', 'video', 'games', 'since', 'i', 'kid', 'like', 'guys', 'my', 'age', 'like', 'making', 'people', 'happy', 'it', 'kinda', 'easy', 'games', 'uh', 'work', 'myself', 'make', 'my', 'games', 'write', 'my', 'paychecks', 'i', 'guess', 'uh', 'pretty', 'hard', 'i', 'trying', 'it', 'past', 'couple', 'years', 'it', 'little', 'difficult', 'i', 'guess', 'i', 'kinda', 'shy', 'it', 'depends', 'people', 'environment', 'i', 'guess', 'uh', 'play', 'guitar', 'listen', 'music', 'talk', 'friends', 'i', 'would', 'say', 'i', 'pretty', 'good', 'controlling', 'my', 'temper', 'i', 'type', 'guy', 'gets', 'angry', 'really', 'easily', 'uh', 'probably', 'my', 'girlfriend', 'something', 'silly', 'i', 'even', 'remember', 'uh', 'know', 'i', 'think', 'i', 'really', 'guilty', 'anything', 'i', 'try', 'avoid', 'guilty', 'hmm', 'know', 'really', 'think', 'anything', 'leaving', 'saint', 'louis', 'one', 'them', 'my', 'friends', 'family', 'uh', 'i', 'guess', 'benefits', 'outweighed', 'you', 'know', 'cons', 'definitely', 'huh', 'maybe', 'getting', 'kicked', 'high', 'school', 'first', 'time', 'uh', 'i', 'ended', 'getting', 'myself', 'my', 'friends', 'trouble', 'it', 'good', 'you', 'kinda', 'look', 'back', 'it', 'i', 'guess', 'something', 'my', 'past', 'i', 'wish', 'i', 'would', 'done', 'different', 'uh', 'followed', 'rules', 'i', 'guess', 'good', 'student', 'would', 'helped', 'uh', 'really', 'close', 'my', 'family', 'i', 'got', 'small', 'family', 'anyway', 'i', 'saint', 'louis', 'we', 'would', 'see', 'couple', 'times', 'year', 'really', 'it', 'strong', 'ties', 'uh', 'i', 'guess', 'my', 'friends', 'they', 'always', 'support', 'me', 'encourage', 'me', 'help', 'me', 'say', 'pretty', 'easy', 'every', 'awhile', 'night', 'i', 'sleep', 'it', 'pretty', 'rare', 'mm', 'tired', 'groggy', 'i', 'guess', 'my', 'minds', 'unfocused', 'day', 'goes', 'heck', 'lot', 'longer', 'uh', 'pretty', 'good', 'really', 'much', 'say', 'uh', 'maybe', 'little', 'bit', 'depressed', 'i', 'away', 'my', 'friends', 'family', 'nothing', 'unmanageable', 'uh', 'try', 'talk', 'them', 'i', 'think', 'something', 'else', 'think', 'happy', 'times', 'uh', 'i', 'guess', 'drive', 'it', 'new', 'experience', 'exhilarating', 'um', 'i', 'think', 'graduating', 'college', 'i', 'really', 'proud', 'myself', 'really', 'looking', 'forward', 'future', 'i', 'guess', 'kind', 'euphoria', 'standing', 'it', 'seemed', 'kinda', 'surreal', 'surreal', 'uh', 'funny', 'caring', 'nice', 'guy', 'easy', 'get', 'along', 'uh', 'pretty', 'happy', 'me', 'i', 'guess', 'hmm', 'guess', 'i', 'broke', 'my', 'last', 'girlfriend', 'obvious', 'reasons', 'you', 'tend', 'fight', 'say', 'things', 'you', 'wish', 'you', 'would', 'you', 'would', 'forget', 'i', 'guess', 'i', 'like', 'live', 'past', 'nothing', 'really', 'regret', 'uh', 'keep', 'working', 'hard', 'keep', 'thinking', 'you', 'you', 'it', 'computer', 'playing', 'video', 'games', 'friends', 'uh', 'music', 'uh', 'my', 'friends', 'i', 'guess', 'mm', 'i', 'guess', 'my', 'determination', 'my', 'xxx', 'my', 'passion', 'my', 'creativity', 'bye'], tags=['train_4']),\n",
       " TaggedDocument(words=['sure', 'i', 'fine', 'i', 'columbia', 'south', 'carolina', 'yep', 'uh', 'two', 'thousand', 'four', 'yeah', 'uh', 'year', 'christmas', 'break', 'uh', 'lot', 'slower', 'paced', 'xxx', 'i', 'wanted', 'perform', 'pursue', 'film', 'degree', 'i', 'sorry', 'film', 'career', 'yes', 'it', 'pretty', 'challenging', 'it', 'uh', 'fun', 'uh', 'i', 'always', 'interest', 'interest', 'uh', 'film', 'movies', 'uh', 'it', 'seemed', 'like', 'natural', 'pick', 'me', 'uh', 'took', 'couple', 'years', 'uh', 'i', 'feel', 'like', 'i', 'pretty', 'used', 'it', 'uh', 'i', 'like', 'uh', 'it', 'snow', 'it', 'warm', 'weather', 'lots', 'lot', 'beaches', 'uh', 'traffic', 'cost', 'living', 'pretty', 'high', 'i', 'never', 'outside', 'us', 'uh', 'i', 'would', 'love', 'point', 'uh', 'it', 'depends', 'situation', 'i', 'i', 'either', 'introverted', 'extroverted', 'given', 'uh', 'right', 'circumstance', 'i', 'like', 'uh', 'listening', 'music', 'uh', 'crossword', 'puzzles', 'reading', 'hanging', 'friends', 'weekends', 'uh', 'good', 'hmm', 'uh', 'i', 'think', 'it', 'argument', 'maybe', 'maybe', 'difference', 'opinion', 'it', 'like', 'debate', 'uh', 'it', 'pretty', 'pretty', 'tame', 'uh', 'i', 'think', 'it', 'debate', 'sports', 'basketball', 'basketball', 'game', 'uh', 'i', 'talking', 'facebook', 'somebody', 'it', 'i', 'think', 'it', 'good', 'uh', 'express', 'yourself', 'you', 'difference', 'opinion', 'it', 'uh', 'it', 'natural', 'you', 'know', 'always', 'agree', 'things', 'i', 'think', 'talking', 'talking', 'healthy', 'healthy', 'i', 'good', 'relationship', 'my', 'family', 'um', 'i', 'get', 'along', 'my', 'family', 'members', 'extended', 'you', 'know', 'cousins', 'aunts', 'uncles', 'uh', 'one', 'i', 'i', 'ever', 'rifts', 'hmm', 'my', 'family', 'hmm', 'i', 'probably', 'could', 'disciplined', 'growing', 'uh', 'disciplined', 'schoolwork', 'homework', 'kinda', 'thing', 'part', 'uh', 'i', 'i', 'good', 'childhood', 'uh', 'much', 'i', 'would', 'change', 'it', 'hmm', 'probably', 'leaving', 'my', 'comfort', 'zone', 'uh', 'south', 'carolina', 'moving', 'pretty', 'hard', 'time', 'it', 'uh', 'exciting', 'it', 'it', 'bittersweet', 'feeling', 'um', 'lot', 'excitement', 'mixed', 'uh', 'anxiety', 'it', 'uh', 'it', 'went', 'away', 'pretty', 'quickly', 'sure', 'better', 'school', 'uh', 'i', 'high', 'school', 'uh', 'definitely', 'i', 'could', 'um', 'diligent', 'worker', 'i', 'could', 'uh', 'applied', 'myself', 'little', 'bit', 'better', 'hmm', 'i', 'always', 'strong', 'support', 'uh', 'family', 'support', 'system', 'uh', 'parents', 'uh', 'siblings', 'definitely', 'positive', 'thing', 'hmm', 'event', 'uh', 'probably', 'going', 'back', 'school', 'i', 'wish', 'i', 'would', 'uh', 'wish', 'i', 'would', 'done', 'better', 'school', 'i', 'could', 'take', 'something', 'back', 'my', 'past', 'it', 'would', 'uh', 'scholastically', 'scholastically', 'related', 'it', 'pretty', 'easy', 'i', 'sleep', 'well', 'um', 'i', 'tend', 'kinda', 'lackadaisical', 'uh', 'tired', 'throughout', 'day', 'kinda', 'groggy', 'uh', 'everythings', 'pretty', 'much', 'uh', 'way', 'it', 'usually', 'me', 'i', 'feeling', 'pretty', 'good', 'uh', 'i', 'uh', 'i', 'last', 'time', 'i', 'felt', 'really', 'happy', 'um', 'i', 'made', 'lot', 'money', 'uh', 'weeks', 'ago', 'uh', 'i', 'feel', 'like', 'i', 'ahead', 'game', 'you', 'know', 'rent', 'control', 'lot', 'bills', 'i', 'still', 'kinda', 'lingering', 'effects', 'happiness', 'yeah', 'uh', 'i', 'i', 'money', 'i', 'tend', 'lot', 'uh', 'eventempered', 'eventempered', 'i', 'tend', 'feel', 'better', 'things', 'optimistic', 'city', 'your', 'finances', 'it', 'it', 'always', 'makes', 'you', 'feel', 'good', 'ahead', 'game', 'uh', 'xxx', 'sources', 'income', 'uh', 'i', 'think', 'i', 'creative', 'i', 'think', 'i', 'good', 'listener', 'hmm', 'disciplined', 'focused', 'possible', 'you', 'your', 'parents', 'homes', 'their', 'lives', 'you', 'depend', 'yourself', 'better', 'better', 'you', 'school', 'better', 'you', 'um', 'uh', 'far', 'disciplines', 'concerned', 'pleasurable', 'pleasurable', 'your', 'life', 'lot', 'eh', 'uh', 'your', 'life', 'lot', 'easier', 'hmm', 'let', 'us', 'see', 'i', 'wish', 'i', 'disciplined', 'i', 'working', 'i', 'gotten', 'lot', 'better', 'it', 'become', 'pretty', 'easy', 'i', 'think', 'i', 'getting', 'older', 'um', 'i', 'my', 'twenties', 'i', 'definitely', 'seen', 'change', 'i', 'first', 'came', 'hmm', 'um', 'people', 'tend', 'say', 'my', 'decision', 'move', 'uh', 'feasible', 'kind', 'pipe', 'dream', 'kinda', 'made', 'me', 'feel', 'bad', 'uh', 'i', 'kinda', 'take', 'insults', 'stride', 'um', 'sometimes', 'i', 'welcome', 'constructive', 'criticism', 'things', 'wrong', 'you', 'you', 'aware', 'long', 'it', 'meanspirited', 'it', 'coming', 'right', 'place', 'i', 'think', 'it', 'could', 'invaluable', 'uh', 'tool', 'you', 'know', 'listening', 'people', 'say', 'might', 'negative', 'hmm', 'uh', 'probably', 'optimistic', 'um', 'outgoing', 'optimistic', 'uh', 'helpful', 'my', 'ideal', 'weekend', 'uh', 'i', 'would', 'love', 'go', 'vegas', 'road', 'trip', 'three', 'four', 'friends', 'you', 'know', 'packed', 'car', 'uh', 'lots', 'disposable', 'income', 'um', 'you', 'know', 'good', 'weather', 'uh', 'i', 'vegas', 'probably', 'five', 'years', 'um', 'i', 'gone', 'casinos', 'my', 'brother', 'pretty', 'fun', 'sometimes', 'uh', 'i', 'proud', 'i', 'come', 'long', 'way', 'i', 'first', 'moved', 'i', 'uh', 'lot', 'disciplined', 'um', 'i', 'read', 'lot', 'uh', 'i', 'crosswords', 'i', 'think', 'i', 'i', 'think', 'i', 'know', 'important', 'life', 'i', 'focused', 'going', 'i', 'want', 'hmm', 'i', 'big', 'fan', 'high', 'taxes', 'um', 'it', 'really', 'make', 'me', 'mad', 'it', 'makes', 'me', 'frustrated', 'uh', 'i', 'guess', 'i', 'take', 'it', 'stride', 'though', 'uh', 'i', 'friend', 'my', 'apartment', 'i', 'watched', 'movie', 'fun', 'it', 'documentary', 'sport', 'sports', 'sure', 'goodbye'], tags=['train_5']),\n",
       " TaggedDocument(words=['sure', 'mm', 'okay', 'los', 'angeles', 'um', 'well', 'good', 'question', 'um', 'i', 'like', 'familiarity', 'everything', 'i', 'know', 'everything', 'city', 'mm', 'i', 'say', 'right', 'spread', 'hard', 'get', 'places', 'anything', 'else', 'my', 'dream', 'job', 'i', 'think', 'dream', 'job', 'um', 'me', 'one', 'mm', 'i', 'uh', 'sort', 'unemployed', 'right', 'i', 'mm', 'true', 'i', 'started', 'i', 'studied', 'urban', 'planning', 'well', 'um', 'i', 'think', 'um', 'school', 'shooting', 'thing', 'uh', 'nra', 'seeming', 'want', 'budge', 'gun', 'control', 'issue', 'thing', 'it', 'mm', 'um', 'i', 'try', 'remove', 'myself', 'situation', 'annoying', 'me', 'i', 'gotten', 'better', 'years', 'um', 'time', 'i', 'try', 'um', 'you', 'know', 'walk', 'away', 'you', 'know', 'control', 'my', 'emotions', 'terms', 'you', 'know', 'walking', 'away', 'mm', 'watch', 'tv', 'hmm', 'i', 'would', 'say', 'my', 'children', 'born', 'well', 'i', 'four', 'children', 'um', 'birth', 'speical', 'um', 'you', 'know', 'it', 'unique', 'experience', 'time', 'well', 'it', 'lot', 'easier', 'they', 'adults', 'um', 'you', 'know', 'it', 'challenging', 'um', 'i', 'would', 'say', 'seeing', 'your', 'children', 'grow', 'successful', 'exceeding', 'your', 'expectations', 'you', 'worry', 'time', 'you', 'worry', 'them', 'you', 'know', 'i', 'around', 'them', 'much', 'i', 'certainly', 'worry', 'them', 'i', 'saw', 'my', 'children', 'oh', 'week', 'ago', 'i', 'usually', 'pretty', 'happy', 'i', 'see', 'them', 'you', 'know', 'i', 'interest', 'yeah', 'mm', 'my', 'girlfriend', 'insignificant', 'around', 'la', 'maybe', 'it', 'excuse', 'me', 'i', 'travel', 'i', 'funds', 'anymore', 'health', 'yes', 'mm', 'i', 'would', 'say', 'year', 'um', 'recognizing', 'things', 'me', 'wrong', 'i', 'knew', 'something', 'wrong', 'i', 'myself', 'well', 'you', 'know', 'i', 'always', 'tired', 'excited', 'things', 'anymore', 'kinda', 'lethargic', 'you', 'know', 'laying', 'around', 'feeling', 'myself', 'mm', 'yes', 'i', 'month', 'yeah', 'i', 'i', 'well', 'it', 'you', 'know', 'it', 'you', 'know', 'i', 'see', 'psychologist', 'um', 'we', 'talk', 'things', 'um', 'i', 'really', 'want', 'elaborate', 'detail', 'you', 'know', 'it', 'it', 'i', 'seem', 'think', 'it', 'helpful', 'well', 'i', 'i', 'think', 'um', 'hard', 'question', 'let', 'us', 'move', 'please', 'irritable', 'cranky', 'yeah', 'it', 'ooh', 'good', 'question', 'it', 'awhile', 'i', 'would', 'say', 'year', 'half', 'maybe', 'hmm', 'well', 'lot', 'going', 'my', 'life', 'you', 'know', 'i', 'lost', 'my', 'parent', 'my', 'dad', 'my', 'last', 'parent', 'lot', 'stuff', 'going', 'i', 'leave', 'it', 'hmm', 'well', 'i', 'still', 'like', 'sports', 'you', 'know', 'um', 'watching', 'good', 'game', 'something', 'usually', 'puts', 'me', 'good', 'mood', 'particularly', 'my', 'team', 'wins', 'you', 'know', 'i', 'like', 'usc', 'um', 'i', 'nephew', 'um', 'freshman', 'football', 'player', 'usc', 'uh', 'i', 'trojan', 'football', 'fan', 'forty', 'years', 'yeah', 'hmm', 'well', 'i', 'you', 'know', 'i', 'think', 'i', 'i', 'listen', 'well', 'um', 'you', 'know', 'i', 'pretty', 'much', 'honest', 'straightforward', 'good', 'question', 'i', 'know', 'you', 'would', 'ask', 'her', 'definitely', 'my', 'mother', 'she', 'deceased', 'she', 'deceased', 'ten', 'years', 'she', 'definitely', 'positive', 'influence', 'my', 'entire', 'life', 'i', 'many', 'regrets', 'many', 'name', 'number', 'um', 'you', 'know', 'it', 'you', 'know', 'you', 'benefit', 'hindsight', 'yeah', 'i', 'lot', 'regrets', 'hmm', 'listen', 'older', 'people', 'my', 'life', 'people', 'cared', 'me', 'people', 'interest', 'guide', 'me', 'right', 'direction', 'like', 'i', 'said', 'my', 'kids', 'i', 'proud', 'them', 'sure', 'my', 'pleasure', 'bye'], tags=['train_6']),\n",
       " TaggedDocument(words=['yes', 'i', 'okay', 'i', 'greenwich', 'connecticut', 'yes', 'um', 'i', 'moved', 'two', 'thousand', 'eight', 'five', 'years', 'ago', 'um', 'i', 'try', 'go', 'back', 'least', 'year', 'sometimes', 'i', 'go', 'sometimes', 'less', 'um', 'overall', 'i', 'think', 'i', 'like', 'i', 'better', 'la', 'general', 'um', 'i', 'think', 'it', 'somewhere', 'i', 'familiar', 'type', 'people', 'my', 'type', 'i', 'used', 'it', 'less', 'superficial', 'um', 'i', 'moved', 'college', 'i', 'graduated', 'high', 'school', 'my', 'mom', 'sister', 'live', 'california', 'um', 'initially', 'it', 'easy', 'i', 'felt', 'like', 'it', 'new', 'experience', 'you', 'kind', 'adapt', 'experiencing', 'everything', 'first', 'years', 'it', 'really', 'sets', 'different', 'it', 'life', 'it', 'became', 'difficult', 'originally', 'uh', 'fine', 'arts', 'photography', 'um', 'i', 'interested', 'photography', 'since', 'high', 'school', 'um', 'i', 'lot', 'programs', 'got', 'awards', 'things', 'like', 'publishments', 'i', 'decided', 'pursue', 'art', 'um', 'yes', 'i', 'fine', 'arts', 'degree', 'i', 'got', 'last', 'year', 'scrubbedentry', 'yeah', 'i', 'really', 'enjoy', 'working', 'interning', 'forensics', 'um', 'i', 'like', 'better', 'initially', 'i', 'wanted', 'freelance', 'photography', 'i', 'feel', 'like', 'it', 'secure', 'job', 'it', 'interesting', 'um', 'interesting', 'question', 'i', 'guess', 'my', 'childhood', 'general', 'growing', 'um', 'well', 'my', 'familys', 'close', 'um', 'my', 'extended', 'family', 'well', 'they', 'live', 'them', 'live', 'within', 'area', 'east', 'coast', 'general', 'we', 'would', 'always', 'large', 'family', 'uh', 'parties', 'things', 'holidays', 'religious', 'purposes', 'things', 'like', 'yeah', 'it', 'really', 'fun', 'we', 'try', 'get', 'together', 'much', 'possible', 'difficult', 'since', 'everyone', 'spread', 'amongst', 'different', 'states', 'countries', 'um', 'i', 'consider', 'myself', 'shy', 'um', 'i', 'watch', 'reality', 'television', 'i', 'think', 'it', 'kind', 'funny', 'lighthearted', 'um', 'i', 'watch', 'like', 'bravo', 'tv', 'like', 'real', 'housewives', 'shows', 'like', 'funny', 'things', 'you', 'really', 'need', 'pay', 'attention', 'um', 'i', 'good', 'i', 'guess', 'i', 'really', 'like', 'temper', 'i', 'i', 'stressed', 'it', 'it', 'definitely', 'shows', 'my', 'attitude', 'it', 'i', 'really', 'like', 'anger', 'um', 'well', 'me', 'my', 'boyfriend', 'like', 'bicker', 'time', 'like', 'like', 'insignificant', 'things', 'um', 'i', 'argument', 'my', 'dad', 'days', 'ago', 'um', 'like', 'tension', 'going', 'since', 'i', 'went', 'visited', 'holidays', 'past', 'winter', 'things', 'his', 'girlfriend', 'he', 'thinks', 'i', 'one', 'make', 'kind', 'effort', 'relationship', 'her', 'although', 'he', 'whatever', 'reason', 'think', 'it', 'go', 'ways', 'like', 'thirtieth', 'time', 'he', 'we', 'phone', 'he', 'telling', 'me', 'i', 'need', 'call', 'her', 'speak', 'her', 'i', 'told', 'him', 'i', 'going', 'it', 'past', 'weekend', 'jewish', 'holidays', 'he', 'kind', 'like', 'mature', 'telling', 'me', 'oh', 'forget', 'it', 'she', 'want', 'hear', 'you', 'kind', 'like', 'i', 'could', 'care', 'less', 'i', 'i', 'care', 'relationship', 'her', 'she', 'want', 'hear', 'me', 'you', 'know', 'it', 'easier', 'me', 'um', 'i', 'mean', 'every', 'time', 'i', 'mean', 'it', 'recurring', 'argument', 'lot', 'i', 'wish', 'i', 'could', 'sometimes', 'i', 'i', 'wish', 'times', 'it', 'turns', 'explosive', 'fight', 'i', 'could', 'bite', 'my', 'tongue', 'thing', 'he', 'says', 'certain', 'things', 'untrue', 'things', 'he', 'knows', 'like', 'tick', 'me', 'really', 'nasty', 'he', 'saying', 'me', 'he', 'i', 'kind', 'like', 'lose', 'it', 'i', 'really', 'mm', 'like', 'say', 'anything', 'um', 'well', 'i', 'guess', 'hardest', 'decision', 'i', 'made', 'i', 'it', 'i', 'realized', 'it', 'hardest', 'decision', 'like', 'looking', 'back', 'you', 'decide', 'you', 'graduate', 'high', 'school', 'go', 'college', 'me', 'i', 'basically', 'changed', 'my', 'entire', 'life', 'moved', 'away', 'my', 'it', 'seem', 'like', 'hard', 'decision', 'time', 'it', 'felt', 'like', 'like', 'progression', 'next', 'step', 'looking', 'back', 'probably', 'one', 'hardest', 'decisions', 'i', 'made', 'um', 'well', 'i', 'wish', 'i', 'could', 'erase', 'event', 'seeing', 'my', 'grandmothers', 'funeral', 'obviously', 'it', 'would', 'change', 'anything', 'it', 'seeing', 'her', 'something', 'i', 'would', 'want', 'like', 'my', 'memory', 'um', 'she', 'she', 'positive', 'influence', 'always', 'judgmental', 'um', 'i', 'mean', 'my', 'parents', 'great', 'role', 'models', 'general', 'i', 'mean', 'they', 'successful', 'people', 'whether', 'we', 'like', 'disagreements', 'we', 'separate', 'people', 'they', 'kind', 'good', 'role', 'models', 'terms', 'you', 'want', 'you', 'older', 'um', 'usually', 'it', 'easy', 'problem', 'staying', 'alseep', 'matter', 'late', 'i', 'go', 'bed', 'whether', 'it', 'ten', 'pm', 'four', 'i', 'like', 'clockwork', 'seven', 'thirty', 'eight', 'clock', 'morning', 'latest', 'every', 'single', 'day', 'i', 'seem', 'figure', 'i', 'cannot', 'stay', 'asleep', 'longer', 'i', 'morning', 'i', 'guess', 'i', 'lighter', 'sleeper', 'i', 'wake', 'like', 'i', 'cannot', 'stay', 'asleep', 'anymore', 'never', 'used', 'problem', 'consistent', 'it', 'i', 'cannot', 'remember', 'last', 'time', 'i', 'slept', 'past', 'eight', 'thirty', 'morning', 'i', 'mean', 'it', 'makes', 'i', 'stuff', 'day', 'it', 'makes', 'it', 'lot', 'tiring', 'it', 'really', 'i', 'used', 'it', 'it', 'really', 'change', 'my', 'mood', 'it', 'part', 'everyday', 'um', 'i', 'know', 'i', 'kind', 'feel', 'mm', 'like', 'extreme', 'highs', 'extreme', 'lows', 'it', 'kind', 'one', 'note', 'land', 'i', 'mean', 'nothing', 'like', 'lately', 'um', 'like', 'recently', 'it', 'i', 'would', 'say', 'period', 'years', 'i', 'kind', 'progressively', 'become', 'seclusive', 'reserved', 'outgoing', 'i', 'diagnosed', 'anxiety', 'um', 'i', 'breathing', 'problems', 'day', 'two', 'i', 'go', 'hospital', 'um', 'i', 'thought', 'it', 'serious', 'i', 'could', 'breathe', 'they', 'said', 'it', 'physical', 'manifestation', 'my', 'anxiety', 'i', 'think', 'right', 'setting', 'person', 'it', 'they', 'open', 'minded', 'therapist', 'helpful', 'good', 'they', 'yeah', 'i', 'therapy', 'since', 'i', 'kid', 'um', 'i', 'went', 'my', 'parents', 'thought', 'it', 'would', 'good', 'idea', 'like', 'deal', 'whatever', 'issues', 'they', 'me', 'it', 'never', 'i', 'mean', 'we', 'sat', 'around', 'talked', 'my', 'day', 'it', 'i', 'feel', 'like', 'i', 'needed', 'therapy', 'time', 'i', 'really', 'get', 'much', 'it', 'well', 'i', 'happy', 'i', 'back', 'home', 'my', 'boyfriends', 'house', 'his', 'family', 'new', 'years', 'holiday', 'i', 'i', 'always', 'we', 'save', 'our', 'money', 'it', 'complete', 'vacation', 'i', 'worry', 'paying', 'bills', 'i', 'worry', 'i', 'tomorrow', 'i', 'deal', 'i', 'every', 'morning', 'we', 'wake', 'we', 'hang', 'enjoy', 'day', 'general', 'um', 'i', 'regret', 'college', 'i', 'chose', 'go', 'i', 'east', 'coast', 'whole', 'collegiate', 'system', 'set', 'lot', 'differently', 'universities', 'tight', 'knit', 'california', 'school', 'system', 'i', 'researching', 'colleges', 'i', 'kind', 'thought', 'santa', 'monica', 'college', 'general', 'college', 'like', 'boston', 'college', 'back', 'home', 'you', 'know', 'school', 'name', 'college', 'end', 'it', 'i', 'realize', 'you', 'know', 'end', 'my', 'first', 'year', 'even', 'it', 'like', 'transfer', 'school', 'like', 'you', 'you', 'i', 'even', 'realize', 'you', 'could', 'get', 'bachelors', 'degree', 'i', 'went', 'it', 'kind', 'create', 'created', 'problems', 'me', 'well', 'considering', 'i', 'twenty', 'two', 'i', 'would', 'probably', 'say', 'ten', 'years', 'ago', 'i', 'would', 'give', 'myself', 'advice', 'probably', 'stay', 'closer', 'home', 'really', 'pursued', 'options', 'rather', 'completely', 'invested', 'moving', 'california', 'um', 'my', 'best', 'friend', 'would', 'describe', 'me', 'great', 'charismatic', 'funny', 'outgoing', 'socially', 'enjoyable', 'person', 'different', 'people', 'my', 'good', 'friends', 'would', 'describe', 'me', 'i', 'mean', 'i', 'i', 'mean', 'it', 'it', 'i', 'outgoing', 'great', 'time', 'i', 'my', 'friends', 'my', 'element', 'around', 'strangers', 'like', 'uncomfortable', 'groups', 'things', 'i', 'i', 'shy', 'really', 'speak', 'much', 'um', 'recently', 'my', 'friend', 'visiting', 'we', 'went', 'clippers', 'basketball', 'game', 'weeks', 'ago', 'i', 'really', 'enjoyed', 'yeah', 'um', 'i', 'caring', 'i', 'i', 'good', 'judge', 'character', 'i', 'mean', 'i', 'guess', 'i', 'mean', 'i', 'consider', 'it', 'quality', 'quality', 'myself', 'um', 'i', 'affectionate', 'i', 'mean', 'i', 'affectionate', 'i', 'i', 'mean', 'i', 'guess', 'i', 'guess', 'thanks'], tags=['train_7']),\n",
       " TaggedDocument(words=['yes', 'fine', 'thank', 'you', 'montreal', 'canada', 'i', 'moved', 'my', 'mom', 'i', 'high', 'school', 'yes', 'oh', 'it', 'cold', 'winter', 'our', 'summers', 'short', 'it', 'easy', 'i', 'accustom', 'pretty', 'quick', 'much', 'anymore', 'um', 'i', 'much', 'family', 'united', 'states', 'it', 'pretty', 'expensive', 'go', 'back', 'home', 'i', 'go', 'every', 'couple', 'years', 'meeting', 'different', 'people', 'different', 'places', 'different', 'customs', 'uh', 'well', 'we', 'recently', 'went', 'um', 'san', 'francisco', 'custom', 'everything', 'city', 'different', 'i', 'enjoyed', 'it', 'uh', 'i', 'took', 'general', 'education', 'child', 'development', 'right', 'i', 'work', 'part', 'time', 'independent', 'auto', 'repair', 'shop', 'um', 'working', 'people', 'talking', 'people', 'um', 'um', 'i', 'shy', 'sometimes', 'i', 'stay', 'myself', 'lot', 'uh', 'walk', 'along', 'beach', 'uh', 'bike', 'riding', 'arrogant', 'people', 'um', 'i', 'try', 'get', 'angry', 'sometimes', 'i', 'um', 'try', 'learn', 'i', 'learning', 'walk', 'away', 'things', 'sometimes', 'people', 'provoke', 'you', 'um', 'i', 'getting', 'better', 'i', 'would', 'say', 'seventy', 'five', 'percent', 'control', 'oh', 'month', 'ago', 'um', 'my', 'daughter', 'her', 'finances', 'it', 'really', 'hard', 'you', 'like', 'arguing', 'your', 'children', 'i', 'two', 'girls', 'ones', 'twenty', 'three', 'ones', 'twenty', 'six', 'one', 'lives', 'louisiana', 'one', 'lives', 'they', 'older', 'yes', 'um', 'satisfaction', 'giving', 'love', 'someone', 'else', 'worry', 'well', 'unfortunately', 'i', 'young', 'my', 'sister', 'kidnapped', 'my', 'children', 'growing', 'i', 'worried', 'them', 'lot', 'i', 'let', 'them', 'things', 'lot', 'their', 'oh', 'it', 'easy', 'they', 'grown', 'they', 'live', 'their', 'it', 'lot', 'easier', 'i', 'you', 'still', 'worry', 'even', 'though', 'they', 'grown', 'i', 'sorry', 'you', 'say', 'oh', 'my', 'goodness', 'they', 'spoiled', 'rotten', 'they', 'everything', 'um', 'waking', 'my', 'kids', 'younger', 'christmas', 'day', 'i', 'loved', 'it', 'yes', 'uh', 'it', 'exactly', 'two', 'years', 'two', 'months', 'um', 'loneliness', 'depression', 'um', 'especially', 'i', 'family', 'members', 'left', 'united', 'states', 'um', 'i', 'went', 'counselor', 'group', 'therapy', 'yes', 'i', 'mostly', 'enjoy', 'group', 'therapy', 'you', 'sitting', 'group', 'people', 'talking', 'your', 'um', 'your', 'likes', 'your', 'dislikes', 'your', 'problems', 'sometimes', 'somebody', 'else', 'sharing', 'going', 'thing', 'you', 'you', 'share', 'you', 'know', 'share', 'you', 'going', 'help', 'make', 'it', 'better', 'um', 'it', 'affected', 'me', 'lot', 'it', 'helped', 'me', 'cope', 'things', 'it', 'nice', 'somebody', 'else', 'talk', 'yes', 'i', 'want', 'admit', 'it', 'awhile', 'feeling', 'depressed', 'long', 'i', 'knew', 'i', 'something', 'pretty', 'good', 'um', 'getting', 'positive', 'better', 'yes', 'it', 'it', 'fifty', 'fifty', 'nights', 'i', 'sleep', 'good', 'nights', 'i', 'um', 'lack', 'lack', 'energy', 'next', 'day', 'it', 'hard', 'especially', 'you', 'get', 'two', 'nights', 'row', 'sleep', 'scrubbedentry', 'i', 'felt', 'good', 'um', 'holidays', 'always', 'try', 'you', 'know', 'christmas', 'trees', 'kids', 'everything', 'usually', 'good', 'time', 'makes', 'me', 'feel', 'good', 'um', 'i', 'married', 'um', 'raising', 'two', 'children', 'two', 'kids', 'i', 'proud', 'scrubbedentry', 'thanks', 'um', 'well', 'i', 'went', 'full', 'time', 'part', 'time', 'work', 'much', 'work', 'automotive', 'field', 'i', 'decided', 'go', 'back', 'school', 'um', 'easy', 'going', 'um', 'fun', 'easy', 'get', 'along', 'uh', 'my', 'mom', 'she', 'raised', 'four', 'kids', 'singlehandedly', 'hard', 'worker', 'um', 'give', 'positive', 'anything', 'you', 'try', 'accomplish', 'you', 'it', 'um', 'going', 'back', 'school', 'sooner', 'uh', 'i', 'raising', 'two', 'kids', 'myself', 'uh', 'they', 'grown', 'i', 'excuse', 'i', 'it', 'um', 'i', 'friendly', 'i', 'hard', 'worker', 'time', 'i', 'easy', 'get', 'along', 'um', 'like', 'i', 'say', 'i', 'hard', 'worker', 'you', 'give', 'me', 'work', 'i', 'it', 'um', 'long', 'time', 'i', 'good', 'mood', 'i', 'easy', 'get', 'along', 'um', 'i', 'people', 'they', 'tell', 'my', 'attitude', 'talk', 'me', 'um', 'like', 'i', 'say', 'bike', 'riding', 'uh', 'walks', 'beach', 'beach', 'relaxing', 'you', 'welcome', 'goodbye'], tags=['train_8']),\n",
       " TaggedDocument(words=['yes', 'good', 'you', 'los', 'angeles', 'uh', 'weather', 'entertainment', 'traffic', 'many', 'people', 'business', 'uh', 'fun', 'thing', 'yes', 'nothing', 'much', 'talk', 'hm', 'maybe', 'talking', 'you', 'um', 'pretty', 'good', 'environment', 'pretty', 'good', 'middle', 'sleep', 'i', 'know', 'remember', 'nothing', 'really', 'um', 'i', 'know', 'i', 'remember', 'um', 'bad', 'people', 'you', 'know', 'bad', 'people', 'back', 'things', 'uh', 'car', 'accidents', 'mm', 'know', 'them', 'really', 'know', 'uh', 'nobody', 'somewhat', 'okay', 'waking', 'thinking', 'i', 'i', 'know', 'i', 'know', 'hm', 'remember', 'i', 'i', 'know', 'talking', 'you', 'first', 'time', 'i', 'done', 'i', 'idea', 'sleep', 'much', 'nothing', 'experience', 'um', 'i', 'know', 'sure', 'um', 'nice', 'person', 'sure', 'nothing', 'much', 'i', 'know', 'i', 'know', 'i', 'know', 'play', 'sports', 'basketball', 'mm', 'last', 'month', 'goodbye'], tags=['train_9'])]"
      ]
     },
     "execution_count": 7,
     "metadata": {},
     "output_type": "execute_result"
    }
   ],
   "source": [
    "X_train = label_sentences(X_train, 'train')\n",
    "X_test = label_sentences(X_test, 'test')\n",
    "all_data = X_train + X_test\n",
    "\n",
    "all_data[:10]"
   ]
  },
  {
   "cell_type": "markdown",
   "metadata": {},
   "source": [
    "# Train doc2vec model (skip if you have the numpy data)\n",
    "Parameters:\n",
    "* dm=0: distributed bag of words (DBOW) is used\n",
    "* vector_size=300: 300 vector dimensional feature vectors\n",
    "* negative=5: specifies how many \"noise words\" should be drawn\n",
    "* min_count=3: ignores all words with total frequency lower than this\n",
    "* alpha=0.065: the initial learning rate"
   ]
  },
  {
   "cell_type": "code",
   "execution_count": 8,
   "metadata": {},
   "outputs": [
    {
     "name": "stderr",
     "output_type": "stream",
     "text": [
      "100%|██████████| 181/181 [00:00<00:00, 480486.72it/s]\n"
     ]
    }
   ],
   "source": [
    "model_dbow = doc2vec.Doc2Vec(dm=0, vector_size=300, negative=5, min_count=3, alpha=0.065, min_alpha=0.065)\n",
    "model_dbow.build_vocab([x for x in tqdm(all_data)])"
   ]
  },
  {
   "cell_type": "code",
   "execution_count": 9,
   "metadata": {},
   "outputs": [],
   "source": [
    "for epoch in range(30):\n",
    "    model_dbow.train(X_train, total_examples=len(X_train), epochs=1)\n",
    "    model_dbow.alpha -= 0.002 #set the learning rate\n",
    "    model_dbow.min_alpha = model_dbow.alpha"
   ]
  },
  {
   "cell_type": "code",
   "execution_count": 10,
   "metadata": {},
   "outputs": [
    {
     "data": {
      "text/plain": [
       "((136, 300), (45, 300), (136,), (45,))"
      ]
     },
     "execution_count": 10,
     "metadata": {},
     "output_type": "execute_result"
    }
   ],
   "source": [
    "def get_vectors(model, corpus_size, vectors_size, vectors_type):\n",
    "    \"\"\"\n",
    "    Get vectors from trained doc2vec model\n",
    "    :param doc2vec_model: Trained Doc2Vec model\n",
    "    :param corpus_size: Size of the data\n",
    "    :param vectors_size: Size of the embedding vectors\n",
    "    :param vectors_type: Training or Testing vectors\n",
    "    :return: list of vectors\n",
    "    \"\"\"\n",
    "    vectors = np.zeros((corpus_size, vectors_size))\n",
    "    for i in range(0, corpus_size):\n",
    "        prefix = vectors_type + '_' + str(i)\n",
    "        vectors[i] = model.docvecs[prefix]\n",
    "    return vectors\n",
    "\n",
    "X_train = get_vectors(model_dbow, len(X_train), 300, 'train')\n",
    "X_test = get_vectors(model_dbow, len(X_test), 300, 'test')\n",
    "\n",
    "X_train.shape, X_test.shape, y_train.shape, y_test.shape"
   ]
  },
  {
   "cell_type": "markdown",
   "metadata": {},
   "source": [
    "# More preprocessing"
   ]
  },
  {
   "cell_type": "markdown",
   "metadata": {},
   "source": [
    "## Evaluation metrics\n",
    "Some considerations in evaluation metrics when deciding our model.\n",
    "1. In our use case, it is more important to have high sensitivity as want to correctly identify as many depression cases out of all actual depression cases for early intervention. Predicting a non-depressed person as depressed is comparatively less severe, meaning we prioritize TPR (sensitivity) over FPR.\n",
    "2. Hence we will focus on `f1 score` and `recall` for the positive class.\n",
    "\n",
    "Note:\n",
    "* Sensitivity = true positive rate = recall = TP / (TP + FN)\n",
    "* Specificity = true negative rate = TN / (TN + FP)\n",
    "* Fall out = false positive rate = FP / (FP + TN)\n",
    "* Miss rate = false negative rate = FN / (FN + TP)\n",
    "\n",
    "Metrics can be found on this [website](https://scikit-learn.org/stable/modules/model_evaluation.html)."
   ]
  },
  {
   "cell_type": "markdown",
   "metadata": {},
   "source": [
    "## k cross "
   ]
  },
  {
   "cell_type": "code",
   "execution_count": 11,
   "metadata": {},
   "outputs": [],
   "source": [
    "def k_cross(input_model, X=X_train, y=y_train, k=4, n=3, random_state=RANDOM_STATE):\n",
    "    f1_scores = []\n",
    "    recall_scores = []\n",
    "    rkf = RepeatedKFold(n_splits=k, n_repeats=n, random_state=RANDOM_STATE)\n",
    "        \n",
    "    for train_index, val_index in rkf.split(X):\n",
    "        X_train, X_val = X[train_index], X[val_index]\n",
    "        y_train, y_val = y[train_index], y[val_index]\n",
    "                \n",
    "        model = clone(input_model) # prevents incremental fitting\n",
    "        model.fit(X_train, y_train) \n",
    "        \n",
    "        y_pred = model.predict(X_val)\n",
    "        f1 = f1_score(y_val, y_pred)\n",
    "        f1_scores.append(f1)\n",
    "        recall = recall_score(y_val, y_pred)\n",
    "        recall_scores.append(recall)\n",
    "        \n",
    "    return f1_scores, recall_scores"
   ]
  },
  {
   "cell_type": "markdown",
   "metadata": {},
   "source": [
    "# Model Implementation"
   ]
  },
  {
   "cell_type": "markdown",
   "metadata": {},
   "source": [
    "## Logistic Regression "
   ]
  },
  {
   "cell_type": "code",
   "execution_count": 12,
   "metadata": {},
   "outputs": [
    {
     "name": "stdout",
     "output_type": "stream",
     "text": [
      "best scores: f1 = 0.4021975725662292, recall = 0.41012159137159143\n"
     ]
    },
    {
     "data": {
      "text/plain": [
       "LogisticRegression(C=100000, n_jobs=3)"
      ]
     },
     "execution_count": 12,
     "metadata": {},
     "output_type": "execute_result"
    }
   ],
   "source": [
    "def find_best_logreg_model(power):\n",
    "    best_f1_model = None\n",
    "    best_f1 = -1\n",
    "    best_recall = -1\n",
    "    \n",
    "    for i in range(power + 1):\n",
    "        model = LogisticRegression(n_jobs=3, C=10**i)\n",
    "        \n",
    "        f1_scores, recall_scores = k_cross(model)\n",
    "        f1 = np.mean(f1_scores)\n",
    "        recall = np.mean(recall_scores)\n",
    "\n",
    "        if f1 > best_f1:\n",
    "            best_f1 = f1\n",
    "            best_recall = recall\n",
    "            best_f1_model = model\n",
    "    \n",
    "    print(f\"best scores: f1 = {best_f1}, recall = {best_recall}\")\n",
    "    \n",
    "    return best_f1_model\n",
    "\n",
    "find_best_logreg_model(6)"
   ]
  },
  {
   "cell_type": "markdown",
   "metadata": {},
   "source": [
    "## Decision Tree"
   ]
  },
  {
   "cell_type": "code",
   "execution_count": 13,
   "metadata": {},
   "outputs": [
    {
     "name": "stdout",
     "output_type": "stream",
     "text": [
      "best scores: f1 = 0.28061796563193114, recall = 0.28481634106634107\n"
     ]
    },
    {
     "data": {
      "text/plain": [
       "DecisionTreeClassifier(max_depth=7, min_samples_leaf=4, random_state=42)"
      ]
     },
     "execution_count": 13,
     "metadata": {},
     "output_type": "execute_result"
    }
   ],
   "source": [
    "def find_best_tree_model(upper_depth, upper_leaf):\n",
    "    best_f1_model = None\n",
    "    best_f1 = -1\n",
    "    best_recall = -1\n",
    "    \n",
    "    for depth in range(1, upper_depth + 1):\n",
    "        for leaf in range(1, upper_leaf + 1):\n",
    "            model = DecisionTreeClassifier(random_state=RANDOM_STATE, max_depth=depth, min_samples_leaf=leaf) \n",
    "            \n",
    "            f1_scores, recall_scores = k_cross(model)\n",
    "            f1 = np.mean(f1_scores)\n",
    "            recall = np.mean(recall_scores)\n",
    "            \n",
    "            if f1 > best_f1:\n",
    "                best_f1 = f1\n",
    "                best_recall = recall\n",
    "                best_f1_model = model\n",
    "    \n",
    "    print(f\"best scores: f1 = {best_f1}, recall = {best_recall}\")\n",
    "    \n",
    "    return best_f1_model\n",
    "\n",
    "find_best_tree_model(20, 30)"
   ]
  },
  {
   "cell_type": "markdown",
   "metadata": {},
   "source": [
    "## Random Forest"
   ]
  },
  {
   "cell_type": "code",
   "execution_count": 14,
   "metadata": {},
   "outputs": [
    {
     "name": "stdout",
     "output_type": "stream",
     "text": [
      "best scores: f1 = 0.3893653413698171, recall = 0.466211334961335\n"
     ]
    },
    {
     "data": {
      "text/plain": [
       "RandomForestClassifier(n_estimators=1, random_state=42)"
      ]
     },
     "execution_count": 14,
     "metadata": {},
     "output_type": "execute_result"
    }
   ],
   "source": [
    "def find_best_forest_model(n_estimators):\n",
    "    best_f1_model = None\n",
    "    best_f1 = -1\n",
    "    best_recall = -1\n",
    "    \n",
    "    for estimator in range(1, n_estimators + 1):\n",
    "        model = RandomForestClassifier(random_state=RANDOM_STATE, n_estimators=estimator) \n",
    "        \n",
    "        f1_scores, recall_scores = k_cross(model)\n",
    "        f1 = np.mean(f1_scores)\n",
    "        recall = np.mean(recall_scores)\n",
    "\n",
    "        if f1 > best_f1:\n",
    "            best_f1 = f1\n",
    "            best_recall = recall\n",
    "            best_f1_model = model\n",
    "    \n",
    "    print(f\"best scores: f1 = {best_f1}, recall = {best_recall}\")\n",
    "    \n",
    "    return best_f1_model\n",
    "\n",
    "find_best_forest_model(30)"
   ]
  },
  {
   "cell_type": "markdown",
   "metadata": {},
   "source": [
    "## SVM with grid search"
   ]
  },
  {
   "cell_type": "code",
   "execution_count": 15,
   "metadata": {},
   "outputs": [
    {
     "name": "stdout",
     "output_type": "stream",
     "text": [
      "Fitting 10 folds for each of 18 candidates, totalling 180 fits\n"
     ]
    },
    {
     "name": "stderr",
     "output_type": "stream",
     "text": [
      "[Parallel(n_jobs=4)]: Using backend LokyBackend with 4 concurrent workers.\n",
      "[Parallel(n_jobs=4)]: Done 158 tasks      | elapsed:    0.8s\n",
      "[Parallel(n_jobs=4)]: Done 180 out of 180 | elapsed:    0.9s finished\n",
      "[Parallel(n_jobs=4)]: Using backend LokyBackend with 4 concurrent workers.\n"
     ]
    },
    {
     "name": "stdout",
     "output_type": "stream",
     "text": [
      "Fitting 10 folds for each of 18 candidates, totalling 180 fits\n"
     ]
    },
    {
     "name": "stderr",
     "output_type": "stream",
     "text": [
      "[Parallel(n_jobs=4)]: Done 130 tasks      | elapsed:    0.5s\n",
      "[Parallel(n_jobs=4)]: Done 180 out of 180 | elapsed:    0.7s finished\n",
      "[Parallel(n_jobs=4)]: Using backend LokyBackend with 4 concurrent workers.\n"
     ]
    },
    {
     "name": "stdout",
     "output_type": "stream",
     "text": [
      "Fitting 10 folds for each of 18 candidates, totalling 180 fits\n"
     ]
    },
    {
     "name": "stderr",
     "output_type": "stream",
     "text": [
      "[Parallel(n_jobs=4)]: Done 130 tasks      | elapsed:    0.5s\n",
      "[Parallel(n_jobs=4)]: Done 180 out of 180 | elapsed:    0.7s finished\n",
      "[Parallel(n_jobs=4)]: Using backend LokyBackend with 4 concurrent workers.\n"
     ]
    },
    {
     "name": "stdout",
     "output_type": "stream",
     "text": [
      "Fitting 10 folds for each of 18 candidates, totalling 180 fits\n"
     ]
    },
    {
     "name": "stderr",
     "output_type": "stream",
     "text": [
      "[Parallel(n_jobs=4)]: Done 130 tasks      | elapsed:    0.5s\n",
      "[Parallel(n_jobs=4)]: Done 180 out of 180 | elapsed:    0.7s finished\n",
      "[Parallel(n_jobs=4)]: Using backend LokyBackend with 4 concurrent workers.\n"
     ]
    },
    {
     "name": "stdout",
     "output_type": "stream",
     "text": [
      "Fitting 10 folds for each of 18 candidates, totalling 180 fits\n"
     ]
    },
    {
     "name": "stderr",
     "output_type": "stream",
     "text": [
      "[Parallel(n_jobs=4)]: Done 130 tasks      | elapsed:    0.4s\n",
      "[Parallel(n_jobs=4)]: Done 180 out of 180 | elapsed:    0.6s finished\n"
     ]
    },
    {
     "name": "stdout",
     "output_type": "stream",
     "text": [
      "Fitting 10 folds for each of 18 candidates, totalling 180 fits\n"
     ]
    },
    {
     "name": "stderr",
     "output_type": "stream",
     "text": [
      "[Parallel(n_jobs=4)]: Using backend LokyBackend with 4 concurrent workers.\n",
      "[Parallel(n_jobs=4)]: Done 130 tasks      | elapsed:    0.4s\n",
      "[Parallel(n_jobs=4)]: Done 180 out of 180 | elapsed:    0.6s finished\n",
      "[Parallel(n_jobs=4)]: Using backend LokyBackend with 4 concurrent workers.\n"
     ]
    },
    {
     "name": "stdout",
     "output_type": "stream",
     "text": [
      "Fitting 10 folds for each of 18 candidates, totalling 180 fits\n"
     ]
    },
    {
     "name": "stderr",
     "output_type": "stream",
     "text": [
      "[Parallel(n_jobs=4)]: Done 130 tasks      | elapsed:    0.4s\n",
      "[Parallel(n_jobs=4)]: Done 180 out of 180 | elapsed:    0.6s finished\n"
     ]
    },
    {
     "name": "stdout",
     "output_type": "stream",
     "text": [
      "Fitting 10 folds for each of 18 candidates, totalling 180 fits\n"
     ]
    },
    {
     "name": "stderr",
     "output_type": "stream",
     "text": [
      "[Parallel(n_jobs=4)]: Using backend LokyBackend with 4 concurrent workers.\n",
      "[Parallel(n_jobs=4)]: Done 130 tasks      | elapsed:    0.5s\n",
      "[Parallel(n_jobs=4)]: Done 180 out of 180 | elapsed:    0.7s finished\n"
     ]
    },
    {
     "name": "stdout",
     "output_type": "stream",
     "text": [
      "Fitting 10 folds for each of 18 candidates, totalling 180 fits\n"
     ]
    },
    {
     "name": "stderr",
     "output_type": "stream",
     "text": [
      "[Parallel(n_jobs=4)]: Using backend LokyBackend with 4 concurrent workers.\n",
      "[Parallel(n_jobs=4)]: Done 130 tasks      | elapsed:    0.5s\n",
      "[Parallel(n_jobs=4)]: Done 180 out of 180 | elapsed:    0.6s finished\n"
     ]
    },
    {
     "name": "stdout",
     "output_type": "stream",
     "text": [
      "Fitting 10 folds for each of 18 candidates, totalling 180 fits\n"
     ]
    },
    {
     "name": "stderr",
     "output_type": "stream",
     "text": [
      "[Parallel(n_jobs=4)]: Using backend LokyBackend with 4 concurrent workers.\n",
      "[Parallel(n_jobs=4)]: Done 130 tasks      | elapsed:    0.5s\n",
      "[Parallel(n_jobs=4)]: Done 180 out of 180 | elapsed:    0.7s finished\n"
     ]
    },
    {
     "name": "stdout",
     "output_type": "stream",
     "text": [
      "Fitting 10 folds for each of 18 candidates, totalling 180 fits\n"
     ]
    },
    {
     "name": "stderr",
     "output_type": "stream",
     "text": [
      "[Parallel(n_jobs=4)]: Using backend LokyBackend with 4 concurrent workers.\n",
      "[Parallel(n_jobs=4)]: Done 130 tasks      | elapsed:    0.5s\n",
      "[Parallel(n_jobs=4)]: Done 180 out of 180 | elapsed:    0.6s finished\n"
     ]
    },
    {
     "name": "stdout",
     "output_type": "stream",
     "text": [
      "Fitting 10 folds for each of 18 candidates, totalling 180 fits\n"
     ]
    },
    {
     "name": "stderr",
     "output_type": "stream",
     "text": [
      "[Parallel(n_jobs=4)]: Using backend LokyBackend with 4 concurrent workers.\n",
      "[Parallel(n_jobs=4)]: Done 130 tasks      | elapsed:    0.5s\n",
      "[Parallel(n_jobs=4)]: Done 180 out of 180 | elapsed:    0.6s finished\n",
      "[Parallel(n_jobs=4)]: Using backend LokyBackend with 4 concurrent workers.\n"
     ]
    },
    {
     "name": "stdout",
     "output_type": "stream",
     "text": [
      "f1 mean score: 0.3764527981291677\n",
      "recall mean score: 0.3898834961334961\n",
      "Fitting 10 folds for each of 18 candidates, totalling 180 fits\n"
     ]
    },
    {
     "name": "stderr",
     "output_type": "stream",
     "text": [
      "[Parallel(n_jobs=4)]: Done 123 tasks      | elapsed:    0.6s\n"
     ]
    },
    {
     "name": "stdout",
     "output_type": "stream",
     "text": [
      "{'C': 1, 'kernel': 'linear'}\n"
     ]
    },
    {
     "name": "stderr",
     "output_type": "stream",
     "text": [
      "[Parallel(n_jobs=4)]: Done 180 out of 180 | elapsed:    0.9s finished\n"
     ]
    }
   ],
   "source": [
    "tuned_parameters = [{'kernel': ['rbf'], 'gamma': [1e-3, 1e-4], 'C': [1, 10, 100]},\n",
    "                    {'kernel': ['poly'], 'degree': [3, 4, 5], 'C': [1, 10, 100]},\n",
    "                    {'kernel': ['linear'], 'C': [1, 10, 100]}]\n",
    "\n",
    "svm_model_cv = GridSearchCV(SVC(), tuned_parameters, cv=10, scoring='f1', verbose=1, n_jobs=4)\n",
    "\n",
    "f1_scores, recall_scores = k_cross(svm_model_cv)\n",
    "\n",
    "print(f\"f1 mean score: {np.mean(f1_scores)}\")\n",
    "print(f\"recall mean score: {np.mean(recall_scores)}\")\n",
    "\n",
    "svm_model_cv.fit(X_train, y_train)\n",
    "print(svm_model_cv.best_params_)"
   ]
  }
 ],
 "metadata": {
  "kernelspec": {
   "display_name": "Python 3",
   "language": "python",
   "name": "python3"
  },
  "language_info": {
   "codemirror_mode": {
    "name": "ipython",
    "version": 3
   },
   "file_extension": ".py",
   "mimetype": "text/x-python",
   "name": "python",
   "nbconvert_exporter": "python",
   "pygments_lexer": "ipython3",
   "version": "3.6.10"
  }
 },
 "nbformat": 4,
 "nbformat_minor": 4
}
