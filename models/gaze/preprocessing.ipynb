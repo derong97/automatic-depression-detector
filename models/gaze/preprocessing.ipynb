{
 "cells": [
  {
   "cell_type": "code",
   "execution_count": 1,
   "metadata": {},
   "outputs": [],
   "source": [
    "import numpy as np\n",
    "import pandas as pd\n",
    "import os\n",
    "import ntpath"
   ]
  },
  {
   "cell_type": "code",
   "execution_count": 2,
   "metadata": {},
   "outputs": [],
   "source": [
    "file = './data/345_CLNF_gaze.txt'"
   ]
  },
  {
   "cell_type": "code",
   "execution_count": 3,
   "metadata": {},
   "outputs": [
    {
     "name": "stderr",
     "output_type": "stream",
     "text": [
      "C:\\Users\\65842\\Anaconda3\\lib\\site-packages\\ipykernel_launcher.py:1: ParserWarning: Falling back to the 'python' engine because the 'c' engine does not support regex separators (separators > 1 char and different from '\\s+' are interpreted as regex); you can avoid this warning by specifying engine='python'.\n",
      "  \"\"\"Entry point for launching an IPython kernel.\n"
     ]
    }
   ],
   "source": [
    "df = pd.read_table(file, sep=', ', index_col='frame')"
   ]
  },
  {
   "cell_type": "code",
   "execution_count": 4,
   "metadata": {},
   "outputs": [
    {
     "data": {
      "text/html": [
       "<div>\n",
       "<style scoped>\n",
       "    .dataframe tbody tr th:only-of-type {\n",
       "        vertical-align: middle;\n",
       "    }\n",
       "\n",
       "    .dataframe tbody tr th {\n",
       "        vertical-align: top;\n",
       "    }\n",
       "\n",
       "    .dataframe thead th {\n",
       "        text-align: right;\n",
       "    }\n",
       "</style>\n",
       "<table border=\"1\" class=\"dataframe\">\n",
       "  <thead>\n",
       "    <tr style=\"text-align: right;\">\n",
       "      <th></th>\n",
       "      <th>timestamp</th>\n",
       "      <th>confidence</th>\n",
       "      <th>success</th>\n",
       "      <th>x_0</th>\n",
       "      <th>y_0</th>\n",
       "      <th>z_0</th>\n",
       "      <th>x_1</th>\n",
       "      <th>y_1</th>\n",
       "      <th>z_1</th>\n",
       "      <th>x_h0</th>\n",
       "      <th>y_h0</th>\n",
       "      <th>z_h0</th>\n",
       "      <th>x_h1</th>\n",
       "      <th>y_h1</th>\n",
       "      <th>z_h1</th>\n",
       "    </tr>\n",
       "    <tr>\n",
       "      <th>frame</th>\n",
       "      <th></th>\n",
       "      <th></th>\n",
       "      <th></th>\n",
       "      <th></th>\n",
       "      <th></th>\n",
       "      <th></th>\n",
       "      <th></th>\n",
       "      <th></th>\n",
       "      <th></th>\n",
       "      <th></th>\n",
       "      <th></th>\n",
       "      <th></th>\n",
       "      <th></th>\n",
       "      <th></th>\n",
       "      <th></th>\n",
       "    </tr>\n",
       "  </thead>\n",
       "  <tbody>\n",
       "    <tr>\n",
       "      <th>1</th>\n",
       "      <td>0.000000</td>\n",
       "      <td>0.983915</td>\n",
       "      <td>1</td>\n",
       "      <td>-0.023546</td>\n",
       "      <td>0.242617</td>\n",
       "      <td>-0.969836</td>\n",
       "      <td>-0.220724</td>\n",
       "      <td>0.207532</td>\n",
       "      <td>-0.953001</td>\n",
       "      <td>-0.069815</td>\n",
       "      <td>0.469520</td>\n",
       "      <td>-0.880157</td>\n",
       "      <td>-0.266090</td>\n",
       "      <td>0.429935</td>\n",
       "      <td>-0.862758</td>\n",
       "    </tr>\n",
       "    <tr>\n",
       "      <th>2</th>\n",
       "      <td>0.033333</td>\n",
       "      <td>0.984079</td>\n",
       "      <td>1</td>\n",
       "      <td>-0.017832</td>\n",
       "      <td>0.243434</td>\n",
       "      <td>-0.969753</td>\n",
       "      <td>-0.235717</td>\n",
       "      <td>0.215903</td>\n",
       "      <td>-0.947535</td>\n",
       "      <td>-0.058182</td>\n",
       "      <td>0.481466</td>\n",
       "      <td>-0.874531</td>\n",
       "      <td>-0.274890</td>\n",
       "      <td>0.446279</td>\n",
       "      <td>-0.851628</td>\n",
       "    </tr>\n",
       "    <tr>\n",
       "      <th>3</th>\n",
       "      <td>0.066667</td>\n",
       "      <td>0.983523</td>\n",
       "      <td>1</td>\n",
       "      <td>-0.020343</td>\n",
       "      <td>0.239940</td>\n",
       "      <td>-0.970574</td>\n",
       "      <td>-0.242104</td>\n",
       "      <td>0.215758</td>\n",
       "      <td>-0.945957</td>\n",
       "      <td>-0.057735</td>\n",
       "      <td>0.484280</td>\n",
       "      <td>-0.873006</td>\n",
       "      <td>-0.278243</td>\n",
       "      <td>0.450642</td>\n",
       "      <td>-0.848235</td>\n",
       "    </tr>\n",
       "    <tr>\n",
       "      <th>4</th>\n",
       "      <td>0.100000</td>\n",
       "      <td>0.983979</td>\n",
       "      <td>1</td>\n",
       "      <td>-0.022708</td>\n",
       "      <td>0.235896</td>\n",
       "      <td>-0.971513</td>\n",
       "      <td>-0.248893</td>\n",
       "      <td>0.220147</td>\n",
       "      <td>-0.943180</td>\n",
       "      <td>-0.057406</td>\n",
       "      <td>0.486755</td>\n",
       "      <td>-0.871650</td>\n",
       "      <td>-0.282320</td>\n",
       "      <td>0.459116</td>\n",
       "      <td>-0.842323</td>\n",
       "    </tr>\n",
       "    <tr>\n",
       "      <th>5</th>\n",
       "      <td>0.133333</td>\n",
       "      <td>0.983953</td>\n",
       "      <td>1</td>\n",
       "      <td>-0.023246</td>\n",
       "      <td>0.235745</td>\n",
       "      <td>-0.971537</td>\n",
       "      <td>-0.250700</td>\n",
       "      <td>0.220682</td>\n",
       "      <td>-0.942576</td>\n",
       "      <td>-0.056716</td>\n",
       "      <td>0.486648</td>\n",
       "      <td>-0.871755</td>\n",
       "      <td>-0.282910</td>\n",
       "      <td>0.459063</td>\n",
       "      <td>-0.842154</td>\n",
       "    </tr>\n",
       "  </tbody>\n",
       "</table>\n",
       "</div>"
      ],
      "text/plain": [
       "       timestamp  confidence  success       x_0       y_0       z_0       x_1  \\\n",
       "frame                                                                           \n",
       "1       0.000000    0.983915        1 -0.023546  0.242617 -0.969836 -0.220724   \n",
       "2       0.033333    0.984079        1 -0.017832  0.243434 -0.969753 -0.235717   \n",
       "3       0.066667    0.983523        1 -0.020343  0.239940 -0.970574 -0.242104   \n",
       "4       0.100000    0.983979        1 -0.022708  0.235896 -0.971513 -0.248893   \n",
       "5       0.133333    0.983953        1 -0.023246  0.235745 -0.971537 -0.250700   \n",
       "\n",
       "            y_1       z_1      x_h0      y_h0      z_h0      x_h1      y_h1  \\\n",
       "frame                                                                         \n",
       "1      0.207532 -0.953001 -0.069815  0.469520 -0.880157 -0.266090  0.429935   \n",
       "2      0.215903 -0.947535 -0.058182  0.481466 -0.874531 -0.274890  0.446279   \n",
       "3      0.215758 -0.945957 -0.057735  0.484280 -0.873006 -0.278243  0.450642   \n",
       "4      0.220147 -0.943180 -0.057406  0.486755 -0.871650 -0.282320  0.459116   \n",
       "5      0.220682 -0.942576 -0.056716  0.486648 -0.871755 -0.282910  0.459063   \n",
       "\n",
       "           z_h1  \n",
       "frame            \n",
       "1     -0.862758  \n",
       "2     -0.851628  \n",
       "3     -0.848235  \n",
       "4     -0.842323  \n",
       "5     -0.842154  "
      ]
     },
     "execution_count": 4,
     "metadata": {},
     "output_type": "execute_result"
    }
   ],
   "source": [
    "df.head()"
   ]
  },
  {
   "cell_type": "code",
   "execution_count": 13,
   "metadata": {},
   "outputs": [],
   "source": [
    "def get_features(file):\n",
    "    filename = ntpath.basename(file)\n",
    "    participant_no = int(filename[0:3])\n",
    "    \n",
    "    df = pd.read_table(file, sep=', ', index_col='frame')\n",
    "    features = df.drop(columns=['timestamp'])\n",
    "    \n",
    "    return participant_no, features\n",
    "    \n",
    "    \n",
    "def compile_files(directory, label_file):\n",
    "    column_names_final = [\"Participant_ID\", \"PHQ_Score\", \"PHQ_Binary\"]\n",
    "    labels = pd.DataFrame(columns = column_names_final)\n",
    "    \n",
    "    compiled_features = []\n",
    "    compiled_labels = []\n",
    "    min_len = 100000\n",
    "    \n",
    "    feature_files = [pos for pos in os.listdir(directory) if pos.endswith('.txt')]\n",
    "    df_labels = pd.read_csv(label_file, index_col = \"Participant_ID\")\n",
    "    \n",
    "    for filename in feature_files:\n",
    "        file = directory+'/'+filename\n",
    "        participant_no, features = get_features(file)\n",
    "        features = np.array(features)\n",
    "        \n",
    "        length = features.shape[0]\n",
    "        if length < min_len:\n",
    "            min_len = length\n",
    "        \n",
    "        PHQ_Binary = df_labels.loc[participant_no][\"PHQ_Binary\"]\n",
    "        PHQ_Score = df_labels.loc[participant_no][\"PHQ_Score\"]\n",
    "        new_row = {\"Participant_ID\": participant_no, \"PHQ_Score\": PHQ_Score, \"PHQ_Binary\": PHQ_Binary}\n",
    "        labels = labels.append(new_row, ignore_index = True)\n",
    "        \n",
    "        compiled_features.append(features)\n",
    "        \n",
    "    \n",
    "    compiled_features = np.array(compiled_features)\n",
    "    \n",
    "    features = []\n",
    "    for i in range(compiled_features.shape[0]):\n",
    "        features.append(compiled_features[i][:min_len][:])\n",
    "    features = np.array(features)\n",
    "    \n",
    "    return features, labels\n",
    "\n",
    "def average_features(directory, label_file):\n",
    "    column_names_final = [\"Participant_ID\", \"PHQ_Score\", \"PHQ_Binary\"]\n",
    "    labels = pd.DataFrame(columns = column_names_final)\n",
    "    \n",
    "    compiled_features = []\n",
    "    compiled_labels = []\n",
    "    \n",
    "    feature_files = [pos for pos in os.listdir(directory) if pos.endswith('.txt')]\n",
    "    df_labels = pd.read_csv(label_file, index_col = \"Participant_ID\")\n",
    "    \n",
    "    for filename in feature_files:\n",
    "        file = directory+'/'+filename\n",
    "        participant_no, features = get_features(file)\n",
    "        \n",
    "        features = features[features.success != 0]\n",
    "        features= features.mean()\n",
    "        features = features.drop(columns=['success', 'confidence'])\n",
    "        features = np.array(features)\n",
    "        \n",
    "        PHQ_Binary = df_labels.loc[participant_no][\"PHQ_Binary\"]\n",
    "        PHQ_Score = df_labels.loc[participant_no][\"PHQ_Score\"]\n",
    "        new_row = {\"Participant_ID\": participant_no, \"PHQ_Score\": PHQ_Score, \"PHQ_Binary\": PHQ_Binary}\n",
    "        labels = labels.append(new_row, ignore_index = True)\n",
    "        \n",
    "        compiled_features.append(features)\n",
    "        \n",
    "    \n",
    "    compiled_features = np.array(compiled_features)\n",
    "    \n",
    "    return compiled_features, labels"
   ]
  },
  {
   "cell_type": "code",
   "execution_count": 14,
   "metadata": {},
   "outputs": [],
   "source": [
    "directory = './data'\n",
    "label_file = 'Y_data.csv'"
   ]
  },
  {
   "cell_type": "code",
   "execution_count": 7,
   "metadata": {},
   "outputs": [
    {
     "name": "stderr",
     "output_type": "stream",
     "text": [
      "C:\\Users\\65842\\Anaconda3\\lib\\site-packages\\ipykernel_launcher.py:5: ParserWarning: Falling back to the 'python' engine because the 'c' engine does not support regex separators (separators > 1 char and different from '\\s+' are interpreted as regex); you can avoid this warning by specifying engine='python'.\n",
      "  \"\"\"\n",
      "C:\\Users\\65842\\Anaconda3\\lib\\site-packages\\ipykernel_launcher.py:39: VisibleDeprecationWarning: Creating an ndarray from ragged nested sequences (which is a list-or-tuple of lists-or-tuples-or ndarrays with different lengths or shapes) is deprecated. If you meant to do this, you must specify 'dtype=object' when creating the ndarray\n"
     ]
    }
   ],
   "source": [
    "features, labels = compile_files(directory, label_file)"
   ]
  },
  {
   "cell_type": "code",
   "execution_count": 8,
   "metadata": {},
   "outputs": [
    {
     "data": {
      "text/plain": [
       "(181, 12447, 14)"
      ]
     },
     "execution_count": 8,
     "metadata": {},
     "output_type": "execute_result"
    }
   ],
   "source": [
    "features.shape"
   ]
  },
  {
   "cell_type": "code",
   "execution_count": 9,
   "metadata": {},
   "outputs": [],
   "source": [
    "np.save(\"gaze_features.npy\", features)"
   ]
  },
  {
   "cell_type": "code",
   "execution_count": 10,
   "metadata": {},
   "outputs": [],
   "source": [
    "labels.to_csv(\"gaze_labels.csv\", index=False)"
   ]
  },
  {
   "cell_type": "code",
   "execution_count": 15,
   "metadata": {},
   "outputs": [
    {
     "name": "stderr",
     "output_type": "stream",
     "text": [
      "C:\\Users\\65842\\Anaconda3\\lib\\site-packages\\ipykernel_launcher.py:5: ParserWarning: Falling back to the 'python' engine because the 'c' engine does not support regex separators (separators > 1 char and different from '\\s+' are interpreted as regex); you can avoid this warning by specifying engine='python'.\n",
      "  \"\"\"\n"
     ]
    }
   ],
   "source": [
    "features, labels = average_features(directory, label_file)"
   ]
  },
  {
   "cell_type": "code",
   "execution_count": 16,
   "metadata": {},
   "outputs": [],
   "source": [
    "np.save(\"avg_gaze.npy\", features)"
   ]
  },
  {
   "cell_type": "code",
   "execution_count": 18,
   "metadata": {},
   "outputs": [
    {
     "data": {
      "text/plain": [
       "(181, 14)"
      ]
     },
     "execution_count": 18,
     "metadata": {},
     "output_type": "execute_result"
    }
   ],
   "source": [
    "features.shape"
   ]
  }
 ],
 "metadata": {
  "kernelspec": {
   "display_name": "Python 3",
   "language": "python",
   "name": "python3"
  },
  "language_info": {
   "codemirror_mode": {
    "name": "ipython",
    "version": 3
   },
   "file_extension": ".py",
   "mimetype": "text/x-python",
   "name": "python",
   "nbconvert_exporter": "python",
   "pygments_lexer": "ipython3",
   "version": "3.6.10"
  }
 },
 "nbformat": 4,
 "nbformat_minor": 4
}
