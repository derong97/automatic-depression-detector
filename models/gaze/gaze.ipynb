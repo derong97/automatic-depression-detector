{
 "cells": [
  {
   "cell_type": "code",
   "execution_count": 137,
   "metadata": {},
   "outputs": [],
   "source": [
    "import numpy as np\n",
    "import pandas as pd\n",
    "import random\n",
    "from sklearn.utils import shuffle\n",
    "# from sklearn.model_selection import train_test_split\n",
    "from sklearn.model_selection import RepeatedKFold\n",
    "from imblearn.under_sampling import RandomUnderSampler\n",
    "from imblearn.over_sampling import SMOTE\n",
    "from sklearn.base import clone"
   ]
  },
  {
   "cell_type": "code",
   "execution_count": 138,
   "metadata": {},
   "outputs": [],
   "source": [
    "from sklearn.linear_model import LogisticRegression\n",
    "from sklearn.tree import DecisionTreeClassifier\n",
    "from sklearn.ensemble import RandomForestClassifier\n",
    "from sklearn.svm import SVC\n",
    "from sklearn.model_selection import GridSearchCV"
   ]
  },
  {
   "cell_type": "code",
   "execution_count": 139,
   "metadata": {},
   "outputs": [],
   "source": [
    "from keras.models import load_model\n",
    "from keras.models import Sequential\n",
    "from keras.layers import Dense\n",
    "from keras.layers import LSTM\n",
    "from keras.layers import Flatten\n",
    "from keras.callbacks import EarlyStopping, ModelCheckpoint\n",
    "from sklearn.metrics import classification_report, confusion_matrix, roc_curve, roc_auc_score, \\\n",
    "        f1_score, precision_score, recall_score\n",
    "import matplotlib.pyplot as plt"
   ]
  },
  {
   "cell_type": "markdown",
   "metadata": {},
   "source": [
    "# Load Data"
   ]
  },
  {
   "cell_type": "code",
   "execution_count": 140,
   "metadata": {},
   "outputs": [],
   "source": [
    "df = pd.read_csv(\"gaze_labels.csv\", index_col = \"Participant_ID\")"
   ]
  },
  {
   "cell_type": "code",
   "execution_count": 141,
   "metadata": {},
   "outputs": [
    {
     "data": {
      "text/html": [
       "<div>\n",
       "<style scoped>\n",
       "    .dataframe tbody tr th:only-of-type {\n",
       "        vertical-align: middle;\n",
       "    }\n",
       "\n",
       "    .dataframe tbody tr th {\n",
       "        vertical-align: top;\n",
       "    }\n",
       "\n",
       "    .dataframe thead th {\n",
       "        text-align: right;\n",
       "    }\n",
       "</style>\n",
       "<table border=\"1\" class=\"dataframe\">\n",
       "  <thead>\n",
       "    <tr style=\"text-align: right;\">\n",
       "      <th></th>\n",
       "      <th>PHQ_Score</th>\n",
       "      <th>PHQ_Binary</th>\n",
       "    </tr>\n",
       "    <tr>\n",
       "      <th>Participant_ID</th>\n",
       "      <th></th>\n",
       "      <th></th>\n",
       "    </tr>\n",
       "  </thead>\n",
       "  <tbody>\n",
       "    <tr>\n",
       "      <th>300</th>\n",
       "      <td>2</td>\n",
       "      <td>0</td>\n",
       "    </tr>\n",
       "    <tr>\n",
       "      <th>301</th>\n",
       "      <td>3</td>\n",
       "      <td>0</td>\n",
       "    </tr>\n",
       "    <tr>\n",
       "      <th>302</th>\n",
       "      <td>4</td>\n",
       "      <td>0</td>\n",
       "    </tr>\n",
       "    <tr>\n",
       "      <th>303</th>\n",
       "      <td>0</td>\n",
       "      <td>0</td>\n",
       "    </tr>\n",
       "    <tr>\n",
       "      <th>304</th>\n",
       "      <td>6</td>\n",
       "      <td>0</td>\n",
       "    </tr>\n",
       "  </tbody>\n",
       "</table>\n",
       "</div>"
      ],
      "text/plain": [
       "                PHQ_Score  PHQ_Binary\n",
       "Participant_ID                       \n",
       "300                     2           0\n",
       "301                     3           0\n",
       "302                     4           0\n",
       "303                     0           0\n",
       "304                     6           0"
      ]
     },
     "execution_count": 141,
     "metadata": {},
     "output_type": "execute_result"
    }
   ],
   "source": [
    "df.head()"
   ]
  },
  {
   "cell_type": "code",
   "execution_count": 142,
   "metadata": {},
   "outputs": [],
   "source": [
    "X = np.load(\"avg_gaze.npy\")\n",
    "y = df['PHQ_Binary']"
   ]
  },
  {
   "cell_type": "markdown",
   "metadata": {},
   "source": [
    "# Visualizing data"
   ]
  },
  {
   "cell_type": "code",
   "execution_count": 7,
   "metadata": {},
   "outputs": [
    {
     "ename": "NameError",
     "evalue": "name 'y_train' is not defined",
     "output_type": "error",
     "traceback": [
      "\u001b[1;31m---------------------------------------------------------------------------\u001b[0m",
      "\u001b[1;31mNameError\u001b[0m                                 Traceback (most recent call last)",
      "\u001b[1;32m<ipython-input-7-8281928eb996>\u001b[0m in \u001b[0;36m<module>\u001b[1;34m\u001b[0m\n\u001b[0;32m      2\u001b[0m \u001b[0mdep\u001b[0m \u001b[1;33m=\u001b[0m \u001b[1;33m[\u001b[0m\u001b[1;33m]\u001b[0m\u001b[1;33m\u001b[0m\u001b[1;33m\u001b[0m\u001b[0m\n\u001b[0;32m      3\u001b[0m \u001b[0mnon_dep\u001b[0m \u001b[1;33m=\u001b[0m \u001b[1;33m[\u001b[0m\u001b[1;33m]\u001b[0m\u001b[1;33m\u001b[0m\u001b[1;33m\u001b[0m\u001b[0m\n\u001b[1;32m----> 4\u001b[1;33m \u001b[1;32mfor\u001b[0m \u001b[0mi\u001b[0m \u001b[1;32min\u001b[0m \u001b[0mrange\u001b[0m\u001b[1;33m(\u001b[0m\u001b[0my_train\u001b[0m\u001b[1;33m.\u001b[0m\u001b[0mshape\u001b[0m\u001b[1;33m[\u001b[0m\u001b[1;36m0\u001b[0m\u001b[1;33m]\u001b[0m\u001b[1;33m)\u001b[0m\u001b[1;33m:\u001b[0m\u001b[1;33m\u001b[0m\u001b[1;33m\u001b[0m\u001b[0m\n\u001b[0m\u001b[0;32m      5\u001b[0m     \u001b[1;32mif\u001b[0m \u001b[0my_train\u001b[0m\u001b[1;33m[\u001b[0m\u001b[0mi\u001b[0m\u001b[1;33m]\u001b[0m \u001b[1;33m==\u001b[0m \u001b[1;36m1\u001b[0m\u001b[1;33m:\u001b[0m\u001b[1;33m\u001b[0m\u001b[1;33m\u001b[0m\u001b[0m\n\u001b[0;32m      6\u001b[0m         \u001b[0mdep\u001b[0m\u001b[1;33m.\u001b[0m\u001b[0mappend\u001b[0m\u001b[1;33m(\u001b[0m\u001b[0mX_train\u001b[0m\u001b[1;33m[\u001b[0m\u001b[0mi\u001b[0m\u001b[1;33m]\u001b[0m\u001b[1;33m)\u001b[0m\u001b[1;33m\u001b[0m\u001b[1;33m\u001b[0m\u001b[0m\n",
      "\u001b[1;31mNameError\u001b[0m: name 'y_train' is not defined"
     ]
    }
   ],
   "source": [
    "# separate depressed and non-depressed samples to plot\n",
    "dep = []\n",
    "non_dep = []\n",
    "for i in range(y_train.shape[0]):\n",
    "    if y_train[i] == 1:\n",
    "        dep.append(X_train[i])\n",
    "    else:\n",
    "        non_dep.append(X_train[i])\n",
    "dep = np.array(dep)\n",
    "non_dep = np.array(non_dep)"
   ]
  },
  {
   "cell_type": "code",
   "execution_count": null,
   "metadata": {},
   "outputs": [],
   "source": [
    "fig = plt.figure(figsize=(8, 6))\n",
    "ax0 = fig.add_subplot(111, projection='3d')\n",
    "\n",
    "xd = dep[:,0]\n",
    "yd = dep[:,1]\n",
    "zd = dep[:,2]\n",
    "ax0.scatter(xd, yd, zd, s=50, alpha=0.6, edgecolors='w')\n",
    "\n",
    "xn = non_dep[:,0]\n",
    "yn = non_dep[:,1]\n",
    "zn = non_dep[:,2]\n",
    "ax0.scatter(xn, yn, zn, s=50, alpha=0.6, edgecolors='w')\n",
    "\n",
    "\n",
    "ax0.set_xlabel('x0')\n",
    "ax0.set_ylabel('y0')\n",
    "ax0.set_zlabel('z0')"
   ]
  },
  {
   "cell_type": "code",
   "execution_count": null,
   "metadata": {},
   "outputs": [],
   "source": [
    "fig = plt.figure(figsize=(8, 6))\n",
    "ax1 = fig.add_subplot(111, projection='3d')\n",
    "\n",
    "xd = dep[:,3]\n",
    "yd = dep[:,4]\n",
    "zd = dep[:,5]\n",
    "ax1.scatter(xd, yd, zd, s=50, alpha=0.6, edgecolors='w')\n",
    "\n",
    "xn = non_dep[:,3]\n",
    "yn = non_dep[:,4]\n",
    "zn = non_dep[:,5]\n",
    "ax1.scatter(xn, yn, zn, s=50, alpha=0.6, edgecolors='w')\n",
    "\n",
    "\n",
    "ax1.set_xlabel('x1')\n",
    "ax1.set_ylabel('y1')\n",
    "ax1.set_zlabel('z1')"
   ]
  },
  {
   "cell_type": "code",
   "execution_count": null,
   "metadata": {},
   "outputs": [],
   "source": [
    "plt.scatter(xd, zd, label='depressed')\n",
    "plt.scatter(xn, zn, label='non-depressed')\n",
    "plt.legend()\n",
    "plt.show()"
   ]
  },
  {
   "cell_type": "code",
   "execution_count": null,
   "metadata": {
    "scrolled": false
   },
   "outputs": [],
   "source": [
    "fig = plt.figure(figsize=(8, 6))\n",
    "axh0 = fig.add_subplot(111, projection='3d')\n",
    "\n",
    "xd = dep[:,6]\n",
    "yd = dep[:,7]\n",
    "zd = dep[:,8]\n",
    "axh0.scatter(xd, yd, zd, s=50, alpha=0.6, edgecolors='w')\n",
    "\n",
    "xn = non_dep[:,6]\n",
    "yn = non_dep[:,7]\n",
    "zn = non_dep[:,8]\n",
    "axh0.scatter(xn, yn, zn, s=50, alpha=0.6, edgecolors='w')\n",
    "\n",
    "\n",
    "axh0.set_xlabel('x_h0')\n",
    "axh0.set_ylabel('y_h0')\n",
    "axh0.set_zlabel('z_h0')"
   ]
  },
  {
   "cell_type": "code",
   "execution_count": null,
   "metadata": {},
   "outputs": [],
   "source": [
    "plt.scatter(yd, zd, label='depressed')\n",
    "plt.scatter(yn, zn, label='non-depressed')\n",
    "plt.legend()\n",
    "plt.show()"
   ]
  },
  {
   "cell_type": "code",
   "execution_count": null,
   "metadata": {},
   "outputs": [],
   "source": [
    "fig = plt.figure(figsize=(8, 6))\n",
    "axh1 = fig.add_subplot(111, projection='3d')\n",
    "\n",
    "xd = dep[:,9]\n",
    "yd = dep[:,10]\n",
    "zd = dep[:,11]\n",
    "axh1.scatter(xd, yd, zd, s=50, alpha=0.6, edgecolors='w')\n",
    "\n",
    "xn = non_dep[:,9]\n",
    "yn = non_dep[:,10]\n",
    "zn = non_dep[:,11]\n",
    "axh1.scatter(xn, yn, zn, s=50, alpha=0.6, edgecolors='w')\n",
    "\n",
    "\n",
    "axh1.set_xlabel('x_h1')\n",
    "axh1.set_ylabel('y_h1')\n",
    "axh1.set_zlabel('z_h1')"
   ]
  },
  {
   "cell_type": "code",
   "execution_count": null,
   "metadata": {},
   "outputs": [],
   "source": [
    "plt.scatter(xd, yd, label='depressed')\n",
    "plt.scatter(xn, yn, label='non-depressed')\n",
    "plt.legend()\n",
    "plt.show()"
   ]
  },
  {
   "cell_type": "markdown",
   "metadata": {},
   "source": [
    "# Prepare data"
   ]
  },
  {
   "cell_type": "code",
   "execution_count": 143,
   "metadata": {},
   "outputs": [],
   "source": [
    "X_f0 = X[:,0:3]\n",
    "X_f1 = X[:,3:6]\n",
    "X_fh0 = X[:,6:9]\n",
    "X_fh1 = X[:,9:12]\n",
    "X_f01 = X[:,0:6]\n",
    "X_fh0h1 = X[:,6:12]"
   ]
  },
  {
   "cell_type": "code",
   "execution_count": 144,
   "metadata": {},
   "outputs": [],
   "source": [
    "def train_test(X, y, testfile='test_split_Depression_AVEC2017.csv'):\n",
    "    test_participants = pd.read_csv(testfile)['participant_ID'].values\n",
    "    X_train = []\n",
    "    X_test = []\n",
    "    y_train = []\n",
    "    y_test = []\n",
    "    for i in range(y.shape[0]):\n",
    "        participant_no = y.index[i]\n",
    "        if participant_no in test_participants:\n",
    "            X_test.append(X[i])\n",
    "            y_test.append(y[participant_no])\n",
    "        else:\n",
    "            X_train.append(X[i])\n",
    "            y_train.append(y[participant_no])\n",
    "    return np.array(X_train), np.array(X_test), np.array(y_train), np.array(y_test)"
   ]
  },
  {
   "cell_type": "code",
   "execution_count": 145,
   "metadata": {},
   "outputs": [],
   "source": [
    "X_train, X_test, y_train, y_test = train_test(X_f01, y, '../test_split_Depression_AVEC2017.csv')"
   ]
  },
  {
   "cell_type": "code",
   "execution_count": 146,
   "metadata": {},
   "outputs": [
    {
     "data": {
      "text/plain": [
       "(45, 6)"
      ]
     },
     "execution_count": 146,
     "metadata": {},
     "output_type": "execute_result"
    }
   ],
   "source": [
    "X_test.shape"
   ]
  },
  {
   "cell_type": "code",
   "execution_count": 147,
   "metadata": {},
   "outputs": [],
   "source": [
    "RANDOM_STATE = 42"
   ]
  },
  {
   "cell_type": "code",
   "execution_count": 148,
   "metadata": {},
   "outputs": [
    {
     "data": {
      "text/plain": [
       "((82, 6), (45, 6), (82,), (45,))"
      ]
     },
     "execution_count": 148,
     "metadata": {},
     "output_type": "execute_result"
    }
   ],
   "source": [
    "def undersampling(X_train, y_train):\n",
    "    random.seed(RANDOM_STATE)\n",
    "    \n",
    "    neg_list = [i for i in range(len(y_train)) if y_train[i] == 0]\n",
    "    pos_list = [i for i in range(len(y_train)) if y_train[i] == 1]\n",
    "    \n",
    "    if len(neg_list) < len(pos_list):\n",
    "        minority_list = neg_list\n",
    "        majority_list = pos_list\n",
    "    else:\n",
    "        minority_list = pos_list\n",
    "        majority_list = neg_list\n",
    "        \n",
    "    sampled_list = random.sample(majority_list, len(minority_list))\n",
    "    \n",
    "    final_list = sampled_list + minority_list\n",
    "    \n",
    "    X_train_us = []\n",
    "    y_train_us = []\n",
    "    \n",
    "    for i in final_list:\n",
    "        X_train_us.append(X_train[i])\n",
    "        y_train_us.append(y_train[i])\n",
    "                                 \n",
    "    return np.array(X_train_us), np.array(y_train_us)\n",
    "\n",
    "X_train, y_train = undersampling(X_train, y_train)\n",
    "X_train, y_train = shuffle(X_train, y_train, random_state=RANDOM_STATE)\n",
    "\n",
    "X_train.shape, X_test.shape, y_train.shape, y_test.shape"
   ]
  },
  {
   "cell_type": "code",
   "execution_count": 149,
   "metadata": {},
   "outputs": [],
   "source": [
    "# np.save(\"X_train_g01.npy\", X_train)\n",
    "# np.save(\"X_test_g01.npy\", X_test)\n",
    "# np.save(\"y_train_g01.npy\", y_train)"
   ]
  },
  {
   "cell_type": "markdown",
   "metadata": {},
   "source": [
    "# Evaluation Metrics"
   ]
  },
  {
   "cell_type": "code",
   "execution_count": 14,
   "metadata": {},
   "outputs": [],
   "source": [
    "def evaluate_on_training_set(y_test, y_pred):\n",
    "    # Calculate AUC\n",
    "    print(\"AUC is: \", roc_auc_score(y_test, y_pred))\n",
    "\n",
    "    # print out recall and precision\n",
    "    print(classification_report(y_test, y_pred))\n",
    "\n",
    "    # print out confusion matrix\n",
    "    print(\"Confusion Matrix: \\n\", confusion_matrix(y_test, y_pred))\n",
    "\n",
    "    # # calculate points for ROC curve\n",
    "    fpr, tpr, thresholds = roc_curve(y_test, y_pred)\n",
    "\n",
    "    # Plot ROC curve\n",
    "    plt.plot(fpr, tpr, label='ROC curve (area = %0.3f)' % roc_auc_score(y_test, y_pred))\n",
    "    plt.plot([0, 1], [0, 1], 'k--')\n",
    "    plt.ylim([0.0, 1.0])\n",
    "    plt.xlabel('False Positive Rate')\n",
    "    plt.ylabel('True Positive Rate')\n",
    "    plt.title('Receiver Operating Characteristic')"
   ]
  },
  {
   "cell_type": "markdown",
   "metadata": {},
   "source": [
    "# Testing different models using k-cross"
   ]
  },
  {
   "cell_type": "markdown",
   "metadata": {},
   "source": [
    "# Neural Network Model"
   ]
  },
  {
   "cell_type": "code",
   "execution_count": 1264,
   "metadata": {},
   "outputs": [],
   "source": [
    "# n_input = X_train.shape[1]\n",
    "# n_features = X_train.shape[2]\n",
    "# input_shape = (n_input, n_features)"
   ]
  },
  {
   "cell_type": "code",
   "execution_count": 1265,
   "metadata": {},
   "outputs": [],
   "source": [
    "model = Sequential()\n",
    "# model.add(LSTM(100, input_shape=input_shape, return_sequences=True))\n",
    "# model.add(LSTM(50, input_shape=input_shape))\n",
    "# model.add(Dense(1, activation='relu'))\n",
    "model.add(Dense(1, activation='sigmoid'))\n",
    "\n",
    "model.compile(loss='binary_crossentropy', optimizer='adam', metrics=['accuracy'])"
   ]
  },
  {
   "cell_type": "code",
   "execution_count": 1266,
   "metadata": {},
   "outputs": [],
   "source": [
    "es = EarlyStopping(monitor='val_accuracy', mode='max', patience=5)\n",
    "checkpoint_filepath = 'model.h5'\n",
    "checkpoint = ModelCheckpoint(filepath=checkpoint_filepath, monitor='val_accuracy', mode='max', save_best_only=True)"
   ]
  },
  {
   "cell_type": "code",
   "execution_count": 1267,
   "metadata": {},
   "outputs": [
    {
     "name": "stdout",
     "output_type": "stream",
     "text": [
      "Train on 122 samples, validate on 14 samples\n",
      "Epoch 1/30\n",
      "122/122 [==============================] - 0s 2ms/step - loss: 0.7321 - accuracy: 0.4180 - val_loss: 0.9151 - val_accuracy: 0.0000e+00\n",
      "Epoch 2/30\n",
      "122/122 [==============================] - 0s 434us/step - loss: 0.7264 - accuracy: 0.4180 - val_loss: 0.9012 - val_accuracy: 0.0714\n",
      "Epoch 3/30\n",
      "122/122 [==============================] - 0s 376us/step - loss: 0.7208 - accuracy: 0.4344 - val_loss: 0.8875 - val_accuracy: 0.0714\n",
      "Epoch 4/30\n",
      "122/122 [==============================] - 0s 329us/step - loss: 0.7148 - accuracy: 0.4508 - val_loss: 0.8754 - val_accuracy: 0.1429\n",
      "Epoch 5/30\n",
      "122/122 [==============================] - 0s 327us/step - loss: 0.7101 - accuracy: 0.4754 - val_loss: 0.8628 - val_accuracy: 0.1429\n",
      "Epoch 6/30\n",
      "122/122 [==============================] - 0s 294us/step - loss: 0.7054 - accuracy: 0.5000 - val_loss: 0.8507 - val_accuracy: 0.2143\n",
      "Epoch 7/30\n",
      "122/122 [==============================] - 0s 309us/step - loss: 0.7003 - accuracy: 0.5492 - val_loss: 0.8401 - val_accuracy: 0.2143\n",
      "Epoch 8/30\n",
      "122/122 [==============================] - 0s 358us/step - loss: 0.6961 - accuracy: 0.5492 - val_loss: 0.8291 - val_accuracy: 0.2143\n",
      "Epoch 9/30\n",
      "122/122 [==============================] - 0s 305us/step - loss: 0.6923 - accuracy: 0.5492 - val_loss: 0.8177 - val_accuracy: 0.2857\n",
      "Epoch 10/30\n",
      "122/122 [==============================] - 0s 278us/step - loss: 0.6885 - accuracy: 0.5820 - val_loss: 0.8068 - val_accuracy: 0.2857\n",
      "Epoch 11/30\n",
      "122/122 [==============================] - 0s 294us/step - loss: 0.6841 - accuracy: 0.5902 - val_loss: 0.7972 - val_accuracy: 0.2857\n",
      "Epoch 12/30\n",
      "122/122 [==============================] - 0s 290us/step - loss: 0.6809 - accuracy: 0.5984 - val_loss: 0.7869 - val_accuracy: 0.2857\n",
      "Epoch 13/30\n",
      "122/122 [==============================] - 0s 335us/step - loss: 0.6777 - accuracy: 0.5902 - val_loss: 0.7767 - val_accuracy: 0.4286\n",
      "Epoch 14/30\n",
      "122/122 [==============================] - 0s 313us/step - loss: 0.6742 - accuracy: 0.6230 - val_loss: 0.7676 - val_accuracy: 0.4286\n",
      "Epoch 15/30\n",
      "122/122 [==============================] - 0s 295us/step - loss: 0.6714 - accuracy: 0.6393 - val_loss: 0.7584 - val_accuracy: 0.5000\n",
      "Epoch 16/30\n",
      "122/122 [==============================] - 0s 294us/step - loss: 0.6691 - accuracy: 0.6230 - val_loss: 0.7490 - val_accuracy: 0.5000\n",
      "Epoch 17/30\n",
      "122/122 [==============================] - 0s 286us/step - loss: 0.6659 - accuracy: 0.6230 - val_loss: 0.7420 - val_accuracy: 0.5000\n",
      "Epoch 18/30\n",
      "122/122 [==============================] - 0s 302us/step - loss: 0.6638 - accuracy: 0.6230 - val_loss: 0.7343 - val_accuracy: 0.5000\n",
      "Epoch 19/30\n",
      "122/122 [==============================] - 0s 306us/step - loss: 0.6619 - accuracy: 0.6393 - val_loss: 0.7263 - val_accuracy: 0.5714\n",
      "Epoch 20/30\n",
      "122/122 [==============================] - 0s 302us/step - loss: 0.6595 - accuracy: 0.6311 - val_loss: 0.7194 - val_accuracy: 0.5714\n",
      "Epoch 21/30\n",
      "122/122 [==============================] - 0s 286us/step - loss: 0.6574 - accuracy: 0.6393 - val_loss: 0.7131 - val_accuracy: 0.5714\n",
      "Epoch 22/30\n",
      "122/122 [==============================] - 0s 303us/step - loss: 0.6561 - accuracy: 0.6230 - val_loss: 0.7051 - val_accuracy: 0.5714\n",
      "Epoch 23/30\n",
      "122/122 [==============================] - 0s 327us/step - loss: 0.6539 - accuracy: 0.6230 - val_loss: 0.6986 - val_accuracy: 0.5714\n",
      "Epoch 24/30\n",
      "122/122 [==============================] - 0s 343us/step - loss: 0.6526 - accuracy: 0.6230 - val_loss: 0.6918 - val_accuracy: 0.5714\n"
     ]
    },
    {
     "data": {
      "text/plain": [
       "<keras.callbacks.callbacks.History at 0x1e7cb5db8c8>"
      ]
     },
     "execution_count": 1267,
     "metadata": {},
     "output_type": "execute_result"
    }
   ],
   "source": [
    "model.fit(X_train, y_train, batch_size=16, epochs=30, validation_split=0.1, callbacks=[es, checkpoint])"
   ]
  },
  {
   "cell_type": "code",
   "execution_count": 1268,
   "metadata": {},
   "outputs": [],
   "source": [
    "model = load_model(checkpoint_filepath)"
   ]
  },
  {
   "cell_type": "code",
   "execution_count": 1269,
   "metadata": {},
   "outputs": [
    {
     "name": "stdout",
     "output_type": "stream",
     "text": [
      "[0 0 1 0 0 1 0 0 0 1 0 0 0 0 0 0 0 0 0 0 0 0 1 0 0 1 1 0 1 0 0 0 0 0 0 0 0\n",
      " 0 1 1 0 1 1 0 1]\n",
      "[0 0 0 1 1 1 0 0 0 1 0 1 0 1 1 0 1 0 1 0 0 0 1 0 0 1 0 1 0 0 0 0 0 0 0 0 1\n",
      " 1 0 0 0 0 0 0 0] \n",
      "\n",
      "AUC is:  0.5138248847926267\n",
      "              precision    recall  f1-score   support\n",
      "\n",
      "           0       0.70      0.74      0.72        31\n",
      "           1       0.33      0.29      0.31        14\n",
      "\n",
      "    accuracy                           0.60        45\n",
      "   macro avg       0.52      0.51      0.51        45\n",
      "weighted avg       0.58      0.60      0.59        45\n",
      "\n",
      "Confusion Matrix: \n",
      " [[23  8]\n",
      " [10  4]]\n"
     ]
    },
    {
     "data": {
      "image/png": "[encoded data removed]",
      "text/plain": [
       "<Figure size 432x288 with 1 Axes>"
      ]
     },
     "metadata": {
      "needs_background": "light"
     },
     "output_type": "display_data"
    }
   ],
   "source": [
    "predictions = model.predict(X_test)\n",
    "y_pred = np.where(predictions > 0.5, 1, 0).flatten()\n",
    "\n",
    "print(y_pred)\n",
    "print(y_test, '\\n')\n",
    "\n",
    "evaluate_on_training_set(y_test, y_pred)"
   ]
  },
  {
   "cell_type": "markdown",
   "metadata": {},
   "source": [
    "# k cross"
   ]
  },
  {
   "cell_type": "code",
   "execution_count": 126,
   "metadata": {},
   "outputs": [],
   "source": [
    "def k_cross(input_model, X=X_train, y=y_train, k=4, n=3, random_state=42):\n",
    "    f1_scores = []\n",
    "    recall_scores = []\n",
    "    rkf = RepeatedKFold(n_splits=k, n_repeats=n, random_state=random_state)\n",
    "    for train_index, val_index in rkf.split(X):\n",
    "        X_train, X_val = X[train_index], X[val_index]\n",
    "        y_train, y_val = y[train_index], y[val_index]\n",
    "        \n",
    "        model = clone(input_model)\n",
    "        model.fit(X_train, y_train) \n",
    "        \n",
    "        y_pred = model.predict(X_val)\n",
    "        f1 = f1_score(y_val, y_pred)\n",
    "        f1_scores.append(f1)\n",
    "        recall = recall_score(y_val, y_pred)\n",
    "        recall_scores.append(recall)\n",
    "        \n",
    "    return f1_scores, recall_scores"
   ]
  },
  {
   "cell_type": "markdown",
   "metadata": {},
   "source": [
    "# Evaluation"
   ]
  },
  {
   "cell_type": "code",
   "execution_count": 127,
   "metadata": {},
   "outputs": [],
   "source": [
    "def evaluate_model(model):\n",
    "    model.fit(X_train, y_train)\n",
    "    y_pred = model.predict(X_test)\n",
    "    print(y_pred)\n",
    "    print(y_test)\n",
    "    evaluate_on_training_set(y_test, y_pred)\n",
    "    \n",
    "    return model"
   ]
  },
  {
   "cell_type": "markdown",
   "metadata": {},
   "source": [
    "# Logistic Regression"
   ]
  },
  {
   "cell_type": "code",
   "execution_count": 150,
   "metadata": {},
   "outputs": [
    {
     "name": "stdout",
     "output_type": "stream",
     "text": [
      "power: 0: f1 = 0.0 > best f1 = -1\n",
      "power: 0: recall = 0.0 > best recall = -1\n",
      "power: 3: f1 = 0.01041666666666667 > best f1 = 0.0\n",
      "power: 3: recall = 0.007575757575757576 > best recall = 0.0\n",
      "F1 score: 0.01041666666666667\n"
     ]
    }
   ],
   "source": [
    "def find_best_logreg_model(power):\n",
    "    best_f1_model = None\n",
    "    best_recall_model = None\n",
    "    best_f1 = -1\n",
    "    best_recall = -1\n",
    "    \n",
    "    for i in range(power + 1):\n",
    "        model = LogisticRegression(n_jobs=3, C=10**i)\n",
    "        \n",
    "        f1_scores, recall_scores = k_cross(model)\n",
    "        f1 = np.mean(f1_scores)\n",
    "        recall = np.mean(recall_scores)\n",
    "\n",
    "        if f1 > best_f1:\n",
    "            print(f\"power: {i}: f1 = {f1} > best f1 = {best_f1}\")\n",
    "            best_f1 = f1\n",
    "            best_f1_model = model\n",
    "\n",
    "        if recall > best_recall:\n",
    "            print(f\"power: {i}: recall = {recall} > best recall = {best_recall}\")\n",
    "            best_recall = recall\n",
    "            best_recall_model = model\n",
    "            \n",
    "    print(\"F1 score:\", best_f1)\n",
    "    \n",
    "    return best_f1_model, best_recall_model\n",
    "\n",
    "best_logreg_f1_model, best_logreg_recall_model = find_best_logreg_model(6)"
   ]
  },
  {
   "cell_type": "code",
   "execution_count": 151,
   "metadata": {},
   "outputs": [
    {
     "name": "stdout",
     "output_type": "stream",
     "text": [
      "[1 0 1 1 0 1 1 1 1 0 1 1 0 0 1 0 0 1 0 0 1 0 1 1 0 1 0 0 0 0 1 1 1 0 0 0 0\n",
      " 0 1 1 1 0 1 1 1]\n",
      "[0 0 0 1 1 1 0 0 0 1 0 1 0 1 1 0 1 0 1 0 0 0 1 0 0 1 0 1 0 0 0 0 0 0 0 0 1\n",
      " 1 0 0 0 0 0 0 0]\n",
      "AUC is:  0.423963133640553\n",
      "              precision    recall  f1-score   support\n",
      "\n",
      "           0       0.62      0.42      0.50        31\n",
      "           1       0.25      0.43      0.32        14\n",
      "\n",
      "    accuracy                           0.42        45\n",
      "   macro avg       0.43      0.42      0.41        45\n",
      "weighted avg       0.50      0.42      0.44        45\n",
      "\n",
      "Confusion Matrix: \n",
      " [[13 18]\n",
      " [ 8  6]]\n"
     ]
    },
    {
     "data": {
      "text/plain": [
       "LogisticRegression(C=1000, n_jobs=3)"
      ]
     },
     "execution_count": 151,
     "metadata": {},
     "output_type": "execute_result"
    },
    {
     "data": {
      "image/png": "[encoded data removed]",
      "text/plain": [
       "<Figure size 432x288 with 1 Axes>"
      ]
     },
     "metadata": {
      "needs_background": "light"
     },
     "output_type": "display_data"
    }
   ],
   "source": [
    "# Based on f1\n",
    "evaluate_model(best_logreg_f1_model)"
   ]
  },
  {
   "cell_type": "markdown",
   "metadata": {},
   "source": [
    "# Decision Tree"
   ]
  },
  {
   "cell_type": "code",
   "execution_count": 152,
   "metadata": {},
   "outputs": [
    {
     "name": "stdout",
     "output_type": "stream",
     "text": [
      "depth: 1, leaf: 1: f1 = 0.06212606837606838 > best f1 = -1\n",
      "F1:  0.06212606837606838\n",
      "Recall:  0.04648245273245274\n",
      "depth: 1, leaf: 1: recall = 0.04648245273245274 > best recall = -1\n",
      "depth: 1, leaf: 6: f1 = 0.08434829059829059 > best f1 = 0.06212606837606838\n",
      "F1:  0.08434829059829059\n",
      "Recall:  0.06500097125097125\n",
      "depth: 1, leaf: 6: recall = 0.06500097125097125 > best recall = 0.04648245273245274\n",
      "depth: 1, leaf: 10: f1 = 0.09337606837606838 > best f1 = 0.08434829059829059\n",
      "F1:  0.09337606837606838\n",
      "Recall:  0.07426023051023051\n",
      "depth: 1, leaf: 10: recall = 0.07426023051023051 > best recall = 0.06500097125097125\n",
      "depth: 2, leaf: 6: f1 = 0.11064814814814815 > best f1 = 0.09337606837606838\n",
      "F1:  0.11064814814814815\n",
      "Recall:  0.08761493136493137\n",
      "depth: 2, leaf: 6: recall = 0.08761493136493137 > best recall = 0.07426023051023051\n",
      "depth: 2, leaf: 10: f1 = 0.14372964997965 > best f1 = 0.11064814814814815\n",
      "F1:  0.14372964997965\n",
      "Recall:  0.12528328153328153\n",
      "depth: 2, leaf: 10: recall = 0.12528328153328153 > best recall = 0.08761493136493137\n",
      "depth: 3, leaf: 10: f1 = 0.16046245421245423 > best f1 = 0.14372964997965\n",
      "F1:  0.16046245421245423\n",
      "Recall:  0.14148698523698522\n",
      "depth: 3, leaf: 10: recall = 0.14148698523698522 > best recall = 0.12528328153328153\n",
      "depth: 4, leaf: 6: f1 = 0.17885101010101012 > best f1 = 0.16046245421245423\n",
      "F1:  0.17885101010101012\n",
      "Recall:  0.15094858844858847\n",
      "depth: 4, leaf: 6: recall = 0.15094858844858847 > best recall = 0.14148698523698522\n",
      "depth: 4, leaf: 7: recall = 0.16304875679875683 > best recall = 0.15094858844858847\n",
      "depth: 4, leaf: 9: f1 = 0.1824518630464922 > best f1 = 0.17885101010101012\n",
      "F1:  0.1824518630464922\n",
      "Recall:  0.16589775964775966\n",
      "depth: 4, leaf: 9: recall = 0.16589775964775966 > best recall = 0.16304875679875683\n",
      "depth: 4, leaf: 10: f1 = 0.20252536421267067 > best f1 = 0.1824518630464922\n",
      "F1:  0.20252536421267067\n",
      "Recall:  0.19146594146594145\n",
      "depth: 4, leaf: 10: recall = 0.19146594146594145 > best recall = 0.16589775964775966\n",
      "depth: 5, leaf: 10: f1 = 0.20750772752836735 > best f1 = 0.20252536421267067\n",
      "F1:  0.20750772752836735\n",
      "Recall:  0.20482064232064232\n",
      "depth: 5, leaf: 10: recall = 0.20482064232064232 > best recall = 0.19146594146594145\n",
      "depth: 6, leaf: 1: f1 = 0.2222809248864236 > best f1 = 0.20750772752836735\n",
      "F1:  0.2222809248864236\n",
      "Recall:  0.20841427091427092\n",
      "depth: 6, leaf: 1: recall = 0.20841427091427092 > best recall = 0.20482064232064232\n",
      "depth: 6, leaf: 2: recall = 0.2118783993783994 > best recall = 0.20841427091427092\n",
      "depth: 6, leaf: 4: f1 = 0.2391673649682803 > best f1 = 0.2222809248864236\n",
      "F1:  0.2391673649682803\n",
      "Recall:  0.24375971250971254\n",
      "depth: 6, leaf: 4: recall = 0.24375971250971254 > best recall = 0.2118783993783994\n",
      "depth: 6, leaf: 5: f1 = 0.24475385725385726 > best f1 = 0.2391673649682803\n",
      "F1:  0.24475385725385726\n",
      "Recall:  0.25407116032116034\n",
      "depth: 6, leaf: 5: recall = 0.25407116032116034 > best recall = 0.24375971250971254\n",
      "depth: 7, leaf: 1: f1 = 0.25236602511471273 > best f1 = 0.24475385725385726\n",
      "F1:  0.25236602511471273\n",
      "Recall:  0.23040501165501168\n",
      "depth: 7, leaf: 2: f1 = 0.27493687799415356 > best f1 = 0.25236602511471273\n",
      "F1:  0.27493687799415356\n",
      "Recall:  0.2581746956746957\n",
      "depth: 7, leaf: 2: recall = 0.2581746956746957 > best recall = 0.25407116032116034\n",
      "depth: 7, leaf: 5: recall = 0.26288526288526287 > best recall = 0.2581746956746957\n",
      "depth: 9, leaf: 5: recall = 0.2824721574721574 > best recall = 0.26288526288526287\n",
      "depth: 11, leaf: 1: f1 = 0.279602857943819 > best f1 = 0.27493687799415356\n",
      "F1:  0.279602857943819\n",
      "Recall:  0.26753917378917375\n",
      "depth: 12, leaf: 1: f1 = 0.29467054388107017 > best f1 = 0.279602857943819\n",
      "F1:  0.29467054388107017\n",
      "Recall:  0.2879354441854442\n",
      "depth: 12, leaf: 1: recall = 0.2879354441854442 > best recall = 0.2824721574721574\n",
      "depth: 13, leaf: 1: f1 = 0.30106214610600573 > best f1 = 0.29467054388107017\n",
      "F1:  0.30106214610600573\n",
      "Recall:  0.29719470344470345\n",
      "depth: 13, leaf: 1: recall = 0.29719470344470345 > best recall = 0.2879354441854442\n",
      "F1 score: 0.30106214610600573\n"
     ]
    }
   ],
   "source": [
    "def find_best_tree_model(upper_depth, upper_leaf):\n",
    "    best_f1_model = None\n",
    "    best_recall_model = None\n",
    "    best_f1 = -1\n",
    "    best_recall = -1\n",
    "    \n",
    "    for depth in range(1, upper_depth + 1):\n",
    "        for leaf in range(1, upper_leaf + 1):\n",
    "            model = DecisionTreeClassifier(random_state=RANDOM_STATE, max_depth=depth, min_samples_leaf=leaf) \n",
    "            \n",
    "            f1_scores, recall_scores = k_cross(model)\n",
    "            f1 = np.mean(f1_scores)\n",
    "            recall = np.mean(recall_scores)\n",
    "            \n",
    "            if f1 > best_f1:\n",
    "                print(f\"depth: {depth}, leaf: {leaf}: f1 = {f1} > best f1 = {best_f1}\")\n",
    "                best_f1 = f1\n",
    "                best_f1_model = model\n",
    "                \n",
    "                print(\"F1: \",f1)\n",
    "                print(\"Recall: \", recall)\n",
    "                \n",
    "            if recall > best_recall:\n",
    "                print(f\"depth: {depth}, leaf: {leaf}: recall = {recall} > best recall = {best_recall}\")\n",
    "                best_recall = recall\n",
    "                best_recall_model = model\n",
    "                \n",
    "            \n",
    "    print(\"F1 score:\", best_f1)\n",
    "    \n",
    "    return best_f1_model, best_recall_model\n",
    "\n",
    "best_tree_f1_model, best_tree_recall_model = find_best_tree_model(20, 30)"
   ]
  },
  {
   "cell_type": "code",
   "execution_count": 153,
   "metadata": {},
   "outputs": [
    {
     "name": "stdout",
     "output_type": "stream",
     "text": [
      "[1 0 1 0 1 1 1 1 0 1 1 1 0 1 0 1 1 1 0 1 1 1 1 0 1 0 1 1 0 1 1 1 0 0 1 0 0\n",
      " 1 1 0 1 0 1 0 1]\n",
      "[0 0 0 1 1 1 0 0 0 1 0 1 0 1 1 0 1 0 1 0 0 0 1 0 0 1 0 1 0 0 0 0 0 0 0 0 1\n",
      " 1 0 0 0 0 0 0 0]\n",
      "AUC is:  0.49884792626728114\n",
      "              precision    recall  f1-score   support\n",
      "\n",
      "           0       0.69      0.35      0.47        31\n",
      "           1       0.31      0.64      0.42        14\n",
      "\n",
      "    accuracy                           0.44        45\n",
      "   macro avg       0.50      0.50      0.44        45\n",
      "weighted avg       0.57      0.44      0.45        45\n",
      "\n",
      "Confusion Matrix: \n",
      " [[11 20]\n",
      " [ 5  9]]\n"
     ]
    },
    {
     "data": {
      "text/plain": [
       "DecisionTreeClassifier(max_depth=13, random_state=42)"
      ]
     },
     "execution_count": 153,
     "metadata": {},
     "output_type": "execute_result"
    },
    {
     "data": {
      "image/png": "[encoded data removed]",
      "text/plain": [
       "<Figure size 432x288 with 1 Axes>"
      ]
     },
     "metadata": {
      "needs_background": "light"
     },
     "output_type": "display_data"
    }
   ],
   "source": [
    "# Based on f1\n",
    "evaluate_model(best_tree_f1_model)"
   ]
  },
  {
   "cell_type": "code",
   "execution_count": 154,
   "metadata": {},
   "outputs": [
    {
     "name": "stdout",
     "output_type": "stream",
     "text": [
      "[1 0 1 0 1 1 1 1 0 1 1 1 0 1 0 1 1 1 0 1 1 1 1 0 1 0 1 1 0 1 1 1 0 0 1 0 0\n",
      " 1 1 0 1 0 1 0 1]\n",
      "[0 0 0 1 1 1 0 0 0 1 0 1 0 1 1 0 1 0 1 0 0 0 1 0 0 1 0 1 0 0 0 0 0 0 0 0 1\n",
      " 1 0 0 0 0 0 0 0]\n",
      "AUC is:  0.49884792626728114\n",
      "              precision    recall  f1-score   support\n",
      "\n",
      "           0       0.69      0.35      0.47        31\n",
      "           1       0.31      0.64      0.42        14\n",
      "\n",
      "    accuracy                           0.44        45\n",
      "   macro avg       0.50      0.50      0.44        45\n",
      "weighted avg       0.57      0.44      0.45        45\n",
      "\n",
      "Confusion Matrix: \n",
      " [[11 20]\n",
      " [ 5  9]]\n"
     ]
    },
    {
     "data": {
      "text/plain": [
       "DecisionTreeClassifier(max_depth=13, random_state=42)"
      ]
     },
     "execution_count": 154,
     "metadata": {},
     "output_type": "execute_result"
    },
    {
     "data": {
      "image/png": "[encoded data removed]",
      "text/plain": [
       "<Figure size 432x288 with 1 Axes>"
      ]
     },
     "metadata": {
      "needs_background": "light"
     },
     "output_type": "display_data"
    }
   ],
   "source": [
    "# Based on recall\n",
    "evaluate_model(best_tree_recall_model)"
   ]
  },
  {
   "cell_type": "markdown",
   "metadata": {},
   "source": [
    "# RF"
   ]
  },
  {
   "cell_type": "code",
   "execution_count": 155,
   "metadata": {},
   "outputs": [
    {
     "name": "stdout",
     "output_type": "stream",
     "text": [
      "estimator: 1: f1 = 0.253076905226028 > best f1 = -1\n",
      "estimator: 1: recall = 0.24718337218337214 > best recall = -1\n",
      "F1 score: 0.253076905226028\n"
     ]
    }
   ],
   "source": [
    "def find_best_forest_model(n_estimators):\n",
    "    best_f1_model = None\n",
    "    best_recall_model = None\n",
    "    best_f1 = -1\n",
    "    best_recall = -1\n",
    "    \n",
    "    for estimator in range(1, n_estimators + 1):\n",
    "        model = RandomForestClassifier(random_state=RANDOM_STATE, n_estimators=estimator) \n",
    "        \n",
    "        f1_scores, recall_scores = k_cross(model)\n",
    "        f1 = np.mean(f1_scores)\n",
    "        recall = np.mean(recall_scores)\n",
    "\n",
    "        if f1 > best_f1:\n",
    "            print(f\"estimator: {estimator}: f1 = {f1} > best f1 = {best_f1}\")\n",
    "            best_f1 = f1\n",
    "            best_f1_model = model\n",
    "\n",
    "        if recall > best_recall:\n",
    "            print(f\"estimator: {estimator}: recall = {recall} > best recall = {best_recall}\")\n",
    "            best_recall = recall\n",
    "            best_recall_model = model\n",
    "    print(\"F1 score:\", best_f1)\n",
    "    \n",
    "    return best_f1_model, best_recall_model\n",
    "\n",
    "best_forest_f1_model, best_forest_recall_model = find_best_forest_model(30)"
   ]
  },
  {
   "cell_type": "code",
   "execution_count": 156,
   "metadata": {},
   "outputs": [
    {
     "name": "stdout",
     "output_type": "stream",
     "text": [
      "[1 0 1 0 1 1 0 1 0 1 0 0 0 1 0 0 1 1 0 1 0 0 1 0 1 0 0 0 0 1 1 1 0 1 1 1 0\n",
      " 1 0 0 0 0 0 0 0]\n",
      "[0 0 0 1 1 1 0 0 0 1 0 1 0 1 1 0 1 0 1 0 0 0 1 0 0 1 0 1 0 0 0 0 0 0 0 0 1\n",
      " 1 0 0 0 0 0 0 0]\n",
      "AUC is:  0.5564516129032259\n",
      "              precision    recall  f1-score   support\n",
      "\n",
      "           0       0.73      0.61      0.67        31\n",
      "           1       0.37      0.50      0.42        14\n",
      "\n",
      "    accuracy                           0.58        45\n",
      "   macro avg       0.55      0.56      0.55        45\n",
      "weighted avg       0.62      0.58      0.59        45\n",
      "\n",
      "Confusion Matrix: \n",
      " [[19 12]\n",
      " [ 7  7]]\n"
     ]
    },
    {
     "data": {
      "text/plain": [
       "RandomForestClassifier(n_estimators=1, random_state=42)"
      ]
     },
     "execution_count": 156,
     "metadata": {},
     "output_type": "execute_result"
    },
    {
     "data": {
      "image/png": "[encoded data removed]",
      "text/plain": [
       "<Figure size 432x288 with 1 Axes>"
      ]
     },
     "metadata": {
      "needs_background": "light"
     },
     "output_type": "display_data"
    }
   ],
   "source": [
    "# Based on f1\n",
    "evaluate_model(best_forest_f1_model)"
   ]
  },
  {
   "cell_type": "code",
   "execution_count": 157,
   "metadata": {},
   "outputs": [
    {
     "name": "stdout",
     "output_type": "stream",
     "text": [
      "[1 0 1 0 1 1 0 1 0 1 0 0 0 1 0 0 1 1 0 1 0 0 1 0 1 0 0 0 0 1 1 1 0 1 1 1 0\n",
      " 1 0 0 0 0 0 0 0]\n",
      "[0 0 0 1 1 1 0 0 0 1 0 1 0 1 1 0 1 0 1 0 0 0 1 0 0 1 0 1 0 0 0 0 0 0 0 0 1\n",
      " 1 0 0 0 0 0 0 0]\n",
      "AUC is:  0.5564516129032259\n",
      "              precision    recall  f1-score   support\n",
      "\n",
      "           0       0.73      0.61      0.67        31\n",
      "           1       0.37      0.50      0.42        14\n",
      "\n",
      "    accuracy                           0.58        45\n",
      "   macro avg       0.55      0.56      0.55        45\n",
      "weighted avg       0.62      0.58      0.59        45\n",
      "\n",
      "Confusion Matrix: \n",
      " [[19 12]\n",
      " [ 7  7]]\n"
     ]
    },
    {
     "data": {
      "text/plain": [
       "RandomForestClassifier(n_estimators=1, random_state=42)"
      ]
     },
     "execution_count": 157,
     "metadata": {},
     "output_type": "execute_result"
    },
    {
     "data": {
      "image/png": "[encoded data removed]",
      "text/plain": [
       "<Figure size 432x288 with 1 Axes>"
      ]
     },
     "metadata": {
      "needs_background": "light"
     },
     "output_type": "display_data"
    }
   ],
   "source": [
    "# Based on recall\n",
    "evaluate_model(best_forest_recall_model)"
   ]
  },
  {
   "cell_type": "markdown",
   "metadata": {},
   "source": [
    "# SVM with Grid Search"
   ]
  },
  {
   "cell_type": "code",
   "execution_count": 158,
   "metadata": {},
   "outputs": [
    {
     "name": "stdout",
     "output_type": "stream",
     "text": [
      "Fitting 10 folds for each of 27 candidates, totalling 270 fits\n"
     ]
    },
    {
     "name": "stderr",
     "output_type": "stream",
     "text": [
      "[Parallel(n_jobs=4)]: Using backend LokyBackend with 4 concurrent workers.\n",
      "[Parallel(n_jobs=4)]: Done 250 tasks      | elapsed:    1.0s\n",
      "[Parallel(n_jobs=4)]: Done 270 out of 270 | elapsed:    5.6s finished\n",
      "[Parallel(n_jobs=4)]: Using backend LokyBackend with 4 concurrent workers.\n"
     ]
    },
    {
     "name": "stdout",
     "output_type": "stream",
     "text": [
      "Fitting 10 folds for each of 27 candidates, totalling 270 fits\n"
     ]
    },
    {
     "name": "stderr",
     "output_type": "stream",
     "text": [
      "[Parallel(n_jobs=4)]: Done 250 tasks      | elapsed:    0.8s\n",
      "[Parallel(n_jobs=4)]: Done 270 out of 270 | elapsed:    6.0s finished\n",
      "[Parallel(n_jobs=4)]: Using backend LokyBackend with 4 concurrent workers.\n"
     ]
    },
    {
     "name": "stdout",
     "output_type": "stream",
     "text": [
      "Fitting 10 folds for each of 27 candidates, totalling 270 fits\n"
     ]
    },
    {
     "name": "stderr",
     "output_type": "stream",
     "text": [
      "[Parallel(n_jobs=4)]: Done 235 tasks      | elapsed:    0.5s\n",
      "[Parallel(n_jobs=4)]: Done 270 out of 270 | elapsed:    6.1s finished\n",
      "[Parallel(n_jobs=4)]: Using backend LokyBackend with 4 concurrent workers.\n"
     ]
    },
    {
     "name": "stdout",
     "output_type": "stream",
     "text": [
      "Fitting 10 folds for each of 27 candidates, totalling 270 fits\n"
     ]
    },
    {
     "name": "stderr",
     "output_type": "stream",
     "text": [
      "[Parallel(n_jobs=4)]: Done 235 tasks      | elapsed:    0.9s\n",
      "[Parallel(n_jobs=4)]: Done 270 out of 270 | elapsed:    6.7s finished\n",
      "[Parallel(n_jobs=4)]: Using backend LokyBackend with 4 concurrent workers.\n"
     ]
    },
    {
     "name": "stdout",
     "output_type": "stream",
     "text": [
      "Fitting 10 folds for each of 27 candidates, totalling 270 fits\n"
     ]
    },
    {
     "name": "stderr",
     "output_type": "stream",
     "text": [
      "[Parallel(n_jobs=4)]: Done 250 tasks      | elapsed:    0.9s\n",
      "[Parallel(n_jobs=4)]: Done 270 out of 270 | elapsed:    5.8s finished\n",
      "[Parallel(n_jobs=4)]: Using backend LokyBackend with 4 concurrent workers.\n"
     ]
    },
    {
     "name": "stdout",
     "output_type": "stream",
     "text": [
      "Fitting 10 folds for each of 27 candidates, totalling 270 fits\n"
     ]
    },
    {
     "name": "stderr",
     "output_type": "stream",
     "text": [
      "[Parallel(n_jobs=4)]: Done 235 tasks      | elapsed:    0.5s\n",
      "[Parallel(n_jobs=4)]: Done 270 out of 270 | elapsed:    5.6s finished\n",
      "[Parallel(n_jobs=4)]: Using backend LokyBackend with 4 concurrent workers.\n"
     ]
    },
    {
     "name": "stdout",
     "output_type": "stream",
     "text": [
      "Fitting 10 folds for each of 27 candidates, totalling 270 fits\n"
     ]
    },
    {
     "name": "stderr",
     "output_type": "stream",
     "text": [
      "[Parallel(n_jobs=4)]: Done 250 tasks      | elapsed:    1.0s\n",
      "[Parallel(n_jobs=4)]: Done 270 out of 270 | elapsed:    6.8s finished\n",
      "[Parallel(n_jobs=4)]: Using backend LokyBackend with 4 concurrent workers.\n"
     ]
    },
    {
     "name": "stdout",
     "output_type": "stream",
     "text": [
      "Fitting 10 folds for each of 27 candidates, totalling 270 fits\n"
     ]
    },
    {
     "name": "stderr",
     "output_type": "stream",
     "text": [
      "[Parallel(n_jobs=4)]: Done 235 tasks      | elapsed:    0.4s\n",
      "[Parallel(n_jobs=4)]: Done 270 out of 270 | elapsed:    3.4s finished\n",
      "[Parallel(n_jobs=4)]: Using backend LokyBackend with 4 concurrent workers.\n"
     ]
    },
    {
     "name": "stdout",
     "output_type": "stream",
     "text": [
      "Fitting 10 folds for each of 27 candidates, totalling 270 fits\n"
     ]
    },
    {
     "name": "stderr",
     "output_type": "stream",
     "text": [
      "[Parallel(n_jobs=4)]: Done 250 tasks      | elapsed:    0.7s\n",
      "[Parallel(n_jobs=4)]: Done 270 out of 270 | elapsed:    8.7s finished\n",
      "[Parallel(n_jobs=4)]: Using backend LokyBackend with 4 concurrent workers.\n"
     ]
    },
    {
     "name": "stdout",
     "output_type": "stream",
     "text": [
      "Fitting 10 folds for each of 27 candidates, totalling 270 fits\n"
     ]
    },
    {
     "name": "stderr",
     "output_type": "stream",
     "text": [
      "[Parallel(n_jobs=4)]: Done 235 tasks      | elapsed:    0.8s\n",
      "[Parallel(n_jobs=4)]: Done 270 out of 270 | elapsed:    7.9s finished\n",
      "[Parallel(n_jobs=4)]: Using backend LokyBackend with 4 concurrent workers.\n"
     ]
    },
    {
     "name": "stdout",
     "output_type": "stream",
     "text": [
      "Fitting 10 folds for each of 27 candidates, totalling 270 fits\n"
     ]
    },
    {
     "name": "stderr",
     "output_type": "stream",
     "text": [
      "[Parallel(n_jobs=4)]: Done 235 tasks      | elapsed:    0.6s\n",
      "[Parallel(n_jobs=4)]: Done 270 out of 270 | elapsed:    4.4s finished\n",
      "[Parallel(n_jobs=4)]: Using backend LokyBackend with 4 concurrent workers.\n"
     ]
    },
    {
     "name": "stdout",
     "output_type": "stream",
     "text": [
      "Fitting 10 folds for each of 27 candidates, totalling 270 fits\n"
     ]
    },
    {
     "name": "stderr",
     "output_type": "stream",
     "text": [
      "[Parallel(n_jobs=4)]: Done 235 tasks      | elapsed:    0.6s\n",
      "[Parallel(n_jobs=4)]: Done 270 out of 270 | elapsed:    5.7s finished\n",
      "[Parallel(n_jobs=4)]: Using backend LokyBackend with 4 concurrent workers.\n"
     ]
    },
    {
     "name": "stdout",
     "output_type": "stream",
     "text": [
      "f1 mean score: 0.07430555555555556\n",
      "recall mean score: 0.05165436415436416\n",
      "Fitting 10 folds for each of 27 candidates, totalling 270 fits\n"
     ]
    },
    {
     "name": "stderr",
     "output_type": "stream",
     "text": [
      "[Parallel(n_jobs=4)]: Done 235 tasks      | elapsed:    0.4s\n",
      "[Parallel(n_jobs=4)]: Done 270 out of 270 | elapsed:    0.9s finished\n"
     ]
    },
    {
     "name": "stdout",
     "output_type": "stream",
     "text": [
      "[0 0 1 0 0 0 0 0 0 0 1 1 0 0 1 1 0 1 0 1 1 0 0 1 0 1 0 0 0 0 1 1 0 0 0 0 0\n",
      " 0 1 0 1 0 1 0 0]\n",
      "[0 0 0 1 1 1 0 0 0 1 0 1 0 1 1 0 1 0 1 0 0 0 1 0 0 1 0 1 0 0 0 0 0 0 0 0 1\n",
      " 1 0 0 0 0 0 0 0]\n",
      "AUC is:  0.4135944700460829\n",
      "              precision    recall  f1-score   support\n",
      "\n",
      "           0       0.63      0.61      0.62        31\n",
      "           1       0.20      0.21      0.21        14\n",
      "\n",
      "    accuracy                           0.49        45\n",
      "   macro avg       0.42      0.41      0.41        45\n",
      "weighted avg       0.50      0.49      0.49        45\n",
      "\n",
      "Confusion Matrix: \n",
      " [[19 12]\n",
      " [11  3]]\n",
      "Best SVM parameters: {'C': 100, 'degree': 3, 'kernel': 'poly'}\n"
     ]
    },
    {
     "data": {
      "image/png": "[encoded data removed]",
      "text/plain": [
       "<Figure size 432x288 with 1 Axes>"
      ]
     },
     "metadata": {
      "needs_background": "light"
     },
     "output_type": "display_data"
    }
   ],
   "source": [
    "tuned_parameters = [{'kernel': ['rbf'], 'gamma': [1e-3, 1e-4], 'C': [1, 10, 100]},\n",
    "                    {'kernel': ['poly'], 'degree': [3, 4, 5, 6, 7], 'C': [1, 10, 100]},\n",
    "                    {'kernel': ['linear'], 'C': [1, 10, 100, 1000, 10000, 100000]}]\n",
    "\n",
    "svm_model_cv = GridSearchCV(SVC(), tuned_parameters, cv=10, scoring='f1', verbose=1, n_jobs=4)\n",
    "\n",
    "f1_scores, recall_scores = k_cross(svm_model_cv)\n",
    "print(f\"f1 mean score: {np.mean(f1_scores)}\")\n",
    "print(f\"recall mean score: {np.mean(recall_scores)}\")\n",
    "\n",
    "best_svm_model = evaluate_model(svm_model_cv)\n",
    "print(f\"Best SVM parameters: {best_svm_model.best_params_}\")"
   ]
  },
  {
   "cell_type": "code",
   "execution_count": null,
   "metadata": {},
   "outputs": [],
   "source": []
  }
 ],
 "metadata": {
  "kernelspec": {
   "display_name": "Python 3",
   "language": "python",
   "name": "python3"
  },
  "language_info": {
   "codemirror_mode": {
    "name": "ipython",
    "version": 3
   },
   "file_extension": ".py",
   "mimetype": "text/x-python",
   "name": "python",
   "nbconvert_exporter": "python",
   "pygments_lexer": "ipython3",
   "version": "3.6.10"
  }
 },
 "nbformat": 4,
 "nbformat_minor": 4
}
