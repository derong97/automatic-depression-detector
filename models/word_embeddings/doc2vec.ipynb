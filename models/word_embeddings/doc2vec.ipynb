{
 "cells": [
  {
   "cell_type": "markdown",
   "metadata": {},
   "source": [
    "# Import necessary modules"
   ]
  },
  {
   "cell_type": "code",
   "execution_count": 1,
   "metadata": {},
   "outputs": [
    {
     "name": "stdout",
     "output_type": "stream",
     "text": [
      "Requirement already satisfied: gensim in /opt/conda/lib/python3.6/site-packages (3.8.3)\n",
      "Requirement already satisfied: six>=1.5.0 in /opt/conda/lib/python3.6/site-packages (from gensim) (1.15.0)\n",
      "Requirement already satisfied: scipy>=0.18.1 in /opt/conda/lib/python3.6/site-packages (from gensim) (1.4.1)\n",
      "Requirement already satisfied: numpy>=1.11.3 in /opt/conda/lib/python3.6/site-packages (from gensim) (1.18.5)\n",
      "Requirement already satisfied: smart-open>=1.8.1 in /opt/conda/lib/python3.6/site-packages (from gensim) (4.0.0)\n",
      "Requirement already satisfied: requests in /opt/conda/lib/python3.6/site-packages (from smart-open>=1.8.1->gensim) (2.23.0)\n",
      "Requirement already satisfied: chardet<4,>=3.0.2 in /opt/conda/lib/python3.6/site-packages (from requests->smart-open>=1.8.1->gensim) (3.0.4)\n",
      "Requirement already satisfied: urllib3!=1.25.0,!=1.25.1,<1.26,>=1.21.1 in /opt/conda/lib/python3.6/site-packages (from requests->smart-open>=1.8.1->gensim) (1.25.9)\n",
      "Requirement already satisfied: certifi>=2017.4.17 in /opt/conda/lib/python3.6/site-packages (from requests->smart-open>=1.8.1->gensim) (2020.4.5.2)\n",
      "Requirement already satisfied: idna<3,>=2.5 in /opt/conda/lib/python3.6/site-packages (from requests->smart-open>=1.8.1->gensim) (2.9)\n"
     ]
    }
   ],
   "source": [
    "!pip install gensim\n",
    "\n",
    "# Standard libraries\n",
    "import pandas as pd\n",
    "import numpy as np\n",
    "import matplotlib.pyplot as plt\n",
    "from pathlib import Path\n",
    "\n",
    "# Processing\n",
    "from sklearn.base import clone\n",
    "from sklearn.utils import shuffle\n",
    "from sklearn.model_selection import RepeatedKFold\n",
    "from tqdm import tqdm\n",
    "\n",
    "# gensim\n",
    "import gensim\n",
    "from gensim.models import doc2vec\n",
    "from gensim.models.doc2vec import TaggedDocument\n",
    "\n",
    "# Metrics\n",
    "from sklearn import utils\n",
    "from sklearn.metrics import classification_report, confusion_matrix, roc_curve, roc_auc_score, \\\n",
    "        f1_score, precision_score, recall_score\n",
    "\n",
    "# Classifiers\n",
    "from sklearn.linear_model import LogisticRegression\n",
    "from sklearn.tree import DecisionTreeClassifier\n",
    "from sklearn.ensemble import RandomForestClassifier\n",
    "from sklearn.svm import SVC\n",
    "from sklearn.model_selection import GridSearchCV"
   ]
  },
  {
   "cell_type": "markdown",
   "metadata": {},
   "source": [
    "# Prepare data"
   ]
  },
  {
   "cell_type": "code",
   "execution_count": 2,
   "metadata": {},
   "outputs": [
    {
     "data": {
      "text/html": [
       "<div>\n",
       "<style scoped>\n",
       "    .dataframe tbody tr th:only-of-type {\n",
       "        vertical-align: middle;\n",
       "    }\n",
       "\n",
       "    .dataframe tbody tr th {\n",
       "        vertical-align: top;\n",
       "    }\n",
       "\n",
       "    .dataframe thead th {\n",
       "        text-align: right;\n",
       "    }\n",
       "</style>\n",
       "<table border=\"1\" class=\"dataframe\">\n",
       "  <thead>\n",
       "    <tr style=\"text-align: right;\">\n",
       "      <th></th>\n",
       "      <th>Transcript</th>\n",
       "      <th>PHQ_Binary</th>\n",
       "    </tr>\n",
       "    <tr>\n",
       "      <th>Participant_ID</th>\n",
       "      <th></th>\n",
       "      <th></th>\n",
       "    </tr>\n",
       "  </thead>\n",
       "  <tbody>\n",
       "    <tr>\n",
       "      <th>300</th>\n",
       "      <td>good atlanta georgia um my parents um i love i...</td>\n",
       "      <td>0</td>\n",
       "    </tr>\n",
       "    <tr>\n",
       "      <th>301</th>\n",
       "      <td>thank you mmm k i good thank you i los angeles...</td>\n",
       "      <td>0</td>\n",
       "    </tr>\n",
       "    <tr>\n",
       "      <th>302</th>\n",
       "      <td>i fine yourself i los angeles california part ...</td>\n",
       "      <td>0</td>\n",
       "    </tr>\n",
       "    <tr>\n",
       "      <th>303</th>\n",
       "      <td>okay bout yourself california yeah oh well it ...</td>\n",
       "      <td>0</td>\n",
       "    </tr>\n",
       "    <tr>\n",
       "      <th>304</th>\n",
       "      <td>i good um los angeles california um cool weath...</td>\n",
       "      <td>0</td>\n",
       "    </tr>\n",
       "  </tbody>\n",
       "</table>\n",
       "</div>"
      ],
      "text/plain": [
       "                                                       Transcript  PHQ_Binary\n",
       "Participant_ID                                                               \n",
       "300             good atlanta georgia um my parents um i love i...           0\n",
       "301             thank you mmm k i good thank you i los angeles...           0\n",
       "302             i fine yourself i los angeles california part ...           0\n",
       "303             okay bout yourself california yeah oh well it ...           0\n",
       "304             i good um los angeles california um cool weath...           0"
      ]
     },
     "execution_count": 2,
     "metadata": {},
     "output_type": "execute_result"
    }
   ],
   "source": [
    "df = pd.read_csv(\"clean_compiled_transcripts.csv\", index_col = \"Participant_ID\")\n",
    "df.head()"
   ]
  },
  {
   "cell_type": "markdown",
   "metadata": {},
   "source": [
    "## Split the dataset (skip if you have the numpy data) "
   ]
  },
  {
   "cell_type": "code",
   "execution_count": 3,
   "metadata": {},
   "outputs": [],
   "source": [
    "X = df.Transcript\n",
    "y = df.PHQ_Binary"
   ]
  },
  {
   "cell_type": "code",
   "execution_count": 4,
   "metadata": {},
   "outputs": [],
   "source": [
    "def get_ylabel(val):\n",
    "    # due to upsampling in train dataset, there are many repeated participants e.g. 305\n",
    "    if isinstance(val, np.int64):\n",
    "        return val\n",
    "    else:\n",
    "        return val.values[0] # the other values are the same\n",
    "\n",
    "def train_test(X, y, testfile='test_split_Depression_AVEC2017.csv'):\n",
    "    test_participants = pd.read_csv(testfile)['participant_ID'].values\n",
    "    X_train = []\n",
    "    X_test = []\n",
    "    y_train = []\n",
    "    y_test = []\n",
    "    \n",
    "    j = 0\n",
    "    \n",
    "    for i in range(y.shape[0]):\n",
    "        participant_no = y.index[i]\n",
    "        \n",
    "        yi_label = get_ylabel(y[participant_no])\n",
    "        xi_val = X[participant_no]\n",
    "        \n",
    "        if isinstance(xi_val, str):\n",
    "            xi_data = xi_val\n",
    "        else:\n",
    "            if j + 1 < len(xi_val):\n",
    "                xi_data = xi_val.values[j]\n",
    "                j += 1\n",
    "            else:\n",
    "                j = 0\n",
    "        \n",
    "        if participant_no in test_participants:\n",
    "            X_test.append(xi_data)\n",
    "            y_test.append(yi_label)\n",
    "        else:\n",
    "            X_train.append(xi_data)\n",
    "            y_train.append(yi_label)\n",
    "    \n",
    "    return np.array(X_train), np.array(X_test), np.array(y_train), np.array(y_test)\n",
    "\n",
    "X_train, X_test, y_train, y_test = train_test(X, y)"
   ]
  },
  {
   "cell_type": "code",
   "execution_count": 5,
   "metadata": {},
   "outputs": [
    {
     "data": {
      "text/plain": [
       "((240,), (45,), (240,), (45,))"
      ]
     },
     "execution_count": 5,
     "metadata": {},
     "output_type": "execute_result"
    }
   ],
   "source": [
    "RANDOM_STATE = 42\n",
    "\n",
    "# shuffle the train data in unison because I have arranged them in order when loaded (labels 0 followed by 1)\n",
    "# reduces poor performance during k-cross validation when sampling data\n",
    "X_train, y_train = shuffle(X_train, y_train, random_state=RANDOM_STATE)\n",
    "\n",
    "X_train.shape, X_test.shape, y_train.shape, y_test.shape"
   ]
  },
  {
   "cell_type": "markdown",
   "metadata": {},
   "source": [
    "## Label sentences"
   ]
  },
  {
   "cell_type": "code",
   "execution_count": 6,
   "metadata": {},
   "outputs": [],
   "source": [
    "def label_sentences(corpus, label_type):\n",
    "    \"\"\"\n",
    "    Gensim's Doc2Vec implementation requires each document/paragraph to have a label associated with it.\n",
    "    We do this by using the TaggedDocument method. The format will be \"TRAIN_i\" or \"TEST_i\" where \"i\" is\n",
    "    a dummy index of the post.\n",
    "    \"\"\"\n",
    "    labeled = []\n",
    "    for i, v in enumerate(corpus):\n",
    "        label = label_type + '_' + str(i)\n",
    "        labeled.append(doc2vec.TaggedDocument(v.split(), [label]))\n",
    "    return labeled"
   ]
  },
  {
   "cell_type": "code",
   "execution_count": 7,
   "metadata": {},
   "outputs": [
    {
     "data": {
      "text/plain": [
       "[TaggedDocument(words=['yes', 'well', 'new', 'york', 'turn', 'volume', 'little', 'bit', 'uh', 'change', 'yeah', 'it', 'good', 'i', 'wanted', 'i', 'wanted', 'i', 'wanted', 'see', 'los', 'angeles', 'um', 'probably', 'took', 'year', 'two', 'uh', 'you', 'know', 'away', 'my', 'family', 'away', 'i', 'used', 'new', 'york', 'neighborhoods', 'people', 'getting', 'acclimated', 'whole', 'new', 'lifestyle', 'uh', 'weather', 'you', 'beat', 'weather', 'it', 'generally', 'always', 'nice', 'it', 'hot', 'it', 'cold', 'uh', 'it', 'creative', 'i', 'like', 'uh', 'you', 'know', 'movies', 'uh', 'like', 'beach', 'traffic', 'it', 'lot', 'traffic', 'uh', 'sometimes', 'i', 'think', 'people', 'little', 'bit', 'colder', 'distant', 'unfriendly', 'places', 'i', 'history', 'major', 'uh', 'i', 'uh', 'demonstrations', 'really', 'uh', 'highend', 'supermarkets', 'uh', 'screenwriter', 'one', 'reasons', 'i', 'came', 'los', 'angeles', 'um', 'it', 'hard', 'i', 'always', 'maintain', 'uh', 'focus', 'motivation', 'i', 'let', 'things', 'distract', 'me', 'uh', 'i', 'uh', 'i', 'always', 'interested', 'films', 'ever', 'since', 'i', 'child', 'i', 'always', 'you', 'know', 'writing', 'active', 'imagination', 'uh', 'i', 'last', 'probably', 'almost', 'ten', 'years', 'i', 'traveled', 'i', 'past', 'well', 'i', 'always', 'traveled', 'even', 'kid', 'my', 'parents', 'would', 'travel', 'around', 'yes', 'seeing', 'new', 'places', 'seeing', 'uh', 'people', 'different', 'i', 'seeing', 'they', 'live', 'taking', 'sights', 'uh', 'i', 'went', 'kenya', 'probably', 'one', 'best', 'trips', 'i', 'ever', 'went', 'um', 'safari', 'going', 'jeep', 'seeing', 'wild', 'animals', 'their', 'natural', 'habitat', 'pretty', 'incredible', 'oh', 'yeah', 'one', 'great', 'experiences', 'my', 'life', 'i', 'also', 'got', 'uh', 'place', 'egypt', 'uh', 'end', 'trip', 'um', 'called', 'uh', 'sharm', 'el', 'sheikh', 'right', 'water', 'it', 'best', 'scuba', 'diving', 'world', 'hard', 'believe', 'egypt', 'would', 'it', 'amazing', 'i', 'went', 'i', 'go', 'scuba', 'diving', 'i', 'went', 'uh', 'snorkeling', 'i', 'relax', 'uh', 'i', 'i', 'i', 'like', 'listen', 'music', 'i', 'like', 'uh', 'helping', 'watching', 'movies', 'helps', 'me', 'relax', 'it', 'takes', 'me', 'you', 'know', 'whatever', 'might', 'my', 'mind', 'i', 'meditate', 'every', 'day', 'um', 'i', 'like', 'take', 'walks', 'nature', 'always', 'calming', 'especially', 'uh', 'ocean', 'uh', 'i', 'it', 'depends', 'sometimes', 'i', 'get', 'angry', 'lose', 'my', 'temper', 'uh', 'lot', 'times', 'uh', 'i', 'like', 'form', 'selfhypnosis', 'calm', 'myself', 'something', 'i', 'recently', 'learned', 'helpful', 'also', 'since', 'i', 'meditate', 'it', 'i', 'get', 'annoyed', 'things', 'easily', 'i', 'past', 'things', 'makes', 'me', 'really', 'mad', 'i', 'guess', 'uh', 'think', 'injustice', 'world', 'done', 'people', 'uh', 'it', 'really', 'need', 'way', 'we', 'could', 'get', 'along', 'um', 'make', 'world', 'better', 'uh', 'last', 'night', 'i', 'went', 'movie', 'screening', 'independent', 'film', 'i', 'think', 'it', 'done', 'well', 'it', 'much', 'we', 'fun', 'argument', 'uh', 'movie', 'like', 'you', 'know', 'happened', 'yesterday', 'my', 'mind', 'anything', 'i', 'regret', 'yeah', 'opportunities', 'my', 'life', 'i', 'wished', 'i', 'uh', 'taken', 'them', 'pursued', 'them', 'uh', 'certain', 'jobs', 'you', 'know', 'i', 'first', 'got', 'los', 'angeles', 'i', 'opportunity', 'uh', 'become', 'grip', 'uh', 'i', 'i', 'probably', 'pursued', 'i', 'decide', 'it', 'i', 'really', 'understand', 'questions', 'take', 'advantage', 'every', 'opportunity', 'came', 'my', 'way', 'always', 'i', 'think', 'saying', 'yes', 'uh', 'opportunity', 'important', 'matter', 'you', 'feel', 'you', 'know', 'you', 'confident', 'you', 'able', 'achieve', 'you', 'want', 'i', 'depressed', 'my', 'life', 'uh', 'part', 'i', 'i', 'feeling', 'good', 'sometimes', 'uh', 'i', 'feel', 'little', 'blue', 'uh', 'i', 'think', 'you', 'know', 'sometimes', 'i', 'i', 'allow', 'allow', 'regret', 'come', 'my', 'mind', 'bring', 'me', 'i', 'you', 'know', 'usually', 'get', 'it', 'pretty', 'quickly', 'uh', 'sometimes', 'financial', 'concerns', 'sometimes', 'uh', 'opportunity', 'um', 'i', 'explain', 'it', 'eh', 'sometimes', 'sometimes', 'eh', 'financial', 'one', 'way', 'i', 'i', 'i', 'made', 'another', 'decision', 'i', 'might', 'money', 'my', 'life', 'would', 'different', 'um', 'really', 'i', 'mean', 'i', 'i', 'feel', 'pretty', 'much', 'got', 'me', 'seek', 'help', 'let', 'us', 'come', 'back', 'um', 'i', 'well', 'okay', 'well', 'it', 'generally', 'talking', 'someone', 'helped', 'i', 'uh', 'pretty', 'easy', 'i', 'problem', 'sleeping', 'uh', 'usually', 'i', 'grumpy', 'i', 'sleep', 'well', 'uh', 'you', 'know', 'i', 'feel', 'tired', 'irritable', 'uh', 'would', 'my', 'best', 'friend', 'describe', 'me', 'good', 'question', 'um', 'friendly', 'well', 'i', 'friendly', 'i', 'definitely', 'friendly', 'outgoing', 'uh', 'little', 'bit', 'secretive', 'um', 'i', 'would', 'probably', 'i', 'they', 'would', 'like', 'see', 'me', 'accomplished', 'uh', 'uh', 'attaining', 'my', 'goals', 'happier', 'maybe', 'little', 'happier', 'i', 'think', 'um', 'it', 'it', 'it', 'tough', 'it', 'depends', 'sometimes', 'i', 'introverted', 'i', 'like', 'write', 'takes', 'it', 'means', 'i', 'spend', 'time', 'alone', 'i', 'come', 'uh', 'i', 'extroverted', 'i', 'really', 'see', 'myself', 'one', 'hard', 'way', 'it', 'depends', 'my', 'situation', 'my', 'mood', 'my', 'best', 'qualities', 'um', 'i', 'think', 'i', 'caring', 'i', 'think', 'i', 'intelligent', 'uh', 'i', 'think', 'i', 'funny', 'i', 'outgoing', 'um', 'i', 'likeable', 'personality', 'you', 'know', 'people', 'said', 'um', 'i', 'engaging', 'uh', 'oppressive', 'overly', 'engaging', 'sort', 'cool', 'detachment', 'um', 'creative', 'intuitive', 'yes', 'last', 'time', 'i', 'felt', 'really', 'happy', 'i', 'know', 'i', 'woke', 'morning', 'i', 'pretty', 'happy', 'i', 'breakfast', 'i', 'happy', 'sun', 'shining', 'um', 'i', 'think', 'like', 'i', 'said', 'going', 'kenya', 'memorable', 'experience', 'i', 'remember', 'scuba', 'uh', 'snorkeling', 'really', 'great', 'experience', 'experience', 'i', 'remembered', 'you', 'know', 'seeing', 'colors', 'ocean', 'you', 'know', 'feeling', 'sun', 'powerful', 'sun', 'my', 'back', 'um', 'almost', 'beyond', 'you', 'know', 'almost', 'beyond', 'like', 'human', 'way', 'touch', 'like', 'everything', 'universe', 'yeah', 'it', 'would', 'nice', 'feel', 'way', 'every', 'moment', 'day', 'i', 'proud', 'my', 'life', 'i', 'think', 'i', 'uh', 'helped', 'people', 'uh', 'sometimes', 'they', 'crisis', 'um', 'you', 'know', 'i', 'written', 'screenplays', 'screenplays', 'um', 'i', 'good', 'relationships', 'um', 'good', 'relationships', 'you', 'know', 'connected', 'someone', 'else', 'you', 'know', 'spending', 'time', 'them', 'connecting', 'emotional', 'physical', 'mental', 'levels', 'um', 'it', 'could', 'song', 'i', 'hear', 'radio', 'uh', 'it', 'could', 'uh', 'lot', 'times', 'looking', 'forward', 'something', 'you', 'know', 'i', 'going', 'go', 'movie', 'go', 'bowling', 'hang', 'people', 'um', 'you', 'know', 'looking', 'work', 'going', 'work', 'feeling', 'productive', 'put', 'me', 'it', 'puts', 'me', 'good', 'mood', 'you', 'welcome', 'bye', 'bye'], tags=['train_0']),\n",
       " TaggedDocument(words=['um', 'moscow', 'um', 'my', 'family', 'moved', 'us', 'i', 'moved', 'eventually', 'college', 'uh', 'it', 'took', 'long', 'time', 'i', 'living', 'year', 'since', 'i', 'graduated', 'lot', 'ups', 'downs', 'finally', 'gotten', 'adjusted', 'it', 'it', 'took', 'though', 'it', 'goes', 'i', 'two', 'roommates', 'always', 'little', 'bit', 'drama', 'girls', 'part', 'year', 'couple', 'months', 'i', 'think', 'we', 'finally', 'learned', 'live', 'together', 'it', 'pretty', 'much', 'like', 'reality', 'tv', 'show', 'ones', 'college', 'one', 'we', 'found', 'craigslist', 'it', 'varies', 'depending', 'whether', 'we', 'mad', 'um', 'i', 'guess', 'pretty', 'close', 'right', 'we', 'kinda', 'distant', 'oh', 'distant', 'okay', 'um', 'well', 'we', 'seen', 'we', 'hung', 'like', 'two', 'weeks', 'one', 'them', 'got', 'like', 'car', 'accident', 'um', 'she', 'distant', 'since', 'kinda', 'locks', 'herself', 'her', 'room', 'one', 'always', 'working', 'late', 'we', 'our', 'our', 'scheduling', 'ones', 'really', 'made', 'attempt', 'hang', 'anyone', 'it', 'kind', 'we', 'waiting', 'someone', 'i', 'guess', 'make', 'first', 'move', 'it', 'okay', 'it', 'get', 'better', 'it', 'depends', 'i', 'dealing', 'i', 'guess', 'i', 'would', 'say', 'people', 'i', 'guess', 'my', 'family', 'good', 'my', 'boyfriend', 'it', 'good', 'people', 'i', 'might', 'know', 'well', 'i', 'able', 'control', 'it', 'little', 'bit', 'it', 'passive', 'aggressive', 'like', 'full', 'anger', 'oh', 'i', 'want', 'them', 'see', 'me', 'bitch', 'yeah', 'uh', 'probably', 'my', 'best', 'friend', 'nicole', 'she', 'probably', 'we', 'best', 'friends', 'like', 'god', 'since', 'high', 'school', 'freshman', 'year', 'high', 'school', 'we', 'first', 'met', 'long', 'time', 'yeah', 'um', 'uh', 'my', 'friend', 'nicole', 'um', 'we', 'met', 'french', 'class', 'freshman', 'year', 'high', 'school', 'we', 'class', 'we', 'kinda', 'started', 'homework', 'together', 'we', 'lot', 'class', 'classes', 'together', 'we', 'kinda', 'started', 'hanging', 'we', 'became', 'closer', 'stayed', 'really', 'close', 'since', 'mhm', 'um', 'uh', 'going', 'friends', 'going', 'bars', 'going', 'dancing', 'biking', 'hiking', 'staying', 'active', 'um', 'going', 'movies', 'going', 'eat', 'restaurants', 'uh', 'photography', 'um', 'hanging', 'friends', 'i', 'guess', 'whatever', 'uh', 'it', 'varies', 'like', 'i', 'really', 'close', 'them', 'it', 'comes', 'things', 'like', 'school', 'work', 'um', 'kinds', 'things', 'it', 'comes', 'relationships', 'friendships', 'personal', 'personal', 'things', 'i', 'really', 'discuss', 'them', 'i', 'guess', 'superficially', 'close', 'i', 'rely', 'them', 'lot', 'we', 'close', 'i', 'guess', 'mhm', 'uh', 'good', 'question', 'um', 'i', 'guess', 'it', 'depends', 'it', 'i', 'guess', 'people', 'inconsiderate', 'unthoughtful', 'flakey', 'ignorant', 'uh', 'conceited', 'uh', 'yeah', 'i', 'guess', 'kinds', 'people', 'people', 'um', 'makes', 'me', 'mad', 'good', 'question', 'i', 'guess', 'lot', 'things', 'make', 'me', 'mad', 'it', 'mostly', 'people', 'react', 'um', 'different', 'situations', 'make', 'me', 'angry', 'i', 'guess', 'uh', 'yesterday', 'it', 'my', 'boyfriend', 'we', 'argued', 'he', 'trying', 'healthy', 'workout', 'save', 'money', 'he', 'he', 'orders', 'pizza', 'he', 'saving', 'money', 'he', 'healthy', 'i', 'got', 'frustrated', 'him', 'i', 'constantly', 'trying', 'push', 'him', 'healthy', 'time', 'he', 'like', 'i', 'going', 'it', 'i', 'going', 'it', 'he', 'constantly', 'breaking', 'promises', 'another', 'thing', 'makes', 'me', 'angry', 'people', 'follow', 'people', 'myself', 'angry', 'xxxx', 'um', 'angry', 'i', 'guess', 'i', 'go', 'i', 'feel', 'angry', 'often', 'dang', 'it', 'tough', 'one', 'bout', 'getting', 'paid', 'me', 'um', 'i', 'know', 'i', 'kind', 'trying', 'figure', 'right', 'i', 'quit', 'my', 'full', 'time', 'job', 'i', 'hated', 'it', 'it', 'mostly', 'sitting', 'office', 'day', 'i', 'thought', 'extremely', 'boring', 'i', 'work', 'restaurant', 'job', 'i', 'trying', 'look', 'second', 'job', 'support', 'myself', 'um', 'my', 'dream', 'job', 'i', 'know', 'it', 'would', 'i', 'know', 'it', 'would', 'involve', 'people', 'i', 'would', 'love', 'kind', 'like', 'finished', 'product', 'kind', 'accomplishment', 'towards', 'end', 'i', 'guess', 'it', 'something', 'i', 'realized', 'i', 'like', 'see', 'result', 'my', 'hard', 'work', 'i', 'majored', 'sociology', 'much', 'i', 'loved', 'major', 'you', 'realize', 'it', 'whole', 'lot', 'theorizing', 'arguing', 'real', 'solution', 'it', 'like', 'end', 'you', 'theoretical', 'elements', 'you', 'really', 'anything', 'nothing', 'show', 'your', 'work', 'except', 'piece', 'paper', 'your', 'essays', 'notes', 'something', 'people', 'maybe', 'something', 'artistic', 'i', 'love', 'photography', 'i', 'love', 'cooking', 'baking', 'particularly', 'i', 'know', 'something', 'realm', 'i', 'guess', 'i', 'used', 'travel', 'lot', 'my', 'family', 'known', 'traveling', 'we', 'gone', 'gosh', 'seven', 'eight', 'different', 'countries', 'i', 'lived', 'three', 'four', 'different', 'countries', 'i', 'traveled', 'lot', 'lately', 'i', 'money', 'jobs', 'kinda', 'tie', 'you', 'i', 'would', 'love', 'i', 'guess', 'my', 'dream', 'job', 'would', 'photographer', 'national', 'geographic', 'would', 'awesome', 'um', 'huge', 'photographer', 'travels', 'would', 'awesome', 'anyways', 'um', 'yeah', 'i', 'travel', 'lot', 'new', 'places', 'new', 'faces', 'new', 'experiences', 'i', 'get', 'restless', 'easily', 'it', 'nice', 'constantly', 'move', 'see', 'different', 'things', 'see', 'different', 'cultures', 'types', 'people', 'get', 'stuck', 'routine', 'i', 'hate', 'routine', 'mundaneness', 'everyday', 'life', 'it', 'nice', 'stir', 'things', 'oh', 'gosh', 'okay', 'um', 'i', 'trying', 'think', 'one', 'my', 'trips', 'i', 'guess', 'we', 'talk', 'i', 'know', 'it', 'funny', 'even', 'though', 'i', 'lots', 'different', 'countries', 'one', 'my', 'memorable', 'memorable', 'trips', 'one', 'trips', 'i', 'took', 'my', 'family', 'i', 'three', 'week', 'roadtrip', 'my', 'family', 'five', 'us', 'packed', 'tiny', 'little', 'station', 'wagon', 'i', 'know', 'needless', 'say', 'it', 'like', 'you', 'close', 'proximity', 'three', 'weeks', 'camping', 'you', 'start', 'getting', 'others', 'nerves', 'it', 'really', 'fun', 'like', 'even', 'though', 'i', 'traveled', 'many', 'places', 'i', 'realized', 'like', 'beauty', 'american', 'landscape', 'we', 'around', 'southwest', 'grand', 'canyon', 'zion', 'grand', 'tetons', 'yellowstone', 'it', 'absolutely', 'amazing', 'seeing', 'natural', 'beauty', 'um', 'we', 'saw', 'grizzly', 'bear', 'black', 'bear', 'lots', 'bison', 'wolf', 'it', 'really', 'cool', 'kinds', 'i', 'know', 'natural', 'wonders', 'also', 'really', 'amaze', 'me', 'things', 'man', 'made', 'pretentious', 'it', 'sounds', 'europe', 'kinda', 'gets', 'old', 'it', 'like', 'you', 'know', 'you', 'get', 'idea', 'like', 'white', 'old', 'white', 'men', 'building', 'great', 'buildings', 'art', 'work', 'it', 'beautiful', 'like', 'you', 'kind', 'like', 'okay', 'i', 'want', 'see', 'something', 'natural', 'beautiful', 'something', 'different', 'cool', 'um', 'pretty', 'easy', 'long', 'i', 'get', 'well', 'i', 'always', 'sleep', 'easy', 'oh', 'grumpy', 'lethargic', 'low', 'energy', 'say', 'much', 'kinda', 'my', 'world', 'i', 'anymore', 'i', 'usually', 'get', 'enough', 'sleep', 'i', 'working', 'it', 'kind', 'energizing', 'me', 'it', 'bad', 'good', 'uh', 'i', 'guess', 'i', 'negative', 'it', 'like', 'circumstances', 'kind', 'like', 'uh', 'it', 'five', 'months', 'since', 'i', 'quit', 'my', 'full', 'time', 'job', 'found', 'anything', 'else', 'really', 'found', 'anything', 'else', 'i', 'interested', 'it', 'like', 'ugh', 'i', 'da', 'da', 'da', 'kind', 'thing', 'yeah', 'it', 'it', 'hard', 'market', 'like', 'i', 'picky', 'i', 'want', 'sittin', 'little', 'my', 'cubicle', 'i', 'quit', 'my', 'job', 'exactly', 'reason', 'go', 'back', 'another', 'job', 'exact', 'thing', 'i', 'quit', 'my', 'job', 'it', 'like', 'i', 'make', 'it', 'worthwhile', 'i', 'quit', 'my', 'last', 'job', 'get', 'better', 'job', 'it', 'kinda', 'like', 'i', 'stuck', 'section', 'like', 'living', 'paycheck', 'paycheck', 'barely', 'making', 'it', 'waiting', 'right', 'opportunity', 'come', 'across', 'it', 'like', 'i', 'give', 'sell', 'my', 'soul', 'go', 'back', 'corporate', 'world', 'sitting', 'little', 'cubicles', 'i', 'know', 'yeah', 'it', 'hard', 'i', 'mean', 'i', 'guess', 'everyone', 'goes', 'situation', 'college', 'i', 'guess', 'it', 'tough', 'lot', 'my', 'friends', 'i', 'went', 'pretty', 'good', 'school', 'you', 'know', 'i', 'friend', 'teaching', 'english', 'afghanistan', 'i', 'another', 'one', 'met', 'president', 'you', 'know', 'one', 'teach', 'america', 'another', 'friend', 'harvard', 'uh', 'school', 'like', 'harvard', 'masters', 'you', 'know', 'getting', 'her', 'masters', 'it', 'kind', 'like', 'ahh', 'comparison', 'i', 'working', 'little', 'restaurant', 'job', 'uh', 'i', 'sometimes', 'yes', 'i', 'going', 'hawaii', 'next', 'week', 'right', 'i', 'fine', 'yes', 'yeah', 'usually', 'it', 'kind', 'like', 'i', 'trying', 'find', 'like', 'i', 'supposed', 'like', 'you', 'know', 'i', 'want', 'next', 'like', 'money', 'situations', 'stressful', 'especially', 'you', 'school', 'loans', 'pay', 'insurance', 'rent', 'car', 'loans', 'like', 'it', 'groceries', 'like', 'i', 'even', 'afford', 'groceries', 'it', 'hard', 'like', 'live', 'way', 'especially', 'you', 'paid', 'much', 'money', 'like', 'amazing', 'college', 'education', 'it', 'little', 'bit', 'frustrating', 'lot', 'people', 'situation', 'it', 'good', 'uh', 'i', 'think', 'i', 'mean', 'i', 'think', 'everyone', 'goes', 'depression', 'i', 'know', 'you', 'like', 'medically', 'diagnose', 'i', 'meds', 'nope', 'nope', 'oh', 'let', 'us', 'see', 'uh', 'try', 'lots', 'different', 'things', 'afraid', 'fail', 'i', 'one', 'people', 'i', 'going', 'best', 'something', 'i', 'going', 'try', 'i', 'accept', 'best', 'nothing', 'go', 'big', 'go', 'home', 'i', 'think', 'i', 'would', 'told', 'my', 'high', 'school', 'self', 'go', 'try', 'lots', 'things', 'even', 'it', 'means', 'i', 'going', 'best', 'it', 'ten', 'years', 'ago', 'well', 'would', 'made', 'me', 'like', 'twelve', 'um', 'i', 'used', 'lot', 'things', 'i', 'i', 'used', 'act', 'i', 'think', 'i', 'would', 'continued', 'i', 'used', 'write', 'lot', 'i', 'younger', 'i', 'used', 'write', 'miniature', 'like', 'little', 'stories', 'short', 'stories', 'my', 'parents', 'time', 'i', 'kind', 'stopped', 'things', 'it', 'like', 'oh', 'i', 'good', 'it', 'i', 'going', 'it', 'i', 'think', 'i', 'continued', 'things', 'tried', 'you', 'know', 'different', 'classes', 'um', 'i', 'know', 'different', 'sports', 'i', 'kinda', 'stuck', 'soccer', 'growing', 'i', 'know', 'expand', 'myself', 'rather', 'like', 'find', 'something', 'i', 'good', 'stay', 'it', 'never', 'really', 'try', 'harder', 'kinda', 'like', 'stay', 'i', 'always', 'kinda', 'stayed', 'one', 'level', 'i', 'good', 'i', 'stay', 'good', 'i', 'try', 'go', 'makes', 'sense', 'uh', 'right', 'it', 'super', 'lame', 'i', 'watch', 'tv', 'i', 'used', 'read', 'i', 'used', 'read', 'my', 'time', 'listen', 'music', 'take', 'nap', 'bake', 'it', 'like', 'since', 'i', 'my', 'feet', 'day', 'like', 'constantly', 'interacting', 'people', 'i', 'kinda', 'want', 'unwind', 'like', 'sitting', 'lying', 'couch', 'like', 'i', 'done', 'tough', 'question', 'um', 'probably', 'day', 'i', 'got', 'accepted', 'pomona', 'college', 'um', 'i', 'freshman', 'wellesley', 'college', 'womens', 'college', 'back', 'east', 'i', 'hated', 'it', 'like', 'second', 'like', 'first', 'week', 'i', 'knew', 'i', 'chose', 'wrong', 'college', 'i', 'like', 'miserable', 'entire', 'year', 'i', 'applied', 'one', 'school', 'transfer', 'pomona', 'college', 'like', 'claremont', 'um', 'i', 'think', 'i', 'going', 'get', 'i', 'it', 'like', 'four', 'percent', 'acceptance', 'rate', 'i', 'like', 'chances', 'like', 'ridiculous', 'i', 'think', 'i', 'going', 'get', 'i', 'like', 'you', 'know', 'thought', 'going', 'back', 'wellesley', 'super', 'depressing', 'um', 'i', 'got', 'email', 'one', 'admission', 'counselors', 'i', 'met', 'i', 'visiting', 'pomona', 'he', 'like', 'hi', 'tatiana', 'like', 'um', 'wanted', 'see', 'you', 'last', 'minute', 'questions', 'pomona', 'hope', 'well', 'i', 'like', 'would', 'he', 'emailing', 'me', 'day', 'we', 'find', 'we', 'got', 'you', 'know', 'accepted', 'um', 'unless', 'i', 'got', 'acceptance', 'sure', 'enough', 'couple', 'hours', 'later', 'i', 'got', 'email', 'i', 'accepted', 'pomona', 'i', 'ecstatic', 'like', 'best', 'day', 'my', 'life', 'i', 'happy', 'probably', 'one', 'yeah', 'it', 'awesome', 'i', 'took', 'my', 'mom', 'my', 'little', 'brother', 'dinner', 'i', 'went', 'bought', 'myself', 'new', 'dresses', 'went', 'like', 'went', 'crazy', 'dyed', 'my', 'hair', 'pierced', 'my', 'nose', 'i', 'like', 'let', 'us', 'start', 'whole', 'thing', 'yeah', 'bubbly', 'fun', 'maybe', 'moody', 'you', 'never', 'know', 'you', 'going', 'get', 'sometimes', 'um', 'probably', 'uh', 'definitely', 'friendly', 'um', 'pretty', 'like', 'positive', 'person', 'um', 'sometimes', 'maybe', 'little', 'bit', 'aggressive', 'part', 'i', 'think', 'positive', 'things', 'i', 'mean', 'she', 'my', 'best', 'friend', 'huh', 'really', 'happy', 'oh', 'i', 'mexico', 'winter', 'well', 'i', 'know', 'my', 'boyfriend', 'took', 'me', 'sailing', 'trip', 'san', 'clemente', 'really', 'fun', 'we', 'like', 'went', 'sailing', 'walked', 'around', 'missions', 'hung', 'beach', 'really', 'fun', 'good', 'time', 'yeah', 'it', 'cool', 'bye'], tags=['train_1']),\n",
       " TaggedDocument(words=['yes', 'i', 'okay', 'i', 'pretty', 'good', 'feeling', 'little', 'tired', 'uh', 'feeling', 'pretty', 'good', 'part', 'um', 'redondo', 'beach', 'yep', 'i', 'like', 'beach', 'i', 'like', 'mountains', 'i', 'love', 'you', 'could', 'go', 'surfing', 'morning', 'go', 'snowboarding', 'day', 'um', 'i', 'like', 'go', 'hiking', 'mountains', 'santa', 'monica', 'mountains', 'exact', 'i', 'like', 'traffic', 'i', 'like', 'congestion', 'people', 'i', 'like', 'price', 'cost', 'living', 'specific', 'areas', 'uh', 'i', 'trying', 'actually', 'um', 'last', 'year', 'summer', 'really', 'road', 'tripping', 'getting', 'my', 'girlfriend', 'um', 'we', 'looking', 'go', 'costa', 'rica', 'hopefully', 'south', 'america', 'summer', 'maybe', 'even', 'road', 'trip', 'south', 'see', 'southern', 'states', 'uh', 'i', 'canada', 'i', 'mexico', 'ecuador', 'various', 'states', 'trying', 'get', 'i', 'love', 'meeting', 'new', 'people', 'i', 'love', 'experiencing', 'new', 'things', 'trying', 'different', 'different', 'foods', 'native', 'local', 'area', 'it', 'part', 'journey', 'i', 'i', 'love', 'exploring', 'you', 'know', 'planet', 'we', 'call', 'earth', 'um', 'recently', 'we', 'went', 'seattle', 'canada', 'couple', 'friends', 'uh', 'it', 'gorgeous', 'we', 'uh', 'flew', 'seattle', 'we', 'saw', 'city', 'first', 'two', 'three', 'days', 'rented', 'car', 'headed', 'vancouver', 'canada', 'saw', 'british', 'columbia', 'boy', 'it', 'gorgeous', 'lush', 'beautiful', 'trees', 'uh', 'climate', 'nice', 'ocean', 'right', 'it', 'people', 'great', 'it', 'fun', 'trip', 'around', 'yeah', 'one', 'my', 'memorable', 'memorable', 'experiences', 'probably', 'uh', 'trip', 'we', 'took', 'colorado', 'last', 'summer', 'uh', 'me', 'my', 'girlfriend', 'flew', 'denver', 'we', 'really', 'plan', 'we', 'knew', 'we', 'knew', 'couple', 'people', 'living', 'um', 'day', 'we', 'uh', 'contacted', 'them', 'telling', 'them', 'we', 'coming', 'area', 'they', 'showed', 'great', 'hospitality', 'they', 'picked', 'us', 'airport', 'let', 'us', 'crash', 'their', 'place', 'couple', 'days', 'we', 'even', 'let', 'us', 'use', 'their', 'car', 'explore', 'state', 'go', 'wyoming', 'see', 'neighbors', 'north', 'it', 'great', 'trip', 'great', 'people', 'it', 'everything', 'worked', 'well', 'every', 'day', 'something', 'new', 'fun', 'yeah', 'i', 'uh', 'i', 'studied', 'business', 'management', 'uh', 'economics', 'right', 'um', 'i', 'always', 'wanted', 'my', 'business', 'i', 'figured', 'management', 'good', 'uh', 'foundation', 'build', 'uh', 'learn', 'i', 'decided', 'go', 'management', 'see', 'various', 'aspects', 'it', 'takes', 'really', 'manage', 'your', 'business', 'um', 'economics', 'long', 'term', 'investments', 'i', 'really', 'wanted', 'start', 'earning', 'stocks', 'etfs', 'mutual', 'funds', 'start', 'buidling', 'my', 'portfolio', 'i', 'figured', 'economics', 'would', 'great', 'way', 'long', 'term', 'investment', 'financially', 'i', 'my', 'economics', 'yeah', 'i', 'really', 'stoked', 'it', 'one', 'best', 'decisions', 'probably', 'my', 'my', 'life', 'yeah', 'i', 'consider', 'myself', 'outgoing', 'i', 'i', 'pretty', 'friendly', 'i', 'mind', 'open', 'people', 'stuff', 'i', 'like', 'outside', 'like', 'go', 'hiking', 'i', 'like', 'go', 'um', 'working', 'gym', 'i', 'mostly', 'like', 'outdoors', 'i', 'i', 'love', 'nature', 'outside', 'puts', 'me', 'ease', 'pretty', 'good', 'part', 'i', 'pretty', 'mellow', 'chill', 'guy', 'i', 'get', 'angry', 'i', 'uh', 'it', 'lasts', 'like', 'couple', 'minutes', 'i', 'know', 'it', 'i', 'it', 'blows', 'i', 'tend', 'hold', 'things', 'stay', 'angry', 'hold', 'grudges', 'need', 'lifes', 'short', 'um', 'see', 'i', 'even', 'remember', 'last', 'time', 'i', 'argued', 'anybody', 'i', 'idea', 'probably', 'my', 'uh', 'my', 'brother', 'my', 'girlfriend', 'got', 'little', 'little', 'argument', 'uh', 'like', 'two', 'birthdays', 'ago', 'it', 'awkward', 'kinda', 'ever', 'since', 'um', 'i', 'wish', 'i', 'would', 'handled', 'it', 'right', 'rather', 'it', 'letting', 'it', 'stretch', 'long', 'it', 'it', 'awkward', 'parties', 'i', 'wish', 'i', 'would', 'communicated', 'them', 'told', 'them', 'you', 'know', 'set', 'their', 'differences', 'aside', 'let', 'us', 'communicate', 'try', 'see', 'we', 'come', 'solution', 'it', 'awkward', 'yeah', 'it', 'hardest', 'decision', 'i', 'ever', 'make', 'man', 'toughy', 'i', 'think', 'i', 'many', 'tough', 'decisions', 'really', 'say', 'hardest', 'decision', 'i', 'ever', 'make', 'um', 'maybe', 'moving', 'colorado', 'my', 'undergrad', 'two', 'three', 'years', 'ago', 'little', 'tough', 'i', 'kinda', 'think', 'nothing', 'really', 'tough', 'my', 'life', 'really', 'hard', 'decision', 'i', 'really', 'feel', 'guilty', 'anything', 'pretty', 'good', 'person', 'i', 'think', 'part', 'i', 'could', 'think', 'anything', 'something', 'i', 'could', 'wish', 'i', 'could', 'erase', 'my', 'memory', 'um', 'nothing', 'really', 'honest', 'i', 'i', 'love', 'my', 'memories', 'they', 'usually', 'positive', 'part', 'i', 'know', 'kinda', 'weird', 'somebody', 'say', 'i', 'lived', 'pretty', 'good', 'life', 'i', 'happy', 'yeah', 'uh', 'it', 'cool', 'um', 'i', 'pretty', 'independent', 'part', 'i', 'see', 'them', 'it', 'it', 'we', 'go', 'long', 'periods', 'times', 'contact', 'maybe', 'couple', 'weeks', 'sometimes', 'even', 'month', 'uh', 'i', 'see', 'them', 'it', 'it', 'good', 'you', 'know', 'i', 'like', 'say', 'hi', 'show', 'them', 'i', 'love', 'them', 'still', 'it', 'i', 'mean', 'like', 'contact', 'them', 'they', 'could', 'always', 'contact', 'me', 'uh', 'it', 'good', 'part', 'i', 'guess', 'young', 'adult', 'mm', 'my', 'girlfriends', 'family', 'uh', 'they', 'positive', 'my', 'life', 'uh', 'it', 'them', 'i', 'think', 'i', 'would', 'different', 'direction', 'high', 'school', 'i', 'really', 'care', 'higher', 'education', 'i', 'care', 'really', 'thinking', 'long', 'term', 'uh', 'seeing', 'them', 'them', 'their', 'family', 'they', 'think', 'differently', 'like', 'your', 'higher', 'education', 'get', 'somewhere', 'life', 'you', 'things', 'it', 'could', 'lead', 'they', 'successful', 'they', 'their', 'uh', 'accounting', 'practice', 'seeing', 'influenced', 'me', 'achieve', 'higher', 'life', 'yeah', 'it', 'pretty', 'easy', 'part', 'i', 'close', 'my', 'eyes', 'wake', 'morning', 'i', 'tired', 'sometimes', 'i', 'could', 'sense', 'i', 'little', 'drained', 'uh', 'maybe', 'get', 'little', 'groggy', 'it', 'feeling', 'pretty', 'good', 'part', 'little', 'stressed', 'finals', 'uh', 'next', 'week', 'uh', 'i', 'really', 'really', 'want', 'well', 'you', 'know', 'close', 'last', 'semester', 'i', 'graduate', 'two', 'weeks', 'um', 'part', 'thing', 'i', 'really', 'nervous', 'part', 'i', 'really', 'excited', 'i', 'looking', 'forward', 'going', 'maui', 'week', 'graduation', 'i', 'fired', 'i', 'fired', 'see', 'future', 'holds', 'we', 'going', 'live', 'me', 'my', 'girlfriend', 'going', 'live', 'trips', 'planned', 'summer', 'i', 'i', 'excited', 'done', 'school', 'little', 'yeah', 'i', 'never', 'diagnosed', 'ptsd', 'i', 'never', 'diagnosed', 'depression', 'last', 'time', 'i', 'felt', 'really', 'happy', 'probably', 'seeing', 'my', 'girlfriend', 'graduate', 'couple', 'days', 'ago', 'she', 'uh', 'graduated', 'nursing', 'school', 'monday', 'uh', 'see', 'her', 'walk', 'across', 'stage', 'stuff', 'we', 'together', 'six', 'years', 'seeing', 'her', 'go', 'nursing', 'program', 'five', 'it', 'seeing', 'ups', 'downs', 'it', 'really', 'good', 'see', 'somebody', 'strive', 'achieve', 'they', 'want', 'achieve', 'made', 'me', 'really', 'proud', 'her', 'yeah', 'probably', 'outgoing', 'friendly', 'positive', 'vibes', 'around', 'adventurous', 'loves', 'sports', 'team', 'player', 'knows', 'leader', 'uh', 'gets', 'little', 'outspoken', 'sometimes', 'really', 'part', 'really', 'little', 'motivated', 'i', 'used', 'motivated', 'right', 'i', 'maybe', 'i', 'done', 'school', 'i', 'it', 'i', 'feel', 'motivated', 'i', 'i', 'want', 'motivated', 'determined', 'right', 'i', 'going', 'way', 'right', 'mhm', 'biggie', 'oh', 'man', 'i', 'could', 'really', 'think', 'time', 'i', 'went', 'caving', 'two', 'weeks', 'ago', 'lot', 'fun', 'uh', 'we', 'went', 'sequoia', 'national', 'park', 'uh', 'i', 'went', 'caving', 'rtm', 'class', 'it', 'like', 'uh', 'recreational', 'tourism', 'management', 'class', 'caving', 'elective', 'our', 'professor', 'like', 'world', 'renowned', 'cave', 'specialist', 'he', 'took', 'us', 'various', 'caves', 'uh', 'sequoia', 'me', 'strangers', 'my', 'classmates', 'becoming', 'really', 'good', 'friends', 'end', 'lot', 'fun', 'rappelling', 'caves', 'climbing', 'back', 'going', 'different', 'rooms', 'chutes', 'it', 'lot', 'fun', 'yeah', 'ten', 'twenty', 'years', 'ago', 'i', 'would', 'probably', 'say', 'stay', 'focused', 'school', 'little', 'less', 'social', 'aspects', 'uh', 'kinda', 'stick', 'one', 'sport', 'see', 'far', 'could', 'get', 'ya', 'um', 'sometimes', 'playing', 'hockey', 'uh', 'middle', 'school', 'hockey', 'sometimes', 'i', 'mean', 'middle', 'school', 'high', 'school', 'sometimes', 'um', 'pretty', 'much', 'it', 'i', 'proud', 'uh', 'i', 'really', 'proud', 'i', 'graduating', 'getting', 'my', 'bachelors', 'i', 'looking', 'get', 'full', 'time', 'job', 'i', 'work', 'law', 'firm', 'i', 'something', 'going', 'me', 'um', 'i', 'really', 'proud', 'motivated', 'determined', 'person', 'long', 'term', 'wise', 'long', 'term', 'thinking', 'wise', 'i', 'wellrounded', 'person', 'i', 'really', 'want', 'explore', 'world', 'i', 'kinda', 'proud', 'i', 'opened', 'my', 'eyes', 'i', 'different', 'perspectives', 'really', 'open', 'mind', 'people', 'rather', 'judging', 'them', 'you', 'know', 'it', 'liberty', 'let', 'them', 'they', 'want', 'uh', 'i', 'really', 'proud', 'finally', 'getting', 'my', 'bachelors', 'hopefully', 'going', 'my', 'mba', 'couple', 'years', 'sure', 'bye'], tags=['train_2']),\n",
       " TaggedDocument(words=['yes', 'i', 'well', 'i', 'born', 'oakland', 'um', 'different', 'areas', 'city', 'uh', 'different', 'cultures', 'traffic', 'um', 'lack', 'public', 'transportation', 'superficiality', 'i', 'i', 'i', 'would', 'love', 'travel', 'um', 'able', 'experience', 'different', 'way', 'living', 'um', 'getting', 'outside', 'bubble', 'you', 'normally', 'live', 'getting', 'different', 'perspective', 'um', 'two', 'thousand', 'eight', 'i', 'studied', 'abroad', 'brazil', 'four', 'months', 'i', 'bahia', 'north', 'um', 'let', 'us', 'see', 'program', 'consisted', 'learning', 'history', 'learning', 'language', 'staying', 'homestay', 'family', 'um', 'i', 'always', 'wanted', 'travel', 'i', 'chose', 'brazil', 'um', 'they', 'afrobrazilian', 'population', 'large', 'afrobrazilian', 'population', 'i', 'really', 'wanted', 'learn', 'i', 'think', 'history', 'cullture', 'really', 'interesting', 'um', 'i', 'think', 'taking', 'bus', 'myself', 'remote', 'beach', 'navigating', 'my', 'um', 'figuring', 'go', 'yeah', 'right', 'i', 'getting', 'my', 'masters', 'social', 'work', 'dream', 'job', 'i', 'think', 'um', 'consult', 'um', 'mental', 'health', 'um', 'intervene', 'effectively', 'different', 'cultures', 'research', 'consulting', 'work', 'getting', 'travel', 'um', 'basically', 'would', 'main', 'characteristics', 'i', 'think', 'false', 'dichotomy', 'i', 'consider', 'myself', 'shy', 'time', 'outgoing', 'sense', 'i', 'push', 'myself', 'things', 'outside', 'my', 'comfort', 'zone', 'i', 'determined', 'it', 'takes', 'become', 'successful', 'um', 'i', 'listen', 'music', 'lay', 'my', 'bed', 'um', 'i', 'guess', 'you', 'could', 'say', 'mindfulness', 'really', 'take', 'my', 'mind', 'things', 'also', 'breathing', 'exercises', 'i', 'learning', 'um', 'well', 'exercise', 'pretty', 'good', 'i', 'get', 'angry', 'lot', 'um', 'far', 'angry', 'temperament', 'i', 'pretty', 'good', 'hmm', 'um', 'mm', 'month', 'may', 'probably', 'two', 'months', 'ago', 'i', 'argued', 'via', 'text', 'message', 'it', 'really', 'intense', 'arguing', 'i', 'guess', 'you', 'could', 'call', 'it', 'arguing', 'sense', 'whether', 'i', 'forgiven', 'something', 'i', 'thought', 'minor', 'um', 'friend', 'i', 'years', 'i', 'felt', 'anxious', 'um', 'sad', 'angry', 'um', 'yeah', 'main', 'emotions', 'i', 'know', 'them', 'i', 'think', 'i', 'pretty', 'touch', 'my', 'emotions', 'able', 'identify', 'them', 'i', 'notice', 'physical', 'uh', 'manifestations', 'emotions', 'like', 'i', 'my', 'hearts', 'racing', 'i', 'getting', 'sweaty', 'i', 'my', 'breathing', 'shallow', 'i', 'know', 'i', 'anxious', 'i', 'know', 'somethings', 'bothering', 'me', 'hmm', 'i', 'wish', 'i', 'handled', 'differently', 'i', 'guess', 'related', 'argument', 'um', 'i', 'went', 'one', 'night', 'got', 'little', 'intoxicated', 'ended', 'calling', 'person', 'ride', 'home', 'really', 'upset', 'person', 'i', 'know', 'it', 'big', 'deal', 'i', 'wish', 'i', 'let', 'myself', 'get', 'point', 'um', 'it', 'it', 'impacted', 'relationship', 'i', 'also', 'felt', 'really', 'bad', 'i', 'mm', 'hardest', 'decision', 'wow', 'um', 'probably', 'deciding', 'type', 'graduate', 'program', 'go', 'i', 'briefly', 'went', 'law', 'school', 'decided', 'afterwards', 'well', 'dropping', 'i', 'really', 'rethink', 'it', 'i', 'wanted', 'i', 'wanted', 'dedicate', 'my', 'life', 'go', 'debt', 'spend', 'lot', 'energy', 'um', 'i', 'think', 'recognizing', 'i', 'want', 'lot', 'research', 'program', 'requirements', 'jobs', 'you', 'get', 'completing', 'program', 'mm', 'i', 'think', 'oh', 'um', 'revolving', 'around', 'person', 'i', 'spoke', 'earlier', 'it', 'dating', 'relationship', 'years', 'ago', 'we', 'falling', 'his', 'treatment', 'me', 'it', 'involved', 'another', 'person', 'i', 'wish', 'i', 'could', 'get', 'my', 'mind', 'um', 'i', 'pretty', 'good', 'relationship', 'my', 'mom', 'she', 'lives', 'bay', 'area', 'i', 'grow', 'her', 'i', 'gotten', 'um', 'closer', 'her', 'adult', 'uh', 'we', 'talk', 'pretty', 'regularly', 'my', 'dad', 'i', 'grew', 'him', 'mostly', 'he', 'lives', 'atlanta', 'um', 'we', 'talk', 'much', 'we', 'we', 'pretty', 'decent', 'relationship', 'it', 'really', 'contentious', 'anything', 'i', 'child', 'i', 'siblings', 'i', 'large', 'family', 'um', 'general', 'i', 'really', 'close', 'family', 'um', 'one', 'person', 'my', 'mentor', 'i', 'met', 'two', 'thousand', 'five', 'she', 'judge', 'i', 'met', 'her', 'i', 'community', 'college', 'she', 'really', 'opened', 'my', 'eyes', 'possibilities', 'made', 'me', 'feel', 'i', 'would', 'able', 'achieve', 'certain', 'things', 'pretty', 'easy', 'well', 'it', 'easy', 'me', 'sleep', 'easy', 'getting', 'usually', 'i', 'forward', 'look', 'forward', 'i', 'day', 'thought', 'it', 'you', 'know', 'makes', 'me', 'want', 'stay', 'bed', 'also', 'i', 'wake', 'pretty', 'tired', 'really', 'feeling', 'refreshed', 'i', 'think', 'selftalk', 'i', 'bad', 'things', 'i', 'going', 'end', 'pretty', 'soon', 'end', 'school', 'year', 'um', 'trying', 'think', 'things', 'i', 'look', 'forward', 'week', 'um', 'also', 'listening', 'music', 'browsing', 'internet', 'kinda', 'gets', 'my', 'mind', 'going', 'feeling', 'uh', 'wow', 'um', 'feeling', 'emotionally', 'drained', 'ways', 'time', 'feeling', 'like', 'i', 'accomplished', 'lot', 'i', 'grown', 'mix', 'ambivalence', 'feeling', 'drained', 'mixture', 'feeling', 'accomplished', 'proud', 'time', 'i', 'yes', 'two', 'thousand', 'six', 'convergence', 'lot', 'stressful', 'factors', 'um', 'i', 'touch', 'my', 'mom', 'i', 'started', 'um', 'well', 'i', 'transferred', 'university', 'pretty', 'rigorous', 'changes', 'going', 'really', 'um', 'exacerbated', 'things', 'already', 'depressive', 'tendencies', 'already', 'it', 'got', 'point', 'i', 'felt', 'really', 'overwhelmed', 'yes', 'i', 'yes', 'i', 'notice', 'i', 'better', 'able', 'accept', 'my', 'emotions', 'judge', 'them', 'also', 'identify', 'them', 'i', 'able', 'think', 'think', 'differently', 'things', 'happened', 'maybe', 'look', 'things', 'positive', 'light', 'also', 'identify', 'areas', 'i', 'need', 'work', 'underlying', 'issues', 'areas', 'mm', 'um', 'past', 'weekend', 'i', 'reconnected', 'old', 'friends', 'it', 'really', 'good', 'see', 'them', 'back', 'touch', 'um', 'people', 'different', 'takes', 'me', 'i', 'one', 'best', 'friend', 'i', 'think', 'people', 'would', 'describe', 'me', 'um', 'analytical', 'sensitive', 'intelligent', 'intellectual', 'um', 'i', 'wish', 'i', 'wait', 'i', 'wish', 'i', 'better', 'able', 'cope', 'my', 'anxiety', 'depression', 'i', 'working', 'i', 'wish', 'i', 'energy', 'start', 'going', 'therapy', 'um', 'yeah', 'i', 'really', 'would', 'also', 'old', 'i', 'twenty', 'eight', 'ten', 'years', 'ago', 'eighteen', 'okay', 'graduating', 'high', 'school', 'i', 'would', 'tell', 'myself', 'pick', 'job', 'skills', 'i', 'would', 'struggle', 'much', 'future', 'seek', 'mentors', 'get', 'clearer', 'um', 'idea', 'i', 'wanted', 'career', 'um', 'i', 'think', 'fact', 'i', 'grad', 'school', 'coming', 'background', 'i', 'i', 'come', 'low', 'socioeconomic', 'status', 'pushing', 'challenges', 'get', 'you', 'welcome', 'bye'], tags=['train_3']),\n",
       " TaggedDocument(words=['yes', 'okay', 'la', 'uh', 'smog', 'traffic', 'tickets', 'high', 'rent', 'uh', 'everything', 'um', 'like', 'um', 'cost', 'living', 'smog', 'yeah', 'anymore', 'uh', 'time', 'um', 'meeting', 'new', 'people', 'food', 'nature', 'explore', 'different', 'areas', 'um', 'i', 'east', 'coast', 'it', 'um', 'going', 'college', 'east', 'coast', 'um', 'i', 'went', 'two', 'years', 'uh', 'i', 'mean', 'one', 'year', 'i', 'like', 'three', 'years', 'yeah', 'it', 'i', 'came', 'back', 'la', 'uh', 'business', 'um', 'i', 'graduated', 'high', 'school', 'um', 'i', 'knew', 'i', 'something', 'else', 'future', 'yeah', 'yes', 'uh', 'i', 'sought', 'eh', 'experience', 'i', 'got', 'travel', 'um', 'uh', 'uh', 'personal', 'trainer', 'real', 'estate', 'um', 'it', 'seems', 'like', 'um', 'i', 'capable', 'right', 'depends', 'i', 'eat', 'work', 'um', 'think', 'negative', 'things', 'could', 'happen', 'you', 'know', 'you', 'control', 'your', 'temper', 'like', 'going', 'jail', 'you', 'know', 'losing', 'everything', 'you', 'worked', 'um', 'last', 'time', 'i', 'argued', 'somebody', 'um', 'one', 'my', 'um', 'close', 'friends', 'um', 'i', 'seen', 'him', 'couple', 'times', 'upset', 'upset', 'um', 'uh', 'vehicle', 'i', 'bought', 'i', 'bought', 'something', 'affordable', 'like', 'vehicle', 'car', 'i', 'bought', 'um', 'like', 'um', 'something', 'affordable', 'like', 'uh', 'maybe', 'uh', 'something', 'economic', 'um', 'moving', 'los', 'angeles', 'west', 'los', 'angeles', 'i', 'basically', 'found', 'i', 'uncle', 'i', 'moved', 'him', 'um', 'i', 'moved', 'my', 'it', 'good', 'it', 'affordable', 'it', 'good', 'right', 'really', 'close', 'um', 'i', 'i', 'know', 'um', 'um', 'financially', 'stable', 'well', 'ever', 'since', 'i', 'moved', 'la', 'it', 'um', 'i', 'try', 'fit', 'job', 'something', 'happens', 'business', 'they', 'either', 'lay', 'people', 'sell', 'business', 'um', 'you', 'know', 'they', 'pay', 'they', 'cut', 'pay', 'it', 'tough', 'really', 'um', 'nobody', 'really', 'um', 'i', 'workout', 'able', 'get', 'my', 'get', 'my', 'body', 'tired', 'go', 'sleep', 'uh', 'i', 'uh', 'i', 'um', 'tired', 'falling', 'asleep', 'wherever', 'i', 'go', 'nothing', 'going', 'um', 'lately', 'meaning', 'today', 'um', 'today', 'uh', 'really', 'tired', 'i', 'went', 'last', 'night', 'um', 'last', 'week', 'last', 'uh', 'weekend', 'i', 'uh', 'group', 'friends', 'um', 'good', 'time', 'um', 'outgoing', 'nice', 'funny', 'um', 'good', 'attitude', 'personality', 'character', 'character', 'i', 'mean', 'um', 'i', 'know', 'i', 'i', 'i', 'never', 'somebody', 'uh', 'i', 'consistent', 'um', 'i', 'start', 'something', 'i', 'i', 'give', 'um', 'i', 'always', 'open', 'new', 'ideas', 'creative', 'um', 'i', 'like', 'go', 'good', 'time', 'um', 'take', 'new', 'routes', 'journeys', 'um', 'also', 'make', 'make', 'people', 'feel', 'good', 'sometimes', 'um', 'studying', 'test', 'um', 'uh', 'go', 'work', 'um', 'i', 'went', 'swimming', 'i', 'i', 'um', 'traveled', 'i', 'i', 'know', 'i', 'say', 'um', 'lot', 'things', 'happened', 'my', 'fault', 'uh', 'like', 'um', 'economy', 'going', 'bad', 'um', 'you', 'know', 'things', 'really', 'slow', 'i', 'know', 'you', 'know', 'certain', 'businesses', 'go', 'way', 'they', 'um', 'um', 'sometimes', 'it', 'takes', 'long', 'time', 'you', 'change', 'careers', 'get', 'board', 'make', 'it', 'happen', 'uh', 'working', 'eating', 'um', 'watching', 'tv', 'talking', 'my', 'friends', 'hanging', 'friends', 'uh', 'i', 'responsible', 'yeah'], tags=['train_4']),\n",
       " TaggedDocument(words=['sure', 'k', 'right', 'eh', 'alhambra', 'uh', 'weathers', 'without', 'doubt', 'firstclass', 'whole', 'lots', 'acquainted', 'uh', 'every', 'often', 'excessive', 'amount', 'congestion', 'roads', 'excessive', 'amount', 'site', 'visitors', 'i', 'i', 'studied', 'artwork', 'pictures', 'uh', 'it', 'it', 'lot', 'choice', 'i', 'simply', 'saved', 'noticing', 'i', 'used', 'inquisitive', 'it', 'sure', 'i', 'photographer', 'mhm', 'oh', 'i', 'assume', 'uh', 'um', 'going', 'walks', 'circle', 'relatives', 'portrait', 'studio', 'different', 'form', 'pictures', 'enterprise', 'uh', 'longer', 'i', 'additionally', 'rental', 'supervisor', 'it', 'continues', 'me', 'tied', 'um', 'it', 'uh', 'honest', 'it', 'longer', 'best', 'due', 'rental', 'supervisor', 'i', 'i', 'loose', 'hire', 'however', 'i', 'live', 'loads', 'order', 'element', 'loose', 'hire', 'element', 'superb', 'oh', 'gosh', 'my', 'maximum', 'memorable', 'revel', 'it', 'truly', 'difficult', 'mention', 'um', 'nicely', 'i', 'imply', 'exact', 'awful', 'memorable', 'reports', 'oh', 'nicely', 'i', 'wager', 'like', 'recreation', 'fulfillment', 'i', 'used', 'excessive', 'faculty', 'many', 'matters', 'i', 'used', 'satisfied', 'approximately', 'artwork', 'portions', 'i', 'made', 'memorable', 'awful', 'matters', 'could', 'my', 'fathers', 'demise', 'you', 'realize', 'however', 'ones', 'memorable', 'longer', 'exact', 'aleven', 'though', 'uh', 'nicely', 'my', 'dad', 'mom', 'my', 'i', 'i', 'quite', 'brothers', 'sisters', 'uh', 'my', 'circle', 'relatives', 'uh', 'pretty', 'near', 'however', 'they', 'maximum', 'them', 'stay', 'round', 'la', 'uh', 'far', 'remote', 'uh', 'remote', 'my', 'brother', 'lives', 'ny', 'my', 'different', 'brother', 'lives', 'maui', 'mhm', 'oh', 'general', 'talented', 'um', 'simply', 'um', 'extra', 'concerned', 'era', 'perhaps', 'i', 'used', 'they', 'may', 'um', 'i', 'suppose', 'they', 'may', 'extra', 'hive', 'thoughts', 'i', 'grew', 'simply', 'looks', 'they', 'hooked', 'social', 'media', 'uh', 'pass', 'stroll', 'watch', 'tv', 'play', 'my', 'laptop', 'uh', 'um', 'nicely', 'uh', 'type', 'uh', 'injustices', 'appear', 'longer', 'longer', 'longer', 'massive', 'offers', 'however', 'instance', 'our', 'parking', 'state', 'affairs', 'given', 'worse', 'new', 'district', 'parking', 'eh', 'it', 'truly', 'type', 'provoking', 'town', 'appear', 'want', 'uh', 'make', 'exceptions', 'extrade', 'policies', 'additionally', 'uh', 'unfair', 'matters', 'paintings', 'every', 'often', 'appear', 'provoking', 'uh', 'provoking', 'uh', 'yeah', 'i', 'labored', 'faculty', 'uh', 'uh', 'excessive', 'faculty', 'i', 'labored', 'excessive', 'faculty', 'dance', 'uh', 'closing', 'weekend', 'we', 'arrived', 'web', 'website', 'online', 'human', 'beings', 'web', 'website', 'online', 'stated', 'we', 'could', 'installation', 'our', 'device', 'backdrops', 'matters', 'region', 'wherein', 'we', 'assigned', 'it', 'we', 'needed', 'pass', 'outdoor', 'get', 'k', 'move', 'internal', 'due', 'fact', 'outdoor', 'we', 'organized', 'informed', 'earlier', 'we', 'outdoor', 'um', 'it', 'time', 'our', 'setup', 'time', 'would', 'afflicted', 'me', 'besides', 'monday', 'morning', 'um', 'faculty', 'referred', 'referred', 'our', 'boss', 'complained', 'we', 'past', 'due', 'putting', 'it', 'they', 'informed', 'us', 'look', 'ahead', 'them', 'we', 'informed', 'them', 'we', 'would', 'time', 'we', 'wait', 'we', 'nonetheless', 'get', 'grievance', 'order', 'element', 'provoking', 'our', 'paintings', 'us', 'workplace', 'they', 'simply', 'want', 'delight', 'faculty', 'hold', 'account', 'uh', 'regularly', 'thing', 'like', 'occurs', 'it', 'way', 'they', 'longer', 'ship', 'you', 'paintings', 'faculty', 'could', 'translate', 'much', 'less', 'payroll', 'hours', 'photographers', 'process', 'it', 'truly', 'yeah', 'it', 'truly', 'they', 'matters', 'order', 'provoking', 'uh', 'maximum', 'time', 'good', 'way', 'i', 'i', 'dirt', 'my', 'resume', 'begin', 'searching', 'different', 'conditions', 'probably', 'higher', 'um', 'yeah', 'uh', 'quite', 'exact', 'i', 'i', 'i', 'typically', 'xxx', 'would', 'possibly', 'uh', 'i', 'withinside', 'second', 'i', 'without', 'doubt', 'lose', 'it', 'however', 'xxx', 'later', 'i', 'would', 'um', 'vent', 'thing', 'like', 'however', 'spot', 'region', 'i', 'would', 'try', 'um', 'nicely', 'simply', 'days', 'um', 'we', 'uh', 'time', 'table', 'tight', 'time', 'table', 'days', 'i', 'chum', 'i', 'automobile', 'sharing', 'automobile', 'days', 'uh', 'we', 'we', 'arguing', 'wherein', 'move', 'first', 'um', 'we', 'compromised', 'maximum', 'her', 'matters', 'one', 'my', 'matters', 'turned', 'one', 'matters', 'we', 'going', 'little', 'extra', 'her', 'matters', 'however', 'it', 'yeah', 'postworrying', 'strain', 'syndrome', 'uh', 'i', 'longer', 'sure', 'oh', 'i', 'would', 'say', 'nineteen', '80', 'yeah', 'i', 'suppose', 'agree', 'it', 'turned', 'nineteen', '80', 'yeah', 'um', 'nicely', 'my', 'father', 'observed', 'signs', 'my', 'father', 'simply', 'nicely', 'he', 'handed', 'away', 'however', 'he', 'turned', 'psychiatrist', 'um', 'nicely', 'i', 'drowsing', 'i', 'used', 'laying', 'across', 'residence', 'um', 'i', 'used', 'waking', 'noon', 'thing', 'like', 'i', 'um', 'recognition', 'like', 'purchasing', 'process', 'it', 'clean', 'sufficient', 'uh', 'i', 'i', 'keep', 'mind', 'process', 'interviews', 'i', 'would', 'visit', 'their', 'front', 'door', 'i', 'would', 'pass', 'i', 'suppose', 'turned', 'part', 'melancholy', 'yeah', 'i', 'idea', 'i', 'trouble', 'however', 'i', 'recognise', 'it', 'turned', 'uh', 'nicely', 'eh', 'i', 'went', '3', 'years', 'psychiatrist', 'stated', 'he', 'idea', 'i', 'used', 'done', 'however', 'uh', 'i', 'i', 'i', 'get', 'miles', 'higher', 'area', 'i', 'watch', 'time', 'peer', 'happening', 'melancholy', 'i', 'suppose', 'i', 'i', 'exact', 'days', 'awful', 'days', 'um', 'i', 'suppose', 'remedy', 'makes', 'you', 'spot', 'um', 'like', 'i', 'i', 'idea', 'it', 'clear', 'sporting', 'pair', 'case', 'you', 'placed', 'melancholy', 'pair', 'sun', 'shades', 'you', 'without', 'doubt', 'you', 'spot', 'whole', 'lot', 'thru', 'you', 'kinda', 'i', 'type', 'attempt', 'take', 'ones', 'glasses', 'touch', 'bit', 'double', 'take', 'look', 'i', 'without', 'doubt', 'perceiving', 'stuff', 'it', 'i', 'seeing', 'it', 'thru', 'depressed', 'standpoint', 'i', 'attempt', 'search', 'clues', 'approximately', 'i', 'suppose', 'i', 'um', 'slipping', 'touch', 'bit', 'uh', 'uh', 'i', 'nicely', 'stage', 'unemployed', 'durations', 'i', 'observed', 'my', 'course', 'my', 'beyond', 'um', 'proper', 'we', 'piece', 'gradual', 'it', 'clean', 'slide', 'drowsing', 'past', 'due', 'setting', 'matters', 'due', 'fact', 'time', 'tables', 'huge', 'open', 'me', 'me', 'my', 'part', 'depressed', 'character', 'i', 'suppose', 'shape', 'without', 'doubt', 'critical', 'it', 'um', 'it', 'receives', 'you', 'away', 'bed', 'you', 'need', 'get', 'someplace', 'time', 'deal', 'engage', 'human', 'beings', 'ones', 'useful', 'matters', 'person', 'tendency', 'depressed', 'uh', 'nicely', 'i', 'know', 'it', 'adjustments', 'i', 'touch', 'bit', 'i', 'simply', 'tendency', 'centered', 'matters', 'possibly', 'longer', 'um', 'uplifting', 'shall', 'we', 'say', 'uh', 'however', 'it', 'extra', 'terrible', 'like', 'i', 'type', 'considering', 'um', 'um', 'squaddies', 'withinside', 'beyond', 'uh', 'i', 'know', 'however', 'like', 'stage', 'roman', 'generation', 'generation', 'greeks', 'historic', 'greeks', 'way', 'it', 'could', 'want', 'frontline', 'war', 'mm', 'you', 'realize', 'simply', 'crude', 'type', 'crude', 'my', 'view', 'crude', 'guns', 'clinical', 'assist', 'i', 'know', 'i', 'appear', 'my', 'thoughts', 'appears', 'move', 'loads', 'wherein', 'i', 'simply', 'considering', 'i', 'searching', 'searching', 'it', 'analyzing', 'books', 'approximately', 'um', 'videos', 'youtube', 'eh', 'things', 'um', 'different', 'matters', 'different', 'uh', 'kinda', 'like', 'horrible', 'doom', 'kind', 'topics', 'like', 'i', 'used', 'looking', 'animal', 'display', 'like', 'crocodile', 'assaults', 'things', 'wherein', 'possibly', 'stay', 'lot', 'oh', 'you', 'imply', 'lifestyles', 'trendy', 'yeah', 'nicely', 'i', 'suppose', 'i', 'remorse', 'longer', 'completing', 'university', 'i', 'suppose', 'i', 'i', 'suppose', 'i', 'used', 'uh', 'turned', 'going', 'melancholy', 'proper', 'coping', 'my', 'senior', 'yr', 'thoroughly', 'um', 'without', 'doubt', 'i', 'get', 'university', 'diploma', 'despite', 'fact', 'i', 'used', 'seven', 'years', 'however', 'uh', 'it', 'truly', 'it', 'truly', 'massive', 'remorse', 'i', 'um', 'i', 'suppose', 'it', 'could', 'um', 'positive', 'factors', 'i', 'possibly', 'sought', 'um', 'sought', 'remedy', 'additionally', 'possibly', 'uh', 'outdoor', 'assist', 'simply', 'um', 'getting', 'thru', 'finals', 'simply', 'logistics', 'i', 'i', 'used', 'artwork', 'fundamental', 'i', 'automobile', 'quite', 'artwork', 'tasks', 'matters', 'tough', 'transport', 'fro', 'additionally', 'uh', 'meet', 'away', 'places', 'i', 'suppose', 'it', 'possibly', 'could', 'really', 'well', 'worth', 'it', 'something', 'it', 'took', 'get', 'automobile', 'point', 'um', 'nicely', 'i', 'i', 'informed', 'i', 'affected', 'person', 'additionally', 'i', 'um', 'unique', 'unique', 'inventive', 'thoughts', 'um', 'ones', 'ones', 'exact', 'characteristics', 'i', 'dependable', 'additionally', 'um', 'you', 'realize', 'i', 'guide', 'my', 'buddies', 'i', 'pretty', 'beneficiant', 'them', 'yeah', 'um', 'let', 'us', 'examine', 'xxx', 'without', 'doubt', 'loved', 'turned', 'i', 'i', 'pleasant', 'revel', 'uh', 'simply', 'uh', 'photographing', 'um', 'football', 'recreation', 'days', 'i', 'without', 'doubt', 'loved', 'mhm', 'k', 'it', 'turned', 'my', 'pride', 'thanks', 'goodbye'], tags=['train_5']),\n",
       " TaggedDocument(words=['sure', 'quite', 'excellent', 'oh', 'i', 'used', 'born', 'uh', 'brooklyn', 'big', 'apple', 'i', 'got', 'right', 'i', 'used', 'seven', 'i', 'right', 'ever', 'due', 'fact', 'uh', 'i', 'take', 'account', 'myself', 'whatever', 'however', 'californian', 'uh', 'i', 'welder', 'um', 'i', 'simply', 'i', 'know', 'thing', 'approximately', 'it', 'making', 'um', 'constructing', 'matters', 'repairing', 'matters', 'intrigued', 'me', 'uh', 'uh', 'i', 'used', 'sincerely', 'quite', 'excellent', 'it', 'i', 'caught', 'it', 'my', 'profession', 'gee', 'i', 'genuinely', 'means', 'i', 'simply', 'uh', 'form', 'constantly', 'uh', 'hoping', 'i', 'might', 'process', 'would', 'guide', 'myself', 'my', 'circle', 'relatives', 'uh', 'i', 'used', 'happy', 'nicely', 'uh', 'i', 'simply', 'currently', 'misplaced', 'my', 'uncle', 'uh', 'he', 'raised', 'me', 'due', 'fact', 'i', 'used', 'seven', 'years', 'vintage', 'uh', 'apart', 'my', 'spouse', 'i', 'extra', 'circle', 'relatives', 'um', 'he', 'handed', 'away', 'ultimate', 'uh', 'july', 'uh', 'i', 'beginning', 'recover', 'it', 'um', 'i', 'knew', 'day', 'might', 'come', 'however', 'he', 'turned', 'my', 'ultimate', 'dwelling', 'relative', 'i', 'depressed', 'approximately', 'uh', 'uh', 'however', 'i', 'higher', 'it', 'relies', 'upon', 'ecosystem', 'um', 'i', 'round', 'humans', 'i', 'sense', 'cushty', 'i', 'kinda', 'reserved', 'however', 'uh', 'i', 'cushty', 'uh', 'i', 'sense', 'like', 'i', 'healthy', 'nicely', 'i', 'outgoing', 'proper', 'i', 'revel', 'vintage', 'films', 'uh', 'vintage', 'uh', 'nicely', 'it', 'referred', 'movie', 'noir', 'uh', 'i', 'like', 'ones', 'vintage', 'black', 'white', 'films', 'i', 'getting', 'netflix', 'amazon', 'i', 'try', 'select', 'film', 'uh', 'humans', 'special', 'they', 'uh', 'i', 'know', 'it', 'special', 'technology', 'i', 'revel', 'it', 'nicely', 'my', 'spouse', 'says', 'uh', 'i', 'likely', 'longer', 'excellent', 'i', 'assume', 'i', 'however', 'uh', 'i', 'given', 'confess', 'occasion', 'i', 'lose', 'my', 'mood', 'it', 'miles', 'keeping', 'her', 'matters', 'i', 'dropping', 'my', 'mood', 'approximately', 'however', 'um', 'i', 'running', 'it', 'uh', 'i', 'essentially', 'trouble', 'ever', 'due', 'fact', 'i', 'used', 'younger', 'baby', 'oh', 'sure', 'uh', 'i', 'uh', 'inside', 'outside', 'hassle', 'regulation', 'i', 'used', 'lots', 'youthful', 'i', 'i', 'handed', 'factor', 'however', 'uh', 'you', 'recognize', 'you', 'younger', 'you', 'believe', 'you', 'studied', 'you', 'recognize', 'entirety', 'uh', 'you', 'recognize', 'you', 'means', 'going', 'get', 'vintage', 'destiny', 'counted', 'however', 'uh', 'it', 'counted', 'due', 'fact', 'everthing', 'you', 'you', 'younger', 'uh', 'follows', 'you', 'relaxation', 'your', 'lifestyles', 'i', 'remorse', 'matters', 'i', 'performed', 'however', 'i', 'move', 'i', 'without', 'doubt', 'might', 'make', 'special', 'selections', 'uh', 'me', 'my', 'spouse', 'we', 'we', 'we', 'argue', 'we', 'disagree', 'it', 'she', 'sturdy', 'willed', 'she', 'he', 'healthy', 'me', 'uh', 'we', 'move', 'fro', 'however', 'you', 'recognize', 'we', 'get', 'violent', 'we', 'uh', 'uh', 'say', 'meanful', 'matters', 'harm', 'every', 'different', 'we', 'simply', 'she', 'decided', 'sturdy', 'willed', 'girl', 'i', 'i', 'we', 'kinda', 'move', 'fro', 'days', 'i', 'bow', 'decrease', 'brink', 'argument', 'due', 'fact', 'uh', 'ultimately', 'it', 'simply', 'her', 'me', 'person', 'else', 'extra', 'crucial', 'me', 'um', 'i', 'used', 'youthful', 'i', 'desire', 'uh', 'i', 'observe', 'number', 'humans', 'i', 'observed', 'i', 'suggest', 'aid', 'using', 'you', 'recognize', 'strolling', 'circle', 'sure', 'humans', 'ego', 'larger', 'my', 'unusualplace', 'feel', 'um', 'given', 'me', 'hassle', 'i', 'used', 'effective', 'baby', 'uh', 'i', 'form', 'loved', 'middle', 'interest', 'um', 'getting', 'women', 'snigger', 'humans', 'mm', 'assume', 'i', 'used', 'you', 'recognize', 'cool', 'thing', 'you', 'would', 'assume', 'i', 'kinda', 'obese', 'balding', 'however', 'i', 'used', 'my', 'twenties', 'i', 'used', 'special', 'individual', 'i', 'might', 'brothers', 'sisters', 'i', 'notion', 'acted', 'manner', 'however', 'i', 'used', 'effective', 'baby', 'i', 'you', 'recognize', 'ran', 'humans', 'notion', 'i', 'used', 'cool', 'given', 'me', 'hassle', 'toughest', 'selection', 'i', 'ever', 'needed', 'make', 'turned', 'giving', 'authorization', 'um', 'my', 'uncle', 'byskip', 'away', 'he', 'turned', 'lifestyles', 'guide', 'his', 'kidneys', 'failed', 'um', 'docs', 'stated', 'anything', 'extra', 'he', 'longer', 'him', 'undergo', 'struggling', 'permit', 'him', 'slip', 'away', 'you', 'may', 'see', 'i', 'getting', 'disillusioned', 'my', 'uncle', 'raised', 'me', 'like', 'his', 'personal', 'son', 'means', 'permit', 'me', 'he', 'long', 'past', 'loss', 'higher', 'phrase', 'push', 'button', 'i', 'means', 'notion', 'i', 'might', 'need', 'however', 'i', 'stated', 'i', 'getting', 'it', 'um', 'matters', 'become', 'higher', 'slowly', 'my', 'spouse', 'she', 'uh', 'constantly', 'me', 'she', 'constantly', 'wonder', 'me', 'we', 'she', 'longer', 'my', 'spouse', 'she', 'my', 'great', 'pal', 'she', 'he', 'aware', 'me', 'higher', 'i', 'understand', 'myself', 'um', 'we', 'revel', 'uh', 'uh', 'easy', 'matters', 'it', 'longer', 'we', 'different', 'matters', 'we', 'desired', 'however', 'we', 'mesh', 'um', 'we', 'revel', 'every', 'differents', 'corporation', 'uh', 'we', 'like', 'equal', 'matters', 'uh', 'we', 'you', 'recognize', 'occasion', 'exit', 'thing', 'collectively', 'however', 'we', 'we', 'simply', 'revel', 'every', 'differents', 'corporation', 'she', 'he', 'like', 'i', 'say', 'aware', 'me', 'higher', 'person', 'um', 'it', 'surprises', 'me', 'occasion', 'mhm', 'you', 'recognize', 'days', 'nicely', 'i', 'say', 'days', 'i', 'excuse', 'me', 'i', 'rigorous', 'hobby', 'thing', 'genuinely', 'uh', 'stresses', 'me', 'traces', 'my', 'frame', 'it', 'it', 'shall', 'we', 'embrace', 'one', 'days', 'i', 'simply', 'comfortable', 'you', 'recognize', 'longer', 'lots', 'i', 'i', 'simply', 'routinely', 'rise', '4', '12', '5', 'hours', 'i', 'suggest', 'you', 'recognize', 'my', 'spouse', 'say', 'you', 'recognize', 'man', 'you', 'longer', 'getting', 'sleep', 'however', 'i', 'suggest', 'i', 'sense', 'wornout', 'i', 'sense', 'exhausted', 'i', 'sense', 'like', 'i', 'want', 'head', 'sleep', 'i', 'live', 'day', 'i', 'nice', 'maximum', 'humans', 'might', 'say', 'longer', 'sufficient', 'sleep', 'however', 'you', 'recognize', 'me', 'i', 'it', 'effect', 'me', 'nicely', 'i', 'desire', 'matters', 'may', 'special', 'however', 'uh', 'i', 'longer', 'dissatisfied', 'um', 'uh', 'i', 'satisfied', 'my', 'lifestyles', 'uh', 'uh', 'like', 'person', 'else', 'matters', 'i', 'desire', 'special', 'i', 'assume', 'person', 'everyone', 'elses', 'uh', 'you', 'recognize', 'lifestyles', 'however', 'um', 'i', 'i', 'i', 'i', 'i', 'content', 'material', 'yeah', 'i', 'sense', 'touch', 'much', 'less', 'motivated', 'um', 'currently', 'nicely', 'i', 'say', 'currently', 'turned', 'january', 'um', 'my', 'spouse', 'uh', 'pals', 'noticing', 'i', 'used', 'um', 'turning', 'forgetful', 'i', 'i', 'could', 'forget', 'matters', 'i', 'i', 'see', 'it', 'um', 'you', 'recognize', 'they', 'everyone', 'added', 'it', 'my', 'interest', 'i', 'commenced', 'however', 'besides', 'i', 'went', 'medical', 'doctor', 'um', 'they', 'gave', 'me', 'checks', 'reputedly', 'i', 'mci', 'slight', 'cognitive', 'impairment', 'uh', 'i', 'past', 'month', 'person', 'cited', 'it', 'me', 'i', 'suggest', 'perhaps', 'i', 'getting', 'higher', 'however', 'neurologist', 'i', 'saw', 'me', 'come', 'yr', 'going', 'retest', 'me', 'um', 'luck', 'it', 'longer', 'start', 'tiers', 'alzheimers', 'i', 'nonetheless', 'touch', 'younger', 'i', 'effective', 'fifty', 'fifty', 'however', 'um', 'i', 'used', 'recognized', 'uh', 'slight', 'cognitive', 'impairment', 'uh', 'it', 'it', 'due', 'additionally', 'i', 'used', 'instructed', 'aid', 'using', 'him', 'uh', 'due', 'dying', 'my', 'uncle', 'i', 'quite', 'depressed', 'i', 'used', 'longer', 'capable', 'preserve', 'matters', 'nicely', 'i', 'going', 'yr', 'we', 'see', 'uh', 'i', 'higher', 'i', 'sorry', 'i', 'longer', 'expertise', 'you', 'i', 'sorry', 'i', 'longer', 'sure', 'thousand', 'one', 'um', 'i', 'used', 'um', 'uh', 'phrase', 'i', 'searching', 'i', 'used', 'um', 'nation', 'thoughts', 'i', 'used', 'simply', 'going', 'get', 'myself', 'hassle', 'longer', 'advantage', 'whatever', 'i', 'searching', 'assist', 'um', 'i', 'used', 'recognized', 'uh', 'melancholy', 'tension', 'ailment', 'uh', 'stressful', 'wondering', 'excessive', 'amount', 'approximately', 'matters', 'uh', 'wondering', 'worst', 'uh', 'i', 'i', 'take', 'medicinal', 'drug', 'uh', 'nicely', 'nicely', 'you', 'aware', 'it', 'longer', 'genuinely', 'remedy', 'it', 'you', 'recognize', 'uh', 'months', 'you', 'recognize', 'you', 'got', 'see', 'medical', 'doctor', 'you', 'nice', 'entirety', 'excellent', 'you', 'recognize', 'they', 'simply', 'top', 'your', 'prescription', 'it', 'you', 'aware', 'it', 'it', 'you', 'recognize', 'kinda', 'like', 'subsequent', 'individual', 'subsequent', 'individual', 'it', 'it', 'i', 'i', 'kaiser', 'it', 'it', 'they', 'may', 'speak', 'you', 'however', 'it', 'they', 'come', 'affect', 'um', 'you', 'recognize', 'i', 'i', 'ok', 'permits', 'flow', 'alongside', 'you', 'recognize', 'they', 'they', 'may', 'they', 'may', 'pay', 'attention', 'your', 'clarification', 'however', 'you', 'aware', 'it', 'it', 'they', 'time', 'you', 'you', 'could', 'need', 'i', 'i', 'i', 'i', 'nice', 'i', 'genuinely', 'wished', 'assist', 'i', 'might', 'i', 'might', 'thing', 'drugs', 'works', 'me', 'ultimate', 'time', 'i', 'felt', 'actual', 'satisfied', 'nicely', 'it', 'might', 'rely', 'occasion', 'i', 'constantly', 'satisfied', 'i', 'thing', 'me', 'my', 'spouse', 'we', 'taking', 'part', 'every', 'different', 'i', 'you', 'recognize', 'i', 'longer', 'looking', 'sound', 'like', 'she', 'my', 'complete', 'global', 'i', 'whatever', 'else', 'she', 'my', 'global', 'however', 'um', 'i', 'i', 'i', 'revel', 'together', 'along', 'her', 'we', 'we', 'we', 'matters', 'collectively', 'i', 'i', 'i', 'satisfied', 'time', 'we', 'um', 'i', 'outdoor', 'circle', 'i', 'i', 'i', 'know', 'sounds', 'proper', 'however', 'i', 'longer', 'searching', 'happiness', 'i', 'i', 'able', 'effective', 'provide', 'explanation', 'it', 'i', 'content', 'material', 'i', 'longer', 'um', 'i', 'i', 'longer', 'dissatisfied', 'i', 'longer', 'uh', 'trying', 'whatever', 'i', 'you', 'recognize', 'thing', 'comes', 'my', 'manner', 'nice', 'nicely', 'um', 'i', 'know', 'i', 'i', 'could', 'come', 'answer', 'um', 'nicely', 'my', 'great', 'pal', 'my', 'spouse', 'however', 'uh', 'she', 'might', 'um', 'describe', 'me', 'uh', 'i', 'assume', 'earlier', 'i', 'communicate', 'um', 'i', 'um', 'permit', 'littlest', 'insignificant', 'matters', 'trouble', 'me', 'i', 'getting', 'irritated', 'however', 'large', 'matters', 'it', 'like', 'i', 'permit', 'it', 'move', 'she', 'he', 'bewildered', 'aid', 'using', 'um', 'uh', 'years', 'years', 'past', 'um', 'she', 'i', 'uh', 'conventional', 'uh', 'pontiac', 'lemans', 'she', 'he', 'gotten', 'right', 'minor', 'fender', 'bender', 'she', 'he', 'notion', 'it', 'turned', 'going', 'stop', 'global', 'reason', 'turned', 'my', 'child', 'i', 'you', 'recognize', 'hello', 'worry', 'we', 'get', 'it', 'constant', 'she', 'he', 'turned', 'she', 'notion', 'i', 'used', 'going', 'dangle', 'her', 'thing', 'you', 'recognize', 'due', 'fact', 'turned', 'my', 'turned', 'you', 'recognize', 'turned', 'my', 'child', 'uh', 'she', 'going', 'you', 'recognize', 'you', 'you', 'get', 'excited', 'anything', 'however', 'you', 'recognize', 'i', 'thing', 'like', 'wrecking', 'your', 'vehicle', 'you', 'love', 'you', 'got', 'placed', 'lot', 'hours', 'labor', 'it', 'cash', 'you', 'aware', 'it', 'receives', 'crashed', 'it', 'you', 'care', 'effective', 'manner', 'i', 'able', 'provide', 'explanation', 'it', 'nicely', 'i', 'i', 'want', 'lose', 'weight', 'you', 'may', 'see', 'i', 'without', 'doubt', 'uh', 'ingesting', 'binge', 'uh', 'uh', 'neurologist', 'stated', 'likely', 'occasion', 'my', 'uncle', 'um', 'i', 'heavy', 'i', 'heaviest', 'i', 'ever', 'my', 'lifestyles', 'i', 'locating', 'it', 'touch', 'bit', 'tougher', 'um', 'i', 'i', 'say', 'tougher', 'however', 'i', 'i', 'locating', 'need', 'strength', 'mention', 'stay', 'it', 'head', 'exercising', 'you', 'recognize', 'longer', 'you', 'recognize', 'motion', 'going', 'perhaps', 'stroll', 'you', 'recognize', 'me', 'my', 'spouse', 'we', 'touch', 'bit', 'youthful', 'we', 'used', 'like', 'going', 'walks', 'we', 'lived', 'scrubbedentry', 'uh', 'boy', 'you', 'recognize', 'take', 'observe', 'surprise', 'internal', 'you', 'recognize', 'uh', 'we', 'extra', 'i', 'wager', 'it', 'we', 'touch', 'bit', 'older', 'touch', 'bit', 'heavier', 'it', 'tougher', 'stroll', 'weight', 'however', 'i', 'i', 'i', 'i', 'desire', 'i', 'alternate', 'due', 'fact', 'uh', 'i', 'i', 'you', 'aware', 'it', 'simply', 'longer', 'healthful', 'size', 'uh', 'days', 'i', 'remorse', 'whatever', 'days', 'um', 'entiretys', 'nice', 'like', 'i', 'say', 'important', 'largest', 'effect', 'my', 'lifestyles', 'turned', 'occasion', 'my', 'uncle', 'uh', 'i', 'means', 'ever', '100', 'years', 'ever', 'notion', 'i', 'might', 'face', 'scenario', 'i', 'means', 'neglect', 'it', 'however', 'they', 'saying', 'time', 'heals', 'wounds', 'it', 'pay', 'attention', 'different', 'humans', 'uh', 'i', 'longer', 'looking', 'convey', 'my', 'uncle', 'simply', 'due', 'came', 'however', 'he', 'used', 'continuously', 'inform', 'me', 'uh', 'he', 'might', 'see', 'matters', 'i', 'used', 'trails', 'i', 'used', 'happening', 'i', 'continuously', 'notion', 'i', 'knew', 'higher', 'i', 'assume', 'number', 'children', 'assume', 'besides', 'they', 'um', 'younger', 'girl', 'i', 'used', 'speaking', 'right', 'they', 'assume', 'they', 'invincible', 'i', 'i', 'figured', 'ah', 'i', 'means', 'going', 'i', 'means', 'going', 'ones', 'troubles', 'um', 'i', 'desire', 'i', 'modified', 'matters', 'um', 'records', 'my', 'beyond', 'follows', 'me', 'it', 'everyone', 'restricted', 'me', 'number', 'possibilities', 'lots', 'factors', 'i', 'capable', 'uh', 'i', 'pass', 'them', 'however', 'i', 'move', 'uh', 'ten', 'two', 'decades', 'i', 'without', 'doubt', 'would', 'make', 'number', 'choices', 'i', 'made', 'my', 'welding', 'certificate', 'um', 'i', 'uh', 'licensed', 'aid', 'using', 'yank', 'welding', 'society', 'i', 'uh', 'uh', 'likely', 'important', 'success', 'i', 'made', 'you', 'recognize', 'myself', 'accomplishment', 'um', 'uh', 'humans', 'i', 'understand', 'say', 'i', 'uh', 'nicely', 'i', 'running', 'motors', 'days', 'however', 'they', 'stated', 'i', 'herbal', 'knack', 'uh', 'healing', 'running', 'cars', 'i', 'see', 'it', 'however', 'i', 'instructed', 'couple', 'times', 'however', 'i', 'i', 'form', 'i', 'i', 'form', 'commenced', 'slide', 'farfar', 'i', 'i', 'say', 'it', 'loss', 'hobby', 'however', 'i', 'simply', 'sense', 'incentive', 'extra', 'i', 'desire', 'i', 'pocket', 'cash', 'i', 'might', 'someone', 'else', 'it', 'i', 'sense', 'ok', 'nicely', 'thanks', 'bye', 'bye'], tags=['train_6']),\n",
       " TaggedDocument(words=['yes', 'well', 'uh', 'ohio', 'mhm', 'uh', 'finished', 'school', 'came', 'start', 'my', 'life', 'uh', 'often', 'really', 'often', 'uh', 'my', 'parents', 'passed', 'away', 'my', 'reason', 'my', 'reason', 'going', 'home', 'prior', 'uh', 'really', 'comparison', 'you', 'know', 'warm', 'sunny', 'four', 'seasons', 'it', 'different', 'environment', 'i', 'it', 'took', 'minute', 'get', 'adjusted', 'different', 'culture', 'uh', 'i', 'adjusted', 'you', 'know', 'sunshine', 'keeps', 'you', 'uh', 'i', 'love', 'weather', 'i', 'love', 'fact', 'i', 'ocean', 'mountains', 'um', 'many', 'things', 'i', 'choose', 'diversity', 'i', 'find', 'uh', 'i', 'tend', 'things', 'i', 'like', 'uh', 'i', 'i', 'know', 'i', 'finding', 'myself', 'i', 'like', 'me', 'means', 'really', 'nothing', 'i', 'like', 'yes', 'i', 'uh', 'i', 'love', 'able', 'explore', 'different', 'cultures', 'able', 'meet', 'different', 'people', 'different', 'set', 'experiences', 'time', 'able', 'find', 'commonality', 'uh', 'types', 'people', 'it', 'rich', 'experience', 'um', 'one', 'uh', 'i', 'guess', 'i', 'thinking', 'egypt', 'wonderful', 'experiences', 'i', 'uh', 'i', 'go', 'people', 'warm', 'loving', 'experience', 'i', 'knowledge', 'i', 'get', 'pursue', 'exploring', 'temples', 'pyramids', 'etcetera', 'things', 'like', 'many', 'really', 'i', 'think', 'uh', 'seeing', 'baby', 'mosque', 'really', 'pure', 'it', 'really', 'stayed', 'me', 'similar', 'we', 'actually', 'um', 'probably', 'one', 'things', 'i', 'remember', 'one', 'my', 'first', 'trips', 'uh', 'let', 'us', 'see', 'interaction', 'people', 'food', 'you', 'know', 'incredible', 'i', 'love', 'food', 'wow', 'i', 'studied', 'lots', 'different', 'things', 'i', 'studied', 'law', 'i', 'studied', 'um', 'entertainment', 'i', 'studied', 'communications', 'i', 'studied', 'whatever', 'i', 'want', 'quite', 'renaissance', 'woman', 'ah', 'it', 'always', 'my', 'way', 'really', 'explore', 'things', 'i', 'enjoy', 'keeps', 'me', 'fresh', 'keeps', 'me', 'happy', 'keeps', 'me', 'alive', 'um', 'allows', 'me', 'able', 'fully', 'developed', 'human', 'able', 'mhm', 'um', 'i', 'dream', 'job', 'per', 'se', 'i', 'um', 'desire', 'able', 'free', 'whatever', 'it', 'i', 'choose', 'daily', 'basis', 'uh', 'probably', 'outgoing', 'mhm', 'well', 'i', 'start', 'my', 'day', 'relaxed', 'i', 'start', 'my', 'day', 'meditation', 'uh', 'several', 'uh', 'several', 'spiritual', 'practices', 'i', 'perform', 'i', 'move', 'uh', 'around', 'i', 'get', 'exercise', 'uh', 'i', 'keep', 'everything', 'humming', 'everything', 'moving', 'uh', 'move', 'forward', 'uh', 'excellent', 'i', 'really', 'one', 'anymore', 'argued', 'um', 'cannot', 'remember', 'last', 'time', 'i', 'actually', 'argument', 'um', 'know', 'it', 'i', 'imagine', 'last', 'time', 'i', 'argued', 'something', 'probably', 'might', 'related', 'money', 'situation', 'i', 'wish', 'i', 'handled', 'differently', 'you', 'know', 'i', 'try', 'take', 'experience', 'they', 'come', 'try', 'regrets', 'hold', 'guilt', 'way', 'anything', 'uh', 'went', 'they', 'me', 'positive', 'learning', 'experiences', 'uh', 'i', 'get', 'explore', 'i', 'i', 'really', 'see', 'them', 'needing', 'them', 'different', 'i', 'need', 'learn', 'them', 'um', 'really', 'accept', 'mhm', 'hardest', 'decision', 'i', 'ever', 'make', 'um', 'really', 'quote', 'quote', 'hard', 'decision', 'you', 'know', 'i', 'grew', 'way', 'uh', 'my', 'mother', 'extremely', 'wonderful', 'way', 'she', 'always', 'taught', 'me', 'know', 'it', 'my', 'life', 'she', 'would', 'never', 'make', 'decisions', 'me', 'she', 'always', 'taught', 'me', 'say', 'she', 'would', 'always', 'say', 'it', 'your', 'life', 'um', 'me', 'decisions', 'really', 'come', 'difficult', 'make', 'they', 'pretty', 'easy', 'make', 'i', 'making', 'them', 'since', 'childhood', 'i', 'really', 'difficult', 'decision', 'i', 'ever', 'made', 'mm', 'event', 'i', 'could', 'erase', 'my', 'memory', 'i', 'really', 'one', 'i', 'think', 'would', 'terrible', 'i', 'would', 'need', 'erase', 'it', 'everything', 'me', 'learning', 'experience', 'nothing', 'really', 'regret', 'erase', 'uh', 'easy', 'soon', 'i', 'hit', 'pillow', 'i', 'uh', 'great', 'uh', 'little', 'uh', 'physical', 'exertion', 'normal', 'uh', 'still', 'great', 'mm', 'overall', 'i', 'attribute', 'i', 'accredit', 'spiritual', 'practices', 'i', 'perform', 'daily', 'basis', 'keep', 'me', 'pretty', 'even', 'tempered', 'mm', 'uh', 'pretty', 'much', 'every', 'day', 'i', 'feel', 'really', 'happy', 'every', 'day', 'i', 'thankful', 'i', 'grateful', 'my', 'life', 'uh', 'i', 'thankful', 'everything', 'comes', 'it', 'uh', 'smart', 'uh', 'loving', 'uh', 'intelligent', 'funny', 'uh', 'outgoing', 'probably', 'probably', 'my', 'friends', 'would', 'say', 'uh', 'really', 'nothing', 'i', 'think', 'i', 'need', 'different', 'uh', 'myself', 'like', 'i', 'okay', 'everything', 'way', 'it', 'really', 'advice', 'would', 'i', 'given', 'myself', 'ten', 'twenty', 'years', 'ago', 'know', 'um', 'understand', 'everything', 'happened', 'ten', 'twenty', 'years', 'ago', 'important', 'terms', 'developing', 'person', 'i', 'able', 'go', 'flow', 'go', 'experiences', 'life', 'order', 'able', 'learn', 'move', 'effortlessly', 'situation', 'comes', 'recently', 'really', 'enjoyed', 'uh', 'uh', 'cooked', 'wonderful', 'meal', 'um', 'i', 'love', 'cooking', 'something', 'i', 'really', 'enjoyed', 'mhm', 'wow', 'my', 'my', 'willingness', 'get', 'know', 'myself', 'travel', 'exploration', 'practices', 'practical', 'application', 'everything', 'i', 'learned', 'people', 'cultures', 'places', 'importantly', 'you', 'know', 'god', 'within', 'me', 'bye'], tags=['train_7']),\n",
       " TaggedDocument(words=['sure', 'uh', 'okay', 'i', 'guess', 'bad', 'good', 'denver', 'colorado', 'uh', 'pursue', 'job', 'opportunities', 'uh', 'two', 'years', 'ago', 'uh', 'twice', 'year', 'uh', 'i', 'really', 'like', 'sunshine', 'um', 'opportunities', 'different', 'kinds', 'people', 'lots', 'stuff', 'sort', 'thing', 'uh', 'i', 'hate', 'traffic', 'i', 'wish', 'seasons', 'distinct', 'everything', 'costs', 'lot', 'money', 'pretty', 'easy', 'hmm', 'i', 'would', 'say', 'uh', 'people', 'rude', 'um', 'enough', 'money', 'uh', 'else', 'mm', 'lot', 'things', 'frustrating', 'i', 'guess', 'i', 'guess', 'it', 'depends', 'i', 'annoyed', 'like', 'it', 'another', 'person', 'something', 'i', 'life', 'general', 'uh', 'somebody', 'like', 'person', 'annoys', 'me', 'i', 'probably', 'let', 'them', 'know', 'they', 'annoying', 'me', 'they', 'stop', 'you', 'talking', 'okay', 'uh', 'good', 'i', 'would', 'like', 'uh', 'days', 'ago', 'getting', 'paid', 'something', 'i', 'time', 'uh', 'pretty', 'pissed', 'taken', 'advantage', 'i', 'like', 'go', 'gym', 'uh', 'hang', 'friends', 'read', 'write', 'sort', 'thing', 'mm', 'times', 'uh', 'sometimes', 'i', 'like', 'keep', 'myself', 'feel', 'like', 'showing', 'lot', 'outward', 'emotion', 'i', 'degree', 'liberal', 'arts', 'majored', 'political', 'science', 'i', 'work', 'uh', 'sales', 'hmm', 'uh', 'several', 'my', 'businesses', 'lots', 'money', 'coming', 'different', 'streams', 'i', 'guess', 'job', 'uh', 'i', 'used', 'live', 'mexico', 'city', 'pretty', 'memorable', 'um', 'let', 'us', 'see', 'it', 'pretty', 'different', 'anything', 'i', 'ever', 'experienced', 'it', 'lot', 'fun', 'exposed', 'lot', 'new', 'things', 'new', 'people', 'uh', 'i', 'pretty', 'young', 'carefree', 'good', 'times', 'um', 'recently', 'i', 'my', 'life', 'traveled', 'quite', 'bit', 'um', 'let', 'us', 'see', 'i', 'went', 'london', 'lot', 'fun', 'pretty', 'cool', 'city', 'little', 'expensive', 'definitely', 'cool', 'anything', 'life', 'um', 'let', 'us', 'see', 'uh', 'boy', 'good', 'question', 'um', 'moving', 'la', 'pretty', 'memorable', 'took', 'me', 'lot', 'hard', 'work', 'uh', 'move', 'memorable', 'i', 'would', 'say', 'hmm', 'uh', 'maybe', 'like', 'six', 'months', 'ago', 'uh', 'things', 'going', 'really', 'well', 'much', 'stress', 'my', 'life', 'uh', 'yeah', 'i', 'i', 'easier', 'easily', 'irritated', 'uh', 'yell', 'tired', 'uh', 'kind', 'feeling', 'productive', 'uh', 'yeah', 'awhile', 'ago', 'uh', 'hmm', 'mm', 'know', 'exactly', 'it', 'years', 'i', 'still', 'feel', 'i', 'they', 'diagnosed', 'me', 'i', 'assume', 'i', 'still', 'depressed', 'um', 'well', 'i', 'i', 'big', 'believer', 'talking', 'people', 'your', 'problems', 'i', 'thought', 'would', 'uh', 'good', 'idea', 'i', 'it', 'i', 'found', 'oh', 'yeah', 'definitely', 'um', 'i', 'mean', 'it', 'depends', 'you', 'mean', 'therapy', 'like', 'i', 'people', 'probably', 'afford', 'good', 'therapy', 'even', 'talking', 'friends', 'i', 'would', 'consider', 'therapy', 'somebody', 'listen', 'helps', 'you', 'get', 'stuff', 'your', 'chest', 'thanks', 'um', 'well', 'i', 'necessarily', 'seen', 'therapist', 'per', 'se', 'uh', 'you', 'talk', 'somebody', 'listens', 'you', 'you', 'get', 'stuff', 'like', 'like', 'your', 'head', 'whatever', 'it', 'it', 'uh', 'it', 'helps', 'destress', 'i', 'think', 'hmm', 'pretty', 'girls', 'um', 'i', 'good', 'leader', 'i', 'really', 'smart', 'uh', 'able', 'um', 'survive', 'my', 'city', 'like', 'completely', 'my', 'outside', 'help', 'yeah', 'lots', 'stuff', 'um', 'dumb', 'mistakes', 'i', 'made', 'i', 'younger', 'looking', 'back', 'i', 'know', 'i', 'probably', 'would', 'made', 'um', 'i', 'would', 'tell', 'myself', 'seek', 'listen', 'people', 'older', 'me', 'much', 'possible', 'hmm', 'scrubbedentry', 'he', 'always', 'good', 'sort', 'pep', 'talk', 'uh', 'dose', 'reality', 'he', 'sugarcoat', 'anything', 'talking', 'him', 'always', 'helps', 'give', 'me', 'perspective', 'um', 'talented', 'i', 'know', 'good', 'stuff', 'i', 'good', 'lot', 'stuff', 'people', 'seem', 'notice', 'i', 'i', 'guess', 'nice', 'good', 'disposition', 'funny', 'see', 'you', 'later'], tags=['train_8']),\n",
       " TaggedDocument(words=['yes', 'i', 'okay', 'i', 'uh', 'los', 'angeles', 'california', 'originally', 'yes', 'sunshine', 'uh', 'weathers', 'great', 'it', 'it', 'smog', 'pollution', 'crime', 'um', 'certain', 'things', 'like', 'yeah', 'i', 'one', 'point', 'my', 'life', 'i', 'military', 'hardly', 'lot', 'traveling', 'seeing', 'different', 'sights', 'different', 'people', 'i', 'think', 'it', 'people', 'around', 'different', 'types', 'city', 'people', 'see', 'meeting', 'different', 'new', 'people', 'uh', 'i', 'traveled', 'uh', 'new', 'york', 'one', 'time', 'uh', 'it', 'quite', 'different', 'big', 'city', 'different', 'people', 'uh', 'it', 'eighteen', 'uh', 'yes', 'i', 'uh', 'i', 'lot', 'combat', 'training', 'combat', 'mm', 'disciplined', 'uh', 'motivated', 'uh', 'you', 'get', 'lot', 'things', 'done', 'even', 'you', 'want', 'them', 'you', 'know', 'you', 'go', 'back', 'your', 'army', 'days', 'you', 'get', 'motivated', 'stuff', 'you', 'really', 'needed', 'get', 'done', 'you', 'want', 'it', 'it', 'got', 'done', 'uh', 'like', 'uh', 'you', 'uh', 'lot', 'cleaning', 'uh', 'you', 'wake', 'pretty', 'early', 'you', 'lot', 'pt', 'you', 'uh', 'stay', 'like', 'two', 'three', 'clock', 'morning', 'you', 'wake', 'back', 'four', 'five', 'yes', 'uh', 'certain', 'point', 'yes', 'military', 'i', 'joined', 'national', 'guard', 'i', 'uh', 'fifteen', 'sixteen', 'years', 'uh', 'i', 'uh', 'excuse', 'me', 'madam', 'i', 'hear', 'quite', 'hear', 'uh', 'made', 'me', 'decide', 'uh', 'motivation', 'you', 'know', 'really', 'wanted', 'career', 'see', 'i', 'could', 'find', 'career', 'it', 'it', 'helped', 'me', 'little', 'bit', 'yeah', 'thank', 'you', 'it', 'easy', 'uh', 'i', 'mean', 'i', 'sorry', 'it', 'easy', 'it', 'bother', 'me', 'much', 'go', 'back', 'civilian', 'life', 'yeah', 'it', 'bother', 'me', 'i', 'i', 'adjusted', 'pretty', 'well', 'uh', 'history', 'basically', 'lot', 'um', 'yeah', 'basically', 'history', 'uh', 'i', 'i', 'uh', 'disabled', 'oh', 'it', 'okay', 'it', 'okay', 'we', 'i', 'heal', 'i', 'get', 'better', 'hopefully', 'i', 'yes', 'i', 'try', 'keep', 'excuse', 'me', 'madam', 'i', 'guess', 'i', 'my', 'dream', 'job', 'would', 'probably', 'working', 'others', 'working', 'young', 'people', 'working', 'kids', 'seeing', 'they', 'get', 'uh', 'right', 'proper', 'uh', 'uh', 'education', 'you', 'know', 'due', 'them', 'they', 'productive', 'life', 'society', 'we', 'live', 'today', 'yeah', 'excuse', 'me', 'i', 'think', 'them', 'i', 'think', 'uh', 'they', 'uh', 'uh', 'xxx', 'i', 'mean', 'they', 'they', 'participate', 'they', 'their', 'lives', 'they', 'ask', 'questions', 'they', 'motivated', 'uh', 'really', 'achieve', 'something', 'within', 'their', 'lives', 'give', 'them', 'mm', 'give', 'them', 'confidence', 'motivation', 'they', 'need', 'life', 'lot', 'them', 'get', 'it', 'i', 'see', 'people', 'really', 'really', 'stuff', 'they', 'really', 'uh', 'it', 'really', 'eeks', 'me', 'i', 'mean', 'really', 'bothers', 'me', 'people', 'talk', 'you', 'they', 'give', 'you', 'runaround', 'it', 'like', 'you', 'straight', 'me', 'instead', 'giving', 'me', 'runaround', 'you', 'straight', 'me', 'frustrating', 'uh', 'really', 'people', 'really', 'i', 'trying', 'find', 'right', 'word', 'stupid', 'stuff', 'really', 'botthers', 'me', 'uh', 'spray', 'painting', 'wall', 'uh', 'throwing', 'garbage', 'anywhere', 'picking', 'it', 'uh', 'really', 'uh', 'you', 'know', 'really', 'hygiene', 'you', 'know', 'taking', 'care', 'yourself', 'hygiene', 'you', 'know', 'i', 'mean', 'yeah', 'i', 'i', 'annoyed', 'uh', 'i', 'get', 'really', 'upset', 'i', 'really', 'start', 'really', 'cussing', 'people', 'honest', 'you', 'it', 'something', 'really', 'me', 'uh', 'i', 'learning', 'really', 'let', 'go', 'it', 'lot', 'you', 'know', 'you', 'know', 'say', 'hey', 'way', 'it', 'it', 'like', 'i', 'control', 'i', 'control', 'it', 'yeah', 'i', 'control', 'things', 'i', 'really', 'getting', 'upset', 'people', 'really', 'good', 'it', 'good', 'me', 'oh', 'my', 'temper', 'controlled', 'i', 'control', 'it', 'pretty', 'well', 'uh', 'i', 'i', 'know', 'i', 'think', 'it', 'probably', 'my', 'sister', 'she', 'controlling', 'it', 'like', 'you', 'your', 'life', 'i', 'mine', 'tell', 'me', 'yeah', 'we', 'real', 'close', 'i', 'get', 'along', 'them', 'we', 'real', 'close', 'i', 'problems', 'them', 'yeah', 'good', 'uh', 'morning', 'yeah', 'i', 'wake', 'pretty', 'you', 'know', 'i', 'i', 'first', 'thing', 'i', 'i', 'wake', 'morning', 'i', 'pray', 'my', 'spirits', 'connection', 'uh', 'universe', 'world', 'i', 'i', 'feel', 'pretty', 'good', 'yes', 'uh', 'you', 'know', 'i', 'motivated', 'get', 'start', 'things', 'life', 'anything', 'times', 'you', 'want', 'get', 'something', 'accomplished', 'you', 'really', 'get', 'it', 'done', 'road', 'blocks', 'way', 'uh', 'i', 'learning', 'uh', 'overcome', 'road', 'blocks', 'well', 'uh', 'well', 'instance', 'uh', 'looking', 'go', 'school', 'i', 'problems', 'uh', 'getting', 'enrolled', 'school', 'i', 'talk', 'one', 'my', 'social', 'workers', 'she', 'willing', 'help', 'me', 'get', 'online', 'uh', 'it', 'i', 'like', 'okay', 'it', 'well', 'it', 'going', 'get', 'done', 'yeah', 'uh', 'you', 'repeat', 'one', 'time', 'madam', 'uh', 'yes', 'i', 'see', 'i', 'uh', 'i', 'would', 'say', 'uh', 'last', 'couple', 'weeks', 'uh', 'i', 'noticed', 'i', 'go', 'certain', 'situations', 'like', 'you', 'talking', 'anger', 'situation', 'it', 'like', 'i', 'get', 'angry', 'time', 'me', 'sometimes', 'i', 'get', 'angry', 'i', 'find', 'causing', 'causing', 'me', 'get', 'angry', 'i', 'take', 'excuse', 'me', 'madam', 'uh', 'it', 'hard', 'alls', 'you', 'take', 'your', 'time', 'reflect', 'everything', 'uh', 'you', 'gone', 'uh', 'take', 'good', 'look', 'situation', 'uh', 'go', 'find', 'really', 'bothering', 'you', 'it', 'seldom', 'uh', 'i', 'suffer', 'ptsd', 'uh', 'getting', 'type', 'sleep', 'would', 'would', 'great', 'i', 'recurring', 'nightmares', 'incident', 'i', 'i', 'think', 'it', 'i', 'know', 'it', 'triggered', 'i', 'think', 'it', 'i', 'talking', 'someone', 'seeing', 'someone', 'i', 'veteran', 'uh', 'va', 'situation', 'ptsd', 'basically', 'right', 'excuse', 'me', 'madam', 'uh', 'lot', 'nightmares', 'lot', 'problems', 'lot', 'anger', 'issues', 'uh', 'depression', 'uh', 'i', 'noticed', 'me', 'uh', 'i', 'started', 'i', 'started', 'tell', 'myself', 'i', 'needed', 'help', 'basically', 'it', 'i', 'you', 'know', 'i', 'you', 'know', 'i', 'something', 'wrong', 'it', 'something', 'right', 'me', 'somethings', 'right', 'me', 'i', 'take', 'time', 'you', 'know', 'take', 'good', 'look', 'myself', 'ask', 'myself', 'somethings', 'right', 'you', 'somethings', 'right', 'fine', 'somethings', 'right', 'you', 'need', 'take', 'care', 'it', 'uh', 'i', 'started', 'seeking', 'help', 'yeah', 'somewhat', 'yes', 'it', 'somewhat', 'i', 'able', 'sit', 'talk', 'therapist', 'well', 'i', 'able', 'sit', 'talk', 'therapist', 'uh', 'tell', 'them', 'my', 'situation', 'we', 'usually', 'go', 'problem', 'uh', 'i', 'went', 'classes', 'i', 'uh', 'uh', 'talking', 'oneonone', 'my', 'doctor', 'it', 'helping', 'little', 'bit', 'yeah', 'it', 'good', 'thing', 'excuse', 'me', 'madam', 'really', 'my', 'best', 'friend', 'uh', 'they', 'he', 'would', 'describe', 'me', 'fun', 'loving', 'good', 'person', 'always', 'try', 'help', 'others', 'uh', 'think', 'others', 'really', 'myself', 'i', 'know', 'i', 'need', 'things', 'need', 'done', 'me', 'i', 'take', 'care', 'it', 'you', 'know', 'they', 'really', 'actually', 'they', 'really', 'look', 'me', 'they', 'lot', 'respect', 'me', 'yeah', 'they', 'see', 'something', 'me', 'they', 'wish', 'they', 'excuse', 'me', 'madam', 'uh', 'you', 'little', 'bit', 'specific', 'oh', 'okay', 'uh', 'books', 'crossword', 'puzzles', 'uh', 'walking', 'it', 'i', 'thought', 'i', 'i', 'think', 'i', 'i', 'think', 'i', 'regret', 'anything', 'it', 'way', 'it', 'me', 'i', 'accept', 'it', 'i', 'keep', 'moving', 'i', 'regret', 'anything', 'past', 'i', 'wasting', 'my', 'time', 'it', 'gone', 'past', 'i', 'need', 'move', 'i', 'need', 'live', 'present', 'i', 'prepared', 'future', 'i', 'move', 'future', 'yeah', 'uh', 'education', 'uh', 'direct', 'confidence', 'i', 'like', 'i', 'today', 'yeah', 'i', 'lacking', 'maybe', 'twenty', 'years', 'ago', 'uh', 'yes', 'yes', 'i', 'lot', 'positive', 'people', 'my', 'life', 'uh', 'yeah', 'people', 'would', 'uh', 'uh', 'uh', 'well', 'consistently', 'xxx', 'i', 'mean', 'consistently', 'motivate', 'me', 'continue', 'pursue', 'certain', 'goal', 'uh', 'i', 'thought', 'pretty', 'good', 'i', 'really', 'see', 'lot', 'uh', 'he', 'gave', 'me', 'lot', 'motivation', 'try', 'go', 'try', 'certain', 'things', 'anything', 'you', 'it', 'choice', 'it', 'you', 'whether', 'you', 'it', 'choice', 'still', 'you', 'it', 'done', 'excuse', 'me', 'madam', 'uh', 'i', 'able', 'really', 'able', 'selfmotivated', 'really', 'able', 'put', 'my', 'best', 'foot', 'forward', 'able', 'get', 'lot', 'things', 'accomplished', 'i', 'thought', 'i', 'could', 'it', 'accomplished', 'i', 'willing', 'enough', 'put', 'it', 'it', 'oh', 'wow', 'huh', 'oh', 'really', 'you', 'know', 'i', 'really', 'enjoyed', 'sitting', 'my', 'social', 'worker', 'we', 'talking', 'getting', 'things', 'done', 'within', 'my', 'life', 'school', 'one', 'them', 'uh', 'school', 'one', 'them', 'i', 'kinda', 'liked', 'it', 'first', 'time', 'someone', 'willing', 'really', 'sit', 'me', 'work', 'me', 'yeah', 'i', 'thought', 'great', 'thing', 'long', 'you', 'willing', 'i', 'willing', 'go', 'even', 'extra', 'mile', 'even', 'motivated', 'things', 'besides', 'school', 'uh', 'yeah', 'gets', 'me', 'going', 'oh', 'it', 'i', 'love', 'it', 'uh', 'going', 'accomplished', 'thank', 'you', 'goodbye'], tags=['train_9'])]"
      ]
     },
     "execution_count": 7,
     "metadata": {},
     "output_type": "execute_result"
    }
   ],
   "source": [
    "X_train = label_sentences(X_train, 'train')\n",
    "X_test = label_sentences(X_test, 'test')\n",
    "all_data = X_train + X_test\n",
    "\n",
    "all_data[:10]"
   ]
  },
  {
   "cell_type": "markdown",
   "metadata": {},
   "source": [
    "# Train doc2vec model (skip if you have the numpy data)\n",
    "Parameters:\n",
    "* dm=0: distributed bag of words (DBOW) is used\n",
    "* vector_size=300: 300 vector dimensional feature vectors\n",
    "* negative=5: specifies how many \"noise words\" should be drawn\n",
    "* min_count=1: ignores all words with total frequency lower than this\n",
    "* alpha=0.065: the initial learning rate"
   ]
  },
  {
   "cell_type": "code",
   "execution_count": 8,
   "metadata": {},
   "outputs": [
    {
     "name": "stderr",
     "output_type": "stream",
     "text": [
      "100%|██████████| 285/285 [00:00<00:00, 778747.00it/s]\n"
     ]
    }
   ],
   "source": [
    "model_dbow = doc2vec.Doc2Vec(dm=0, vector_size=300, negative=5, min_count=1, alpha=0.065, min_alpha=0.065)\n",
    "model_dbow.build_vocab([x for x in tqdm(all_data)])"
   ]
  },
  {
   "cell_type": "code",
   "execution_count": 9,
   "metadata": {},
   "outputs": [
    {
     "name": "stderr",
     "output_type": "stream",
     "text": [
      "100%|██████████| 285/285 [00:00<00:00, 1259617.11it/s]\n",
      "100%|██████████| 285/285 [00:00<00:00, 1296503.95it/s]\n",
      "100%|██████████| 285/285 [00:00<00:00, 1267631.64it/s]\n",
      "100%|██████████| 285/285 [00:00<00:00, 877662.73it/s]\n",
      "100%|██████████| 285/285 [00:00<00:00, 148457.11it/s]\n",
      "100%|██████████| 285/285 [00:00<00:00, 185992.94it/s]\n",
      "100%|██████████| 285/285 [00:00<00:00, 189621.93it/s]\n",
      "100%|██████████| 285/285 [00:00<00:00, 1044909.65it/s]\n",
      "100%|██████████| 285/285 [00:00<00:00, 186224.75it/s]\n",
      "100%|██████████| 285/285 [00:00<00:00, 678805.59it/s]\n",
      "100%|██████████| 285/285 [00:00<00:00, 131360.07it/s]\n",
      "100%|██████████| 285/285 [00:00<00:00, 1264948.83it/s]\n",
      "100%|██████████| 285/285 [00:00<00:00, 528226.53it/s]\n",
      "100%|██████████| 285/285 [00:00<00:00, 797981.74it/s]\n",
      "100%|██████████| 285/285 [00:00<00:00, 119789.22it/s]\n",
      "100%|██████████| 285/285 [00:00<00:00, 1121366.45it/s]\n",
      "100%|██████████| 285/285 [00:00<00:00, 484350.34it/s]\n",
      "100%|██████████| 285/285 [00:00<00:00, 806596.92it/s]\n",
      "100%|██████████| 285/285 [00:00<00:00, 121852.87it/s]\n",
      "100%|██████████| 285/285 [00:00<00:00, 254119.18it/s]\n",
      "100%|██████████| 285/285 [00:00<00:00, 247900.59it/s]\n",
      "100%|██████████| 285/285 [00:00<00:00, 1233618.82it/s]\n",
      "100%|██████████| 285/285 [00:00<00:00, 1139539.22it/s]\n",
      "100%|██████████| 285/285 [00:00<00:00, 49147.96it/s]\n",
      "100%|██████████| 285/285 [00:00<00:00, 1246482.42it/s]\n",
      "100%|██████████| 285/285 [00:00<00:00, 1006209.29it/s]\n",
      "100%|██████████| 285/285 [00:00<00:00, 779254.65it/s]\n",
      "100%|██████████| 285/285 [00:00<00:00, 147924.35it/s]\n",
      "100%|██████████| 285/285 [00:00<00:00, 1228547.42it/s]\n",
      "100%|██████████| 285/285 [00:00<00:00, 239458.46it/s]\n"
     ]
    }
   ],
   "source": [
    "for epoch in range(30):\n",
    "    model_dbow.train(utils.shuffle([x for x in tqdm(all_data)]), \n",
    "                     total_examples=len(all_data), \n",
    "                     epochs=1)  #shuffle the data and use all data exactly once\n",
    "    model_dbow.alpha -= 0.002 #set the learning rate\n",
    "    model_dbow.min_alpha = model_dbow.alpha"
   ]
  },
  {
   "cell_type": "code",
   "execution_count": 10,
   "metadata": {},
   "outputs": [],
   "source": [
    "def get_vectors(model, corpus_size, vectors_size, vectors_type):\n",
    "    \"\"\"\n",
    "    Get vectors from trained doc2vec model\n",
    "    :param doc2vec_model: Trained Doc2Vec model\n",
    "    :param corpus_size: Size of the data\n",
    "    :param vectors_size: Size of the embedding vectors\n",
    "    :param vectors_type: Training or Testing vectors\n",
    "    :return: list of vectors\n",
    "    \"\"\"\n",
    "    vectors = np.zeros((corpus_size, vectors_size))\n",
    "    for i in range(0, corpus_size):\n",
    "        prefix = vectors_type + '_' + str(i)\n",
    "        vectors[i] = model.docvecs[prefix]\n",
    "    return vectors\n",
    "\n",
    "X_train = get_vectors(model_dbow, len(X_train), 300, 'train')\n",
    "X_test = get_vectors(model_dbow, len(X_test), 300, 'test')"
   ]
  },
  {
   "cell_type": "code",
   "execution_count": 11,
   "metadata": {},
   "outputs": [],
   "source": [
    "np.save(\"X_train_doc2vec.npy\", X_train)\n",
    "np.save(\"X_test_doc2vec.npy\", X_test)\n",
    "np.save(\"y_train_doc2vec.npy\", y_train)\n",
    "np.save(\"y_test_doc2vec.npy\", y_test)"
   ]
  },
  {
   "cell_type": "markdown",
   "metadata": {},
   "source": [
    "# Load dataset"
   ]
  },
  {
   "cell_type": "code",
   "execution_count": 12,
   "metadata": {},
   "outputs": [],
   "source": [
    "X_train = np.load(\"X_train_doc2vec.npy\")\n",
    "X_test = np.load(\"X_test_doc2vec.npy\")\n",
    "y_train = np.load(\"y_train_doc2vec.npy\")\n",
    "y_test = np.load(\"y_test_doc2vec.npy\")"
   ]
  },
  {
   "cell_type": "markdown",
   "metadata": {},
   "source": [
    "# More preprocessing"
   ]
  },
  {
   "cell_type": "markdown",
   "metadata": {},
   "source": [
    "## Evaluation metrics\n",
    "Some considerations in evaluation metrics when deciding our model.\n",
    "1. In our use case, it is more important to have high sensitivity as want to correctly identify as many depression cases out of all actual depression cases for early intervention. Predicting a non-depressed person as depressed is comparatively less severe, meaning we prioritize TPR (sensitivity) over FPR.\n",
    "2. Hence we will focus on `f1 score` and `recall` for the positive class.\n",
    "\n",
    "Note:\n",
    "* Sensitivity = true positive rate = recall = TP / (TP + FN)\n",
    "* Specificity = true negative rate = TN / (TN + FP)\n",
    "* Fall out = false positive rate = FP / (FP + TN)\n",
    "* Miss rate = false negative rate = FN / (FN + TP)\n",
    "\n",
    "Metrics can be found on this [website](https://scikit-learn.org/stable/modules/model_evaluation.html)."
   ]
  },
  {
   "cell_type": "code",
   "execution_count": 13,
   "metadata": {},
   "outputs": [],
   "source": [
    "def evaluate_on_training_set(y_test, y_pred):\n",
    "    print(y_pred)\n",
    "    print(y_test)\n",
    "    \n",
    "    # Calculate AUC\n",
    "    print(\"AUC is: \", roc_auc_score(y_test, y_pred))\n",
    "\n",
    "    # print out recall and precision\n",
    "    print(classification_report(y_test, y_pred))\n",
    "\n",
    "    # print out confusion matrix\n",
    "    print(\"Confusion Matrix: \\n\", confusion_matrix(y_test, y_pred))\n",
    "\n",
    "    # # calculate points for ROC curve\n",
    "    fpr, tpr, thresholds = roc_curve(y_test, y_pred)\n",
    "\n",
    "    # Plot ROC curve\n",
    "    plt.plot(fpr, tpr, label='ROC curve (area = %0.3f)' % roc_auc_score(y_test, y_pred))\n",
    "    plt.plot([0, 1], [0, 1], 'k--')\n",
    "    plt.ylim([0.0, 1.0])\n",
    "    plt.xlabel('False Positive Rate')\n",
    "    plt.ylabel('True Positive Rate')\n",
    "    plt.title('Receiver Operating Characteristic')"
   ]
  },
  {
   "cell_type": "markdown",
   "metadata": {},
   "source": [
    "## k cross "
   ]
  },
  {
   "cell_type": "code",
   "execution_count": 14,
   "metadata": {},
   "outputs": [],
   "source": [
    "def k_cross(input_model, X=X_train, y=y_train, k=10, n=1, random_state=RANDOM_STATE):\n",
    "    f1_scores = []\n",
    "    recall_scores = []\n",
    "    rkf = RepeatedKFold(n_splits=k, n_repeats=n, random_state=RANDOM_STATE)\n",
    "        \n",
    "    for train_index, val_index in rkf.split(X):\n",
    "        X_train, X_val = X[train_index], X[val_index]\n",
    "        y_train, y_val = y[train_index], y[val_index]\n",
    "                \n",
    "        model = clone(input_model) # prevents incremental fitting\n",
    "        model.fit(X_train, y_train) \n",
    "        \n",
    "        y_pred = model.predict(X_val)\n",
    "        f1 = f1_score(y_val, y_pred)\n",
    "        f1_scores.append(f1)\n",
    "        recall = recall_score(y_val, y_pred)\n",
    "        recall_scores.append(recall)\n",
    "        \n",
    "    return f1_scores, recall_scores"
   ]
  },
  {
   "cell_type": "markdown",
   "metadata": {},
   "source": [
    "## Evaluate model"
   ]
  },
  {
   "cell_type": "code",
   "execution_count": 15,
   "metadata": {},
   "outputs": [],
   "source": [
    "def evaluate_model(model):\n",
    "    model.fit(X_train, y_train)\n",
    "    y_pred = model.predict(X_test)\n",
    "    evaluate_on_training_set(y_test, y_pred)\n",
    "    \n",
    "    return model"
   ]
  },
  {
   "cell_type": "markdown",
   "metadata": {},
   "source": [
    "# Model Implementation"
   ]
  },
  {
   "cell_type": "markdown",
   "metadata": {},
   "source": [
    "## Logistic Regression "
   ]
  },
  {
   "cell_type": "code",
   "execution_count": 16,
   "metadata": {},
   "outputs": [
    {
     "name": "stdout",
     "output_type": "stream",
     "text": [
      "best scores: f1 = 0.8940127987954076, recall = 0.8908158508158508\n",
      "[0 0 0 0 1 0 0 1 0 0 0 0 0 0 0 1 0 0 0 0 0 1 0 0 1 0 1 1 0 0 0 0 1 0 0 0 0\n",
      " 0 0 0 0 0 1 0 1]\n",
      "[0 0 0 0 0 0 0 0 0 0 0 0 0 0 0 0 0 0 0 0 0 0 0 0 0 0 0 0 0 0 0 1 1 1 1 1 1\n",
      " 1 1 1 1 1 1 1 1]\n",
      "AUC is:  0.49423963133640547\n",
      "              precision    recall  f1-score   support\n",
      "\n",
      "           0       0.69      0.77      0.73        31\n",
      "           1       0.30      0.21      0.25        14\n",
      "\n",
      "    accuracy                           0.60        45\n",
      "   macro avg       0.49      0.49      0.49        45\n",
      "weighted avg       0.57      0.60      0.58        45\n",
      "\n",
      "Confusion Matrix: \n",
      " [[24  7]\n",
      " [11  3]]\n"
     ]
    },
    {
     "data": {
      "text/plain": [
       "LogisticRegression(C=10000, n_jobs=3)"
      ]
     },
     "execution_count": 16,
     "metadata": {},
     "output_type": "execute_result"
    },
    {
     "data": {
      "image/png": "[encoded data removed]",
      "text/plain": [
       "<Figure size 432x288 with 1 Axes>"
      ]
     },
     "metadata": {
      "needs_background": "light"
     },
     "output_type": "display_data"
    }
   ],
   "source": [
    "def find_best_logreg_model(power):\n",
    "    best_f1_model = None\n",
    "    best_f1 = -1\n",
    "    best_recall = -1\n",
    "    \n",
    "    for i in range(power + 1):\n",
    "        model = LogisticRegression(n_jobs=3, C=10**i)\n",
    "        \n",
    "        f1_scores, recall_scores = k_cross(model)\n",
    "        f1 = np.mean(f1_scores)\n",
    "        recall = np.mean(recall_scores)\n",
    "\n",
    "        if f1 > best_f1:\n",
    "            best_f1 = f1\n",
    "            best_recall = recall\n",
    "            best_f1_model = model\n",
    "    \n",
    "    print(f\"best scores: f1 = {best_f1}, recall = {best_recall}\")\n",
    "    \n",
    "    return best_f1_model\n",
    "\n",
    "best_logreg_f1_model = find_best_logreg_model(6)\n",
    "evaluate_model(best_logreg_f1_model)"
   ]
  },
  {
   "cell_type": "markdown",
   "metadata": {},
   "source": [
    "## Decision Tree"
   ]
  },
  {
   "cell_type": "code",
   "execution_count": 17,
   "metadata": {},
   "outputs": [
    {
     "name": "stdout",
     "output_type": "stream",
     "text": [
      "best scores: f1 = 0.7161336920861484, recall = 0.7340054390054391\n",
      "[1 1 1 1 1 0 1 1 0 0 0 0 0 0 0 0 1 0 0 0 0 1 0 1 1 1 1 1 1 0 0 1 1 1 0 1 0\n",
      " 0 0 1 1 1 0 1 1]\n",
      "[0 0 0 0 0 0 0 0 0 0 0 0 0 0 0 0 0 0 0 0 0 0 0 0 0 0 0 0 0 0 0 1 1 1 1 1 1\n",
      " 1 1 1 1 1 1 1 1]\n",
      "AUC is:  0.5794930875576036\n",
      "              precision    recall  f1-score   support\n",
      "\n",
      "           0       0.76      0.52      0.62        31\n",
      "           1       0.38      0.64      0.47        14\n",
      "\n",
      "    accuracy                           0.56        45\n",
      "   macro avg       0.57      0.58      0.54        45\n",
      "weighted avg       0.64      0.56      0.57        45\n",
      "\n",
      "Confusion Matrix: \n",
      " [[16 15]\n",
      " [ 5  9]]\n"
     ]
    },
    {
     "data": {
      "text/plain": [
       "DecisionTreeClassifier(max_depth=8, random_state=42)"
      ]
     },
     "execution_count": 17,
     "metadata": {},
     "output_type": "execute_result"
    },
    {
     "data": {
      "image/png": "[encoded data removed]",
      "text/plain": [
       "<Figure size 432x288 with 1 Axes>"
      ]
     },
     "metadata": {
      "needs_background": "light"
     },
     "output_type": "display_data"
    }
   ],
   "source": [
    "def find_best_tree_model(upper_depth, upper_leaf):\n",
    "    best_f1_model = None\n",
    "    best_f1 = -1\n",
    "    best_recall = -1\n",
    "    \n",
    "    for depth in range(1, upper_depth + 1):\n",
    "        for leaf in range(1, upper_leaf + 1):\n",
    "            model = DecisionTreeClassifier(random_state=RANDOM_STATE, max_depth=depth, min_samples_leaf=leaf) \n",
    "            \n",
    "            f1_scores, recall_scores = k_cross(model)\n",
    "            f1 = np.mean(f1_scores)\n",
    "            recall = np.mean(recall_scores)\n",
    "            \n",
    "            if f1 > best_f1:\n",
    "                best_f1 = f1\n",
    "                best_recall = recall\n",
    "                best_f1_model = model\n",
    "    \n",
    "    print(f\"best scores: f1 = {best_f1}, recall = {best_recall}\")\n",
    "    \n",
    "    return best_f1_model\n",
    "\n",
    "best_tree_f1_model = find_best_tree_model(20, 30)\n",
    "evaluate_model(best_tree_f1_model)"
   ]
  },
  {
   "cell_type": "markdown",
   "metadata": {},
   "source": [
    "## Random Forest"
   ]
  },
  {
   "cell_type": "code",
   "execution_count": 18,
   "metadata": {},
   "outputs": [
    {
     "name": "stdout",
     "output_type": "stream",
     "text": [
      "best scores: f1 = 0.8163976841572749, recall = 0.7754662004662005\n",
      "[0 0 0 0 0 1 1 1 0 0 0 0 0 0 1 0 0 0 0 0 0 0 0 1 0 0 0 0 1 0 0 1 0 0 0 1 0\n",
      " 1 1 0 0 0 0 0 0]\n",
      "[0 0 0 0 0 0 0 0 0 0 0 0 0 0 0 0 0 0 0 0 0 0 0 0 0 0 0 0 0 0 0 1 1 1 1 1 1\n",
      " 1 1 1 1 1 1 1 1]\n",
      "AUC is:  0.5460829493087557\n",
      "              precision    recall  f1-score   support\n",
      "\n",
      "           0       0.71      0.81      0.76        31\n",
      "           1       0.40      0.29      0.33        14\n",
      "\n",
      "    accuracy                           0.64        45\n",
      "   macro avg       0.56      0.55      0.55        45\n",
      "weighted avg       0.62      0.64      0.63        45\n",
      "\n",
      "Confusion Matrix: \n",
      " [[25  6]\n",
      " [10  4]]\n"
     ]
    },
    {
     "data": {
      "text/plain": [
       "RandomForestClassifier(n_estimators=23, random_state=42)"
      ]
     },
     "execution_count": 18,
     "metadata": {},
     "output_type": "execute_result"
    },
    {
     "data": {
      "image/png": "[encoded data removed]",
      "text/plain": [
       "<Figure size 432x288 with 1 Axes>"
      ]
     },
     "metadata": {
      "needs_background": "light"
     },
     "output_type": "display_data"
    }
   ],
   "source": [
    "def find_best_forest_model(n_estimators):\n",
    "    best_f1_model = None\n",
    "    best_f1 = -1\n",
    "    best_recall = -1\n",
    "    \n",
    "    for estimator in range(1, n_estimators + 1):\n",
    "        model = RandomForestClassifier(random_state=RANDOM_STATE, n_estimators=estimator) \n",
    "        \n",
    "        f1_scores, recall_scores = k_cross(model)\n",
    "        f1 = np.mean(f1_scores)\n",
    "        recall = np.mean(recall_scores)\n",
    "\n",
    "        if f1 > best_f1:\n",
    "            best_f1 = f1\n",
    "            best_recall = recall\n",
    "            best_f1_model = model\n",
    "    \n",
    "    print(f\"best scores: f1 = {best_f1}, recall = {best_recall}\")\n",
    "    \n",
    "    return best_f1_model\n",
    "\n",
    "best_forest_f1_model = find_best_forest_model(30)\n",
    "evaluate_model(best_forest_f1_model)"
   ]
  },
  {
   "cell_type": "markdown",
   "metadata": {},
   "source": [
    "## SVM with grid search"
   ]
  },
  {
   "cell_type": "code",
   "execution_count": 19,
   "metadata": {},
   "outputs": [
    {
     "name": "stdout",
     "output_type": "stream",
     "text": [
      "Fitting 10 folds for each of 18 candidates, totalling 180 fits\n"
     ]
    },
    {
     "name": "stderr",
     "output_type": "stream",
     "text": [
      "[Parallel(n_jobs=4)]: Using backend LokyBackend with 4 concurrent workers.\n",
      "[Parallel(n_jobs=4)]: Done 128 tasks      | elapsed:    1.6s\n",
      "[Parallel(n_jobs=4)]: Done 180 out of 180 | elapsed:    2.0s finished\n",
      "[Parallel(n_jobs=4)]: Using backend LokyBackend with 4 concurrent workers.\n"
     ]
    },
    {
     "name": "stdout",
     "output_type": "stream",
     "text": [
      "Fitting 10 folds for each of 18 candidates, totalling 180 fits\n"
     ]
    },
    {
     "name": "stderr",
     "output_type": "stream",
     "text": [
      "[Parallel(n_jobs=4)]: Done 151 tasks      | elapsed:    1.6s\n",
      "[Parallel(n_jobs=4)]: Done 180 out of 180 | elapsed:    1.9s finished\n",
      "[Parallel(n_jobs=4)]: Using backend LokyBackend with 4 concurrent workers.\n"
     ]
    },
    {
     "name": "stdout",
     "output_type": "stream",
     "text": [
      "Fitting 10 folds for each of 18 candidates, totalling 180 fits\n"
     ]
    },
    {
     "name": "stderr",
     "output_type": "stream",
     "text": [
      "[Parallel(n_jobs=4)]: Done 128 tasks      | elapsed:    1.5s\n",
      "[Parallel(n_jobs=4)]: Done 180 out of 180 | elapsed:    1.9s finished\n",
      "[Parallel(n_jobs=4)]: Using backend LokyBackend with 4 concurrent workers.\n"
     ]
    },
    {
     "name": "stdout",
     "output_type": "stream",
     "text": [
      "Fitting 10 folds for each of 18 candidates, totalling 180 fits\n"
     ]
    },
    {
     "name": "stderr",
     "output_type": "stream",
     "text": [
      "[Parallel(n_jobs=4)]: Done 151 tasks      | elapsed:    1.6s\n",
      "[Parallel(n_jobs=4)]: Done 180 out of 180 | elapsed:    1.8s finished\n"
     ]
    },
    {
     "name": "stdout",
     "output_type": "stream",
     "text": [
      "Fitting 10 folds for each of 18 candidates, totalling 180 fits\n"
     ]
    },
    {
     "name": "stderr",
     "output_type": "stream",
     "text": [
      "[Parallel(n_jobs=4)]: Using backend LokyBackend with 4 concurrent workers.\n",
      "[Parallel(n_jobs=4)]: Done 128 tasks      | elapsed:    1.4s\n",
      "[Parallel(n_jobs=4)]: Done 180 out of 180 | elapsed:    1.8s finished\n",
      "[Parallel(n_jobs=4)]: Using backend LokyBackend with 4 concurrent workers.\n"
     ]
    },
    {
     "name": "stdout",
     "output_type": "stream",
     "text": [
      "Fitting 10 folds for each of 18 candidates, totalling 180 fits\n"
     ]
    },
    {
     "name": "stderr",
     "output_type": "stream",
     "text": [
      "[Parallel(n_jobs=4)]: Done 158 tasks      | elapsed:    1.6s\n",
      "[Parallel(n_jobs=4)]: Done 180 out of 180 | elapsed:    1.8s finished\n"
     ]
    },
    {
     "name": "stdout",
     "output_type": "stream",
     "text": [
      "Fitting 10 folds for each of 18 candidates, totalling 180 fits\n"
     ]
    },
    {
     "name": "stderr",
     "output_type": "stream",
     "text": [
      "[Parallel(n_jobs=4)]: Using backend LokyBackend with 4 concurrent workers.\n",
      "[Parallel(n_jobs=4)]: Done 128 tasks      | elapsed:    1.4s\n",
      "[Parallel(n_jobs=4)]: Done 180 out of 180 | elapsed:    1.8s finished\n",
      "[Parallel(n_jobs=4)]: Using backend LokyBackend with 4 concurrent workers.\n"
     ]
    },
    {
     "name": "stdout",
     "output_type": "stream",
     "text": [
      "Fitting 10 folds for each of 18 candidates, totalling 180 fits\n"
     ]
    },
    {
     "name": "stderr",
     "output_type": "stream",
     "text": [
      "[Parallel(n_jobs=4)]: Done 144 tasks      | elapsed:    1.6s\n",
      "[Parallel(n_jobs=4)]: Done 180 out of 180 | elapsed:    1.8s finished\n",
      "[Parallel(n_jobs=4)]: Using backend LokyBackend with 4 concurrent workers.\n"
     ]
    },
    {
     "name": "stdout",
     "output_type": "stream",
     "text": [
      "Fitting 10 folds for each of 18 candidates, totalling 180 fits\n"
     ]
    },
    {
     "name": "stderr",
     "output_type": "stream",
     "text": [
      "[Parallel(n_jobs=4)]: Done 151 tasks      | elapsed:    1.6s\n",
      "[Parallel(n_jobs=4)]: Done 180 out of 180 | elapsed:    1.8s finished\n"
     ]
    },
    {
     "name": "stdout",
     "output_type": "stream",
     "text": [
      "Fitting 10 folds for each of 18 candidates, totalling 180 fits\n"
     ]
    },
    {
     "name": "stderr",
     "output_type": "stream",
     "text": [
      "[Parallel(n_jobs=4)]: Using backend LokyBackend with 4 concurrent workers.\n",
      "[Parallel(n_jobs=4)]: Done 128 tasks      | elapsed:    1.4s\n",
      "[Parallel(n_jobs=4)]: Done 180 out of 180 | elapsed:    1.8s finished\n",
      "[Parallel(n_jobs=4)]: Using backend LokyBackend with 4 concurrent workers.\n"
     ]
    },
    {
     "name": "stdout",
     "output_type": "stream",
     "text": [
      "f1 mean score: 0.9705279146141216\n",
      "recall mean score: 0.9529292929292928\n",
      "Fitting 10 folds for each of 18 candidates, totalling 180 fits\n"
     ]
    },
    {
     "name": "stderr",
     "output_type": "stream",
     "text": [
      "[Parallel(n_jobs=4)]: Done 128 tasks      | elapsed:    1.6s\n"
     ]
    },
    {
     "name": "stdout",
     "output_type": "stream",
     "text": [
      "[0 0 0 0 0 0 0 0 0 0 0 0 0 0 0 0 0 0 0 0 0 0 0 0 0 0 0 0 0 0 0 0 0 0 0 0 0\n",
      " 0 0 0 0 0 0 0 0]\n",
      "[0 0 0 0 0 0 0 0 0 0 0 0 0 0 0 0 0 0 0 0 0 0 0 0 0 0 0 0 0 0 0 1 1 1 1 1 1\n",
      " 1 1 1 1 1 1 1 1]\n",
      "AUC is:  0.5\n",
      "              precision    recall  f1-score   support\n",
      "\n",
      "           0       0.69      1.00      0.82        31\n",
      "           1       0.00      0.00      0.00        14\n",
      "\n",
      "    accuracy                           0.69        45\n",
      "   macro avg       0.34      0.50      0.41        45\n",
      "weighted avg       0.47      0.69      0.56        45\n",
      "\n",
      "Confusion Matrix: \n",
      " [[31  0]\n",
      " [14  0]]\n",
      "Best SVM parameters: {'C': 10, 'degree': 4, 'kernel': 'poly'}\n"
     ]
    },
    {
     "name": "stderr",
     "output_type": "stream",
     "text": [
      "[Parallel(n_jobs=4)]: Done 180 out of 180 | elapsed:    2.1s finished\n",
      "/opt/conda/lib/python3.6/site-packages/sklearn/metrics/_classification.py:1221: UndefinedMetricWarning: Precision and F-score are ill-defined and being set to 0.0 in labels with no predicted samples. Use `zero_division` parameter to control this behavior.\n",
      "  _warn_prf(average, modifier, msg_start, len(result))\n"
     ]
    },
    {
     "data": {
      "image/png": "[encoded data removed]",
      "text/plain": [
       "<Figure size 432x288 with 1 Axes>"
      ]
     },
     "metadata": {
      "needs_background": "light"
     },
     "output_type": "display_data"
    }
   ],
   "source": [
    "tuned_parameters = [{'kernel': ['rbf'], 'gamma': [1e-3, 1e-4], 'C': [1, 10, 100]},\n",
    "                    {'kernel': ['poly'], 'degree': [3, 4, 5], 'C': [1, 10, 100]},\n",
    "                    {'kernel': ['linear'], 'C': [1, 10, 100]}]\n",
    "\n",
    "svm_model_cv = GridSearchCV(SVC(), tuned_parameters, cv=10, scoring='f1', verbose=1, n_jobs=4)\n",
    "\n",
    "f1_scores, recall_scores = k_cross(svm_model_cv)\n",
    "\n",
    "print(f\"f1 mean score: {np.mean(f1_scores)}\")\n",
    "print(f\"recall mean score: {np.mean(recall_scores)}\")\n",
    "\n",
    "best_svm_model = evaluate_model(svm_model_cv)\n",
    "print(f\"Best SVM parameters: {best_svm_model.best_params_}\")"
   ]
  }
 ],
 "metadata": {
  "kernelspec": {
   "display_name": "Python 3",
   "language": "python",
   "name": "python3"
  },
  "language_info": {
   "codemirror_mode": {
    "name": "ipython",
    "version": 3
   },
   "file_extension": ".py",
   "mimetype": "text/x-python",
   "name": "python",
   "nbconvert_exporter": "python",
   "pygments_lexer": "ipython3",
   "version": "3.6.10"
  }
 },
 "nbformat": 4,
 "nbformat_minor": 4
}
