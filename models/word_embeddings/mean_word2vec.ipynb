{
 "cells": [
  {
   "cell_type": "markdown",
   "metadata": {},
   "source": [
    "# Import necessary modules"
   ]
  },
  {
   "cell_type": "code",
   "execution_count": 1,
   "metadata": {},
   "outputs": [
    {
     "name": "stdout",
     "output_type": "stream",
     "text": [
      "Requirement already up-to-date: imbalanced-learn in /opt/conda/lib/python3.6/site-packages (0.7.0)\n",
      "Requirement already satisfied, skipping upgrade: joblib>=0.11 in /opt/conda/lib/python3.6/site-packages (from imbalanced-learn) (0.15.1)\n",
      "Requirement already satisfied, skipping upgrade: scikit-learn>=0.23 in /opt/conda/lib/python3.6/site-packages (from imbalanced-learn) (0.23.1)\n",
      "Requirement already satisfied, skipping upgrade: numpy>=1.13.3 in /opt/conda/lib/python3.6/site-packages (from imbalanced-learn) (1.18.5)\n",
      "Requirement already satisfied, skipping upgrade: scipy>=0.19.1 in /opt/conda/lib/python3.6/site-packages (from imbalanced-learn) (1.4.1)\n",
      "Requirement already satisfied, skipping upgrade: threadpoolctl>=2.0.0 in /opt/conda/lib/python3.6/site-packages (from scikit-learn>=0.23->imbalanced-learn) (2.1.0)\n",
      "Requirement already satisfied: gensim in /opt/conda/lib/python3.6/site-packages (3.8.3)\n",
      "Requirement already satisfied: numpy>=1.11.3 in /opt/conda/lib/python3.6/site-packages (from gensim) (1.18.5)\n",
      "Requirement already satisfied: six>=1.5.0 in /opt/conda/lib/python3.6/site-packages (from gensim) (1.15.0)\n",
      "Requirement already satisfied: smart-open>=1.8.1 in /opt/conda/lib/python3.6/site-packages (from gensim) (3.0.0)\n",
      "Requirement already satisfied: scipy>=0.18.1 in /opt/conda/lib/python3.6/site-packages (from gensim) (1.4.1)\n",
      "Requirement already satisfied: requests in /opt/conda/lib/python3.6/site-packages (from smart-open>=1.8.1->gensim) (2.23.0)\n",
      "Requirement already satisfied: certifi>=2017.4.17 in /opt/conda/lib/python3.6/site-packages (from requests->smart-open>=1.8.1->gensim) (2020.4.5.2)\n",
      "Requirement already satisfied: urllib3!=1.25.0,!=1.25.1,<1.26,>=1.21.1 in /opt/conda/lib/python3.6/site-packages (from requests->smart-open>=1.8.1->gensim) (1.25.9)\n",
      "Requirement already satisfied: chardet<4,>=3.0.2 in /opt/conda/lib/python3.6/site-packages (from requests->smart-open>=1.8.1->gensim) (3.0.4)\n",
      "Requirement already satisfied: idna<3,>=2.5 in /opt/conda/lib/python3.6/site-packages (from requests->smart-open>=1.8.1->gensim) (2.9)\n"
     ]
    }
   ],
   "source": [
    "!pip install -U imbalanced-learn\n",
    "!pip install gensim\n",
    "\n",
    "# Standard libraries\n",
    "import pandas as pd\n",
    "import numpy as np\n",
    "import matplotlib.pyplot as plt\n",
    "from pathlib import Path\n",
    "\n",
    "# Processing\n",
    "from sklearn.model_selection import train_test_split\n",
    "from sklearn.model_selection import RepeatedKFold\n",
    "from imblearn.under_sampling import RandomUnderSampler\n",
    "\n",
    "# gensim\n",
    "import gensim\n",
    "from gensim.models import Word2Vec\n",
    "\n",
    "# nltk\n",
    "from nltk import sent_tokenize, word_tokenize\n",
    "\n",
    "# Metrics\n",
    "from sklearn.metrics import classification_report, confusion_matrix, roc_curve, roc_auc_score, \\\n",
    "        f1_score, precision_score, recall_score\n",
    "\n",
    "# Classifiers\n",
    "from sklearn.linear_model import LogisticRegression\n",
    "from sklearn.tree import DecisionTreeClassifier\n",
    "from sklearn.ensemble import RandomForestClassifier\n",
    "from sklearn.svm import SVC\n",
    "from sklearn.model_selection import GridSearchCV"
   ]
  },
  {
   "cell_type": "markdown",
   "metadata": {},
   "source": [
    "# Handle Imbalanced Dataset"
   ]
  },
  {
   "cell_type": "markdown",
   "metadata": {},
   "source": [
    "## Exploratory Data Analysis"
   ]
  },
  {
   "cell_type": "code",
   "execution_count": 2,
   "metadata": {},
   "outputs": [
    {
     "data": {
      "image/png": "[encoded data removed]",
      "text/plain": [
       "<Figure size 432x288 with 1 Axes>"
      ]
     },
     "metadata": {
      "needs_background": "light"
     },
     "output_type": "display_data"
    },
    {
     "name": "stdout",
     "output_type": "stream",
     "text": [
      "The ratio of negative to positive cases is 2.29.\n"
     ]
    }
   ],
   "source": [
    "df = pd.read_csv(\"../../data/clean_compiled_transcripts.csv\")\n",
    "\n",
    "count_classes = pd.value_counts(df.PHQ_Binary)\n",
    "count_classes.plot(kind = 'bar', rot=0)\n",
    "labels = [\"Non-depressed\", \"Depressed\"]\n",
    "\n",
    "plt.title(\"Depression Class Distribution\")\n",
    "plt.xticks(range(2), labels)\n",
    "plt.xlabel(\"Class\")\n",
    "plt.ylabel(\"Frequency\")\n",
    "plt.show()\n",
    "\n",
    "print(f\"The ratio of negative to positive cases is {round(count_classes[0] / count_classes[1], 2)}.\")"
   ]
  },
  {
   "cell_type": "markdown",
   "metadata": {},
   "source": [
    "Clearly, the dataset is highly imbalanced and is likely to result in poor performance. We should strive for 50:50 during training."
   ]
  },
  {
   "cell_type": "markdown",
   "metadata": {},
   "source": [
    "## Load pretrained vector embeddings"
   ]
  },
  {
   "cell_type": "code",
   "execution_count": 3,
   "metadata": {},
   "outputs": [],
   "source": [
    "if not Path('./GoogleNews-vectors-negative300.bin.gz').exists():\n",
    "    !wget -P ./ \"https://s3.amazonaws.com/dl4j-distribution/GoogleNews-vectors-negative300.bin.gz\""
   ]
  },
  {
   "cell_type": "code",
   "execution_count": 4,
   "metadata": {},
   "outputs": [
    {
     "name": "stdout",
     "output_type": "stream",
     "text": [
      "Model loaded\n",
      "CPU times: user 48.9 s, sys: 5.92 s, total: 54.8 s\n",
      "Wall time: 1min 5s\n"
     ]
    }
   ],
   "source": [
    "%%time\n",
    "\n",
    "wv = gensim.models.KeyedVectors.load_word2vec_format(\"GoogleNews-vectors-negative300.bin.gz\", binary=True)\n",
    "wv.init_sims(replace=True)\n",
    "print('Model loaded')"
   ]
  },
  {
   "cell_type": "code",
   "execution_count": 5,
   "metadata": {},
   "outputs": [],
   "source": [
    "# averaging the word vectors per document\n",
    "\n",
    "def word_averaging(wv, words):\n",
    "    all_words, mean = set(), []\n",
    "    \n",
    "    # for each word in the list of words\n",
    "    for word in words:\n",
    "        # if the words are already vectors, then just append them\n",
    "        if isinstance(word, np.ndarray):\n",
    "            mean.append(word)\n",
    "        # if not: first get the vector embedding for the words\n",
    "        elif word in wv.vocab:\n",
    "            mean.append(wv.syn0norm[wv.vocab[word].index])\n",
    "            all_words.add(wv.vocab[word].index)\n",
    "\n",
    "    if not mean:\n",
    "        # error handling in case mean cannot be calculated\n",
    "        logging.warning(\"cannot compute similarity with no input %s\", words)\n",
    "        return np.zeros(wv.vector_size,)\n",
    "    \n",
    "    # use gensim's method to calculate the mean of all the words appended to mean list\n",
    "    mean = gensim.matutils.unitvec(np.array(mean).mean(axis=0)).astype(np.float32)\n",
    "    return mean\n",
    "\n",
    "def word_averaging_list(wv, text_list):\n",
    "    return np.vstack([word_averaging(wv, post) for post in text_list])"
   ]
  },
  {
   "cell_type": "markdown",
   "metadata": {},
   "source": [
    "## Tokenization "
   ]
  },
  {
   "cell_type": "code",
   "execution_count": 6,
   "metadata": {},
   "outputs": [],
   "source": [
    "def w2v_tokenize_text(text):\n",
    "    # create tokens, a list of words, for each post. This function will do some cleaning based on English language\n",
    "    tokens = []\n",
    "    for sent in sent_tokenize(text, language='english'):\n",
    "        for word in word_tokenize(sent, language='english'):\n",
    "            tokens.append(word)\n",
    "    return tokens\n",
    "\n",
    "tokenized = df.apply(lambda r: w2v_tokenize_text(r['Transcript']), axis=1).values"
   ]
  },
  {
   "cell_type": "markdown",
   "metadata": {},
   "source": [
    "## Split the dataset "
   ]
  },
  {
   "cell_type": "code",
   "execution_count": 7,
   "metadata": {},
   "outputs": [
    {
     "name": "stderr",
     "output_type": "stream",
     "text": [
      "/opt/conda/lib/python3.6/site-packages/ipykernel_launcher.py:13: DeprecationWarning: Call to deprecated `syn0norm` (Attribute will be removed in 4.0.0, use self.vectors_norm instead).\n",
      "  del sys.path[0]\n"
     ]
    }
   ],
   "source": [
    "X = word_averaging_list(wv, tokenized)\n",
    "y = df.PHQ_Binary.to_numpy()"
   ]
  },
  {
   "cell_type": "code",
   "execution_count": 8,
   "metadata": {},
   "outputs": [
    {
     "data": {
      "text/plain": [
       "((144, 300), (37, 300))"
      ]
     },
     "execution_count": 8,
     "metadata": {},
     "output_type": "execute_result"
    }
   ],
   "source": [
    "RANDOM_STATE = 42 # lucky number\n",
    "\n",
    "X_train_val, X_test, y_train_val, y_test = train_test_split(X, y, test_size=0.2, random_state=RANDOM_STATE)\n",
    "\n",
    "X_train_val.shape, X_test.shape"
   ]
  },
  {
   "cell_type": "markdown",
   "metadata": {},
   "source": [
    "### Undersampling\n",
    "We will be using undersampling techniques instead of oversampling because we are not sure of the newly generated data points."
   ]
  },
  {
   "cell_type": "code",
   "execution_count": 9,
   "metadata": {},
   "outputs": [],
   "source": [
    "# the ratio of minority class to majority class will be 1 after resampling\n",
    "us = RandomUnderSampler(sampling_strategy=1, random_state=RANDOM_STATE)\n",
    "\n",
    "X_train_val, y_train_val = us.fit_sample(X_train_val, y_train_val)"
   ]
  },
  {
   "cell_type": "markdown",
   "metadata": {},
   "source": [
    "# More preprocessing"
   ]
  },
  {
   "cell_type": "markdown",
   "metadata": {},
   "source": [
    "## Evaluation metrics\n",
    "Some considerations in evaluation metrics when deciding our model.\n",
    "1. In our use case, it is more important to have high sensitivity as want to correctly identify as many depression cases out of all actual depression cases for early intervention. Predicting a non-depressed person as depressed is comparatively less severe, meaning we prioritize TPR (sensitivity) over FPR.\n",
    "2. Hence we will focus on `f1 score` and `recall` for the positive class.\n",
    "\n",
    "Note:\n",
    "* Sensitivity = true positive rate = recall = TP / (TP + FN)\n",
    "* Specificity = true negative rate = TN / (TN + FP)\n",
    "* Fall out = false positive rate = FP / (FP + TN)\n",
    "* Miss rate = false negative rate = FN / (FN + TP)\n",
    "\n",
    "Metrics can be found on this [website](https://scikit-learn.org/stable/modules/model_evaluation.html)."
   ]
  },
  {
   "cell_type": "code",
   "execution_count": 10,
   "metadata": {},
   "outputs": [],
   "source": [
    "def evaluate_on_training_set(y_test, y_pred):\n",
    "    print(y_pred)\n",
    "    print(y_test)\n",
    "    \n",
    "    # Calculate AUC\n",
    "    print(\"AUC is: \", roc_auc_score(y_test, y_pred))\n",
    "\n",
    "    # print out recall and precision\n",
    "    print(classification_report(y_test, y_pred))\n",
    "\n",
    "    # print out confusion matrix\n",
    "    print(\"Confusion Matrix: \\n\", confusion_matrix(y_test, y_pred))\n",
    "\n",
    "    # # calculate points for ROC curve\n",
    "    fpr, tpr, thresholds = roc_curve(y_test, y_pred)\n",
    "\n",
    "    # Plot ROC curve\n",
    "    plt.plot(fpr, tpr, label='ROC curve (area = %0.3f)' % roc_auc_score(y_test, y_pred))\n",
    "    plt.plot([0, 1], [0, 1], 'k--')\n",
    "    plt.ylim([0.0, 1.0])\n",
    "    plt.xlabel('False Positive Rate')\n",
    "    plt.ylabel('True Positive Rate')\n",
    "    plt.title('Receiver Operating Characteristic')"
   ]
  },
  {
   "cell_type": "markdown",
   "metadata": {},
   "source": [
    "## k cross "
   ]
  },
  {
   "cell_type": "code",
   "execution_count": 11,
   "metadata": {},
   "outputs": [],
   "source": [
    "def k_cross(model, X=X_train_val, y=y_train_val, k=10, n=1, random_state=RANDOM_STATE):\n",
    "    f1_scores = []\n",
    "    recall_scores = []\n",
    "    rkf = RepeatedKFold(n_splits=k, n_repeats=n, random_state=RANDOM_STATE)\n",
    "    for train_index, val_index in rkf.split(X):\n",
    "        X_train, X_val = X[train_index], X[val_index]\n",
    "        y_train, y_val = y[train_index], y[val_index]\n",
    "        \n",
    "        model.fit(X_train, y_train) \n",
    "        \n",
    "        y_pred = model.predict(X_val)\n",
    "        f1 = f1_score(y_val, y_pred)\n",
    "        f1_scores.append(f1)\n",
    "        recall = recall_score(y_val, y_pred)\n",
    "        recall_scores.append(recall)\n",
    "        \n",
    "    return f1_scores, recall_scores"
   ]
  },
  {
   "cell_type": "markdown",
   "metadata": {},
   "source": [
    "## Evaluate model"
   ]
  },
  {
   "cell_type": "code",
   "execution_count": 12,
   "metadata": {},
   "outputs": [],
   "source": [
    "def evaluate_model(model):\n",
    "    model.fit(X_train_val, y_train_val)\n",
    "    y_pred = model.predict(X_test)\n",
    "    evaluate_on_training_set(y_test, y_pred)\n",
    "    \n",
    "    return model"
   ]
  },
  {
   "cell_type": "markdown",
   "metadata": {},
   "source": [
    "# Model Implementation"
   ]
  },
  {
   "cell_type": "markdown",
   "metadata": {},
   "source": [
    "## Logistic Regression "
   ]
  },
  {
   "cell_type": "code",
   "execution_count": 13,
   "metadata": {},
   "outputs": [
    {
     "name": "stdout",
     "output_type": "stream",
     "text": [
      "power: 0: f1 = 0.33069264069264065 > best f1 = -1\n",
      "power: 0: recall = 0.62 > best recall = -1\n",
      "power: 1: f1 = 0.500981240981241 > best f1 = 0.33069264069264065\n",
      "power: 1: recall = 0.63 > best recall = 0.62\n",
      "power: 2: f1 = 0.5839177489177488 > best f1 = 0.500981240981241\n",
      "power: 2: recall = 0.6716666666666666 > best recall = 0.63\n",
      "power: 3: f1 = 0.5911796536796536 > best f1 = 0.5839177489177488\n",
      "power: 3: recall = 0.6841666666666667 > best recall = 0.6716666666666666\n"
     ]
    }
   ],
   "source": [
    "def find_best_logreg_model(power):\n",
    "    best_f1_model = None\n",
    "    best_recall_model = None\n",
    "    best_f1 = -1\n",
    "    best_recall = -1\n",
    "    \n",
    "    for i in range(power + 1):\n",
    "        model = LogisticRegression(n_jobs=3, C=10**i)\n",
    "        \n",
    "        f1_scores, recall_scores = k_cross(model)\n",
    "        f1 = np.mean(f1_scores)\n",
    "        recall = np.mean(recall_scores)\n",
    "\n",
    "        if f1 > best_f1:\n",
    "            print(f\"power: {i}: f1 = {f1} > best f1 = {best_f1}\")\n",
    "            best_f1 = f1\n",
    "            best_f1_model = model\n",
    "\n",
    "        if recall > best_recall:\n",
    "            print(f\"power: {i}: recall = {recall} > best recall = {best_recall}\")\n",
    "            best_recall = recall\n",
    "            best_recall_model = model\n",
    "    \n",
    "    return best_f1_model, best_recall_model\n",
    "\n",
    "best_logreg_f1_model, best_logreg_recall_model = find_best_logreg_model(6)"
   ]
  },
  {
   "cell_type": "code",
   "execution_count": 14,
   "metadata": {},
   "outputs": [
    {
     "name": "stdout",
     "output_type": "stream",
     "text": [
      "[1 0 1 1 0 0 0 0 0 1 1 1 0 1 1 1 1 0 0 1 1 1 0 0 1 0 0 0 0 0 1 1 1 0 1 0 1]\n",
      "[1 0 0 1 0 0 0 0 0 0 0 0 0 0 1 0 1 0 0 0 0 0 0 1 1 0 0 0 0 0 1 1 1 1 1 0 0]\n",
      "AUC is:  0.7167832167832169\n",
      "              precision    recall  f1-score   support\n",
      "\n",
      "           0       0.89      0.62      0.73        26\n",
      "           1       0.47      0.82      0.60        11\n",
      "\n",
      "    accuracy                           0.68        37\n",
      "   macro avg       0.68      0.72      0.66        37\n",
      "weighted avg       0.77      0.68      0.69        37\n",
      "\n",
      "Confusion Matrix: \n",
      " [[16 10]\n",
      " [ 2  9]]\n"
     ]
    },
    {
     "data": {
      "text/plain": [
       "LogisticRegression(C=1000, n_jobs=3)"
      ]
     },
     "execution_count": 14,
     "metadata": {},
     "output_type": "execute_result"
    },
    {
     "data": {
      "image/png": "[encoded data removed]",
      "text/plain": [
       "<Figure size 432x288 with 1 Axes>"
      ]
     },
     "metadata": {
      "needs_background": "light"
     },
     "output_type": "display_data"
    }
   ],
   "source": [
    "# Based on f1\n",
    "evaluate_model(best_logreg_f1_model)"
   ]
  },
  {
   "cell_type": "code",
   "execution_count": 15,
   "metadata": {},
   "outputs": [
    {
     "name": "stdout",
     "output_type": "stream",
     "text": [
      "[1 0 1 1 0 0 0 0 0 1 1 1 0 1 1 1 1 0 0 1 1 1 0 0 1 0 0 0 0 0 1 1 1 0 1 0 1]\n",
      "[1 0 0 1 0 0 0 0 0 0 0 0 0 0 1 0 1 0 0 0 0 0 0 1 1 0 0 0 0 0 1 1 1 1 1 0 0]\n",
      "AUC is:  0.7167832167832169\n",
      "              precision    recall  f1-score   support\n",
      "\n",
      "           0       0.89      0.62      0.73        26\n",
      "           1       0.47      0.82      0.60        11\n",
      "\n",
      "    accuracy                           0.68        37\n",
      "   macro avg       0.68      0.72      0.66        37\n",
      "weighted avg       0.77      0.68      0.69        37\n",
      "\n",
      "Confusion Matrix: \n",
      " [[16 10]\n",
      " [ 2  9]]\n"
     ]
    },
    {
     "data": {
      "text/plain": [
       "LogisticRegression(C=1000, n_jobs=3)"
      ]
     },
     "execution_count": 15,
     "metadata": {},
     "output_type": "execute_result"
    },
    {
     "data": {
      "image/png": "[encoded data removed]",
      "text/plain": [
       "<Figure size 432x288 with 1 Axes>"
      ]
     },
     "metadata": {
      "needs_background": "light"
     },
     "output_type": "display_data"
    }
   ],
   "source": [
    "# Based on recall\n",
    "evaluate_model(best_logreg_recall_model)"
   ]
  },
  {
   "cell_type": "markdown",
   "metadata": {},
   "source": [
    "## Decision Tree"
   ]
  },
  {
   "cell_type": "code",
   "execution_count": 16,
   "metadata": {},
   "outputs": [
    {
     "name": "stdout",
     "output_type": "stream",
     "text": [
      "depth: 1, leaf: 1: f1 = 0.2972438672438672 > best f1 = -1\n",
      "depth: 1, leaf: 1: recall = 0.28500000000000003 > best recall = -1\n",
      "depth: 1, leaf: 21: f1 = 0.3143867243867243 > best f1 = 0.2972438672438672\n",
      "depth: 1, leaf: 21: recall = 0.335 > best recall = 0.28500000000000003\n",
      "depth: 1, leaf: 24: f1 = 0.35883116883116883 > best f1 = 0.3143867243867243\n",
      "depth: 1, leaf: 24: recall = 0.3725 > best recall = 0.335\n",
      "depth: 1, leaf: 27: f1 = 0.38264069264069256 > best f1 = 0.35883116883116883\n",
      "depth: 1, leaf: 27: recall = 0.3975 > best recall = 0.3725\n",
      "depth: 1, leaf: 28: f1 = 0.40573593073593067 > best f1 = 0.38264069264069256\n",
      "depth: 1, leaf: 28: recall = 0.44750000000000006 > best recall = 0.3975\n",
      "depth: 2, leaf: 1: f1 = 0.5401587301587302 > best f1 = 0.40573593073593067\n",
      "depth: 2, leaf: 1: recall = 0.6233333333333333 > best recall = 0.44750000000000006\n",
      "depth: 2, leaf: 7: recall = 0.6358333333333334 > best recall = 0.6233333333333333\n",
      "depth: 2, leaf: 8: f1 = 0.5827167277167277 > best f1 = 0.5401587301587302\n",
      "depth: 2, leaf: 8: recall = 0.7233333333333334 > best recall = 0.6358333333333334\n",
      "depth: 2, leaf: 10: f1 = 0.5954440004440004 > best f1 = 0.5827167277167277\n",
      "depth: 2, leaf: 10: recall = 0.7483333333333333 > best recall = 0.7233333333333334\n",
      "depth: 2, leaf: 11: f1 = 0.6057004107004106 > best f1 = 0.5954440004440004\n",
      "depth: 2, leaf: 11: recall = 0.7608333333333334 > best recall = 0.7483333333333333\n",
      "depth: 2, leaf: 12: f1 = 0.627128982128982 > best f1 = 0.6057004107004106\n",
      "depth: 2, leaf: 12: recall = 0.8108333333333334 > best recall = 0.7608333333333334\n",
      "depth: 2, leaf: 13: f1 = 0.6315734265734265 > best f1 = 0.627128982128982\n",
      "depth: 2, leaf: 14: f1 = 0.6372877122877123 > best f1 = 0.6315734265734265\n",
      "depth: 2, leaf: 16: f1 = 0.6428432678432678 > best f1 = 0.6372877122877123\n"
     ]
    }
   ],
   "source": [
    "def find_best_tree_model(upper_depth, upper_leaf):\n",
    "    best_f1_model = None\n",
    "    best_recall_model = None\n",
    "    best_f1 = -1\n",
    "    best_recall = -1\n",
    "    \n",
    "    for depth in range(1, upper_depth + 1):\n",
    "        for leaf in range(1, upper_leaf + 1):\n",
    "            model = DecisionTreeClassifier(random_state=RANDOM_STATE, max_depth=depth, min_samples_leaf=leaf) \n",
    "            \n",
    "            f1_scores, recall_scores = k_cross(model)\n",
    "            f1 = np.mean(f1_scores)\n",
    "            recall = np.mean(recall_scores)\n",
    "            \n",
    "            if f1 > best_f1:\n",
    "                print(f\"depth: {depth}, leaf: {leaf}: f1 = {f1} > best f1 = {best_f1}\")\n",
    "                best_f1 = f1\n",
    "                best_f1_model = model\n",
    "                \n",
    "            if recall > best_recall:\n",
    "                print(f\"depth: {depth}, leaf: {leaf}: recall = {recall} > best recall = {best_recall}\")\n",
    "                best_recall = recall\n",
    "                best_recall_model = model\n",
    "    \n",
    "    return best_f1_model, best_recall_model\n",
    "\n",
    "best_tree_f1_model, best_tree_recall_model = find_best_tree_model(20, 30)"
   ]
  },
  {
   "cell_type": "code",
   "execution_count": 17,
   "metadata": {},
   "outputs": [
    {
     "name": "stdout",
     "output_type": "stream",
     "text": [
      "[0 1 0 0 1 1 0 1 1 0 0 1 0 0 1 0 1 0 0 1 1 0 0 1 1 1 0 1 1 1 1 0 1 1 1 0 1]\n",
      "[1 0 0 1 0 0 0 0 0 0 0 0 0 0 1 0 1 0 0 0 0 0 0 1 1 0 0 0 0 0 1 1 1 1 1 0 0]\n",
      "AUC is:  0.6136363636363636\n",
      "              precision    recall  f1-score   support\n",
      "\n",
      "           0       0.81      0.50      0.62        26\n",
      "           1       0.38      0.73      0.50        11\n",
      "\n",
      "    accuracy                           0.57        37\n",
      "   macro avg       0.60      0.61      0.56        37\n",
      "weighted avg       0.68      0.57      0.58        37\n",
      "\n",
      "Confusion Matrix: \n",
      " [[13 13]\n",
      " [ 3  8]]\n"
     ]
    },
    {
     "data": {
      "text/plain": [
       "DecisionTreeClassifier(max_depth=2, min_samples_leaf=16, random_state=42)"
      ]
     },
     "execution_count": 17,
     "metadata": {},
     "output_type": "execute_result"
    },
    {
     "data": {
      "image/png": "[encoded data removed]",
      "text/plain": [
       "<Figure size 432x288 with 1 Axes>"
      ]
     },
     "metadata": {
      "needs_background": "light"
     },
     "output_type": "display_data"
    }
   ],
   "source": [
    "# Based on f1\n",
    "evaluate_model(best_tree_f1_model)"
   ]
  },
  {
   "cell_type": "code",
   "execution_count": 18,
   "metadata": {},
   "outputs": [
    {
     "name": "stdout",
     "output_type": "stream",
     "text": [
      "[0 1 0 0 0 1 0 1 0 1 0 1 0 0 1 0 1 0 0 1 1 1 0 1 1 1 0 0 0 1 1 0 1 1 1 0 1]\n",
      "[1 0 0 1 0 0 0 0 0 0 0 0 0 0 1 0 1 0 0 0 0 0 0 1 1 0 0 0 0 0 1 1 1 1 1 0 0]\n",
      "AUC is:  0.6520979020979021\n",
      "              precision    recall  f1-score   support\n",
      "\n",
      "           0       0.83      0.58      0.68        26\n",
      "           1       0.42      0.73      0.53        11\n",
      "\n",
      "    accuracy                           0.62        37\n",
      "   macro avg       0.63      0.65      0.61        37\n",
      "weighted avg       0.71      0.62      0.64        37\n",
      "\n",
      "Confusion Matrix: \n",
      " [[15 11]\n",
      " [ 3  8]]\n"
     ]
    },
    {
     "data": {
      "text/plain": [
       "DecisionTreeClassifier(max_depth=2, min_samples_leaf=12, random_state=42)"
      ]
     },
     "execution_count": 18,
     "metadata": {},
     "output_type": "execute_result"
    },
    {
     "data": {
      "image/png": "[encoded data removed]",
      "text/plain": [
       "<Figure size 432x288 with 1 Axes>"
      ]
     },
     "metadata": {
      "needs_background": "light"
     },
     "output_type": "display_data"
    }
   ],
   "source": [
    "# Based on recall\n",
    "evaluate_model(best_tree_recall_model)"
   ]
  },
  {
   "cell_type": "markdown",
   "metadata": {},
   "source": [
    "## Random Forest"
   ]
  },
  {
   "cell_type": "code",
   "execution_count": 19,
   "metadata": {},
   "outputs": [
    {
     "name": "stdout",
     "output_type": "stream",
     "text": [
      "estimator: 1: f1 = 0.5194444444444444 > best f1 = -1\n",
      "estimator: 1: recall = 0.5316666666666666 > best recall = -1\n",
      "estimator: 5: recall = 0.6058333333333333 > best recall = 0.5316666666666666\n",
      "estimator: 9: recall = 0.6233333333333333 > best recall = 0.6058333333333333\n",
      "estimator: 19: f1 = 0.5233122433122432 > best f1 = 0.5194444444444444\n",
      "estimator: 21: f1 = 0.5738494838494839 > best f1 = 0.5233122433122432\n",
      "estimator: 21: recall = 0.7058333333333333 > best recall = 0.6233333333333333\n",
      "estimator: 25: f1 = 0.575992340992341 > best f1 = 0.5738494838494839\n",
      "estimator: 27: f1 = 0.582052947052947 > best f1 = 0.575992340992341\n",
      "estimator: 29: f1 = 0.6058624708624708 > best f1 = 0.582052947052947\n",
      "estimator: 29: recall = 0.7474999999999999 > best recall = 0.7058333333333333\n"
     ]
    }
   ],
   "source": [
    "def find_best_forest_model(n_estimators):\n",
    "    best_f1_model = None\n",
    "    best_recall_model = None\n",
    "    best_f1 = -1\n",
    "    best_recall = -1\n",
    "    \n",
    "    for estimator in range(1, n_estimators + 1):\n",
    "        model = RandomForestClassifier(random_state=RANDOM_STATE, n_estimators=estimator) \n",
    "        \n",
    "        f1_scores, recall_scores = k_cross(model)\n",
    "        f1 = np.mean(f1_scores)\n",
    "        recall = np.mean(recall_scores)\n",
    "\n",
    "        if f1 > best_f1:\n",
    "            print(f\"estimator: {estimator}: f1 = {f1} > best f1 = {best_f1}\")\n",
    "            best_f1 = f1\n",
    "            best_f1_model = model\n",
    "\n",
    "        if recall > best_recall:\n",
    "            print(f\"estimator: {estimator}: recall = {recall} > best recall = {best_recall}\")\n",
    "            best_recall = recall\n",
    "            best_recall_model = model\n",
    "    \n",
    "    return best_f1_model, best_recall_model\n",
    "\n",
    "best_forest_f1_model, best_forest_recall_model = find_best_forest_model(30)"
   ]
  },
  {
   "cell_type": "code",
   "execution_count": 20,
   "metadata": {},
   "outputs": [
    {
     "name": "stdout",
     "output_type": "stream",
     "text": [
      "[0 0 0 0 0 0 0 0 1 0 1 1 0 1 0 1 1 0 1 1 1 1 0 0 1 1 0 0 0 0 1 1 1 1 1 0 1]\n",
      "[1 0 0 1 0 0 0 0 0 0 0 0 0 0 1 0 1 0 0 0 0 0 0 1 1 0 0 0 0 0 1 1 1 1 1 0 0]\n",
      "AUC is:  0.6066433566433566\n",
      "              precision    recall  f1-score   support\n",
      "\n",
      "           0       0.79      0.58      0.67        26\n",
      "           1       0.39      0.64      0.48        11\n",
      "\n",
      "    accuracy                           0.59        37\n",
      "   macro avg       0.59      0.61      0.57        37\n",
      "weighted avg       0.67      0.59      0.61        37\n",
      "\n",
      "Confusion Matrix: \n",
      " [[15 11]\n",
      " [ 4  7]]\n"
     ]
    },
    {
     "data": {
      "text/plain": [
       "RandomForestClassifier(n_estimators=29, random_state=42)"
      ]
     },
     "execution_count": 20,
     "metadata": {},
     "output_type": "execute_result"
    },
    {
     "data": {
      "image/png": "[encoded data removed]",
      "text/plain": [
       "<Figure size 432x288 with 1 Axes>"
      ]
     },
     "metadata": {
      "needs_background": "light"
     },
     "output_type": "display_data"
    }
   ],
   "source": [
    "# Based on f1\n",
    "evaluate_model(best_forest_f1_model)"
   ]
  },
  {
   "cell_type": "code",
   "execution_count": 21,
   "metadata": {},
   "outputs": [
    {
     "name": "stdout",
     "output_type": "stream",
     "text": [
      "[0 0 0 0 0 0 0 0 1 0 1 1 0 1 0 1 1 0 1 1 1 1 0 0 1 1 0 0 0 0 1 1 1 1 1 0 1]\n",
      "[1 0 0 1 0 0 0 0 0 0 0 0 0 0 1 0 1 0 0 0 0 0 0 1 1 0 0 0 0 0 1 1 1 1 1 0 0]\n",
      "AUC is:  0.6066433566433566\n",
      "              precision    recall  f1-score   support\n",
      "\n",
      "           0       0.79      0.58      0.67        26\n",
      "           1       0.39      0.64      0.48        11\n",
      "\n",
      "    accuracy                           0.59        37\n",
      "   macro avg       0.59      0.61      0.57        37\n",
      "weighted avg       0.67      0.59      0.61        37\n",
      "\n",
      "Confusion Matrix: \n",
      " [[15 11]\n",
      " [ 4  7]]\n"
     ]
    },
    {
     "data": {
      "text/plain": [
       "RandomForestClassifier(n_estimators=29, random_state=42)"
      ]
     },
     "execution_count": 21,
     "metadata": {},
     "output_type": "execute_result"
    },
    {
     "data": {
      "image/png": "[encoded data removed]",
      "text/plain": [
       "<Figure size 432x288 with 1 Axes>"
      ]
     },
     "metadata": {
      "needs_background": "light"
     },
     "output_type": "display_data"
    }
   ],
   "source": [
    "# Based on recall\n",
    "evaluate_model(best_forest_recall_model)"
   ]
  },
  {
   "cell_type": "markdown",
   "metadata": {},
   "source": [
    "## SVM with grid search"
   ]
  },
  {
   "cell_type": "code",
   "execution_count": 22,
   "metadata": {},
   "outputs": [
    {
     "name": "stdout",
     "output_type": "stream",
     "text": [
      "Fitting 10 folds for each of 18 candidates, totalling 180 fits\n"
     ]
    },
    {
     "name": "stderr",
     "output_type": "stream",
     "text": [
      "[Parallel(n_jobs=4)]: Using backend LokyBackend with 4 concurrent workers.\n",
      "[Parallel(n_jobs=4)]: Done 123 tasks      | elapsed:    0.6s\n"
     ]
    },
    {
     "name": "stdout",
     "output_type": "stream",
     "text": [
      "[0 1 1 1 0 0 0 0 1 1 1 1 1 1 1 1 1 0 0 0 1 1 0 0 1 1 0 0 0 0 1 0 1 0 1 0 1]\n",
      "[1 0 0 1 0 0 0 0 0 0 0 0 0 0 1 0 1 0 0 0 0 0 0 1 1 0 0 0 0 0 1 1 1 1 1 0 0]\n",
      "AUC is:  0.5681818181818181\n",
      "              precision    recall  f1-score   support\n",
      "\n",
      "           0       0.76      0.50      0.60        26\n",
      "           1       0.35      0.64      0.45        11\n",
      "\n",
      "    accuracy                           0.54        37\n",
      "   macro avg       0.56      0.57      0.53        37\n",
      "weighted avg       0.64      0.54      0.56        37\n",
      "\n",
      "Confusion Matrix: \n",
      " [[13 13]\n",
      " [ 4  7]]\n",
      "Best SVM parameters: {'C': 10, 'degree': 4, 'kernel': 'poly'}\n"
     ]
    },
    {
     "name": "stderr",
     "output_type": "stream",
     "text": [
      "[Parallel(n_jobs=4)]: Done 180 out of 180 | elapsed:    0.8s finished\n"
     ]
    },
    {
     "data": {
      "image/png": "[encoded data removed]",
      "text/plain": [
       "<Figure size 432x288 with 1 Axes>"
      ]
     },
     "metadata": {
      "needs_background": "light"
     },
     "output_type": "display_data"
    }
   ],
   "source": [
    "tuned_parameters = [{'kernel': ['rbf'], 'gamma': [1e-3, 1e-4], 'C': [1, 10, 100]},\n",
    "                    {'kernel': ['poly'], 'degree': [3, 4, 5], 'C': [1, 10, 100]},\n",
    "                    {'kernel': ['linear'], 'C': [1, 10, 100]}]\n",
    "\n",
    "svm_model_cv = GridSearchCV(SVC(), tuned_parameters, cv=10, scoring='f1', verbose=1, n_jobs=4)\n",
    "\n",
    "best_svm_model = evaluate_model(svm_model_cv)\n",
    "print(f\"Best SVM parameters: {best_svm_model.best_params_}\")"
   ]
  }
 ],
 "metadata": {
  "kernelspec": {
   "display_name": "Python 3",
   "language": "python",
   "name": "python3"
  },
  "language_info": {
   "codemirror_mode": {
    "name": "ipython",
    "version": 3
   },
   "file_extension": ".py",
   "mimetype": "text/x-python",
   "name": "python",
   "nbconvert_exporter": "python",
   "pygments_lexer": "ipython3",
   "version": "3.6.10"
  }
 },
 "nbformat": 4,
 "nbformat_minor": 4
}
