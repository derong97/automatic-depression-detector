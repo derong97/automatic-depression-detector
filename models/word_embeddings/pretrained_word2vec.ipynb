{
 "cells": [
  {
   "cell_type": "markdown",
   "metadata": {},
   "source": [
    "# Import necessary modules"
   ]
  },
  {
   "cell_type": "code",
   "execution_count": 1,
   "metadata": {},
   "outputs": [
    {
     "name": "stdout",
     "output_type": "stream",
     "text": [
      "Requirement already up-to-date: imbalanced-learn in /opt/conda/lib/python3.6/site-packages (0.7.0)\n",
      "Requirement already satisfied, skipping upgrade: joblib>=0.11 in /opt/conda/lib/python3.6/site-packages (from imbalanced-learn) (0.15.1)\n",
      "Requirement already satisfied, skipping upgrade: numpy>=1.13.3 in /opt/conda/lib/python3.6/site-packages (from imbalanced-learn) (1.18.5)\n",
      "Requirement already satisfied, skipping upgrade: scipy>=0.19.1 in /opt/conda/lib/python3.6/site-packages (from imbalanced-learn) (1.4.1)\n",
      "Requirement already satisfied, skipping upgrade: scikit-learn>=0.23 in /opt/conda/lib/python3.6/site-packages (from imbalanced-learn) (0.23.1)\n",
      "Requirement already satisfied, skipping upgrade: threadpoolctl>=2.0.0 in /opt/conda/lib/python3.6/site-packages (from scikit-learn>=0.23->imbalanced-learn) (2.1.0)\n",
      "Requirement already satisfied: gensim in /opt/conda/lib/python3.6/site-packages (3.8.3)\n",
      "Requirement already satisfied: smart-open>=1.8.1 in /opt/conda/lib/python3.6/site-packages (from gensim) (3.0.0)\n",
      "Requirement already satisfied: six>=1.5.0 in /opt/conda/lib/python3.6/site-packages (from gensim) (1.15.0)\n",
      "Requirement already satisfied: numpy>=1.11.3 in /opt/conda/lib/python3.6/site-packages (from gensim) (1.18.5)\n",
      "Requirement already satisfied: scipy>=0.18.1 in /opt/conda/lib/python3.6/site-packages (from gensim) (1.4.1)\n",
      "Requirement already satisfied: requests in /opt/conda/lib/python3.6/site-packages (from smart-open>=1.8.1->gensim) (2.23.0)\n",
      "Requirement already satisfied: certifi>=2017.4.17 in /opt/conda/lib/python3.6/site-packages (from requests->smart-open>=1.8.1->gensim) (2020.4.5.2)\n",
      "Requirement already satisfied: urllib3!=1.25.0,!=1.25.1,<1.26,>=1.21.1 in /opt/conda/lib/python3.6/site-packages (from requests->smart-open>=1.8.1->gensim) (1.25.9)\n",
      "Requirement already satisfied: idna<3,>=2.5 in /opt/conda/lib/python3.6/site-packages (from requests->smart-open>=1.8.1->gensim) (2.9)\n",
      "Requirement already satisfied: chardet<4,>=3.0.2 in /opt/conda/lib/python3.6/site-packages (from requests->smart-open>=1.8.1->gensim) (3.0.4)\n"
     ]
    },
    {
     "name": "stderr",
     "output_type": "stream",
     "text": [
      "Using TensorFlow backend.\n"
     ]
    }
   ],
   "source": [
    "!pip install -U imbalanced-learn\n",
    "!pip install gensim\n",
    "\n",
    "# Standard libraries\n",
    "import pandas as pd\n",
    "import numpy as np\n",
    "import matplotlib.pyplot as plt\n",
    "from pathlib import Path\n",
    "\n",
    "# Processing\n",
    "from sklearn.model_selection import train_test_split\n",
    "from keras.preprocessing.text import Tokenizer\n",
    "from keras.preprocessing import sequence\n",
    "from imblearn.under_sampling import RandomUnderSampler\n",
    "\n",
    "# gensim\n",
    "import gensim\n",
    "from gensim.models import Word2Vec\n",
    "\n",
    "# nltk\n",
    "from nltk import sent_tokenize, word_tokenize\n",
    "\n",
    "# Metrics\n",
    "from sklearn.preprocessing import MinMaxScaler\n",
    "from sklearn.metrics import classification_report, confusion_matrix, roc_curve, roc_auc_score, \\\n",
    "        f1_score, precision_score, recall_score\n",
    "\n",
    "# Classifiers\n",
    "from sklearn.tree import DecisionTreeClassifier\n",
    "from sklearn.ensemble import RandomForestClassifier\n",
    "from sklearn.svm import SVC\n",
    "from sklearn.model_selection import GridSearchCV\n",
    "\n",
    "# Neural networks\n",
    "from keras.models import Sequential, load_model\n",
    "from keras.layers import Dense, Flatten\n",
    "from keras.initializers import Constant\n",
    "from keras.callbacks import Callback, EarlyStopping, ModelCheckpoint\n",
    "from keras.utils import plot_model"
   ]
  },
  {
   "cell_type": "markdown",
   "metadata": {},
   "source": [
    "# Handle Imbalanced Dataset"
   ]
  },
  {
   "cell_type": "markdown",
   "metadata": {},
   "source": [
    "## Exploratory Data Analysis"
   ]
  },
  {
   "cell_type": "code",
   "execution_count": 2,
   "metadata": {},
   "outputs": [
    {
     "data": {
      "image/png": "[encoded data removed]",
      "text/plain": [
       "<Figure size 432x288 with 1 Axes>"
      ]
     },
     "metadata": {
      "needs_background": "light"
     },
     "output_type": "display_data"
    },
    {
     "name": "stdout",
     "output_type": "stream",
     "text": [
      "The ratio of negative to positive cases is 2.29.\n"
     ]
    }
   ],
   "source": [
    "df = pd.read_csv(\"../../data/clean_compiled_transcripts.csv\")\n",
    "\n",
    "count_classes = pd.value_counts(df.PHQ_Binary)\n",
    "count_classes.plot(kind = 'bar', rot=0)\n",
    "labels = [\"Non-depressed\", \"Depressed\"]\n",
    "\n",
    "plt.title(\"Depression Class Distribution\")\n",
    "plt.xticks(range(2), labels)\n",
    "plt.xlabel(\"Class\")\n",
    "plt.ylabel(\"Frequency\")\n",
    "plt.show()\n",
    "\n",
    "print(f\"The ratio of negative to positive cases is {round(count_classes[0] / count_classes[1], 2)}.\")"
   ]
  },
  {
   "cell_type": "markdown",
   "metadata": {},
   "source": [
    "Clearly, the dataset is highly imbalanced and is likely to result in poor performance. We should strive for 50:50 during training."
   ]
  },
  {
   "cell_type": "markdown",
   "metadata": {},
   "source": [
    "## Load pretrained vector embeddings"
   ]
  },
  {
   "cell_type": "code",
   "execution_count": 3,
   "metadata": {},
   "outputs": [
    {
     "name": "stdout",
     "output_type": "stream",
     "text": [
      "--2020-11-11 12:44:40--  https://s3.amazonaws.com/dl4j-distribution/GoogleNews-vectors-negative300.bin.gz\n",
      "Resolving s3.amazonaws.com (s3.amazonaws.com)... 52.216.106.238\n",
      "Connecting to s3.amazonaws.com (s3.amazonaws.com)|52.216.106.238|:443... connected.\n",
      "HTTP request sent, awaiting response... 200 OK\n",
      "Length: 1647046227 (1.5G) [application/x-gzip]\n",
      "Saving to: ‘./GoogleNews-vectors-negative300.bin.gz’\n",
      "\n",
      "GoogleNews-vectors- 100%[===================>]   1.53G  12.5MB/s    in 2m 24s  \n",
      "\n",
      "2020-11-11 12:47:05 (10.9 MB/s) - ‘./GoogleNews-vectors-negative300.bin.gz’ saved [1647046227/1647046227]\n",
      "\n"
     ]
    }
   ],
   "source": [
    "if not Path('./GoogleNews-vectors-negative300.bin.gz').exists():\n",
    "    !wget -P ./ \"https://s3.amazonaws.com/dl4j-distribution/GoogleNews-vectors-negative300.bin.gz\""
   ]
  },
  {
   "cell_type": "code",
   "execution_count": 4,
   "metadata": {},
   "outputs": [
    {
     "name": "stdout",
     "output_type": "stream",
     "text": [
      "Model loaded\n",
      "CPU times: user 49.1 s, sys: 5.19 s, total: 54.3 s\n",
      "Wall time: 56.4 s\n"
     ]
    }
   ],
   "source": [
    "%%time\n",
    "\n",
    "wv = gensim.models.KeyedVectors.load_word2vec_format(\"GoogleNews-vectors-negative300.bin.gz\", \n",
    "                                                     binary=True)\n",
    "wv.init_sims(replace=True)\n",
    "print('Model loaded')"
   ]
  },
  {
   "cell_type": "code",
   "execution_count": 5,
   "metadata": {},
   "outputs": [],
   "source": [
    "# averaging the word vectors per document\n",
    "\n",
    "def word_averaging(wv, words):\n",
    "    all_words, mean = set(), []\n",
    "    \n",
    "    # for each word in the list of words\n",
    "    for word in words:\n",
    "        # if the words are already vectors, then just append them\n",
    "        if isinstance(word, np.ndarray):\n",
    "            mean.append(word)\n",
    "        # if not: first get the vector embedding for the words\n",
    "        elif word in wv.vocab:\n",
    "            mean.append(wv.syn0norm[wv.vocab[word].index])\n",
    "            all_words.add(wv.vocab[word].index)\n",
    "\n",
    "    if not mean:\n",
    "        # error handling in case mean cannot be calculated\n",
    "        logging.warning(\"cannot compute similarity with no input %s\", words)\n",
    "        return np.zeros(wv.vector_size,)\n",
    "\n",
    "    # use gensim's method to calculate the mean of all the words appended to mean list\n",
    "    mean = gensim.matutils.unitvec(np.array(mean).mean(axis=0)).astype(np.float32)\n",
    "    return mean\n",
    "\n",
    "def word_averaging_list(wv, text_list):\n",
    "    return np.vstack([word_averaging(wv, post) for post in text_list ])"
   ]
  },
  {
   "cell_type": "markdown",
   "metadata": {},
   "source": [
    "## Tokenization "
   ]
  },
  {
   "cell_type": "code",
   "execution_count": 6,
   "metadata": {},
   "outputs": [],
   "source": [
    "def w2v_tokenize_text(text):\n",
    "    # create tokens, a list of words, for each post. This function will do some cleaning based on English language\n",
    "    tokens = []\n",
    "    for sent in sent_tokenize(text, language='english'):\n",
    "        for word in word_tokenize(sent, language='english'):\n",
    "            if len(word) < 2:\n",
    "                continue\n",
    "            tokens.append(word)\n",
    "    return tokens\n",
    "\n",
    "tokenized = df.apply(lambda r: w2v_tokenize_text(r['Transcript']), axis=1).values"
   ]
  },
  {
   "cell_type": "markdown",
   "metadata": {},
   "source": [
    "## Split the dataset "
   ]
  },
  {
   "cell_type": "code",
   "execution_count": 7,
   "metadata": {},
   "outputs": [
    {
     "name": "stderr",
     "output_type": "stream",
     "text": [
      "/opt/conda/lib/python3.6/site-packages/ipykernel_launcher.py:13: DeprecationWarning: Call to deprecated `syn0norm` (Attribute will be removed in 4.0.0, use self.vectors_norm instead).\n",
      "  del sys.path[0]\n"
     ]
    }
   ],
   "source": [
    "RANDOM_STATE = 42 # lucky number\n",
    "\n",
    "X = word_averaging_list(wv, tokenized)\n",
    "y = df.PHQ_Binary"
   ]
  },
  {
   "cell_type": "code",
   "execution_count": 8,
   "metadata": {},
   "outputs": [
    {
     "data": {
      "text/plain": [
       "((144, 300), (37, 300))"
      ]
     },
     "execution_count": 8,
     "metadata": {},
     "output_type": "execute_result"
    }
   ],
   "source": [
    "X_train_val, X_test, y_train_val, y_test = train_test_split(X, y, test_size=0.2, random_state=RANDOM_STATE)\n",
    "\n",
    "X_train_val.shape, X_test.shape"
   ]
  },
  {
   "cell_type": "markdown",
   "metadata": {},
   "source": [
    "### Undersampling\n",
    "We will be using undersampling techniques instead of oversampling because we are not sure of the newly generated data points."
   ]
  },
  {
   "cell_type": "code",
   "execution_count": 9,
   "metadata": {},
   "outputs": [
    {
     "data": {
      "text/plain": [
       "((70, 300), (18, 300), (70,), (18,))"
      ]
     },
     "execution_count": 9,
     "metadata": {},
     "output_type": "execute_result"
    }
   ],
   "source": [
    "# the ratio of minority class to majority class will be 1 after resampling\n",
    "us = RandomUnderSampler(sampling_strategy=1, random_state=RANDOM_STATE)\n",
    "\n",
    "X_train_val, y_train_val = us.fit_sample(X_train_val, y_train_val)\n",
    "\n",
    "X_train, X_val, y_train, y_val = train_test_split(X_train_val, y_train_val, test_size=0.2, random_state=RANDOM_STATE)\n",
    "\n",
    "X_train.shape, X_val.shape, y_train.shape, y_val.shape"
   ]
  },
  {
   "cell_type": "markdown",
   "metadata": {},
   "source": [
    "Now we have `X_train`, `X_val`, `X_test`, `y_train`, `y_val`, `y_test` ready to be used for model training, validation and testing. If we are using k-fold cross-validation techniques, we can use `X_train_val`, `y_train_val`."
   ]
  },
  {
   "cell_type": "markdown",
   "metadata": {},
   "source": [
    "# More preprocessing"
   ]
  },
  {
   "cell_type": "markdown",
   "metadata": {},
   "source": [
    "## Evaluation metrics\n",
    "Some considerations in evaluation metrics when deciding our model.\n",
    "1. In our use case, it is more important to have high sensitivity as want to correctly identify as many depression cases out of all actual depression cases for early intervention. Predicting a non-depressed person as depressed is comparatively less severe, meaning we prioritize TPR (sensitivity) over FPR.\n",
    "2. We will use `f1_score` (default: returns the score for positive class in the `binary` case) to prioritize the prediction for the positive class. Because we have evenly distributed the train set, using `macro` or `weighted` puts equal weight on both classes and removes the priority that we want.\n",
    "\n",
    "Note:\n",
    "* Sensitivity = true positive rate = recall = TP / (TP + FN)\n",
    "* Specificity = true negative rate = TN / (TN + FP)\n",
    "* Fall out = false positive rate = FP / (FP + TN)\n",
    "* Miss rate = false negative rate = FN / (FN + TP)\n",
    "\n",
    "Metrics can be found on this [website](https://scikit-learn.org/stable/modules/model_evaluation.html)."
   ]
  },
  {
   "cell_type": "code",
   "execution_count": 10,
   "metadata": {},
   "outputs": [],
   "source": [
    "def evaluate_on_training_set(y_test, y_pred):\n",
    "    # Calculate AUC\n",
    "    print(\"AUC is: \", roc_auc_score(y_test, y_pred))\n",
    "\n",
    "    # print out recall and precision\n",
    "    print(classification_report(y_test, y_pred))\n",
    "\n",
    "    # print out confusion matrix\n",
    "    print(\"Confusion Matrix: \\n\", confusion_matrix(y_test, y_pred))\n",
    "\n",
    "    # # calculate points for ROC curve\n",
    "    fpr, tpr, thresholds = roc_curve(y_test, y_pred)\n",
    "\n",
    "    # Plot ROC curve\n",
    "    plt.plot(fpr, tpr, label='ROC curve (area = %0.3f)' % roc_auc_score(y_test, y_pred))\n",
    "    plt.plot([0, 1], [0, 1], 'k--')\n",
    "    plt.ylim([0.0, 1.0])\n",
    "    plt.xlabel('False Positive Rate')\n",
    "    plt.ylabel('True Positive Rate')\n",
    "    plt.title('Receiver Operating Characteristic')"
   ]
  },
  {
   "cell_type": "markdown",
   "metadata": {},
   "source": [
    "## Run model"
   ]
  },
  {
   "cell_type": "code",
   "execution_count": 11,
   "metadata": {},
   "outputs": [],
   "source": [
    "def run_model(model):\n",
    "    model.fit(X_train, y_train)\n",
    "    y_pred = model.predict(X_test)\n",
    "    evaluate_on_training_set(y_test, y_pred)\n",
    "    \n",
    "    return model"
   ]
  },
  {
   "cell_type": "code",
   "execution_count": 12,
   "metadata": {},
   "outputs": [],
   "source": [
    "class Metrics(Callback):\n",
    "\n",
    "    def on_train_begin(self, logs={}):\n",
    "        self.val_f1s = []\n",
    "        self.val_recalls = []\n",
    "        self.val_precisions = []\n",
    "\n",
    "    def on_epoch_end(self, epoch, logs={}):\n",
    "        val_predict = (np.asarray(self.model.predict(self.validation_data[0]))).round()\n",
    "        val_targ = self.validation_data[1]\n",
    "        _val_f1 = f1_score(val_targ, val_predict)\n",
    "        _val_recall = recall_score(val_targ, val_predict)\n",
    "        _val_precision = precision_score(val_targ, val_predict)\n",
    "        self.val_f1s.append(_val_f1)\n",
    "        self.val_recalls.append(_val_recall)\n",
    "        self.val_precisions.append(_val_precision)\n",
    "        print(f\" — val_f1: {_val_f1} — val_precision: {_val_precision} — val_recall: {_val_recall}\")\n",
    "        return\n",
    "\n",
    "metrics = Metrics()"
   ]
  },
  {
   "cell_type": "code",
   "execution_count": 13,
   "metadata": {},
   "outputs": [],
   "source": [
    "def train_NN(model, model_name):\n",
    "    es = EarlyStopping(monitor='val_loss', mode='min', patience=10)\n",
    "\n",
    "    model.compile(loss='binary_crossentropy', optimizer='adam', metrics=['accuracy'])\n",
    "    checkpoint_filepath = f'{model_name}.h5'\n",
    "\n",
    "    checkpoint = ModelCheckpoint(filepath=checkpoint_filepath, monitor='val_loss', mode='min', save_best_only=True)\n",
    "\n",
    "    model.fit(X_train, y_train, batch_size=32, epochs=50, validation_data=(X_val, y_val), callbacks=[es, checkpoint, metrics])\n",
    "    loss, acc = model.evaluate(X_test, y_test)\n",
    "\n",
    "    model = load_model(checkpoint_filepath)\n",
    "\n",
    "    print('Test loss:', loss)\n",
    "    print('Test accuracy:', acc)\n",
    "    \n",
    "    return model"
   ]
  },
  {
   "cell_type": "markdown",
   "metadata": {},
   "source": [
    "# Model Implementation"
   ]
  },
  {
   "cell_type": "markdown",
   "metadata": {},
   "source": [
    "## Decision Tree"
   ]
  },
  {
   "cell_type": "code",
   "execution_count": 14,
   "metadata": {},
   "outputs": [
    {
     "name": "stdout",
     "output_type": "stream",
     "text": [
      "AUC is:  0.4965034965034965\n",
      "              precision    recall  f1-score   support\n",
      "\n",
      "           0       0.70      0.54      0.61        26\n",
      "           1       0.29      0.45      0.36        11\n",
      "\n",
      "    accuracy                           0.51        37\n",
      "   macro avg       0.50      0.50      0.48        37\n",
      "weighted avg       0.58      0.51      0.53        37\n",
      "\n",
      "Confusion Matrix: \n",
      " [[14 12]\n",
      " [ 6  5]]\n"
     ]
    },
    {
     "data": {
      "text/plain": [
       "DecisionTreeClassifier(max_depth=3, min_samples_leaf=5, random_state=42)"
      ]
     },
     "execution_count": 14,
     "metadata": {},
     "output_type": "execute_result"
    },
    {
     "data": {
      "image/png": "[encoded data removed]",
      "text/plain": [
       "<Figure size 432x288 with 1 Axes>"
      ]
     },
     "metadata": {
      "needs_background": "light"
     },
     "output_type": "display_data"
    }
   ],
   "source": [
    "def find_best_tree_model(upper_depth, upper_leaf):\n",
    "    best_model = None\n",
    "    best_f1 = -1\n",
    "    \n",
    "    for depth in range(1, upper_depth + 1):\n",
    "        for leaf in range(1, upper_leaf + 1):\n",
    "            model = DecisionTreeClassifier(random_state=RANDOM_STATE, max_depth=depth, min_samples_leaf=leaf) \n",
    "            model.fit(X_train, y_train)\n",
    "            y_pred = model.predict(X_val)\n",
    "            \n",
    "            f1 = f1_score(y_val, y_pred)\n",
    "            \n",
    "            if f1 > best_f1:\n",
    "                best_f1 = f1\n",
    "                best_model = model\n",
    "    \n",
    "    return best_model\n",
    "\n",
    "best_tree_model = find_best_tree_model(50, 30)\n",
    "\n",
    "run_model(best_tree_model)"
   ]
  },
  {
   "cell_type": "markdown",
   "metadata": {},
   "source": [
    "## Random Forest"
   ]
  },
  {
   "cell_type": "code",
   "execution_count": 15,
   "metadata": {},
   "outputs": [
    {
     "name": "stdout",
     "output_type": "stream",
     "text": [
      "AUC is:  0.6573426573426573\n",
      "              precision    recall  f1-score   support\n",
      "\n",
      "           0       0.80      0.77      0.78        26\n",
      "           1       0.50      0.55      0.52        11\n",
      "\n",
      "    accuracy                           0.70        37\n",
      "   macro avg       0.65      0.66      0.65        37\n",
      "weighted avg       0.71      0.70      0.71        37\n",
      "\n",
      "Confusion Matrix: \n",
      " [[20  6]\n",
      " [ 5  6]]\n"
     ]
    },
    {
     "data": {
      "text/plain": [
       "RandomForestClassifier(n_estimators=50, random_state=42)"
      ]
     },
     "execution_count": 15,
     "metadata": {},
     "output_type": "execute_result"
    },
    {
     "data": {
      "image/png": "[encoded data removed]",
      "text/plain": [
       "<Figure size 432x288 with 1 Axes>"
      ]
     },
     "metadata": {
      "needs_background": "light"
     },
     "output_type": "display_data"
    }
   ],
   "source": [
    "def find_best_forest_model(n_estimators):\n",
    "    best_model = None\n",
    "    best_f1 = -1\n",
    "    \n",
    "    for estimator in range(1, n_estimators + 1):\n",
    "        model = RandomForestClassifier(random_state=RANDOM_STATE, n_estimators=n_estimators) \n",
    "        model.fit(X_train, y_train)\n",
    "        y_pred = model.predict(X_val)\n",
    "\n",
    "        f1 = f1_score(y_val, y_pred)\n",
    "\n",
    "        if f1 > best_f1:\n",
    "            best_f1 = f1\n",
    "            best_model = model\n",
    "    \n",
    "    return best_model\n",
    "\n",
    "best_forest_model = find_best_forest_model(50)\n",
    "\n",
    "run_model(best_forest_model)"
   ]
  },
  {
   "cell_type": "markdown",
   "metadata": {},
   "source": [
    "## SVM with grid search"
   ]
  },
  {
   "cell_type": "code",
   "execution_count": 16,
   "metadata": {},
   "outputs": [
    {
     "name": "stdout",
     "output_type": "stream",
     "text": [
      "Fitting 10 folds for each of 18 candidates, totalling 180 fits\n"
     ]
    },
    {
     "name": "stderr",
     "output_type": "stream",
     "text": [
      "[Parallel(n_jobs=4)]: Using backend LokyBackend with 4 concurrent workers.\n",
      "[Parallel(n_jobs=4)]: Done  68 tasks      | elapsed:    2.4s\n"
     ]
    },
    {
     "name": "stdout",
     "output_type": "stream",
     "text": [
      "AUC is:  0.6066433566433566\n",
      "              precision    recall  f1-score   support\n",
      "\n",
      "           0       0.79      0.58      0.67        26\n",
      "           1       0.39      0.64      0.48        11\n",
      "\n",
      "    accuracy                           0.59        37\n",
      "   macro avg       0.59      0.61      0.57        37\n",
      "weighted avg       0.67      0.59      0.61        37\n",
      "\n",
      "Confusion Matrix: \n",
      " [[15 11]\n",
      " [ 4  7]]\n",
      "Best SVM parameters: {'C': 10, 'degree': 3, 'kernel': 'poly'}\n"
     ]
    },
    {
     "name": "stderr",
     "output_type": "stream",
     "text": [
      "[Parallel(n_jobs=4)]: Done 180 out of 180 | elapsed:    2.7s finished\n"
     ]
    },
    {
     "data": {
      "image/png": "[encoded data removed]",
      "text/plain": [
       "<Figure size 432x288 with 1 Axes>"
      ]
     },
     "metadata": {
      "needs_background": "light"
     },
     "output_type": "display_data"
    }
   ],
   "source": [
    "tuned_parameters = [{'kernel': ['rbf'], 'gamma': [1e-3, 1e-4], 'C': [1, 10, 100]},\n",
    "                    {'kernel': ['poly'], 'degree': [3, 4, 5], 'C': [1, 10, 100]},\n",
    "                    {'kernel': ['linear'], 'C': [1, 10, 100]}]\n",
    "\n",
    "svm_model_cv = GridSearchCV(SVC(), tuned_parameters, cv=10, scoring='f1', verbose=1, n_jobs=4)\n",
    "\n",
    "best_svm_model = run_model(svm_model_cv)\n",
    "print(f\"Best SVM parameters: {best_svm_model.best_params_}\")"
   ]
  },
  {
   "cell_type": "markdown",
   "metadata": {},
   "source": [
    "## Naive Neural Networks"
   ]
  },
  {
   "cell_type": "code",
   "execution_count": 17,
   "metadata": {},
   "outputs": [
    {
     "name": "stdout",
     "output_type": "stream",
     "text": [
      "Model: \"sequential_1\"\n",
      "_________________________________________________________________\n",
      "Layer (type)                 Output Shape              Param #   \n",
      "=================================================================\n",
      "dense_1 (Dense)              (None, 200)               60200     \n",
      "_________________________________________________________________\n",
      "dense_2 (Dense)              (None, 100)               20100     \n",
      "_________________________________________________________________\n",
      "dense_3 (Dense)              (None, 1)                 101       \n",
      "=================================================================\n",
      "Total params: 80,401\n",
      "Trainable params: 80,401\n",
      "Non-trainable params: 0\n",
      "_________________________________________________________________\n",
      "None\n",
      "Train on 70 samples, validate on 18 samples\n",
      "Epoch 1/50\n",
      "70/70 [==============================] - 1s 8ms/step - loss: 0.6992 - accuracy: 0.4857 - val_loss: 0.6997 - val_accuracy: 0.4444\n",
      " — val_f1: 0.0 — val_precision: 0.0 — val_recall: 0.0\n",
      "Epoch 2/50\n",
      "70/70 [==============================] - 0s 167us/step - loss: 0.6935 - accuracy: 0.5143 - val_loss: 0.7097 - val_accuracy: 0.4444\n",
      " — val_f1: 0.0 — val_precision: 0.0 — val_recall: 0.0\n",
      "Epoch 3/50\n",
      "70/70 [==============================] - 0s 126us/step - loss: 0.6907 - accuracy: 0.5143 - val_loss: 0.7115 - val_accuracy: 0.4444\n",
      " — val_f1: 0.0 — val_precision: 0.0 — val_recall: 0.0\n",
      "Epoch 4/50\n",
      "70/70 [==============================] - 0s 147us/step - loss: 0.6882 - accuracy: 0.5143 - val_loss: 0.6989 - val_accuracy: 0.4444\n",
      " — val_f1: 0.0 — val_precision: 0.0 — val_recall: 0.0\n",
      "Epoch 5/50\n",
      "70/70 [==============================] - 0s 147us/step - loss: 0.6815 - accuracy: 0.6000 - val_loss: 0.6953 - val_accuracy: 0.5556\n",
      " — val_f1: 0.6666666666666666 — val_precision: 0.5714285714285714 — val_recall: 0.8\n",
      "Epoch 6/50\n",
      "70/70 [==============================] - 0s 145us/step - loss: 0.6804 - accuracy: 0.6286 - val_loss: 0.6938 - val_accuracy: 0.5000\n",
      " — val_f1: 0.6666666666666667 — val_precision: 0.5294117647058824 — val_recall: 0.9\n",
      "Epoch 7/50\n",
      "70/70 [==============================] - 0s 159us/step - loss: 0.6774 - accuracy: 0.6571 - val_loss: 0.6943 - val_accuracy: 0.5556\n",
      " — val_f1: 0.7142857142857143 — val_precision: 0.5555555555555556 — val_recall: 1.0\n",
      "Epoch 8/50\n",
      "70/70 [==============================] - 0s 141us/step - loss: 0.6769 - accuracy: 0.5714 - val_loss: 0.6966 - val_accuracy: 0.5556\n",
      " — val_f1: 0.7142857142857143 — val_precision: 0.5555555555555556 — val_recall: 1.0\n",
      "Epoch 9/50\n",
      "70/70 [==============================] - 0s 130us/step - loss: 0.6709 - accuracy: 0.6429 - val_loss: 0.7037 - val_accuracy: 0.3889\n",
      " — val_f1: 0.5217391304347826 — val_precision: 0.46153846153846156 — val_recall: 0.6\n",
      "Epoch 10/50\n",
      "32/70 [============>.................] - ETA: 0s - loss: 0.6610 - accuracy: 0.7500"
     ]
    },
    {
     "name": "stderr",
     "output_type": "stream",
     "text": [
      "/opt/conda/lib/python3.6/site-packages/sklearn/metrics/_classification.py:1221: UndefinedMetricWarning: Precision is ill-defined and being set to 0.0 due to no predicted samples. Use `zero_division` parameter to control this behavior.\n",
      "  _warn_prf(average, modifier, msg_start, len(result))\n"
     ]
    },
    {
     "name": "stdout",
     "output_type": "stream",
     "text": [
      "70/70 [==============================] - 0s 148us/step - loss: 0.6638 - accuracy: 0.6571 - val_loss: 0.7166 - val_accuracy: 0.3889\n",
      " — val_f1: 0.0 — val_precision: 0.0 — val_recall: 0.0\n",
      "Epoch 11/50\n",
      "70/70 [==============================] - 0s 128us/step - loss: 0.6638 - accuracy: 0.5714 - val_loss: 0.7247 - val_accuracy: 0.4444\n",
      " — val_f1: 0.0 — val_precision: 0.0 — val_recall: 0.0\n",
      "Epoch 12/50\n",
      "70/70 [==============================] - 0s 132us/step - loss: 0.6568 - accuracy: 0.6000 - val_loss: 0.7145 - val_accuracy: 0.3889\n",
      " — val_f1: 0.5217391304347826 — val_precision: 0.46153846153846156 — val_recall: 0.6\n",
      "Epoch 13/50\n",
      "70/70 [==============================] - 0s 143us/step - loss: 0.6467 - accuracy: 0.7000 - val_loss: 0.7163 - val_accuracy: 0.5556\n",
      " — val_f1: 0.7142857142857143 — val_precision: 0.5555555555555556 — val_recall: 1.0\n",
      "Epoch 14/50\n",
      "70/70 [==============================] - 0s 159us/step - loss: 0.6658 - accuracy: 0.6143 - val_loss: 0.7287 - val_accuracy: 0.5556\n",
      " — val_f1: 0.7142857142857143 — val_precision: 0.5555555555555556 — val_recall: 1.0\n",
      "Epoch 15/50\n",
      "70/70 [==============================] - 0s 161us/step - loss: 0.6544 - accuracy: 0.6429 - val_loss: 0.7228 - val_accuracy: 0.5000\n",
      " — val_f1: 0.64 — val_precision: 0.5333333333333333 — val_recall: 0.8\n",
      "Epoch 16/50\n",
      "70/70 [==============================] - 0s 147us/step - loss: 0.6449 - accuracy: 0.5857 - val_loss: 0.7528 - val_accuracy: 0.3333\n",
      " — val_f1: 0.0 — val_precision: 0.0 — val_recall: 0.0\n",
      "Epoch 17/50\n",
      "70/70 [==============================] - 0s 131us/step - loss: 0.6481 - accuracy: 0.5714 - val_loss: 0.7534 - val_accuracy: 0.3333\n",
      " — val_f1: 0.0 — val_precision: 0.0 — val_recall: 0.0\n",
      "Epoch 18/50\n",
      "70/70 [==============================] - 0s 134us/step - loss: 0.6420 - accuracy: 0.5571 - val_loss: 0.7385 - val_accuracy: 0.2778\n",
      " — val_f1: 0.380952380952381 — val_precision: 0.36363636363636365 — val_recall: 0.4\n",
      "Epoch 19/50\n",
      "70/70 [==============================] - 0s 131us/step - loss: 0.6307 - accuracy: 0.6429 - val_loss: 0.7383 - val_accuracy: 0.3889\n",
      " — val_f1: 0.5217391304347826 — val_precision: 0.46153846153846156 — val_recall: 0.6\n",
      "Epoch 20/50\n",
      "70/70 [==============================] - 0s 144us/step - loss: 0.6197 - accuracy: 0.6429 - val_loss: 0.7517 - val_accuracy: 0.3333\n",
      " — val_f1: 0.33333333333333326 — val_precision: 0.375 — val_recall: 0.3\n",
      "Epoch 21/50\n",
      "70/70 [==============================] - 0s 131us/step - loss: 0.6248 - accuracy: 0.6429 - val_loss: 0.7658 - val_accuracy: 0.3889\n",
      " — val_f1: 0.15384615384615383 — val_precision: 0.3333333333333333 — val_recall: 0.1\n",
      "Epoch 22/50\n",
      "70/70 [==============================] - 0s 134us/step - loss: 0.6237 - accuracy: 0.6143 - val_loss: 0.7579 - val_accuracy: 0.2778\n",
      " — val_f1: 0.380952380952381 — val_precision: 0.36363636363636365 — val_recall: 0.4\n",
      "Epoch 23/50\n",
      "70/70 [==============================] - 0s 145us/step - loss: 0.6051 - accuracy: 0.6857 - val_loss: 0.7604 - val_accuracy: 0.4444\n",
      " — val_f1: 0.6153846153846154 — val_precision: 0.5 — val_recall: 0.8\n",
      "Epoch 24/50\n",
      "70/70 [==============================] - 0s 154us/step - loss: 0.6269 - accuracy: 0.7143 - val_loss: 0.8122 - val_accuracy: 0.5556\n",
      " — val_f1: 0.7142857142857143 — val_precision: 0.5555555555555556 — val_recall: 1.0\n",
      "Epoch 25/50\n",
      "70/70 [==============================] - 0s 138us/step - loss: 0.6676 - accuracy: 0.6143 - val_loss: 0.8061 - val_accuracy: 0.5556\n",
      " — val_f1: 0.7142857142857143 — val_precision: 0.5555555555555556 — val_recall: 1.0\n",
      "Epoch 26/50\n",
      "70/70 [==============================] - 0s 134us/step - loss: 0.6354 - accuracy: 0.6286 - val_loss: 0.7674 - val_accuracy: 0.4444\n",
      " — val_f1: 0.5833333333333334 — val_precision: 0.5 — val_recall: 0.7\n",
      "Epoch 27/50\n",
      "70/70 [==============================] - 0s 132us/step - loss: 0.6044 - accuracy: 0.6571 - val_loss: 0.7753 - val_accuracy: 0.2778\n",
      " — val_f1: 0.380952380952381 — val_precision: 0.36363636363636365 — val_recall: 0.4\n",
      "Epoch 28/50\n",
      "70/70 [==============================] - 0s 156us/step - loss: 0.5989 - accuracy: 0.6714 - val_loss: 0.7676 - val_accuracy: 0.3889\n",
      " — val_f1: 0.5217391304347826 — val_precision: 0.46153846153846156 — val_recall: 0.6\n",
      "Epoch 29/50\n",
      "70/70 [==============================] - 0s 132us/step - loss: 0.5888 - accuracy: 0.6857 - val_loss: 0.7681 - val_accuracy: 0.3889\n",
      " — val_f1: 0.5217391304347826 — val_precision: 0.46153846153846156 — val_recall: 0.6\n",
      "Epoch 30/50\n",
      "70/70 [==============================] - 0s 129us/step - loss: 0.5847 - accuracy: 0.6857 - val_loss: 0.7734 - val_accuracy: 0.3889\n",
      " — val_f1: 0.5217391304347826 — val_precision: 0.46153846153846156 — val_recall: 0.6\n",
      "Epoch 31/50\n",
      "70/70 [==============================] - 0s 141us/step - loss: 0.5877 - accuracy: 0.6857 - val_loss: 0.7781 - val_accuracy: 0.3889\n",
      " — val_f1: 0.5217391304347826 — val_precision: 0.46153846153846156 — val_recall: 0.6\n",
      "Epoch 32/50\n",
      "70/70 [==============================] - 0s 125us/step - loss: 0.5907 - accuracy: 0.6857 - val_loss: 0.7816 - val_accuracy: 0.4444\n",
      " — val_f1: 0.6153846153846154 — val_precision: 0.5 — val_recall: 0.8\n",
      "Epoch 33/50\n",
      "70/70 [==============================] - 0s 153us/step - loss: 0.5766 - accuracy: 0.7143 - val_loss: 0.7862 - val_accuracy: 0.5000\n",
      " — val_f1: 0.64 — val_precision: 0.5333333333333333 — val_recall: 0.8\n",
      "Epoch 34/50\n",
      "70/70 [==============================] - 0s 166us/step - loss: 0.5692 - accuracy: 0.7286 - val_loss: 0.7860 - val_accuracy: 0.3889\n",
      " — val_f1: 0.5217391304347826 — val_precision: 0.46153846153846156 — val_recall: 0.6\n",
      "Epoch 35/50\n",
      "70/70 [==============================] - 0s 143us/step - loss: 0.5622 - accuracy: 0.7429 - val_loss: 0.7905 - val_accuracy: 0.3889\n",
      " — val_f1: 0.5217391304347826 — val_precision: 0.46153846153846156 — val_recall: 0.6\n",
      "Epoch 36/50\n",
      "70/70 [==============================] - 0s 131us/step - loss: 0.5593 - accuracy: 0.7286 - val_loss: 0.7949 - val_accuracy: 0.3889\n",
      " — val_f1: 0.5217391304347826 — val_precision: 0.46153846153846156 — val_recall: 0.6\n",
      "Epoch 37/50\n",
      "70/70 [==============================] - 0s 160us/step - loss: 0.5637 - accuracy: 0.7286 - val_loss: 0.8047 - val_accuracy: 0.3889\n",
      " — val_f1: 0.5217391304347826 — val_precision: 0.46153846153846156 — val_recall: 0.6\n",
      "Epoch 38/50\n",
      "70/70 [==============================] - 0s 149us/step - loss: 0.5478 - accuracy: 0.7571 - val_loss: 0.8069 - val_accuracy: 0.4444\n",
      " — val_f1: 0.5833333333333334 — val_precision: 0.5 — val_recall: 0.7\n",
      "Epoch 39/50\n",
      "70/70 [==============================] - 0s 126us/step - loss: 0.5476 - accuracy: 0.7143 - val_loss: 0.8287 - val_accuracy: 0.4444\n",
      " — val_f1: 0.6153846153846154 — val_precision: 0.5 — val_recall: 0.8\n",
      "Epoch 40/50\n",
      "70/70 [==============================] - 0s 166us/step - loss: 0.5473 - accuracy: 0.7286 - val_loss: 0.8064 - val_accuracy: 0.3889\n",
      " — val_f1: 0.5217391304347826 — val_precision: 0.46153846153846156 — val_recall: 0.6\n",
      "Epoch 41/50\n",
      "70/70 [==============================] - 0s 159us/step - loss: 0.5435 - accuracy: 0.7286 - val_loss: 0.8228 - val_accuracy: 0.3889\n",
      " — val_f1: 0.4210526315789474 — val_precision: 0.4444444444444444 — val_recall: 0.4\n",
      "Epoch 42/50\n",
      "70/70 [==============================] - 0s 138us/step - loss: 0.5398 - accuracy: 0.7000 - val_loss: 0.8083 - val_accuracy: 0.3889\n",
      " — val_f1: 0.5217391304347826 — val_precision: 0.46153846153846156 — val_recall: 0.6\n",
      "Epoch 43/50\n",
      "70/70 [==============================] - 0s 149us/step - loss: 0.5307 - accuracy: 0.7571 - val_loss: 0.8614 - val_accuracy: 0.5000\n",
      " — val_f1: 0.6666666666666667 — val_precision: 0.5294117647058824 — val_recall: 0.9\n",
      "Epoch 44/50\n",
      "70/70 [==============================] - 0s 134us/step - loss: 0.5536 - accuracy: 0.7143 - val_loss: 0.8227 - val_accuracy: 0.4444\n",
      " — val_f1: 0.5833333333333334 — val_precision: 0.5 — val_recall: 0.7\n",
      "Epoch 45/50\n",
      "70/70 [==============================] - 0s 128us/step - loss: 0.5105 - accuracy: 0.8143 - val_loss: 0.8292 - val_accuracy: 0.3889\n",
      " — val_f1: 0.4210526315789474 — val_precision: 0.4444444444444444 — val_recall: 0.4\n",
      "Epoch 46/50\n",
      "70/70 [==============================] - 0s 130us/step - loss: 0.5457 - accuracy: 0.6857 - val_loss: 0.8419 - val_accuracy: 0.3889\n",
      " — val_f1: 0.4210526315789474 — val_precision: 0.4444444444444444 — val_recall: 0.4\n",
      "Epoch 47/50\n"
     ]
    },
    {
     "name": "stdout",
     "output_type": "stream",
     "text": [
      "70/70 [==============================] - 0s 142us/step - loss: 0.5039 - accuracy: 0.7857 - val_loss: 0.8485 - val_accuracy: 0.4444\n",
      " — val_f1: 0.6153846153846154 — val_precision: 0.5 — val_recall: 0.8\n",
      "Epoch 48/50\n",
      "70/70 [==============================] - 0s 135us/step - loss: 0.5620 - accuracy: 0.7286 - val_loss: 0.8997 - val_accuracy: 0.5000\n",
      " — val_f1: 0.6666666666666667 — val_precision: 0.5294117647058824 — val_recall: 0.9\n",
      "Epoch 49/50\n",
      "70/70 [==============================] - 0s 132us/step - loss: 0.5328 - accuracy: 0.7286 - val_loss: 0.8241 - val_accuracy: 0.4444\n",
      " — val_f1: 0.5454545454545454 — val_precision: 0.5 — val_recall: 0.6\n",
      "Epoch 50/50\n",
      "70/70 [==============================] - 0s 139us/step - loss: 0.5087 - accuracy: 0.7571 - val_loss: 0.8703 - val_accuracy: 0.4444\n",
      " — val_f1: 0.16666666666666669 — val_precision: 0.5 — val_recall: 0.1\n",
      "37/37 [==============================] - 0s 94us/step\n",
      "Test loss: 0.5717862473951804\n",
      "Test accuracy: 0.7297297120094299\n"
     ]
    },
    {
     "data": {
      "text/plain": [
       "<keras.engine.sequential.Sequential at 0x7f85b3518ba8>"
      ]
     },
     "execution_count": 17,
     "metadata": {},
     "output_type": "execute_result"
    }
   ],
   "source": [
    "model_name = \"pretrained_word2vec_naive\"\n",
    "\n",
    "naive_model = Sequential()\n",
    "\n",
    "naive_model.add(Dense(200, input_dim=X.shape[1], activation='relu'))\n",
    "naive_model.add(Dense(100))\n",
    "naive_model.add(Dense(1, bias_initializer=Constant(0.01), activation=\"sigmoid\"))\n",
    "\n",
    "print(naive_model.summary())\n",
    "#plot_model(lstm_model, to_file=f'{model_name}.png', show_shapes=True)\n",
    "\n",
    "train_NN(naive_model, model_name)"
   ]
  },
  {
   "cell_type": "code",
   "execution_count": 18,
   "metadata": {},
   "outputs": [
    {
     "name": "stdout",
     "output_type": "stream",
     "text": [
      "[0 0 0 0 0 0 0 0 0 0 0 1 0 0 0 0 1 0 0 0 0 0 0 0 0 0 0 0 0 0 1 0 0 0 1 0 1]\n",
      "[1 0 0 1 0 0 0 0 0 0 0 0 0 0 1 0 1 0 0 0 0 0 0 1 1 0 0 0 0 0 1 1 1 1 1 0 0] \n",
      "\n",
      "AUC is:  0.5979020979020979\n",
      "              precision    recall  f1-score   support\n",
      "\n",
      "           0       0.75      0.92      0.83        26\n",
      "           1       0.60      0.27      0.37        11\n",
      "\n",
      "    accuracy                           0.73        37\n",
      "   macro avg       0.68      0.60      0.60        37\n",
      "weighted avg       0.71      0.73      0.69        37\n",
      "\n",
      "Confusion Matrix: \n",
      " [[24  2]\n",
      " [ 8  3]]\n"
     ]
    },
    {
     "data": {
      "image/png": "[encoded data removed]",
      "text/plain": [
       "<Figure size 432x288 with 1 Axes>"
      ]
     },
     "metadata": {
      "needs_background": "light"
     },
     "output_type": "display_data"
    }
   ],
   "source": [
    "predictions = naive_model.predict(X_test)\n",
    "y_pred = np.where(predictions > 0.5, 1, 0).flatten()\n",
    "\n",
    "print(y_pred)\n",
    "print(y_test.to_numpy(), '\\n')\n",
    "\n",
    "evaluate_on_training_set(y_test, y_pred)"
   ]
  }
 ],
 "metadata": {
  "kernelspec": {
   "display_name": "Python 3",
   "language": "python",
   "name": "python3"
  },
  "language_info": {
   "codemirror_mode": {
    "name": "ipython",
    "version": 3
   },
   "file_extension": ".py",
   "mimetype": "text/x-python",
   "name": "python",
   "nbconvert_exporter": "python",
   "pygments_lexer": "ipython3",
   "version": "3.6.10"
  }
 },
 "nbformat": 4,
 "nbformat_minor": 4
}
