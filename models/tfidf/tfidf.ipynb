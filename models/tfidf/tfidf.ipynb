{
  "nbformat": 4,
  "nbformat_minor": 0,
  "metadata": {
    "colab": {
      "name": "tfidf_daicwoz",
      "provenance": [],
      "collapsed_sections": [],
      "toc_visible": true
    },
    "kernelspec": {
      "name": "python3",
      "display_name": "Python 3"
    }
  },
  "cells": [
    {
      "cell_type": "markdown",
      "metadata": {
        "id": "UGxLDML_2RBa"
      },
      "source": [
        "# **UPLOAD cleaned_transcripts.csv first before running all cells! **"
      ]
    },
    {
      "cell_type": "markdown",
      "metadata": {
        "id": "i7M9FXiS0ekp"
      },
      "source": [
        "# Importing Necessary Modules "
      ]
    },
    {
      "cell_type": "code",
      "metadata": {
        "id": "qGrE_hOh0Thf"
      },
      "source": [
        "import pandas as pd\n",
        "import numpy as np\n",
        "\n",
        "#word stemming\n",
        "import nltk\n",
        "nltk.download('punkt')\n",
        "from nltk.stem import PorterStemmer\n",
        "from nltk.tokenize import sent_tokenize, word_tokenize\n",
        "\n",
        "#data processing\n",
        "from keras.preprocessing.text import Tokenizer\n",
        "from keras.preprocessing import sequence\n",
        "from keras.models import Sequential \n",
        "from keras.layers import Dense, Embedding, Flatten \n",
        "from keras.datasets import imdb \n",
        "from keras.callbacks import EarlyStopping\n",
        "from sklearn.model_selection import train_test_split\n",
        "from keras.utils.vis_utils import plot_model\n",
        "from sklearn.feature_extraction.text import TfidfVectorizer\n",
        "from sklearn.base import clone\n",
        "import random\n",
        "from sklearn.utils import shuffle\n",
        "\n",
        "\n",
        "\n",
        "#Visualization \n",
        "import matplotlib.pyplot as plt\n",
        "from sklearn.feature_extraction.text import TfidfVectorizer\n",
        "from sklearn.cluster import KMeans\n",
        "from sklearn.decomposition import PCA\n",
        "from sklearn.manifold import TSNE\n",
        "\n",
        "#Under and Oversampling\n",
        "from imblearn.under_sampling import RandomUnderSampler\n",
        "from imblearn.over_sampling import SMOTE\n",
        "\n",
        "#Evaluation\n",
        "from sklearn.metrics import classification_report, confusion_matrix\n",
        "from sklearn.metrics import roc_curve, roc_auc_score\n",
        "from sklearn.metrics import recall_score\n",
        "import matplotlib.pyplot as plt\n",
        "from sklearn.model_selection import RepeatedKFold\n",
        "from sklearn.metrics import f1_score\n",
        "from sklearn.metrics import recall_score\n",
        "\n",
        "\n",
        "#models\n",
        "from sklearn.naive_bayes import MultinomialNB\n",
        "from sklearn.naive_bayes import GaussianNB\n",
        "from sklearn.svm import SVC \n",
        "from sklearn.ensemble import AdaBoostClassifier\n",
        "from sklearn.tree import DecisionTreeClassifier\n",
        "from sklearn.ensemble import RandomForestClassifier\n"
      ],
      "execution_count": null,
      "outputs": []
    },
    {
      "cell_type": "code",
      "metadata": {
        "id": "4fFWOJ8g0ZYP"
      },
      "source": [
        "filepath = \"/content/clean_compiled_transcripts.csv\"\n",
        "df_transcript = pd.read_csv(filepath)\n",
        "\n",
        "column_list = df_transcript.columns.tolist()\n",
        "print(column_list)\n",
        "\n",
        "df_transcript.head(10)"
      ],
      "execution_count": null,
      "outputs": []
    },
    {
      "cell_type": "markdown",
      "metadata": {
        "id": "2aCXrYhT1Wdx"
      },
      "source": [
        "# Procesing Data "
      ]
    },
    {
      "cell_type": "code",
      "metadata": {
        "id": "RO7cbN0X1V_N"
      },
      "source": [
        "def stem_text(text):\n",
        "    ps = PorterStemmer()\n",
        "    text = text.split()\n",
        "    stemmed_text = []\n",
        "    for w in text: \n",
        "        stemmed = ps.stem(w)\n",
        "        stemmed_text.append(stemmed)\n",
        "    return stemmed_text\n",
        "\n",
        "stem_text(\"i my you me they we she he myself her shes\")"
      ],
      "execution_count": null,
      "outputs": []
    },
    {
      "cell_type": "code",
      "metadata": {
        "id": "2VkX3M941dqF"
      },
      "source": [
        "original_text = df_transcript.Transcript[0]\n",
        "# df_transcript.Transcript = df_transcript.Transcript.apply(stem_text)\n",
        "# filtered_text = df_transcript.Transcript[300]\n",
        "\n",
        "print(f\"The original text is:\\n{original_text}\")\n",
        "# print(\"-------------------------------------------\")\n",
        "# print(f\"The filtered text is:\\n{filtered_text}\")"
      ],
      "execution_count": null,
      "outputs": []
    },
    {
      "cell_type": "markdown",
      "metadata": {
        "id": "LAEO3t9F1f8X"
      },
      "source": [
        "# Creating Training and Test Data "
      ]
    },
    {
      "cell_type": "code",
      "metadata": {
        "id": "_-iVUXql1fVi"
      },
      "source": [
        "vectorizer = TfidfVectorizer(max_features=10000, ngram_range=(1,2))\n",
        "corpus = df_transcript[\"Transcript\"]\n",
        "x = vectorizer.fit(corpus)\n",
        "x = vectorizer.transform(corpus)\n",
        "dic_vocabulary = vectorizer.vocabulary_\n",
        "phq_Score = df_transcript[\"PHQ_Score\"]\n",
        "phq_Binary = df_transcript.PHQ_Binary.to_numpy()\n",
        "print(x.shape)\n",
        "# print(x)\n",
        "\n",
        "x_dense = x.todense()\n",
        "print(x_dense.shape)\n",
        "\n",
        "# print(x_dense)\n",
        "\n",
        "# wtf = np.asarray(x)\n",
        "# # print(x.shape)\n",
        "# print(wtf[0])\n",
        "\n",
        "# x.shape\n",
        "# np.save(\"x_tfidf\", x)\n",
        "# np.save(\"y_tfidf\", phq_Binary)\n",
        "\n",
        "# x_train, x_test, y_train, y_test = train_test_split(x, phq_Binary, test_size=0.2) \n",
        "# x_train.shape\n",
        "\n",
        "# x_train_dense = x_train.todense()\n",
        "# x_test_dense = x_test.todense()\n",
        "\n",
        "# x.toarray()\n",
        "# print(x.shape)\n",
        "# print(x.shape[0])\n",
        "\n",
        "\n",
        "# print(x_train.shape[0])\n",
        "# print(y_train[1])"
      ],
      "execution_count": null,
      "outputs": []
    },
    {
      "cell_type": "code",
      "metadata": {
        "id": "1pJFS7ZctNKH"
      },
      "source": [
        "def train_test(X, y, testfile):\n",
        "    test_participants = pd.read_csv(testfile)['participant_ID'].values\n",
        "    X_train = []\n",
        "    X_test = []\n",
        "    y_train = []\n",
        "    y_test = []\n",
        "    \n",
        "    for i in range(y.shape[0]):\n",
        "        participant_no = y.index[i]\n",
        "        # print(X[i])\n",
        "        \n",
        "        if participant_no in test_participants:\n",
        "            X_test.append(X[i])\n",
        "            y_test.append(y[participant_no])\n",
        "        \n",
        "        else:\n",
        "            X_train.append(X[i])\n",
        "            y_train.append(y[participant_no])\n",
        "            \n",
        "    return np.array(X_train), np.array(X_test), np.array(y_train), np.array(y_test)"
      ],
      "execution_count": null,
      "outputs": []
    },
    {
      "cell_type": "code",
      "metadata": {
        "id": "RrTXpHW1tcJ-"
      },
      "source": [
        "testfile = './test_split_Depression_AVEC2017 (3).csv'\n",
        "y =  pd.read_csv(\"./clean_compiled_transcripts.csv\", index_col = \"Participant_ID\")['PHQ_Binary']\n",
        "\n",
        "# x = np.array(x)\n",
        "# x.shape\n",
        "# print(x_dense.shape)\n",
        "# print(X_train)\n",
        "\n",
        "X_train, X_test, y_train, y_test = train_test(x_dense, y, testfile)\n",
        "\n",
        "print(x_dense.shape)\n",
        "print(X_train.shape)\n",
        "print(X_test.shape)\n",
        "print(y_train.shape)\n",
        "print(y_test.shape)\n",
        "\n",
        "X_train = X_train.reshape((136,10000))\n",
        "X_test = X_test.reshape((45,10000))\n",
        "\n",
        "y_train = y_train.reshape((136)) \n",
        "y_test = y_test.reshape((45))\n",
        "\n",
        "print(x_dense.shape)\n",
        "print(X_train.shape)\n",
        "print(X_test.shape)\n",
        "print(y_train.shape)\n",
        "print(y_test.shape)"
      ],
      "execution_count": null,
      "outputs": []
    },
    {
      "cell_type": "markdown",
      "metadata": {
        "id": "p7rD85TP1nPl"
      },
      "source": [
        "## Undersampling"
      ]
    },
    {
      "cell_type": "code",
      "metadata": {
        "id": "oDoflqwu9un2"
      },
      "source": [
        "RANDOM_STATE = 42\n",
        "\n",
        "# because the RandomUnderSampler does not work here\n",
        "def undersampling(X_train, y_train):\n",
        "    random.seed(RANDOM_STATE)\n",
        "    \n",
        "    neg_list = [i for i in range(len(y_train)) if y_train[i] == 0]\n",
        "    pos_list = [i for i in range(len(y_train)) if y_train[i] == 1]\n",
        "    \n",
        "    if len(neg_list) < len(pos_list):\n",
        "        minority_list = neg_list\n",
        "        majority_list = pos_list\n",
        "    else:\n",
        "        minority_list = pos_list\n",
        "        majority_list = neg_list\n",
        "        \n",
        "    sampled_list = random.sample(majority_list, len(minority_list))\n",
        "    \n",
        "    final_list = sampled_list + minority_list\n",
        "    \n",
        "    X_train_us = []\n",
        "    y_train_us = []\n",
        "    \n",
        "    for i in final_list:\n",
        "        X_train_us.append(X_train[i])\n",
        "        y_train_us.append(y_train[i])\n",
        "                                 \n",
        "    return np.array(X_train_us), np.array(y_train_us)\n",
        "\n",
        "xu_train, yu_train = undersampling(X_train, y_train)"
      ],
      "execution_count": null,
      "outputs": []
    },
    {
      "cell_type": "code",
      "metadata": {
        "id": "oD8Y7ROg9w-M"
      },
      "source": [
        "# shuffle the train data in unison because data is in order\n",
        "# reduces poor performance during k-cross validation when sampling data\n",
        "\n",
        "xu_train, yu_train = shuffle(xu_train, yu_train, random_state=RANDOM_STATE)\n",
        "\n",
        "xu_train.shape, X_test.shape, yu_train.shape, y_test.shape"
      ],
      "execution_count": null,
      "outputs": []
    },
    {
      "cell_type": "markdown",
      "metadata": {
        "id": "UnXgtnSR23aT"
      },
      "source": [
        "# Visualizaiton of TFIDF \n",
        "Conclusion: There are no obvious clusters from the visualizations of these vectors "
      ]
    },
    {
      "cell_type": "markdown",
      "metadata": {
        "id": "te50TuHm29mJ"
      },
      "source": [
        "## Overall Dataset"
      ]
    },
    {
      "cell_type": "code",
      "metadata": {
        "id": "TN1EmNQ-272h"
      },
      "source": [
        "num_clusters = 2\n",
        "num_seeds = 10\n",
        "max_iterations = 300\n",
        "\n",
        "labels_color_map = {\n",
        "    0: '#20b2aa', 1: '#ff7373'\n",
        "}\n",
        "\n",
        "pca_num_components = 2\n",
        "tsne_num_components = 2\n",
        "\n",
        "labels = phq_Binary\n",
        "# print labels\n",
        "\n",
        "# ----------------------------------------------------------------------------------------------------------------------\n",
        "\n",
        "reduced_data = PCA(n_components=pca_num_components).fit_transform(x_dense)\n",
        "# print reduced_data\n",
        "\n",
        "fig, ax = plt.subplots()\n",
        "\n",
        "A = 0 #counter for green and y = 0 \n",
        "B = 0 #counter for red and y = 0\n",
        "C = 0 #counter for green and y = 1\n",
        "D = 0 #counter for red & y = 1\n",
        "    \n",
        "for index, instance in enumerate(reduced_data):\n",
        "\n",
        "    pca_comp_1, pca_comp_2 = reduced_data[index]\n",
        "    color = labels_color_map[phq_Binary[index]]\n",
        "    ax.scatter(pca_comp_1, pca_comp_2, c=color)\n",
        "\n",
        "    y = phq_Binary[index]\n",
        "    \n",
        "    if y == 0 and color == '#20b2aa':\n",
        "        A += 1\n",
        "    elif (y == 0 and color == '#ff7373'):\n",
        "        B += 1\n",
        "    elif (y == 1 and color == '#20b2aa'): \n",
        "        C += 1\n",
        "    elif (y == 1 and color == '#ff7373'):\n",
        "        D += 1\n",
        "        \n",
        "\n",
        "print(\"Green: Not depressed\")\n",
        "print(\"Red: Depressed\")\n",
        "print(A,B,C,D)\n",
        "    \n",
        "plt.show()\n",
        "\n",
        "# # t-SNE plot\n",
        "# embeddings = TSNE(n_components=tsne_num_components)\n",
        "# Y = embeddings.fit_transform(x_dense)\n",
        "# plt.scatter(Y[:, 0], Y[:, 1], cmap=plt.cm.Spectral)\n",
        "# plt.show()"
      ],
      "execution_count": null,
      "outputs": []
    },
    {
      "cell_type": "markdown",
      "metadata": {
        "id": "mJSP2Cez3Nds"
      },
      "source": [
        "## Visualization of Training Data"
      ]
    },
    {
      "cell_type": "markdown",
      "metadata": {
        "id": "AejQbu9R3fF-"
      },
      "source": [
        "### Normal Sample Set"
      ]
    },
    {
      "cell_type": "code",
      "metadata": {
        "colab": {
          "base_uri": "https://localhost:8080/",
          "height": 317
        },
        "id": "MLBwgC9a3PL-",
        "outputId": "46779189-f46b-4768-ec13-be0f2d0ceacd"
      },
      "source": [
        "num_clusters = 2\n",
        "num_seeds = 10\n",
        "max_iterations = 300\n",
        "\n",
        "labels_color_map = {\n",
        "    0: '#20b2aa', 1: '#ff7373'\n",
        "}\n",
        "\n",
        "pca_num_components = 2\n",
        "tsne_num_components = 2\n",
        "\n",
        "labels  = y_train\n",
        "# ----------------------------------------------------------------------------------------------------------------------\n",
        "\n",
        "reduced_data = PCA(n_components=pca_num_components).fit_transform(X_train)\n",
        "# print reduced_data\n",
        "\n",
        "fig, ax = plt.subplots()\n",
        "\n",
        "A = 0 #counter for green and y = 0 \n",
        "B = 0 #counter for red and y = 0\n",
        "C = 0 #counter for green and y = 1\n",
        "D = 0 #counter for red & y = 1\n",
        "    \n",
        "for index, instance in enumerate(reduced_data):\n",
        "\n",
        "    pca_comp_1, pca_comp_2 = reduced_data[index]\n",
        "    y = y_train[index]\n",
        "    color = labels_color_map[labels[index]]\n",
        "    ax.scatter(pca_comp_1, pca_comp_2, c=color)\n",
        "    \n",
        "    if y == 0 and color == '#20b2aa':\n",
        "        A += 1\n",
        "    elif (y == 0 and color == '#ff7373'):\n",
        "        B += 1\n",
        "    elif (y == 1 and color == '#20b2aa'): \n",
        "        C += 1\n",
        "    elif (y == 1 and color == '#ff7373'):\n",
        "        D += 1\n",
        "        \n",
        "\n",
        "print(\"Green: Not depressed (n = \", A+B, \")\")\n",
        "print(\"Red: Depressed (n = \", C+D, \")\")\n",
        "print(A,B,C,D)\n",
        "    \n",
        "plt.show()\n"
      ],
      "execution_count": 69,
      "outputs": [
        {
          "output_type": "stream",
          "text": [
            "Green: Not depressed (n =  95 )\n",
            "Red: Depressed (n =  41 )\n",
            "95 0 0 41\n"
          ],
          "name": "stdout"
        },
        {
          "output_type": "display_data",
          "data": {
            "image/png": "[encoded data removed]",
            "text/plain": [
              "<Figure size 432x288 with 1 Axes>"
            ]
          },
          "metadata": {
            "tags": [],
            "needs_background": "light"
          }
        }
      ]
    },
    {
      "cell_type": "markdown",
      "metadata": {
        "id": "Z0zViDrT3als"
      },
      "source": [
        "### Undersampling"
      ]
    },
    {
      "cell_type": "code",
      "metadata": {
        "colab": {
          "base_uri": "https://localhost:8080/",
          "height": 317
        },
        "id": "L9tVzSWK3WAC",
        "outputId": "4cec1055-c639-40ee-e10e-bfb42842a5b7"
      },
      "source": [
        "num_clusters = 2\n",
        "num_seeds = 10\n",
        "max_iterations = 300\n",
        "\n",
        "labels_color_map = {\n",
        "    0: '#20b2aa', 1: '#ff7373'\n",
        "}\n",
        "\n",
        "pca_num_components = 2\n",
        "tsne_num_components = 2\n",
        "\n",
        "labels = phq_Binary\n",
        "# print labels\n",
        "\n",
        "# ----------------------------------------------------------------------------------------------------------------------\n",
        "\n",
        "reduced_data = PCA(n_components=pca_num_components).fit_transform(xu_train)\n",
        "# print reduced_data\n",
        "\n",
        "fig, ax = plt.subplots()\n",
        "\n",
        "A = 0 #counter for green and y = 0 \n",
        "B = 0 #counter for red and y = 0\n",
        "C = 0 #counter for green and y = 1\n",
        "D = 0 #counter for red & y = 1\n",
        "    \n",
        "for index, instance in enumerate(reduced_data):\n",
        "\n",
        "    pca_comp_1, pca_comp_2 = reduced_data[index]\n",
        "    color = labels_color_map[yu_train[index]]\n",
        "    ax.scatter(pca_comp_1, pca_comp_2, c=color)\n",
        "    \n",
        "    y = yu_train[index]\n",
        "        \n",
        "    if y == 0 and color == '#20b2aa':\n",
        "        A += 1\n",
        "    elif (y == 0 and color == '#ff7373'):\n",
        "        B += 1\n",
        "    elif (y == 1 and color == '#20b2aa'): \n",
        "        C += 1\n",
        "    elif (y == 1 and color == '#ff7373'):\n",
        "        D += 1\n",
        "        \n",
        "\n",
        "print(\"Green: Not depressed (n = \", A+B, \")\")\n",
        "print(\"Red: Depressed (n = \", C+D, \")\")\n",
        "print(A,B,C,D)\n",
        "    \n",
        "plt.show()"
      ],
      "execution_count": 70,
      "outputs": [
        {
          "output_type": "stream",
          "text": [
            "Green: Not depressed (n =  41 )\n",
            "Red: Depressed (n =  41 )\n",
            "41 0 0 41\n"
          ],
          "name": "stdout"
        },
        {
          "output_type": "display_data",
          "data": {
            "image/png": "[encoded data removed]",
            "text/plain": [
              "<Figure size 432x288 with 1 Axes>"
            ]
          },
          "metadata": {
            "tags": [],
            "needs_background": "light"
          }
        }
      ]
    },
    {
      "cell_type": "markdown",
      "metadata": {
        "id": "UJOIPZIx3q28"
      },
      "source": [
        "# Evaluation Metrics \n",
        "\n",
        "For depression, anything that doesn't account for false negatives could be harmful. Therefore, we take recall as a better measure than precision."
      ]
    },
    {
      "cell_type": "code",
      "metadata": {
        "id": "RzO7DRPB3p9P"
      },
      "source": [
        "def evaluate_on_training_set(y_test, y_pred):\n",
        "  # Calculate AUC\n",
        "  print(\"AUC is: \", roc_auc_score(y_test, y_pred))\n",
        "  \n",
        "  # print out recall and precision\n",
        "  print(classification_report(y_test, y_pred, labels=np.unique(y_pred)))\n",
        "  \n",
        "  # print out confusion matrix\n",
        "  print(\"Confusion Matrix: \\n\", confusion_matrix(y_test, y_pred))\n",
        "\n",
        "  # # calculate points for ROC curve\n",
        "  fpr, tpr, thresholds = roc_curve(y_test, y_pred)\n",
        "  \n",
        "  # Plot ROC curve\n",
        "  plt.plot(fpr, tpr, label='ROC curve (area = %0.3f)' % roc_auc_score(y_test, y_pred))\n",
        "  plt.plot([0, 1], [0, 1], 'k--')\n",
        "  plt.ylim([0.0, 1.0])\n",
        "  plt.xlabel('False Positive Rate')\n",
        "  plt.ylabel('True Positive Rate')\n",
        "  plt.title('Receiver Operating Characteristic')"
      ],
      "execution_count": null,
      "outputs": []
    },
    {
      "cell_type": "code",
      "metadata": {
        "id": "qvt4JeKy3w-c"
      },
      "source": [
        "def k_cross(input_model, X, y, k=4, n=3, random_state=42):\n",
        "    f1_scores = []\n",
        "    recall_scores = []\n",
        "    rkf = RepeatedKFold(n_splits=k, n_repeats=n, random_state=random_state)\n",
        "    for train_index, val_index in rkf.split(X):\n",
        "        X_train, X_val = X[train_index], X[val_index]\n",
        "        y_train, y_val = y[train_index], y[val_index]\n",
        "        \n",
        "        model = clone(input_model)\n",
        "        model.fit(X_train, y_train) \n",
        "        \n",
        "        y_pred = model.predict(X_val)\n",
        "        f1 = f1_score(y_val, y_pred)\n",
        "        f1_scores.append(f1)\n",
        "        recall = recall_score(y_val, y_pred)\n",
        "        recall_scores.append(recall)\n",
        "        \n",
        "    return f1_scores, recall_scores, model"
      ],
      "execution_count": null,
      "outputs": []
    },
    {
      "cell_type": "markdown",
      "metadata": {
        "id": "31lbxdCN31pN"
      },
      "source": [
        "# Run Model "
      ]
    },
    {
      "cell_type": "code",
      "metadata": {
        "id": "4VXjA8mV35MS"
      },
      "source": [
        "def run_model(input_model, X_train, X_test, y_train, y_test):\n",
        "    model = input_model\n",
        "    model.fit(X_train, y_train)\n",
        "\n",
        "    y_pred = model.predict(X_test)\n",
        "    evaluate_on_training_set(y_test, y_pred)\n",
        "    \n",
        "    return model"
      ],
      "execution_count": null,
      "outputs": []
    },
    {
      "cell_type": "code",
      "metadata": {
        "id": "je6Ea3MS6H_o"
      },
      "source": [
        "# For k-cross\n",
        "\n",
        "def run_kcross_model(input_model, X_test, y_test):\n",
        "    y_pred = input_model.predict(X_test)\n",
        "    evaluate_on_training_set(y_test, y_pred)\n",
        "    return input_model"
      ],
      "execution_count": null,
      "outputs": []
    },
    {
      "cell_type": "markdown",
      "metadata": {
        "id": "0MMlumOq377E"
      },
      "source": [
        "# Training Models\n",
        "\n",
        "For each method, the normal, undersampling and oversampling methods were used. "
      ]
    },
    {
      "cell_type": "markdown",
      "metadata": {
        "id": "VJrhTVTC0k7s"
      },
      "source": [
        "## Decision Tree Model"
      ]
    },
    {
      "cell_type": "code",
      "metadata": {
        "id": "jNeFUUIx0mt6"
      },
      "source": [
        "def find_best_tree_model(upper_depth, upper_leaf, X_train, y_train):\n",
        "    best_f1_model = None\n",
        "    best_f1 = -1\n",
        "    best_recall = -1\n",
        "    \n",
        "    for depth in range(1, upper_depth + 1):\n",
        "        for leaf in range(1, upper_leaf + 1):\n",
        "            model = DecisionTreeClassifier(random_state=RANDOM_STATE, max_depth=depth, min_samples_leaf=leaf) \n",
        "            \n",
        "            f1_scores, recall_scores, model = k_cross(model, X_train, y_train)\n",
        "            f1 = np.mean(f1_scores)\n",
        "            recall = np.mean(recall_scores)\n",
        "            \n",
        "            if f1 > best_f1:\n",
        "                best_f1 = f1\n",
        "                best_recall = recall\n",
        "                best_f1_model = model\n",
        "    \n",
        "    print(f\"best scores: f1 = {best_f1}, recall = {best_recall}\")\n",
        "    \n",
        "    return best_f1_model"
      ],
      "execution_count": null,
      "outputs": []
    },
    {
      "cell_type": "code",
      "metadata": {
        "colab": {
          "base_uri": "https://localhost:8080/"
        },
        "id": "D3f2y5LM0nfQ",
        "outputId": "413dd075-772d-4d03-879d-e8cebf52fd04"
      },
      "source": [
        "best_tree_f1_model = find_best_tree_model(20, 30, X_train, y_train)"
      ],
      "execution_count": 56,
      "outputs": [
        {
          "output_type": "stream",
          "text": [
            "best scores: f1 = 0.48364911256215604, recall = 0.5783799533799534\n"
          ],
          "name": "stdout"
        }
      ]
    },
    {
      "cell_type": "code",
      "metadata": {
        "colab": {
          "base_uri": "https://localhost:8080/"
        },
        "id": "8q2RWBiO02GH",
        "outputId": "2323ae9f-9c75-446a-8a92-72f2f853322e"
      },
      "source": [
        "best_tree_f1_model = find_best_tree_model(20, 30, xu_train, yu_train)"
      ],
      "execution_count": 58,
      "outputs": [
        {
          "output_type": "stream",
          "text": [
            "best scores: f1 = 0.6121386717782599, recall = 0.642296361046361\n"
          ],
          "name": "stdout"
        }
      ]
    },
    {
      "cell_type": "markdown",
      "metadata": {
        "id": "Kyjo10eX0-ON"
      },
      "source": [
        "## Random Forest Model "
      ]
    },
    {
      "cell_type": "code",
      "metadata": {
        "id": "-q80xu7Y1AFG"
      },
      "source": [
        "def find_best_forest_model(n_estimators, X_train, y_train):\n",
        "    best_f1_model = None\n",
        "    best_f1 = -1\n",
        "    best_recall = -1\n",
        "    best_estimator = 0\n",
        "    \n",
        "    for estimator in range(1, n_estimators + 1):\n",
        "        model = RandomForestClassifier(random_state=RANDOM_STATE, n_estimators=estimator) \n",
        "        \n",
        "        f1_scores, recall_scores, model = k_cross(model, X_train, y_train)\n",
        "        f1 = np.mean(f1_scores)\n",
        "        recall = np.mean(recall_scores)\n",
        "\n",
        "        if f1 > best_f1:\n",
        "            best_f1 = f1\n",
        "            best_recall = recall\n",
        "            best_f1_model = model\n",
        "            best_estimator = estimator\n",
        "    \n",
        "    print(f\"best scores: f1 = {best_f1}, recall = {best_recall}, best estimator = {best_estimator}\")\n",
        "    \n",
        "    return best_f1_model\n"
      ],
      "execution_count": 59,
      "outputs": []
    },
    {
      "cell_type": "code",
      "metadata": {
        "colab": {
          "base_uri": "https://localhost:8080/"
        },
        "id": "yxiXZc-c1Gty",
        "outputId": "a47fa94b-3c31-4867-a171-92864a3d0eab"
      },
      "source": [
        "best_forest_f1_model = find_best_forest_model(30, X_train, y_train)\n"
      ],
      "execution_count": 60,
      "outputs": [
        {
          "output_type": "stream",
          "text": [
            "best scores: f1 = 0.3446242475847739, recall = 0.30477046102046107, best estimator = 1\n"
          ],
          "name": "stdout"
        }
      ]
    },
    {
      "cell_type": "code",
      "metadata": {
        "colab": {
          "base_uri": "https://localhost:8080/"
        },
        "id": "3SFQi5We1JIB",
        "outputId": "3cece14e-3572-42c1-fb69-823ce0087a95"
      },
      "source": [
        "best_forest_f1_model = find_best_forest_model(30, xu_train, yu_train)\n"
      ],
      "execution_count": 61,
      "outputs": [
        {
          "output_type": "stream",
          "text": [
            "best scores: f1 = 0.5502239226152269, recall = 0.5859281921781921, best estimator = 1\n"
          ],
          "name": "stdout"
        }
      ]
    },
    {
      "cell_type": "markdown",
      "metadata": {
        "id": "LPy_fE70Ky5y"
      },
      "source": [
        "## Logistic Regression "
      ]
    },
    {
      "cell_type": "code",
      "metadata": {
        "id": "x9bWohwZK4CX"
      },
      "source": [
        "from sklearn.linear_model import LogisticRegression\n",
        "\n",
        "def find_best_logreg_model(power, X_train, y_train):\n",
        "    best_f1_model = None\n",
        "    best_f1 = -1\n",
        "    best_recall = -1\n",
        "    best_i = 0\n",
        "    \n",
        "    for i in range(power + 1):\n",
        "        model = LogisticRegression(n_jobs=3, C=10**i)\n",
        "        \n",
        "        f1_scores, recall_scores, model_kcross = k_cross(model, X_train, y_train)\n",
        "        f1 = np.mean(f1_scores)\n",
        "        recall = np.mean(recall_scores)\n",
        "\n",
        "        if f1 > best_f1:\n",
        "            best_f1 = f1\n",
        "            best_recall = recall\n",
        "            best_f1_model = model\n",
        "            best_i = i \n",
        "    \n",
        "    print(f\"best scores: f1 = {best_f1}, recall = {best_recall}, i = {best_i}\")\n",
        "    \n",
        "    return best_f1_model"
      ],
      "execution_count": 62,
      "outputs": []
    },
    {
      "cell_type": "code",
      "metadata": {
        "id": "P1-CZMHFLtam",
        "colab": {
          "base_uri": "https://localhost:8080/"
        },
        "outputId": "2fa1ef01-2160-499a-dc71-f5ee85010b15"
      },
      "source": [
        "best_logreg_f1_model = find_best_logreg_model(6, X_train, y_train)\n"
      ],
      "execution_count": 65,
      "outputs": [
        {
          "output_type": "stream",
          "text": [
            "best scores: f1 = 0.3988196988196988, recall = 0.30793512043512045, i = 6\n"
          ],
          "name": "stdout"
        }
      ]
    },
    {
      "cell_type": "code",
      "metadata": {
        "id": "z485vs9VL5x7",
        "colab": {
          "base_uri": "https://localhost:8080/"
        },
        "outputId": "6e192bb0-8d3d-4675-dc81-0bf0654778b0"
      },
      "source": [
        "best_logreg_f1_model = find_best_logreg_model(6, xu_train, y_train)\n"
      ],
      "execution_count": 64,
      "outputs": [
        {
          "output_type": "stream",
          "text": [
            "best scores: f1 = 0.11857031857031858, recall = 0.08908730158730159, i = 4\n"
          ],
          "name": "stdout"
        }
      ]
    },
    {
      "cell_type": "markdown",
      "metadata": {
        "id": "_T6jYkydN1wJ"
      },
      "source": [
        "## SVM with Grid Search"
      ]
    },
    {
      "cell_type": "code",
      "metadata": {
        "id": "UqUaQljjN99w"
      },
      "source": [
        "from sklearn.model_selection import GridSearchCV\n",
        "tuned_parameters = [{'kernel': ['rbf'], 'gamma': [1e-3, 1e-4], 'C': [1, 10, 100]},\n",
        "                    {'kernel': ['poly'], 'degree': [3, 4, 5], 'C': [1, 10, 100]},\n",
        "                    {'kernel': ['linear'], 'C': [1, 10, 100]}]\n",
        "\n",
        "svm_model_cv = GridSearchCV(SVC(), tuned_parameters, cv=10, scoring='f1', verbose=1, n_jobs=4)\n"
      ],
      "execution_count": 66,
      "outputs": []
    },
    {
      "cell_type": "code",
      "metadata": {
        "id": "yduSss6COZq-",
        "colab": {
          "base_uri": "https://localhost:8080/"
        },
        "outputId": "c421fa49-1c95-473b-e1ab-67606ec29eb9"
      },
      "source": [
        "print(\"NORMAL\")\n",
        "f1_scores, recall_scores, model_kcross = k_cross(svm_model_cv, X_train, y_train)\n",
        "\n",
        "print(f\"f1 mean score: {np.mean(f1_scores)}, recall score: {np.mean(recall_scores)}\")\n",
        "\n",
        "print(f\"Best SVM parameters: {best_svm_model.best_params_}\")"
      ],
      "execution_count": 67,
      "outputs": [
        {
          "output_type": "stream",
          "text": [
            "NORMAL\n",
            "Fitting 10 folds for each of 18 candidates, totalling 180 fits\n"
          ],
          "name": "stdout"
        },
        {
          "output_type": "stream",
          "text": [
            "[Parallel(n_jobs=4)]: Using backend LokyBackend with 4 concurrent workers.\n",
            "[Parallel(n_jobs=4)]: Done  42 tasks      | elapsed:    3.6s\n",
            "[Parallel(n_jobs=4)]: Done 180 out of 180 | elapsed:   16.2s finished\n"
          ],
          "name": "stderr"
        },
        {
          "output_type": "stream",
          "text": [
            "Fitting 10 folds for each of 18 candidates, totalling 180 fits\n"
          ],
          "name": "stdout"
        },
        {
          "output_type": "stream",
          "text": [
            "[Parallel(n_jobs=4)]: Using backend LokyBackend with 4 concurrent workers.\n",
            "[Parallel(n_jobs=4)]: Done  76 tasks      | elapsed:    6.3s\n",
            "[Parallel(n_jobs=4)]: Done 180 out of 180 | elapsed:   15.5s finished\n"
          ],
          "name": "stderr"
        },
        {
          "output_type": "stream",
          "text": [
            "Fitting 10 folds for each of 18 candidates, totalling 180 fits\n"
          ],
          "name": "stdout"
        },
        {
          "output_type": "stream",
          "text": [
            "[Parallel(n_jobs=4)]: Using backend LokyBackend with 4 concurrent workers.\n",
            "[Parallel(n_jobs=4)]: Done  42 tasks      | elapsed:    3.3s\n",
            "[Parallel(n_jobs=4)]: Done 180 out of 180 | elapsed:   16.0s finished\n"
          ],
          "name": "stderr"
        },
        {
          "output_type": "stream",
          "text": [
            "Fitting 10 folds for each of 18 candidates, totalling 180 fits\n"
          ],
          "name": "stdout"
        },
        {
          "output_type": "stream",
          "text": [
            "[Parallel(n_jobs=4)]: Using backend LokyBackend with 4 concurrent workers.\n",
            "[Parallel(n_jobs=4)]: Done  76 tasks      | elapsed:    6.4s\n",
            "[Parallel(n_jobs=4)]: Done 180 out of 180 | elapsed:   15.7s finished\n"
          ],
          "name": "stderr"
        },
        {
          "output_type": "stream",
          "text": [
            "Fitting 10 folds for each of 18 candidates, totalling 180 fits\n"
          ],
          "name": "stdout"
        },
        {
          "output_type": "stream",
          "text": [
            "[Parallel(n_jobs=4)]: Using backend LokyBackend with 4 concurrent workers.\n",
            "[Parallel(n_jobs=4)]: Done  76 tasks      | elapsed:    6.3s\n",
            "[Parallel(n_jobs=4)]: Done 180 out of 180 | elapsed:   15.5s finished\n"
          ],
          "name": "stderr"
        },
        {
          "output_type": "stream",
          "text": [
            "Fitting 10 folds for each of 18 candidates, totalling 180 fits\n"
          ],
          "name": "stdout"
        },
        {
          "output_type": "stream",
          "text": [
            "[Parallel(n_jobs=4)]: Using backend LokyBackend with 4 concurrent workers.\n",
            "[Parallel(n_jobs=4)]: Done  76 tasks      | elapsed:    6.4s\n",
            "[Parallel(n_jobs=4)]: Done 180 out of 180 | elapsed:   15.7s finished\n"
          ],
          "name": "stderr"
        },
        {
          "output_type": "stream",
          "text": [
            "Fitting 10 folds for each of 18 candidates, totalling 180 fits\n"
          ],
          "name": "stdout"
        },
        {
          "output_type": "stream",
          "text": [
            "[Parallel(n_jobs=4)]: Using backend LokyBackend with 4 concurrent workers.\n",
            "[Parallel(n_jobs=4)]: Done  76 tasks      | elapsed:    6.4s\n",
            "[Parallel(n_jobs=4)]: Done 173 out of 180 | elapsed:   15.2s remaining:    0.6s\n",
            "[Parallel(n_jobs=4)]: Done 180 out of 180 | elapsed:   15.5s finished\n"
          ],
          "name": "stderr"
        },
        {
          "output_type": "stream",
          "text": [
            "Fitting 10 folds for each of 18 candidates, totalling 180 fits\n"
          ],
          "name": "stdout"
        },
        {
          "output_type": "stream",
          "text": [
            "[Parallel(n_jobs=4)]: Using backend LokyBackend with 4 concurrent workers.\n",
            "[Parallel(n_jobs=4)]: Done  42 tasks      | elapsed:    3.2s\n",
            "[Parallel(n_jobs=4)]: Done 180 out of 180 | elapsed:   15.7s finished\n"
          ],
          "name": "stderr"
        },
        {
          "output_type": "stream",
          "text": [
            "Fitting 10 folds for each of 18 candidates, totalling 180 fits\n"
          ],
          "name": "stdout"
        },
        {
          "output_type": "stream",
          "text": [
            "[Parallel(n_jobs=4)]: Using backend LokyBackend with 4 concurrent workers.\n",
            "[Parallel(n_jobs=4)]: Done  42 tasks      | elapsed:    3.2s\n",
            "[Parallel(n_jobs=4)]: Done 180 out of 180 | elapsed:   15.7s finished\n"
          ],
          "name": "stderr"
        },
        {
          "output_type": "stream",
          "text": [
            "Fitting 10 folds for each of 18 candidates, totalling 180 fits\n"
          ],
          "name": "stdout"
        },
        {
          "output_type": "stream",
          "text": [
            "[Parallel(n_jobs=4)]: Using backend LokyBackend with 4 concurrent workers.\n",
            "[Parallel(n_jobs=4)]: Done  42 tasks      | elapsed:    3.4s\n",
            "[Parallel(n_jobs=4)]: Done 180 out of 180 | elapsed:   16.0s finished\n"
          ],
          "name": "stderr"
        },
        {
          "output_type": "stream",
          "text": [
            "Fitting 10 folds for each of 18 candidates, totalling 180 fits\n"
          ],
          "name": "stdout"
        },
        {
          "output_type": "stream",
          "text": [
            "[Parallel(n_jobs=4)]: Using backend LokyBackend with 4 concurrent workers.\n",
            "[Parallel(n_jobs=4)]: Done  42 tasks      | elapsed:    3.0s\n",
            "[Parallel(n_jobs=4)]: Done 180 out of 180 | elapsed:   15.6s finished\n"
          ],
          "name": "stderr"
        },
        {
          "output_type": "stream",
          "text": [
            "Fitting 10 folds for each of 18 candidates, totalling 180 fits\n"
          ],
          "name": "stdout"
        },
        {
          "output_type": "stream",
          "text": [
            "[Parallel(n_jobs=4)]: Using backend LokyBackend with 4 concurrent workers.\n",
            "[Parallel(n_jobs=4)]: Done  76 tasks      | elapsed:    6.6s\n",
            "[Parallel(n_jobs=4)]: Done 173 out of 180 | elapsed:   15.4s remaining:    0.6s\n",
            "[Parallel(n_jobs=4)]: Done 180 out of 180 | elapsed:   15.7s finished\n"
          ],
          "name": "stderr"
        },
        {
          "output_type": "stream",
          "text": [
            "f1 mean score: 0.40177538964303666, recall score: 0.31531662781662784\n",
            "Best SVM parameters: {'C': 10, 'kernel': 'linear'}\n"
          ],
          "name": "stdout"
        }
      ]
    },
    {
      "cell_type": "code",
      "metadata": {
        "id": "1Vn_UYUPOb2C",
        "colab": {
          "base_uri": "https://localhost:8080/"
        },
        "outputId": "d535a99e-dca2-40c7-f76b-e766919656f9"
      },
      "source": [
        "print(\"UNDERSAMPLE\")\n",
        "svm_model_cv = GridSearchCV(SVC(), tuned_parameters, cv=10, scoring='f1', verbose=1, n_jobs=4)\n",
        "f1_scores, recall_scores, model_kcross = k_cross(svm_model_cv, xu_train, yu_train)\n",
        "\n",
        "print(f\"f1 mean score: {np.mean(f1_scores)}, recall score: {np.mean(recall_scores)}\")\n",
        "\n",
        "print(f\"Best SVM parameters: {best_svm_model.best_params_}\")"
      ],
      "execution_count": 68,
      "outputs": [
        {
          "output_type": "stream",
          "text": [
            "UNDERSAMPLE\n",
            "Fitting 10 folds for each of 18 candidates, totalling 180 fits\n"
          ],
          "name": "stdout"
        },
        {
          "output_type": "stream",
          "text": [
            "[Parallel(n_jobs=4)]: Using backend LokyBackend with 4 concurrent workers.\n",
            "[Parallel(n_jobs=4)]: Done  76 tasks      | elapsed:    2.7s\n",
            "[Parallel(n_jobs=4)]: Done 173 out of 180 | elapsed:    6.2s remaining:    0.2s\n",
            "[Parallel(n_jobs=4)]: Done 180 out of 180 | elapsed:    6.3s finished\n"
          ],
          "name": "stderr"
        },
        {
          "output_type": "stream",
          "text": [
            "Fitting 10 folds for each of 18 candidates, totalling 180 fits\n"
          ],
          "name": "stdout"
        },
        {
          "output_type": "stream",
          "text": [
            "[Parallel(n_jobs=4)]: Using backend LokyBackend with 4 concurrent workers.\n",
            "[Parallel(n_jobs=4)]: Done  76 tasks      | elapsed:    2.8s\n",
            "[Parallel(n_jobs=4)]: Done 180 out of 180 | elapsed:    6.3s finished\n",
            "[Parallel(n_jobs=4)]: Using backend LokyBackend with 4 concurrent workers.\n"
          ],
          "name": "stderr"
        },
        {
          "output_type": "stream",
          "text": [
            "Fitting 10 folds for each of 18 candidates, totalling 180 fits\n"
          ],
          "name": "stdout"
        },
        {
          "output_type": "stream",
          "text": [
            "[Parallel(n_jobs=4)]: Done  76 tasks      | elapsed:    2.8s\n",
            "[Parallel(n_jobs=4)]: Done 180 out of 180 | elapsed:    6.4s finished\n",
            "[Parallel(n_jobs=4)]: Using backend LokyBackend with 4 concurrent workers.\n"
          ],
          "name": "stderr"
        },
        {
          "output_type": "stream",
          "text": [
            "Fitting 10 folds for each of 18 candidates, totalling 180 fits\n"
          ],
          "name": "stdout"
        },
        {
          "output_type": "stream",
          "text": [
            "[Parallel(n_jobs=4)]: Done  76 tasks      | elapsed:    2.8s\n",
            "[Parallel(n_jobs=4)]: Done 180 out of 180 | elapsed:    6.4s finished\n",
            "[Parallel(n_jobs=4)]: Using backend LokyBackend with 4 concurrent workers.\n"
          ],
          "name": "stderr"
        },
        {
          "output_type": "stream",
          "text": [
            "Fitting 10 folds for each of 18 candidates, totalling 180 fits\n"
          ],
          "name": "stdout"
        },
        {
          "output_type": "stream",
          "text": [
            "[Parallel(n_jobs=4)]: Done  76 tasks      | elapsed:    2.8s\n",
            "[Parallel(n_jobs=4)]: Done 180 out of 180 | elapsed:    6.3s finished\n",
            "[Parallel(n_jobs=4)]: Using backend LokyBackend with 4 concurrent workers.\n"
          ],
          "name": "stderr"
        },
        {
          "output_type": "stream",
          "text": [
            "Fitting 10 folds for each of 18 candidates, totalling 180 fits\n"
          ],
          "name": "stdout"
        },
        {
          "output_type": "stream",
          "text": [
            "[Parallel(n_jobs=4)]: Done  76 tasks      | elapsed:    2.7s\n",
            "[Parallel(n_jobs=4)]: Done 180 out of 180 | elapsed:    6.3s finished\n",
            "[Parallel(n_jobs=4)]: Using backend LokyBackend with 4 concurrent workers.\n"
          ],
          "name": "stderr"
        },
        {
          "output_type": "stream",
          "text": [
            "Fitting 10 folds for each of 18 candidates, totalling 180 fits\n"
          ],
          "name": "stdout"
        },
        {
          "output_type": "stream",
          "text": [
            "[Parallel(n_jobs=4)]: Done  76 tasks      | elapsed:    2.8s\n",
            "[Parallel(n_jobs=4)]: Done 180 out of 180 | elapsed:    6.4s finished\n",
            "[Parallel(n_jobs=4)]: Using backend LokyBackend with 4 concurrent workers.\n"
          ],
          "name": "stderr"
        },
        {
          "output_type": "stream",
          "text": [
            "Fitting 10 folds for each of 18 candidates, totalling 180 fits\n"
          ],
          "name": "stdout"
        },
        {
          "output_type": "stream",
          "text": [
            "[Parallel(n_jobs=4)]: Done  76 tasks      | elapsed:    2.8s\n",
            "[Parallel(n_jobs=4)]: Done 180 out of 180 | elapsed:    6.5s finished\n",
            "[Parallel(n_jobs=4)]: Using backend LokyBackend with 4 concurrent workers.\n"
          ],
          "name": "stderr"
        },
        {
          "output_type": "stream",
          "text": [
            "Fitting 10 folds for each of 18 candidates, totalling 180 fits\n"
          ],
          "name": "stdout"
        },
        {
          "output_type": "stream",
          "text": [
            "[Parallel(n_jobs=4)]: Done  76 tasks      | elapsed:    2.8s\n",
            "[Parallel(n_jobs=4)]: Done 173 out of 180 | elapsed:    6.2s remaining:    0.3s\n",
            "[Parallel(n_jobs=4)]: Done 180 out of 180 | elapsed:    6.4s finished\n"
          ],
          "name": "stderr"
        },
        {
          "output_type": "stream",
          "text": [
            "Fitting 10 folds for each of 18 candidates, totalling 180 fits\n"
          ],
          "name": "stdout"
        },
        {
          "output_type": "stream",
          "text": [
            "[Parallel(n_jobs=4)]: Using backend LokyBackend with 4 concurrent workers.\n",
            "[Parallel(n_jobs=4)]: Done  76 tasks      | elapsed:    2.7s\n",
            "[Parallel(n_jobs=4)]: Done 173 out of 180 | elapsed:    6.2s remaining:    0.3s\n",
            "[Parallel(n_jobs=4)]: Done 180 out of 180 | elapsed:    6.3s finished\n"
          ],
          "name": "stderr"
        },
        {
          "output_type": "stream",
          "text": [
            "Fitting 10 folds for each of 18 candidates, totalling 180 fits\n"
          ],
          "name": "stdout"
        },
        {
          "output_type": "stream",
          "text": [
            "[Parallel(n_jobs=4)]: Using backend LokyBackend with 4 concurrent workers.\n",
            "[Parallel(n_jobs=4)]: Done  76 tasks      | elapsed:    2.8s\n",
            "[Parallel(n_jobs=4)]: Done 180 out of 180 | elapsed:    6.5s finished\n",
            "[Parallel(n_jobs=4)]: Using backend LokyBackend with 4 concurrent workers.\n"
          ],
          "name": "stderr"
        },
        {
          "output_type": "stream",
          "text": [
            "Fitting 10 folds for each of 18 candidates, totalling 180 fits\n"
          ],
          "name": "stdout"
        },
        {
          "output_type": "stream",
          "text": [
            "[Parallel(n_jobs=4)]: Done  76 tasks      | elapsed:    2.8s\n"
          ],
          "name": "stderr"
        },
        {
          "output_type": "stream",
          "text": [
            "f1 mean score: 0.6976909362778927, recall score: 0.7123850686350686\n",
            "Best SVM parameters: {'C': 10, 'kernel': 'linear'}\n"
          ],
          "name": "stdout"
        },
        {
          "output_type": "stream",
          "text": [
            "[Parallel(n_jobs=4)]: Done 180 out of 180 | elapsed:    6.5s finished\n"
          ],
          "name": "stderr"
        }
      ]
    }
  ]
}