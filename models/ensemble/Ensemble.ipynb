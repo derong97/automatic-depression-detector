{
 "cells": [
  {
   "cell_type": "code",
   "execution_count": 683,
   "metadata": {},
   "outputs": [],
   "source": [
    "from sklearn.model_selection import RepeatedKFold"
   ]
  },
  {
   "cell_type": "code",
   "execution_count": 684,
   "metadata": {},
   "outputs": [],
   "source": [
    "import numpy as np \n",
    "import pandas as pd\n",
    "from sklearn.model_selection import train_test_split\n",
    "from sklearn.feature_extraction.text import CountVectorizer\n",
    "from sklearn.tree import DecisionTreeClassifier\n",
    "from sklearn.ensemble import RandomForestClassifier, BaggingClassifier, AdaBoostClassifier, VotingClassifier\n",
    "from sklearn.linear_model import LogisticRegression\n",
    "from sklearn.svm import SVC\n",
    "from sklearn.naive_bayes import MultinomialNB"
   ]
  },
  {
   "cell_type": "code",
   "execution_count": 685,
   "metadata": {},
   "outputs": [],
   "source": [
    "from sklearn.metrics import classification_report, confusion_matrix, roc_curve, roc_auc_score, \\\n",
    "        f1_score, precision_score, recall_score\n",
    "import matplotlib.pyplot as plt\n",
    "from sklearn.base import clone"
   ]
  },
  {
   "cell_type": "code",
   "execution_count": 686,
   "metadata": {},
   "outputs": [],
   "source": [
    "RANDOM_STATE=42"
   ]
  },
  {
   "cell_type": "markdown",
   "metadata": {},
   "source": [
    "# Loading Datasets"
   ]
  },
  {
   "cell_type": "markdown",
   "metadata": {},
   "source": [
    "y_train and y_test is the same for all datasets"
   ]
  },
  {
   "cell_type": "code",
   "execution_count": 687,
   "metadata": {},
   "outputs": [],
   "source": [
    "y_test = np.load(\"y_test_bow.npy\")\n",
    "y_train = np.load(\"y_train_bow.npy\")"
   ]
  },
  {
   "cell_type": "code",
   "execution_count": 688,
   "metadata": {},
   "outputs": [
    {
     "name": "stdout",
     "output_type": "stream",
     "text": [
      "(45,)\n"
     ]
    }
   ],
   "source": [
    "print(y_test.shape)"
   ]
  },
  {
   "cell_type": "markdown",
   "metadata": {},
   "source": [
    "Transcript BOW"
   ]
  },
  {
   "cell_type": "code",
   "execution_count": 689,
   "metadata": {},
   "outputs": [],
   "source": [
    "X_train_bow = np.load(\"X_train_bow.npy\")\n",
    "X_test_bow = np.load(\"X_test_bow.npy\")"
   ]
  },
  {
   "cell_type": "markdown",
   "metadata": {},
   "source": [
    "Mean word2vec"
   ]
  },
  {
   "cell_type": "code",
   "execution_count": 690,
   "metadata": {},
   "outputs": [],
   "source": [
    "X_train_w = np.load(\"X_train_mean_w2v.npy\")\n",
    "X_test_w = np.load(\"X_test_mean_w2v.npy\")"
   ]
  },
  {
   "cell_type": "markdown",
   "metadata": {},
   "source": [
    "Doc2vec"
   ]
  },
  {
   "cell_type": "code",
   "execution_count": 691,
   "metadata": {},
   "outputs": [],
   "source": [
    "X_train_d = np.load(\"X_train_doc2vec.npy\")\n",
    "X_test_d = np.load(\"X_test_doc2vec.npy\")"
   ]
  },
  {
   "cell_type": "markdown",
   "metadata": {},
   "source": [
    "Tfidf"
   ]
  },
  {
   "cell_type": "code",
   "execution_count": 692,
   "metadata": {},
   "outputs": [],
   "source": [
    "X_train_tf = np.load(\"X_train_tfidf.npy\")\n",
    "X_test_tf = np.load(\"X_test_tfidf.npy\")"
   ]
  },
  {
   "cell_type": "markdown",
   "metadata": {},
   "source": [
    "Pronouns"
   ]
  },
  {
   "cell_type": "code",
   "execution_count": 693,
   "metadata": {},
   "outputs": [],
   "source": [
    "X_train_p = np.load(\"X_train_pronoun.npy\", allow_pickle = True)\n",
    "X_test_p = np.load(\"X_test_pronoun.npy\", allow_pickle = True)"
   ]
  },
  {
   "cell_type": "markdown",
   "metadata": {},
   "source": [
    "Gaze features"
   ]
  },
  {
   "cell_type": "code",
   "execution_count": 694,
   "metadata": {},
   "outputs": [],
   "source": [
    "# f0\n",
    "X_train_g0 = np.load(\"X_train_g0.npy\")\n",
    "X_test_g0 = np.load(\"X_test_g0.npy\")\n",
    "\n",
    "# f1\n",
    "X_train_g1 = np.load(\"X_train_g1.npy\")\n",
    "X_test_g1 = np.load(\"X_test_g1.npy\")\n",
    "\n",
    "# fh0\n",
    "X_train_gh0 = np.load(\"X_train_gh0.npy\")\n",
    "X_test_gh0 = np.load(\"X_test_gh0.npy\")\n",
    "\n",
    "# fh1\n",
    "X_train_gh1 = np.load(\"X_train_gh1.npy\")\n",
    "X_test_gh1 = np.load(\"X_test_gh1.npy\")\n",
    "\n",
    "# f01\n",
    "X_train_g01 = np.load(\"X_train_g01.npy\")\n",
    "X_test_g01 = np.load(\"X_test_g01.npy\")\n",
    "\n",
    "# fh0h1\n",
    "X_train_gh0h1 = np.load(\"X_train_gh0h1.npy\")\n",
    "X_test_gh0h1 = np.load(\"X_test_gh0h1.npy\")"
   ]
  },
  {
   "cell_type": "markdown",
   "metadata": {},
   "source": [
    "# Evaluation"
   ]
  },
  {
   "cell_type": "code",
   "execution_count": 695,
   "metadata": {},
   "outputs": [],
   "source": [
    "def evaluate_on_training_set(y_test, y_pred):\n",
    "    # Calculate AUC\n",
    "    print(\"AUC is: \", roc_auc_score(y_test, y_pred))\n",
    "\n",
    "    # print out recall and precision\n",
    "    print(classification_report(y_test, y_pred))\n",
    "\n",
    "    # print out confusion matrix\n",
    "    print(\"Confusion Matrix: \\n\", confusion_matrix(y_test, y_pred))\n",
    "\n",
    "    # # calculate points for ROC curve\n",
    "    fpr, tpr, thresholds = roc_curve(y_test, y_pred)\n",
    "\n",
    "    # Plot ROC curve\n",
    "    plt.plot(fpr, tpr, label='ROC curve (area = %0.3f)' % roc_auc_score(y_test, y_pred))\n",
    "    plt.plot([0, 1], [0, 1], 'k--')\n",
    "    plt.ylim([0.0, 1.0])\n",
    "    plt.xlabel('False Positive Rate')\n",
    "    plt.ylabel('True Positive Rate')\n",
    "    plt.title('Receiver Operating Characteristic')"
   ]
  },
  {
   "cell_type": "markdown",
   "metadata": {},
   "source": [
    "# Custom Ensemble"
   ]
  },
  {
   "cell_type": "code",
   "execution_count": 708,
   "metadata": {},
   "outputs": [],
   "source": [
    "class Ensemble:\n",
    "    def __init__(self):\n",
    "        self.clf = []\n",
    "        self.X_train = []\n",
    "        self.X_test = []\n",
    "        self.y_train = None\n",
    "        self.y_test = None\n",
    "        \n",
    "    def set_clf(self, ls_clf):\n",
    "        self.clf = ls_clf\n",
    "    \n",
    "    def set_train_test(self, ls_train, ls_test, y_train, y_test):\n",
    "        self.X_train = ls_train\n",
    "        self.X_test = ls_test\n",
    "        self.y_train = y_train\n",
    "        self.y_test = y_test\n",
    "        \n",
    "    def train_ens(self):\n",
    "        for i in range(len(self.clf)):\n",
    "            c_i = self.clf[i]\n",
    "            X_train_i = self.X_train[i]\n",
    "            y_train_i = self.y_train\n",
    "            c_i.fit(X_train_i, y_train_i)\n",
    "            self.clf[i] = c_i\n",
    "    \n",
    "    def pred_proba(self, ls_X):\n",
    "        probas = []\n",
    "        for i in range(len(self.clf)):\n",
    "            c_i = self.clf[i]\n",
    "            probas.append(c_i.predict_proba(ls_X[i]))\n",
    "        probas = np.array(probas)\n",
    "        probas = np.mean(probas, axis=0)\n",
    "        return probas\n",
    "    \n",
    "    def pred_ens(self, ls_X):\n",
    "\n",
    "        probas = self.pred_proba(ls_X)\n",
    "        label = np.argmax(probas)\n",
    "        return label\n",
    "    \n",
    "    def evaluate_ens(self):\n",
    "        predictions = []       \n",
    "        for i in range(len(self.y_test)):\n",
    "            ls_X = []\n",
    "            for j in range(len(self.clf)):\n",
    "                ls_X.append(self.X_test[j][i:i+1][:])\n",
    "            predictions.append(self.pred_ens(ls_X))\n",
    "        predictions = np.array(predictions)\n",
    "        print(predictions)\n",
    "        print(self.y_test)\n",
    "        \n",
    "        evaluate_on_training_set(self.y_test, predictions)\n",
    "        \n",
    "    def ens_kcross(self, k=4, n=3, random_state=RANDOM_STATE):\n",
    "        f1_scores = []\n",
    "        recall_scores = []\n",
    "        rkf = RepeatedKFold(n_splits=k, n_repeats=n, random_state=random_state)\n",
    "        X = self.X_train[0]\n",
    "        \n",
    "        models = clone(self.clf)\n",
    "                \n",
    "        for train_index, val_index in rkf.split(X):\n",
    "            \n",
    "            X_val_ls = []\n",
    "            \n",
    "            for i in range(len(self.clf)):\n",
    "                \n",
    "                model = self.clf[i]\n",
    "                \n",
    "                X = self.X_train[i]\n",
    "                y = self.y_train\n",
    "                \n",
    "                X_train, X_val = X[train_index], X[val_index]\n",
    "                y_train, y_val = y[train_index], y[val_index]\n",
    "\n",
    "                model.fit(X_train, y_train) \n",
    "                \n",
    "                X_val_ls.append(X_val)\n",
    "                \n",
    "            \n",
    "                \n",
    "            predictions = []       \n",
    "            for i in range(len(y_val)):\n",
    "                ls_X = []\n",
    "                for j in range(len(self.clf)):\n",
    "                    ls_X.append(np.array([X_val_ls[j][i]]))\n",
    "                pred = self.pred_ens(ls_X)\n",
    "                predictions.append(pred)\n",
    "            predictions = np.array(predictions)\n",
    "            \n",
    "            f1 = f1_score(y_val, predictions)\n",
    "            f1_scores.append(f1)\n",
    "            recall = recall_score(y_val, predictions)\n",
    "            recall_scores.append(recall)\n",
    "            \n",
    "            self.clf = models\n",
    "\n",
    "        return f1_scores, recall_scores\n",
    "    \n",
    "        "
   ]
  },
  {
   "cell_type": "code",
   "execution_count": 843,
   "metadata": {},
   "outputs": [],
   "source": [
    "# Set the models with best parameters\n",
    "clf_b1 = LogisticRegression(C=1000000)\n",
    "clf_b2 = DecisionTreeClassifier(random_state=RANDOM_STATE, max_depth=1, min_samples_leaf=13)\n",
    "clf_b3 = RandomForestClassifier(random_state=RANDOM_STATE, n_estimators=23) \n",
    "clf_w1 = LogisticRegression(C=100)\n",
    "clf_w2 = DecisionTreeClassifier(random_state=RANDOM_STATE, max_depth=1)\n",
    "clf_w3 = SVC(C= 10, kernel ='linear', probability=True)\n",
    "clf_tf = SVC(C= 10, kernel ='linear', probability=True)\n",
    "clf_p = DecisionTreeClassifier(ccp_alpha=0.0, class_weight=None, criterion='gini',\n",
    "                       max_depth=1, max_features=None, max_leaf_nodes=None,\n",
    "                       min_impurity_decrease=0.0, min_impurity_split=None,\n",
    "                       min_samples_leaf=23, min_samples_split=2,\n",
    "                       min_weight_fraction_leaf=0.0, presort='deprecated',\n",
    "                       random_state=42, splitter='best')\n",
    "clf_g0 = DecisionTreeClassifier(random_state=RANDOM_STATE, max_depth=2, min_samples_leaf=15) \n",
    "clf_g1 = DecisionTreeClassifier(random_state=RANDOM_STATE, max_depth=3, min_samples_leaf=12) \n",
    "clf_gh1 = DecisionTreeClassifier(random_state=RANDOM_STATE, max_depth=3, min_samples_leaf=14)\n",
    "\n",
    "clfs = [clf_b1, clf_b2, clf_b3, clf_w1, clf_w2, clf_w3, clf_tf, clf_p, clf_g1, clf_gh1]\n",
    "\n",
    "\n",
    "X_train_ls = [X_train_bow, X_train_bow, X_train_bow, X_train_w, X_train_w, X_train_w, X_train_tf, X_train_p, X_train_g1, X_train_gh1]\n",
    "X_test_ls = [X_test_bow, X_test_bow, X_test_bow, X_test_w, X_test_w, X_test_w, X_test_tf, X_test_p, X_test_g1, X_test_gh1]\n"
   ]
  },
  {
   "cell_type": "code",
   "execution_count": 844,
   "metadata": {},
   "outputs": [],
   "source": [
    "e = Ensemble()\n",
    "e.set_clf(clfs)\n",
    "e.set_train_test(X_train_ls, X_test_ls, y_train, y_test)"
   ]
  },
  {
   "cell_type": "code",
   "execution_count": 845,
   "metadata": {},
   "outputs": [
    {
     "name": "stdout",
     "output_type": "stream",
     "text": [
      "F1 score: 0.6864580351422457, Recall score: 0.7196322196322197\n"
     ]
    }
   ],
   "source": [
    "f1_scores, recall_scores = e.ens_kcross()\n",
    "print(\"F1 score: {}, Recall score: {}\".format(np.mean(f1_scores), np.mean(recall_scores)))"
   ]
  },
  {
   "cell_type": "code",
   "execution_count": 846,
   "metadata": {},
   "outputs": [],
   "source": [
    "e.train_ens()"
   ]
  },
  {
   "cell_type": "code",
   "execution_count": 847,
   "metadata": {},
   "outputs": [
    {
     "name": "stdout",
     "output_type": "stream",
     "text": [
      "[0 1 1 0 1 1 1 0 0 1 0 1 1 0 1 1 0 0 1 0 1 1 0 1 0 1 0 1 1 0 0 0 0 1 1 0 1\n",
      " 0 1 0 1 1 1 1 1]\n",
      "[0 0 0 1 1 1 0 0 0 1 0 1 0 1 1 0 1 0 1 0 0 0 1 0 0 1 0 1 0 0 0 0 0 0 0 0 1\n",
      " 1 0 0 0 0 0 0 0]\n",
      "AUC is:  0.5472350230414746\n",
      "              precision    recall  f1-score   support\n",
      "\n",
      "           0       0.74      0.45      0.56        31\n",
      "           1       0.35      0.64      0.45        14\n",
      "\n",
      "    accuracy                           0.51        45\n",
      "   macro avg       0.54      0.55      0.51        45\n",
      "weighted avg       0.62      0.51      0.53        45\n",
      "\n",
      "Confusion Matrix: \n",
      " [[14 17]\n",
      " [ 5  9]]\n"
     ]
    },
    {
     "data": {
      "image/png": "[encoded data removed]",
      "text/plain": [
       "<Figure size 432x288 with 1 Axes>"
      ]
     },
     "metadata": {
      "needs_background": "light"
     },
     "output_type": "display_data"
    }
   ],
   "source": [
    "e.evaluate_ens()"
   ]
  },
  {
   "cell_type": "code",
   "execution_count": null,
   "metadata": {},
   "outputs": [],
   "source": []
  },
  {
   "cell_type": "code",
   "execution_count": null,
   "metadata": {},
   "outputs": [],
   "source": []
  }
 ],
 "metadata": {
  "kernelspec": {
   "display_name": "Python 3",
   "language": "python",
   "name": "python3"
  },
  "language_info": {
   "codemirror_mode": {
    "name": "ipython",
    "version": 3
   },
   "file_extension": ".py",
   "mimetype": "text/x-python",
   "name": "python",
   "nbconvert_exporter": "python",
   "pygments_lexer": "ipython3",
   "version": "3.7.7"
  }
 },
 "nbformat": 4,
 "nbformat_minor": 4
}
