{
 "cells": [
  {
   "cell_type": "markdown",
   "metadata": {},
   "source": [
    "# Example: Bag of Words"
   ]
  },
  {
   "cell_type": "code",
   "execution_count": 1,
   "metadata": {},
   "outputs": [],
   "source": [
    "import numpy as np \n",
    "import pandas as pd\n",
    "from sklearn.model_selection import train_test_split\n",
    "from sklearn.feature_extraction.text import CountVectorizer\n",
    "from sklearn.tree import DecisionTreeClassifier\n",
    "from sklearn.ensemble import RandomForestClassifier, BaggingClassifier, AdaBoostClassifier, VotingClassifier\n",
    "from sklearn.linear_model import LogisticRegression\n",
    "from sklearn.svm import SVC"
   ]
  },
  {
   "cell_type": "code",
   "execution_count": 2,
   "metadata": {},
   "outputs": [
    {
     "data": {
      "text/plain": [
       "((144, 2902), (37, 2902))"
      ]
     },
     "execution_count": 2,
     "metadata": {},
     "output_type": "execute_result"
    }
   ],
   "source": [
    "df = pd.read_csv(\"../data/clean_compiled_transcripts.csv\")\n",
    "\n",
    "CV = CountVectorizer(min_df=3) # ignore terms that appear in less than 3 documents\n",
    "\n",
    "X = CV.fit_transform(df.Transcript).toarray()\n",
    "y = df.PHQ_Binary.to_numpy()\n",
    "\n",
    "RANDOM_STATE = 42 # lucky number\n",
    "\n",
    "X_train, X_test, y_train, y_test = train_test_split(X, y, test_size=0.2, random_state=RANDOM_STATE)\n",
    "X_train.shape, X_test.shape"
   ]
  },
  {
   "cell_type": "code",
   "execution_count": 3,
   "metadata": {},
   "outputs": [
    {
     "name": "stdout",
     "output_type": "stream",
     "text": [
      "0.5945945945945946\n",
      "1.0\n"
     ]
    }
   ],
   "source": [
    "# Decision Tree\n",
    "\n",
    "dtc = DecisionTreeClassifier()\n",
    "\n",
    "dtc.fit(X_train, y_train)\n",
    "print(dtc.score(X_test, y_test))\n",
    "print(dtc.score(X_train, y_train)) # clearly overfitting"
   ]
  },
  {
   "cell_type": "code",
   "execution_count": 4,
   "metadata": {},
   "outputs": [
    {
     "name": "stdout",
     "output_type": "stream",
     "text": [
      "0.7297297297297297\n",
      "0.9861111111111112\n"
     ]
    }
   ],
   "source": [
    "# Random Forest - Ensemble of Decision Trees\n",
    "\n",
    "rf = RandomForestClassifier(n_estimators=20)\n",
    "\n",
    "rf.fit(X_train, y_train)\n",
    "print(rf.score(X_test, y_test)) # improvement in score\n",
    "print(rf.score(X_train, y_train))"
   ]
  },
  {
   "cell_type": "code",
   "execution_count": 5,
   "metadata": {},
   "outputs": [
    {
     "name": "stdout",
     "output_type": "stream",
     "text": [
      "0.6756756756756757\n",
      "0.9305555555555556\n"
     ]
    }
   ],
   "source": [
    "# Bagging \n",
    "\n",
    "bg = BaggingClassifier(DecisionTreeClassifier(), max_samples=0.5, max_features=1.0, n_estimators=20)\n",
    "bg.fit(X_train, y_train)\n",
    "\n",
    "print(bg.score(X_test, y_test))\n",
    "print(bg.score(X_train, y_train)) # less overfitting"
   ]
  },
  {
   "cell_type": "code",
   "execution_count": 6,
   "metadata": {},
   "outputs": [
    {
     "name": "stdout",
     "output_type": "stream",
     "text": [
      "0.6756756756756757\n",
      "1.0\n"
     ]
    }
   ],
   "source": [
    "# Boosting - Ada Boost\n",
    "\n",
    "adb = AdaBoostClassifier(DecisionTreeClassifier(), n_estimators=5, learning_rate=1)\n",
    "adb.fit(X_train, y_train)\n",
    "\n",
    "print(adb.score(X_test, y_test))\n",
    "print(adb.score(X_train, y_train))"
   ]
  },
  {
   "cell_type": "code",
   "execution_count": 7,
   "metadata": {},
   "outputs": [
    {
     "name": "stderr",
     "output_type": "stream",
     "text": [
      "/opt/conda/lib/python3.6/site-packages/sklearn/linear_model/_logistic.py:764: ConvergenceWarning: lbfgs failed to converge (status=1):\n",
      "STOP: TOTAL NO. of ITERATIONS REACHED LIMIT.\n",
      "\n",
      "Increase the number of iterations (max_iter) or scale the data as shown in:\n",
      "    https://scikit-learn.org/stable/modules/preprocessing.html\n",
      "Please also refer to the documentation for alternative solver options:\n",
      "    https://scikit-learn.org/stable/modules/linear_model.html#logistic-regression\n",
      "  extra_warning_msg=_LOGISTIC_SOLVER_CONVERGENCE_MSG)\n"
     ]
    },
    {
     "name": "stdout",
     "output_type": "stream",
     "text": [
      "0.7027027027027027\n",
      "1.0\n"
     ]
    }
   ],
   "source": [
    "# Voting Classifier - Multiple Model Ensemble\n",
    "\n",
    "lr = LogisticRegression()\n",
    "dtc = DecisionTreeClassifier()\n",
    "svm = SVC(kernel='poly', degree=2, probability=True)\n",
    "\n",
    "# Hard voting: Suppose three classifiers predicted the output class(A, A, B), follow the majority which predicts A as output\n",
    "# Soft voting: Suppose the prediction probability for class A = (0.30, 0.47, 0.53) and B = (0.20, 0.32, 0.40), so the\n",
    "# average for class A is 0.4333 and B is 0.3067, so A is predicted as the output\n",
    "\n",
    "evc = VotingClassifier(estimators= [('lr', lr), ('dt', dtc), ('svm', svm)], voting='hard')\n",
    "evc.fit(X_train, y_train)\n",
    "\n",
    "print(evc.score(X_test, y_test))\n",
    "print(evc.score(X_train, y_train))"
   ]
  }
 ],
 "metadata": {
  "kernelspec": {
   "display_name": "Python 3",
   "language": "python",
   "name": "python3"
  },
  "language_info": {
   "codemirror_mode": {
    "name": "ipython",
    "version": 3
   },
   "file_extension": ".py",
   "mimetype": "text/x-python",
   "name": "python",
   "nbconvert_exporter": "python",
   "pygments_lexer": "ipython3",
   "version": "3.7.3"
  }
 },
 "nbformat": 4,
 "nbformat_minor": 4
}
