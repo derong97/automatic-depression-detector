{
 "cells": [
  {
   "cell_type": "markdown",
   "metadata": {},
   "source": [
    "# Handle Imbalanced Dataset"
   ]
  },
  {
   "cell_type": "markdown",
   "metadata": {},
   "source": [
    "## Exploratory Data Analysis"
   ]
  },
  {
   "cell_type": "code",
   "execution_count": 1,
   "metadata": {},
   "outputs": [
    {
     "data": {
      "image/png": "[encoded data removed]",
      "text/plain": [
       "<Figure size 432x288 with 1 Axes>"
      ]
     },
     "metadata": {
      "needs_background": "light"
     },
     "output_type": "display_data"
    },
    {
     "name": "stdout",
     "output_type": "stream",
     "text": [
      "The ratio of negative to positive cases is 2.29.\n"
     ]
    }
   ],
   "source": [
    "import pandas as pd\n",
    "import matplotlib.pyplot as plt\n",
    "\n",
    "df = pd.read_csv(\"../../data/clean_compiled_transcripts.csv\")\n",
    "\n",
    "count_classes = pd.value_counts(df.PHQ_Binary)\n",
    "count_classes.plot(kind = 'bar', rot=0)\n",
    "labels = [\"Non-depressed\", \"Depressed\"]\n",
    "\n",
    "plt.title(\"Depression Class Distribution\")\n",
    "plt.xticks(range(2), labels)\n",
    "plt.xlabel(\"Class\")\n",
    "plt.ylabel(\"Frequency\")\n",
    "plt.show()\n",
    "\n",
    "print(f\"The ratio of negative to positive cases is {round(count_classes[0] / count_classes[1], 2)}.\")"
   ]
  },
  {
   "cell_type": "markdown",
   "metadata": {},
   "source": [
    "Clearly, the dataset is highly imbalanced and is likely to result in poor performance. We should strive for 50:50 during training."
   ]
  },
  {
   "cell_type": "markdown",
   "metadata": {},
   "source": [
    "## Split the dataset\n",
    "There are 2 reasons for splitting the dataset first:\n",
    "1. We need to convert transcripts to word embeddings. The tokenizer should only be trained on the train set, instead of the entire corpus.\n",
    "2. Due to an imbalanced dataset, we will be applying oversampling techniques later. Splitting first prevents the possibility of the exact same observations being present in both the train and test sets, which could lead to overfitting and poor generalization to the test data."
   ]
  },
  {
   "cell_type": "code",
   "execution_count": 2,
   "metadata": {},
   "outputs": [],
   "source": [
    "from sklearn.model_selection import train_test_split\n",
    "\n",
    "X_train_raw, X_test_raw, y_train_raw, y_test = train_test_split(df.Transcript, df.PHQ_Binary, test_size=0.2, random_state=42)"
   ]
  },
  {
   "cell_type": "markdown",
   "metadata": {},
   "source": [
    "## Convert transcripts to padded sequences"
   ]
  },
  {
   "cell_type": "code",
   "execution_count": 3,
   "metadata": {},
   "outputs": [
    {
     "name": "stderr",
     "output_type": "stream",
     "text": [
      "Using TensorFlow backend.\n"
     ]
    }
   ],
   "source": [
    "# Tokenization and padding\n",
    "from keras.preprocessing.text import Tokenizer\n",
    "from keras.preprocessing import sequence\n",
    "\n",
    "tokenizer = Tokenizer()\n",
    "tokenizer.fit_on_texts(X_train_raw)\n",
    "vocab_size = len(tokenizer.word_index) + 1"
   ]
  },
  {
   "cell_type": "code",
   "execution_count": 4,
   "metadata": {},
   "outputs": [],
   "source": [
    "maxlen = 1000\n",
    "\n",
    "def prepare(X):\n",
    "    X_seq = tokenizer.texts_to_sequences(X)\n",
    "    X_mat = sequence.pad_sequences(X_seq, maxlen=maxlen)\n",
    "    \n",
    "    return X_mat"
   ]
  },
  {
   "cell_type": "code",
   "execution_count": 5,
   "metadata": {},
   "outputs": [
    {
     "data": {
      "text/plain": [
       "((144, 1000), (37, 1000))"
      ]
     },
     "execution_count": 5,
     "metadata": {},
     "output_type": "execute_result"
    }
   ],
   "source": [
    "X_train_mat = prepare(X_train_raw)\n",
    "X_test = prepare(X_test_raw)\n",
    "\n",
    "X_train_mat.shape, X_test.shape"
   ]
  },
  {
   "cell_type": "markdown",
   "metadata": {},
   "source": [
    "## Oversampling\n",
    "We will be using oversampling techniques instead of undersampling because our dataset given is very small and we do not want to discard any data."
   ]
  },
  {
   "cell_type": "code",
   "execution_count": 6,
   "metadata": {},
   "outputs": [
    {
     "name": "stdout",
     "output_type": "stream",
     "text": [
      "Requirement already up-to-date: imbalanced-learn in /opt/conda/lib/python3.6/site-packages (0.7.0)\r\n",
      "Requirement already satisfied, skipping upgrade: scikit-learn>=0.23 in /opt/conda/lib/python3.6/site-packages (from imbalanced-learn) (0.23.1)\r\n",
      "Requirement already satisfied, skipping upgrade: joblib>=0.11 in /opt/conda/lib/python3.6/site-packages (from imbalanced-learn) (0.15.1)\r\n",
      "Requirement already satisfied, skipping upgrade: numpy>=1.13.3 in /opt/conda/lib/python3.6/site-packages (from imbalanced-learn) (1.18.5)\r\n",
      "Requirement already satisfied, skipping upgrade: scipy>=0.19.1 in /opt/conda/lib/python3.6/site-packages (from imbalanced-learn) (1.4.1)\r\n",
      "Requirement already satisfied, skipping upgrade: threadpoolctl>=2.0.0 in /opt/conda/lib/python3.6/site-packages (from scikit-learn>=0.23->imbalanced-learn) (2.1.0)\r\n"
     ]
    }
   ],
   "source": [
    "!pip install -U imbalanced-learn"
   ]
  },
  {
   "cell_type": "code",
   "execution_count": 7,
   "metadata": {},
   "outputs": [
    {
     "data": {
      "text/plain": [
       "((200, 1000), (200,))"
      ]
     },
     "execution_count": 7,
     "metadata": {},
     "output_type": "execute_result"
    }
   ],
   "source": [
    "from imblearn.over_sampling import RandomOverSampler\n",
    "\n",
    "# the ratio of minority class to majority class will be 1 after resampling\n",
    "oversampling = RandomOverSampler(sampling_strategy=1)\n",
    "\n",
    "X_train, y_train = oversampling.fit_sample(X_train_mat, y_train_raw)\n",
    "\n",
    "X_train.shape, y_train.shape"
   ]
  },
  {
   "cell_type": "markdown",
   "metadata": {},
   "source": [
    "Now we have `X_train`, `X_test`, `y_train`, `y_test` ready to be used for model training and testing."
   ]
  },
  {
   "cell_type": "markdown",
   "metadata": {},
   "source": [
    "# More preprocessing"
   ]
  },
  {
   "cell_type": "markdown",
   "metadata": {},
   "source": [
    "## Data Normalization\n",
    "Most classifiers work best if data is normalized."
   ]
  },
  {
   "cell_type": "code",
   "execution_count": 8,
   "metadata": {},
   "outputs": [],
   "source": [
    "from sklearn.preprocessing import MinMaxScaler\n",
    "\n",
    "x_scaler = MinMaxScaler()\n",
    "x_scaler.fit(X_train)\n",
    "\n",
    "X_train_norm = x_scaler.transform(X_train)\n",
    "X_test_norm = x_scaler.transform(X_test)"
   ]
  },
  {
   "cell_type": "markdown",
   "metadata": {},
   "source": [
    "## Evaluation metrics\n",
    "1. We will not be using `accuracy_score` as a metric because it is almost universally inappropriate for imbalanced classification. A high accuracy is achievable by a no-skill model that only predicts the majority class.\n",
    "2. In our use case, it is more important to have high sensitivity as want to correctly identify as many depression cases out of all actual depression cases for early intervention. Predicting a non-depressed person as depressed is comparatively less severe, meaning we prioritize TPR (sensitivity) over FPR at the risk of getting a poorer `f1_score` or `roc_auc_score`\n",
    "3. `balanced_accuracy_score` might be another suitable metric. It computes the balanced accuracy, which avoids inflated performance estimates on imbalanced datasets. In the binary case, balanced accuracy is equal to the arithmetic mean of sensitivity and specificity.\n",
    "\n",
    "Note:\n",
    "* Sensitivity = true positive rate = recall = TP / (TP + FN)\n",
    "* Specificity = true negative rate = TN / (TN + FP)\n",
    "* Fall out = false positive rate = FP / (FP + TN)\n",
    "* Miss rate = false negative rate = FN / (FN + TP)\n",
    "\n",
    "Metrics can be found on this [website](https://scikit-learn.org/stable/modules/model_evaluation.html)."
   ]
  },
  {
   "cell_type": "code",
   "execution_count": 9,
   "metadata": {},
   "outputs": [],
   "source": [
    "from sklearn.metrics import classification_report, confusion_matrix\n",
    "from sklearn.metrics import roc_curve, roc_auc_score\n",
    "from sklearn.metrics import recall_score\n",
    "\n",
    "def evaluate_on_training_set(y_test, y_pred):\n",
    "  # Calculate AUC\n",
    "  print(\"AUC is: \", roc_auc_score(y_test, y_pred))\n",
    "  \n",
    "  # print out recall and precision\n",
    "  print(classification_report(y_test, y_pred))\n",
    "  \n",
    "  # print out confusion matrix\n",
    "  print(\"Confusion Matrix: \\n\", confusion_matrix(y_test, y_pred))\n",
    "\n",
    "  # # calculate points for ROC curve\n",
    "  fpr, tpr, thresholds = roc_curve(y_test, y_pred)\n",
    "  \n",
    "  # Plot ROC curve\n",
    "  plt.plot(fpr, tpr, label='ROC curve (area = %0.3f)' % roc_auc_score(y_test, y_pred))\n",
    "  plt.plot([0, 1], [0, 1], 'k--')\n",
    "  plt.ylim([0.0, 1.0])\n",
    "  plt.xlabel('False Positive Rate')\n",
    "  plt.ylabel('True Positive Rate')\n",
    "  plt.title('Receiver Operating Characteristic')"
   ]
  },
  {
   "cell_type": "markdown",
   "metadata": {},
   "source": [
    "## Run model"
   ]
  },
  {
   "cell_type": "code",
   "execution_count": 10,
   "metadata": {},
   "outputs": [],
   "source": [
    "def run_model(input_model, X_train, X_test, y_train, y_test):\n",
    "    model = input_model\n",
    "    model.fit(X_train, y_train)\n",
    "    y_pred = model.predict(X_test)\n",
    "    evaluate_on_training_set(y_test, y_pred)\n",
    "    \n",
    "    return model"
   ]
  },
  {
   "cell_type": "markdown",
   "metadata": {},
   "source": [
    "# Model Implementation"
   ]
  },
  {
   "cell_type": "markdown",
   "metadata": {},
   "source": [
    "## Decision Tree"
   ]
  },
  {
   "cell_type": "code",
   "execution_count": 11,
   "metadata": {},
   "outputs": [
    {
     "name": "stdout",
     "output_type": "stream",
     "text": [
      "AUC is:  0.6520979020979021\n",
      "              precision    recall  f1-score   support\n",
      "\n",
      "           0       0.83      0.58      0.68        26\n",
      "           1       0.42      0.73      0.53        11\n",
      "\n",
      "    accuracy                           0.62        37\n",
      "   macro avg       0.63      0.65      0.61        37\n",
      "weighted avg       0.71      0.62      0.64        37\n",
      "\n",
      "Confusion Matrix: \n",
      " [[15 11]\n",
      " [ 3  8]]\n"
     ]
    },
    {
     "data": {
      "text/plain": [
       "DecisionTreeClassifier(max_depth=3, min_samples_leaf=26)"
      ]
     },
     "execution_count": 11,
     "metadata": {},
     "output_type": "execute_result"
    },
    {
     "data": {
      "image/png": "[encoded data removed]",
      "text/plain": [
       "<Figure size 432x288 with 1 Axes>"
      ]
     },
     "metadata": {
      "needs_background": "light"
     },
     "output_type": "display_data"
    }
   ],
   "source": [
    "from sklearn.tree import DecisionTreeClassifier\n",
    "\n",
    "def find_best_tree_model(upper_depth, upper_leaf):\n",
    "    best_model = None\n",
    "    best_recall = -1\n",
    "    \n",
    "    for depth in range(1, upper_depth + 1):\n",
    "        for leaf in range(1, upper_leaf + 1):\n",
    "            model = DecisionTreeClassifier(max_depth=depth, min_samples_leaf=leaf) \n",
    "            model.fit(X_train, y_train)\n",
    "            y_pred = model.predict(X_test)\n",
    "            \n",
    "            recall = recall_score(y_test, y_pred)\n",
    "            \n",
    "            if recall > best_recall:\n",
    "                best_recall = recall\n",
    "                best_model = model\n",
    "                \n",
    "    return best_model\n",
    "\n",
    "best_tree_model = find_best_tree_model(80, 30)\n",
    "\n",
    "run_model(best_tree_model, X_train, X_test, y_train, y_test)"
   ]
  },
  {
   "cell_type": "markdown",
   "metadata": {},
   "source": [
    "## SVM with grid search"
   ]
  },
  {
   "cell_type": "code",
   "execution_count": 12,
   "metadata": {},
   "outputs": [
    {
     "name": "stdout",
     "output_type": "stream",
     "text": [
      "Fitting 10 folds for each of 12 candidates, totalling 120 fits\n"
     ]
    },
    {
     "name": "stderr",
     "output_type": "stream",
     "text": [
      "[Parallel(n_jobs=4)]: Using backend LokyBackend with 4 concurrent workers.\n",
      "[Parallel(n_jobs=4)]: Done  42 tasks      | elapsed:    3.1s\n",
      "[Parallel(n_jobs=4)]: Done 120 out of 120 | elapsed:    5.0s finished\n"
     ]
    },
    {
     "name": "stdout",
     "output_type": "stream",
     "text": [
      "AUC is:  0.5402097902097902\n",
      "              precision    recall  f1-score   support\n",
      "\n",
      "           0       0.72      0.81      0.76        26\n",
      "           1       0.38      0.27      0.32        11\n",
      "\n",
      "    accuracy                           0.65        37\n",
      "   macro avg       0.55      0.54      0.54        37\n",
      "weighted avg       0.62      0.65      0.63        37\n",
      "\n",
      "Confusion Matrix: \n",
      " [[21  5]\n",
      " [ 8  3]]\n",
      "{'C': 1, 'kernel': 'linear'}\n"
     ]
    },
    {
     "data": {
      "image/png": "[encoded data removed]",
      "text/plain": [
       "<Figure size 432x288 with 1 Axes>"
      ]
     },
     "metadata": {
      "needs_background": "light"
     },
     "output_type": "display_data"
    }
   ],
   "source": [
    "from sklearn.svm import SVC\n",
    "from sklearn.model_selection import GridSearchCV\n",
    "\n",
    "tuned_parameters = [{'kernel': ['rbf'], 'gamma': [1e-3, 1e-4], 'C': [1, 10, 100]},\n",
    "                    {'kernel': ['poly'], 'C': [1, 10, 100]},\n",
    "                    {'kernel': ['linear'], 'C': [1, 10, 100]}]\n",
    "\n",
    "svm_model_cv = GridSearchCV(SVC(), tuned_parameters, cv=10, scoring='recall', verbose=1, n_jobs=4)\n",
    "\n",
    "best_svm_model = run_model(svm_model_cv, X_train_norm, X_test_norm, y_train, y_test)\n",
    "print(best_svm_model.best_params_)"
   ]
  },
  {
   "cell_type": "code",
   "execution_count": null,
   "metadata": {},
   "outputs": [],
   "source": []
  }
 ],
 "metadata": {
  "kernelspec": {
   "display_name": "Python 3",
   "language": "python",
   "name": "python3"
  },
  "language_info": {
   "codemirror_mode": {
    "name": "ipython",
    "version": 3
   },
   "file_extension": ".py",
   "mimetype": "text/x-python",
   "name": "python",
   "nbconvert_exporter": "python",
   "pygments_lexer": "ipython3",
   "version": "3.6.10"
  }
 },
 "nbformat": 4,
 "nbformat_minor": 4
}
