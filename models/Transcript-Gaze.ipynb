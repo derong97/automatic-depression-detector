{
 "cells": [
  {
   "cell_type": "code",
   "execution_count": 1,
   "metadata": {},
   "outputs": [],
   "source": [
    "import numpy as np \n",
    "import pandas as pd\n",
    "from sklearn.model_selection import train_test_split\n",
    "from sklearn.feature_extraction.text import CountVectorizer\n",
    "from sklearn.tree import DecisionTreeClassifier\n",
    "from sklearn.ensemble import RandomForestClassifier, BaggingClassifier, AdaBoostClassifier, VotingClassifier\n",
    "from sklearn.linear_model import LogisticRegression\n",
    "from sklearn.svm import SVC"
   ]
  },
  {
   "cell_type": "code",
   "execution_count": 71,
   "metadata": {},
   "outputs": [],
   "source": [
    "from sklearn.metrics import classification_report, confusion_matrix, roc_curve, roc_auc_score, \\\n",
    "        f1_score, precision_score, recall_score\n",
    "import matplotlib.pyplot as plt"
   ]
  },
  {
   "cell_type": "code",
   "execution_count": 6,
   "metadata": {},
   "outputs": [
    {
     "data": {
      "text/plain": [
       "((144, 2877), (37, 2877))"
      ]
     },
     "execution_count": 6,
     "metadata": {},
     "output_type": "execute_result"
    }
   ],
   "source": [
    "df = pd.read_csv(\"./text/clean_compiled_transcripts.csv\")\n",
    "\n",
    "CV = CountVectorizer(min_df=3) # ignore terms that appear in less than 3 documents\n",
    "\n",
    "X_t = CV.fit_transform(df.Transcript).toarray()\n",
    "y_t = df.PHQ_Binary.to_numpy()\n",
    "\n",
    "RANDOM_STATE = 42 # lucky number\n",
    "\n",
    "X_train_t, X_test_t, y_train_t, y_test_t = train_test_split(X_t, y_t, test_size=0.2, random_state=RANDOM_STATE)\n",
    "X_train_t.shape, X_test_t.shape"
   ]
  },
  {
   "cell_type": "code",
   "execution_count": 22,
   "metadata": {},
   "outputs": [
    {
     "data": {
      "text/plain": [
       "((144, 14), (37, 14))"
      ]
     },
     "execution_count": 22,
     "metadata": {},
     "output_type": "execute_result"
    }
   ],
   "source": [
    "df = pd.read_csv(\"./gaze/gaze_labels.csv\", index_col = \"Participant_ID\")\n",
    "X_g = np.load(\"./gaze/avg_gaze.npy\")\n",
    "y_g = np.array(df['PHQ_Binary'])\n",
    "\n",
    "X_train_g, X_test_g, y_train_g, y_test_g = train_test_split(X_g, y_g, test_size=0.2, random_state=RANDOM_STATE)\n",
    "X_train_g.shape, X_test_g.shape"
   ]
  },
  {
   "cell_type": "code",
   "execution_count": 66,
   "metadata": {},
   "outputs": [],
   "source": [
    "def evaluate_on_training_set(y_test, y_pred):\n",
    "    # Calculate AUC\n",
    "    print(\"AUC is: \", roc_auc_score(y_test, y_pred))\n",
    "\n",
    "    # print out recall and precision\n",
    "    print(classification_report(y_test, y_pred))\n",
    "\n",
    "    # print out confusion matrix\n",
    "    print(\"Confusion Matrix: \\n\", confusion_matrix(y_test, y_pred))\n",
    "\n",
    "    # # calculate points for ROC curve\n",
    "    fpr, tpr, thresholds = roc_curve(y_test, y_pred)\n",
    "\n",
    "    # Plot ROC curve\n",
    "    plt.plot(fpr, tpr, label='ROC curve (area = %0.3f)' % roc_auc_score(y_test, y_pred))\n",
    "    plt.plot([0, 1], [0, 1], 'k--')\n",
    "    plt.ylim([0.0, 1.0])\n",
    "    plt.xlabel('False Positive Rate')\n",
    "    plt.ylabel('True Positive Rate')\n",
    "    plt.title('Receiver Operating Characteristic')"
   ]
  },
  {
   "cell_type": "code",
   "execution_count": 82,
   "metadata": {},
   "outputs": [],
   "source": [
    "class Ensemble:\n",
    "    def __init__(self):\n",
    "        self.clf = []\n",
    "        self.X_train = []\n",
    "        self.X_test = []\n",
    "        self.y_train = None\n",
    "        self.y_test = None\n",
    "        \n",
    "    def set_clf(self, ls_clf):\n",
    "        self.clf = ls_clf\n",
    "    \n",
    "    def set_train_test(self, ls_train, ls_test, y_train, y_test):\n",
    "        self.X_train = ls_train\n",
    "        self.X_test = ls_test\n",
    "        self.y_train = y_train\n",
    "        self.y_test = y_test\n",
    "        \n",
    "    def train_ens(self):\n",
    "        for i in range(len(self.clf)):\n",
    "            c_i = self.clf[i]\n",
    "            X_train_i = self.X_train[i]\n",
    "            y_train = self.y_train\n",
    "            c_i.fit(X_train_i, y_train)\n",
    "            self.clf[i] = c_i\n",
    "    \n",
    "    def pred_proba(self, ls_X):\n",
    "        probas = []\n",
    "        for i in range(len(self.clf)):\n",
    "            c_i = self.clf[i]\n",
    "            probas.append(c_i.predict_proba(ls_X[i]))\n",
    "        probas = np.array(probas)\n",
    "        probas = np.mean(probas, axis=0)\n",
    "        return probas\n",
    "    \n",
    "    def pred_ens(self, ls_X):\n",
    "        probas = self.pred_proba(ls_X)\n",
    "        label = np.argmax(probas)\n",
    "        return label\n",
    "    \n",
    "    def evaluate_ens(self):\n",
    "        predictions = []       \n",
    "        for i in range(len(self.y_test)):\n",
    "            ls_X = []\n",
    "            for j in range(len(self.clf)):\n",
    "                ls_X.append(self.X_test[j][i:i+1][:])\n",
    "            predictions.append(e.pred_ens(ls_X))\n",
    "        predictions = np.array(predictions)\n",
    "        print(self.y_test)\n",
    "        print(predictions)\n",
    "        evaluate_on_training_set(self.y_test, predictions)\n",
    "        "
   ]
  },
  {
   "cell_type": "code",
   "execution_count": 91,
   "metadata": {},
   "outputs": [],
   "source": [
    "e = Ensemble()\n",
    "clf1 = LogisticRegression(n_jobs=3, C=10**3)\n",
    "# clf2 = DecisionTreeClassifier(random_state=RANDOM_STATE, max_depth=2, min_samples_leaf=16)\n",
    "clf3 = DecisionTreeClassifier(random_state=RANDOM_STATE, max_depth=1, min_samples_leaf=8)\n",
    "clfs = [clf1, clf3]\n",
    "e.set_clf(clfs)\n",
    "e.set_train_test([X_train_t, X_train_g], [X_test_t, X_test_g], y_train_t, y_test_t)"
   ]
  },
  {
   "cell_type": "code",
   "execution_count": 92,
   "metadata": {},
   "outputs": [],
   "source": [
    "e.train_ens()"
   ]
  },
  {
   "cell_type": "code",
   "execution_count": 93,
   "metadata": {},
   "outputs": [
    {
     "name": "stdout",
     "output_type": "stream",
     "text": [
      "[1 0 0 1 0 0 0 0 0 0 0 0 0 0 1 0 1 0 0 0 0 0 0 1 1 0 0 0 0 0 1 1 1 1 1 0 0]\n",
      "[0 0 1 0 0 0 0 0 0 0 0 1 0 0 1 1 1 0 0 0 0 0 0 0 1 0 0 0 0 0 1 0 0 0 1 0 1]\n",
      "AUC is:  0.6503496503496504\n",
      "              precision    recall  f1-score   support\n",
      "\n",
      "           0       0.79      0.85      0.81        26\n",
      "           1       0.56      0.45      0.50        11\n",
      "\n",
      "    accuracy                           0.73        37\n",
      "   macro avg       0.67      0.65      0.66        37\n",
      "weighted avg       0.72      0.73      0.72        37\n",
      "\n",
      "Confusion Matrix: \n",
      " [[22  4]\n",
      " [ 6  5]]\n"
     ]
    },
    {
     "data": {
      "image/png": "[encoded data removed]",
      "text/plain": [
       "<Figure size 432x288 with 1 Axes>"
      ]
     },
     "metadata": {
      "needs_background": "light"
     },
     "output_type": "display_data"
    }
   ],
   "source": [
    "e.evaluate_ens()"
   ]
  },
  {
   "cell_type": "code",
   "execution_count": null,
   "metadata": {},
   "outputs": [],
   "source": []
  }
 ],
 "metadata": {
  "kernelspec": {
   "display_name": "Python 3",
   "language": "python",
   "name": "python3"
  },
  "language_info": {
   "codemirror_mode": {
    "name": "ipython",
    "version": 3
   },
   "file_extension": ".py",
   "mimetype": "text/x-python",
   "name": "python",
   "nbconvert_exporter": "python",
   "pygments_lexer": "ipython3",
   "version": "3.7.7"
  }
 },
 "nbformat": 4,
 "nbformat_minor": 4
}
