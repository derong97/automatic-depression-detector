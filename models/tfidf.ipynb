{
 "cells": [
  {
   "cell_type": "markdown",
   "metadata": {},
   "source": [
    "# Preliminary TFIDF Model \n",
    "Importing the data "
   ]
  },
  {
   "cell_type": "code",
   "execution_count": 52,
   "metadata": {},
   "outputs": [
    {
     "name": "stdout",
     "output_type": "stream",
     "text": [
      "['Participant_ID', 'Transcript', 'PHQ_Score', 'PHQ_Binary']\n"
     ]
    },
    {
     "data": {
      "text/html": [
       "<div>\n",
       "<style scoped>\n",
       "    .dataframe tbody tr th:only-of-type {\n",
       "        vertical-align: middle;\n",
       "    }\n",
       "\n",
       "    .dataframe tbody tr th {\n",
       "        vertical-align: top;\n",
       "    }\n",
       "\n",
       "    .dataframe thead th {\n",
       "        text-align: right;\n",
       "    }\n",
       "</style>\n",
       "<table border=\"1\" class=\"dataframe\">\n",
       "  <thead>\n",
       "    <tr style=\"text-align: right;\">\n",
       "      <th></th>\n",
       "      <th>Participant_ID</th>\n",
       "      <th>Transcript</th>\n",
       "      <th>PHQ_Score</th>\n",
       "      <th>PHQ_Binary</th>\n",
       "    </tr>\n",
       "  </thead>\n",
       "  <tbody>\n",
       "    <tr>\n",
       "      <th>0</th>\n",
       "      <td>300</td>\n",
       "      <td>good atlanta um my parents um i love it i like...</td>\n",
       "      <td>2</td>\n",
       "      <td>0</td>\n",
       "    </tr>\n",
       "    <tr>\n",
       "      <th>1</th>\n",
       "      <td>301</td>\n",
       "      <td>thank you mmm k i good thank you i los angeles...</td>\n",
       "      <td>3</td>\n",
       "      <td>0</td>\n",
       "    </tr>\n",
       "    <tr>\n",
       "      <th>2</th>\n",
       "      <td>302</td>\n",
       "      <td>i fine yourself i los angeles part okay um my ...</td>\n",
       "      <td>4</td>\n",
       "      <td>0</td>\n",
       "    </tr>\n",
       "    <tr>\n",
       "      <th>3</th>\n",
       "      <td>303</td>\n",
       "      <td>okay bout yourself yeah oh well it big broad l...</td>\n",
       "      <td>0</td>\n",
       "      <td>0</td>\n",
       "    </tr>\n",
       "    <tr>\n",
       "      <th>4</th>\n",
       "      <td>304</td>\n",
       "      <td>i good um los angeles um cool weather beaches ...</td>\n",
       "      <td>6</td>\n",
       "      <td>0</td>\n",
       "    </tr>\n",
       "    <tr>\n",
       "      <th>5</th>\n",
       "      <td>305</td>\n",
       "      <td>i alright uh originally i uh born glendale i h...</td>\n",
       "      <td>7</td>\n",
       "      <td>0</td>\n",
       "    </tr>\n",
       "    <tr>\n",
       "      <th>6</th>\n",
       "      <td>306</td>\n",
       "      <td>fine uh mhm uh career career possibilities uh ...</td>\n",
       "      <td>0</td>\n",
       "      <td>0</td>\n",
       "    </tr>\n",
       "    <tr>\n",
       "      <th>7</th>\n",
       "      <td>307</td>\n",
       "      <td>um moscow um my family moved us i moved eventu...</td>\n",
       "      <td>4</td>\n",
       "      <td>0</td>\n",
       "    </tr>\n",
       "    <tr>\n",
       "      <th>8</th>\n",
       "      <td>308</td>\n",
       "      <td>los angeles yes um southern lifestyle beaches ...</td>\n",
       "      <td>22</td>\n",
       "      <td>1</td>\n",
       "    </tr>\n",
       "    <tr>\n",
       "      <th>9</th>\n",
       "      <td>309</td>\n",
       "      <td>yeah i good uh uh acting stuff like entertain ...</td>\n",
       "      <td>15</td>\n",
       "      <td>1</td>\n",
       "    </tr>\n",
       "  </tbody>\n",
       "</table>\n",
       "</div>"
      ],
      "text/plain": [
       "   Participant_ID                                         Transcript  \\\n",
       "0             300  good atlanta um my parents um i love it i like...   \n",
       "1             301  thank you mmm k i good thank you i los angeles...   \n",
       "2             302  i fine yourself i los angeles part okay um my ...   \n",
       "3             303  okay bout yourself yeah oh well it big broad l...   \n",
       "4             304  i good um los angeles um cool weather beaches ...   \n",
       "5             305  i alright uh originally i uh born glendale i h...   \n",
       "6             306  fine uh mhm uh career career possibilities uh ...   \n",
       "7             307  um moscow um my family moved us i moved eventu...   \n",
       "8             308  los angeles yes um southern lifestyle beaches ...   \n",
       "9             309  yeah i good uh uh acting stuff like entertain ...   \n",
       "\n",
       "   PHQ_Score  PHQ_Binary  \n",
       "0          2           0  \n",
       "1          3           0  \n",
       "2          4           0  \n",
       "3          0           0  \n",
       "4          6           0  \n",
       "5          7           0  \n",
       "6          0           0  \n",
       "7          4           0  \n",
       "8         22           1  \n",
       "9         15           1  "
      ]
     },
     "execution_count": 52,
     "metadata": {},
     "output_type": "execute_result"
    }
   ],
   "source": [
    "import pandas as pd\n",
    "\n",
    "transcript_filepath = \"compiled_transcripts/clean_compiled_transcripts.csv\"\n",
    "# df_transcript = pd.read_csv(transcript_filepath, index_col = \"Participant_ID\")\n",
    "df_transcript = pd.read_csv(transcript_filepath)\n",
    "\n",
    "column_list = df_transcript.columns.tolist()\n",
    "print(column_list)\n",
    "\n",
    "df_transcript.head(10)"
   ]
  },
  {
   "cell_type": "markdown",
   "metadata": {},
   "source": [
    "## Processing Data \n",
    "We have these different functions to help us calculate the tfidf."
   ]
  },
  {
   "cell_type": "code",
   "execution_count": 53,
   "metadata": {},
   "outputs": [
    {
     "name": "stderr",
     "output_type": "stream",
     "text": [
      "[nltk_data] Downloading package punkt to /Users/glendawee/nltk_data...\n",
      "[nltk_data]   Package punkt is already up-to-date!\n"
     ]
    }
   ],
   "source": [
    "import nltk\n",
    "nltk.download('punkt')\n",
    "from nltk.stem import PorterStemmer\n",
    "from nltk.tokenize import sent_tokenize, word_tokenize\n",
    "\n",
    "# # choose some words to be stemmed \n",
    "# words_program = [\"program\", \"programs\", \"programer\", \"programing\", \"programers\"] \n",
    "# words_complete = [\"complete\", \"completely\", \"completing\", \"completion\", \"completes\"] \n",
    "# words_absolute = [\"absolute\", \"absolutely\"]\n",
    "  \n",
    "# for w in words_absolute: \n",
    "#     print(w, \" : \", ps.stem(w)) "
   ]
  },
  {
   "cell_type": "code",
   "execution_count": 54,
   "metadata": {},
   "outputs": [
    {
     "data": {
      "text/plain": [
       "['i', 'my', 'you', 'me', 'they', 'we', 'she', 'he', 'myself', 'her', 'she']"
      ]
     },
     "execution_count": 54,
     "metadata": {},
     "output_type": "execute_result"
    }
   ],
   "source": [
    "def stem_text(text):\n",
    "    ps = PorterStemmer()\n",
    "    text = text.split()\n",
    "    stemmed_text = []\n",
    "    for w in text: \n",
    "        stemmed = ps.stem(w)\n",
    "        stemmed_text.append(stemmed)\n",
    "    return stemmed_text\n",
    "\n",
    "stem_text(\"i my you me they we she he myself her shes\")"
   ]
  },
  {
   "cell_type": "code",
   "execution_count": 65,
   "metadata": {},
   "outputs": [
    {
     "name": "stdout",
     "output_type": "stream",
     "text": [
      "The original text is:\n",
      "good atlanta um my parents um i love it i like weather i like opportunities um yes um it took minute somewhat easy congestion it um i took business administration uh yeah i i break right i plan going back uh next semester uh probably open my business um specific reason i travel lot i pretty local year you little bit specific answer i like reading books i enjoy i enjoy cooking um exercising great i i i pretty good it um yeah um probably two weeks ago uh frustrated um i like bias um i like um someone says they going something they uh somewhat friendship i like play sports i enjoy uh going friends family playing games grandparents parents um yeah i mean they always given me great advice they always kept it real real close i would say going college right high school well i would done you know i would probably field career field uh taking job street i sure i could yes i sure maybe i graduated high school well uh i um i got my diploma my my diploma i finished school i met requirements high school i approved go whatever i wanted living um it alright it could better uh it pretty easy uh yes repeat irritated um lazy um day weather great sun different less less um interested uh shut uh two weeks ago uh yeah friend mine annoying me i cut them it alright friendship chocolate tall thin thank you bye bye\n"
     ]
    }
   ],
   "source": [
    "original_text = df_transcript.Transcript[0]\n",
    "# df_transcript.Transcript = df_transcript.Transcript.apply(stem_text)\n",
    "# filtered_text = df_transcript.Transcript[300]\n",
    "\n",
    "print(f\"The original text is:\\n{original_text}\")\n",
    "# print(\"-------------------------------------------\")\n",
    "# print(f\"The filtered text is:\\n{filtered_text}\")"
   ]
  },
  {
   "cell_type": "code",
   "execution_count": 56,
   "metadata": {},
   "outputs": [],
   "source": [
    "from keras.preprocessing.text import Tokenizer\n",
    "from keras.preprocessing import sequence\n",
    "from keras.models import Sequential \n",
    "from keras.layers import Dense, Embedding, Flatten \n",
    "from keras.datasets import imdb \n",
    "from keras.callbacks import EarlyStopping\n",
    "from sklearn.model_selection import train_test_split\n",
    "from keras.utils.vis_utils import plot_model\n",
    "\n",
    "import numpy as np"
   ]
  },
  {
   "cell_type": "code",
   "execution_count": 72,
   "metadata": {},
   "outputs": [
    {
     "name": "stdout",
     "output_type": "stream",
     "text": [
      "181\n"
     ]
    }
   ],
   "source": [
    "from sklearn.feature_extraction.text import TfidfVectorizer\n",
    "vectorizer = TfidfVectorizer(max_features=10000, ngram_range=(1,2))\n",
    "corpus = df_transcript[\"Transcript\"]\n",
    "x = vectorizer.fit(corpus)\n",
    "x = vectorizer.transform(corpus)\n",
    "dic_vocabulary = vectorizer.vocabulary_\n",
    "phq_Score = df_transcript[\"PHQ_Score\"]\n",
    "phq_Binary = df_transcript.PHQ_Binary.to_numpy()\n",
    "\n",
    "x_train, x_test, y_train, y_test = train_test_split(x, phq_Binary, test_size=0.2) \n",
    "\n",
    "x.toarray()\n",
    "print(x.shape[0])"
   ]
  },
  {
   "cell_type": "markdown",
   "metadata": {},
   "source": [
    "# Evaluation Metrics"
   ]
  },
  {
   "cell_type": "code",
   "execution_count": 73,
   "metadata": {},
   "outputs": [],
   "source": [
    "from sklearn.metrics import classification_report, confusion_matrix\n",
    "from sklearn.metrics import roc_curve, roc_auc_score\n",
    "from sklearn.metrics import recall_score\n",
    "import matplotlib.pyplot as plt\n",
    "\n",
    "\n",
    "def evaluate_on_training_set(y_test, y_pred):\n",
    "  # Calculate AUC\n",
    "  print(\"AUC is: \", roc_auc_score(y_test, y_pred))\n",
    "  \n",
    "  # print out recall and precision\n",
    "  print(classification_report(y_test, y_pred, labels=np.unique(y_pred)))\n",
    "  \n",
    "  # print out confusion matrix\n",
    "  print(\"Confusion Matrix: \\n\", confusion_matrix(y_test, y_pred))\n",
    "\n",
    "  # # calculate points for ROC curve\n",
    "  fpr, tpr, thresholds = roc_curve(y_test, y_pred)\n",
    "  \n",
    "  # Plot ROC curve\n",
    "  plt.plot(fpr, tpr, label='ROC curve (area = %0.3f)' % roc_auc_score(y_test, y_pred))\n",
    "  plt.plot([0, 1], [0, 1], 'k--')\n",
    "  plt.ylim([0.0, 1.0])\n",
    "  plt.xlabel('False Positive Rate')\n",
    "  plt.ylabel('True Positive Rate')\n",
    "  plt.title('Receiver Operating Characteristic')"
   ]
  },
  {
   "cell_type": "markdown",
   "metadata": {},
   "source": [
    "## k-cross"
   ]
  },
  {
   "cell_type": "code",
   "execution_count": 74,
   "metadata": {},
   "outputs": [],
   "source": [
    "from sklearn.model_selection import RepeatedKFold\n",
    "from sklearn.metrics import f1_score\n",
    "from sklearn.metrics import recall_score\n",
    "\n",
    "def k_cross(model, X, y, k=10, n=1, random_state=42):\n",
    "    f1_scores = []\n",
    "    recall_scores = []\n",
    "    rkf = RepeatedKFold(n_splits=k, n_repeats=n, random_state=random_state)\n",
    "    for train_index, val_index in rkf.split(X):\n",
    "        X_train, X_val = X[train_index], X[val_index]\n",
    "        y_train, y_val = y[train_index], y[val_index]\n",
    "        \n",
    "        model.fit(X_train, y_train) \n",
    "        \n",
    "        y_pred = model.predict(X_val)\n",
    "        f1 = f1_score(y_val, y_pred)\n",
    "        f1_scores.append(f1)\n",
    "        recall = recall_score(y_val, y_pred)\n",
    "        recall_scores.append(recall)\n",
    "        \n",
    "    return f1_scores, recall_scores"
   ]
  },
  {
   "cell_type": "code",
   "execution_count": 89,
   "metadata": {},
   "outputs": [],
   "source": [
    "def evaluate_model(model):\n",
    "    model.fit(x_train, y_train)\n",
    "    y_pred = model.predict(x_test)\n",
    "    evaluate_on_training_set(y_test, y_pred)\n",
    "    \n",
    "    return model"
   ]
  },
  {
   "cell_type": "markdown",
   "metadata": {},
   "source": [
    "# Run Model "
   ]
  },
  {
   "cell_type": "code",
   "execution_count": 86,
   "metadata": {},
   "outputs": [],
   "source": [
    "def run_model(input_model, X_train, X_test, y_train, y_test):\n",
    "    model = input_model\n",
    "    model.fit(X_train, y_train)\n",
    "    y_pred = model.predict(x_test)\n",
    "    evaluate_on_training_set(y_test, y_pred)\n",
    "    \n",
    "    return model"
   ]
  },
  {
   "cell_type": "markdown",
   "metadata": {},
   "source": [
    "# Training Models "
   ]
  },
  {
   "cell_type": "markdown",
   "metadata": {},
   "source": [
    "### Naive Bayes Model"
   ]
  },
  {
   "cell_type": "code",
   "execution_count": 76,
   "metadata": {},
   "outputs": [
    {
     "name": "stdout",
     "output_type": "stream",
     "text": [
      "accuracy:  0.6756756756756757\n",
      "F1:  [0.0, 0.0, 0.0, 0.0, 0.0, 0.0, 0.0, 0.0, 0.0, 0.0]\n",
      "Recall:  [0.0, 0.0, 0.0, 0.0, 0.0, 0.0, 0.0, 0.0, 0.0, 0.0]\n"
     ]
    }
   ],
   "source": [
    "from sklearn.naive_bayes import MultinomialNB\n",
    "\n",
    "clf = MultinomialNB().fit(x_train, y_train)\n",
    "predicted = clf.predict(x_test)\n",
    "accuracy = np.mean(predicted == y_test)\n",
    "\n",
    "print(\"accuracy: \", accuracy)\n",
    "\n",
    "clf = MultinomialNB()\n",
    "\n",
    "# run_model(clf, x_train, x_test, y_train, y_test)\n",
    "f1_scores, recall_scores = k_cross(clf, x_train, y_train)\n",
    "\n",
    "print(\"F1: \", f1_scores)\n",
    "print(\"Recall: \", recall_scores)\n",
    "\n"
   ]
  },
  {
   "cell_type": "markdown",
   "metadata": {},
   "source": [
    "### SVM Model"
   ]
  },
  {
   "cell_type": "code",
   "execution_count": 38,
   "metadata": {},
   "outputs": [
    {
     "name": "stdout",
     "output_type": "stream",
     "text": [
      "AUC is:  0.5\n",
      "              precision    recall  f1-score   support\n",
      "\n",
      "           0       0.68      1.00      0.81        25\n",
      "\n",
      "   micro avg       0.68      1.00      0.81        25\n",
      "   macro avg       0.68      1.00      0.81        25\n",
      "weighted avg       0.68      1.00      0.81        25\n",
      "\n",
      "Confusion Matrix: \n",
      " [[25  0]\n",
      " [12  0]]\n"
     ]
    },
    {
     "data": {
      "text/plain": [
       "SVC(C=10, gamma='auto')"
      ]
     },
     "execution_count": 38,
     "metadata": {},
     "output_type": "execute_result"
    },
    {
     "data": {
      "image/png": "[encoded data removed]",
      "text/plain": [
       "<Figure size 432x288 with 1 Axes>"
      ]
     },
     "metadata": {
      "needs_background": "light"
     },
     "output_type": "display_data"
    }
   ],
   "source": [
    "from sklearn.svm import SVC \n",
    "svc = SVC(C = 10, gamma= \"auto\", kernel = \"rbf\")\n",
    "run_model(svc, x_train, x_test, y_train, y_test)\n"
   ]
  },
  {
   "cell_type": "markdown",
   "metadata": {},
   "source": [
    "## AdaboostClassifier"
   ]
  },
  {
   "cell_type": "code",
   "execution_count": 39,
   "metadata": {},
   "outputs": [
    {
     "name": "stdout",
     "output_type": "stream",
     "text": [
      "AUC is:  0.5\n",
      "              precision    recall  f1-score   support\n",
      "\n",
      "           0       0.68      1.00      0.81        25\n",
      "\n",
      "   micro avg       0.68      1.00      0.81        25\n",
      "   macro avg       0.68      1.00      0.81        25\n",
      "weighted avg       0.68      1.00      0.81        25\n",
      "\n",
      "Confusion Matrix: \n",
      " [[25  0]\n",
      " [12  0]]\n"
     ]
    },
    {
     "data": {
      "text/plain": [
       "SVC(C=10, gamma='auto')"
      ]
     },
     "execution_count": 39,
     "metadata": {},
     "output_type": "execute_result"
    },
    {
     "data": {
      "image/png": "[encoded data removed]",
      "text/plain": [
       "<Figure size 432x288 with 1 Axes>"
      ]
     },
     "metadata": {
      "needs_background": "light"
     },
     "output_type": "display_data"
    }
   ],
   "source": [
    "from sklearn.ensemble import AdaBoostClassifier\n",
    "abc = AdaBoostClassifier(n_estimators=1000, learning_rate=0.1)\n",
    "\n",
    "run_model(svc, x_train, x_test, y_train, y_test)"
   ]
  },
  {
   "cell_type": "markdown",
   "metadata": {},
   "source": [
    "# Decision Tree"
   ]
  },
  {
   "cell_type": "code",
   "execution_count": 87,
   "metadata": {
    "scrolled": true
   },
   "outputs": [
    {
     "name": "stdout",
     "output_type": "stream",
     "text": [
      "depth: 1, leaf: 1: f1 = 0.075 > best f1 = -1\n",
      "depth: 1, leaf: 1: recall = 0.07333333333333333 > best recall = -1\n",
      "depth: 1, leaf: 9: f1 = 0.22833333333333333 > best f1 = 0.075\n",
      "depth: 1, leaf: 9: recall = 0.22523809523809524 > best recall = 0.07333333333333333\n",
      "depth: 1, leaf: 20: f1 = 0.27880952380952384 > best f1 = 0.22833333333333333\n",
      "depth: 1, leaf: 20: recall = 0.2652380952380952 > best recall = 0.22523809523809524\n",
      "depth: 1, leaf: 21: f1 = 0.3054761904761905 > best f1 = 0.27880952380952384\n",
      "depth: 1, leaf: 21: recall = 0.2795238095238095 > best recall = 0.2652380952380952\n",
      "depth: 1, leaf: 25: recall = 0.2842857142857143 > best recall = 0.2795238095238095\n",
      "depth: 1, leaf: 30: f1 = 0.33238095238095244 > best f1 = 0.3054761904761905\n",
      "depth: 1, leaf: 30: recall = 0.3176190476190476 > best recall = 0.2842857142857143\n",
      "depth: 2, leaf: 11: recall = 0.3304761904761905 > best recall = 0.3176190476190476\n",
      "depth: 2, leaf: 12: recall = 0.3504761904761905 > best recall = 0.3304761904761905\n",
      "depth: 2, leaf: 19: recall = 0.35380952380952374 > best recall = 0.3504761904761905\n",
      "depth: 3, leaf: 11: recall = 0.379047619047619 > best recall = 0.35380952380952374\n",
      "depth: 4, leaf: 12: f1 = 0.34952380952380957 > best f1 = 0.33238095238095244\n",
      "depth: 4, leaf: 13: f1 = 0.35285714285714287 > best f1 = 0.34952380952380957\n",
      "depth: 4, leaf: 13: recall = 0.39904761904761904 > best recall = 0.379047619047619\n"
     ]
    }
   ],
   "source": [
    "from sklearn.tree import DecisionTreeClassifier\n",
    "\n",
    "def find_best_tree_model(upper_depth, upper_leaf):\n",
    "    best_f1_model = None\n",
    "    best_recall_model = None\n",
    "    best_f1 = -1\n",
    "    best_recall = -1\n",
    "    \n",
    "    for depth in range(1, upper_depth + 1):\n",
    "        for leaf in range(1, upper_leaf + 1):\n",
    "            model = DecisionTreeClassifier(random_state=42, max_depth=depth, min_samples_leaf=leaf) \n",
    "            \n",
    "            f1_scores, recall_scores = k_cross(model, x_train, y_train)\n",
    "            f1 = np.mean(f1_scores)\n",
    "            recall = np.mean(recall_scores)\n",
    "            \n",
    "            if f1 > best_f1:\n",
    "                print(f\"depth: {depth}, leaf: {leaf}: f1 = {f1} > best f1 = {best_f1}\")\n",
    "                best_f1 = f1\n",
    "                best_f1_model = model\n",
    "                \n",
    "            if recall > best_recall:\n",
    "                print(f\"depth: {depth}, leaf: {leaf}: recall = {recall} > best recall = {best_recall}\")\n",
    "                best_recall = recall\n",
    "                best_recall_model = model\n",
    "    \n",
    "    return best_f1_model, best_recall_model\n",
    "\n",
    "best_tree_f1_model, best_tree_recall_model = find_best_tree_model(20, 30)"
   ]
  },
  {
   "cell_type": "code",
   "execution_count": 90,
   "metadata": {},
   "outputs": [
    {
     "name": "stdout",
     "output_type": "stream",
     "text": [
      "AUC is:  0.48666666666666664\n",
      "              precision    recall  f1-score   support\n",
      "\n",
      "           0       0.67      0.64      0.65        25\n",
      "           1       0.31      0.33      0.32        12\n",
      "\n",
      "    accuracy                           0.54        37\n",
      "   macro avg       0.49      0.49      0.49        37\n",
      "weighted avg       0.55      0.54      0.55        37\n",
      "\n",
      "Confusion Matrix: \n",
      " [[16  9]\n",
      " [ 8  4]]\n"
     ]
    },
    {
     "data": {
      "text/plain": [
       "DecisionTreeClassifier(max_depth=4, min_samples_leaf=13, random_state=42)"
      ]
     },
     "execution_count": 90,
     "metadata": {},
     "output_type": "execute_result"
    },
    {
     "data": {
      "image/png": "[encoded data removed]",
      "text/plain": [
       "<Figure size 432x288 with 1 Axes>"
      ]
     },
     "metadata": {
      "needs_background": "light"
     },
     "output_type": "display_data"
    }
   ],
   "source": [
    "evaluate_model(best_tree_f1_model)"
   ]
  },
  {
   "cell_type": "code",
   "execution_count": 91,
   "metadata": {},
   "outputs": [
    {
     "name": "stdout",
     "output_type": "stream",
     "text": [
      "AUC is:  0.48666666666666664\n",
      "              precision    recall  f1-score   support\n",
      "\n",
      "           0       0.67      0.64      0.65        25\n",
      "           1       0.31      0.33      0.32        12\n",
      "\n",
      "    accuracy                           0.54        37\n",
      "   macro avg       0.49      0.49      0.49        37\n",
      "weighted avg       0.55      0.54      0.55        37\n",
      "\n",
      "Confusion Matrix: \n",
      " [[16  9]\n",
      " [ 8  4]]\n"
     ]
    },
    {
     "data": {
      "text/plain": [
       "DecisionTreeClassifier(max_depth=4, min_samples_leaf=13, random_state=42)"
      ]
     },
     "execution_count": 91,
     "metadata": {},
     "output_type": "execute_result"
    },
    {
     "data": {
      "image/png": "[encoded data removed]",
      "text/plain": [
       "<Figure size 432x288 with 1 Axes>"
      ]
     },
     "metadata": {
      "needs_background": "light"
     },
     "output_type": "display_data"
    }
   ],
   "source": [
    "evaluate_model(best_tree_recall_model)"
   ]
  },
  {
   "cell_type": "markdown",
   "metadata": {},
   "source": [
    "## Random Forest"
   ]
  },
  {
   "cell_type": "code",
   "execution_count": 97,
   "metadata": {},
   "outputs": [
    {
     "name": "stdout",
     "output_type": "stream",
     "text": [
      "estimator: 1: f1 = 0.20771284271284274 > best f1 = -1\n",
      "estimator: 1: recall = 0.20285714285714285 > best recall = -1\n"
     ]
    }
   ],
   "source": [
    "from sklearn.ensemble import RandomForestClassifier\n",
    "\n",
    "def find_best_forest_model(n_estimators):\n",
    "    best_f1_model = None\n",
    "    best_recall_model = None\n",
    "    best_f1 = -1\n",
    "    best_recall = -1\n",
    "    \n",
    "    for estimator in range(1, n_estimators + 1):\n",
    "        model = RandomForestClassifier(random_state=42, n_estimators=estimator) \n",
    "        \n",
    "        f1_scores, recall_scores = k_cross(model, x_train, y_train)\n",
    "        f1 = np.mean(f1_scores)\n",
    "        recall = np.mean(recall_scores)\n",
    "\n",
    "        if f1 > best_f1:\n",
    "            print(f\"estimator: {estimator}: f1 = {f1} > best f1 = {best_f1}\")\n",
    "            best_f1 = f1\n",
    "            best_f1_model = model\n",
    "\n",
    "        if recall > best_recall:\n",
    "            print(f\"estimator: {estimator}: recall = {recall} > best recall = {best_recall}\")\n",
    "            best_recall = recall\n",
    "            best_recall_model = model\n",
    "    \n",
    "    return best_f1_model, best_recall_model\n",
    "\n",
    "best_forest_f1_model, best_forest_recall_model = find_best_forest_model(20)"
   ]
  },
  {
   "cell_type": "code",
   "execution_count": 98,
   "metadata": {},
   "outputs": [
    {
     "name": "stdout",
     "output_type": "stream",
     "text": [
      "AUC is:  0.6916666666666668\n",
      "              precision    recall  f1-score   support\n",
      "\n",
      "           0       0.80      0.80      0.80        25\n",
      "           1       0.58      0.58      0.58        12\n",
      "\n",
      "    accuracy                           0.73        37\n",
      "   macro avg       0.69      0.69      0.69        37\n",
      "weighted avg       0.73      0.73      0.73        37\n",
      "\n",
      "Confusion Matrix: \n",
      " [[20  5]\n",
      " [ 5  7]]\n"
     ]
    },
    {
     "data": {
      "text/plain": [
       "RandomForestClassifier(n_estimators=1, random_state=42)"
      ]
     },
     "execution_count": 98,
     "metadata": {},
     "output_type": "execute_result"
    },
    {
     "data": {
      "image/png": "[encoded data removed]",
      "text/plain": [
       "<Figure size 432x288 with 1 Axes>"
      ]
     },
     "metadata": {
      "needs_background": "light"
     },
     "output_type": "display_data"
    }
   ],
   "source": [
    "evaluate_model(best_forest_f1_model)"
   ]
  },
  {
   "cell_type": "code",
   "execution_count": null,
   "metadata": {},
   "outputs": [],
   "source": []
  }
 ],
 "metadata": {
  "kernelspec": {
   "display_name": "Python 3",
   "language": "python",
   "name": "python3"
  },
  "language_info": {
   "codemirror_mode": {
    "name": "ipython",
    "version": 3
   },
   "file_extension": ".py",
   "mimetype": "text/x-python",
   "name": "python",
   "nbconvert_exporter": "python",
   "pygments_lexer": "ipython3",
   "version": "3.7.3"
  }
 },
 "nbformat": 4,
 "nbformat_minor": 2
}
