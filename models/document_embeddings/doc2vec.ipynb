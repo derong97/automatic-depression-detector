{
 "cells": [
  {
   "cell_type": "markdown",
   "metadata": {},
   "source": [
    "# Import necessary modules"
   ]
  },
  {
   "cell_type": "code",
   "execution_count": 1,
   "metadata": {},
   "outputs": [
    {
     "name": "stdout",
     "output_type": "stream",
     "text": [
      "Requirement already satisfied: gensim in /opt/conda/lib/python3.6/site-packages (3.8.3)\n",
      "Requirement already satisfied: six>=1.5.0 in /opt/conda/lib/python3.6/site-packages (from gensim) (1.15.0)\n",
      "Requirement already satisfied: numpy>=1.11.3 in /opt/conda/lib/python3.6/site-packages (from gensim) (1.18.5)\n",
      "Requirement already satisfied: smart-open>=1.8.1 in /opt/conda/lib/python3.6/site-packages (from gensim) (4.0.1)\n",
      "Requirement already satisfied: scipy>=0.18.1 in /opt/conda/lib/python3.6/site-packages (from gensim) (1.4.1)\n"
     ]
    }
   ],
   "source": [
    "!pip install gensim\n",
    "\n",
    "# Standard libraries\n",
    "import pandas as pd\n",
    "import numpy as np\n",
    "import matplotlib.pyplot as plt\n",
    "from pathlib import Path\n",
    "\n",
    "# Processing\n",
    "from sklearn.base import clone\n",
    "from sklearn.utils import shuffle\n",
    "from sklearn.model_selection import RepeatedKFold\n",
    "from tqdm import tqdm\n",
    "import random\n",
    "\n",
    "# gensim\n",
    "import gensim\n",
    "from gensim.models import doc2vec\n",
    "from gensim.models.doc2vec import TaggedDocument\n",
    "\n",
    "# Metrics\n",
    "from sklearn import utils\n",
    "from sklearn.metrics import classification_report, confusion_matrix, roc_curve, roc_auc_score, \\\n",
    "        f1_score, precision_score, recall_score\n",
    "\n",
    "# Classifiers\n",
    "from sklearn.linear_model import LogisticRegression\n",
    "from sklearn.tree import DecisionTreeClassifier\n",
    "from sklearn.ensemble import RandomForestClassifier\n",
    "from sklearn.svm import SVC\n",
    "from sklearn.model_selection import GridSearchCV"
   ]
  },
  {
   "cell_type": "markdown",
   "metadata": {},
   "source": [
    "# Prepare data"
   ]
  },
  {
   "cell_type": "code",
   "execution_count": 2,
   "metadata": {},
   "outputs": [
    {
     "data": {
      "text/html": [
       "<div>\n",
       "<style scoped>\n",
       "    .dataframe tbody tr th:only-of-type {\n",
       "        vertical-align: middle;\n",
       "    }\n",
       "\n",
       "    .dataframe tbody tr th {\n",
       "        vertical-align: top;\n",
       "    }\n",
       "\n",
       "    .dataframe thead th {\n",
       "        text-align: right;\n",
       "    }\n",
       "</style>\n",
       "<table border=\"1\" class=\"dataframe\">\n",
       "  <thead>\n",
       "    <tr style=\"text-align: right;\">\n",
       "      <th></th>\n",
       "      <th>Transcript</th>\n",
       "      <th>PHQ_Score</th>\n",
       "      <th>PHQ_Binary</th>\n",
       "    </tr>\n",
       "    <tr>\n",
       "      <th>Participant_ID</th>\n",
       "      <th></th>\n",
       "      <th></th>\n",
       "      <th></th>\n",
       "    </tr>\n",
       "  </thead>\n",
       "  <tbody>\n",
       "    <tr>\n",
       "      <th>300</th>\n",
       "      <td>good atlanta georgia um my parents um i love i...</td>\n",
       "      <td>2</td>\n",
       "      <td>0</td>\n",
       "    </tr>\n",
       "    <tr>\n",
       "      <th>301</th>\n",
       "      <td>thank you mmm k i good thank you i los angeles...</td>\n",
       "      <td>3</td>\n",
       "      <td>0</td>\n",
       "    </tr>\n",
       "    <tr>\n",
       "      <th>302</th>\n",
       "      <td>i fine yourself i los angeles california part ...</td>\n",
       "      <td>4</td>\n",
       "      <td>0</td>\n",
       "    </tr>\n",
       "    <tr>\n",
       "      <th>303</th>\n",
       "      <td>okay bout yourself california yeah oh well it ...</td>\n",
       "      <td>0</td>\n",
       "      <td>0</td>\n",
       "    </tr>\n",
       "    <tr>\n",
       "      <th>304</th>\n",
       "      <td>i good um los angeles california um cool weath...</td>\n",
       "      <td>6</td>\n",
       "      <td>0</td>\n",
       "    </tr>\n",
       "  </tbody>\n",
       "</table>\n",
       "</div>"
      ],
      "text/plain": [
       "                                                       Transcript  PHQ_Score  \\\n",
       "Participant_ID                                                                 \n",
       "300             good atlanta georgia um my parents um i love i...          2   \n",
       "301             thank you mmm k i good thank you i los angeles...          3   \n",
       "302             i fine yourself i los angeles california part ...          4   \n",
       "303             okay bout yourself california yeah oh well it ...          0   \n",
       "304             i good um los angeles california um cool weath...          6   \n",
       "\n",
       "                PHQ_Binary  \n",
       "Participant_ID              \n",
       "300                      0  \n",
       "301                      0  \n",
       "302                      0  \n",
       "303                      0  \n",
       "304                      0  "
      ]
     },
     "execution_count": 2,
     "metadata": {},
     "output_type": "execute_result"
    }
   ],
   "source": [
    "df = pd.read_csv(\"clean_compiled_transcripts.csv\", index_col = \"Participant_ID\")\n",
    "df.head()"
   ]
  },
  {
   "cell_type": "markdown",
   "metadata": {},
   "source": [
    "## Split the dataset (skip if you have the numpy data) "
   ]
  },
  {
   "cell_type": "code",
   "execution_count": 3,
   "metadata": {},
   "outputs": [],
   "source": [
    "X = df.Transcript\n",
    "y = df.PHQ_Binary"
   ]
  },
  {
   "cell_type": "code",
   "execution_count": 4,
   "metadata": {},
   "outputs": [],
   "source": [
    "def train_test(X, y, testfile='test_split_Depression_AVEC2017.csv'):\n",
    "    test_participants = pd.read_csv(testfile)['participant_ID'].values\n",
    "    X_train = []\n",
    "    X_test = []\n",
    "    y_train = []\n",
    "    y_test = []\n",
    "    \n",
    "    for i in range(y.shape[0]):\n",
    "        participant_no = y.index[i]\n",
    "        \n",
    "        if participant_no in test_participants:\n",
    "            X_test.append(X[participant_no])\n",
    "            y_test.append(y[participant_no])\n",
    "        else:\n",
    "            X_train.append(X[participant_no])\n",
    "            y_train.append(y[participant_no])\n",
    "    \n",
    "    return np.array(X_train), np.array(X_test), np.array(y_train), np.array(y_test)\n",
    "\n",
    "X_train, X_test, y_train, y_test = train_test(X, y)"
   ]
  },
  {
   "cell_type": "code",
   "execution_count": 5,
   "metadata": {},
   "outputs": [],
   "source": [
    "RANDOM_STATE = 42\n",
    "\n",
    "# because the RandomUnderSampler does not work here\n",
    "def undersampling(X_train, y_train):\n",
    "    random.seed(RANDOM_STATE)\n",
    "    \n",
    "    neg_list = [i for i in range(len(y_train)) if y_train[i] == 0]\n",
    "    pos_list = [i for i in range(len(y_train)) if y_train[i] == 1]\n",
    "    \n",
    "    if len(neg_list) < len(pos_list):\n",
    "        minority_list = neg_list\n",
    "        majority_list = pos_list\n",
    "    else:\n",
    "        minority_list = pos_list\n",
    "        majority_list = neg_list\n",
    "        \n",
    "    sampled_list = random.sample(majority_list, len(minority_list))\n",
    "    \n",
    "    final_list = sampled_list + minority_list\n",
    "    \n",
    "    X_train_us = []\n",
    "    y_train_us = []\n",
    "    \n",
    "    for i in final_list:\n",
    "        X_train_us.append(X_train[i])\n",
    "        y_train_us.append(y_train[i])\n",
    "                                 \n",
    "    return np.array(X_train_us), np.array(y_train_us)\n",
    "\n",
    "X_train, y_train = undersampling(X_train, y_train)"
   ]
  },
  {
   "cell_type": "code",
   "execution_count": 6,
   "metadata": {},
   "outputs": [
    {
     "data": {
      "text/plain": [
       "((82,), (45,), (82,), (45,))"
      ]
     },
     "execution_count": 6,
     "metadata": {},
     "output_type": "execute_result"
    }
   ],
   "source": [
    "# shuffle the train data in unison because data is in order\n",
    "# reduces poor performance during k-cross validation when sampling data\n",
    "\n",
    "X_train, y_train = shuffle(X_train, y_train, random_state=RANDOM_STATE)\n",
    "\n",
    "X_train.shape, X_test.shape, y_train.shape, y_test.shape"
   ]
  },
  {
   "cell_type": "markdown",
   "metadata": {},
   "source": [
    "## Label sentences (skip if you have the numpy data)"
   ]
  },
  {
   "cell_type": "code",
   "execution_count": 7,
   "metadata": {},
   "outputs": [],
   "source": [
    "def label_sentences(corpus, label_type):\n",
    "    \"\"\"\n",
    "    Gensim's Doc2Vec implementation requires each document/paragraph to have a label associated with it.\n",
    "    We do this by using the TaggedDocument method. The format will be \"TRAIN_i\" or \"TEST_i\" where \"i\" is\n",
    "    a dummy index of the post.\n",
    "    \"\"\"\n",
    "    labeled = []\n",
    "    for i, v in enumerate(corpus):\n",
    "        label = label_type + '_' + str(i)\n",
    "        labeled.append(doc2vec.TaggedDocument(v.split(), [label]))\n",
    "    return labeled"
   ]
  },
  {
   "cell_type": "code",
   "execution_count": 8,
   "metadata": {},
   "outputs": [
    {
     "data": {
      "text/plain": [
       "[TaggedDocument(words=['yes', 'i', 'fine', 'california', 'los', 'angeles', 'mhm', 'um', 'i', 'love', 'near', 'beach', 'um', 'i', 'love', 'beach', 'i', 'love', 'um', 'living', 'big', 'city', 'um', 'i', 'love', 'fact', 'i', 'lots', 'friends', 'family', 'mm', 'traffic', 'um', 'many', 'sometimes', 'many', 'people', 'apart', 'i', 'i', 'generally', 'happy', 'photography', 'language', 'studies', 'mhm', 'um', 'i', 'love', 'photography', 'i', 'always', 'interested', 'it', 'studied', 'it', 'high', 'school', 'well', 'i', 'wanted', 'continue', 'learn', 'it', 'languages', 'i', 'come', 'mixed', 'background', 'i', 'wanted', 'learn', 'languages', 'my', 'ethnic', 'background', 'it', 'um', 'it', 'hard', 'it', 'passion', 'i', 'enjoyed', 'it', 'i', 'um', 'photography', 'full', 'time', 'also', 'things', 'i', 'passionate', 'um', 'creatively', 'creative', 'things', 'i', 'idea', 'i', 'would', 'like', 'um', 'make', 'robe', 'ah', 'like', 'robe', 'line', 'um', 'womens', 'robes', 'things', 'like', 'mhm', 'i', 'i', 'traveled', 'quite', 'bit', 'i', 'enjoy', 'i', 'love', 'travel', 'um', 'seeing', 'different', 'cultures', 'different', 'countries', 'um', 'meeting', 'new', 'people', 'language', 'um', 'i', 'lived', 'greece', 'um', 'year', 'i', 'taught', 'english', 'um', 'i', 'moved', 'around', 'different', 'parts', 'greece', 'uh', 'really', 'great', 'time', 'i', 'think', 'um', 'my', 'group', 'friends', 'i', 'met', 'going', 'experience', 'them', 'um', 'i', 'think', 'one', 'my', 'memorable', 'experiences', 'going', 'elafonisos', 'car', 'everybody', 'um', 'fantastic', 'time', 'yes', 'it', 'um', 'i', 'think', 'i', 'shy', 'begin', 'um', 'i', 'get', 'know', 'people', 'i', 'much', 'outgoing', 'photography', 'language', 'studies', 'um', 'i', 'stay', 'home', 'uh', 'maybe', 'watch', 'movie', 'um', 'rest', 'bed', 'watching', 'movie', 'bed', 'probably', 'one', 'things', 'i', 'like', 'relax', 'i', 'think', 'good', 'um', 'it', 'probably', 'my', 'boyfriend', 'um', 'uh', 'regarding', 'money', 'issues', 'um', 'i', 'need', 'i', 'feel', 'guilty', 'generating', 'much', 'income', 'i', 'need', 'right', 'i', 'struggles', 'my', 'career', 'right', 'um', 'financially', 'it', 'becoming', 'difficult', 'yeah', 'it', 'it', 'difficult', 'i', 'working', 'hard', 'um', 'remedy', 'well', 'i', 'um', 'i', 'focus', 'study', 'i', 'um', 'many', 'things', 'generate', 'money', 'working', 'harder', 'looking', 'ways', 'generate', 'money', 'outside', 'my', 'my', 'career', 'um', 'probably', 'raped', 'sometimes', 'um', 'i', 'aware', 'um', 'i', 'feeling', 'stressed', 'um', 'i', 'feeling', 'um', 'feeling', 'stressed', 'worried', 'i', 'seem', 'problem', 'it', 'i', 'seem', 'get', 'good', 'nights', 'sleep', 'almost', 'every', 'night', 'mhm', 'um', 'grumpy', 'lethargic', 'um', 'morning', 'hmm', 'situation', 'i', 'wish', 'i', 'would', 'handle', 'differently', 'um', 'i', 'really', 'think', 'one', 'right', 'hardest', 'decision', 'um', 'i', 'ever', 'make', 'it', 'probably', 'um', 'deciding', 'child', 'well', 'um', 'i', 'pregnant', 'um', 'um', 'sure', 'whether', 'i', 'continue', 'pregancy', 'um', 'also', 'due', 'financial', 'burden', 'um', 'father', 'i', 'involved', 'want', 'child', 'i', 'made', 'difficult', 'decision', 'hmm', 'really', 'really', 'happy', 'i', 'know', 'i', 'went', 'um', 'cancun', 'um', 'holiday', 'um', 'new', 'year', 'um', 'new', 'year', 'period', 'new', 'year', 'holiday', 'i', 'felt', 'absolutely', 'fantastic', 'i', 'felt', 'happy', 'i', 'felt', 'relaxed', 'um', 'i', 'felt', 'like', 'i', 'care', 'world', 'temporarily', 'um', 'eh', 'free', 'um', 'i', 'wish', 'i', 'could', 'um', 'little', 'bit', 'stronger', 'assertive', 'definitely', 'assertive', 'um', 'i', 'would', 'say', 'i', 'wonderful', 'wonderful', 'friend', 'um', 'mm', 'i', 'i', 'love', 'somebody', 'you', 'know', 'i', 'love', 'them', 'deeply', 'friends', 'family', 'um', 'boyfriend', 'um', 'i', 'think', 'good', 'i', 'loyal', 'friend', 'um', 'i', 'honest', 'i', 'care', 'people', 'um', 'i', 'fun', 'i', 'think', 'my', 'best', 'qualities', 'um', 'my', 'relationship', 'my', 'family', 'um', 'my', 'father', 'great', 'um', 'my', 'parents', 'divorced', 'i', 'young', 'he', 'sort', 'my', 'life', 'you', 'know', 'forever', 'uh', 'mostly', 'um', 'it', 'fantastic', 'um', 'it', 'something', 'i', 'used', 'it', 'painful', 'it', 'would', 'he', 'i', 'lost', 'him', 'it', 'it', 'still', 'it', 'still', 'um', 'it', 'still', 'best', 'situation', 'i', 'mean', 'i', 'still', 'wish', 'could', 'um', 'remedied', 'somehow', 'scrubbedentry', 'good', 'bad', 'relationships', 'my', 'family', 'scrubbedentry', 'someone', 'me', 'since', 'i', 'young', 'always', 'incredible', 'i', 'love', 'her', 'much', 'um', 'ten', 'twenty', 'years', 'ago', 'um', 'i', 'would', 'told', 'myself', 'work', 'harder', 'much', 'fun', 'i', 'work', 'hard', 'i', 'i', 'regret', 'exactly', 'i', 'regret', 'um', 'taking', 'my', 'career', 'seriously', 'earlier', 'um', 'it', 'it', 'um', 'it', 'much', 'harder', 'um', 'i', 'think', 'it', 'taking', 'kids', 'pier', 'um', 'spending', 'wonderful', 'time', 'them', 'making', 'them', 'happy', 'probably', 'great', 'time', 'um', 'one', 'best', 'times', 'last', 'weeks', 'scrubbedentry', 'uh', 'they', 'they', 'great', 'kids', 'um', 'i', 'think', 'they', 'it', 'challenging', 'um', 'it', 'difficult', 'they', 'stepchildren', 'um', 'times', 'i', 'sure', 'exactly', 'much', 'um', 'get', 'involved', 'much', 'get', 'involved', 'i', 'we', 'lucky', 'they', 'really', 'good', 'kids', 'they', 'tend', 'fight', 'lot', 'um', 'i', 'it', 'difficult', 'um', 'i', 'think', 'parents', 'it', 'mhm', 'um', 'i', 'made', 'it', 'make', 'make', 'conscious', 'effort', 'um', 'punish', 'them', 'um', 'overpunish', 'them', 'i', 'make', 'conscious', 'decision', 'um', 'scream', 'them', 'way', 'i', 'screamed', 'i', 'screamed', 'lot', 'child', 'um', 'it', 'really', 'it', 'really', 'difficult', 'i', 'make', 'sure', 'um', 'i', 'think', 'i', 'proud', 'fact', 'i', 'um', 'able', 'travel', 'world', 'um', 'live', 'places', 'many', 'many', 'places', 'um', 'around', 'country', 'around', 'world', 'um', 'fact', 'um', 'i', 'learned', 'several', 'languages', 'um', 'fact', 'i', 'able', 'maintain', 'um', 'really', 'long', 'long', 'long', 'relationships', 'my', 'friends', 'thank', 'you', 'goodbye'], tags=['train_0']),\n",
       " TaggedDocument(words=['uh', 'yeah', 'sure', 'i', 'alright', 'uh', 'i', 'weird', 'test', 'study', 'right', 'uh', 'i', 'los', 'angeles', 'mhm', 'kinds', 'different', 'things', 'city', 'uh', 'well', 'i', 'know', 'area', 'little', 'different', 'it', 'hard', 'get', 'boring', 'around', 'oh', 'you', 'know', 'traffic', 'smog', 'much', 'i', 'would', 'like', 'mm', 'money', 'mainly', 'lack', 'money', 'i', 'like', 'seeing', 'world', 'seeing', 'different', 'places', 'went', 'uh', 'went', 'russia', 'three', 'years', 'ago', 'yeah', 'i', 'like', 'go', 'churches', 'we', 'huge', 'trip', 'churches', 'area', 'uh', 'music', 'part', 'uh', 'i', 'playing', 'music', 'long', 'time', 'yeah', 'xxx', 'musician', 'touring', 'performing', 'musician', 'really', 'really', 'really', 'hard', 'lot', 'competition', 'luck', 'involved', 'i', 'agree', 'little', 'i', 'suppose', 'probably', 'i', 'i', 'play', 'lot', 'music', 'sit', 'guitar', 'little', 'i', 'would', 'say', 'good', 'i', 'think', 'i', 'calm', 'person', 'i', 'difficulty', 'even', 'remembering', 'uh', 'nothing', 'big', 'long', 'time', 'mm', 'i', 'difficulty', 'thinking', 'one', 'spot', 'right', 'hardest', 'decision', 'i', 'ever', 'make', 'uh', 'i', 'i', 'sure', 'i', 'i', 'think', 'anything', 'guilty', 'um', 'i', 'boy', 'i', 'stole', 'little', 'golden', 'bicycle', 'old', 'lady', 'i', 'proud', 'it', 'um', 'nan', 'it', 'ideal', 'i', 'live', 'my', 'parents', 'i', 'twenty', 'three', 'years', 'old', 'becoming', 'awkward', 'i', 'think', 'i', 'know', 'i', 'think', 'things', 'improving', 'i', 'need', 'move', 'i', 'need', 'get', 'my', 'apartment', 'uh', 'we', 'come', 'back', 'around', 'friends', 'i', 'sure', 'my', 'parents', 'uh', 'lot', 'positive', 'influences', 'my', 'life', 'i', 'got', 'good', 'group', 'friends', 'you', 'know', 'my', 'family', 'i', 'love', 'them', 'nonetheless', 'easy', 'i', 'would', 'say', 'mhm', 'um', 'uh', 'uh', 'groggy', 'people', 'get', 'i', 'know', 'i', 'general', 'uh', 'well', 'i', 'would', 'say', 'things', 'alright', 'um', 'nothing', 'huge', 'mm', 'mm', 'last', 'time', 'i', 'i', 'really', 'good', 'band', 'practice', 'last', 'night', 'friends', 'i', 'felt', 'really', 'good', 'mhm', 'think', 'generally', 'funny', 'good', 'around', 'uh', 'work', 'ethic', 'i', 'think', 'big', 'one', 'sure', 'uh', 'you', 'know', 'i', 'i', 'lot', 'projects', 'i', 'planned', 'myself', 'my', 'life', 'i', 'difficulty', 'completing', 'them', 'i', 'like', 'use', 'space', 'excuse', 'my', 'goto', 'one', 'uh', 'i', 'good', 'studio', 'record', 'music', 'um', 'well', 'okay', 'uh', 'current', 'band', 'i', 'working', 'um', 'i', 'told', 'i', 'part', 'time', 'member', 'band', 'i', 'told', 'uh', 'you', 'know', 'i', 'officially', 'core', 'group', 'stuff', 'i', 'felt', 'pretty', 'bad', 'days', 'it', 'alright', 'uh', 'life', 'maybe', 'going', 'maybe', 'finishing', 'college', 'might', 'something', 'um', 'i', 'know', 'i', 'never', 'i', 'i', 'never', 'came', 'pass', 'i', 'would', 'transfer', 'four', 'year', 'university', 'get', 'bachelors', 'degree', 'best', 'qualities', 'i', 'think', 'generally', 'easygoingness', 'good', 'sense', 'humor', 'i', 'recently', 'i', 'really', 'enjoyed', 'last', 'weekend', 'i', 'went', 'camping', 'beach', 'bunch', 'friends', 'nice', 'yeah', 'proud', 'um', 'i', 'guess', 'you', 'know', 'musical', 'accomplishments', 'i', 'put', 'lot', 'work', 'i', 'finding', 'success', 'my', 'way', 'thank', 'you', 'thank', 'you', 'interesting', 'goodbye'], tags=['train_1']),\n",
       " TaggedDocument(words=['yes', 'i', 'fine', 'i', 'born', 'texas', 'i', 'moved', 'california', 'i', 'three', 'grew', 'california', 'yeah', 'i', 'yes', 'uh', 'i', 'never', 'back', 'um', 'relatives', 'reason', 'go', 'back', 'um', 'well', 'my', 'my', 'familys', 'one', 'uh', 'weathers', 'great', 'uh', 'beaches', 'mountains', 'things', 'good', 'uh', 'traffic', 'probably', 'probably', 'people', 'say', 'um', 'it', 'expensive', 'live', 'probably', 'top', 'two', 'uh', 'recently', 'i', 'traveled', 'um', 'well', 'you', 'get', 'see', 'new', 'places', 'new', 'people', 'you', 'get', 'learn', 'cultures', 'uh', 'different', 'ways', 'people', 'think', 'oh', 'uh', 'end', 'march', 'i', 'went', 'ecuador', 'week', 'uh', 'um', 'i', 'spent', 'one', 'day', 'ecuadorian', 'speaks', 'spanish', 'i', 'speak', 'little', 'spanish', 'we', 'got', 'um', 'it', 'it', 'challenging', 'me', 'trying', 'communicate', 'him', 'i', 'felt', 'like', 'little', 'kid', 'trying', 'you', 'know', 'say', 'you', 'know', 'uh', 'it', 'humbling', 'um', 'you', 'know', 'seeing', 'you', 'know', 'you', 'you', 'able', 'communicate', 'difficult', 'i', 'probably', 'shy', 'person', 'genetics', 'i', 'know', 'um', 'i', 'electrician', 'i', 'studied', 'electrical', 'construction', 'i', 'also', 'studied', 'uh', 'computer', 'networking', 'um', 'it', 'i', 'guess', 'uh', 'kinda', 'circumstances', 'i', 'needed', 'work', 'i', 'providing', 'family', 'i', 'knew', 'someone', 'could', 'get', 'me', 'job', 'electrical', 'work', 'i', 'pursued', 'financial', 'gain', 'mm', 'uh', 'it', 'given', 'me', 'lot', 'opportunity', 'uh', 'i', 'think', 'it', 'i', 'i', 'want', 'rest', 'my', 'life', 'well', 'i', 'actually', 'uh', 'pursuing', 'becoming', 'missionary', 'uh', 'my', 'wife', 'i', 'looking', 'moving', 'ecuador', 'fall', 'uh', 'four', 'years', 'last', 'year', 'we', 'we', 'trained', 'north', 'carolina', 'one', 'year', 'um', 'like', 'theology', 'bible', 'training', 'um', 'basically', 'god', 'put', 'um', 'desire', 'my', 'heart', 'get', 'beyond', 'get', 'beyond', 'myself', 'something', 'people', 'go', 'learn', 'another', 'people', 'their', 'culture', 'share', 'gospel', 'them', 'well', 'my', 'immediate', 'family', 'um', 'i', 'i', 'married', 'i', 'married', 'ten', 'years', 'june', 'we', 'four', 'daughters', 'um', 'i', 'i', 'one', 'older', 'brother', 'uh', 'sisters', 'um', 'you', 'want', 'know', 'my', 'family', 'um', 'i', 'really', 'close', 'my', 'wife', 'my', 'daughters', 'uh', 'my', 'brother', 'i', 'real', 'close', 'partly', 'he', 'uh', 'he', 'mentally', 'handicapped', 'um', 'he', 'mental', 'capacity', 'seven', 'year', 'old', 'even', 'though', 'he', 'he', 'five', 'years', 'older', 'me', 'kinda', 'dynamic', 'it', 'it', 'hard', 'close', 'relationship', 'him', 'i', 'pretty', 'close', 'my', 'parents', 'my', 'brother', 'lives', 'my', 'parents', 'um', 'i', 'would', 'say', 'my', 'my', 'youth', 'pastor', 'high', 'school', 'he', 'real', 'real', 'positive', 'influence', 'me', 'um', 'he', 'he', 'drive', 'zeal', 'pursuing', 'truth', 'um', 'uh', 'studying', 'bible', 'his', 'influence', 'kinda', 'put', 'me', 'path', 'wanting', 'study', 'bible', 'um', 'i', 'think', 'i', 'gotten', 'better', 'it', 'times', 'you', 'know', 'i', 'i', 'get', 'angry', 'uh', 'you', 'know', 'it', 'kinda', 'really', 'rule', 'me', 'frustration', 'i', 'type', 'person', 'it', 'takes', 'me', 'um', 'usually', 'it', 'it', 'takes', 'time', 'me', 'get', 'angry', 'time', 'calm', 'i', 'i', 'learned', 'um', 'time', 'really', 'getting', 'angry', 'um', 'keeping', 'anger', 'it', 'attack', 'person', 'thing', 'i', 'angry', 'it', 'kinda', 'attacks', 'me', 'really', 'it', 'it', 'it', 'good', 'behavior', 'keep', 'things', 'anger', 'me', 'i', 'try', 'uh', 'like', 'talk', 'person', 'say', 'you', 'know', 'situation', 'making', 'me', 'upset', 'i', 'try', 'kinda', 'talk', 'it', 'resolve', 'it', 'come', 'resolution', 'um', 'even', 'compromising', 'trying', 'really', 'resolve', 'root', 'problem', 'um', 'well', 'couple', 'weeks', 'ago', 'maybe', 'it', 'maybe', 'even', 'month', 'ago', 'um', 'my', 'wife', 'i', 'going', 'trip', 'her', 'parents', 'her', 'parents', 'already', 'left', 'um', 'eh', 'we', 'driving', 'orange', 'country', 'area', 'trip', 'my', 'wife', 'wanted', 'um', 'wanted', 'she', 'she', 'expectation', 'certain', 'things', 'done', 'trip', 'certain', 'things', 'packed', 'really', 'my', 'eyes', 'expressed', 'clearly', 'her', 'eyes', 'she', 'i', 'trying', 'meet', 'expectations', 'she', 'um', 'you', 'know', 'i', 'i', 'meet', 'them', 'according', 'she', 'wanted', 'she', 'became', 'angry', 'my', 'perspective', 'i', 'she', 'wanted', 'um', 'kinda', 'getting', 'attacked', 'it', 'i', 'i', 'i', 'started', 'yelling', 'her', 'we', 'you', 'know', 'we', 'conflict', 'you', 'know', 'within', 'hour', 'we', 'kinda', 'talked', 'we', 'we', 'figured', 'conflict', 'um', 'you', 'asking', 'moment', 'conflict', 'uh', 'you', 'know', 'mm', 'angry', 'you', 'know', 'you', 'feel', 'it', 'your', 'body', 'um', 'part', 'partly', 'i', 'i', 'guess', 'anger', 'probably', 'secondary', 'response', 'my', 'initial', 'response', 'um', 'i', 'felt', 'feeling', 'attacked', 'came', 'anger', 'i', 'would', 'think', 'um', 'yeah', 'initially', 'i', 'felt', 'attacked', 'resulted', 'anger', 'mm', 'hmm', 'hmm', 'hmm', 'i', 'guess', 'it', 'um', 'deciding', 'go', 'um', 'go', 'our', 'training', 'last', 'year', 'um', 'i', 'i', 'felt', 'god', 'put', 'my', 'heart', 'something', 'i', 'supposed', 'pursue', 'um', 'my', 'wife', 'feel', 'way', 'i', 'i', 'i', 'felt', 'strongly', 'something', 'we', 'pursue', 'time', 'i', 'knew', 'my', 'wife', 'supportive', 'it', 'it', 'it', 'would', 'it', 'would', 'kinda', 'fall', 'apart', 'i', 'kinda', 'relinquished', 'relinquished', 'it', 'um', 'i', 'i', 'said', 'her', 'you', 'know', 'i', 'going', 'make', 'you', 'go', 'um', 'you', 'know', 'you', 'want', 'go', 'we', 'go', 'we', 'we', 'something', 'else', 'we', 'we', 'look', 'something', 'else', 'going', 'uh', 'difficult', 'me', 'uh', 'you', 'know', 'kinda', 'felt', 'like', 'loss', 'i', 'felt', 'deeply', 'i', 'supposed', 'um', 'i', 'kinda', 'gave', 'um', 'she', 'came', 'point', 'she', 'said', 'i', 'peace', 'we', 'went', 'ahead', 'pursued', 'it', 'um', 'kinda', 'giving', 'it', 'difficult', 'me', 'tell', 'you', 'something', 'bad', 'something', 'i', 'erase', 'my', 'memory', 'um', 'oh', 'let', 'me', 'see', 'i', 'sure', 'um', 'i', 'know', 'i', 'i', 'really', 'think', 'anything', 'traumatic', 'um', 'i', 'would', 'want', 'erase', 'i', 'i', 'think', 'you', 'know', 'good', 'things', 'positive', 'eh', 'good', 'things', 'bad', 'things', 'they', 'kinda', 'shape', 'we', 'i', 'i', 'i', 'think', 'anything', 'i', 'would', 'want', 'erase', 'um', 'usually', 'usually', 'it', 'bad', 'um', 'you', 'referring', 'questionnaire', 'i', 'said', 'i', 'trouble', 'trouble', 'sleeping', 'um', 'job', 'i', 'work', 'um', 'kinda', 'scheduling', 'shifted', 'i', 'lately', 'i', 'working', 'nighttime', 'shifts', 'graveyard', 'shifts', 'um', 'coming', 'home', 'morning', 'you', 'know', 'it', 'light', 'it', 'hard', 'me', 'sleep', 'it', 'it', 'mostly', 'i', 'staying', 'late', 'work', 'uh', 'it', 'pretty', 'easy', 'um', 'i', 'i', 'sleep', 'i', 'get', 'cranky', 'uh', 'i', 'i', 'feeling', 'good', 'lately', 'really', 'um', 'hmm', 'i', 'know', 'um', 'think', 'anything', 'kinda', 'ordinary', 'um', 'yesterday', 'we', 'my', 'wife', 'i', 'took', 'took', 'our', 'three', 'our', 'our', 'three', 'younger', 'girls', 'we', 'took', 'them', 'park', 'oldest', 'one', 'um', 'stayed', 'her', 'grandma', 'we', 'uh', 'we', 'took', 'them', 'park', 'they', 'played', 'yeah', 'always', 'happy', 'times', 'we', 'take', 'kids', 'park', 'um', 'i', 'i', 'think', 'he', 'would', 'say', 'i', 'family', 'man', 'um', 'i', 'uh', 'dependable', 'he', 'he', 'count', 'me', 'um', 'usually', 'my', 'my', 'friend', 'i', 'end', 'um', 'different', 'work', 'around', 'house', 'him', 'i', 'kind', 'handyman', 'way', 'i', 'i', 'i', 'think', 'he', 'would', 'say', 'i', 'kinda', 'dependable', 'someone', 'he', 'could', 'go', 'advice', 'um', 'i', 'guess', 'i', 'would', 'um', 'i', 'guess', 'i', 'would', 'like', 'able', 'um', 'start', 'conversations', 'people', 'easier', 'uh', 'sometimes', 'i', 'i', 'trouble', 'talking', 'people', 'especially', 'they', 'group', 'people', 'one', 'one', 'it', 'it', 'usually', 'easier', 'me', 'talk', 'them', 'kinda', 'talking', 'people', 'group', 'uh', 'i', 'wish', 'i', 'little', 'better', 'it', 'okay', 'i', 'going', 'say', 'right', 'um', 'uh', 'i', 'giving', 'speech', 'something', 'large', 'group', 'i', 'really', 'problem', 'it', 'interaction', 'type', 'thing', 'kinda', 'difficult', 'uh', 'advice', 'i', 'would', 'given', 'myself', 'ten', 'twenty', 'years', 'ago', 'um', 'probably', 'would', 'go', 'college', 'right', 'away', 'instead', 'going', 'school', 'later', 'life', 'um', 'it', 'think', 'would', 'made', 'would', 'made', 'biggest', 'difference', 'my', 'life', 'i', 'think', 'um', 'well', 'i', 'i', 'four', 'kids', 'i', 'hope', 'i', 'raising', 'them', 'right', 'i', 'hope', 'um', 'you', 'know', 'mistakes', 'i', 'made', 'i', 'kinda', 'guide', 'them', 'their', 'their', 'journey', 'life', 'i', 'hope', 'they', 'end', 'little', 'better', 'it', 'me', 'um', 'yeah', 'i', 'hope', 'hope', 'kinda', 'them', 'i', 'you', 'know', 'leave', 'leave', 'something', 'worthwhile', 'you', 'welcome', 'goodbye'], tags=['train_2']),\n",
       " TaggedDocument(words=['okay', 'yes', 'i', 'i', 'good', 'thank', 'you', 'originally', 'los', 'angeles', 'my', 'parents', 'central', 'america', 'yes', 'weather', 'um', 'i', 'like', 'i', 'get', 'water', 'i', 'want', 'uh', 'hills', 'hike', 'element', 'i', 'want', 'get', 'i', 'get', 'traffic', 'busyness', 'everybodys', 'always', 'hurry', 'um', 'um', 'it', 'i', 'i', 'family', 'central', 'america', 'i', 'my', 'husband', 'i', 'we', 'try', 'go', 'warm', 'places', 'like', 'mexico', 'somewhere', 'caribbean', 'freedom', 'my', 'daily', 'routine', 'guilty', 'something', 'i', 'said', 'i', 'would', 'i', 'home', 'i', 'far', 'away', 'home', 'it', 'i', 'anything', 'worry', 'um', 'recently', 'i', 'went', 'honduras', 'my', 'familys', 'it', 'sort', 'like', 'it', 'it', 'dual', 'fold', 'i', 'get', 'see', 'my', 'family', 'i', 'also', 'kinda', 'get', 'away', 'home', 'i', 'it', 'imposing', 'them', 'i', 'visit', 'them', 'i', 'stay', 'hotel', 'way', 'i', 'still', 'kinda', 'my', 'freedom', 'feel', 'like', 'i', 'obligated', 'them', 'it', 'fun', 'way', 'experiences', 'vacation', 'um', 'memorable', 'experience', 'probably', 'hawaii', 'lahaina', 'i', 'love', 'food', 'i', 'foodie', 'pig', 'roasted', 'underground', 'eating', 'it', 'way', 'it', 'i', 'never', 'able', 'taste', 'it', 'way', 'time', 'else', 'it', 'like', 'memory', 'it', 'deep', 'memory', 'me', 'matter', 'i', 'my', 'pork', 'it', 'never', 'taste', 'like', 'pork', 'lahaina', 'business', 'years', 'ago', 'i', 'ended', 'marketing', 'field', 'i', 'enjoyed', 'i', 'my', 'business', 'background', 'help', 'me', 'marketing', 'field', 'my', 'dream', 'job', 'hmm', 'well', 'i', 'guess', 'it', 'would', 'food', 'i', 'love', 'cook', 'reason', 'i', 'hesitate', 'i', 'love', 'cook', 'i', 'it', 'home', 'friends', 'family', 'it', 'turn', 'it', 'turn', 'job', 'i', 'feel', 'it', 'would', 'joyous', 'i', 'would', 'much', 'fun', 'i', 'it', 'you', 'know', 'i', 'i', 'could', 'it', 'job', 'still', 'fun', 'joy', 'i', 'cooking', 'every', 'day', 'would', 'my', 'dream', 'job', 'i', 'outgoing', 'cool', 'uh', 'depends', 'i', 'i', 'wherever', 'i', 'actually', 'first', 'thing', 'i', 'kinda', 'get', 'hold', 'myself', 'way', 'i', 'always', 'control', 'matter', 'i', 'standing', 'always', 'say', 'i', 'my', 'peace', 'p', 'p', 'e', 'c', 'e', 'i', 'kinda', 'take', 'deep', 'breath', 'assess', 'my', 'situation', 'figure', 'i', 'control', 'i', 'control', 'proceed', 'sort', 'kinda', 'breathe', 'get', 'hold', 'myself', 'first', 'i', 'actually', 'good', 'i', 'actually', 'mildtempered', 'begin', 'um', 'i', 'really', 'let', 'anything', 'agitate', 'me', 'i', 'feel', 'myself', 'getting', 'hot', 'i', 'react', 'i', 'sort', 'like', 'i', 'said', 'i', 'my', 'little', 'self', 'check', 'you', 'know', 'eh', 'i', 'might', 'cussed', 'i', 'might', 'went', 'second', 'i', 'my', 'little', 'self', 'check', 'say', 'you', 'know', 'come', 'mm', 'it', 'worth', 'it', 'persons', 'worth', 'it', 'situation', 'worth', 'it', 'you', 'stay', 'actually', 'it', 'my', 'husband', 'we', 'going', 'back', 'forth', 'my', 'relationship', 'my', 'father', 'i', 'trying', 'get', 'point', 'across', 'him', 'he', 'kinda', 'overlooking', 'my', 'feelings', 'it', 'i', 'i', 'want', 'him', 'overlook', 'my', 'feelings', 'act', 'i', 'feeling', 'way', 'i', 'feeling', 'i', 'kept', 'stressing', 'my', 'point', 'different', 'ways', 'i', 'found', 'myself', 'debate', 'i', 'pulled', 'back', 'said', 'look', 'babe', 'i', 'feel', 'it', 'i', 'asking', 'you', 'make', 'me', 'feel', 'differently', 'i', 'asking', 'you', 'acknowledge', 'my', 'feelings', 'i', 'got', 'my', 'conclusion', 'i', 'felt', 'triumphant', 'point', 'argument', 'my', 'mind', 'clarify', 'i', 'felt', 'him', 'impose', 'his', 'you', 'know', 'he', 'macho', 'kinda', 'manly', 'guy', 'i', 'want', 'him', 'overshadow', 'my', 'feelings', 'his', 'logic', 'i', 'said', 'long', 'i', 'i', 'felt', 'better', 'i', 'he', 'i', 'felt', 'undestood', 'i', 'felt', 'heard', 'hmm', 'let', 'us', 'see', 'i', 'my', 'son', 'comes', 'mind', 'he', 'twenty', 'two', 'years', 'old', 'he', 'we', 'estranged', 'relationship', 'right', 'it', 'okay', 'i', 'okay', 'it', 'he', 'used', 'little', 'bit', 'needy', 'he', 'i', 'think', 'he', 'assumed', 'i', 'would', 'always', 'look', 'xxx', 'go', 'looking', 'him', 'call', 'him', 'opposed', 'waiting', 'him', 'call', 'me', 'i', 'think', 'it', 'may', 'weird', 'answer', 'i', 'wish', 'early', 'my', 'life', 'his', 'mother', 'i', 'would', 'kind', 'adjusted', 'he', 'would', 'comfortable', 'waiting', 'me', 'one', 'come', 'check', 'him', 'he', 'live', 'me', 'he', 'his', 'place', 'waiting', 'me', 'one', 'come', 'look', 'him', 'you', 'know', 'try', 'make', 'sure', 'he', 'okay', 'i', 'think', 'probably', 'way', 'ethereal', 'you', 'meant', 'i', 'would', 'i', 'would', 'done', 'differently', 'i', 'would', 'mothered', 'him', 'differently', 'along', 'way', 'released', 'him', 'earlier', 'age', 'meaning', 'i', 'would', 'treated', 'him', 'adult', 'also', 'expected', 'him', 'kinda', 'you', 'know', 'i', 'would', 'killed', 'expectation', 'him', 'me', 'contour', 'him', 'makes', 'sense', 'woo', 'it', 'easy', 'you', 'sacrifice', 'beyond', 'physical', 'things', 'you', 'make', 'sure', 'you', 'put', 'your', 'kids', 'needs', 'ahead', 'your', 'i', 'guess', 'second', 'part', 'answer', 'it', 'easy', 'you', 'realize', 'long', 'they', 'okay', 'you', 'okay', 'it', 'my', 'my', 'son', 'my', 'daughter', 'they', 'know', 'i', 'love', 'them', 'unconditionally', 'my', 'parenting', 'become', 'easier', 'i', 'lived', 'truth', 'i', 'expecting', 'anything', 'them', 'also', 'expecting', 'disrespect', 'long', 'we', 'clear', 'line', 'communication', 'whatever', 'else', 'going', 'falls', 'category', 'respect', 'seeing', 'them', 'maybe', 'make', 'decisions', 'i', 'wish', 'they', 'would', 'make', 'uh', 'it', 'could', 'simple', 'outfit', 'you', 'know', 'choice', 'much', 'career', 'change', 'um', 'sit', 'back', 'watch', 'them', 'listen', 'open', 'kinda', 'you', 'know', 'they', 'want', 'talk', 'it', 'also', 'also', 'trying', 'manage', 'them', 'i', 'also', 'their', 'age', 'i', 'remember', 'i', 'i', 'want', 'managed', 'even', 'i', 'made', 'mistake', 'i', 'want', 'judged', 'difficult', 'part', 'watching', 'them', 'go', 'process', 'their', 'sort', 'kinda', 'waiting', 'around', 'luckily', 'it', 'nothing', 'major', 'my', 'kids', 'whatever', 'personal', 'downfall', 'kinda', 'i', 'told', 'you', 'i', 'told', 'you', 'um', 'spirit', 'me', 'it', 'fulfilling', 'knowing', 'you', 'know', 'i', 'created', 'you', 'know', 'i', 'planned', 'my', 'kids', 'it', 'it', 'real', 'it', 'honor', 'i', 'able', 'it', 'it', 'honor', 'they', 'healthy', 'um', 'it', 'fun', 'watching', 'them', 'sort', 'kind', 'grow', 'their', 'it', 'like', 'they', 'mini', 'mes', 'they', 'also', 'different', 'i', 'it', 'fun', 'able', 'allow', 'them', 'uh', 'they', 'celebrate', 'them', 'they', 'i', 'enjoying', 'wow', 'completely', 'my', 'parents', 'immigrated', 'central', 'america', 'sixties', 'um', 'i', 'born', 'year', 'they', 'got', 'their', 'their', 'mentality', 'different', 'they', 'wanted', 'come', 'get', 'american', 'lifestyle', 'eh', 'bad', 'thing', 'it', 'their', 'parenting', 'style', 'um', 'making', 'sure', 'we', 'home', 'making', 'sure', 'uh', 'we', 'shelter', 'course', 'food', 'clothes', 'schooling', 'really', 'lot', 'time', 'spent', 'relationship', 'my', 'mother', 'daughter', 'me', 'daughter', 'my', 'father', 'me', 'daughter', 'i', 'kinda', 'figure', 'it', 'my', 'it', 'came', 'parent', 'divorcing', 'my', 'first', 'husband', 'um', 'i', 'going', 'one', 'toppled', 'whole', 'situation', 'um', 'he', 'good', 'father', 'good', 'husband', 'me', 'twenty', 'years', 'i', 'knew', 'i', 'going', 'one', 'say', 'working', 'me', 'anymore', 'since', 'i', 'domino', 'effect', 'virtual', 'it', 'happened', 'we', 'ended', 'selling', 'our', 'house', 'you', 'know', 'dividing', 'assets', 'living', 'separately', 'my', 'kids', 'kind', 'little', 'um', 'i', 'made', 'decisions', 'i', 'want', 'go', 'much', 'court', 'hassle', 'i', 'tina', 'turner', 'said', 'give', 'me', 'my', 'name', 'you', 'keep', 'everything', 'else', 'it', 'hard', 'decision', 'way', 'it', 'affected', 'my', 'kids', 'i', 'cared', 'terms', 'losing', 'everything', 'physical', 'material', 'stuff', 'i', 'could', 'care', 'less', 'it', 'hard', 'i', 'i', 'knew', 'it', 'going', 'affect', 'my', 'kids', 'they', 'thing', 'i', 'concerned', 'uh', 'my', 'husband', 'i', 'you', 'know', 'see', 'eye', 'eye', 'certain', 'things', 'xxx', 'regarding', 'our', 'marriage', 'he', 'i', 'feel', 'validated', 'woman', 'wife', 'i', 'areas', 'he', 'validate', 'me', 'he', 'kinda', 'saw', 'me', 'partner', 'helping', 'fund', 'his', 'extracurriculars', 'whether', 'it', 'travel', 'whatever', 'case', 'may', 'i', 'i', 'talk', 'part', 'it', 'bottom', 'line', 'whatever', 'he', 'outside', 'you', 'know', 'sanctity', 'our', 'home', 'i', 'tired', 'you', 'know', 'working', 'him', 'benefiting', 'everything', 'fulfilled', 'woman', 'wife', 'he', 'prepared', 'change', 'xxx', 'despite', 'counseling', 'we', 'went', 'i', 'thought', 'well', 'working', 'me', 'i', 'take', 'care', 'myself', 'first', 'i', 'i', 'low', 'selfesteem', 'i', 'you', 'know', 'i', 'perfect', 'i', 'lot', 'things', 'going', 'myself', 'i', 'learn', 'love', 'myself', 'order', 'uh', 'order', 'me', 'love', 'my', 'children', 'order', 'me', 'get', 'love', 'i', 'get', 'return', 'you', 'know', 'it', 'actually', 'pretty', 'easy', 'end', 'day', 'i', 'you', 'know', 'good', 'bad', 'ugly', 'indifferent', 'whatever', 'mistakes', 'i', 'made', 'day', 'whatever', 'great', 'thing', 'went', 'day', 'my', 'goal', 'life', 'peace', 'mind', 'i', 'put', 'my', 'head', 'night', 'i', 'i', 'i', 'ask', 'myself', 'you', 'know', 'i', 'anything', 'i', 'ashamed', 'today', 'i', 'cross', 'anybody', 'i', 'you', 'know', 'i', 'sanctimonious', 'acting', 'i', 'pollyanna', 'i', 'believe', 'karma', 'i', 'godfearing', 'woman', 'i', 'want', 'make', 'sure', 'i', 'everything', 'i', 'supposed', 'today', 'something', 'i', 'rectify', 'you', 'know', 'i', 'make', 'it', 'point', 'promise', 'myself', 'go', 'back', 'rectify', 'it', 'least', 'learn', 'make', 'mistake', 'another', 'day', 'really', 'good', 'light', 'um', 'you', 'know', 'rough', 'patches', 'family', 'individually', 'like', 'i', 'said', 'my', 'son', 'my', 'daughters', 'teenager', 'she', 'kinda', 'coming', 'her', 'different', 'relationship', 'she', 'opposite', 'me', 'i', 'i', 'actually', 'easygoing', 'bohemian', 'style', 'she', 'social', 'you', 'know', 'i', 'kinda', 'find', 'our', 'balance', 'overall', 'it', 'i', 'i', 'complain', 'i', 'happy', 'simplistic', 'lifestyle', 'i', 'kinda', 'foster', 'my', 'every', 'day', 'i', 'enjoy', 'my', 'little', 'mini', 'accomplishments', 'whether', 'anyone', 'sees', 'them', 'i', 'thank', 'god', 'really', 'happy', 'let', 'us', 'see', 'uh', 'it', 'home', 'i', 'think', 'it', 'wow', 'different', 'things', 'running', 'my', 'head', 'um', 'i', 'think', 'my', 'daughter', 'i', 'my', 'teenage', 'daughter', 'i', 'came', 'understanding', 'eh', 'understanding', 'our', 'mother', 'daughter', 'relationship', 'i', 'trying', 'her', 'best', 'friend', 'yet', 'mean', 'she', 'talk', 'me', 'i', 'think', 'she', 'came', 'me', 'day', 'kinda', 'gave', 'me', 'big', 'hug', 'behind', 'me', 'without', 'really', 'saying', 'anything', 'i', 'really', 'felt', 'her', 'accepting', 'herself', 'she', 'accepted', 'fact', 'i', 'accept', 'she', 'she', 'it', 'tame', 'moment', 'she', 'i', 'kinda', 'knew', 'it', 'it', 'it', 'gave', 'happiness', 'nothing', 'else', 'could', 'ever', 'give', 'me', 'thank', 'you', 'um', 'i', 'easygoing', 'i', 'fun', 'i', 'you', 'know', 'um', 'eh', 'chameleon', 'comes', 'mind', 'i', 'kinda', 'acclimate', 'whatever', 'situation', 'i', 'i', 'honest', 'i', 'real', 'you', 'know', 'bold', 'i', 'um', 'i', 'adult', 'i', 'adult', 'woman', 'you', 'know', 'they', 'would', 'decribe', 'my', 'best', 'friend', 'would', 'describe', 'me', 'someone', 'she', 'rely', 'extremely', 'reliable', 'i', 'i', 'say', 'i', 'say', 'i', 'i', 'you', 'know', 'i', 'i', 'deal', 'b', 'hmm', 'could', 'i', 'change', 'myself', 'uh', 'probably', 'cosmetic', 'things', 'maybe', 'i', 'would', 'uh', 'even', 'true', 'let', 'me', 'think', 'things', 'i', 'would', 'change', 'myself', 'um', 'sounds', 'weird', 'i', 'would', 'say', 'much', 'nothing', 'really', 'um', 'i', 'think', 'i', 'would', 'little', 'bit', 'aware', 'others', 'i', 'think', 'i', 'i', 'super', 'sensitive', 'others', 'i', 'think', 'i', 'would', 'aware', 'make', 'sure', 'i', 'selfish', 'i', 'tuning', 'anyone', 'i', 'want', 'get', 'my', 'yoga', 'i', 'want', 'something', 'else', 'i', 'think', 'i', 'would', 'um', 'observant', 'aware', 'around', 'me', 'make', 'sure', 'i', 'offending', 'anybody', 'i', 'regrets', 'i', 'i', 'think', 'time', 'you', 'know', 'it', 'it', 'natural', 'go', 'back', 'say', 'i', 'situation', 'mindset', 'i', 'would', 'i', 'eh', 'reality', 'i', 'know', 'everything', 'happened', 'point', 'shaped', 'me', 'i', 'you', 'know', 'well', 'take', 'benefit', 'it', 'turn', 'around', 'call', 'it', 'regret', 'i', 'know', 'i', 'learned', 'it', 'um', 'probably', 'sounds', 'textbook', 'true', 'really', 'i', 'live', 'i', 'believe', 'everything', 'good', 'bad', 'ugly', 'indifferent', 'happened', 'reason', 'i', 'truly', 'believe', 'my', 'job', 'take', 'it', 'i', 'supposed', 'take', 'it', 'take', 'my', 'future', 'i', 'take', 'you', 'know', 'hard', 'knocks', 'joys', 'hmm', 'real', 'myself', 'one', 'thing', 'took', 'me', 'twenty', 'years', 'kinda', 'get', 'um', 'kinda', 'honest', 'myself', 'embrace', 'i', 'you', 'know', 'get', 'know', 'i', 'uh', 'learn', 'my', 'infrastructure', 'comfortable', 'uh', 'innate', 'things', 'part', 'me', 'try', 'revamp', 'try', 'revamp', 'myself', 'try', 'become', 'something', 'i', 'uh', 'i', 'would', 'still', 'chosen', 'marketing', 'career', 'still', 'i', 'would', 'still', 'climbed', 'corporate', 'ladders', 'i', 'would', 'done', 'it', 'internal', 'place', 'um', 'i', 'lost', 'myself', 'it', 'terms', 'my', 'family', 'life', 'i', 'would', 'true', 'myself', 'way', 'i', 'would', 'kind', 'resentments', 'my', 'family', 'my', 'uh', 'my', 'role', 'wife', 'my', 'role', 'mother', 'i', 'think', 'ultimately', 'my', 'main', 'fulfillment', 'comes', 'matter', 'end', 'lifes', 'life', 'uh', 'body', 'uh', 'leased', 'vehicle', 'i', 'um', 'i', 'going', 'i', 'going', 'epitaph', 'somewhere', 'cementary', 'scrubbedentry', 'i', 'always', 'true', 'i', 'mean', 'i', 'i', 'always', 'true', 'time', 'i', 'eighteen', 'realized', 'i', 'wanted', 'married', 'family', 'kids', 'i', 'think', 'ultimately', 'my', 'true', 'fulfillment', 'comes', 'cool', 'thank', 'you', 'bye'], tags=['train_3']),\n",
       " TaggedDocument(words=['sure', 'good', 'indiana', 'um', 'weather', 'i', 'like', 'weather', 'uh', 'never', 'um', 'want', 'get', 'back', 'old', 'groove', 'i', 'took', 'time', 'took', 'long', 'time', 'took', 'years', 'yeah', 'um', 'it', 'get', 'cold', 'um', 'i', 'comfortable', 'uh', 'environment', 'midwest', 'uh', 'smog', 'uh', 'crowds', 'um', 'dirt', 'um', 'mm', 'hustle', 'yeah', 'i', 'uh', 'money', 'takes', 'uh', 'takes', 'lot', 'money', 'credit', 'cards', 'yeah', 'uh', 'basics', 'i', 'go', 'long', 'uh', 'dream', 'uh', 'my', 'dream', 'job', 'um', 'developing', 'land', 'yeah', 'building', 'highrise', 'buildings', 'probably', 'middle', 'uh', 'well', 'i', 'real', 'shy', 'uh', 'i', 'really', 'outgoing', 'i', 'would', 'say', 'uh', 'fifty', 'fifty', 'uh', 'i', 'usually', 'walk', 'walk', 'around', 'neighborhood', 'uh', 'listen', 'music', 'uh', 'average', 'uh', 'someone', 'uh', 'hmm', 'it', 'awhile', 'eh', 'i', 'think', 'it', 'little', 'uh', 'i', 'remember', 'exact', 'time', 'it', 'it', 'uh', 'something', 'little', 'uh', 'xxx', 'um', 'ba', 'ba', 'ba', 'uh', 'instead', 'getting', 'uh', 'angry', 'uh', 'ignoring', 'people', 'ignoring', 'them', 'mm', 'guess', 'it', 'fifty', 'fifty', 'sometimes', 'uh', 'i', 'feel', 'guilty', 'think', 'anything', 'right', 'uh', 'could', 'i', 'erase', 'let', 'us', 'see', 'um', 'career', 'choice', 'i', 'made', 'years', 'ago', 'uh', 'i', 'got', 'transportation', 'business', 'i', 'went', 'school', 'got', 'employed', 'i', 'stayed', 'it', 'years', 'dream', 'job', 'um', 'developing', 'land', 'construction', 'highrise', 'building', 'hardest', 'decision', 'you', 'ever', 'make', 'hmm', 'think', 'one', 'um', 'much', 'one', 'speak', 'it', 'kinda', 'distant', 'mm', 'yeah', 'we', 'we', 'talk', 'couple', 'times', 'year', 'it', 'uh', 'many', 'people', 'mm', 'good', 'nights', 'sleep', 'yeah', 'uh', 'i', 'would', 'say', 'uh', 'eh', 'it', 'uh', 'tired', 'uh', 'kind', 'uh', 'mm', 'ouch', 'kinda', 'like', 'um', 'looking', 'searching', 'yeah', 'looking', 'job', 'looking', 'employment', 'employment', 'hmm', 'much', 'oh', 'i', 'dream', 'days', 'weeks', 'ago', 'days', 'ago', 'i', 'really', 'happy', 'dream', 'yeah', 'uh', 'i', 'remember', 'dream', 'it', 'um', 'sure', 'it', 'uh', 'much', 'uh', 'go', 'library', 'uh', 'park', 'much', 'yeah', 'i', 'best', 'qualities', 'uh', 'good', 'listener', 'mm', 'my', 'penis', 'size', 'mm', 'remember', 'yeah', 'things', 'yep', 'uh', 'i', 'regret', 'uh', 'um', 'i', 'regret', 'uh', 'think', 'anything', 'particular', 'probably', 'list', 'somewhere', 'uh', 'uh', 'meditate', 'uh', 'uh', 'smelly', 'people', 'they', 'stink', 'music', 'comedies', 'funny', 'movies', 'hmm', 'uh', 'really', 'enjoyed', 'wow', 'much', 'listen', 'music', 'mostly', 'uh', 'yesterday', 'little', 'goodbye'], tags=['train_4']),\n",
       " TaggedDocument(words=['yeah', 'i', 'okay', 'fine', 'pensacola', 'florida', 'uh', 'i', 'met', 'my', 'wife', 'mississippi', 'she', 'stays', 'i', 'moved', 'la', 'two', 'thousand', 'four', 'yeah', 'sixteen', 'years', 'twelve', 'years', 'ago', 'something', 'like', 'it', 'pretty', 'hard', 'you', 'know', 'different', 'environment', 'i', 'learn', 'different', 'things', 'weather', 'lot', 'uh', 'many', 'people', 'uh', 'i', 'guess', 'whenever', 'i', 'uh', 'two', 'years', 'ago', 'uh', 'we', 'pretty', 'close', 'nah', 'i', 'really', 'guess', 'time', 'cash', 'mm', 'nothing', 'really', 'nothing', 'really', 'makes', 'me', 'mad', 'anymore', 'yeah', 'i', 'good', 'controlling', 'my', 'temper', 'mm', 'really', 'sure', 'last', 'time', 'i', 'would', 'say', 'maybe', 'i', 'really', 'sure', 'it', 'money', 'you', 'know', 'money', 'uh', 'i', 'read', 'bible', 'uh', 'really', 'i', 'really', 'anyone', 'right', 'i', 'really', 'think', 'i', 'really', 'tell', 'you', 'i', 'know', 'it', 'pretty', 'easy', 'mm', 'sleepy', 'uh', 'my', 'behavior', 'it', 'got', 'better', 'uh', 'started', 'going', 'church', 'i', 'gave', 'my', 'life', 'lord', 'started', 'going', 'church', 'i', 'trying', 'right', 'things', 'uh', 'i', 'knew', 'i', 'needed', 'life', 'way', 'it', 'whole', 'lot', 'better', 'um', 'i', 'good', 'hang', 'around', 'you', 'know', 'good', 'uh', 'like', 'make', 'people', 'laugh', 'um', 'i', 'look', 'people', 'take', 'you', 'know', 'mm', 'i', 'myself', 'you', 'know', 'others', 'things', 'like', 'uh', 'went', 'disneyland', 'my', 'son', 'his', 'birthday', 'my', 'my', 'uh', 'daughter', 'i', 'really', 'enjoyed', 'yes', 'you', 'see', 'someones', 'look', 'like', 'you', 'you', 'get', 'raise', 'them', 'try', 'you', 'know', 'make', 'sure', 'they', 'right', 'things', 'better', 'you', 'uh', 'knowing', 'evil', 'world', 'your', 'son', 'live', 'it', 'it', 'used', 'hard', 'prayer', 'you', 'know', 'faith', 'everythings', 'going', 'alright', 'they', 'fast', 'we', 'growing', 'things', 'different', 'you', 'know', 'world', 'way', 'worse', 'it', 'it', 'hmm', 'flying', 'airplane', 'first', 'time', 'yeah', 'i', 'nervous', 'i', 'would', 'never', 'plane', 'felt', 'little', 'nervous', 'scared', 'you', 'say', 'yeah', 'one', 'i', 'flew', 'back', 'home', 'you', 'know', 'visited', 'home', 'went', 'back', 'week', 'two', 'yeah', 'seeing', 'my', 'family', 'seen', 'them', 'couple', 'years', 'pretty', 'cool', 'uh', 'right', 'college', 'i', 'taking', 'i', 'studying', 'i', 'want', 'culinary', 'um', 'culinary', 'culinary', 'arts', 'i', 'want', 'chef', 'i', 'like', 'cooking', 'i', 'decided', 'go', 'ahead', 'you', 'know', 'get', 'education', 'it', 'yeah', 'i', 'happy', 'i', 'proud', 'i', 'made', 'decision', 'serve', 'lord', 'right', 'things', 'uh', 'last', 'night', 'it', 'like', 'i', 'know', 'everythings', 'going', 'alright', 'i', 'worries', 'i', 'happy', 'hmm', 'cooking', 'love', 'cooking', 'puts', 'me', 'good', 'move', 'seeing', 'my', 'kids', 'happy', 'cool', 'nope', 'say', 'i', 'regret', 'anything', 'i', 'really', 'know', 'problem', 'bye', 'bye'], tags=['train_5']),\n",
       " TaggedDocument(words=['yes', 'i', 'alright', 'los', 'angeles', 'california', 'yep', 'um', 'lights', 'big', 'city', 'it', 'always', 'something', 'going', 'traffic', 'it', 'uh', 'business', 'administration', 'business', 'management', 'uh', 'i', 'something', 'else', 'i', 'networking', 'moment', 'hmm', 'uh', 'open', 'big', 'clothing', 'line', 'supply', 'whole', 'world', 'clothing', 'yeah', 'definitely', 'uh', 'i', 'myself', 'it', 'me', 'often', 'times', 'yeah', 'lied', 'i', 'guess', 'people', 'think', 'you', 'dumber', 'you', 'you', 'uh', 'try', 'get', 'away', 'everything', 'go', 'my', 'space', 'well', 'i', 'great', 'controlling', 'my', 'temper', 'i', 'um', 'probably', 'like', 'two', 'days', 'ago', 'it', 'probably', 'sports', 'it', 'real', 'argument', 'lot', 'i', 'travel', 'enough', 'able', 'see', 'get', 'change', 'pace', 'see', 'somebody', 'new', 'see', 'new', 'faces', 'new', 'environment', 'mm', 'let', 'me', 'see', 'last', 'trip', 'i', 'vegas', 'you', 'know', 'vegas', 'goes', 'it', 'pretty', 'fun', 'it', 'lotta', 'lotta', 'drinking', 'lot', 'partying', 'going', 'um', 'pretty', 'openminded', 'i', 'kind', 'pretty', 'much', 'everybody', 'i', 'pretty', 'evenkeel', 'guy', 'it', 'alright', 'it', 'could', 'better', 'madam', 'nope', 'uh', 'lately', 'it', 'pretty', 'tough', 'i', 'guess', 'i', 'staying', 'late', 'uh', 'my', 'fault', 'i', 'know', 'i', 'guess', 'i', 'night', 'owl', 'sudden', 'i', 'turning', 'owl', 'sluggish', 'tired', 'day', 'i', 'sleep', 'well', 'day', 'i', 'laying', 'around', 'much', 'mm', 'oh', 'stay', 'focused', 'listen', 'adults', 'yeah', 'i', 'mean', 'it', 'selfexplanatory', 'i', 'could', 'listened', 'parents', 'adults', 'tried', 'steer', 'you', 'right', 'way', 'you', 'know', 'you', 'stubborn', 'kid', 'uh', 'ages', 'it', 'like', 'you', 'talking', 'i', 'my', 'life', 'i', 'i', 'want', 'i', 'listen', 'you', 'i', 'see', 'they', 'telling', 'me', 'correct', 'um', 'hilarious', 'pretty', 'close', 'uh', 'my', 'parents', 'mother', 'father', 'mm', 'recently', 'i', 'um', 'new', 'years', 'eve', 'party', 'i', 'i', 'time', 'my', 'life', 'it', 'fun', 'uh', 'new', 'years', 'eve', 'i', 'went', 'party', 'friends', 'house', 'baldwin', 'hills', 'area', 'he', 'it', 'pretty', 'nice', 'house', 'it', 'three', 'story', 'house', 'it', 'like', 'three', 'hundred', 'fifty', 'people', 'it', 'pretty', 'fun', 'it', 'also', 'fun', 'many', 'people', 'you', 'could', 'really', 'move', 'downfall', 'besides', 'i', 'brought', 'my', 'new', 'year', 'great', 'tons', 'friends', 'it', 'supposed', 'done', 'um', 'i', 'generally', 'good', 'mood', 'every', 'day', 'i', 'mean', 'waking', 'puts', 'me', 'good', 'mood', 'i', 'i', 'guess', 'you', 'could', 'say', 'um', 'i', 'know', 'good', 'good', 'meal', 'ooh', 'one', 'my', 'memorable', 'experiences', 'probably', 'uh', 'i', 'younger', 'i', 'boy', 'scouts', 'we', 'used', 'go', 'camping', 'time', 'one', 'year', 'we', 'went', 'yellowstone', 'yosemite', 'one', 'places', 'we', 'work', 'mountain', 'biking', 'merit', 'badge', 'course', 'city', 'i', 'like', 'mountain', 'biking', 'i', 'ride', 'mountain', 'bike', 'we', 'got', 'real', 'mountains', 'got', 'real', 'mountain', 'bikes', 'i', 'gained', 'new', 'respect', 'mountain', 'bikers', 'it', 'pretty', 'it', 'fun', 'pretty', 'intense', 'going', 'downhill', 'forty', 'five', 'miles', 'hour', 'dirt', 'bicycle', 'pretty', 'intense', 'i', 'i', 'never', 'forget', 'mm', 'i', 'know', 'tough', 'one', 'answer', 'i', 'proud', 'i', 'know', 'honestly', 'bye'], tags=['train_6']),\n",
       " TaggedDocument(words=['yes', 'i', 'okay', 'uh', 'born', 'downtown', 'los', 'angeles', 'i', 'love', 'la', 'i', 'love', 'traffic', 'four', 'five', 'i', 'love', 'beach', 'i', 'live', 'near', 'beach', 'i', 'love', 'much', 'i', 'love', 'i', 'love', 'weather', 'i', 'love', 'it', 'nothing', 'little', 'bit', 'uh', 'i', 'guess', 'visiting', 'family', 'destinations', 'uh', 'i', 'last', 'flew', 'cedar', 'rapids', 'visit', 'friend', 'couple', 'weeks', 'i', 'flying', 'back', 'february', 'eleventh', 'see', 'him', 'he', 'old', 'friend', 'uh', 'i', 'pretty', 'outgoing', 'i', 'talk', 'people', 'i', 'enjoy', 'talking', 'people', 'i', 'talk', 'people', 'airport', 'um', 'i', 'garden', 'little', 'bit', 'i', 'read', 'little', 'bit', 'i', 'watch', 'tv', 'i', 'basketball', 'fan', 'i', 'go', 'beach', 'weather', 'nice', 'go', 'pool', 'uh', 'annoying', 'people', 'rude', 'people', 'people', 'drive', 'consideration', 'others', 'i', 'swear', 'lot', 'oh', 'i', 'alright', 'i', 'get', 'mad', 'awhile', 'oh', 'it', 'probably', 'my', 'daughter', 'she', 'twenty', 'one', 'almost', 'twenty', 'two', 'uh', 'she', 'probably', 'she', 'lives', 'college', 'comes', 'home', 'weekends', 'she', 'probably', 'her', 'room', 'probably', 'mess', 'it', 'fight', 'we', 'years', 'yeah', 'yeah', 'it', 'it', 'better', 'we', 'live', 'together', 'time', 'though', 'uh', 'i', 'guess', 'making', 'right', 'decisions', 'like', 'start', 'started', 'she', 'little', 'education', 'right', 'school', 'go', 'right', 'activities', 'um', 'setting', 'good', 'example', 'good', 'role', 'model', 'oh', 'everything', 'my', 'kids', 'greatest', 'joy', 'my', 'life', 'i', 'love', 'them', 'much', 'you', 'get', 'um', 'enriched', 'fulfilled', 'them', 'kids', 'little', 'you', 'see', 'things', 'their', 'eyes', 'exciting', 'you', 'want', 'share', 'everything', 'them', 'i', 'older', 'son', 'financial', 'analyst', 'i', 'daughter', 'college', 'she', 'liberal', 'studies', 'major', 'she', 'going', 'teacher', 'uh', 'business', 'uh', 'yes', 'i', 'office', 'manager', 'um', 'my', 'dream', 'job', 'wow', 'hard', 'um', 'i', 'know', 'i', 'like', 'my', 'job', 'it', 'good', 'i', 'like', 'people', 'i', 'enjoy', 'it', 'it', 'fun', 'uh', 'my', 'son', 'told', 'me', 'they', 'called', 'teacup', 'generation', 'they', 'fragile', 'i', 'think', 'they', 'pains', 'asses', 'them', 'yeah', 'maybe', 'month', 'ago', 'mm', 'i', 'new', 'boyfriend', 'things', 'going', 'really', 'great', 'they', 'going', 'it', 'it', 'it', 'great', 'it', 'okay', 'i', 'guess', 'newness', 'wore', 'it', 'hard', 'it', 'hard', 'i', 'really', 'i', 'sorry', 'i', 'know', 'them', 'i', 'know', 'you', 'mean', 'them', 'mm', 'k', 'yes', 'oh', 'i', 'know', 'year', 'i', 'feel', 'well', 'i', 'could', 'i', 'feel', 'right', 'i', 'could', 'pull', 'myself', 'it', 'yeah', 'oh', 'sad', 'lack', 'energy', 'really', 'really', 'motivated', 'really', 'really', 'my', 'happy', 'self', 'therapy', 'yes', 'i', 'well', 'many', 'changes', 'i', 'still', 'feel', 'great', 'i', 'it', 'good', 'talk', 'someone', 'tell', 'them', 'you', 'feel', 'even', 'it', 'get', 'something', 'your', 'chest', 'tired', 'sad', 'depressed', 'blue', 'i', 'happy', 'i', 'feel', 'good', 'i', 'happy', 'i', 'stay', 'stay', 'stay', 'myself', 'go', 'friends', 'much', 'i', 'used', 'it', 'hard', 'terrible', 'i', 'sleep', 'thank', 'you', 'oh', 'crazy', 'distracted', 'it', 'hard', 'me', 'cope', 'things', 'easy', 'you', 'know', 'mundane', 'things', 'difficult', 'well', 'around', 'my', 'kids', 'fun', 'uh', 'oh', 'we', 'went', 'my', 'son', 'my', 'son', 'daughterinlaw', 'my', 'daughter', 'i', 'went', 'hawaiian', 'food', 'got', 'together', 'it', 'always', 'fun', 'get', 'together', 'we', 'got', 'together', 'my', 'house', 'christmas', 'i', 'enjoyed', 'getting', 'together', 'them', 'uh', 'take', 'better', 'care', 'my', 'health', 'i', 'guess', 'uh', 'i', 'know', 'i', 'know', 'mm', 'well', 'my', 'daughters', 'pretty', 'positive', 'upbeat', 'uh', 'my', 'my', 'parents', 'they', 'gone', 'they', 'pretty', 'positive', 'um', 'i', 'suppose', 'going', 'trip', 'canada', 'my', 'daughter', 'memorable', 'uh', 'we', 'flew', 'detroit', 'i', 'my', 'best', 'friend', 'lives', 'we', 'stayed', 'her', 'we', 'went', 'we', 'drove', 'detroit', 'canada', 'niagara', 'falls', 'we', 'went', 'buffalo', 'she', 'we', 'she', 'three', 'girls', 'my', 'daughter', 'i', 'think', 'i', 'know', 'third', 'fourth', 'grade', 'something', 'like', 'it', 'fun', 'us', 'get', 'together', 'things', 'yep', 'exactly', 'like', 'her', 'we', 'outgoing', 'we', 'outspoken', 'we', 'tell', 'it', 'like', 'it', 'we', 'um', 'we', 'high', 'energy', 'people', 'we', 'lot', 'anxiety', 'we', 'like', 'lot', 'things', 'oh', 'i', 'know', 'three', 'four', 'weeks', 'ago', 'well', 'i', 'i', 'say', 'my', 'feeling', 'attributed', 'weather', 'i', 'like', 'cold', 'weather', 'i', 'comfortable', 'it', 'whenever', 'weather', 'changes', 'i', 'sorta', 'get', 'well', 'i', 'funny', 'i', 'hardworking', 'i', 'uh', 'i', 'care', 'everyone', 'i', 'i', 'kind', 'compassionate', 'person', 'i', 'sympathy', 'everyone', 'i', 'reach', 'someone', 'i', 'see', 'store', 'anywhere', 'needs', 'my', 'help', 'i', 'suppose', 'raising', 'my', 'kids', 'good', 'people', 'they', 'turned', 'sure', 'bye'], tags=['train_7']),\n",
       " TaggedDocument(words=['yeah', 'i', 'pretty', 'okay', 'thanks', 'asking', 'you', 'uh', 'i', 'la', 'i', 'grew', 'san', 'fernando', 'valley', 'yeah', 'uh', 'well', 'i', 'i', 'like', 'diversity', 'people', 'different', 'kinds', 'food', 'you', 'eat', 'i', 'like', 'um', 'outdoor', 'opportunities', 'i', 'grew', 'close', 'hills', 'i', 'i', 'lot', 'hiking', 'um', 'camping', 'pretty', 'close', 'i', 'gone', 'snowboarding', 'um', 'i', 'like', 'eh', 'familiarity', 'i', 'think', 'you', 'know', 'it', 'it', 'big', 'city', 'uh', 'you', 'know', 'i', 'pretty', 'familiar', 'it', 'lived', 'long', 'i', 'i', 'i', 'would', 'say', 'i', 'like', 'probably', 'number', 'one', 'thing', 'everybody', 'says', 'i', 'like', 'traffic', 'i', 'like', 'stuck', 'traffic', 'i', 'like', 'uh', 'long', 'commutes', 'even', 'you', 'know', 'short', 'distances', 'um', 'you', 'know', 'it', 'gets', 'really', 'hot', 'summer', 'times', 'you', 'know', 'eh', 'i', 'could', 'stand', 'it', 'little', 'slightly', 'cooler', 'it', 'gets', 'its', 'peak', 'peak', 'heat', 'fine', 'wow', 'my', 'dream', 'job', 'uh', 'great', 'question', 'i', 'i', 'think', 'my', 'dream', 'job', 'would', 'probably', 'uh', 'you', 'know', 'maybe', 'able', 'travel', 'somehow', 'make', 'money', 'it', 'profit', 'it', 'you', 'know', 'make', 'gainful', 'employment', 'traveling', 'almost', 'unrealistic', 'dream', 'since', 'i', 'know', 'i', 'would', 'actually', 'want', 'i', 'pick', 'kind', 'dream', 'existence', 'you', 'know', 'traveling', 'getting', 'paid', 'travel', 'meeting', 'new', 'people', 'trying', 'new', 'things', 'able', 'make', 'living', 'would', 'pretty', 'fun', 'well', 'i', 'like', 'like', 'i', 'mentioned', 'i', 'like', 'la', 'i', 'like', 'trying', 'different', 'kinds', 'food', 'different', 'cuisines', 'i', 'think', 'trying', 'authentic', 'cuisines', 'different', 'places', 'meeting', 'different', 'kinds', 'people', 'seeing', 'different', 'ways', 'life', 'uh', 'would', 'eh', 'i', 'like', 'traveling', 'um', 'i', 'i', 'like', 'experiencing', 'new', 'things', 'um', 'i', 'think', 'would', 'nice', 'you', 'know', 'despite', 'fact', 'i', 'said', 'i', 'like', 'familiarity', 'la', 'also', 'fun', 'discovering', 'new', 'things', 'i', 'i', 'think', 'travel', 'i', 'travel', 'i', 'like', 'check', 'new', 'things', 'um', 'i', 'would', 'like', 'you', 'know', 'i', 'could', 'make', 'living', 'would', 'great', 'uh', 'one', 'my', 'trips', 'okay', 'well', 'let', 'us', 'see', 'last', 'trip', 'i', 'i', 'took', 'um', 'lemmi', 'think', 'one', 'one', 'one', 'exciting', 'trip', 'um', 'well', 'my', 'my', 'family', 'eastern', 'europe', 'one', 'trips', 'i', 'took', 'my', 'parents', 'i', 'fourteen', 'i', 'i', 'went', 'um', 'austria', 'hungary', 'romania', 'uh', 'you', 'know', 'getting', 'see', 'old', 'castles', 'i', 'would', 'times', 'i', 'it', 'i', 'little', 'i', 'really', 'much', 'memory', 'plus', 'i', 'really', 'process', 'things', 'quite', 'i', 'kinda', 'age', 'i', 'got', 'see', 'you', 'know', 'my', 'familys', 'old', 'uh', 'you', 'know', 'hometown', 'you', 'know', 'uh', 'we', 'family', 'um', 'like', 'tomb', 'i', 'got', 'see', 'old', 'buildings', 'different', 'way', 'life', 'i', 'i', 'i', 'really', 'liked', 'uh', 'you', 'know', 'seeing', 'my', 'parents', 'old', 'friends', 'um', 'you', 'know', 'pretty', 'fun', 'it', 'different', 'it', 'like', 'really', 'my', 'first', 'time', 'taken', 'away', 'my', 'my', 'home', 'environment', 'you', 'know', 'i', 'i', 'left', 'middle', 'school', 'year', 'um', 'it', 'like', 'going', 'you', 'know', 'suburban', 'america', 'traveling', 'around', 'kind', 'uh', 'you', 'know', 'taking', 'old', 'trains', 'seeing', 'castles', 'old', 'like', 'hundreds', 'year', 'old', 'towns', 'it', 'i', 'i', 'know', 'um', 'it', 'everyone', 'you', 'know', 'i', 'know', 'it', 'would', 'great', 'everybody', 'i', 'i', 'really', 'enjoyed', 'it', 'uh', 'good', 'question', 'i', 'uh', 'i', 'probably', 'one', 'things', 'i', 'either', 'turn', 'like', 'rerun', 'sitcom', 'um', 'i', 'used', 'i', 'i', 'watch', 'office', 'lot', 'i', 'kinda', 'know', 'i', 'i', 'turn', 'you', 'know', 'uh', 'kind', 'zone', 'little', 'bit', 'uh', 'you', 'know', 'like', 'familiar', 'characters', 'hearing', 'jokes', 'still', 'funny', 'reason', 'um', 'maybe', 'like', 'uh', 'eating', 'kinda', 'comfort', 'food', 'you', 'know', 'i', 'try', 'eat', 'much', 'fast', 'food', 'uh', 'like', 'n', 'i', 'really', 'like', 'going', 'i', 'unwind', 'um', 'you', 'know', 'it', 'every', 'months', 'maybe', 'i', 'uh', 'i', 'really', 'like', 'read', 'um', 'especially', 'like', 'uh', 'i', 'read', 'days', 'events', 'you', 'know', 'really', 'relaxes', 'me', 'reason', 'even', 'it', 'reading', 'something', 'conflict', 'going', 'somewhere', 'world', 'i', 'i', 'still', 'i', 'read', 'headlines', 'i', 'really', 'like', 'know', 'going', 'kind', 'centers', 'me', 'um', 'i', 'i', 'really', 'enjoy', 'something', 'i', 'relax', 'i', 'would', 'say', 'i', 'pretty', 'great', 'it', 'although', 'i', 'i', 'think', 'my', 'nature', 'makes', 'it', 'pretty', 'uh', 'easy', 'makes', 'pretty', 'easy', 'i', 'i', 'get', 'upset', 'upset', 'um', 'easily', 'i', 'it', 'much', 'challenge', 'control', 'my', 'temper', 'eh', 'um', 'yeah', 'i', 'i', 'really', 'anger', 'issues', 'i', 'it', 'it', 'difficult', 'me', 'get', 'angry', 'uh', 'i', 'i', 'i', 'really', 'much', 'trouble', 'last', 'time', 'i', 'argued', 'somebody', 'probably', 'i', 'even', 'know', 'i', 'i', 'i', 'mean', 'small', 'disagreements', 'you', 'know', 'i', 'might', 'uh', 'family', 'friends', 'things', 'full', 'argument', 'i', 'i', 'i', 'i', 'even', 'remember', 'it', 'years', 'i', 'i', 'really', 'argue', 'much', 'i', 'try', 'avoid', 'conflict', 'much', 'possible', 'my', 'my', 'personal', 'life', 'i', 'um', 'really', 'see', 'anything', 'gained', 'i', 'kind', 'uh', 'naturally', 'repel', 'away', 'it', 'i', 'sorry', 'i', 'i', 'much', 'say', 'arguing', 'something', 'i', 'feel', 'guilty', 'i', 'would', 'say', 'uh', 'you', 'know', 'sometimes', 'i', 'eh', 'sometimes', 'i', 'really', 'um', 'i', 'feel', 'like', 'i', 'maybe', 'made', 'my', 'potential', 'yet', 'life', 'i', 'i', 'think', 'i', 'could', 'definitely', 'despite', 'fact', 'i', 'work', 'lot', 'um', 'i', 'i', 'feel', 'like', 'i', 'always', 'opportunities', 'uh', 'we', 'missing', 'i', 'feel', 'like', 'you', 'know', 'sometimes', 'time', 'i', 'feel', 'little', 'bit', 'guilty', 'always', 'something', 'i', 'could', 'i', 'even', 'it', 'putting', 'away', 'laundry', 'um', 'i', 'took', 'dryer', 'sitting', 'running', 'late', 'i', 'really', 'like', 'running', 'late', 'um', 'although', 'it', 'happens', 'i', 'would', 'like', 'i', 'would', 'i', 'know', 'i', 'feel', 'guilty', 'i', 'like', 'keeping', 'people', 'wait', 'waiting', 'it', 'makes', 'it', 'feel', 'like', 'uh', 'you', 'know', 'my', 'time', 'somehow', 'valuable', 'theirs', 'obviously', 'true', 'um', 'hmm', 'um', 'nothing', 'immediately', 'comes', 'mind', 'i', 'well', 'last', 'car', 'accident', 'i', 'got', 'i', 'it', 'years', 'ago', 'i', 'guess', 'i', 'i', 'wish', 'it', 'happened', 'i', 'wish', 'i', 'i', 'could', 'erase', 'it', 'my', 'memory', 'i', 'eh', 'um', 'driving', 'rush', 'hour', 'traffic', 'you', 'know', 'i', 'i', 'thought', 'cars', 'front', 'me', 'going', 'um', 'you', 'know', 'least', 'little', 'you', 'know', 'ten', 'fifteen', 'feet', 'it', 'turns', 'they', 'they', 'stopped', 'it', 'you', 'know', 'xxx', 'slow', 'rearend', 'collision', 'it', 'still', 'unfortunate', 'i', 'uh', 'you', 'know', 'it', 'felt', 'like', 'i', 'paying', 'attention', 'one', 'second', 'next', 'second', 'you', 'know', 'i', 'like', 'reaching', 'something', 'passenger', 'seat', 'i', 'i', 'smacked', 'car', 'front', 'me', 'uh', 'i', 'i', 'wish', 'happened', 'absolutely', 'uh', 'i', 'know', 'i', 'know', 'it', 'minor', 'thing', 'it', 'really', 'unfortunate', 'timing', 'it', 'bad', 'you', 'know', 'me', 'financially', 'people', 'i', 'got', 'accident', 'fine', 'i', 'you', 'know', 'they', 'they', 'you', 'know', 'ask', 'anything', 'beyond', 'repairing', 'damages', 'uh', 'it', 'uh', 'horrible', 'timing', 'um', 'i', 'i', 'wish', 'happened', 'it', 'suck', 'it', 'suck', 'i', 'it', 'eh', 'yeah', 'it', 'it', 'suck', 'well', 'i', 'pretty', 'good', 'sleeper', 'i', 'although', 'i', 'i', 'naturally', 'wired', 'later', 'night', 'unfortunately', 'my', 'unfortunately', 'my', 'job', 'um', 'allows', 'me', 'affords', 'me', 'pretty', 'flexible', 'schedule', 'token', 'uh', 'i', 'wish', 'i', 'could', 'like', 'hardwired', 'go', 'sleep', 'earlier', 'i', 'i', 'wind', 'staying', 'til', 'one', 'two', 'every', 'night', 'uh', 'it', 'late', 'you', 'know', 'even', 'though', 'i', 'could', 'get', 'full', 'eight', 'hours', 'whatnot', 'sleep', 'it', 'always', 'night', 'time', 'you', 'know', 'half', 'my', 'sleep', 'like', 'kinda', 'early', 'daylight', 'hours', 'i', 'i', 'wish', 'i', 'um', 'able', 'sleep', 'you', 'know', 'go', 'sleep', 'like', 'ten', 'eleven', 'sleep', 'uh', 'wake', 'earlier', 'opposed', 'going', 'sleep', 'later', 'waking', 'later', 'i', 'pretty', 'feeling', 'pretty', 'good', 'i', 'i', 'i', 'complaints', 'physically', 'you', 'know', 'healthwise', 'i', 'feel', 'good', 'um', 'you', 'know', 'my', 'relationships', 'my', 'my', 'family', 'friends', 'good', 'uh', 'um', 'everything', 'great', 'far', 'i', 'i', 'absolutely', 'real', 'complaints', 'uh', 'far', 'i', 'feeling', 'myself', 'anything', 'like', 'i', 'fairly', 'consistent', 'my', 'behavior', 'my', 'thoughts', 'i', 'think', 'um', 'everything', 'pretty', 'okay', 'pretty', 'steady', 'nothing', 'traumatic', 'nothing', 'um', 'kinda', 'resurfacing', 'past', 'nothing', 'sort', 'happened', 'happening', 'well', 'i', 'think', 'plenty', 'things', 'everybody', 'regrets', 'uh', 'yeah', 'yeah', 'plenty', 'things', 'um', 'my', 'life', 'uh', 'yeah', 'like', 'i', 'said', 'i', 'i', 'regret', 'uh', 'you', 'know', 'maybe', 'trying', 'harder', 'my', 'younger', 'days', 'you', 'know', 'i', 'period', 'time', 'my', 'early', 'twenties', 'i', 'i', 'work', 'i', 'uh', 'i', 'hung', 'lot', 'friend', 'you', 'know', 'i', 'guess', 'it', 'like', 'proverbial', 'bad', 'crowd', 'you', 'know', 'none', 'us', 'worked', 'we', 'uh', 'you', 'know', 'we', 'we', 'got', 'high', 'every', 'day', 'um', 'it', 'seemed', 'like', 'every', 'day', 'i', 'know', 'it', 'uh', 'eh', 'it', 'it', 'kinda', 'like', 'throwaway', 'period', 'my', 'life', 'i', 'would', 'say', 'um', 'it', 'important', 'engage', 'world', 'i', 'think', 'i', 'i', 'think', 'i', 'kinda', 'dropped', 'world', 'little', 'bit', 'i', 'think', 'it', 'also', 'i', 'would', 'say', 'it', 'important', 'um', 'recognize', 'people', 'around', 'you', 'they', 'you', 'know', 'kinda', 'potential', 'you', 'know', 'future', 'activities', 'they', 'you', 'expect', 'people', 'you', 'surround', 'yourself', 'i', 'think', 'uh', 'i', 'would', 'say', 'also', 'um', 'kinda', 'try', 'focus', 'i', 'wanted', 'my', 'life', 'opposed', 'thinking', 'well', 'you', 'know', 'things', 'work', 'eventually', 'they', 'i', 'i', 'think', 'you', 'know', 'bit', 'lost', 'time', 'um', 'approach', 'it', 'kinda', 'fatalistic', 'i', 'i', 'think', 'i', 'would', 'say', 'you', 'know', 'um', 'try', 'concentrate', 'you', 'know', 'you', 'know', 'everyone', 'works', 'schedule', 'life', 'race', 'i', 'would', 'say', 'it', 'it', 'important', 'goal', 'mind', 'kind', 'you', 'know', 'idea', 'you', 'want', 'life', 'opposed', 'kinda', 'waiting', 'um', 'thinking', 'things', 'fall', 'place', 'um', 'well', 'i', 'i', 'i', 'guess', 'people', 'i', 'i', 'especially', 'um', 'take', 'even', 'constructive', 'criticism', 'particularly', 'well', 'reason', 'i', 'i', 'think', 'least', 'myself', 'i', 'sort', 'things', 'figured', 'although', 'i', 'i', 'i', 'sure', 'i', 'wrong', 'i', 'think', 'maybe', 'terms', 'like', 'uh', 'group', 'work', 'i', 'done', 'professionally', 'academically', 'you', 'know', 'my', 'work', 'uh', 'kinda', 'picked', 'apart', 'scrutinized', 'i', 'i', 'deal', 'well', 'i', 'i', 'take', 'it', 'personally', 'i', 'uh', 'it', 'probably', 'year', 'half', 'ago', 'i', 'working', 'research', 'project', 'work', 'uh', 'somebody', 'much', 'less', 'experience', 'it', 'three', 'us', 'working', 'something', 'they', 'brought', 'it', 'another', 'pair', 'eyes', 'go', 'it', 'it', 'somebody', 'uh', 'college', 'you', 'know', 'um', 'went', 'we', 'done', 'you', 'know', 'it', 'kinda', 'rewording', 'things', 'it', 'it', 'seemed', 'like', 'cosmetic', 'changes', 'made', 'sake', 'changing', 'things', 'i', 'kinda', 'took', 'personal', 'offense', 'uh', 'i', 'thought', 'i', 'lot', 'experience', 'education', 'uh', 'it', 'it', 'unnecessary', 'you', 'know', 'i', 'i', 'thought', 'whole', 'thing', 'waste', 'time', 'you', 'know', 'i', 'um', 'i', 'i', 'think', 'she', 'somebody', 'qualified', 'necessarily', 'redo', 'our', 'work', 'um', 'even', 'uh', 'redo', 'it', 'edit', 'it', 'uh', 'eh', 'proofread', 'i', 'guess', 'make', 'kind', 'you', 'know', 'qualitative', 'changes', 'i', 'i', 'thought', 'it', 'really', 'bad', 'idea', 'i', 'i', 'thought', 'i', 'you', 'know', 'i', 'i', 'viewed', 'it', 'way', 'i', 'thought', 'fact', 'they', 'brought', 'somebody', 'almost', 'experience', 'you', 'know', 'kind', 'like', 'affront', 'us', 'worked', 'it', 'project', 'you', 'know', 'it', 'our', 'call', 'mm', 'memorable', 'experiences', 'um', 'well', 'i', 'guess', 'first', 'thing', 'comes', 'mind', 'one', 'my', 'um', 'first', 'real', 'trip', 'i', 'took', 'myself', 'uh', 'i', 'i', 'took', 'uh', 'amtrak', 'new', 'mexico', 'i', 'exploring', 'things', 'um', 'ten', 'days', 'my', 'uh', 'kind', 'longest', 'period', 'time', 'til', 'point', 'i', 'my', 'i', 'i', 'know', 'twenty', 'three', 'maybe', 'time', 'i', 'i', 'would', 'really', 'my', 'completely', 'cut', 'everyone', 'i', 'parts', 'new', 'mexico', 'cell', 'phone', 'reception', 'time', 'um', 'it', 'memorable', 'i', 'it', 'my', 'i', 'felt', 'like', 'i', 'really', 'uh', 'you', 'know', 'exposed', 'things', 'i', 'would', 'seen', 'i', 'traveling', 'companions', 'um', 'it', 'lot', 'fun', 'uh', 'well', 'i', 'happy', 'recently', 'i', 'i', 'i', 'getting', 'married', 'months', 'uh', 'i', 'got', 'engaged', 'labor', 'day', 'uh', 'two', 'thousand', 'twelve', 'thanks', 'i', 'i', 'uh', 'happy', 'day', 'whole', 'process', 'you', 'know', 'um', 'meeting', 'someone', 'we', 'we', 'kinda', 'progressed', 'quickly', 'realized', 'we', 'recognized', 'we', 'um', 'i', 'i', 'pretty', 'happy', 'state', 'past', 'uh', 'well', 'it', 'eleven', 'months', 'um', 'yeah', 'i', 'i', 'think', 'day', 'we', 'got', 'engaged', 'we', 'we', 'shared', 'it', 'our', 'family', 'i', 'think', 'happy', 'times', 'um', 'new', 'years', 'happy', 'you', 'know', 'uh', 'i', 'i', 'happy', 'period', 'my', 'life', 'right', 'yeah', 'yeah', 'thank', 'you', 'uh', 'sort', 'um', 'sense', 'humor', 'maybe', 'everybody', 'gets', 'i', 'would', 'say', 'uh', 'also', 'uh', 'you', 'know', 'um', 'helpful', 'calm', 'relaxed', 'maybe', 'uh', 'intelligent', 'um', 'you', 'know', 'likes', 'recycle', 'i', 'know', 'something', 'they', 'would', 'say', 'uh', 'i', 'else', 'i', 'think', 'um', 'my', 'best', 'friend', 'might', 'say', 'uh', 'i', 'i', 'i', 'like', 'animals', 'i', 'always', 'dogs', 'cats', 'they', 'might', 'describe', 'me', 'people', 'person', 'i', 'mean', 'animal', 'person', 'excuse', 'me', 'i', 'also', 'um', 'you', 'know', 'fairly', 'easygoing', 'you', 'know', 'flexible', 'plans', 'mm', 'uh', 'i', 'would', 'say', 'one', 'proud', 'my', 'life', 'um', 'hmm', 'well', 'i', 'i', 'i', 'pretty', 'happy', 'level', 'education', 'i', 'gotten', 'i', 'also', 'going', 'back', 'eh', 'starting', 'fall', 'i', 'starting', 'phd', 'program', 'i', 'happy', 'i', 'happy', 'you', 'know', 'breaking', 'my', 'bad', 'habits', 'past', 'i', 'i', 'would', 'say', 'i', 'proud', 'anything', 'it', 'um', 'you', 'know', 'i', 'strong', 'faith', 'relationship', 'i', 'go', 'church', 'often', 'i', 'i', 'happy', 'i', 'know', 'pride', 'right', 'word', 'um', 'my', 'relationships', 'my', 'family', 'friends', 'good', 'uh', 'i', 'would', 'say', 'maybe', 'fact', 'it', 'lot', 'different', 'my', 'life', 'lot', 'different', 'it', 'ten', 'years', 'ago', 'you', 'know', 'change', 'i', 'i', 'happy', 'proud', 'problem', 'good', 'day', 'thank', 'you', 'goodbye'], tags=['train_8']),\n",
       " TaggedDocument(words=['yes', 'i', 'well', 'los', 'angeles', 'greater', 'los', 'angeles', 'area', 'people', 'diversity', 'various', 'entertainment', 'activities', 'um', 'fickle', 'weather', 'traffic', 'litter', 'i', 'traveled', 'domestically', 'internationally', 'seeing', 'places', 'people', 'live', 'culture', 'last', 'trip', 'i', 'went', 'san', 'diego', 'uh', 'childhood', 'adult', 'um', 'family', 'vacations', 'um', 'baja', 'rosarito', 'beach', 'yeah', 'reason', 'memory', 'comes', 'mind', 'um', 'weekend', 'easter', 'we', 'usually', 'go', 'easter', 'easter', 'spring', 'break', 'rosarito', 'baja', 'um', 'i', 'bachelors', 'bachelors', 'communication', 'studies', 'it', 'open', 'field', 'deal', 'um', 'communication', 'interactively', 'performing', 'arts', 'telecommunications', 'business', 'entrepreneurship', 'i', 'i', 'actually', 'unemployed', 'um', 'i', 'think', 'my', 'business', 'my', 'dream', 'my', 'dream', 'job', 'my', 'company', 'um', 'i', 'would', 'like', 'open', 'something', 'like', 'telecommunications', 'area', 'business', 'something', 'online', 'online', 'services', 'um', 'i', 'like', 'make', 'things', 'my', 'hands', 'my', 'next', 'venture', 'would', 'would', 'create', 'natural', 'soy', 'candles', 'something', 'area', 'um', 'mixture', 'mixture', 'shy', 'outgoing', 'i', 'observe', 'people', 'crowds', 'i', 'usually', 'make', 'determination', 'i', 'remain', 'reserved', 'remain', 'open', 'i', 'listen', 'like', 'meditation', 'tape', 'i', 'take', 'walk', 'go', 'get', 'massage', 'fair', 'oh', 'man', 'uh', 'probably', 'yesterday', 'morning', 'um', 'usually', 'argument', 'me', 'making', 'myself', 'clear', 'me', 'repeating', 'myself', 'twice', 'it', 'usually', 'gets', 'person', 'trouble', 'mm', 'i', 'redeemed', 'service', 'mechanic', 'fixed', 'my', 'transmission', 'i', 'warranty', 'i', 'wrote', 'department', 'consumer', 'affairs', 'guy', 'offered', 'me', 'portion', 'settlement', 'agreement', 'i', 'decided', 'take', 'him', 'small', 'claims', 'court', 'get', 'bigger', 'amount', 'i', 'wish', 'i', 'would', 'taken', 'offer', 'he', 'gave', 'me', 'midst', 'dealing', 'third', 'party', 'department', 'consumer', 'affairs', 'i', 'took', 'him', 'small', 'claims', 'court', 'i', 'end', 'losing', 'whole', 'settlement', 'offered', 'small', 'portion', 'i', 'wish', 'i', 'would', 'taken', 'higher', 'road', 'taken', 'lower', 'road', 'i', 'tend', 'feel', 'guilty', 'many', 'things', 'hardest', 'decision', 'uh', 'i', 'know', 'financially', 'emotionally', 'mm', 'emotionally', 'letting', 'go', 'past', 'relationship', 'it', 'hardest', 'thing', 'i', 'i', 'say', 'hardest', 'thing', 'it', 'difficult', 'thing', 'yes', 'it', 'relationship', 'seven', 'years', 'um', 'person', 'already', 'moved', 'uh', 'they', 'want', 'me', 'their', 'life', 'hopes', 'something', 'goes', 'wrong', 'my', 'current', 'relationship', 'we', 'always', 'something', 'fall', 'back', 'uh', 'yeah', 'it', 'hard', 'um', 'event', 'something', 'i', 'could', 'erase', 'my', 'memory', 'um', 'i', 'know', 'lot', 'events', 'i', 'automatically', 'erase', 'my', 'memory', 'whatever', 'comes', 'mind', 'right', 'um', 'probably', 'death', 'relative', 'um', 'alone', 'misinformed', 'i', 'know', 'they', 'sick', 'i', 'know', 'they', 'um', 'their', 'days', 'numbered', 'i', 'could', 'opportunity', 'spend', 'time', 'them', 'make', 'better', 'better', 'connection', 'last', 'days', 'um', 'it', 'fair', 'midland', 'mm', 'my', 'immediate', 'i', 'close', 'distant', 'close', 'my', 'mother', 'um', 'yes', 'uh', 'she', 'encouraged', 'me', 'continue', 'my', 'education', 'always', 'fall', 'back', 'my', 'hobbies', 'hopes', 'goals', 'dreams', 'she', 'always', 'encourages', 'me', 'always', 'stay', 'aloof', 'looking', 'better', 'opportunity', 'she', 'encourages', 'me', 'afraid', 'explore', 'ventures', 'easy', 'easy', 'i', 'feeling', 'well', 'um', 'yes', 'little', 'stressed', 'i', 'trying', 'manage', 'i', 'leave', 'stressful', 'environment', 'um', 'past', 'three', 'years', 'ago', 'um', 'i', 'issues', 'my', 'learning', 'environment', 'um', 'i', 'feeling', 'i', 'feeling', 'emotionally', 'attacked', 'yeah', 'i', 'uh', 'issue', 'professor', 'i', 'know', 'different', 'personality', 'he', 'almost', 'ran', 'me', 'crosswalk', 'school', 'i', 'felt', 'i', 'felt', 'um', 'like', 'i', 'dishonest', 'environment', 'i', 'felt', 'like', 'i', 'wanted', 'get', 'you', 'know', 'switch', 'his', 'class', 'get', 'another', 'class', 'i', 'choice', 'stay', 'deal', 'his', 'meanness', 'whole', 'semester', 'um', 'i', 'think', 'finding', 'ptsd', 'they', 'trying', 'link', 'depression', 'financially', 'i', 'capable', 'i', 'found', 'counselor', 'willing', 'committed', 'working', 'me', 'helping', 'me', 'my', 'issues', 'i', 'find', 'lot', 'counselors', 'they', 'listen', 'me', 'they', 'laugh', 'me', 'they', 'tell', 'me', 'opposite', 'i', 'telling', 'them', 'mhm', 'mm', 'last', 'time', 'i', 'felt', 'really', 'happy', 'i', 'really', 'know', 'good', 'question', 'um', 'i', 'want', 'i', 'relaxed', 'i', 'relaxed', 'i', 'you', 'know', 'i', 'know', 'i', 'best', 'friends', 'my', 'best', 'qualities', 'i', 'uh', 'hard', 'working', 'i', 'reliable', 'i', 'excellent', 'friend', 'um', 'i', 'energetic', 'i', 'go', 'getter', 'things', 'i', 'wish', 'i', 'could', 'change', 'myself', 'probably', 'less', 'sensitive', 'take', 'things', 'personally', 'um', 'learn', 'help', 'myself', 'helping', 'others', 'i', 'regrets', 'my', 'life', 'um', 'i', 'could', 'things', 'differently', 'ten', 'years', 'ago', 'i', 'probably', 'would', 'focused', 'studied', 'less', 'house', 'hanging', 'friends', 'mm', 'i', 'got', 'college', 'education', 'i', 'self', 'sufficient', 'i', 'pay', 'my', 'bills', 'myself', 'i', 'alive', 'goodbye'], tags=['train_9'])]"
      ]
     },
     "execution_count": 8,
     "metadata": {},
     "output_type": "execute_result"
    }
   ],
   "source": [
    "X_train = label_sentences(X_train, 'train')\n",
    "X_test = label_sentences(X_test, 'test')\n",
    "all_data = X_train + X_test\n",
    "\n",
    "all_data[:10]"
   ]
  },
  {
   "cell_type": "markdown",
   "metadata": {},
   "source": [
    "# Train doc2vec model (skip if you have the numpy data)\n",
    "Parameters:\n",
    "* dm=0: distributed bag of words (DBOW) is used\n",
    "* vector_size=300: 300 vector dimensional feature vectors\n",
    "* negative=5: specifies how many \"noise words\" should be drawn\n",
    "* min_count=1: ignores all words with total frequency lower than this\n",
    "* alpha=0.065: the initial learning rate"
   ]
  },
  {
   "cell_type": "code",
   "execution_count": 9,
   "metadata": {},
   "outputs": [
    {
     "name": "stderr",
     "output_type": "stream",
     "text": [
      "100%|██████████| 127/127 [00:00<00:00, 332507.25it/s]\n"
     ]
    }
   ],
   "source": [
    "model_dbow = doc2vec.Doc2Vec(dm=0, vector_size=300, negative=5, min_count=1, alpha=0.065, min_alpha=0.065)\n",
    "model_dbow.build_vocab([x for x in tqdm(all_data)])"
   ]
  },
  {
   "cell_type": "code",
   "execution_count": 10,
   "metadata": {},
   "outputs": [
    {
     "name": "stderr",
     "output_type": "stream",
     "text": [
      "100%|██████████| 127/127 [00:00<00:00, 65705.76it/s]\n",
      "100%|██████████| 127/127 [00:00<00:00, 66097.11it/s]\n",
      "100%|██████████| 127/127 [00:00<00:00, 69395.08it/s]\n",
      "100%|██████████| 127/127 [00:00<00:00, 19328.59it/s]\n",
      "100%|██████████| 127/127 [00:00<00:00, 16574.15it/s]\n",
      "100%|██████████| 127/127 [00:00<00:00, 640236.31it/s]\n",
      "100%|██████████| 127/127 [00:00<00:00, 631133.42it/s]\n",
      "100%|██████████| 127/127 [00:00<00:00, 547457.97it/s]\n",
      "100%|██████████| 127/127 [00:00<00:00, 19079.36it/s]\n",
      "100%|██████████| 127/127 [00:00<00:00, 37004.28it/s]\n",
      "100%|██████████| 127/127 [00:00<00:00, 574004.97it/s]\n",
      "100%|██████████| 127/127 [00:00<00:00, 564874.45it/s]\n",
      "100%|██████████| 127/127 [00:00<00:00, 27458.97it/s]\n",
      "100%|██████████| 127/127 [00:00<00:00, 578996.31it/s]\n",
      "100%|██████████| 127/127 [00:00<00:00, 599186.29it/s]\n",
      "100%|██████████| 127/127 [00:00<00:00, 614390.55it/s]\n",
      "100%|██████████| 127/127 [00:00<00:00, 517664.34it/s]\n",
      "100%|██████████| 127/127 [00:00<00:00, 19157.58it/s]\n",
      "100%|██████████| 127/127 [00:00<00:00, 172108.76it/s]\n",
      "100%|██████████| 127/127 [00:00<00:00, 599186.29it/s]\n",
      "100%|██████████| 127/127 [00:00<00:00, 615100.01it/s]\n",
      "100%|██████████| 127/127 [00:00<00:00, 566677.24it/s]\n",
      "100%|██████████| 127/127 [00:00<00:00, 593181.08it/s]\n",
      "100%|██████████| 127/127 [00:00<00:00, 108976.39it/s]\n",
      "100%|██████████| 127/127 [00:00<00:00, 566677.24it/s]\n",
      "100%|██████████| 127/127 [00:00<00:00, 17975.18it/s]\n",
      "100%|██████████| 127/127 [00:00<00:00, 551996.48it/s]\n",
      "100%|██████████| 127/127 [00:00<00:00, 453341.79it/s]\n",
      "100%|██████████| 127/127 [00:00<00:00, 550285.75it/s]\n",
      "100%|██████████| 127/127 [00:00<00:00, 562488.50it/s]\n"
     ]
    }
   ],
   "source": [
    "for epoch in range(30):\n",
    "    model_dbow.train(utils.shuffle([x for x in tqdm(all_data)]), \n",
    "                     total_examples=len(all_data), \n",
    "                     epochs=1)  #shuffle the data and use all data exactly once\n",
    "    model_dbow.alpha -= 0.002 #set the learning rate\n",
    "    model_dbow.min_alpha = model_dbow.alpha"
   ]
  },
  {
   "cell_type": "code",
   "execution_count": 11,
   "metadata": {},
   "outputs": [
    {
     "data": {
      "text/plain": [
       "((82, 300), (45, 300), (82,), (45,))"
      ]
     },
     "execution_count": 11,
     "metadata": {},
     "output_type": "execute_result"
    }
   ],
   "source": [
    "def get_vectors(model, corpus_size, vectors_size, vectors_type):\n",
    "    \"\"\"\n",
    "    Get vectors from trained doc2vec model\n",
    "    :param doc2vec_model: Trained Doc2Vec model\n",
    "    :param corpus_size: Size of the data\n",
    "    :param vectors_size: Size of the embedding vectors\n",
    "    :param vectors_type: Training or Testing vectors\n",
    "    :return: list of vectors\n",
    "    \"\"\"\n",
    "    vectors = np.zeros((corpus_size, vectors_size))\n",
    "    for i in range(0, corpus_size):\n",
    "        prefix = vectors_type + '_' + str(i)\n",
    "        vectors[i] = model.docvecs[prefix]\n",
    "    return vectors\n",
    "\n",
    "X_train = get_vectors(model_dbow, len(X_train), 300, 'train')\n",
    "X_test = get_vectors(model_dbow, len(X_test), 300, 'test')\n",
    "\n",
    "X_train.shape, X_test.shape, y_train.shape, y_test.shape"
   ]
  },
  {
   "cell_type": "code",
   "execution_count": 12,
   "metadata": {},
   "outputs": [],
   "source": [
    "np.save(\"X_train_doc2vec.npy\", X_train)\n",
    "np.save(\"X_test_doc2vec.npy\", X_test)\n",
    "np.save(\"y_train_doc2vec.npy\", y_train)\n",
    "np.save(\"y_test_doc2vec.npy\", y_test)"
   ]
  },
  {
   "cell_type": "markdown",
   "metadata": {},
   "source": [
    "# Load dataset"
   ]
  },
  {
   "cell_type": "code",
   "execution_count": 13,
   "metadata": {},
   "outputs": [],
   "source": [
    "X_train = np.load(\"X_train_doc2vec.npy\")\n",
    "X_test = np.load(\"X_test_doc2vec.npy\")\n",
    "y_train = np.load(\"y_train_doc2vec.npy\")\n",
    "y_test = np.load(\"y_test_doc2vec.npy\")"
   ]
  },
  {
   "cell_type": "markdown",
   "metadata": {},
   "source": [
    "# More preprocessing"
   ]
  },
  {
   "cell_type": "markdown",
   "metadata": {},
   "source": [
    "## Evaluation metrics\n",
    "Some considerations in evaluation metrics when deciding our model.\n",
    "1. In our use case, it is more important to have high sensitivity as want to correctly identify as many depression cases out of all actual depression cases for early intervention. Predicting a non-depressed person as depressed is comparatively less severe, meaning we prioritize TPR (sensitivity) over FPR.\n",
    "2. Hence we will focus on `f1 score` and `recall` for the positive class.\n",
    "\n",
    "Note:\n",
    "* Sensitivity = true positive rate = recall = TP / (TP + FN)\n",
    "* Specificity = true negative rate = TN / (TN + FP)\n",
    "* Fall out = false positive rate = FP / (FP + TN)\n",
    "* Miss rate = false negative rate = FN / (FN + TP)\n",
    "\n",
    "Metrics can be found on this [website](https://scikit-learn.org/stable/modules/model_evaluation.html)."
   ]
  },
  {
   "cell_type": "code",
   "execution_count": 14,
   "metadata": {},
   "outputs": [],
   "source": [
    "def evaluate_on_training_set(y_test, y_pred):\n",
    "    print(y_pred)\n",
    "    print(y_test)\n",
    "    \n",
    "    # Calculate AUC\n",
    "    print(\"AUC is: \", roc_auc_score(y_test, y_pred))\n",
    "\n",
    "    # print out recall and precision\n",
    "    print(classification_report(y_test, y_pred))\n",
    "\n",
    "    # print out confusion matrix\n",
    "    print(\"Confusion Matrix: \\n\", confusion_matrix(y_test, y_pred))\n",
    "\n",
    "    # # calculate points for ROC curve\n",
    "    fpr, tpr, thresholds = roc_curve(y_test, y_pred)\n",
    "\n",
    "    # Plot ROC curve\n",
    "    plt.plot(fpr, tpr, label='ROC curve (area = %0.3f)' % roc_auc_score(y_test, y_pred))\n",
    "    plt.plot([0, 1], [0, 1], 'k--')\n",
    "    plt.ylim([0.0, 1.0])\n",
    "    plt.xlabel('False Positive Rate')\n",
    "    plt.ylabel('True Positive Rate')\n",
    "    plt.title('Receiver Operating Characteristic')"
   ]
  },
  {
   "cell_type": "markdown",
   "metadata": {},
   "source": [
    "## k cross "
   ]
  },
  {
   "cell_type": "code",
   "execution_count": 15,
   "metadata": {},
   "outputs": [],
   "source": [
    "def k_cross(input_model, X=X_train, y=y_train, k=4, n=3, random_state=RANDOM_STATE):\n",
    "    f1_scores = []\n",
    "    recall_scores = []\n",
    "    rkf = RepeatedKFold(n_splits=k, n_repeats=n, random_state=RANDOM_STATE)\n",
    "        \n",
    "    for train_index, val_index in rkf.split(X):\n",
    "        X_train, X_val = X[train_index], X[val_index]\n",
    "        y_train, y_val = y[train_index], y[val_index]\n",
    "                \n",
    "        model = clone(input_model) # prevents incremental fitting\n",
    "        model.fit(X_train, y_train) \n",
    "        \n",
    "        y_pred = model.predict(X_val)\n",
    "        f1 = f1_score(y_val, y_pred)\n",
    "        f1_scores.append(f1)\n",
    "        recall = recall_score(y_val, y_pred)\n",
    "        recall_scores.append(recall)\n",
    "        \n",
    "    return f1_scores, recall_scores"
   ]
  },
  {
   "cell_type": "markdown",
   "metadata": {},
   "source": [
    "## Evaluate model"
   ]
  },
  {
   "cell_type": "code",
   "execution_count": 16,
   "metadata": {},
   "outputs": [],
   "source": [
    "def evaluate_model(model):\n",
    "    model.fit(X_train, y_train)\n",
    "    y_pred = model.predict(X_test)\n",
    "    evaluate_on_training_set(y_test, y_pred)\n",
    "    \n",
    "    return model"
   ]
  },
  {
   "cell_type": "markdown",
   "metadata": {},
   "source": [
    "# Model Implementation"
   ]
  },
  {
   "cell_type": "markdown",
   "metadata": {},
   "source": [
    "## Logistic Regression "
   ]
  },
  {
   "cell_type": "code",
   "execution_count": 17,
   "metadata": {},
   "outputs": [
    {
     "name": "stdout",
     "output_type": "stream",
     "text": [
      "best scores: f1 = 0.5529993691225575, recall = 0.5769635457135457\n",
      "[0 0 1 0 1 1 1 1 0 1 0 0 1 1 1 1 0 1 1 0 1 1 1 1 1 1 0 1 0 0 1 0 0 1 0 0 1\n",
      " 1 1 0 1 1 1 0 1]\n",
      "[0 0 0 1 1 1 0 0 0 1 0 1 0 1 1 0 1 0 1 0 0 0 1 0 0 1 0 1 0 0 0 0 0 0 0 0 1\n",
      " 1 0 0 0 0 0 0 0]\n",
      "AUC is:  0.618663594470046\n",
      "              precision    recall  f1-score   support\n",
      "\n",
      "           0       0.82      0.45      0.58        31\n",
      "           1       0.39      0.79      0.52        14\n",
      "\n",
      "    accuracy                           0.56        45\n",
      "   macro avg       0.61      0.62      0.55        45\n",
      "weighted avg       0.69      0.56      0.56        45\n",
      "\n",
      "Confusion Matrix: \n",
      " [[14 17]\n",
      " [ 3 11]]\n"
     ]
    },
    {
     "data": {
      "text/plain": [
       "LogisticRegression(C=10, n_jobs=3)"
      ]
     },
     "execution_count": 17,
     "metadata": {},
     "output_type": "execute_result"
    },
    {
     "data": {
      "image/png": "[encoded data removed]",
      "text/plain": [
       "<Figure size 432x288 with 1 Axes>"
      ]
     },
     "metadata": {
      "needs_background": "light"
     },
     "output_type": "display_data"
    }
   ],
   "source": [
    "def find_best_logreg_model(power):\n",
    "    best_f1_model = None\n",
    "    best_f1 = -1\n",
    "    best_recall = -1\n",
    "    \n",
    "    for i in range(power + 1):\n",
    "        model = LogisticRegression(n_jobs=3, C=10**i)\n",
    "        \n",
    "        f1_scores, recall_scores = k_cross(model)\n",
    "        f1 = np.mean(f1_scores)\n",
    "        recall = np.mean(recall_scores)\n",
    "\n",
    "        if f1 > best_f1:\n",
    "            best_f1 = f1\n",
    "            best_recall = recall\n",
    "            best_f1_model = model\n",
    "    \n",
    "    print(f\"best scores: f1 = {best_f1}, recall = {best_recall}\")\n",
    "    \n",
    "    return best_f1_model\n",
    "\n",
    "best_logreg_f1_model = find_best_logreg_model(6)\n",
    "evaluate_model(best_logreg_f1_model)"
   ]
  },
  {
   "cell_type": "markdown",
   "metadata": {},
   "source": [
    "## Decision Tree"
   ]
  },
  {
   "cell_type": "code",
   "execution_count": 18,
   "metadata": {},
   "outputs": [
    {
     "name": "stdout",
     "output_type": "stream",
     "text": [
      "best scores: f1 = 0.49709463877084015, recall = 0.4799177674177674\n",
      "[0 0 1 1 0 1 1 0 0 0 0 1 0 0 1 0 1 1 0 0 0 0 1 1 1 1 1 1 1 0 1 1 1 1 1 0 1\n",
      " 1 1 1 1 0 0 1 0]\n",
      "[0 0 0 1 1 1 0 0 0 1 0 1 0 1 1 0 1 0 1 0 0 0 1 0 0 1 0 1 0 0 0 0 0 0 0 0 1\n",
      " 1 0 0 0 0 0 0 0]\n",
      "AUC is:  0.599078341013825\n",
      "              precision    recall  f1-score   support\n",
      "\n",
      "           0       0.79      0.48      0.60        31\n",
      "           1       0.38      0.71      0.50        14\n",
      "\n",
      "    accuracy                           0.56        45\n",
      "   macro avg       0.59      0.60      0.55        45\n",
      "weighted avg       0.66      0.56      0.57        45\n",
      "\n",
      "Confusion Matrix: \n",
      " [[15 16]\n",
      " [ 4 10]]\n"
     ]
    },
    {
     "data": {
      "text/plain": [
       "DecisionTreeClassifier(max_depth=2, min_samples_leaf=14, random_state=42)"
      ]
     },
     "execution_count": 18,
     "metadata": {},
     "output_type": "execute_result"
    },
    {
     "data": {
      "image/png": "[encoded data removed]",
      "text/plain": [
       "<Figure size 432x288 with 1 Axes>"
      ]
     },
     "metadata": {
      "needs_background": "light"
     },
     "output_type": "display_data"
    }
   ],
   "source": [
    "def find_best_tree_model(upper_depth, upper_leaf):\n",
    "    best_f1_model = None\n",
    "    best_f1 = -1\n",
    "    best_recall = -1\n",
    "    \n",
    "    for depth in range(1, upper_depth + 1):\n",
    "        for leaf in range(1, upper_leaf + 1):\n",
    "            model = DecisionTreeClassifier(random_state=RANDOM_STATE, max_depth=depth, min_samples_leaf=leaf) \n",
    "            \n",
    "            f1_scores, recall_scores = k_cross(model)\n",
    "            f1 = np.mean(f1_scores)\n",
    "            recall = np.mean(recall_scores)\n",
    "            \n",
    "            if f1 > best_f1:\n",
    "                best_f1 = f1\n",
    "                best_recall = recall\n",
    "                best_f1_model = model\n",
    "    \n",
    "    print(f\"best scores: f1 = {best_f1}, recall = {best_recall}\")\n",
    "    \n",
    "    return best_f1_model\n",
    "\n",
    "best_tree_f1_model = find_best_tree_model(20, 30)\n",
    "evaluate_model(best_tree_f1_model)"
   ]
  },
  {
   "cell_type": "markdown",
   "metadata": {},
   "source": [
    "## Random Forest"
   ]
  },
  {
   "cell_type": "code",
   "execution_count": 19,
   "metadata": {},
   "outputs": [
    {
     "name": "stdout",
     "output_type": "stream",
     "text": [
      "best scores: f1 = 0.5532454186630388, recall = 0.5691563066563067\n",
      "[0 1 0 1 0 0 1 0 1 1 1 0 1 0 0 1 0 1 0 1 1 1 1 0 0 1 0 1 1 0 0 0 0 0 0 1 1\n",
      " 1 1 1 0 1 0 1 0]\n",
      "[0 0 0 1 1 1 0 0 0 1 0 1 0 1 1 0 1 0 1 0 0 0 1 0 0 1 0 1 0 0 0 0 0 0 0 0 1\n",
      " 1 0 0 0 0 0 0 0]\n",
      "AUC is:  0.49193548387096775\n",
      "              precision    recall  f1-score   support\n",
      "\n",
      "           0       0.68      0.48      0.57        31\n",
      "           1       0.30      0.50      0.38        14\n",
      "\n",
      "    accuracy                           0.49        45\n",
      "   macro avg       0.49      0.49      0.47        45\n",
      "weighted avg       0.56      0.49      0.51        45\n",
      "\n",
      "Confusion Matrix: \n",
      " [[15 16]\n",
      " [ 7  7]]\n"
     ]
    },
    {
     "data": {
      "text/plain": [
       "RandomForestClassifier(n_estimators=5, random_state=42)"
      ]
     },
     "execution_count": 19,
     "metadata": {},
     "output_type": "execute_result"
    },
    {
     "data": {
      "image/png": "[encoded data removed]",
      "text/plain": [
       "<Figure size 432x288 with 1 Axes>"
      ]
     },
     "metadata": {
      "needs_background": "light"
     },
     "output_type": "display_data"
    }
   ],
   "source": [
    "def find_best_forest_model(n_estimators):\n",
    "    best_f1_model = None\n",
    "    best_f1 = -1\n",
    "    best_recall = -1\n",
    "    \n",
    "    for estimator in range(1, n_estimators + 1):\n",
    "        model = RandomForestClassifier(random_state=RANDOM_STATE, n_estimators=estimator) \n",
    "        \n",
    "        f1_scores, recall_scores = k_cross(model)\n",
    "        f1 = np.mean(f1_scores)\n",
    "        recall = np.mean(recall_scores)\n",
    "\n",
    "        if f1 > best_f1:\n",
    "            best_f1 = f1\n",
    "            best_recall = recall\n",
    "            best_f1_model = model\n",
    "    \n",
    "    print(f\"best scores: f1 = {best_f1}, recall = {best_recall}\")\n",
    "    \n",
    "    return best_f1_model\n",
    "\n",
    "best_forest_f1_model = find_best_forest_model(30)\n",
    "evaluate_model(best_forest_f1_model)"
   ]
  },
  {
   "cell_type": "markdown",
   "metadata": {},
   "source": [
    "## SVM with grid search"
   ]
  },
  {
   "cell_type": "code",
   "execution_count": 20,
   "metadata": {},
   "outputs": [
    {
     "name": "stdout",
     "output_type": "stream",
     "text": [
      "Fitting 10 folds for each of 18 candidates, totalling 180 fits\n"
     ]
    },
    {
     "name": "stderr",
     "output_type": "stream",
     "text": [
      "[Parallel(n_jobs=4)]: Using backend LokyBackend with 4 concurrent workers.\n",
      "[Parallel(n_jobs=4)]: Done 151 tasks      | elapsed:    1.2s\n",
      "[Parallel(n_jobs=4)]: Done 180 out of 180 | elapsed:    1.7s finished\n",
      "[Parallel(n_jobs=4)]: Using backend LokyBackend with 4 concurrent workers.\n"
     ]
    },
    {
     "name": "stdout",
     "output_type": "stream",
     "text": [
      "Fitting 10 folds for each of 18 candidates, totalling 180 fits\n"
     ]
    },
    {
     "name": "stderr",
     "output_type": "stream",
     "text": [
      "[Parallel(n_jobs=4)]: Done 158 tasks      | elapsed:    1.0s\n",
      "[Parallel(n_jobs=4)]: Done 180 out of 180 | elapsed:    1.2s finished\n",
      "[Parallel(n_jobs=4)]: Using backend LokyBackend with 4 concurrent workers.\n"
     ]
    },
    {
     "name": "stdout",
     "output_type": "stream",
     "text": [
      "Fitting 10 folds for each of 18 candidates, totalling 180 fits\n"
     ]
    },
    {
     "name": "stderr",
     "output_type": "stream",
     "text": [
      "[Parallel(n_jobs=4)]: Done 158 tasks      | elapsed:    1.0s\n",
      "[Parallel(n_jobs=4)]: Done 180 out of 180 | elapsed:    1.3s finished\n",
      "[Parallel(n_jobs=4)]: Using backend LokyBackend with 4 concurrent workers.\n"
     ]
    },
    {
     "name": "stdout",
     "output_type": "stream",
     "text": [
      "Fitting 10 folds for each of 18 candidates, totalling 180 fits\n"
     ]
    },
    {
     "name": "stderr",
     "output_type": "stream",
     "text": [
      "[Parallel(n_jobs=4)]: Done 130 tasks      | elapsed:    0.7s\n",
      "[Parallel(n_jobs=4)]: Done 180 out of 180 | elapsed:    1.0s finished\n",
      "[Parallel(n_jobs=4)]: Using backend LokyBackend with 4 concurrent workers.\n"
     ]
    },
    {
     "name": "stdout",
     "output_type": "stream",
     "text": [
      "Fitting 10 folds for each of 18 candidates, totalling 180 fits\n"
     ]
    },
    {
     "name": "stderr",
     "output_type": "stream",
     "text": [
      "[Parallel(n_jobs=4)]: Done 130 tasks      | elapsed:    0.6s\n",
      "[Parallel(n_jobs=4)]: Done 180 out of 180 | elapsed:    1.1s finished\n",
      "[Parallel(n_jobs=4)]: Using backend LokyBackend with 4 concurrent workers.\n"
     ]
    },
    {
     "name": "stdout",
     "output_type": "stream",
     "text": [
      "Fitting 10 folds for each of 18 candidates, totalling 180 fits\n"
     ]
    },
    {
     "name": "stderr",
     "output_type": "stream",
     "text": [
      "[Parallel(n_jobs=4)]: Done 130 tasks      | elapsed:    0.7s\n",
      "[Parallel(n_jobs=4)]: Done 180 out of 180 | elapsed:    1.2s finished\n",
      "[Parallel(n_jobs=4)]: Using backend LokyBackend with 4 concurrent workers.\n"
     ]
    },
    {
     "name": "stdout",
     "output_type": "stream",
     "text": [
      "Fitting 10 folds for each of 18 candidates, totalling 180 fits\n"
     ]
    },
    {
     "name": "stderr",
     "output_type": "stream",
     "text": [
      "[Parallel(n_jobs=4)]: Done 158 tasks      | elapsed:    0.8s\n",
      "[Parallel(n_jobs=4)]: Done 180 out of 180 | elapsed:    0.9s finished\n",
      "[Parallel(n_jobs=4)]: Using backend LokyBackend with 4 concurrent workers.\n"
     ]
    },
    {
     "name": "stdout",
     "output_type": "stream",
     "text": [
      "Fitting 10 folds for each of 18 candidates, totalling 180 fits\n"
     ]
    },
    {
     "name": "stderr",
     "output_type": "stream",
     "text": [
      "[Parallel(n_jobs=4)]: Done 158 tasks      | elapsed:    0.8s\n",
      "[Parallel(n_jobs=4)]: Done 180 out of 180 | elapsed:    1.1s finished\n",
      "[Parallel(n_jobs=4)]: Using backend LokyBackend with 4 concurrent workers.\n"
     ]
    },
    {
     "name": "stdout",
     "output_type": "stream",
     "text": [
      "Fitting 10 folds for each of 18 candidates, totalling 180 fits\n"
     ]
    },
    {
     "name": "stderr",
     "output_type": "stream",
     "text": [
      "[Parallel(n_jobs=4)]: Done 130 tasks      | elapsed:    0.8s\n",
      "[Parallel(n_jobs=4)]: Done 180 out of 180 | elapsed:    1.2s finished\n",
      "[Parallel(n_jobs=4)]: Using backend LokyBackend with 4 concurrent workers.\n"
     ]
    },
    {
     "name": "stdout",
     "output_type": "stream",
     "text": [
      "Fitting 10 folds for each of 18 candidates, totalling 180 fits\n"
     ]
    },
    {
     "name": "stderr",
     "output_type": "stream",
     "text": [
      "[Parallel(n_jobs=4)]: Done 158 tasks      | elapsed:    0.9s\n",
      "[Parallel(n_jobs=4)]: Done 180 out of 180 | elapsed:    1.1s finished\n",
      "[Parallel(n_jobs=4)]: Using backend LokyBackend with 4 concurrent workers.\n"
     ]
    },
    {
     "name": "stdout",
     "output_type": "stream",
     "text": [
      "Fitting 10 folds for each of 18 candidates, totalling 180 fits\n"
     ]
    },
    {
     "name": "stderr",
     "output_type": "stream",
     "text": [
      "[Parallel(n_jobs=4)]: Done 158 tasks      | elapsed:    1.0s\n",
      "[Parallel(n_jobs=4)]: Done 180 out of 180 | elapsed:    1.1s finished\n",
      "[Parallel(n_jobs=4)]: Using backend LokyBackend with 4 concurrent workers.\n"
     ]
    },
    {
     "name": "stdout",
     "output_type": "stream",
     "text": [
      "Fitting 10 folds for each of 18 candidates, totalling 180 fits\n"
     ]
    },
    {
     "name": "stderr",
     "output_type": "stream",
     "text": [
      "[Parallel(n_jobs=4)]: Done 130 tasks      | elapsed:    0.7s\n",
      "[Parallel(n_jobs=4)]: Done 180 out of 180 | elapsed:    1.1s finished\n",
      "[Parallel(n_jobs=4)]: Using backend LokyBackend with 4 concurrent workers.\n"
     ]
    },
    {
     "name": "stdout",
     "output_type": "stream",
     "text": [
      "f1 mean score: 0.5950082667180268\n",
      "recall mean score: 0.814050764050764\n",
      "Fitting 10 folds for each of 18 candidates, totalling 180 fits\n",
      "[1 1 1 1 1 1 1 1 1 1 1 1 1 1 1 1 1 1 1 1 1 1 1 1 1 1 1 1 1 1 1 1 1 1 1 1 1\n",
      " 1 1 1 1 1 1 1 1]\n",
      "[0 0 0 1 1 1 0 0 0 1 0 1 0 1 1 0 1 0 1 0 0 0 1 0 0 1 0 1 0 0 0 0 0 0 0 0 1\n",
      " 1 0 0 0 0 0 0 0]\n",
      "AUC is:  0.5\n",
      "              precision    recall  f1-score   support\n",
      "\n",
      "           0       0.00      0.00      0.00        31\n",
      "           1       0.31      1.00      0.47        14\n",
      "\n",
      "    accuracy                           0.31        45\n",
      "   macro avg       0.16      0.50      0.24        45\n",
      "weighted avg       0.10      0.31      0.15        45\n",
      "\n",
      "Confusion Matrix: \n",
      " [[ 0 31]\n",
      " [ 0 14]]\n",
      "Best SVM parameters: {'C': 1, 'degree': 4, 'kernel': 'poly'}\n"
     ]
    },
    {
     "name": "stderr",
     "output_type": "stream",
     "text": [
      "[Parallel(n_jobs=4)]: Done 158 tasks      | elapsed:    0.8s\n",
      "[Parallel(n_jobs=4)]: Done 180 out of 180 | elapsed:    0.9s finished\n",
      "/opt/conda/lib/python3.6/site-packages/sklearn/metrics/_classification.py:1221: UndefinedMetricWarning: Precision and F-score are ill-defined and being set to 0.0 in labels with no predicted samples. Use `zero_division` parameter to control this behavior.\n",
      "  _warn_prf(average, modifier, msg_start, len(result))\n"
     ]
    },
    {
     "data": {
      "image/png": "[encoded data removed]",
      "text/plain": [
       "<Figure size 432x288 with 1 Axes>"
      ]
     },
     "metadata": {
      "needs_background": "light"
     },
     "output_type": "display_data"
    }
   ],
   "source": [
    "tuned_parameters = [{'kernel': ['rbf'], 'gamma': [1e-3, 1e-4], 'C': [1, 10, 100]},\n",
    "                    {'kernel': ['poly'], 'degree': [3, 4, 5], 'C': [1, 10, 100]},\n",
    "                    {'kernel': ['linear'], 'C': [1, 10, 100]}]\n",
    "\n",
    "svm_model_cv = GridSearchCV(SVC(), tuned_parameters, cv=10, scoring='f1', verbose=1, n_jobs=4)\n",
    "\n",
    "f1_scores, recall_scores = k_cross(svm_model_cv)\n",
    "\n",
    "print(f\"f1 mean score: {np.mean(f1_scores)}\")\n",
    "print(f\"recall mean score: {np.mean(recall_scores)}\")\n",
    "\n",
    "best_svm_model = evaluate_model(svm_model_cv)\n",
    "print(f\"Best SVM parameters: {best_svm_model.best_params_}\")"
   ]
  }
 ],
 "metadata": {
  "kernelspec": {
   "display_name": "Python 3",
   "language": "python",
   "name": "python3"
  },
  "language_info": {
   "codemirror_mode": {
    "name": "ipython",
    "version": 3
   },
   "file_extension": ".py",
   "mimetype": "text/x-python",
   "name": "python",
   "nbconvert_exporter": "python",
   "pygments_lexer": "ipython3",
   "version": "3.6.10"
  }
 },
 "nbformat": 4,
 "nbformat_minor": 4
}
