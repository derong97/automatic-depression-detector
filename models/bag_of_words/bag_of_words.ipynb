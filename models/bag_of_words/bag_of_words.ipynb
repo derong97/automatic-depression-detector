{
 "cells": [
  {
   "cell_type": "markdown",
   "metadata": {},
   "source": [
    "# Import necessary modules"
   ]
  },
  {
   "cell_type": "code",
   "execution_count": 1,
   "metadata": {},
   "outputs": [],
   "source": [
    "# Standard libraries\n",
    "import pandas as pd\n",
    "import numpy as np\n",
    "import matplotlib.pyplot as plt\n",
    "\n",
    "# Processing\n",
    "from sklearn.utils import shuffle\n",
    "from sklearn.base import clone\n",
    "from sklearn.model_selection import RepeatedKFold\n",
    "import random\n",
    "\n",
    "# Count vectorizer\n",
    "from sklearn.feature_extraction.text import CountVectorizer\n",
    "\n",
    "# Metrics\n",
    "from sklearn.metrics import classification_report, confusion_matrix, roc_curve, roc_auc_score, \\\n",
    "        f1_score, precision_score, recall_score\n",
    "\n",
    "# Classifiers\n",
    "from sklearn.naive_bayes import GaussianNB\n",
    "from sklearn.linear_model import LogisticRegression\n",
    "from sklearn.tree import DecisionTreeClassifier\n",
    "from sklearn.ensemble import RandomForestClassifier\n",
    "from sklearn.svm import SVC\n",
    "from sklearn.model_selection import GridSearchCV"
   ]
  },
  {
   "cell_type": "markdown",
   "metadata": {},
   "source": [
    "# Prepare Data"
   ]
  },
  {
   "cell_type": "code",
   "execution_count": 2,
   "metadata": {},
   "outputs": [
    {
     "data": {
      "text/html": [
       "<div>\n",
       "<style scoped>\n",
       "    .dataframe tbody tr th:only-of-type {\n",
       "        vertical-align: middle;\n",
       "    }\n",
       "\n",
       "    .dataframe tbody tr th {\n",
       "        vertical-align: top;\n",
       "    }\n",
       "\n",
       "    .dataframe thead th {\n",
       "        text-align: right;\n",
       "    }\n",
       "</style>\n",
       "<table border=\"1\" class=\"dataframe\">\n",
       "  <thead>\n",
       "    <tr style=\"text-align: right;\">\n",
       "      <th></th>\n",
       "      <th>Transcript</th>\n",
       "      <th>PHQ_Score</th>\n",
       "      <th>PHQ_Binary</th>\n",
       "    </tr>\n",
       "    <tr>\n",
       "      <th>Participant_ID</th>\n",
       "      <th></th>\n",
       "      <th></th>\n",
       "      <th></th>\n",
       "    </tr>\n",
       "  </thead>\n",
       "  <tbody>\n",
       "    <tr>\n",
       "      <th>300</th>\n",
       "      <td>good atlanta georgia um my parents um i love i...</td>\n",
       "      <td>2</td>\n",
       "      <td>0</td>\n",
       "    </tr>\n",
       "    <tr>\n",
       "      <th>301</th>\n",
       "      <td>thank you mmm k i good thank you i los angeles...</td>\n",
       "      <td>3</td>\n",
       "      <td>0</td>\n",
       "    </tr>\n",
       "    <tr>\n",
       "      <th>302</th>\n",
       "      <td>i fine yourself i los angeles california part ...</td>\n",
       "      <td>4</td>\n",
       "      <td>0</td>\n",
       "    </tr>\n",
       "    <tr>\n",
       "      <th>303</th>\n",
       "      <td>okay bout yourself california yeah oh well it ...</td>\n",
       "      <td>0</td>\n",
       "      <td>0</td>\n",
       "    </tr>\n",
       "    <tr>\n",
       "      <th>304</th>\n",
       "      <td>i good um los angeles california um cool weath...</td>\n",
       "      <td>6</td>\n",
       "      <td>0</td>\n",
       "    </tr>\n",
       "  </tbody>\n",
       "</table>\n",
       "</div>"
      ],
      "text/plain": [
       "                                                       Transcript  PHQ_Score  \\\n",
       "Participant_ID                                                                 \n",
       "300             good atlanta georgia um my parents um i love i...          2   \n",
       "301             thank you mmm k i good thank you i los angeles...          3   \n",
       "302             i fine yourself i los angeles california part ...          4   \n",
       "303             okay bout yourself california yeah oh well it ...          0   \n",
       "304             i good um los angeles california um cool weath...          6   \n",
       "\n",
       "                PHQ_Binary  \n",
       "Participant_ID              \n",
       "300                      0  \n",
       "301                      0  \n",
       "302                      0  \n",
       "303                      0  \n",
       "304                      0  "
      ]
     },
     "execution_count": 2,
     "metadata": {},
     "output_type": "execute_result"
    }
   ],
   "source": [
    "df = pd.read_csv(\"clean_compiled_transcripts.csv\", index_col = \"Participant_ID\")\n",
    "df.head()"
   ]
  },
  {
   "cell_type": "markdown",
   "metadata": {},
   "source": [
    "## Convert transcripts to occurrence matrix (skip if you have the numpy data)"
   ]
  },
  {
   "cell_type": "code",
   "execution_count": 3,
   "metadata": {},
   "outputs": [],
   "source": [
    "CV = CountVectorizer(min_df=3) # ignore terms that appear in less than 3 documents"
   ]
  },
  {
   "cell_type": "markdown",
   "metadata": {},
   "source": [
    "## Split the dataset (skip if you have the numpy data)"
   ]
  },
  {
   "cell_type": "code",
   "execution_count": 4,
   "metadata": {},
   "outputs": [],
   "source": [
    "X = CV.fit_transform(df.Transcript).toarray()\n",
    "y = df.PHQ_Binary"
   ]
  },
  {
   "cell_type": "code",
   "execution_count": 5,
   "metadata": {},
   "outputs": [],
   "source": [
    "def train_test(X, y, testfile='test_split_Depression_AVEC2017.csv'):\n",
    "    test_participants = pd.read_csv(testfile)['participant_ID'].values\n",
    "    X_train = []\n",
    "    X_test = []\n",
    "    y_train = []\n",
    "    y_test = []\n",
    "    \n",
    "    for i in range(y.shape[0]):\n",
    "        participant_no = y.index[i]\n",
    "        \n",
    "        if participant_no in test_participants:\n",
    "            X_test.append(X[i])\n",
    "            y_test.append(y[participant_no])\n",
    "        else:\n",
    "            X_train.append(X[i])\n",
    "            y_train.append(y[participant_no])\n",
    "    \n",
    "    return np.array(X_train), np.array(X_test), np.array(y_train), np.array(y_test)\n",
    "\n",
    "X_train, X_test, y_train, y_test = train_test(X, y)"
   ]
  },
  {
   "cell_type": "code",
   "execution_count": 6,
   "metadata": {},
   "outputs": [],
   "source": [
    "RANDOM_STATE = 42\n",
    "\n",
    "# because the RandomUnderSampler does not work here\n",
    "def undersampling(X_train, y_train):\n",
    "    random.seed(RANDOM_STATE)\n",
    "    \n",
    "    neg_list = [i for i in range(len(y_train)) if y_train[i] == 0]\n",
    "    pos_list = [i for i in range(len(y_train)) if y_train[i] == 1]\n",
    "    \n",
    "    if len(neg_list) < len(pos_list):\n",
    "        minority_list = neg_list\n",
    "        majority_list = pos_list\n",
    "    else:\n",
    "        minority_list = pos_list\n",
    "        majority_list = neg_list\n",
    "        \n",
    "    sampled_list = random.sample(majority_list, len(minority_list))\n",
    "    \n",
    "    final_list = sampled_list + minority_list\n",
    "    \n",
    "    X_train_us = []\n",
    "    y_train_us = []\n",
    "    \n",
    "    for i in final_list:\n",
    "        X_train_us.append(X_train[i])\n",
    "        y_train_us.append(y_train[i])\n",
    "                                 \n",
    "    return np.array(X_train_us), np.array(y_train_us)\n",
    "\n",
    "X_train, y_train = undersampling(X_train, y_train)"
   ]
  },
  {
   "cell_type": "code",
   "execution_count": 7,
   "metadata": {},
   "outputs": [
    {
     "data": {
      "text/plain": [
       "((82, 2902), (45, 2902), (82,), (45,))"
      ]
     },
     "execution_count": 7,
     "metadata": {},
     "output_type": "execute_result"
    }
   ],
   "source": [
    "# shuffle the train data in unison because data is in order\n",
    "# reduces poor performance during k-cross validation when sampling data\n",
    "\n",
    "X_train, y_train = shuffle(X_train, y_train, random_state=RANDOM_STATE)\n",
    "\n",
    "X_train.shape, X_test.shape, y_train.shape, y_test.shape"
   ]
  },
  {
   "cell_type": "code",
   "execution_count": 8,
   "metadata": {},
   "outputs": [],
   "source": [
    "np.save(\"X_train_bow.npy\", X_train)\n",
    "np.save(\"X_test_bow.npy\", X_test)\n",
    "np.save(\"y_train_bow.npy\", y_train)\n",
    "np.save(\"y_test_bow.npy\", y_test)"
   ]
  },
  {
   "cell_type": "markdown",
   "metadata": {},
   "source": [
    "## Load dataset "
   ]
  },
  {
   "cell_type": "code",
   "execution_count": 9,
   "metadata": {},
   "outputs": [],
   "source": [
    "X_train = np.load(\"X_train_bow.npy\")\n",
    "X_test = np.load(\"X_test_bow.npy\")\n",
    "y_train = np.load(\"y_train_bow.npy\")\n",
    "y_test = np.load(\"y_test_bow.npy\")"
   ]
  },
  {
   "cell_type": "markdown",
   "metadata": {},
   "source": [
    "# More preprocessing"
   ]
  },
  {
   "cell_type": "markdown",
   "metadata": {},
   "source": [
    "## Evaluation metrics\n",
    "Some considerations in evaluation metrics when deciding our model.\n",
    "1. In our use case, it is more important to have high sensitivity as want to correctly identify as many depression cases out of all actual depression cases for early intervention. Predicting a non-depressed person as depressed is comparatively less severe, meaning we prioritize TPR (sensitivity) over FPR.\n",
    "2. Hence we will focus on `f1 score` and `recall` for the positive class.\n",
    "\n",
    "Note:\n",
    "* Sensitivity = true positive rate = recall = TP / (TP + FN)\n",
    "* Specificity = true negative rate = TN / (TN + FP)\n",
    "* Fall out = false positive rate = FP / (FP + TN)\n",
    "* Miss rate = false negative rate = FN / (FN + TP)\n",
    "\n",
    "Metrics can be found on this [website](https://scikit-learn.org/stable/modules/model_evaluation.html)."
   ]
  },
  {
   "cell_type": "code",
   "execution_count": 10,
   "metadata": {},
   "outputs": [],
   "source": [
    "def evaluate_on_training_set(y_test, y_pred):\n",
    "    print(y_pred)\n",
    "    print(y_test)\n",
    "    \n",
    "    # Calculate AUC\n",
    "    print(\"AUC is: \", roc_auc_score(y_test, y_pred))\n",
    "\n",
    "    # print out recall and precision\n",
    "    print(classification_report(y_test, y_pred))\n",
    "\n",
    "    # print out confusion matrix\n",
    "    print(\"Confusion Matrix: \\n\", confusion_matrix(y_test, y_pred))\n",
    "\n",
    "    # # calculate points for ROC curve\n",
    "    fpr, tpr, thresholds = roc_curve(y_test, y_pred)\n",
    "\n",
    "    # Plot ROC curve\n",
    "    plt.plot(fpr, tpr, label='ROC curve (area = %0.3f)' % roc_auc_score(y_test, y_pred))\n",
    "    plt.plot([0, 1], [0, 1], 'k--')\n",
    "    plt.ylim([0.0, 1.0])\n",
    "    plt.xlabel('False Positive Rate')\n",
    "    plt.ylabel('True Positive Rate')\n",
    "    plt.title('Receiver Operating Characteristic')"
   ]
  },
  {
   "cell_type": "markdown",
   "metadata": {},
   "source": [
    "## k cross "
   ]
  },
  {
   "cell_type": "code",
   "execution_count": 11,
   "metadata": {},
   "outputs": [],
   "source": [
    "def k_cross(input_model, X=X_train, y=y_train, k=4, n=3, random_state=RANDOM_STATE):\n",
    "    f1_scores = []\n",
    "    recall_scores = []\n",
    "    rkf = RepeatedKFold(n_splits=k, n_repeats=n, random_state=RANDOM_STATE)\n",
    "        \n",
    "    for train_index, val_index in rkf.split(X):\n",
    "        X_train, X_val = X[train_index], X[val_index]\n",
    "        y_train, y_val = y[train_index], y[val_index]\n",
    "                \n",
    "        model = clone(input_model) # prevents incremental fitting\n",
    "        model.fit(X_train, y_train) \n",
    "        \n",
    "        y_pred = model.predict(X_val)\n",
    "        f1 = f1_score(y_val, y_pred)\n",
    "        f1_scores.append(f1)\n",
    "        recall = recall_score(y_val, y_pred)\n",
    "        recall_scores.append(recall)\n",
    "        \n",
    "    return f1_scores, recall_scores"
   ]
  },
  {
   "cell_type": "markdown",
   "metadata": {},
   "source": [
    "## Evaluate model"
   ]
  },
  {
   "cell_type": "code",
   "execution_count": 12,
   "metadata": {},
   "outputs": [],
   "source": [
    "def evaluate_model(model):\n",
    "    model.fit(X_train, y_train)\n",
    "    y_pred = model.predict(X_test)\n",
    "    evaluate_on_training_set(y_test, y_pred)\n",
    "    \n",
    "    return model"
   ]
  },
  {
   "cell_type": "markdown",
   "metadata": {},
   "source": [
    "# Model Implementation"
   ]
  },
  {
   "cell_type": "markdown",
   "metadata": {},
   "source": [
    "## Gaussian Naive Bayes "
   ]
  },
  {
   "cell_type": "code",
   "execution_count": 13,
   "metadata": {},
   "outputs": [
    {
     "name": "stdout",
     "output_type": "stream",
     "text": [
      "f1 mean score: 0.5065846903678374\n",
      "recall mean score: 0.49247604247604243\n",
      "[0 0 0 1 1 0 1 0 1 1 0 1 1 0 1 0 1 0 0 1 0 0 1 1 0 1 1 1 1 1 1 0 1 0 0 1 1\n",
      " 1 0 1 1 1 1 0 0]\n",
      "[0 0 0 1 1 1 0 0 0 1 0 1 0 1 1 0 1 0 1 0 0 0 1 0 0 1 0 1 0 0 0 0 0 0 0 0 1\n",
      " 1 0 0 0 0 0 0 0]\n",
      "AUC is:  0.650921658986175\n",
      "              precision    recall  f1-score   support\n",
      "\n",
      "           0       0.84      0.52      0.64        31\n",
      "           1       0.42      0.79      0.55        14\n",
      "\n",
      "    accuracy                           0.60        45\n",
      "   macro avg       0.63      0.65      0.59        45\n",
      "weighted avg       0.71      0.60      0.61        45\n",
      "\n",
      "Confusion Matrix: \n",
      " [[16 15]\n",
      " [ 3 11]]\n"
     ]
    },
    {
     "data": {
      "text/plain": [
       "GaussianNB()"
      ]
     },
     "execution_count": 13,
     "metadata": {},
     "output_type": "execute_result"
    },
    {
     "data": {
      "image/png": "[encoded data removed]",
      "text/plain": [
       "<Figure size 432x288 with 1 Axes>"
      ]
     },
     "metadata": {
      "needs_background": "light"
     },
     "output_type": "display_data"
    }
   ],
   "source": [
    "nb_model = GaussianNB()\n",
    "\n",
    "f1_scores, recall_scores = k_cross(nb_model)\n",
    "\n",
    "print(f\"f1 mean score: {np.mean(f1_scores)}\")\n",
    "print(f\"recall mean score: {np.mean(recall_scores)}\")\n",
    "\n",
    "evaluate_model(nb_model)"
   ]
  },
  {
   "cell_type": "markdown",
   "metadata": {},
   "source": [
    "## Logistic Regression "
   ]
  },
  {
   "cell_type": "code",
   "execution_count": 14,
   "metadata": {},
   "outputs": [
    {
     "name": "stdout",
     "output_type": "stream",
     "text": [
      "best scores: f1 = 0.6440053900846067, recall = 0.6621114996114995\n",
      "[1 1 1 1 1 1 1 0 0 1 0 1 1 0 1 0 0 0 1 0 0 1 0 1 0 1 0 1 1 0 0 0 0 1 1 0 1\n",
      " 1 1 0 1 1 1 1 1]\n",
      "[0 0 0 1 1 1 0 0 0 1 0 1 0 1 1 0 1 0 1 0 0 0 1 0 0 1 0 1 0 0 0 0 0 0 0 0 1\n",
      " 1 0 0 0 0 0 0 0]\n",
      "AUC is:  0.6347926267281105\n",
      "              precision    recall  f1-score   support\n",
      "\n",
      "           0       0.83      0.48      0.61        31\n",
      "           1       0.41      0.79      0.54        14\n",
      "\n",
      "    accuracy                           0.58        45\n",
      "   macro avg       0.62      0.63      0.57        45\n",
      "weighted avg       0.70      0.58      0.59        45\n",
      "\n",
      "Confusion Matrix: \n",
      " [[15 16]\n",
      " [ 3 11]]\n"
     ]
    },
    {
     "data": {
      "text/plain": [
       "LogisticRegression(C=1000000, n_jobs=3)"
      ]
     },
     "execution_count": 14,
     "metadata": {},
     "output_type": "execute_result"
    },
    {
     "data": {
      "image/png": "[encoded data removed]",
      "text/plain": [
       "<Figure size 432x288 with 1 Axes>"
      ]
     },
     "metadata": {
      "needs_background": "light"
     },
     "output_type": "display_data"
    }
   ],
   "source": [
    "def find_best_logreg_model(power):\n",
    "    best_f1_model = None\n",
    "    best_f1 = -1\n",
    "    best_recall = -1\n",
    "    \n",
    "    for i in range(power + 1):\n",
    "        model = LogisticRegression(n_jobs=3, C=10**i)\n",
    "        \n",
    "        f1_scores, recall_scores = k_cross(model)\n",
    "        f1 = np.mean(f1_scores)\n",
    "        recall = np.mean(recall_scores)\n",
    "\n",
    "        if f1 > best_f1:\n",
    "            best_f1 = f1\n",
    "            best_recall = recall\n",
    "            best_f1_model = model\n",
    "    \n",
    "    print(f\"best scores: f1 = {best_f1}, recall = {best_recall}\")\n",
    "    \n",
    "    return best_f1_model\n",
    "\n",
    "best_logreg_f1_model = find_best_logreg_model(6)\n",
    "evaluate_model(best_logreg_f1_model)"
   ]
  },
  {
   "cell_type": "markdown",
   "metadata": {},
   "source": [
    "## Decision Tree"
   ]
  },
  {
   "cell_type": "code",
   "execution_count": 15,
   "metadata": {},
   "outputs": [
    {
     "name": "stdout",
     "output_type": "stream",
     "text": [
      "best scores: f1 = 0.6472701332483941, recall = 0.7274977337477337\n",
      "[0 0 1 1 0 0 1 1 1 1 0 1 1 0 1 1 1 0 0 0 1 0 1 1 0 1 1 0 1 0 1 1 1 1 1 0 1\n",
      " 1 1 0 0 1 1 1 1]\n",
      "[0 0 0 1 1 1 0 0 0 1 0 1 0 1 1 0 1 0 1 0 0 0 1 0 0 1 0 1 0 0 0 0 0 0 0 0 1\n",
      " 1 0 0 0 0 0 0 0]\n",
      "AUC is:  0.49884792626728114\n",
      "              precision    recall  f1-score   support\n",
      "\n",
      "           0       0.69      0.35      0.47        31\n",
      "           1       0.31      0.64      0.42        14\n",
      "\n",
      "    accuracy                           0.44        45\n",
      "   macro avg       0.50      0.50      0.44        45\n",
      "weighted avg       0.57      0.44      0.45        45\n",
      "\n",
      "Confusion Matrix: \n",
      " [[11 20]\n",
      " [ 5  9]]\n"
     ]
    },
    {
     "data": {
      "text/plain": [
       "DecisionTreeClassifier(max_depth=1, min_samples_leaf=13, random_state=42)"
      ]
     },
     "execution_count": 15,
     "metadata": {},
     "output_type": "execute_result"
    },
    {
     "data": {
      "image/png": "[encoded data removed]",
      "text/plain": [
       "<Figure size 432x288 with 1 Axes>"
      ]
     },
     "metadata": {
      "needs_background": "light"
     },
     "output_type": "display_data"
    }
   ],
   "source": [
    "def find_best_tree_model(upper_depth, upper_leaf):\n",
    "    best_f1_model = None\n",
    "    best_f1 = -1\n",
    "    best_recall = -1\n",
    "    \n",
    "    for depth in range(1, upper_depth + 1):\n",
    "        for leaf in range(1, upper_leaf + 1):\n",
    "            model = DecisionTreeClassifier(random_state=RANDOM_STATE, max_depth=depth, min_samples_leaf=leaf) \n",
    "            \n",
    "            f1_scores, recall_scores = k_cross(model)\n",
    "            f1 = np.mean(f1_scores)\n",
    "            recall = np.mean(recall_scores)\n",
    "            \n",
    "            if f1 > best_f1:\n",
    "                best_f1 = f1\n",
    "                best_recall = recall\n",
    "                best_f1_model = model\n",
    "    \n",
    "    print(f\"best scores: f1 = {best_f1}, recall = {best_recall}\")\n",
    "    \n",
    "    return best_f1_model\n",
    "\n",
    "best_tree_f1_model = find_best_tree_model(20, 30)\n",
    "evaluate_model(best_tree_f1_model)"
   ]
  },
  {
   "cell_type": "markdown",
   "metadata": {},
   "source": [
    "## Random Forest"
   ]
  },
  {
   "cell_type": "code",
   "execution_count": 16,
   "metadata": {},
   "outputs": [
    {
     "name": "stdout",
     "output_type": "stream",
     "text": [
      "best scores: f1 = 0.6121417261863487, recall = 0.6448928386428386\n",
      "[1 1 1 1 1 0 1 0 0 0 1 0 1 0 1 0 0 1 1 0 1 1 1 0 0 1 0 0 1 1 1 0 0 1 0 0 1\n",
      " 1 0 1 1 1 1 0 0]\n",
      "[0 0 0 1 1 1 0 0 0 1 0 1 0 1 1 0 1 0 1 0 0 0 1 0 0 1 0 1 0 0 0 0 0 0 0 0 1\n",
      " 1 0 0 0 0 0 0 0]\n",
      "AUC is:  0.511520737327189\n",
      "              precision    recall  f1-score   support\n",
      "\n",
      "           0       0.70      0.45      0.55        31\n",
      "           1       0.32      0.57      0.41        14\n",
      "\n",
      "    accuracy                           0.49        45\n",
      "   macro avg       0.51      0.51      0.48        45\n",
      "weighted avg       0.58      0.49      0.51        45\n",
      "\n",
      "Confusion Matrix: \n",
      " [[14 17]\n",
      " [ 6  8]]\n"
     ]
    },
    {
     "data": {
      "text/plain": [
       "RandomForestClassifier(n_estimators=23, random_state=42)"
      ]
     },
     "execution_count": 16,
     "metadata": {},
     "output_type": "execute_result"
    },
    {
     "data": {
      "image/png": "[encoded data removed]",
      "text/plain": [
       "<Figure size 432x288 with 1 Axes>"
      ]
     },
     "metadata": {
      "needs_background": "light"
     },
     "output_type": "display_data"
    }
   ],
   "source": [
    "def find_best_forest_model(n_estimators):\n",
    "    best_f1_model = None\n",
    "    best_f1 = -1\n",
    "    best_recall = -1\n",
    "    \n",
    "    for estimator in range(1, n_estimators + 1):\n",
    "        model = RandomForestClassifier(random_state=RANDOM_STATE, n_estimators=estimator) \n",
    "        \n",
    "        f1_scores, recall_scores = k_cross(model)\n",
    "        f1 = np.mean(f1_scores)\n",
    "        recall = np.mean(recall_scores)\n",
    "\n",
    "        if f1 > best_f1:\n",
    "            best_f1 = f1\n",
    "            best_recall = recall\n",
    "            best_f1_model = model\n",
    "    \n",
    "    print(f\"best scores: f1 = {best_f1}, recall = {best_recall}\")\n",
    "    \n",
    "    return best_f1_model\n",
    "\n",
    "best_forest_f1_model = find_best_forest_model(30)\n",
    "evaluate_model(best_forest_f1_model)"
   ]
  },
  {
   "cell_type": "markdown",
   "metadata": {},
   "source": [
    "## SVM with grid search"
   ]
  },
  {
   "cell_type": "code",
   "execution_count": 17,
   "metadata": {},
   "outputs": [
    {
     "name": "stdout",
     "output_type": "stream",
     "text": [
      "Fitting 10 folds for each of 18 candidates, totalling 180 fits\n"
     ]
    },
    {
     "name": "stderr",
     "output_type": "stream",
     "text": [
      "[Parallel(n_jobs=4)]: Using backend LokyBackend with 4 concurrent workers.\n",
      "[Parallel(n_jobs=4)]: Done  76 tasks      | elapsed:    1.3s\n",
      "[Parallel(n_jobs=4)]: Done 180 out of 180 | elapsed:    4.2s finished\n",
      "[Parallel(n_jobs=4)]: Using backend LokyBackend with 4 concurrent workers.\n"
     ]
    },
    {
     "name": "stdout",
     "output_type": "stream",
     "text": [
      "Fitting 10 folds for each of 18 candidates, totalling 180 fits\n"
     ]
    },
    {
     "name": "stderr",
     "output_type": "stream",
     "text": [
      "[Parallel(n_jobs=4)]: Done 128 tasks      | elapsed:    2.2s\n",
      "[Parallel(n_jobs=4)]: Done 173 out of 180 | elapsed:    2.7s remaining:    0.1s\n",
      "[Parallel(n_jobs=4)]: Done 180 out of 180 | elapsed:    2.8s finished\n"
     ]
    },
    {
     "name": "stdout",
     "output_type": "stream",
     "text": [
      "Fitting 10 folds for each of 18 candidates, totalling 180 fits\n"
     ]
    },
    {
     "name": "stderr",
     "output_type": "stream",
     "text": [
      "[Parallel(n_jobs=4)]: Using backend LokyBackend with 4 concurrent workers.\n",
      "[Parallel(n_jobs=4)]: Done 128 tasks      | elapsed:    2.0s\n",
      "[Parallel(n_jobs=4)]: Done 180 out of 180 | elapsed:    2.7s finished\n",
      "[Parallel(n_jobs=4)]: Using backend LokyBackend with 4 concurrent workers.\n"
     ]
    },
    {
     "name": "stdout",
     "output_type": "stream",
     "text": [
      "Fitting 10 folds for each of 18 candidates, totalling 180 fits\n"
     ]
    },
    {
     "name": "stderr",
     "output_type": "stream",
     "text": [
      "[Parallel(n_jobs=4)]: Done 128 tasks      | elapsed:    1.9s\n",
      "[Parallel(n_jobs=4)]: Done 180 out of 180 | elapsed:    2.6s finished\n"
     ]
    },
    {
     "name": "stdout",
     "output_type": "stream",
     "text": [
      "Fitting 10 folds for each of 18 candidates, totalling 180 fits\n"
     ]
    },
    {
     "name": "stderr",
     "output_type": "stream",
     "text": [
      "[Parallel(n_jobs=4)]: Using backend LokyBackend with 4 concurrent workers.\n",
      "[Parallel(n_jobs=4)]: Done  76 tasks      | elapsed:    1.3s\n",
      "[Parallel(n_jobs=4)]: Done 173 out of 180 | elapsed:    2.6s remaining:    0.1s\n",
      "[Parallel(n_jobs=4)]: Done 180 out of 180 | elapsed:    2.7s finished\n"
     ]
    },
    {
     "name": "stdout",
     "output_type": "stream",
     "text": [
      "Fitting 10 folds for each of 18 candidates, totalling 180 fits\n"
     ]
    },
    {
     "name": "stderr",
     "output_type": "stream",
     "text": [
      "[Parallel(n_jobs=4)]: Using backend LokyBackend with 4 concurrent workers.\n",
      "[Parallel(n_jobs=4)]: Done 128 tasks      | elapsed:    1.9s\n",
      "[Parallel(n_jobs=4)]: Done 180 out of 180 | elapsed:    2.5s finished\n",
      "[Parallel(n_jobs=4)]: Using backend LokyBackend with 4 concurrent workers.\n"
     ]
    },
    {
     "name": "stdout",
     "output_type": "stream",
     "text": [
      "Fitting 10 folds for each of 18 candidates, totalling 180 fits\n"
     ]
    },
    {
     "name": "stderr",
     "output_type": "stream",
     "text": [
      "[Parallel(n_jobs=4)]: Done 128 tasks      | elapsed:    1.9s\n",
      "[Parallel(n_jobs=4)]: Done 180 out of 180 | elapsed:    2.6s finished\n",
      "[Parallel(n_jobs=4)]: Using backend LokyBackend with 4 concurrent workers.\n"
     ]
    },
    {
     "name": "stdout",
     "output_type": "stream",
     "text": [
      "Fitting 10 folds for each of 18 candidates, totalling 180 fits\n"
     ]
    },
    {
     "name": "stderr",
     "output_type": "stream",
     "text": [
      "[Parallel(n_jobs=4)]: Done 128 tasks      | elapsed:    1.9s\n",
      "[Parallel(n_jobs=4)]: Done 180 out of 180 | elapsed:    2.6s finished\n",
      "[Parallel(n_jobs=4)]: Using backend LokyBackend with 4 concurrent workers.\n"
     ]
    },
    {
     "name": "stdout",
     "output_type": "stream",
     "text": [
      "Fitting 10 folds for each of 18 candidates, totalling 180 fits\n"
     ]
    },
    {
     "name": "stderr",
     "output_type": "stream",
     "text": [
      "[Parallel(n_jobs=4)]: Done 128 tasks      | elapsed:    1.9s\n",
      "[Parallel(n_jobs=4)]: Done 180 out of 180 | elapsed:    2.5s finished\n",
      "[Parallel(n_jobs=4)]: Using backend LokyBackend with 4 concurrent workers.\n"
     ]
    },
    {
     "name": "stdout",
     "output_type": "stream",
     "text": [
      "Fitting 10 folds for each of 18 candidates, totalling 180 fits\n"
     ]
    },
    {
     "name": "stderr",
     "output_type": "stream",
     "text": [
      "[Parallel(n_jobs=4)]: Done 128 tasks      | elapsed:    2.1s\n",
      "[Parallel(n_jobs=4)]: Done 173 out of 180 | elapsed:    2.8s remaining:    0.1s\n",
      "[Parallel(n_jobs=4)]: Done 180 out of 180 | elapsed:    2.9s finished\n",
      "[Parallel(n_jobs=4)]: Using backend LokyBackend with 4 concurrent workers.\n"
     ]
    },
    {
     "name": "stdout",
     "output_type": "stream",
     "text": [
      "Fitting 10 folds for each of 18 candidates, totalling 180 fits\n"
     ]
    },
    {
     "name": "stderr",
     "output_type": "stream",
     "text": [
      "[Parallel(n_jobs=4)]: Done 128 tasks      | elapsed:    2.2s\n",
      "[Parallel(n_jobs=4)]: Done 173 out of 180 | elapsed:    2.9s remaining:    0.1s\n",
      "[Parallel(n_jobs=4)]: Done 180 out of 180 | elapsed:    3.0s finished\n"
     ]
    },
    {
     "name": "stdout",
     "output_type": "stream",
     "text": [
      "Fitting 10 folds for each of 18 candidates, totalling 180 fits\n"
     ]
    },
    {
     "name": "stderr",
     "output_type": "stream",
     "text": [
      "[Parallel(n_jobs=4)]: Using backend LokyBackend with 4 concurrent workers.\n",
      "[Parallel(n_jobs=4)]: Done  76 tasks      | elapsed:    1.6s\n",
      "[Parallel(n_jobs=4)]: Done 173 out of 180 | elapsed:    3.4s remaining:    0.1s\n",
      "[Parallel(n_jobs=4)]: Done 180 out of 180 | elapsed:    3.5s finished\n"
     ]
    },
    {
     "name": "stdout",
     "output_type": "stream",
     "text": [
      "f1 mean score: 0.5547399593988683\n",
      "recall mean score: 0.6324980574980574\n",
      "Fitting 10 folds for each of 18 candidates, totalling 180 fits\n"
     ]
    },
    {
     "name": "stderr",
     "output_type": "stream",
     "text": [
      "[Parallel(n_jobs=4)]: Using backend LokyBackend with 4 concurrent workers.\n",
      "[Parallel(n_jobs=4)]: Done  76 tasks      | elapsed:    2.5s\n",
      "[Parallel(n_jobs=4)]: Done 180 out of 180 | elapsed:    5.3s finished\n"
     ]
    },
    {
     "name": "stdout",
     "output_type": "stream",
     "text": [
      "[0 1 1 1 1 1 1 1 0 0 0 1 1 0 1 1 1 1 1 0 1 1 1 1 0 1 1 1 1 0 1 1 1 1 1 0 1\n",
      " 1 1 1 1 0 1 1 1]\n",
      "[0 0 0 1 1 1 0 0 0 1 0 1 0 1 1 0 1 0 1 0 0 0 1 0 0 1 0 1 0 0 0 0 0 0 0 0 1\n",
      " 1 0 0 0 0 0 0 0]\n",
      "AUC is:  0.5576036866359447\n",
      "              precision    recall  f1-score   support\n",
      "\n",
      "           0       0.80      0.26      0.39        31\n",
      "           1       0.34      0.86      0.49        14\n",
      "\n",
      "    accuracy                           0.44        45\n",
      "   macro avg       0.57      0.56      0.44        45\n",
      "weighted avg       0.66      0.44      0.42        45\n",
      "\n",
      "Confusion Matrix: \n",
      " [[ 8 23]\n",
      " [ 2 12]]\n",
      "Best SVM parameters: {'C': 10, 'gamma': 0.001, 'kernel': 'rbf'}\n"
     ]
    },
    {
     "data": {
      "image/png": "[encoded data removed]",
      "text/plain": [
       "<Figure size 432x288 with 1 Axes>"
      ]
     },
     "metadata": {
      "needs_background": "light"
     },
     "output_type": "display_data"
    }
   ],
   "source": [
    "tuned_parameters = [{'kernel': ['rbf'], 'gamma': [1e-3, 1e-4], 'C': [1, 10, 100]},\n",
    "                    {'kernel': ['poly'], 'degree': [3, 4, 5], 'C': [1, 10, 100]},\n",
    "                    {'kernel': ['linear'], 'C': [1, 10, 100]}]\n",
    "\n",
    "svm_model_cv = GridSearchCV(SVC(), tuned_parameters, cv=10, scoring='f1', verbose=1, n_jobs=4)\n",
    "\n",
    "f1_scores, recall_scores = k_cross(svm_model_cv)\n",
    "\n",
    "print(f\"f1 mean score: {np.mean(f1_scores)}\")\n",
    "print(f\"recall mean score: {np.mean(recall_scores)}\")\n",
    "\n",
    "best_svm_model = evaluate_model(svm_model_cv)\n",
    "print(f\"Best SVM parameters: {best_svm_model.best_params_}\")"
   ]
  }
 ],
 "metadata": {
  "kernelspec": {
   "display_name": "Python 3",
   "language": "python",
   "name": "python3"
  },
  "language_info": {
   "codemirror_mode": {
    "name": "ipython",
    "version": 3
   },
   "file_extension": ".py",
   "mimetype": "text/x-python",
   "name": "python",
   "nbconvert_exporter": "python",
   "pygments_lexer": "ipython3",
   "version": "3.6.10"
  }
 },
 "nbformat": 4,
 "nbformat_minor": 4
}
