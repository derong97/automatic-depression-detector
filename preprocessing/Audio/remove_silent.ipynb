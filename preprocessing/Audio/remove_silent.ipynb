{
 "metadata": {
  "language_info": {
   "codemirror_mode": {
    "name": "ipython",
    "version": 3
   },
   "file_extension": ".py",
   "mimetype": "text/x-python",
   "name": "python",
   "nbconvert_exporter": "python",
   "pygments_lexer": "ipython3",
   "version": "3.8.6-final"
  },
  "orig_nbformat": 2,
  "kernelspec": {
   "name": "Python 3.8.6 64-bit",
   "display_name": "Python 3.8.6 64-bit",
   "metadata": {
    "interpreter": {
     "hash": "37e2b32d5ed368caeb2ad77ee70d809342db3d965df57143318523a39221f965"
    }
   }
  }
 },
 "nbformat": 4,
 "nbformat_minor": 2,
 "cells": [
  {
   "source": [
    "## Removing silent segments from recording"
   ],
   "cell_type": "markdown",
   "metadata": {}
  },
  {
   "cell_type": "code",
   "execution_count": 16,
   "metadata": {},
   "outputs": [],
   "source": [
    "# imports\n",
    "import IPython\n",
    "from pydub import AudioSegment\n",
    "import numpy as np\n",
    "from scipy.io import wavfile\n",
    "from plotly.offline import init_notebook_mode\n",
    "import plotly.graph_objs as go\n",
    "import plotly\n",
    "import os"
   ]
  },
  {
   "source": [
    "#### Normalization "
   ],
   "cell_type": "markdown",
   "metadata": {}
  },
  {
   "cell_type": "code",
   "execution_count": 17,
   "metadata": {},
   "outputs": [
    {
     "output_type": "execute_result",
     "data": {
      "text/plain": [
       "' time_wav = np.arange(0, len(data_wav)) / fs_wav\\nplotly.offline.iplot({ \"data\": [go.Scatter(x=time_wav, \\n                                           y=data_wav_norm, \\n                                           name=\\'normalized audio signal\\')]}) '"
      ]
     },
     "metadata": {},
     "execution_count": 17
    }
   ],
   "source": [
    "fs, signal = wavfile.read(\"../../../../Audio/usable/300_AUDIO.wav\")\n",
    "signal = signal / (2**15)\n",
    "\n",
    "# To visualize normalized audio, uncomment the code below\n",
    "\"\"\" time_wav = np.arange(0, len(data_wav)) / fs_wav\n",
    "plotly.offline.iplot({ \"data\": [go.Scatter(x=time_wav, \n",
    "                                           y=data_wav_norm, \n",
    "                                           name='normalized audio signal')]}) \"\"\""
   ]
  },
  {
   "source": [
    "#### Segmentation"
   ],
   "cell_type": "markdown",
   "metadata": {}
  },
  {
   "cell_type": "code",
   "execution_count": 19,
   "metadata": {},
   "outputs": [
    {
     "output_type": "stream",
     "name": "stdout",
     "text": [
      "File alr exist\n"
     ]
    }
   ],
   "source": [
    "signal_len = len(signal)\n",
    "segment_size_t = 1 # segment size in seconds\n",
    "segment_size = segment_size_t * fs  # segment size in samples\n",
    "# Break signal into list of segments in a single-line Python code\n",
    "segments = np.array([signal[x:x + segment_size] for x in\n",
    "                     np.arange(0, signal_len, segment_size)])\n",
    "# Create new folder to save segments\n",
    "try:\n",
    "    os.mkdir(\"D:/SUTD/ISTD/Term 6/cds/Project/Audio/usable/300_AUDIO_segments\")\n",
    "except:\n",
    "    print(\"File alr exist\")\n",
    "# Save each segment in a seperate filename\n",
    "for iS, s in enumerate(segments):\n",
    "    wavfile.write(\"../../../../Audio/usable/300_AUDIO_segments/300_Audio_segment_{0:d}_{1:d}.wav\".format(segment_size_t * iS,\n",
    "                                                              segment_size_t * (iS + 1)), fs, (s))"
   ]
  },
  {
   "source": [
    "Remove silent segments"
   ],
   "cell_type": "markdown",
   "metadata": {}
  },
  {
   "cell_type": "code",
   "execution_count": 20,
   "metadata": {},
   "outputs": [
    {
     "output_type": "execute_result",
     "data": {
      "text/plain": [
       "' plotly.offline.iplot({ \"data\": [go.Scatter(y=energies, name=\"energy\"),\\n                                go.Scatter(y=np.ones(len(energies)) * thres, \\n                                           name=\"thres\")]})\\n# play the initial and the generated files in notebook:\\nIPython.display.display(IPython.display.Audio(\"../../../../Audio/usable/300_AUDIO.wav\"))\\nIPython.display.display(IPython.display.Audio(\"../../../../Audio/processed/300_AUDIO_p.wav\")) '"
      ]
     },
     "metadata": {},
     "execution_count": 20
    }
   ],
   "source": [
    "# Remove pauses using an energy threshold = 50% of the median energy:\n",
    "energies = [(s**2).sum() / len(s) for s in segments]\n",
    "# (attention: integer overflow would occure without normalization here!)\n",
    "thres = 0.5 * np.median(energies)\n",
    "index_of_segments_to_keep = (np.where(energies > thres)[0])\n",
    "# get segments that have energies higher than a the threshold:\n",
    "segments2 = segments[index_of_segments_to_keep]\n",
    "# concatenate segments to signal:\n",
    "new_signal = np.concatenate(segments2)\n",
    "# and write to file:\n",
    "wavfile.write(\"../../../../Audio/processed/300_AUDIO_p.wav\", fs, new_signal)\n",
    "\n",
    "# For visualization, uncomment the code below\n",
    "\"\"\" plotly.offline.iplot({ \"data\": [go.Scatter(y=energies, name=\"energy\"),\n",
    "                                go.Scatter(y=np.ones(len(energies)) * thres, \n",
    "                                           name=\"thres\")]})\n",
    "# play the initial and the generated files in notebook:\n",
    "IPython.display.display(IPython.display.Audio(\"../../../../Audio/usable/300_AUDIO.wav\"))\n",
    "IPython.display.display(IPython.display.Audio(\"../../../../Audio/processed/300_AUDIO_p.wav\")) \"\"\""
   ]
  },
  {
   "cell_type": "code",
   "execution_count": 27,
   "metadata": {},
   "outputs": [],
   "source": [
    "# Function combining all of above\n",
    "def remove_silent(participantID):\n",
    "\n",
    "    ##############\n",
    "    # Read + Normalize\n",
    "    ##############\n",
    "    fs, signal = wavfile.read(f\"../../../../Audio/usable/{participantID}_AUDIO.wav\")\n",
    "    signal = signal / (2**15) # Normalize\n",
    "\n",
    "    \n",
    "    ##############\n",
    "    # Segmentation\n",
    "    ##############\n",
    "    signal_len = len(signal)\n",
    "    segment_size_t = 1 # segment size in seconds\n",
    "    segment_size = segment_size_t * fs  # segment size in samples\n",
    "    # Break signal into list of segments in a single-line Python code\n",
    "    segments = np.array([signal[x:x + segment_size] for x in\n",
    "                        np.arange(0, signal_len, segment_size)])\n",
    "    # Create new folder to save segments\n",
    "    try:\n",
    "        os.mkdir(f\"D:/SUTD/ISTD/Term 6/cds/Project/Audio/usable/{participantID}_AUDIO_segments\")\n",
    "    except:\n",
    "        print(\"File alr exist\")\n",
    "    # Save each segment in a seperate filename\n",
    "    for iS, s in enumerate(segments):\n",
    "        wavfile.write(\"../../../../Audio/usable/300_AUDIO_segments/{0}_Audio_segment_{1:d}_{2:d}.wav\".format(participantID,segment_size_t * iS,\n",
    "                                                                segment_size_t * (iS + 1)), fs, (s))\n",
    "\n",
    "    ##############\n",
    "    # Removing silent segments\n",
    "    ##############\n",
    "    # Remove pauses using an energy threshold = 50% of the median energy:\n",
    "    energies = [(s**2).sum() / len(s) for s in segments]\n",
    "    # (attention: integer overflow would occure without normalization here!)\n",
    "    thres = 0.5 * np.median(energies)\n",
    "    index_of_segments_to_keep = (np.where(energies > thres)[0])\n",
    "    # get segments that have energies higher than a the threshold:\n",
    "    segments2 = segments[index_of_segments_to_keep]\n",
    "    # concatenate segments to signal:\n",
    "    new_signal = np.concatenate(segments2)\n",
    "    # and write to file:\n",
    "    wavfile.write(f\"../../../../Audio/processed/{participantID}_AUDIO_p.wav\", fs, new_signal)\n",
    "    print(\"Participant ID: \" + str(particpantID) + \" DONE!\")"
   ]
  },
  {
   "source": [
    "#### Looping through all participants"
   ],
   "cell_type": "markdown",
   "metadata": {}
  },
  {
   "cell_type": "code",
   "execution_count": 28,
   "metadata": {},
   "outputs": [
    {
     "output_type": "stream",
     "name": "stdout",
     "text": [
      "File alr exist\n",
      "File alr exist\n",
      "File alr exist\n",
      "File alr exist\n",
      "File alr exist\n",
      "File alr exist\n",
      "File alr exist\n",
      "File alr exist\n",
      "File alr exist\n",
      "File alr exist\n",
      "File alr exist\n",
      "File alr exist\n",
      "File alr exist\n",
      "File alr exist\n",
      "File alr exist\n",
      "File alr exist\n",
      "File alr exist\n",
      "File alr exist\n",
      "File alr exist\n",
      "File alr exist\n",
      "File alr exist\n",
      "File alr exist\n",
      "File alr exist\n",
      "File alr exist\n",
      "File alr exist\n",
      "File alr exist\n",
      "File alr exist\n",
      "File alr exist\n",
      "File alr exist\n",
      "File alr exist\n",
      "File alr exist\n",
      "File alr exist\n",
      "File alr exist\n",
      "File alr exist\n",
      "File alr exist\n",
      "File alr exist\n",
      "File alr exist\n",
      "File alr exist\n",
      "File alr exist\n",
      "File alr exist\n",
      "File alr exist\n",
      "File alr exist\n",
      "Error: 342(ParticipantID)\n",
      "File alr exist\n",
      "File alr exist\n",
      "File alr exist\n",
      "File alr exist\n",
      "File alr exist\n",
      "File alr exist\n",
      "File alr exist\n",
      "File alr exist\n",
      "File alr exist\n",
      "File alr exist\n",
      "File alr exist\n",
      "File alr exist\n",
      "File alr exist\n",
      "File alr exist\n",
      "File alr exist\n",
      "File alr exist\n",
      "File alr exist\n",
      "File alr exist\n",
      "File alr exist\n",
      "File alr exist\n",
      "File alr exist\n",
      "File alr exist\n",
      "File alr exist\n",
      "File alr exist\n",
      "File alr exist\n",
      "File alr exist\n",
      "File alr exist\n",
      "File alr exist\n",
      "File alr exist\n",
      "File alr exist\n",
      "Error: 373(ParticipantID)\n",
      "File alr exist\n",
      "File alr exist\n",
      "File alr exist\n",
      "File alr exist\n",
      "File alr exist\n",
      "File alr exist\n",
      "File alr exist\n",
      "File alr exist\n",
      "File alr exist\n",
      "File alr exist\n",
      "File alr exist\n",
      "File alr exist\n",
      "File alr exist\n",
      "File alr exist\n",
      "File alr exist\n",
      "File alr exist\n",
      "File alr exist\n",
      "File alr exist\n",
      "File alr exist\n",
      "File alr exist\n",
      "Error: 394(ParticipantID)\n",
      "File alr exist\n",
      "File alr exist\n",
      "File alr exist\n",
      "Error: 398(ParticipantID)\n",
      "File alr exist\n",
      "File alr exist\n",
      "File alr exist\n",
      "Error: 402(ParticipantID)\n",
      "File alr exist\n",
      "File alr exist\n",
      "File alr exist\n",
      "File alr exist\n",
      "File alr exist\n",
      "File alr exist\n",
      "File alr exist\n",
      "File alr exist\n",
      "File alr exist\n",
      "File alr exist\n",
      "File alr exist\n",
      "File alr exist\n",
      "File alr exist\n",
      "Error: 416(ParticipantID)\n",
      "Error: 417(ParticipantID)\n",
      "File alr exist\n",
      "File alr exist\n",
      "File alr exist\n",
      "File alr exist\n",
      "File alr exist\n",
      "File alr exist\n",
      "File alr exist\n",
      "File alr exist\n",
      "File alr exist\n",
      "File alr exist\n",
      "File alr exist\n",
      "File alr exist\n",
      "File alr exist\n",
      "File alr exist\n",
      "File alr exist\n",
      "File alr exist\n",
      "File alr exist\n",
      "File alr exist\n",
      "File alr exist\n",
      "File alr exist\n",
      "File alr exist\n",
      "File alr exist\n",
      "File alr exist\n",
      "File alr exist\n",
      "File alr exist\n",
      "File alr exist\n",
      "Error: 444(ParticipantID)\n",
      "File alr exist\n",
      "File alr exist\n",
      "File alr exist\n",
      "File alr exist\n",
      "File alr exist\n",
      "File alr exist\n",
      "Error: 451(ParticipantID)\n",
      "File alr exist\n",
      "File alr exist\n",
      "File alr exist\n",
      "File alr exist\n",
      "File alr exist\n",
      "File alr exist\n",
      "Error: 458(ParticipantID)\n",
      "File alr exist\n",
      "Error: 460(ParticipantID)\n",
      "File alr exist\n",
      "File alr exist\n",
      "File alr exist\n",
      "File alr exist\n",
      "File alr exist\n",
      "File alr exist\n",
      "File alr exist\n",
      "File alr exist\n",
      "File alr exist\n",
      "File alr exist\n",
      "File alr exist\n",
      "File alr exist\n",
      "File alr exist\n",
      "File alr exist\n",
      "File alr exist\n",
      "File alr exist\n",
      "File alr exist\n",
      "File alr exist\n",
      "File alr exist\n",
      "Error: 480(ParticipantID)\n",
      "File alr exist\n",
      "File alr exist\n",
      "File alr exist\n",
      "File alr exist\n",
      "File alr exist\n",
      "File alr exist\n",
      "File alr exist\n",
      "File alr exist\n",
      "File alr exist\n",
      "File alr exist\n",
      "File alr exist\n",
      "File alr exist\n"
     ]
    }
   ],
   "source": [
    "for i in range(300,493):\n",
    "    try:\n",
    "        remove_silent(i)\n",
    "    except:\n",
    "        print(\"Error: \" + str(i) + \"(ParticipantID)\")"
   ]
  },
  {
   "cell_type": "code",
   "execution_count": null,
   "metadata": {},
   "outputs": [],
   "source": []
  }
 ]
}