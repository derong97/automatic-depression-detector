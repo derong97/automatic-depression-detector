{
 "cells": [
  {
   "cell_type": "markdown",
   "metadata": {},
   "source": [
    "# Ellie's Transcript Data Processing\n",
    "This code is meant to take in a `.csv` file of each participant's transcript from his/her interview with Ellie, and clean it up. "
   ]
  },
  {
   "cell_type": "markdown",
   "metadata": {},
   "source": [
    "First, we remove all unnecessary information from the `.csv` file.\n",
    "\n",
    "1) Delete the timestamps from each transcript (i.e. the first 2 columns of the file) \n",
    "\n",
    "2) Delete any dialog from Ellie\n",
    "\n",
    "3) Combine the remaining transcript into a single cell \n",
    "\n",
    "4) Insert the combined transcript into a global dataframe with the label, togteher with other transcripts"
   ]
  },
  {
   "cell_type": "code",
   "execution_count": 95,
   "metadata": {},
   "outputs": [
    {
     "data": {
      "text/html": [
       "<div>\n",
       "<style scoped>\n",
       "    .dataframe tbody tr th:only-of-type {\n",
       "        vertical-align: middle;\n",
       "    }\n",
       "\n",
       "    .dataframe tbody tr th {\n",
       "        vertical-align: top;\n",
       "    }\n",
       "\n",
       "    .dataframe thead th {\n",
       "        text-align: right;\n",
       "    }\n",
       "</style>\n",
       "<table border=\"1\" class=\"dataframe\">\n",
       "  <thead>\n",
       "    <tr style=\"text-align: right;\">\n",
       "      <th></th>\n",
       "      <th>PHQ_Binary</th>\n",
       "      <th>PHQ_Score</th>\n",
       "    </tr>\n",
       "    <tr>\n",
       "      <th>Participant_ID</th>\n",
       "      <th></th>\n",
       "      <th></th>\n",
       "    </tr>\n",
       "  </thead>\n",
       "  <tbody>\n",
       "    <tr>\n",
       "      <th>300</th>\n",
       "      <td>0</td>\n",
       "      <td>2</td>\n",
       "    </tr>\n",
       "    <tr>\n",
       "      <th>301</th>\n",
       "      <td>0</td>\n",
       "      <td>3</td>\n",
       "    </tr>\n",
       "    <tr>\n",
       "      <th>302</th>\n",
       "      <td>0</td>\n",
       "      <td>4</td>\n",
       "    </tr>\n",
       "    <tr>\n",
       "      <th>303</th>\n",
       "      <td>0</td>\n",
       "      <td>0</td>\n",
       "    </tr>\n",
       "    <tr>\n",
       "      <th>304</th>\n",
       "      <td>0</td>\n",
       "      <td>6</td>\n",
       "    </tr>\n",
       "    <tr>\n",
       "      <th>305</th>\n",
       "      <td>0</td>\n",
       "      <td>7</td>\n",
       "    </tr>\n",
       "    <tr>\n",
       "      <th>306</th>\n",
       "      <td>0</td>\n",
       "      <td>0</td>\n",
       "    </tr>\n",
       "    <tr>\n",
       "      <th>307</th>\n",
       "      <td>0</td>\n",
       "      <td>4</td>\n",
       "    </tr>\n",
       "    <tr>\n",
       "      <th>308</th>\n",
       "      <td>1</td>\n",
       "      <td>22</td>\n",
       "    </tr>\n",
       "    <tr>\n",
       "      <th>309</th>\n",
       "      <td>1</td>\n",
       "      <td>15</td>\n",
       "    </tr>\n",
       "  </tbody>\n",
       "</table>\n",
       "</div>"
      ],
      "text/plain": [
       "                PHQ_Binary  PHQ_Score\n",
       "Participant_ID                       \n",
       "300                      0          2\n",
       "301                      0          3\n",
       "302                      0          4\n",
       "303                      0          0\n",
       "304                      0          6\n",
       "305                      0          7\n",
       "306                      0          0\n",
       "307                      0          4\n",
       "308                      1         22\n",
       "309                      1         15"
      ]
     },
     "execution_count": 95,
     "metadata": {},
     "output_type": "execute_result"
    }
   ],
   "source": [
    "import pandas as pd \n",
    "import os\n",
    "import ntpath\n",
    "\n",
    "filepath_labels = \"/Users/glendawee/Desktop/full_dataset_excl_interrupted_sessions.csv\" #insert filepath to labels here\n",
    "df_labels = pd.read_csv(filepath_labels, index_col = \"Participant_ID\")\n",
    "\n",
    "df_labels.head(10)\n"
   ]
  },
  {
   "cell_type": "code",
   "execution_count": 98,
   "metadata": {},
   "outputs": [
    {
     "name": "stdout",
     "output_type": "stream",
     "text": [
      "1 22\n"
     ]
    }
   ],
   "source": [
    "filepath_transcript = \"/Users/glendawee/Desktop/300_P/300_TRANSCRIPT.csv\" #insert file path to transcript here \n",
    "filename = ntpath.basename(filepath) # if this doesn't work, try `os.path.basename(filepath)`\n",
    "\n",
    "participant_no = int(filename[0:3])\n",
    "PHQ_Binary = df_labels.loc[308][\"PHQ_Binary\"]\n",
    "PHQ_Score = df_labels.loc[308][\"PHQ_Score\"]\n",
    "\n",
    "print(PHQ_Binary, PHQ_Score)"
   ]
  },
  {
   "cell_type": "code",
   "execution_count": 99,
   "metadata": {},
   "outputs": [],
   "source": [
    "df_transcript = pd.read_csv(filepath_transcript, sep = '\\t') \n",
    "\n",
    "column_list = df.columns.tolist()\n",
    "#print(column_list)\n",
    "\n",
    "df_dropped_columns = df_transcript.drop(['start_time', 'stop_time'], axis = 1) #drop first 2 columns\n",
    "df_dropped_ellie = df_dropped_columns.set_index('speaker').drop(index = ['Ellie']) #drop anything Ellie says, she's not important\n",
    "df_cleaned = df_dropped_ellie.reset_index() "
   ]
  },
  {
   "cell_type": "code",
   "execution_count": 100,
   "metadata": {},
   "outputs": [
    {
     "name": "stdout",
     "output_type": "stream",
     "text": [
      "good atlanta georgia um my parents are from here um i love it i like the weather i like the opportunities um yes um it took a minute somewhat easy congestion that's it um i took up business and administration uh yeah i am here and there i'm on a break right now but i plan on going back in the uh next semester uh probably to open up my own business no um no specific reason i just don't travel a lot i'm pretty local once a year can you be a little bit more specific no answer i like reading books i enjoy i enjoy cooking um exercising is great i'm i'm i'm pretty good at it um yeah um probably about two weeks ago uh frustrated um i don't like bias um i don't like um when someone says they're gonna do something and they don't uh somewhat friendship i like to play sports i enjoy uh going out with friends and family playing games grandparents parents um yeah i mean they've always given me great advice they've always kept it real real close i would say going to college right after high school well i would've been done by now you know i would have been probably out in the field in the career field uh taking a job off the street i'm sure i could've yes i'm not sure maybe when i graduated from high school well uh i um i got my diploma my my diploma that i finished school and i met all the requirements  high school and i was approved to go do whatever i wanted to do living with who um it's alright it could be better not no uh it's pretty easy uh yes repeat that irritated um lazy no no no no um the other day weather was great sun was out different less less um interested uh shut down uh about two weeks ago uh yeah a friend of mine was annoying me and i just cut them off [laughter] it's alright friendship chocolate tall thin thank you bye bye\n"
     ]
    }
   ],
   "source": [
    "#concatenating participant's transcript into a single string\n",
    "\n",
    "transcript_concat = '' \n",
    "\n",
    "for index, row in df_cleaned.iterrows():\n",
    "    if (index == 0):\n",
    "        transcript_concat += (row['value'])\n",
    "    else:\n",
    "        transcript_concat += ' ' + (row['value'])\n",
    "    \n",
    "\n",
    "print(transcript_concat)\n",
    "    "
   ]
  },
  {
   "cell_type": "code",
   "execution_count": 104,
   "metadata": {},
   "outputs": [
    {
     "name": "stdout",
     "output_type": "stream",
     "text": [
      "Empty DataFrame\n",
      "Columns: [Participant_ID, Transcript, PHQ_Score, PHQ_Binary]\n",
      "Index: []\n"
     ]
    },
    {
     "data": {
      "text/html": [
       "<div>\n",
       "<style scoped>\n",
       "    .dataframe tbody tr th:only-of-type {\n",
       "        vertical-align: middle;\n",
       "    }\n",
       "\n",
       "    .dataframe tbody tr th {\n",
       "        vertical-align: top;\n",
       "    }\n",
       "\n",
       "    .dataframe thead th {\n",
       "        text-align: right;\n",
       "    }\n",
       "</style>\n",
       "<table border=\"1\" class=\"dataframe\">\n",
       "  <thead>\n",
       "    <tr style=\"text-align: right;\">\n",
       "      <th></th>\n",
       "      <th>Participant_ID</th>\n",
       "      <th>Transcript</th>\n",
       "      <th>PHQ_Score</th>\n",
       "      <th>PHQ_Binary</th>\n",
       "    </tr>\n",
       "  </thead>\n",
       "  <tbody>\n",
       "    <tr>\n",
       "      <th>0</th>\n",
       "      <td>300</td>\n",
       "      <td>good atlanta georgia um my parents are from he...</td>\n",
       "      <td>22</td>\n",
       "      <td>1</td>\n",
       "    </tr>\n",
       "  </tbody>\n",
       "</table>\n",
       "</div>"
      ],
      "text/plain": [
       "  Participant_ID                                         Transcript PHQ_Score  \\\n",
       "0            300  good atlanta georgia um my parents are from he...        22   \n",
       "\n",
       "  PHQ_Binary  \n",
       "0          1  "
      ]
     },
     "execution_count": 104,
     "metadata": {},
     "output_type": "execute_result"
    }
   ],
   "source": [
    "#putting participant's transcript into a global dataframe\n",
    "column_names_final = [\"Participant_ID\", \"Transcript\", \"PHQ_Score\", \"PHQ_Binary\"]\n",
    "df_final = pd.DataFrame(columns = column_names_final)\n",
    "print(df_final)\n",
    "\n",
    "new_row = {\"Participant_ID\": participant_no, \"Transcript\": transcript_concat, \"PHQ_Score\": PHQ_Score, \"PHQ_Binary\": PHQ_Binary}\n",
    "df_final = df_final.append(new_row, ignore_index = True)\n",
    "\n",
    "df_final.head(10)"
   ]
  },
  {
   "cell_type": "code",
   "execution_count": null,
   "metadata": {},
   "outputs": [],
   "source": []
  }
 ],
 "metadata": {
  "kernelspec": {
   "display_name": "Python 3",
   "language": "python",
   "name": "python3"
  },
  "language_info": {
   "codemirror_mode": {
    "name": "ipython",
    "version": 3
   },
   "file_extension": ".py",
   "mimetype": "text/x-python",
   "name": "python",
   "nbconvert_exporter": "python",
   "pygments_lexer": "ipython3",
   "version": "3.7.3"
  }
 },
 "nbformat": 4,
 "nbformat_minor": 2
}
