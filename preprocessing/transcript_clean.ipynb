{
 "cells": [
  {
   "cell_type": "markdown",
   "metadata": {},
   "source": [
    "# Transcript Data Processing\n",
    "Takes in raw `.csv` file of each participant's transcript from his/her interview with Ellie, and clean it up. "
   ]
  },
  {
   "cell_type": "markdown",
   "metadata": {},
   "source": [
    "# Import data"
   ]
  },
  {
   "cell_type": "markdown",
   "metadata": {},
   "source": [
    "## Y data"
   ]
  },
  {
   "cell_type": "code",
   "execution_count": 1,
   "metadata": {},
   "outputs": [
    {
     "data": {
      "text/html": [
       "<div>\n",
       "<style scoped>\n",
       "    .dataframe tbody tr th:only-of-type {\n",
       "        vertical-align: middle;\n",
       "    }\n",
       "\n",
       "    .dataframe tbody tr th {\n",
       "        vertical-align: top;\n",
       "    }\n",
       "\n",
       "    .dataframe thead th {\n",
       "        text-align: right;\n",
       "    }\n",
       "</style>\n",
       "<table border=\"1\" class=\"dataframe\">\n",
       "  <thead>\n",
       "    <tr style=\"text-align: right;\">\n",
       "      <th></th>\n",
       "      <th>PHQ_Binary</th>\n",
       "      <th>PHQ_Score</th>\n",
       "    </tr>\n",
       "    <tr>\n",
       "      <th>Participant_ID</th>\n",
       "      <th></th>\n",
       "      <th></th>\n",
       "    </tr>\n",
       "  </thead>\n",
       "  <tbody>\n",
       "    <tr>\n",
       "      <th>300</th>\n",
       "      <td>0</td>\n",
       "      <td>2</td>\n",
       "    </tr>\n",
       "    <tr>\n",
       "      <th>301</th>\n",
       "      <td>0</td>\n",
       "      <td>3</td>\n",
       "    </tr>\n",
       "    <tr>\n",
       "      <th>302</th>\n",
       "      <td>0</td>\n",
       "      <td>4</td>\n",
       "    </tr>\n",
       "    <tr>\n",
       "      <th>303</th>\n",
       "      <td>0</td>\n",
       "      <td>0</td>\n",
       "    </tr>\n",
       "    <tr>\n",
       "      <th>304</th>\n",
       "      <td>0</td>\n",
       "      <td>6</td>\n",
       "    </tr>\n",
       "  </tbody>\n",
       "</table>\n",
       "</div>"
      ],
      "text/plain": [
       "                PHQ_Binary  PHQ_Score\n",
       "Participant_ID                       \n",
       "300                      0          2\n",
       "301                      0          3\n",
       "302                      0          4\n",
       "303                      0          0\n",
       "304                      0          6"
      ]
     },
     "execution_count": 1,
     "metadata": {},
     "output_type": "execute_result"
    }
   ],
   "source": [
    "import pandas as pd \n",
    "import os\n",
    "\n",
    "df_labels = pd.read_csv(\"../data/Y_Data.csv\", index_col = \"Participant_ID\")\n",
    "df_labels.head()"
   ]
  },
  {
   "cell_type": "markdown",
   "metadata": {},
   "source": [
    "## X data"
   ]
  },
  {
   "cell_type": "code",
   "execution_count": 2,
   "metadata": {},
   "outputs": [
    {
     "data": {
      "text/html": [
       "<div>\n",
       "<style scoped>\n",
       "    .dataframe tbody tr th:only-of-type {\n",
       "        vertical-align: middle;\n",
       "    }\n",
       "\n",
       "    .dataframe tbody tr th {\n",
       "        vertical-align: top;\n",
       "    }\n",
       "\n",
       "    .dataframe thead th {\n",
       "        text-align: right;\n",
       "    }\n",
       "</style>\n",
       "<table border=\"1\" class=\"dataframe\">\n",
       "  <thead>\n",
       "    <tr style=\"text-align: right;\">\n",
       "      <th></th>\n",
       "      <th>start_time</th>\n",
       "      <th>stop_time</th>\n",
       "      <th>speaker</th>\n",
       "      <th>value</th>\n",
       "    </tr>\n",
       "  </thead>\n",
       "  <tbody>\n",
       "    <tr>\n",
       "      <th>0</th>\n",
       "      <td>36.588</td>\n",
       "      <td>39.668</td>\n",
       "      <td>Ellie</td>\n",
       "      <td>hi i'm ellie thanks for coming in today</td>\n",
       "    </tr>\n",
       "    <tr>\n",
       "      <th>1</th>\n",
       "      <td>39.888</td>\n",
       "      <td>43.378</td>\n",
       "      <td>Ellie</td>\n",
       "      <td>i was created to talk to people in a safe and ...</td>\n",
       "    </tr>\n",
       "    <tr>\n",
       "      <th>2</th>\n",
       "      <td>43.728</td>\n",
       "      <td>48.498</td>\n",
       "      <td>Ellie</td>\n",
       "      <td>think of me as a friend i don't judge i can't ...</td>\n",
       "    </tr>\n",
       "    <tr>\n",
       "      <th>3</th>\n",
       "      <td>49.188</td>\n",
       "      <td>52.388</td>\n",
       "      <td>Ellie</td>\n",
       "      <td>i'm here to learn about people and would love ...</td>\n",
       "    </tr>\n",
       "    <tr>\n",
       "      <th>4</th>\n",
       "      <td>52.658</td>\n",
       "      <td>58.958</td>\n",
       "      <td>Ellie</td>\n",
       "      <td>i'll ask a few questions to get us started and...</td>\n",
       "    </tr>\n",
       "  </tbody>\n",
       "</table>\n",
       "</div>"
      ],
      "text/plain": [
       "   start_time  stop_time speaker  \\\n",
       "0      36.588     39.668   Ellie   \n",
       "1      39.888     43.378   Ellie   \n",
       "2      43.728     48.498   Ellie   \n",
       "3      49.188     52.388   Ellie   \n",
       "4      52.658     58.958   Ellie   \n",
       "\n",
       "                                               value  \n",
       "0            hi i'm ellie thanks for coming in today  \n",
       "1  i was created to talk to people in a safe and ...  \n",
       "2  think of me as a friend i don't judge i can't ...  \n",
       "3  i'm here to learn about people and would love ...  \n",
       "4  i'll ask a few questions to get us started and...  "
      ]
     },
     "execution_count": 2,
     "metadata": {},
     "output_type": "execute_result"
    }
   ],
   "source": [
    "filepath_transcript = \"300_TRANSCRIPT.csv\" #insert file path to transcript here \n",
    "filename_transcript = os.path.basename(filepath_transcript)\n",
    "\n",
    "df_transcript = pd.read_csv(filepath_transcript)\n",
    "df_transcript.head()"
   ]
  },
  {
   "cell_type": "code",
   "execution_count": 3,
   "metadata": {},
   "outputs": [
    {
     "name": "stdout",
     "output_type": "stream",
     "text": [
      "0 2\n"
     ]
    }
   ],
   "source": [
    "# Check if the values can be accessed\n",
    "\n",
    "participant_no = int(filename_transcript[0:3])\n",
    "PHQ_Binary = df_labels.loc[participant_no][\"PHQ_Binary\"]\n",
    "PHQ_Score = df_labels.loc[participant_no][\"PHQ_Score\"]\n",
    "\n",
    "print(PHQ_Binary, PHQ_Score)"
   ]
  },
  {
   "cell_type": "markdown",
   "metadata": {},
   "source": [
    "# Process Data\n",
    "1. Drop `start_time` and `stop_time` columns\n",
    "2. Drop rows that contain prompts by Ellie\n",
    "3. Concatenate the words spoken by the participant into a single chunk of text"
   ]
  },
  {
   "cell_type": "code",
   "execution_count": 4,
   "metadata": {},
   "outputs": [],
   "source": [
    "df_dropped_columns = df_transcript.drop(['start_time', 'stop_time'], axis = 1) #drop first 2 columns\n",
    "df_dropped_ellie = df_dropped_columns.set_index('speaker').drop(index = ['Ellie']) #drop anything Ellie says, she's not important\n",
    "df_cleaned = df_dropped_ellie.reset_index() "
   ]
  },
  {
   "cell_type": "code",
   "execution_count": 5,
   "metadata": {},
   "outputs": [
    {
     "name": "stdout",
     "output_type": "stream",
     "text": [
      "good atlanta georgia um my parents are from here um i love it i like the weather i like the opportunities um yes um it took a minute somewhat easy congestion that's it um i took up business and administration uh yeah i am here and there i'm on a break right now but i plan on going back in the uh next semester uh probably to open up my own business no um no specific reason i just don't travel a lot i'm pretty local once a year can you be a little bit more specific no answer i like reading books i enjoy i enjoy cooking um exercising is great i'm i'm i'm pretty good at it um yeah um probably about two weeks ago uh frustrated um i don't like bias um i don't like um when someone says they're gonna do something and they don't uh somewhat friendship i like to play sports i enjoy uh going out with friends and family playing games grandparents parents um yeah i mean they've always given me great advice they've always kept it real real close i would say going to college right after high school well i would've been done by now you know i would have been probably out in the field in the career field uh taking a job off the street i'm sure i could've yes i'm not sure maybe when i graduated from high school well uh i um i got my diploma my my diploma that i finished school and i met all the requirements  high school and i was approved to go do whatever i wanted to do living with who um it's alright it could be better not no uh it's pretty easy uh yes repeat that irritated um lazy no no no no um the other day weather was great sun was out different less less um interested uh shut down uh about two weeks ago uh yeah a friend of mine was annoying me and i just cut them off [laughter] it's alright friendship chocolate tall thin thank you bye bye\n"
     ]
    }
   ],
   "source": [
    "# Concatenate participant's transcript into a single string\n",
    "\n",
    "transcript_concat = '' \n",
    "\n",
    "for index, row in df_cleaned.iterrows():\n",
    "    if (index == 0):\n",
    "        transcript_concat += (row['value'])\n",
    "    else:\n",
    "        transcript_concat += ' ' + (row['value'])    \n",
    "\n",
    "print(transcript_concat)"
   ]
  },
  {
   "cell_type": "markdown",
   "metadata": {},
   "source": [
    "# Reconstruct data into a global dataframe"
   ]
  },
  {
   "cell_type": "code",
   "execution_count": 6,
   "metadata": {
    "scrolled": false
   },
   "outputs": [
    {
     "data": {
      "text/html": [
       "<div>\n",
       "<style scoped>\n",
       "    .dataframe tbody tr th:only-of-type {\n",
       "        vertical-align: middle;\n",
       "    }\n",
       "\n",
       "    .dataframe tbody tr th {\n",
       "        vertical-align: top;\n",
       "    }\n",
       "\n",
       "    .dataframe thead th {\n",
       "        text-align: right;\n",
       "    }\n",
       "</style>\n",
       "<table border=\"1\" class=\"dataframe\">\n",
       "  <thead>\n",
       "    <tr style=\"text-align: right;\">\n",
       "      <th></th>\n",
       "      <th>Participant_ID</th>\n",
       "      <th>Transcript</th>\n",
       "      <th>PHQ_Score</th>\n",
       "      <th>PHQ_Binary</th>\n",
       "    </tr>\n",
       "  </thead>\n",
       "  <tbody>\n",
       "    <tr>\n",
       "      <th>0</th>\n",
       "      <td>300</td>\n",
       "      <td>good atlanta georgia um my parents are from he...</td>\n",
       "      <td>2</td>\n",
       "      <td>0</td>\n",
       "    </tr>\n",
       "  </tbody>\n",
       "</table>\n",
       "</div>"
      ],
      "text/plain": [
       "  Participant_ID                                         Transcript PHQ_Score  \\\n",
       "0            300  good atlanta georgia um my parents are from he...         2   \n",
       "\n",
       "  PHQ_Binary  \n",
       "0          0  "
      ]
     },
     "execution_count": 6,
     "metadata": {},
     "output_type": "execute_result"
    }
   ],
   "source": [
    "column_names_final = [\"Participant_ID\", \"Transcript\", \"PHQ_Score\", \"PHQ_Binary\"]\n",
    "df_final = pd.DataFrame(columns = column_names_final)\n",
    "\n",
    "new_row = {\"Participant_ID\": participant_no, \"Transcript\": transcript_concat, \"PHQ_Score\": PHQ_Score, \"PHQ_Binary\": PHQ_Binary}\n",
    "df_final = df_final.append(new_row, ignore_index = True)\n",
    "\n",
    "df_final.head()"
   ]
  },
  {
   "cell_type": "markdown",
   "metadata": {},
   "source": [
    "# Compile all transcripts"
   ]
  },
  {
   "cell_type": "code",
   "execution_count": 10,
   "metadata": {},
   "outputs": [],
   "source": [
    "import pandas as pd \n",
    "import os\n",
    "import ntpath"
   ]
  },
  {
   "cell_type": "code",
   "execution_count": 11,
   "metadata": {},
   "outputs": [],
   "source": [
    "def get_transcript(file):\n",
    "    filename = ntpath.basename(file)\n",
    "    participant_no = int(filename[0:3])\n",
    "    \n",
    "    df_transcript = pd.read_csv(file, sep = '\\t') \n",
    "\n",
    "\n",
    "    df_dropped_columns = df_transcript.drop(['start_time', 'stop_time'], axis = 1) #drop first 2 columns\n",
    "    df_dropped_ellie = df_dropped_columns.set_index('speaker').drop(index = ['Ellie']) #drop anything Ellie says, she's not important\n",
    "    df_cleaned = df_dropped_ellie.reset_index() \n",
    "    transcript_concat = '' \n",
    "\n",
    "    for index, row in df_cleaned.iterrows():\n",
    "        if (index == 0):\n",
    "            transcript_concat += (row['value'])\n",
    "        else:\n",
    "            transcript_concat += ' ' + (row['value'])\n",
    "            \n",
    "    return participant_no, transcript_concat\n",
    "\n",
    "def combine_transcripts(directory, label_file):\n",
    "    column_names_final = [\"Participant_ID\", \"Transcript\", \"PHQ_Score\", \"PHQ_Binary\"]\n",
    "    df_final = pd.DataFrame(columns = column_names_final)\n",
    "    \n",
    "    csv_files = [pos_csv for pos_csv in os.listdir(directory) if pos_csv.endswith('.csv')]\n",
    "    for filename in csv_files:\n",
    "        file = directory+'/'+filename\n",
    "        participant_no, transcript_concat = get_transcript(file)\n",
    "        df_labels = pd.read_csv(label_file, index_col = \"Participant_ID\")\n",
    "        PHQ_Binary = df_labels.loc[participant_no][\"PHQ_Binary\"]\n",
    "        PHQ_Score = df_labels.loc[participant_no][\"PHQ_Score\"]\n",
    "\n",
    "        new_row = {\"Participant_ID\": participant_no, \"Transcript\": transcript_concat, \"PHQ_Score\": PHQ_Score, \"PHQ_Binary\": PHQ_Binary}\n",
    "        df_final = df_final.append(new_row, ignore_index = True)\n",
    "    return df_final"
   ]
  },
  {
   "cell_type": "code",
   "execution_count": null,
   "metadata": {},
   "outputs": [],
   "source": [
    "transcript_directory = \"./transcripts\" # directory containing all the transcript csv files\n",
    "label_file = \"Y_data.csv\"\n",
    "\n",
    "df = combine_transcripts(transcript_directory, label_file)\n",
    "df.to_csv(\"compiled_transcripts.csv\", index=False)"
   ]
  },
  {
   "cell_type": "code",
   "execution_count": null,
   "metadata": {},
   "outputs": [],
   "source": [
    "df.head()"
   ]
  }
 ],
 "metadata": {
  "kernelspec": {
   "display_name": "Python 3",
   "language": "python",
   "name": "python3"
  },
  "language_info": {
   "codemirror_mode": {
    "name": "ipython",
    "version": 3
   },
   "file_extension": ".py",
   "mimetype": "text/x-python",
   "name": "python",
   "nbconvert_exporter": "python",
   "pygments_lexer": "ipython3",
   "version": "3.7.7"
  }
 },
 "nbformat": 4,
 "nbformat_minor": 2
}
