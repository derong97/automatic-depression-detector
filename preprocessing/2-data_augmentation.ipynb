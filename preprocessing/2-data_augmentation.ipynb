{
 "cells": [
  {
   "cell_type": "markdown",
   "metadata": {},
   "source": [
    "# Exploratory Data Analysis"
   ]
  },
  {
   "cell_type": "code",
   "execution_count": 1,
   "metadata": {},
   "outputs": [],
   "source": [
    "import numpy as np\n",
    "import pandas as pd\n",
    "import matplotlib.pyplot as plt\n",
    "import random"
   ]
  },
  {
   "cell_type": "code",
   "execution_count": 2,
   "metadata": {},
   "outputs": [
    {
     "data": {
      "text/plain": [
       "array([300, 301, 302, 303, 304, 305, 306, 307, 308, 309, 310, 311, 312,\n",
       "       313, 314, 315, 316, 317, 318, 319, 320, 321, 322, 323, 324, 325,\n",
       "       326, 327, 328, 329, 330, 331, 332, 333, 334, 335, 336, 337, 338,\n",
       "       339, 340, 341, 343, 344, 345, 346, 347, 348, 349, 350, 351, 352,\n",
       "       353, 354, 355, 356, 357, 358, 359, 360, 361, 362, 363, 364, 365,\n",
       "       366, 367, 368, 369, 370, 371, 372, 374, 375, 376, 377, 378, 379,\n",
       "       380, 381, 382, 383, 384, 385, 386, 387, 388, 389, 390, 391, 392,\n",
       "       393, 395, 396, 397, 399, 400, 401, 403, 404, 405, 406, 407, 408,\n",
       "       409, 410, 411, 412, 413, 414, 415, 418, 419, 420, 421, 422, 423,\n",
       "       424, 425, 426, 427, 428, 429, 430, 431, 432, 433, 434, 435, 436,\n",
       "       437, 438, 439, 440, 441, 442, 443, 445, 446, 447, 448, 449, 450,\n",
       "       452, 453, 454, 455, 456, 457, 459, 461, 462, 463, 464, 465, 466,\n",
       "       467, 468, 469, 470, 471, 472, 473, 474, 475, 476, 477, 478, 479,\n",
       "       481, 482, 483, 484, 485, 486, 487, 488, 489, 490, 491, 492])"
      ]
     },
     "execution_count": 2,
     "metadata": {},
     "output_type": "execute_result"
    }
   ],
   "source": [
    "transcript_file = 'raw_compiled_transcripts.csv'\n",
    "\n",
    "df = pd.read_csv(transcript_file)\n",
    "\n",
    "all_participants = df['Participant_ID'].values\n",
    "\n",
    "all_participants"
   ]
  },
  {
   "cell_type": "code",
   "execution_count": 3,
   "metadata": {},
   "outputs": [
    {
     "data": {
      "text/plain": [
       "array([300, 301, 306, 308, 309, 311, 314, 323, 329, 332, 334, 337, 349,\n",
       "       354, 359, 361, 365, 378, 384, 387, 396, 399, 405, 407, 408, 410,\n",
       "       411, 421, 424, 431, 432, 435, 438, 442, 450, 452, 453, 461, 462,\n",
       "       465, 466, 467, 469, 470, 481])"
      ]
     },
     "execution_count": 3,
     "metadata": {},
     "output_type": "execute_result"
    }
   ],
   "source": [
    "testfile = 'test_split_Depression_AVEC2017.csv'\n",
    "test_participants = pd.read_csv(testfile)['participant_ID'].values\n",
    "\n",
    "test_participants"
   ]
  },
  {
   "cell_type": "markdown",
   "metadata": {},
   "source": [
    "## Distribution of test data\n",
    "The test data is pre-determined by the research group. We will use the same test data so that we can benchmark our results with other researches."
   ]
  },
  {
   "cell_type": "code",
   "execution_count": 4,
   "metadata": {},
   "outputs": [
    {
     "data": {
      "image/png": "[encoded data removed]",
      "text/plain": [
       "<Figure size 432x288 with 1 Axes>"
      ]
     },
     "metadata": {
      "needs_background": "light"
     },
     "output_type": "display_data"
    }
   ],
   "source": [
    "df_test = df[df.Participant_ID.isin(test_participants)]\n",
    "\n",
    "df_test['PHQ_Binary'].value_counts().plot(kind='bar', rot=0)\n",
    "plt.ylabel(\"Frequency\")\n",
    "plt.xlabel(\"Presence of depression\")\n",
    "plt.title(\"Bar plot of raw test data\")\n",
    "plt.show()"
   ]
  },
  {
   "cell_type": "markdown",
   "metadata": {},
   "source": [
    "## Distribution of train data\n",
    "This is the distribution of the data after filtering out the test participants. Clearly, our train dataset is small and imbalanced, which affects model training. Hence, we will use paraphrasing to upsample the number of transcripts for the participants in the trainset. The result will be a balanced train dataset for both nondepressed and depressed participants."
   ]
  },
  {
   "cell_type": "code",
   "execution_count": 5,
   "metadata": {},
   "outputs": [
    {
     "data": {
      "image/png": "[encoded data removed]",
      "text/plain": [
       "<Figure size 432x288 with 1 Axes>"
      ]
     },
     "metadata": {
      "needs_background": "light"
     },
     "output_type": "display_data"
    }
   ],
   "source": [
    "df_train = df[~df.Participant_ID.isin(test_participants)]\n",
    "\n",
    "df_train['PHQ_Binary'].value_counts().plot(kind='bar', rot=0)\n",
    "plt.ylabel(\"Frequency\")\n",
    "plt.xlabel(\"Presence of depression\")\n",
    "plt.title(\"Bar plot of raw train data\")\n",
    "plt.show()"
   ]
  },
  {
   "cell_type": "markdown",
   "metadata": {},
   "source": [
    "# Upsampling for train dataset\n",
    "We will upsample the number of non-depressed and depressed transcripts to 120 each."
   ]
  },
  {
   "cell_type": "code",
   "execution_count": 6,
   "metadata": {},
   "outputs": [
    {
     "name": "stdout",
     "output_type": "stream",
     "text": [
      "No of non-depressed: 95. No of depressed: 41\n"
     ]
    }
   ],
   "source": [
    "TARGET_COUNT = 120\n",
    "\n",
    "df_neg = df_train[df_train.PHQ_Binary == 0]\n",
    "df_pos = df_train[df_train.PHQ_Binary == 1]\n",
    "\n",
    "ori_neg_ids = df_neg.Participant_ID.values\n",
    "ori_pos_ids = df_pos.Participant_ID.values\n",
    "\n",
    "print(f\"No of non-depressed: {len(ori_neg_ids)}. No of depressed: {len(ori_pos_ids)}\")"
   ]
  },
  {
   "cell_type": "code",
   "execution_count": 7,
   "metadata": {},
   "outputs": [],
   "source": [
    "def get_sampling_frame(ls, target_count):\n",
    "    \"\"\"\n",
    "    Returns the sampling frame to be paraphrased, excluding the original sampling frame\n",
    "    \"\"\"\n",
    "    random.seed(42)\n",
    "    \n",
    "    new_ls = []\n",
    "    quotient = int(target_count / len(ls))\n",
    "    remainder = target_count % len(ls)\n",
    "    \n",
    "    # if target_count >= size of given list\n",
    "    if quotient > 0:\n",
    "        # only fair to get every element\n",
    "        new_ls = ls * (quotient - 1)\n",
    "    \n",
    "    # fill up the remaining spots\n",
    "    new_ls += random.sample(ls, remainder)\n",
    "    \n",
    "    return new_ls"
   ]
  },
  {
   "cell_type": "code",
   "execution_count": 8,
   "metadata": {},
   "outputs": [
    {
     "name": "stdout",
     "output_type": "stream",
     "text": [
      "[305, 307, 318, 324, 326, 331, 360, 364, 366, 368, 370, 379, 420, 423, 443, 454, 456, 468, 475, 476, 479, 482, 484, 487, 490]\n"
     ]
    }
   ],
   "source": [
    "# negative sampling frame\n",
    "aug_neg_ids = sorted(get_sampling_frame(list(ori_neg_ids), TARGET_COUNT))\n",
    "\n",
    "print(aug_neg_ids)"
   ]
  },
  {
   "cell_type": "code",
   "execution_count": 9,
   "metadata": {},
   "outputs": [
    {
     "name": "stdout",
     "output_type": "stream",
     "text": [
      "[319, 319, 320, 320, 321, 321, 325, 330, 330, 335, 335, 338, 338, 339, 339, 344, 344, 345, 346, 347, 347, 348, 348, 350, 350, 351, 351, 352, 352, 353, 353, 355, 355, 356, 356, 362, 362, 367, 367, 372, 372, 376, 376, 377, 377, 380, 380, 381, 381, 386, 386, 388, 388, 389, 389, 412, 412, 413, 413, 414, 414, 418, 418, 422, 422, 426, 426, 433, 433, 440, 440, 441, 441, 448, 448, 459, 459, 483, 483]\n"
     ]
    }
   ],
   "source": [
    "# positive sampling frame\n",
    "aug_pos_ids = sorted(get_sampling_frame(list(ori_pos_ids), TARGET_COUNT))\n",
    "\n",
    "print(aug_pos_ids)"
   ]
  },
  {
   "cell_type": "markdown",
   "metadata": {},
   "source": [
    "# Paraphrasing "
   ]
  },
  {
   "cell_type": "markdown",
   "metadata": {},
   "source": [
    "## 1. Google Translate\n",
    "Translates to one of the foreign languages of random choice and then translate back again"
   ]
  },
  {
   "cell_type": "code",
   "execution_count": 10,
   "metadata": {
    "scrolled": true
   },
   "outputs": [
    {
     "name": "stdout",
     "output_type": "stream",
     "text": [
      "Requirement already satisfied: paraphraser in /opt/conda/lib/python3.6/site-packages (0.0.1)\n",
      "Requirement already satisfied: googletrans~=3.0.0 in /opt/conda/lib/python3.6/site-packages (from paraphraser) (3.0.0)\n",
      "Requirement already satisfied: httpx==0.13.3 in /opt/conda/lib/python3.6/site-packages (from googletrans~=3.0.0->paraphraser) (0.13.3)\n",
      "Requirement already satisfied: chardet==3.* in /opt/conda/lib/python3.6/site-packages (from httpx==0.13.3->googletrans~=3.0.0->paraphraser) (3.0.4)\n",
      "Requirement already satisfied: rfc3986<2,>=1.3 in /opt/conda/lib/python3.6/site-packages (from httpx==0.13.3->googletrans~=3.0.0->paraphraser) (1.4.0)\n",
      "Requirement already satisfied: sniffio in /opt/conda/lib/python3.6/site-packages (from httpx==0.13.3->googletrans~=3.0.0->paraphraser) (1.2.0)\n",
      "Requirement already satisfied: idna==2.* in /opt/conda/lib/python3.6/site-packages (from httpx==0.13.3->googletrans~=3.0.0->paraphraser) (2.9)\n",
      "Requirement already satisfied: httpcore==0.9.* in /opt/conda/lib/python3.6/site-packages (from httpx==0.13.3->googletrans~=3.0.0->paraphraser) (0.9.1)\n",
      "Requirement already satisfied: certifi in /opt/conda/lib/python3.6/site-packages (from httpx==0.13.3->googletrans~=3.0.0->paraphraser) (2020.4.5.2)\n",
      "Requirement already satisfied: hstspreload in /opt/conda/lib/python3.6/site-packages (from httpx==0.13.3->googletrans~=3.0.0->paraphraser) (2020.11.21)\n",
      "Requirement already satisfied: contextvars>=2.1; python_version < \"3.7\" in /opt/conda/lib/python3.6/site-packages (from sniffio->httpx==0.13.3->googletrans~=3.0.0->paraphraser) (2.4)\n",
      "Requirement already satisfied: h11<0.10,>=0.8 in /opt/conda/lib/python3.6/site-packages (from httpcore==0.9.*->httpx==0.13.3->googletrans~=3.0.0->paraphraser) (0.9.0)\n",
      "Requirement already satisfied: h2==3.* in /opt/conda/lib/python3.6/site-packages (from httpcore==0.9.*->httpx==0.13.3->googletrans~=3.0.0->paraphraser) (3.2.0)\n",
      "Requirement already satisfied: immutables>=0.9 in /opt/conda/lib/python3.6/site-packages (from contextvars>=2.1; python_version < \"3.7\"->sniffio->httpx==0.13.3->googletrans~=3.0.0->paraphraser) (0.14)\n",
      "Requirement already satisfied: hpack<4,>=3.0 in /opt/conda/lib/python3.6/site-packages (from h2==3.*->httpcore==0.9.*->httpx==0.13.3->googletrans~=3.0.0->paraphraser) (3.0.0)\n",
      "Requirement already satisfied: hyperframe<6,>=5.2.0 in /opt/conda/lib/python3.6/site-packages (from h2==3.*->httpcore==0.9.*->httpx==0.13.3->googletrans~=3.0.0->paraphraser) (5.2.0)\n"
     ]
    }
   ],
   "source": [
    "!pip install paraphraser\n",
    "\n",
    "from paraphraser import paraphrase"
   ]
  },
  {
   "cell_type": "code",
   "execution_count": 11,
   "metadata": {},
   "outputs": [
    {
     "data": {
      "text/plain": [
       "'i just want to paraphrase this sentence'"
      ]
     },
     "execution_count": 11,
     "metadata": {},
     "output_type": "execute_result"
    }
   ],
   "source": [
    "# Before paraphrasing\n",
    "before_text = \"i just want to paraphrase this sentence\"\n",
    "\n",
    "before_text"
   ]
  },
  {
   "cell_type": "code",
   "execution_count": 14,
   "metadata": {},
   "outputs": [
    {
     "data": {
      "text/plain": [
       "'I just want to rewrite this sentence'"
      ]
     },
     "execution_count": 14,
     "metadata": {},
     "output_type": "execute_result"
    }
   ],
   "source": [
    "# After paraphrasing\n",
    "after_text = paraphrase(before_text)[0]\n",
    "\n",
    "after_text"
   ]
  },
  {
   "cell_type": "markdown",
   "metadata": {},
   "source": [
    "## Did not work"
   ]
  },
  {
   "cell_type": "code",
   "execution_count": 15,
   "metadata": {},
   "outputs": [],
   "source": [
    "import time\n",
    "\n",
    "def get_aug_df(ori_df, aug_ls_ids):\n",
    "    aug_df = pd.DataFrame(columns=['Transcript', 'PHQ_Binary'])\n",
    "    \n",
    "    # there is gtoken issue intermittently so paraphrasing will run into errors\n",
    "    while len(aug_ls_ids) != 0:\n",
    "\n",
    "        participant_id = aug_ls_ids[0]\n",
    "        \n",
    "        try: \n",
    "            ori_text = ori_df[ori_df.Participant_ID == participant_id]['Transcript'].values[0]\n",
    "            label = ori_df[ori_df.Participant_ID == participant_id]['PHQ_Binary'].values[0]\n",
    "            para_text = paraphrase(ori_text)[0]\n",
    "            if ori_text == para_text: # sometimes will return you the same text back\n",
    "                continue\n",
    "            else:\n",
    "                aug_df = aug_df.append({'Transcript': para_text, 'PHQ_Binary': label}, ignore_index=True)\n",
    "                aug_ls_ids.remove(participant_id)\n",
    "            \n",
    "        except Exception:\n",
    "            time.sleep(2)\n",
    "    \n",
    "    return aug_df\n",
    "\n",
    "# aug_df = get_aug_df(df_train, aug_pos_ids + aug_neg_ids)\n",
    "\n",
    "# frames = [aug_df, df_train.drop(columns=['PHQ_Score'])]\n",
    "# pd.concat(frames)"
   ]
  },
  {
   "cell_type": "markdown",
   "metadata": {},
   "source": [
    "There are several issues with this paraphrasing library, which uses google translation API to another foreign language and then translate back.\n",
    "1. gtoken will raise errors and blacklist your IP\n",
    "2. Returned text might be the same or gibberish\n",
    "\n",
    "Alternatives:\n",
    "1. Use a trained [sentence generation model](https://github.com/vsuthichai/paraphraser) - worth trying only if a lot of augmentation is required.\n",
    "2. Manually use online [paraphrasing tool](https://www.prepostseo.com/paraphrasing-tool) - more time efficient if dataset is small. We will be using this approach based on the ids generated above."
   ]
  },
  {
   "cell_type": "markdown",
   "metadata": {},
   "source": [
    "## 2. Web Paraphrasing Tool\n",
    "Mainly relies on synonyms for paraphrasing."
   ]
  },
  {
   "cell_type": "code",
   "execution_count": 16,
   "metadata": {},
   "outputs": [
    {
     "data": {
      "text/plain": [
       "\"yes  i'm doing fine  i'm from los angeles california  wow wonderful weather um outdoor activities all the time too crowded pollution  the norm  i studied child communications um recently i just i would say yes preschool teacher  well i've always worked with children ever since i was eighteen years old so i figured doing something helping someone it doesn't pay well but you're investing in the future  wow some job that i could get paid to be outside all day get paid well to be outside all day  yes  i'm kinda quiet but i also like i probably would say borderline i like outside activities but i mainly kinda do um activities probably by myself so yeah i would say i'm an introvert slightly uh wow just um maybe a racist or disrespectful person i kinda shut down and and reevaluate how i am as a person how i'm coming off to other people i can't change anyone else's personality but i can work on my own   i'm pretty good  i usually don't argue with people i usually walk away i mean a argument doesn't settle anything  wow it's a lot of things i regret but it's not anything that i can control probably the biggest regret was losing my mother  thank you  i was extremely close to my mother that was who i am as a person who made me as a person  wow twenty ten years ago i would tell myself not to be so angry so  upset all the time about things i can't control i would tell myself to relax and not be so hard on myself  i think that's pretty cool i think you should have different avenues to deal with different people   <clears throat> no i have not  no i have not  yes  um less than a month  i realized i have to evaluate myself as a person so i can't really look to anyone else to help me unless i i start with myself no i don't  i feel like as a person as uh a individual i feel like i should be able to control things myself i feel like to go seek out help is good for someone else it probably is very good for other people i've worked with that population of p_t_s_d um veterans before so i know that it helps a lot of people but i don't feel like it's for me it's not difficult at all i've always been like a loner someone who who tries to handle <ha> to handle my own problems and situations  a little depressed but i think everyone is it has a little bit of sadness in them at some point   day by day day by day i just started a exercise program so i'm trying to look at myself  for the solution  always known ever since i was a child things moved me differently than other kids so i felt like i was always different i felt like if i was gonna ever understand me as a person then i would have to work on myself so yes  um today i got to see my best friend after a long time so i mean happiness comes and goes but i felt happy today  wow he would say really silly um  but still when i'm around him i try to be happy i try to present a a a situation where we're both gonna be happy no one wants to be around a depressed person  scrubbed_entry wow i mean on certain days everything could be my best quality but i would say um i'm loyal i'm dependable um  i would just say i try to be there in the moment i'm not a person who who is really fat flashy <f> excuse me uh flashy or into materialistic things so i feel like i'm very grounded  oh my mother by far my sisters  uh my mom was a school teacher which made me wanna become a school teacher and that's basically what i have been doing uh my sister has been at her job for forty years so i've always had a stable influence in my life  wow i would say just sitting on a sunny nice day talking to my mother i would say that would bring a smile to my face immediately   wonderful  wonderful  i like to get out and play sports i play four or five different sports and um i like to go for a walk i like to ride my bike i like to get out and be active  having such a wonderful mother i mean i have to keep going back to that subject because we're introduced into this life and that's our first teacher that's our first teacher and it's gonna be our teacher for a very long time and uh i'm just very thankful i'm very proud to have had such a wonderful woman as my mother riding my bike simple things going for a walk with my sister exercising  uh just last sunday  well thank you \""
      ]
     },
     "execution_count": 16,
     "metadata": {},
     "output_type": "execute_result"
    }
   ],
   "source": [
    "augmented_transcript_file = 'augmented_compiled_transcripts.csv'\n",
    "\n",
    "aug_df = pd.read_csv(augmented_transcript_file)\n",
    "\n",
    "# before\n",
    "aug_df[aug_df.Participant_ID == 338]['Transcript'].values[0]"
   ]
  },
  {
   "cell_type": "code",
   "execution_count": 17,
   "metadata": {},
   "outputs": [
    {
     "data": {
      "text/plain": [
       "\"sure i am doing excellent i am from la california wow remarkable climate um outside sports all of the time too crowded pollutants the norm i studied baby communications um lately i simply i'd say sure preschool trainer nicely i have continually labored with youngsters ever due to the fact i used to be eighteen years antique so i figured doing some thing supporting a person it would not pay nicely however you are making an investment withinside the destiny wow a few process that i should receives a commission to be outdoor all day receives a commission nicely to be outdoor all day sure i am kinda quiet however i additionally like i probable could say borderline i love outdoor sports however i specially kinda do um sports probable on my own so yeah i'd say i am an introvert barely uh wow simply um perhaps a racist or disrespectful individual i kinda close down and and reevaluate how i'm as someone how i am coming off to different human beings i can not extrade anybody else's character however i'm able to paintings by myself i am quite right i normally do not argue with human beings i normally stroll away i suggest a argument would not settle something wow it is lots of factors i remorse however it is now no longer something that i'm able to manipulate probable the largest remorse became dropping my mom thanks i used to be extraordinarily near my mom that became who i'm as someone who made me as someone wow twenty ten years in the past i'd inform myself now no longer to be so irritated so disenchanted all of the time approximately matters i can not manipulate i'd inform myself to loosen up and now no longer be so tough on myself i assume it's quite cool i assume you must have exclusive avenues to cope with exclusive human beings  no i've now no longer no i've now no longer sure um much less than a month i found out i must examine myself as someone so i can not genuinely appearance to anybody else to assist me until i i begin with myself no i do not i experience like as someone as uh a character i experience like i must be capable of manipulate matters myself i experience like to head are seeking for out assistance is right for a person else it probable is superb for different human beings i have labored with that populace of p_t_s_d um veterans earlier than so i recognise that it enables numerous human beings however i do not experience like it is for me it is now no longer tough in any respect i have continually been like a loner a person who who attempts to deal with  to deal with my personal troubles and conditions a touch depressed however i assume everybody is it has a touch little bit of disappointment in them sooner or later each day each day i simply began out a workout application so i am looking to have a take a observe myself for the answer continually acknowledged ever due to the fact i used to be a baby matters moved me in another way than different children so i felt like i used to be continually exclusive i felt like if i used to be gonna ever apprehend me as someone then i'd must paintings on myself so sure um nowadays i were given to peer my great buddy after a long term so i suggest happiness comes and is going however i felt glad nowadays wow he could say genuinely stupid um however nevertheless whilst i am round him i attempt to be glad i attempt to gift a a a scenario in which we are each gonna be glad nobody desires to be round a depressed individual scrubbed_entry wow i suggest on positive days the whole thing might be my great exceptional however i'd say um i am unswerving i am reliable um i'd simply say i attempt to be there withinside the second i am now no longer someone who who's genuinely fats flashy  excuse me uh flashy or into materialistic matters so i experience like i am very grounded oh my mom through some distance my sisters uh my mother became a faculty trainer which made me wanna grow to be a faculty trainer and that is essentially what i've been doing uh my sister has been at her process for 40 years so i have continually had a solid impact in my lifestyles wow i'd say simply sitting on a sunny best day speaking to my mom i'd say that could carry a grin to my face right away remarkable remarkable i love to get out and play sports activities i play 4 or 5 exclusive sports activities and um i love to head for a stroll i love to trip my motormotorcycle i love to get out and be energetic having one of these remarkable mom i suggest i must preserve going returned to that problem due to the fact we are delivered into this lifestyles and that is our first trainer it's our first trainer and it is gonna be our trainer for a completely long term and uh i am simply very grateful i am very proud to have had one of these remarkable girl as my mom driving my motormotorcycle easy matters going for a stroll with my sister exercise uh simply closing sunday nicely thanks\""
      ]
     },
     "execution_count": 17,
     "metadata": {},
     "output_type": "execute_result"
    }
   ],
   "source": [
    "# after\n",
    "aug_df[aug_df.Participant_ID == 338]['Transcript'].values[1]"
   ]
  },
  {
   "cell_type": "markdown",
   "metadata": {},
   "source": [
    "# View Augmented Train Distribution"
   ]
  },
  {
   "cell_type": "code",
   "execution_count": 18,
   "metadata": {},
   "outputs": [
    {
     "data": {
      "image/png": "[encoded data removed]",
      "text/plain": [
       "<Figure size 432x288 with 1 Axes>"
      ]
     },
     "metadata": {
      "needs_background": "light"
     },
     "output_type": "display_data"
    }
   ],
   "source": [
    "aug_df_train = aug_df[~aug_df.Participant_ID.isin(test_participants)]\n",
    "\n",
    "aug_df_train['PHQ_Binary'].value_counts().plot(kind='bar', rot=0)\n",
    "plt.ylabel(\"Frequency\")\n",
    "plt.xlabel(\"Presence of depression\")\n",
    "plt.title(\"Bar plot of augmented train data\")\n",
    "plt.show()"
   ]
  }
 ],
 "metadata": {
  "kernelspec": {
   "display_name": "Python 3",
   "language": "python",
   "name": "python3"
  },
  "language_info": {
   "codemirror_mode": {
    "name": "ipython",
    "version": 3
   },
   "file_extension": ".py",
   "mimetype": "text/x-python",
   "name": "python",
   "nbconvert_exporter": "python",
   "pygments_lexer": "ipython3",
   "version": "3.6.10"
  }
 },
 "nbformat": 4,
 "nbformat_minor": 4
}
