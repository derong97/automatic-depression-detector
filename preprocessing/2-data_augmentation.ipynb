{
 "cells": [
  {
   "cell_type": "markdown",
   "metadata": {},
   "source": [
    "# Exploratory Data Analysis"
   ]
  },
  {
   "cell_type": "code",
   "execution_count": 1,
   "metadata": {},
   "outputs": [],
   "source": [
    "import numpy as np\n",
    "import pandas as pd\n",
    "import matplotlib.pyplot as plt\n",
    "import random"
   ]
  },
  {
   "cell_type": "code",
   "execution_count": 2,
   "metadata": {},
   "outputs": [
    {
     "data": {
      "text/plain": [
       "array([300, 301, 302, 303, 304, 305, 306, 307, 308, 309, 310, 311, 312,\n",
       "       313, 314, 315, 316, 317, 318, 319, 320, 321, 322, 323, 324, 325,\n",
       "       326, 327, 328, 329, 330, 331, 332, 333, 334, 335, 336, 337, 338,\n",
       "       339, 340, 341, 343, 344, 345, 346, 347, 348, 349, 350, 351, 352,\n",
       "       353, 354, 355, 356, 357, 358, 359, 360, 361, 362, 363, 364, 365,\n",
       "       366, 367, 368, 369, 370, 371, 372, 374, 375, 376, 377, 378, 379,\n",
       "       380, 381, 382, 383, 384, 385, 386, 387, 388, 389, 390, 391, 392,\n",
       "       393, 395, 396, 397, 399, 400, 401, 403, 404, 405, 406, 407, 408,\n",
       "       409, 410, 411, 412, 413, 414, 415, 418, 419, 420, 421, 422, 423,\n",
       "       424, 425, 426, 427, 428, 429, 430, 431, 432, 433, 434, 435, 436,\n",
       "       437, 438, 439, 440, 441, 442, 443, 445, 446, 447, 448, 449, 450,\n",
       "       452, 453, 454, 455, 456, 457, 459, 461, 462, 463, 464, 465, 466,\n",
       "       467, 468, 469, 470, 471, 472, 473, 474, 475, 476, 477, 478, 479,\n",
       "       481, 482, 483, 484, 485, 486, 487, 488, 489, 490, 491, 492])"
      ]
     },
     "execution_count": 2,
     "metadata": {},
     "output_type": "execute_result"
    }
   ],
   "source": [
    "transcript_file = 'clean_compiled_transcripts.csv'\n",
    "\n",
    "df = pd.read_csv(transcript_file)\n",
    "\n",
    "all_participants = df['Participant_ID'].values\n",
    "\n",
    "all_participants"
   ]
  },
  {
   "cell_type": "code",
   "execution_count": 3,
   "metadata": {},
   "outputs": [
    {
     "data": {
      "text/plain": [
       "array([300, 301, 306, 308, 309, 311, 314, 323, 329, 332, 334, 337, 349,\n",
       "       354, 359, 361, 365, 378, 384, 387, 396, 399, 405, 407, 408, 410,\n",
       "       411, 421, 424, 431, 432, 435, 438, 442, 450, 452, 453, 461, 462,\n",
       "       465, 466, 467, 469, 470, 481])"
      ]
     },
     "execution_count": 3,
     "metadata": {},
     "output_type": "execute_result"
    }
   ],
   "source": [
    "testfile = 'test_split_Depression_AVEC2017.csv'\n",
    "test_participants = pd.read_csv(testfile)['participant_ID'].values\n",
    "\n",
    "test_participants"
   ]
  },
  {
   "cell_type": "markdown",
   "metadata": {},
   "source": [
    "## Distribution of test data\n",
    "The test data is pre-determined by the research group. We will use the same test data so that we can benchmark our results with other researches."
   ]
  },
  {
   "cell_type": "code",
   "execution_count": 4,
   "metadata": {},
   "outputs": [
    {
     "data": {
      "image/png": "[encoded data removed]",
      "text/plain": [
       "<Figure size 432x288 with 1 Axes>"
      ]
     },
     "metadata": {
      "needs_background": "light"
     },
     "output_type": "display_data"
    }
   ],
   "source": [
    "df_test = df[df.Participant_ID.isin(test_participants)]\n",
    "\n",
    "df_test['PHQ_Binary'].value_counts().plot(kind='bar', rot=0)\n",
    "plt.ylabel(\"Frequency\")\n",
    "plt.xlabel(\"Presence of depression\")\n",
    "plt.title(\"Bar plot of raw test data\")\n",
    "plt.show()"
   ]
  },
  {
   "cell_type": "markdown",
   "metadata": {},
   "source": [
    "## Distribution of train data\n",
    "This is the distribution of the data after filtering out the test participants. Clearly, our train dataset is small and imbalanced, which affects model training. Hence, we will use paraphrasing to upsample the number of transcripts for the participants in the trainset. The result will be a balanced train dataset for both nondepressed and depressed participants."
   ]
  },
  {
   "cell_type": "code",
   "execution_count": 5,
   "metadata": {},
   "outputs": [
    {
     "data": {
      "image/png": "[encoded data removed]",
      "text/plain": [
       "<Figure size 432x288 with 1 Axes>"
      ]
     },
     "metadata": {
      "needs_background": "light"
     },
     "output_type": "display_data"
    }
   ],
   "source": [
    "df_train = df[~df.Participant_ID.isin(test_participants)]\n",
    "\n",
    "df_train['PHQ_Binary'].value_counts().plot(kind='bar', rot=0)\n",
    "plt.ylabel(\"Frequency\")\n",
    "plt.xlabel(\"Presence of depression\")\n",
    "plt.title(\"Bar plot of raw train data\")\n",
    "plt.show()"
   ]
  },
  {
   "cell_type": "markdown",
   "metadata": {},
   "source": [
    "# Paraphrasing "
   ]
  },
  {
   "cell_type": "code",
   "execution_count": 6,
   "metadata": {},
   "outputs": [
    {
     "name": "stdout",
     "output_type": "stream",
     "text": [
      "Requirement already satisfied: paraphraser in /opt/conda/lib/python3.6/site-packages (0.0.1)\n",
      "Requirement already satisfied: googletrans~=3.0.0 in /opt/conda/lib/python3.6/site-packages (from paraphraser) (3.0.0)\n",
      "Requirement already satisfied: httpx==0.13.3 in /opt/conda/lib/python3.6/site-packages (from googletrans~=3.0.0->paraphraser) (0.13.3)\n",
      "Requirement already satisfied: rfc3986<2,>=1.3 in /opt/conda/lib/python3.6/site-packages (from httpx==0.13.3->googletrans~=3.0.0->paraphraser) (1.4.0)\n",
      "Requirement already satisfied: sniffio in /opt/conda/lib/python3.6/site-packages (from httpx==0.13.3->googletrans~=3.0.0->paraphraser) (1.2.0)\n",
      "Requirement already satisfied: idna==2.* in /opt/conda/lib/python3.6/site-packages (from httpx==0.13.3->googletrans~=3.0.0->paraphraser) (2.9)\n",
      "Requirement already satisfied: certifi in /opt/conda/lib/python3.6/site-packages (from httpx==0.13.3->googletrans~=3.0.0->paraphraser) (2020.4.5.2)\n",
      "Requirement already satisfied: chardet==3.* in /opt/conda/lib/python3.6/site-packages (from httpx==0.13.3->googletrans~=3.0.0->paraphraser) (3.0.4)\n",
      "Requirement already satisfied: httpcore==0.9.* in /opt/conda/lib/python3.6/site-packages (from httpx==0.13.3->googletrans~=3.0.0->paraphraser) (0.9.1)\n",
      "Requirement already satisfied: hstspreload in /opt/conda/lib/python3.6/site-packages (from httpx==0.13.3->googletrans~=3.0.0->paraphraser) (2020.11.21)\n",
      "Requirement already satisfied: contextvars>=2.1; python_version < \"3.7\" in /opt/conda/lib/python3.6/site-packages (from sniffio->httpx==0.13.3->googletrans~=3.0.0->paraphraser) (2.4)\n",
      "Requirement already satisfied: h11<0.10,>=0.8 in /opt/conda/lib/python3.6/site-packages (from httpcore==0.9.*->httpx==0.13.3->googletrans~=3.0.0->paraphraser) (0.9.0)\n",
      "Requirement already satisfied: h2==3.* in /opt/conda/lib/python3.6/site-packages (from httpcore==0.9.*->httpx==0.13.3->googletrans~=3.0.0->paraphraser) (3.2.0)\n",
      "Requirement already satisfied: immutables>=0.9 in /opt/conda/lib/python3.6/site-packages (from contextvars>=2.1; python_version < \"3.7\"->sniffio->httpx==0.13.3->googletrans~=3.0.0->paraphraser) (0.14)\n",
      "Requirement already satisfied: hpack<4,>=3.0 in /opt/conda/lib/python3.6/site-packages (from h2==3.*->httpcore==0.9.*->httpx==0.13.3->googletrans~=3.0.0->paraphraser) (3.0.0)\n",
      "Requirement already satisfied: hyperframe<6,>=5.2.0 in /opt/conda/lib/python3.6/site-packages (from h2==3.*->httpcore==0.9.*->httpx==0.13.3->googletrans~=3.0.0->paraphraser) (5.2.0)\n"
     ]
    }
   ],
   "source": [
    "!pip install paraphraser\n",
    "\n",
    "from paraphraser import paraphrase"
   ]
  },
  {
   "cell_type": "markdown",
   "metadata": {},
   "source": [
    "## Example "
   ]
  },
  {
   "cell_type": "code",
   "execution_count": 7,
   "metadata": {},
   "outputs": [
    {
     "data": {
      "text/plain": [
       "'i just want to paraphrase this sentence'"
      ]
     },
     "execution_count": 7,
     "metadata": {},
     "output_type": "execute_result"
    }
   ],
   "source": [
    "# Before paraphrasing\n",
    "before_text = \"i just want to paraphrase this sentence\"\n",
    "\n",
    "before_text"
   ]
  },
  {
   "cell_type": "code",
   "execution_count": 10,
   "metadata": {},
   "outputs": [
    {
     "data": {
      "text/plain": [
       "'I just want to describe this sentence'"
      ]
     },
     "execution_count": 10,
     "metadata": {},
     "output_type": "execute_result"
    }
   ],
   "source": [
    "# After paraphrasing\n",
    "# translates to one of the foreign languages of random choice and then translate back again\n",
    "after_text = paraphrase(before_text)[0]\n",
    "\n",
    "after_text"
   ]
  },
  {
   "cell_type": "markdown",
   "metadata": {},
   "source": [
    "## Upsampling for train dataset\n",
    "We will upsample the number of non-depressed and depressed transcripts to 120 each."
   ]
  },
  {
   "cell_type": "code",
   "execution_count": 11,
   "metadata": {},
   "outputs": [
    {
     "name": "stdout",
     "output_type": "stream",
     "text": [
      "No of non-depressed: 95. No of depressed: 41\n"
     ]
    }
   ],
   "source": [
    "TARGET_COUNT = 120\n",
    "\n",
    "df_neg = df_train[df_train.PHQ_Binary == 0]\n",
    "df_pos = df_train[df_train.PHQ_Binary == 1]\n",
    "\n",
    "ori_neg_ids = df_neg.Participant_ID.values\n",
    "ori_pos_ids = df_pos.Participant_ID.values\n",
    "\n",
    "print(f\"No of non-depressed: {len(ori_neg_ids)}. No of depressed: {len(ori_pos_ids)}\")"
   ]
  },
  {
   "cell_type": "code",
   "execution_count": 12,
   "metadata": {},
   "outputs": [],
   "source": [
    "def get_sampling_frame(ls, target_count):\n",
    "    \"\"\"\n",
    "    Returns the sampling frame to be paraphrased, excluding the original sampling frame\n",
    "    \"\"\"\n",
    "    random.seed(42)\n",
    "    \n",
    "    new_ls = []\n",
    "    quotient = int(target_count / len(ls))\n",
    "    remainder = target_count % len(ls)\n",
    "    \n",
    "    # if target_count >= size of given list\n",
    "    if quotient > 0:\n",
    "        # only fair to get every element\n",
    "        new_ls = ls * (quotient - 1)\n",
    "    \n",
    "    # fill up the remaining spots\n",
    "    new_ls += random.sample(ls, remainder)\n",
    "    \n",
    "    return new_ls"
   ]
  },
  {
   "cell_type": "code",
   "execution_count": 13,
   "metadata": {},
   "outputs": [
    {
     "name": "stdout",
     "output_type": "stream",
     "text": [
      "[305, 307, 318, 324, 326, 331, 360, 364, 366, 368, 370, 379, 420, 423, 443, 454, 456, 468, 475, 476, 479, 482, 484, 487, 490]\n"
     ]
    }
   ],
   "source": [
    "# negative sampling frame\n",
    "aug_neg_ids = sorted(get_sampling_frame(list(ori_neg_ids), TARGET_COUNT))\n",
    "\n",
    "print(aug_neg_ids)"
   ]
  },
  {
   "cell_type": "code",
   "execution_count": 14,
   "metadata": {},
   "outputs": [
    {
     "name": "stdout",
     "output_type": "stream",
     "text": [
      "[319, 319, 320, 320, 321, 321, 325, 330, 330, 335, 335, 338, 338, 339, 339, 344, 344, 345, 346, 347, 347, 348, 348, 350, 350, 351, 351, 352, 352, 353, 353, 355, 355, 356, 356, 362, 362, 367, 367, 372, 372, 376, 376, 377, 377, 380, 380, 381, 381, 386, 386, 388, 388, 389, 389, 412, 412, 413, 413, 414, 414, 418, 418, 422, 422, 426, 426, 433, 433, 440, 440, 441, 441, 448, 448, 459, 459, 483, 483]\n"
     ]
    }
   ],
   "source": [
    "# positive sampling frame\n",
    "aug_pos_ids = sorted(get_sampling_frame(list(ori_pos_ids), TARGET_COUNT))\n",
    "\n",
    "print(aug_pos_ids)"
   ]
  },
  {
   "cell_type": "code",
   "execution_count": 15,
   "metadata": {},
   "outputs": [],
   "source": [
    "import time\n",
    "\n",
    "def get_aug_df(ori_df, aug_ls_ids):\n",
    "    aug_df = pd.DataFrame(columns=['Transcript'])\n",
    "    \n",
    "    # there is gtoken issue intermittently so paraphrasing will run into errors\n",
    "    while len(aug_ls_ids) != 0:\n",
    "\n",
    "        participant_id = aug_ls_ids[0]\n",
    "        \n",
    "        try: \n",
    "            ori_text = ori_df[ori_df.Participant_ID == participant_id][\"Transcript\"].values[0]\n",
    "            para_text = paraphrase(ori_text)[0]\n",
    "            if ori_text == para_text: # sometimes will return you the same text back\n",
    "                continue\n",
    "            else:\n",
    "                aug_df = aug_df.append({'Transcript': para_text}, ignore_index=True)\n",
    "                aug_ls_ids.remove(participant_id)\n",
    "            \n",
    "        except Exception:\n",
    "            time.sleep(2)\n",
    "    \n",
    "    return aug_df\n",
    "\n",
    "#aug_df_pos = get_aug_df(df_pos, ori_pos_ids)\n",
    "#aug_df_neg = get_aug_df(df_neg, ori_neg_ids)"
   ]
  },
  {
   "cell_type": "markdown",
   "metadata": {},
   "source": [
    "There are several issues with this paraphrasing library, which uses google translation API to another foreign language and then translate back.\n",
    "1. gtoken will raise errors and blacklist your IP\n",
    "2. Returned text might be the same or gibberish\n",
    "\n",
    "Alternatives:\n",
    "1. Use a trained [sentence generation model](https://github.com/vsuthichai/paraphraser) - worth trying only if a lot of augmentation is required.\n",
    "2. Manually use online [paraphrasing tool](https://paraphrasing-tool.com/) - more time efficient if dataset is small. We will be using this approach based on the ids generated above."
   ]
  }
 ],
 "metadata": {
  "kernelspec": {
   "display_name": "Python 3",
   "language": "python",
   "name": "python3"
  },
  "language_info": {
   "codemirror_mode": {
    "name": "ipython",
    "version": 3
   },
   "file_extension": ".py",
   "mimetype": "text/x-python",
   "name": "python",
   "nbconvert_exporter": "python",
   "pygments_lexer": "ipython3",
   "version": "3.6.10"
  }
 },
 "nbformat": 4,
 "nbformat_minor": 4
}
