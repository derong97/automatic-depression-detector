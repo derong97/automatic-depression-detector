{
  "nbformat": 4,
  "nbformat_minor": 0,
  "metadata": {
    "kernelspec": {
      "display_name": "Python 3",
      "language": "python",
      "name": "python3"
    },
    "language_info": {
      "codemirror_mode": {
        "name": "ipython",
        "version": 3
      },
      "file_extension": ".py",
      "mimetype": "text/x-python",
      "name": "python",
      "nbconvert_exporter": "python",
      "pygments_lexer": "ipython3",
      "version": "3.6.10"
    },
    "colab": {
      "name": "preliminary_data.ipynb",
      "provenance": [],
      "collapsed_sections": [],
      "toc_visible": true
    }
  },
  "cells": [
    {
      "cell_type": "markdown",
      "metadata": {
        "id": "BYKYG6VCJadd"
      },
      "source": [
        "# Import libraries"
      ]
    },
    {
      "cell_type": "code",
      "metadata": {
        "id": "6qnrbRSWJadd"
      },
      "source": [
        "import pandas as pd\n",
        "import matplotlib.pyplot as plt\n",
        "import numpy as np"
      ],
      "execution_count": 7,
      "outputs": []
    },
    {
      "cell_type": "markdown",
      "metadata": {
        "id": "gC9qSgZSJadd"
      },
      "source": [
        "# Visualization of Data Distribution"
      ]
    },
    {
      "cell_type": "code",
      "metadata": {
        "colab": {
          "base_uri": "https://localhost:8080/",
          "height": 356
        },
        "id": "5n3pt-q3Jadd",
        "outputId": "001d1c18-9e23-4f6c-baaa-2fc3d0c3d345"
      },
      "source": [
        "df = pd.read_csv(\"clean_compiled_transcripts.csv\").sort_values(by=['Participant_ID'], ascending=True)\n",
        "df.head(10)"
      ],
      "execution_count": 2,
      "outputs": [
        {
          "output_type": "execute_result",
          "data": {
            "text/html": [
              "<div>\n",
              "<style scoped>\n",
              "    .dataframe tbody tr th:only-of-type {\n",
              "        vertical-align: middle;\n",
              "    }\n",
              "\n",
              "    .dataframe tbody tr th {\n",
              "        vertical-align: top;\n",
              "    }\n",
              "\n",
              "    .dataframe thead th {\n",
              "        text-align: right;\n",
              "    }\n",
              "</style>\n",
              "<table border=\"1\" class=\"dataframe\">\n",
              "  <thead>\n",
              "    <tr style=\"text-align: right;\">\n",
              "      <th></th>\n",
              "      <th>Participant_ID</th>\n",
              "      <th>Transcript</th>\n",
              "      <th>PHQ_Score</th>\n",
              "      <th>PHQ_Binary</th>\n",
              "    </tr>\n",
              "  </thead>\n",
              "  <tbody>\n",
              "    <tr>\n",
              "      <th>0</th>\n",
              "      <td>300</td>\n",
              "      <td>good atlanta um my parents um i love it i like...</td>\n",
              "      <td>2</td>\n",
              "      <td>0</td>\n",
              "    </tr>\n",
              "    <tr>\n",
              "      <th>1</th>\n",
              "      <td>301</td>\n",
              "      <td>thank you mmm k i good thank you i los angeles...</td>\n",
              "      <td>3</td>\n",
              "      <td>0</td>\n",
              "    </tr>\n",
              "    <tr>\n",
              "      <th>2</th>\n",
              "      <td>302</td>\n",
              "      <td>i fine yourself i los angeles part okay um my ...</td>\n",
              "      <td>4</td>\n",
              "      <td>0</td>\n",
              "    </tr>\n",
              "    <tr>\n",
              "      <th>3</th>\n",
              "      <td>303</td>\n",
              "      <td>okay bout yourself yeah oh well it big broad l...</td>\n",
              "      <td>0</td>\n",
              "      <td>0</td>\n",
              "    </tr>\n",
              "    <tr>\n",
              "      <th>4</th>\n",
              "      <td>304</td>\n",
              "      <td>i good um los angeles um cool weather beaches ...</td>\n",
              "      <td>6</td>\n",
              "      <td>0</td>\n",
              "    </tr>\n",
              "    <tr>\n",
              "      <th>5</th>\n",
              "      <td>305</td>\n",
              "      <td>i alright uh originally i uh born glendale i h...</td>\n",
              "      <td>7</td>\n",
              "      <td>0</td>\n",
              "    </tr>\n",
              "    <tr>\n",
              "      <th>6</th>\n",
              "      <td>306</td>\n",
              "      <td>fine uh mhm uh career career possibilities uh ...</td>\n",
              "      <td>0</td>\n",
              "      <td>0</td>\n",
              "    </tr>\n",
              "    <tr>\n",
              "      <th>7</th>\n",
              "      <td>307</td>\n",
              "      <td>um moscow um my family moved us i moved eventu...</td>\n",
              "      <td>4</td>\n",
              "      <td>0</td>\n",
              "    </tr>\n",
              "    <tr>\n",
              "      <th>8</th>\n",
              "      <td>308</td>\n",
              "      <td>los angeles yes um southern lifestyle beaches ...</td>\n",
              "      <td>22</td>\n",
              "      <td>1</td>\n",
              "    </tr>\n",
              "    <tr>\n",
              "      <th>9</th>\n",
              "      <td>309</td>\n",
              "      <td>yeah i good uh uh acting stuff like entertain ...</td>\n",
              "      <td>15</td>\n",
              "      <td>1</td>\n",
              "    </tr>\n",
              "  </tbody>\n",
              "</table>\n",
              "</div>"
            ],
            "text/plain": [
              "   Participant_ID  ... PHQ_Binary\n",
              "0             300  ...          0\n",
              "1             301  ...          0\n",
              "2             302  ...          0\n",
              "3             303  ...          0\n",
              "4             304  ...          0\n",
              "5             305  ...          0\n",
              "6             306  ...          0\n",
              "7             307  ...          0\n",
              "8             308  ...          1\n",
              "9             309  ...          1\n",
              "\n",
              "[10 rows x 4 columns]"
            ]
          },
          "metadata": {
            "tags": []
          },
          "execution_count": 2
        }
      ]
    },
    {
      "cell_type": "code",
      "metadata": {
        "colab": {
          "base_uri": "https://localhost:8080/"
        },
        "id": "2EI0UFs0MvLY",
        "outputId": "fc48a7c7-261a-4191-8a60-e5ef9bc5fa91"
      },
      "source": [
        "X = df[\"Participant_ID\"].values \n",
        "y = df[\"PHQ_Score\"].values\n",
        "\n",
        "print(X)\n",
        "print(y)"
      ],
      "execution_count": 13,
      "outputs": [
        {
          "output_type": "stream",
          "text": [
            "[300 301 302 303 304 305 306 307 308 309 310 311 312 313 314 315 316 317\n",
            " 318 319 320 321 322 323 324 325 326 327 328 329 330 331 332 333 334 335\n",
            " 336 337 338 339 340 341 343 344 345 346 347 348 349 350 351 352 353 354\n",
            " 355 356 357 358 359 360 361 362 363 364 365 366 367 368 369 370 371 372\n",
            " 374 375 376 377 378 379 380 381 382 383 384 385 386 387 388 389 390 391\n",
            " 392 393 395 396 397 399 400 401 403 404 405 406 407 408 409 410 411 412\n",
            " 413 414 415 418 419 420 421 422 423 424 425 426 427 428 429 430 431 432\n",
            " 433 434 435 436 437 438 439 440 441 442 443 445 446 447 448 449 450 452\n",
            " 453 454 455 456 457 459 461 462 463 464 465 466 467 468 469 470 471 472\n",
            " 473 474 475 476 477 478 479 481 482 483 484 485 486 487 488 489 490 491\n",
            " 492]\n",
            "[ 2  3  4  0  6  7  0  4 22 15  4 21  2  7  1  2  6  8  3 13 11 20  5  1\n",
            "  5 10  2  4  4  1 12  8 18  5  5 12  7 10 15 11  1  7  9 11 15 23 16 20\n",
            "  5 11 14 10 11 18 10 10  7  7 13  4  0 20  0  0 12  0 19  7  0  0  9 13\n",
            "  2  5 12 16  1  2 10 16  0  7 15  8 11  2 17 14  9  9  1  2  7  5  5  7\n",
            "  7  9  0  0 17  2  3  0 10 12  0 12 10 16  3 10  3  3 10 12  0  3  6 20\n",
            "  5  0  1  3  2  1 10  2  8  0  0  2  1 19 18  6  1  1  0  1 18  2  9  1\n",
            " 17  1  1  6  3 16 17  9  0  0  2  9  0  4  3  3  0  3  0  4  6  3  2  1\n",
            "  7  7  1 15  9  2  4  0  0  3  2  8  0]\n"
          ],
          "name": "stdout"
        }
      ]
    },
    {
      "cell_type": "code",
      "metadata": {
        "id": "qsUPIvuaMaeg"
      },
      "source": [
        "def train_test(X, y, testfile):\n",
        "    test_participants = pd.read_csv(testfile)['participant_ID'].values\n",
        "    X_train = []\n",
        "    X_test = []\n",
        "    y_train = []\n",
        "    y_test = []\n",
        "    \n",
        "    for i in range(y.shape[0]):\n",
        "        participant_no = y.index[i]\n",
        "        # print(X[i])\n",
        "        \n",
        "        if participant_no in test_participants:\n",
        "            X_test.append(X[i])\n",
        "            y_test.append(y[participant_no])\n",
        "        \n",
        "        else:\n",
        "            X_train.append(X[i])\n",
        "            y_train.append(y[participant_no])\n",
        "            \n",
        "    return np.array(X_train), np.array(X_test), np.array(y_train), np.array(y_test)"
      ],
      "execution_count": 14,
      "outputs": []
    },
    {
      "cell_type": "code",
      "metadata": {
        "colab": {
          "base_uri": "https://localhost:8080/"
        },
        "id": "AOW6QfsiMbso",
        "outputId": "f5c1f29a-a49a-40b1-eff7-7a8602c51f39"
      },
      "source": [
        "testfile = './test_split_Depression_AVEC2017 (3).csv'\n",
        "y =  pd.read_csv(\"./clean_compiled_transcripts.csv\", index_col = \"Participant_ID\")['PHQ_Score']\n",
        "\n",
        "X_train, X_test, y_train, y_test = train_test(X, y, testfile)\n",
        "\n",
        "print(y_train)\n",
        "print(y_test)\n",
        "\n",
        "y_train_avg = sum(y_train)/len(y_train)\n",
        "y_test_avg = sum(y_test)/len(y_test)\n",
        "\n",
        "y_overall_avg = (sum(y_train) + sum(y_test)) / (len(y_train)+ len(y_test))\n",
        "\n",
        "print(y_train_avg)\n",
        "print(y_test_avg)\n"
      ],
      "execution_count": 30,
      "outputs": [
        {
          "output_type": "stream",
          "text": [
            "[ 4  0  6  7  4  4  2  7  2  6  8  3 13 11 20  5  5 10  2  4  4 12  8  5\n",
            " 12  7 15 11  1  7  9 11 15 23 16 20 11 14 10 11 10 10  7  7  4 20  0  0\n",
            "  0 19  7  0  0  9 13  2  5 12 16  2 10 16  0  7  8 11 17 14  9  9  1  2\n",
            "  7  5  7  9  0  0  2 10 12 10 16  3 10  3  3 12  0  6 20  5  0  1  3 10\n",
            "  2  0  0  1 19 18  1  1  0  1 18  2  1  1  6  3 16  0  0  4  0  3  0  4\n",
            "  6  3  2  1  7  1 15  9  2  4  0  0  3  2  8  0]\n",
            "[ 2  3  0 22 15 21  1  1  1 18  5 10  5 18 13  0 12  1 15  2  5  7 17  3\n",
            "  0 12  0 10  3  2  1  8  2  6  9  1 17 17  9  2  9  0  3  3  7]\n",
            "6.6911764705882355\n",
            "7.066666666666666\n"
          ],
          "name": "stdout"
        }
      ]
    },
    {
      "cell_type": "markdown",
      "metadata": {
        "id": "ACGfu3qxJade"
      },
      "source": [
        "## Histogram Plot of PHQ Score Distribution\n",
        "The higher the PHQ score, the more severe the depression."
      ]
    },
    {
      "cell_type": "code",
      "metadata": {
        "colab": {
          "base_uri": "https://localhost:8080/",
          "height": 294
        },
        "id": "ZfYlhRzANCho",
        "outputId": "a7ea9583-c175-4738-87f0-1313331b712d"
      },
      "source": [
        "plt.hist(y_train, bins=24, label = \"train\") # max score is 24\n",
        "plt.hist(y_test, bins=24, label = \"test\") # max score is 24\n",
        "plt.axvline(x = y_train_avg, linestyle = \"dotted\", label = \"train average\")\n",
        "plt.axvline(x = y_test_avg, linestyle = \"dotted\", color = \"orange\", label = \"test average\")\n",
        "plt.axvline(x = y_overall_avg, color = \"black\", label = \"overall average\")\n",
        "\n",
        "\n",
        "plt.title('Histogram Plot of PHQ Score Distribution (n={})'.format(len(df)))\n",
        "plt.ylabel('Distribution')\n",
        "plt.xlabel('PHQ Score')\n",
        "plt.legend()\n",
        "plt.show()"
      ],
      "execution_count": 32,
      "outputs": [
        {
          "output_type": "display_data",
          "data": {
            "image/png": "[encoded data removed]",
            "text/plain": [
              "<Figure size 432x288 with 1 Axes>"
            ]
          },
          "metadata": {
            "tags": [],
            "needs_background": "light"
          }
        }
      ]
    },
    {
      "cell_type": "code",
      "metadata": {
        "colab": {
          "base_uri": "https://localhost:8080/",
          "height": 294
        },
        "id": "8KlIkg1jJade",
        "outputId": "efd44db4-b1ca-4920-bb6c-f5348f45b8d1"
      },
      "source": [
        "plt.hist(df.PHQ_Score, bins=24) # max score is 24\n",
        "plt.title('Histogram Plot of PHQ Score Distribution (n={})'.format(len(df)))\n",
        "plt.ylabel('Distribution')\n",
        "plt.xlabel('PHQ Score')\n",
        "plt.show()"
      ],
      "execution_count": 3,
      "outputs": [
        {
          "output_type": "display_data",
          "data": {
            "image/png": "[encoded data removed]",
            "text/plain": [
              "<Figure size 432x288 with 1 Axes>"
            ]
          },
          "metadata": {
            "tags": [],
            "needs_background": "light"
          }
        }
      ]
    },
    {
      "cell_type": "markdown",
      "metadata": {
        "id": "Z3uLR6IwJade"
      },
      "source": [
        "## Bar Plot of Depression Cases\n",
        "A PHQ score of 10 and above is considered as depression."
      ]
    },
    {
      "cell_type": "code",
      "metadata": {
        "id": "6oDbagIrJade",
        "outputId": "e8fed8e4-2a9e-4d21-9f3d-e585623f5f7a"
      },
      "source": [
        "x_labels = [0, 1]\n",
        "\n",
        "# Convert to correct percentages in the y axis\n",
        "percent_negative = round(len(df[df.PHQ_Binary == 0]) / len(df) * 100)\n",
        "percent_positive = 100 - percent_negative\n",
        "\n",
        "y_val = [percent_negative, percent_positive]\n",
        "plt.bar(x_labels, y_val, align='center')\n",
        "plt.title('Bar Plot of Depression Cases (n={})'.format(len(df)))\n",
        "plt.ylabel('Percentage')\n",
        "plt.xlabel('Presence of depression')\n",
        "plt.xticks(x_labels)\n",
        "plt.show()"
      ],
      "execution_count": null,
      "outputs": [
        {
          "output_type": "display_data",
          "data": {
            "image/png": "[encoded data removed]",
            "text/plain": [
              "<Figure size 432x288 with 1 Axes>"
            ]
          },
          "metadata": {
            "tags": [],
            "needs_background": "light"
          }
        }
      ]
    },
    {
      "cell_type": "markdown",
      "metadata": {
        "id": "btf9-8xFJade"
      },
      "source": [
        "# Analysis of Possible Trends"
      ]
    },
    {
      "cell_type": "markdown",
      "metadata": {
        "id": "6NiUPSeQJade"
      },
      "source": [
        "## Word Count"
      ]
    },
    {
      "cell_type": "code",
      "metadata": {
        "id": "sT9PlK1GJadf",
        "outputId": "747f93f8-e2e7-4b0d-af50-0673bd2447c0"
      },
      "source": [
        "df_nondepressed = df[df.PHQ_Binary == 0].Transcript\n",
        "df_depressed = df[df.PHQ_Binary == 1].Transcript\n",
        "\n",
        "def count_words(df_transcript):\n",
        "    count = 0\n",
        "    for transcript in df_transcript:\n",
        "        words = transcript.split()\n",
        "        count += len(words)\n",
        "    return count/len(df_transcript)\n",
        "\n",
        "y_val = [count_words(df_nondepressed), count_words(df_depressed)]\n",
        "\n",
        "plt.bar(x_labels, y_val)\n",
        "plt.title('Average number of spoken words by class')\n",
        "plt.ylabel('Average number of spoken words')\n",
        "plt.xlabel('Presence of depression')\n",
        "plt.xticks(x_labels)\n",
        "plt.show()"
      ],
      "execution_count": null,
      "outputs": [
        {
          "output_type": "display_data",
          "data": {
            "image/png": "[encoded data removed]",
            "text/plain": [
              "<Figure size 432x288 with 1 Axes>"
            ]
          },
          "metadata": {
            "tags": [],
            "needs_background": "light"
          }
        }
      ]
    },
    {
      "cell_type": "markdown",
      "metadata": {
        "id": "89VAJenIJadf"
      },
      "source": [
        "There is only a 2% difference in the average number of spoken words spoken between both classes. The word count feature is unlikely to be useful in model creation."
      ]
    }
  ]
}